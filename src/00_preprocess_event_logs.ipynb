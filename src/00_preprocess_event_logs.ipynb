{
 "cells": [
  {
   "cell_type": "markdown",
   "source": [
    "# Preprocess Event Logs for Process Prediction (Process Mining)"
   ],
   "metadata": {
    "collapsed": false
   }
  },
  {
   "cell_type": "code",
   "execution_count": 2,
   "outputs": [],
   "source": [
    "import pandas as pd\n",
    "import numpy as np\n",
    "import os\n",
    "from sklearn.model_selection import train_test_split\n",
    "from sklearn.metrics import mean_absolute_error\n",
    "from catboost import CatBoostRegressor, CatBoostClassifier, Pool\n",
    "import random\n",
    "import matplotlib.pyplot as plt\n",
    "import seaborn as sns\n",
    "import pickle\n",
    "import tqdm\n",
    "pd.options.display.max_columns= None\n",
    "if \"src\" in os.getcwd():\n",
    "    os.chdir(\"../\")"
   ],
   "metadata": {
    "collapsed": false,
    "ExecuteTime": {
     "end_time": "2023-06-16T12:45:19.346667211Z",
     "start_time": "2023-06-16T12:45:19.331989767Z"
    }
   }
  },
  {
   "cell_type": "markdown",
   "source": [
    "## Configure"
   ],
   "metadata": {
    "collapsed": false
   }
  },
  {
   "cell_type": "code",
   "execution_count": 3,
   "outputs": [],
   "source": [
    "class EventLog:\n",
    "    def __init__(self, file_path, kpi, dataset):\n",
    "        self.file_path = file_path\n",
    "        self.kpi = kpi\n",
    "        self.dataset = dataset\n",
    "        # === read file to get the dataframe\n",
    "        if dataset == \"completed.csv\":\n",
    "            self.df = pd.read_csv(self.file_path)\n",
    "            self.df[start_date_name] = pd.to_numeric( self.df[start_date_name] ) // 1_000  # Convert Epochs from milliseconds to seconds\n",
    "            self.df[end_date_name] = pd.to_numeric( self.df[end_date_name] ) // 1_000  # Convert Epochs from milliseconds to seconds"
   ],
   "metadata": {
    "collapsed": false,
    "ExecuteTime": {
     "end_time": "2023-06-16T12:45:20.959429952Z",
     "start_time": "2023-06-16T12:45:20.950610588Z"
    }
   }
  },
  {
   "cell_type": "code",
   "execution_count": 4,
   "outputs": [],
   "source": [
    "# Select the dataset to use\n",
    "# data_file_path = \"./data/VINST_cases_incidents_mini.csv\"\n",
    "# data_file_path = \"./data/VINST cases incidents.csv\"\n",
    "dataset = \"VINST cases incidents.csv\"  # VINST case incident, for Total Time KPI case\n",
    "# dataset = \"completed.csv\"                # bank_account_closure"
   ],
   "metadata": {
    "collapsed": false,
    "ExecuteTime": {
     "end_time": "2023-06-16T12:45:21.388109779Z",
     "start_time": "2023-06-16T12:45:21.380116796Z"
    }
   }
  },
  {
   "cell_type": "code",
   "execution_count": 5,
   "outputs": [],
   "source": [
    "data_dir = \"./data\"\n",
    "data_file_path = os.path.join(data_dir, dataset)\n",
    "if dataset == \"completed.csv\":\n",
    "    KPI = \"activity_occurrence\"\n",
    "    case_id_name = \"REQUEST_ID\"\n",
    "    start_date_name = \"START_DATE\"\n",
    "    activity_column_name = \"ACTIVITY\"\n",
    "    end_date_name = \"END_DATE\"\n",
    "    activity_to_avoid = \"Back-Office Adjustment Requested\"\n",
    "    df = pd.read_csv(data_file_path)  # concern: what is date col position is different?\n",
    "    df[start_date_name] = pd.to_numeric( df[start_date_name] ) // 1_000  # Convert Epochs from milliseconds to seconds\n",
    "    df[end_date_name] = pd.to_numeric( df[end_date_name] ) // 1_000  # Convert Epochs from milliseconds to seconds\n",
    "\n",
    "else:\n",
    "    KPI = \"total_time\"\n",
    "    case_id_name = 'SR_Number'  # The case identifier column name.\n",
    "    start_date_name = 'Change_Date+Time'  # Maybe change to start_et (start even time)\n",
    "    activity_column_name = \"ACTIVITY\"\n",
    "    end_date_name = None\n",
    "    train_size = 0.8\n",
    "    df = pd.read_csv(data_file_path, parse_dates=[1])  # concern: what is date col position is different?\n",
    "    df[start_date_name] = df[start_date_name].view('int64') // 10**9  # 10**9 Converts nanoseconds to seconds\n",
    "\n",
    "preprocessed_data_dir = \"./preprocessed_datasets\"\n",
    "use_saved_model = False"
   ],
   "metadata": {
    "collapsed": false,
    "ExecuteTime": {
     "end_time": "2023-06-16T12:45:24.093879841Z",
     "start_time": "2023-06-16T12:45:22.183180521Z"
    }
   }
  },
  {
   "cell_type": "code",
   "execution_count": 6,
   "outputs": [
    {
     "name": "stdout",
     "output_type": "stream",
     "text": [
      "Number of rows: 65,533\n"
     ]
    },
    {
     "data": {
      "text/plain": "     SR_Number  Change_Date+Time    Status             ACTIVITY   \n0  1-364285768        1270047582  Accepted          In Progress  \\\n1  1-364285768        1270047656  Accepted          In Progress   \n2  1-364285768        1270050348    Queued  Awaiting Assignment   \n3  1-364285768        1270565047  Accepted          In Progress   \n4  1-364285768        1270565078    Queued  Awaiting Assignment   \n\n  Involved_ST_Function_Div Involved_Org_line_3 Involved_ST SR_Latest_Impact   \n0                     A2_4         Org line A2         V30           Medium  \\\n1                     A2_4         Org line A2         V30           Medium   \n2                     A2_5         Org line A2      V5 3rd           Medium   \n3                     A2_5         Org line A2      V5 3rd           Medium   \n4                     A2_4         Org line A2         V30           Medium   \n\n   Product Country Owner_Country  \n0  PROD582      fr        France  \n1  PROD582      fr        France  \n2  PROD582      fr        France  \n3  PROD582      fr        France  \n4  PROD582      fr        France  ",
      "text/html": "<div>\n<style scoped>\n    .dataframe tbody tr th:only-of-type {\n        vertical-align: middle;\n    }\n\n    .dataframe tbody tr th {\n        vertical-align: top;\n    }\n\n    .dataframe thead th {\n        text-align: right;\n    }\n</style>\n<table border=\"1\" class=\"dataframe\">\n  <thead>\n    <tr style=\"text-align: right;\">\n      <th></th>\n      <th>SR_Number</th>\n      <th>Change_Date+Time</th>\n      <th>Status</th>\n      <th>ACTIVITY</th>\n      <th>Involved_ST_Function_Div</th>\n      <th>Involved_Org_line_3</th>\n      <th>Involved_ST</th>\n      <th>SR_Latest_Impact</th>\n      <th>Product</th>\n      <th>Country</th>\n      <th>Owner_Country</th>\n    </tr>\n  </thead>\n  <tbody>\n    <tr>\n      <th>0</th>\n      <td>1-364285768</td>\n      <td>1270047582</td>\n      <td>Accepted</td>\n      <td>In Progress</td>\n      <td>A2_4</td>\n      <td>Org line A2</td>\n      <td>V30</td>\n      <td>Medium</td>\n      <td>PROD582</td>\n      <td>fr</td>\n      <td>France</td>\n    </tr>\n    <tr>\n      <th>1</th>\n      <td>1-364285768</td>\n      <td>1270047656</td>\n      <td>Accepted</td>\n      <td>In Progress</td>\n      <td>A2_4</td>\n      <td>Org line A2</td>\n      <td>V30</td>\n      <td>Medium</td>\n      <td>PROD582</td>\n      <td>fr</td>\n      <td>France</td>\n    </tr>\n    <tr>\n      <th>2</th>\n      <td>1-364285768</td>\n      <td>1270050348</td>\n      <td>Queued</td>\n      <td>Awaiting Assignment</td>\n      <td>A2_5</td>\n      <td>Org line A2</td>\n      <td>V5 3rd</td>\n      <td>Medium</td>\n      <td>PROD582</td>\n      <td>fr</td>\n      <td>France</td>\n    </tr>\n    <tr>\n      <th>3</th>\n      <td>1-364285768</td>\n      <td>1270565047</td>\n      <td>Accepted</td>\n      <td>In Progress</td>\n      <td>A2_5</td>\n      <td>Org line A2</td>\n      <td>V5 3rd</td>\n      <td>Medium</td>\n      <td>PROD582</td>\n      <td>fr</td>\n      <td>France</td>\n    </tr>\n    <tr>\n      <th>4</th>\n      <td>1-364285768</td>\n      <td>1270565078</td>\n      <td>Queued</td>\n      <td>Awaiting Assignment</td>\n      <td>A2_4</td>\n      <td>Org line A2</td>\n      <td>V30</td>\n      <td>Medium</td>\n      <td>PROD582</td>\n      <td>fr</td>\n      <td>France</td>\n    </tr>\n  </tbody>\n</table>\n</div>"
     },
     "execution_count": 6,
     "metadata": {},
     "output_type": "execute_result"
    }
   ],
   "source": [
    "print(f\"Number of rows: {len(df):,}\")\n",
    "df.head()"
   ],
   "metadata": {
    "collapsed": false,
    "ExecuteTime": {
     "end_time": "2023-06-16T12:45:24.715832305Z",
     "start_time": "2023-06-16T12:45:24.647632309Z"
    }
   }
  },
  {
   "cell_type": "markdown",
   "source": [
    "## Clean the Dataset"
   ],
   "metadata": {
    "collapsed": false
   }
  },
  {
   "cell_type": "code",
   "execution_count": 7,
   "outputs": [],
   "source": [
    "def move_essential_columns(df, case_id_name: str, start_date_name: str) -> pd.DataFrame:\n",
    "    \"\"\"\n",
    "    Puts the column `case_id_name` and `start_date_name` in start and then the rest of the\n",
    "    columns\n",
    "    \"\"\"\n",
    "    columns = df.columns.to_list()\n",
    "    columns.remove(case_id_name)\n",
    "    columns.remove(start_date_name)\n",
    "    df = df[[case_id_name, start_date_name] + columns]\n",
    "    return df\n",
    "\n",
    "def sort_df_case_id_n_time(df, case_id_name: str, start_date_name: str) -> pd.DataFrame:\n",
    "    \"\"\" Sorts in ascending order according the case-ids and start-date time \"\"\"\n",
    "    df = df.sort_values([case_id_name, start_date_name], axis=0, ascending=True, kind='quicksort', na_position='last')\n",
    "    return df"
   ],
   "metadata": {
    "collapsed": false,
    "ExecuteTime": {
     "end_time": "2023-06-16T12:45:26.205437433Z",
     "start_time": "2023-06-16T12:45:26.198121706Z"
    }
   }
  },
  {
   "cell_type": "code",
   "execution_count": 8,
   "outputs": [],
   "source": [
    "df = df.fillna(\"missing\")  # Replace all NaN values with the keyword \"missing\n",
    "df = move_essential_columns(df, case_id_name, start_date_name)\n",
    "# Maybe use this or the function\n",
    "df = df.sort_values([case_id_name, start_date_name], axis=0, ascending=True, kind='quicksort', na_position='last')"
   ],
   "metadata": {
    "collapsed": false,
    "ExecuteTime": {
     "end_time": "2023-06-16T12:45:27.085886849Z",
     "start_time": "2023-06-16T12:45:27.000829245Z"
    }
   }
  },
  {
   "cell_type": "markdown",
   "source": [
    "## Preprocess the dataset"
   ],
   "metadata": {
    "collapsed": false
   }
  },
  {
   "cell_type": "code",
   "execution_count": 9,
   "outputs": [],
   "source": [
    "from datetime import datetime"
   ],
   "metadata": {
    "collapsed": false,
    "ExecuteTime": {
     "end_time": "2023-06-16T12:45:28.171511820Z",
     "start_time": "2023-06-16T12:45:28.164998241Z"
    }
   }
  },
  {
   "cell_type": "code",
   "execution_count": 10,
   "outputs": [],
   "source": [
    "# === Fix Time Columns\n",
    "if dataset == \"completed.csv\":\n",
    "    df[start_date_name] = pd.to_datetime( df[start_date_name], unit='s')\n",
    "    df[end_date_name] = pd.to_datetime( df[end_date_name], unit='s')\n",
    "    df.to_csv(\"bank-acc_v2.csv\", index=False)"
   ],
   "metadata": {
    "collapsed": false,
    "ExecuteTime": {
     "end_time": "2023-06-16T12:45:28.618858005Z",
     "start_time": "2023-06-16T12:45:28.610793858Z"
    }
   }
  },
  {
   "cell_type": "code",
   "execution_count": 11,
   "outputs": [],
   "source": [
    "# ====== For developing attributes that are specific to an entire trace\n",
    "# gdf = df.groupby(case_id_name)\n",
    "# for case_id, group in gdf:\n",
    "#     print(group)\n",
    "#     if end_date_name is not None:\n",
    "#         print( group[end_date_name] - group[start_date_name] )\n",
    "#     break"
   ],
   "metadata": {
    "collapsed": false,
    "ExecuteTime": {
     "end_time": "2023-06-16T12:45:29.033263465Z",
     "start_time": "2023-06-16T12:45:29.021835933Z"
    }
   }
  },
  {
   "cell_type": "code",
   "execution_count": 12,
   "outputs": [],
   "source": [
    "def get_time_from_midnight(dt_obj: pd.Timestamp) -> int:\n",
    "    \"\"\"\n",
    "    :param dt_obj: Is a datetime object.\n",
    "    Return seconds elapsed from midnight (or day start 00:00:00)\n",
    "    \"\"\"\n",
    "    return dt_obj.hour * 3600 + dt_obj.minute * 60 + dt_obj.second\n",
    "\n",
    "def add_features(df, case_id_name: str, start_date_name: str, end_date_name=None) -> pd.DataFrame:\n",
    "    \"\"\"\n",
    "    Times that are integer are in seconds.\n",
    "    \"\"\"\n",
    "    df[\"time_from_first\"] = 0\n",
    "    df[\"time_from_previous_et\"] = 0\n",
    "    df[\"time_from_midnight\"] = 0\n",
    "    df[\"weekday\"] = 0\n",
    "    if end_date_name is not None:\n",
    "        df[\"activity_duration\"] = 0\n",
    "    df[\"time_remaining\"] = 0\n",
    "\n",
    "    gdf = df.groupby(case_id_name)\n",
    "    i = 0\n",
    "    for case_id, group in gdf:\n",
    "\n",
    "        case_first_time = group[start_date_name].min()  # The timestamp at the first event of the 'case'\n",
    "        case_last_time = group[start_date_name].max()   # The timestamp of the last event of the 'case'.\n",
    "        # Note last event may not be the ending or final event e.g. a running case.\n",
    "\n",
    "        # Expression in brackets return a series, we apply the desired function on all elements using .apply(...)\n",
    "        time_from_first = group[start_date_name] - case_first_time\n",
    "\n",
    "        time_from_previous_et =  group[start_date_name].diff()\n",
    "        time_from_previous_et = time_from_previous_et.fillna(0)  # edge case where is first row has a zero\n",
    "\n",
    "        time_from_midnight = pd.to_datetime( group[start_date_name], unit='s' ).apply(lambda x: get_time_from_midnight(x))\n",
    "\n",
    "        # dt: Accessor object for datetimelike properties of the Series' values.\n",
    "        weekday_number = pd.to_datetime( group[start_date_name], unit='s' ).dt.dayofweek\n",
    "        weekday_str = weekday_number.replace({0: \"Monday\", 1: \"Tuesday\", 2: \"Wednesday\",\n",
    "                                              3: \"Thursday\", 4: \"Friday\", 5: \"Saturday\", 6: \"Sunday\"})\n",
    "        if end_date_name is not None:\n",
    "            activity_duration = group[end_date_name] - group[start_date_name]\n",
    "            df.loc[group.index, \"activity_duration\"] = activity_duration\n",
    "\n",
    "        time_remaining = case_last_time - group[start_date_name]\n",
    "\n",
    "        # # # Set values in the dataframe at the index corresponding to the group's case-id.\n",
    "        # Maybe possible to optimize.\n",
    "        # Possible way 1: Create a mini-df from group augment it with new features and at the end pd.concat all the mini-dfs\n",
    "        df.loc[group.index, \"time_from_first\"] = time_from_first\n",
    "        df.loc[group.index, \"time_from_previous_et\"] = time_from_previous_et\n",
    "        df.loc[group.index, \"time_from_midnight\"] = time_from_midnight\n",
    "        df.loc[group.index, \"weekday\"] = weekday_str\n",
    "        df.loc[group.index, \"time_remaining\"] = time_remaining\n",
    "\n",
    "    return df\n",
    "\"\"\"\n",
    "Given a trace we want to create all prefixes of it. E.g. trace: <a, b, c> then prefixes: {<a>, <a,b>, <a,b,c>}.\n",
    "Here the letters denote activities. Next, just like a trace has a KPI value, all its prefixes are associated\n",
    "with the same prefix value.\n",
    "\n",
    "This function implements the aggregated history version of creating prefixes from traces. The idea is that we\n",
    "create a different column for each activity, then within a trace (or case) the counter value keeps track of how many\n",
    "times an activity has occurred. View the before and after CSVs for a better understanding.\n",
    "\"\"\"\n",
    "\n",
    "def add_aggregated_history(df, case_id_name, activity_column_name) -> pd.DataFrame:\n",
    "\n",
    "    for activity in df[activity_column_name].unique():\n",
    "        df[f\"# {activity_column_name}={activity}\"] = 0\n",
    "        # first put 1 in correspondence to each activity\n",
    "        df.loc[df[activity_column_name] == activity, f\"# {activity_column_name}={activity}\"] = 1\n",
    "        # sum the count from the previous events\n",
    "        df[f\"# {activity_column_name}={activity}\"] = df.groupby(case_id_name)[f\"# {activity_column_name}={activity}\"].cumsum()\n",
    "    return df\n",
    "\n",
    "def change_history(df, activity_column_name=\"ACTIVITY\"):\n",
    "    for i, row in df.iterrows():\n",
    "        act = df.at[i, activity_column_name]\n",
    "        if df.at[i, '# ' + activity_column_name + '=' + act] != 0:\n",
    "            df.at[i, '# ' + activity_column_name + '=' + act] -= 1\n",
    "    return df"
   ],
   "metadata": {
    "collapsed": false,
    "ExecuteTime": {
     "end_time": "2023-06-16T12:45:29.577026494Z",
     "start_time": "2023-06-16T12:45:29.546309438Z"
    }
   }
  },
  {
   "cell_type": "code",
   "execution_count": 13,
   "outputs": [],
   "source": [
    "df = add_features(df, case_id_name, start_date_name, end_date_name)\n",
    "df = add_aggregated_history(df, case_id_name, activity_column_name)\n",
    "df = change_history(df, activity_column_name=activity_column_name)"
   ],
   "metadata": {
    "collapsed": false,
    "ExecuteTime": {
     "end_time": "2023-06-16T12:46:24.251304153Z",
     "start_time": "2023-06-16T12:45:30.930831180Z"
    }
   }
  },
  {
   "cell_type": "code",
   "execution_count": 14,
   "outputs": [
    {
     "data": {
      "text/plain": "     SR_Number  Change_Date+Time    Status             ACTIVITY   \n0  1-364285768        1270047582  Accepted          In Progress  \\\n1  1-364285768        1270047656  Accepted          In Progress   \n2  1-364285768        1270050348    Queued  Awaiting Assignment   \n3  1-364285768        1270565047  Accepted          In Progress   \n4  1-364285768        1270565078    Queued  Awaiting Assignment   \n5  1-364285768        1270565087  Accepted          In Progress   \n\n  Involved_ST_Function_Div Involved_Org_line_3  Involved_ST SR_Latest_Impact   \n0                     A2_4         Org line A2          V30           Medium  \\\n1                     A2_4         Org line A2          V30           Medium   \n2                     A2_5         Org line A2       V5 3rd           Medium   \n3                     A2_5         Org line A2       V5 3rd           Medium   \n4                     A2_4         Org line A2          V30           Medium   \n5                     A2_5         Org line A2  V13 2nd 3rd           Medium   \n\n   Product Country Owner_Country  time_from_first  time_from_previous_et   \n0  PROD582      fr        France                0                      0  \\\n1  PROD582      fr        France               74                     74   \n2  PROD582      fr        France             2766                   2692   \n3  PROD582      fr        France           517465                 514699   \n4  PROD582      fr        France           517496                     31   \n5  PROD582      fr        France           517505                      9   \n\n   time_from_midnight    weekday  time_remaining  # ACTIVITY=In Progress   \n0               53982  Wednesday        66644793                       0  \\\n1               54056  Wednesday        66644719                       1   \n2               56748  Wednesday        66642027                       2   \n3               53047    Tuesday        66127328                       2   \n4               53078    Tuesday        66127297                       3   \n5               53087    Tuesday        66127288                       3   \n\n   # ACTIVITY=Awaiting Assignment  # ACTIVITY=Resolved  # ACTIVITY=Assigned   \n0                               0                    0                    0  \\\n1                               0                    0                    0   \n2                               0                    0                    0   \n3                               1                    0                    0   \n4                               1                    0                    0   \n5                               2                    0                    0   \n\n   # ACTIVITY=Closed  # ACTIVITY=Wait - User   \n0                  0                       0  \\\n1                  0                       0   \n2                  0                       0   \n3                  0                       0   \n4                  0                       0   \n5                  0                       0   \n\n   # ACTIVITY=Wait - Implementation  # ACTIVITY=Wait   \n0                                 0                0  \\\n1                                 0                0   \n2                                 0                0   \n3                                 0                0   \n4                                 0                0   \n5                                 0                0   \n\n   # ACTIVITY=Wait - Vendor  # ACTIVITY=In Call  # ACTIVITY=Wait - Customer   \n0                         0                   0                           0  \\\n1                         0                   0                           0   \n2                         0                   0                           0   \n3                         0                   0                           0   \n4                         0                   0                           0   \n5                         0                   0                           0   \n\n   # ACTIVITY=Unmatched  # ACTIVITY=Cancelled  \n0                     0                     0  \n1                     0                     0  \n2                     0                     0  \n3                     0                     0  \n4                     0                     0  \n5                     0                     0  ",
      "text/html": "<div>\n<style scoped>\n    .dataframe tbody tr th:only-of-type {\n        vertical-align: middle;\n    }\n\n    .dataframe tbody tr th {\n        vertical-align: top;\n    }\n\n    .dataframe thead th {\n        text-align: right;\n    }\n</style>\n<table border=\"1\" class=\"dataframe\">\n  <thead>\n    <tr style=\"text-align: right;\">\n      <th></th>\n      <th>SR_Number</th>\n      <th>Change_Date+Time</th>\n      <th>Status</th>\n      <th>ACTIVITY</th>\n      <th>Involved_ST_Function_Div</th>\n      <th>Involved_Org_line_3</th>\n      <th>Involved_ST</th>\n      <th>SR_Latest_Impact</th>\n      <th>Product</th>\n      <th>Country</th>\n      <th>Owner_Country</th>\n      <th>time_from_first</th>\n      <th>time_from_previous_et</th>\n      <th>time_from_midnight</th>\n      <th>weekday</th>\n      <th>time_remaining</th>\n      <th># ACTIVITY=In Progress</th>\n      <th># ACTIVITY=Awaiting Assignment</th>\n      <th># ACTIVITY=Resolved</th>\n      <th># ACTIVITY=Assigned</th>\n      <th># ACTIVITY=Closed</th>\n      <th># ACTIVITY=Wait - User</th>\n      <th># ACTIVITY=Wait - Implementation</th>\n      <th># ACTIVITY=Wait</th>\n      <th># ACTIVITY=Wait - Vendor</th>\n      <th># ACTIVITY=In Call</th>\n      <th># ACTIVITY=Wait - Customer</th>\n      <th># ACTIVITY=Unmatched</th>\n      <th># ACTIVITY=Cancelled</th>\n    </tr>\n  </thead>\n  <tbody>\n    <tr>\n      <th>0</th>\n      <td>1-364285768</td>\n      <td>1270047582</td>\n      <td>Accepted</td>\n      <td>In Progress</td>\n      <td>A2_4</td>\n      <td>Org line A2</td>\n      <td>V30</td>\n      <td>Medium</td>\n      <td>PROD582</td>\n      <td>fr</td>\n      <td>France</td>\n      <td>0</td>\n      <td>0</td>\n      <td>53982</td>\n      <td>Wednesday</td>\n      <td>66644793</td>\n      <td>0</td>\n      <td>0</td>\n      <td>0</td>\n      <td>0</td>\n      <td>0</td>\n      <td>0</td>\n      <td>0</td>\n      <td>0</td>\n      <td>0</td>\n      <td>0</td>\n      <td>0</td>\n      <td>0</td>\n      <td>0</td>\n    </tr>\n    <tr>\n      <th>1</th>\n      <td>1-364285768</td>\n      <td>1270047656</td>\n      <td>Accepted</td>\n      <td>In Progress</td>\n      <td>A2_4</td>\n      <td>Org line A2</td>\n      <td>V30</td>\n      <td>Medium</td>\n      <td>PROD582</td>\n      <td>fr</td>\n      <td>France</td>\n      <td>74</td>\n      <td>74</td>\n      <td>54056</td>\n      <td>Wednesday</td>\n      <td>66644719</td>\n      <td>1</td>\n      <td>0</td>\n      <td>0</td>\n      <td>0</td>\n      <td>0</td>\n      <td>0</td>\n      <td>0</td>\n      <td>0</td>\n      <td>0</td>\n      <td>0</td>\n      <td>0</td>\n      <td>0</td>\n      <td>0</td>\n    </tr>\n    <tr>\n      <th>2</th>\n      <td>1-364285768</td>\n      <td>1270050348</td>\n      <td>Queued</td>\n      <td>Awaiting Assignment</td>\n      <td>A2_5</td>\n      <td>Org line A2</td>\n      <td>V5 3rd</td>\n      <td>Medium</td>\n      <td>PROD582</td>\n      <td>fr</td>\n      <td>France</td>\n      <td>2766</td>\n      <td>2692</td>\n      <td>56748</td>\n      <td>Wednesday</td>\n      <td>66642027</td>\n      <td>2</td>\n      <td>0</td>\n      <td>0</td>\n      <td>0</td>\n      <td>0</td>\n      <td>0</td>\n      <td>0</td>\n      <td>0</td>\n      <td>0</td>\n      <td>0</td>\n      <td>0</td>\n      <td>0</td>\n      <td>0</td>\n    </tr>\n    <tr>\n      <th>3</th>\n      <td>1-364285768</td>\n      <td>1270565047</td>\n      <td>Accepted</td>\n      <td>In Progress</td>\n      <td>A2_5</td>\n      <td>Org line A2</td>\n      <td>V5 3rd</td>\n      <td>Medium</td>\n      <td>PROD582</td>\n      <td>fr</td>\n      <td>France</td>\n      <td>517465</td>\n      <td>514699</td>\n      <td>53047</td>\n      <td>Tuesday</td>\n      <td>66127328</td>\n      <td>2</td>\n      <td>1</td>\n      <td>0</td>\n      <td>0</td>\n      <td>0</td>\n      <td>0</td>\n      <td>0</td>\n      <td>0</td>\n      <td>0</td>\n      <td>0</td>\n      <td>0</td>\n      <td>0</td>\n      <td>0</td>\n    </tr>\n    <tr>\n      <th>4</th>\n      <td>1-364285768</td>\n      <td>1270565078</td>\n      <td>Queued</td>\n      <td>Awaiting Assignment</td>\n      <td>A2_4</td>\n      <td>Org line A2</td>\n      <td>V30</td>\n      <td>Medium</td>\n      <td>PROD582</td>\n      <td>fr</td>\n      <td>France</td>\n      <td>517496</td>\n      <td>31</td>\n      <td>53078</td>\n      <td>Tuesday</td>\n      <td>66127297</td>\n      <td>3</td>\n      <td>1</td>\n      <td>0</td>\n      <td>0</td>\n      <td>0</td>\n      <td>0</td>\n      <td>0</td>\n      <td>0</td>\n      <td>0</td>\n      <td>0</td>\n      <td>0</td>\n      <td>0</td>\n      <td>0</td>\n    </tr>\n    <tr>\n      <th>5</th>\n      <td>1-364285768</td>\n      <td>1270565087</td>\n      <td>Accepted</td>\n      <td>In Progress</td>\n      <td>A2_5</td>\n      <td>Org line A2</td>\n      <td>V13 2nd 3rd</td>\n      <td>Medium</td>\n      <td>PROD582</td>\n      <td>fr</td>\n      <td>France</td>\n      <td>517505</td>\n      <td>9</td>\n      <td>53087</td>\n      <td>Tuesday</td>\n      <td>66127288</td>\n      <td>3</td>\n      <td>2</td>\n      <td>0</td>\n      <td>0</td>\n      <td>0</td>\n      <td>0</td>\n      <td>0</td>\n      <td>0</td>\n      <td>0</td>\n      <td>0</td>\n      <td>0</td>\n      <td>0</td>\n      <td>0</td>\n    </tr>\n  </tbody>\n</table>\n</div>"
     },
     "execution_count": 14,
     "metadata": {},
     "output_type": "execute_result"
    }
   ],
   "source": [
    "df[:6]"
   ],
   "metadata": {
    "collapsed": false,
    "ExecuteTime": {
     "end_time": "2023-06-16T12:46:24.312490263Z",
     "start_time": "2023-06-16T12:46:24.214022529Z"
    }
   }
  },
  {
   "cell_type": "markdown",
   "source": [
    "## Base on the KPI create the label (or y) column.\n",
    "This column is maybe the KPI column for a given prefix? (? means not sure)\n",
    "### KPI Activity Occurrence\n",
    "TODO\n",
    "- If the activity occurs more than once in the trace, This code puts 0 from the 1st occurrence, but the OG code puts 0 from the last occurrence.\n",
    "-"
   ],
   "metadata": {
    "collapsed": false
   }
  },
  {
   "cell_type": "code",
   "execution_count": 15,
   "outputs": [],
   "source": [
    "def add_act_to_stop(df, activity_column_name=activity_column_name, activity_to_avoid=None):\n",
    "    \"\"\"\n",
    "    Args:\n",
    "        df (pd.DataFrame):\n",
    "        activity_to_avoid: A column of this activity name is added. Next, if an activity with this value is present\n",
    "                        in a trace, the trace rows, till the activity row, get a value of 1. This 1 is placed in\n",
    "                        the column labelled `activity_to_avoid`.\n",
    "    Returns:\n",
    "        df (pd.DataFrame):\n",
    "    \"\"\"\n",
    "    df[ activity_to_avoid ] = 0\n",
    "    gdf = df.groupby(case_id_name)\n",
    "    i = 0\n",
    "\n",
    "    for case_id, group in gdf:\n",
    "\n",
    "        # If activity_to_stop is in the trace\n",
    "        if activity_to_avoid in group[activity_column_name].to_list():\n",
    "            # print( activity_to_stop in group[activity_column_name].to_list() )\n",
    "            pass\n",
    "\n",
    "            # Get index of first occurrence of the activity_to_stop\n",
    "            # print( group.index[ group[activity_column_name] == activity_to_avoid ].values[0] )\n",
    "            index_of_first_occurrence = group.index[group[activity_column_name] == activity_to_avoid].values[0]\n",
    "\n",
    "            # Using group.loc makes sure the scope of assignment starts from the start of the trace only\n",
    "            # Rest of the dataframe is not affected.\n",
    "            # -1, cuz we don't want value of `1` in the row of activity_to_stop & with .loc the end is inclusive\n",
    "            group.loc[ :index_of_first_occurrence - 1, activity_to_avoid ] = 1\n",
    "            # print(\"==\", group.loc[ :index_of_first_occurrence - 1, : ] )\n",
    "\n",
    "            # using group.index is safer to access the main dataframe. This access the part of the main dataframe\n",
    "            # that corresponds to the group dataframe slice.\n",
    "            df.loc[ group.index, activity_to_avoid ] = group[activity_to_avoid]\n",
    "            # print( df.loc[ group.index, activity_to_stop ] )\n",
    "            # print( group.index )\n",
    "        i += 1\n",
    "        # if i == 30:\n",
    "        #     break\n",
    "\n",
    "    return df"
   ],
   "metadata": {
    "collapsed": false,
    "ExecuteTime": {
     "end_time": "2023-06-16T12:46:42.950724090Z",
     "start_time": "2023-06-16T12:46:42.897745109Z"
    }
   }
  },
  {
   "cell_type": "code",
   "execution_count": 16,
   "outputs": [],
   "source": [
    "if KPI == \"total_time\":\n",
    "    leadtime_per_case = df.groupby(case_id_name).agg(\"first\")[\"time_remaining\"]\n",
    "    df[\"lead_time\"] = df[case_id_name].map(leadtime_per_case)\n",
    "    target_column_name = 'lead_time'\n",
    "elif KPI == \"activity_occurrence\":\n",
    "    # In this case activity_to_avoid becomes the target (or y) column for the ML problem.\n",
    "    df = add_act_to_stop(df, activity_column_name=activity_column_name, activity_to_avoid=activity_to_avoid)\n"
   ],
   "metadata": {
    "collapsed": false,
    "ExecuteTime": {
     "end_time": "2023-06-16T12:46:44.782863577Z",
     "start_time": "2023-06-16T12:46:44.705083570Z"
    }
   }
  },
  {
   "cell_type": "code",
   "execution_count": 17,
   "outputs": [],
   "source": [
    "def remove_two_step_traces(df):\n",
    "    gdf = df.groupby(case_id_name)\n",
    "    indexes_to_drop = []\n",
    "    # i = 0\n",
    "    for case_id, group in gdf:\n",
    "\n",
    "        if len(group) < 3:\n",
    "            indexes_to_drop.extend(group.index)\n",
    "\n",
    "        # i += 1\n",
    "        # if i == 4:\n",
    "        #     break\n",
    "\n",
    "    df = df.drop( indexes_to_drop ).reset_index(drop=True)\n",
    "    return df"
   ],
   "metadata": {
    "collapsed": false,
    "ExecuteTime": {
     "end_time": "2023-06-16T12:46:45.714105605Z",
     "start_time": "2023-06-16T12:46:45.708867653Z"
    }
   }
  },
  {
   "cell_type": "markdown",
   "source": [
    "# ------ temp"
   ],
   "metadata": {
    "collapsed": false
   }
  },
  {
   "cell_type": "code",
   "execution_count": 18,
   "outputs": [],
   "source": [
    "# df = df.drop( df.index[ df[\"time_remaining\"] == 0 ] ).reset_index(drop=True)\n",
    "#\n",
    "# gdf = df.groupby(case_id_name)\n",
    "# indexes_to_drop = []\n",
    "# # i = 0\n",
    "# for case_id, group in gdf:\n",
    "#     if len(group) < 3:\n",
    "#         # print( case_id )\n",
    "#         indexes_to_drop.append(case_id)\n",
    "#\n",
    "# indexes_to_drop"
   ],
   "metadata": {
    "collapsed": false,
    "ExecuteTime": {
     "end_time": "2023-06-16T12:46:47.373993257Z",
     "start_time": "2023-06-16T12:46:47.365567967Z"
    }
   }
  },
  {
   "cell_type": "code",
   "execution_count": 19,
   "outputs": [],
   "source": [
    "# # Create a CSV to send to prof\n",
    "# # CSV contains cases that have length = 2 after removing time_remaining = 0 rows\n",
    "# df_temp = pd.DataFrame(columns=df.columns)\n",
    "# for case_id in indexes_to_drop:\n",
    "#     df_small = df[df[case_id_name] == case_id].copy()\n",
    "#     df_temp = pd.concat([df_temp, df_small], axis='rows')\n",
    "# df_temp.to_csv(\"VINST_size-3_cases.csv\", index=False)"
   ],
   "metadata": {
    "collapsed": false,
    "ExecuteTime": {
     "end_time": "2023-06-16T12:46:47.586968241Z",
     "start_time": "2023-06-16T12:46:47.571130718Z"
    }
   }
  },
  {
   "cell_type": "markdown",
   "source": [
    "# ----------"
   ],
   "metadata": {
    "collapsed": false
   }
  },
  {
   "cell_type": "code",
   "execution_count": 20,
   "outputs": [
    {
     "name": "stdout",
     "output_type": "stream",
     "text": [
      "Number of cases Before: 7,553\n",
      "Number of cases with length less than 3: 1,771\n",
      "Percentage of cases dropped: 23.44763670064875%\n",
      "Number of cases After: 5,782\n"
     ]
    }
   ],
   "source": [
    "# Remove rows where remaining_time=0\n",
    "df = df.drop( df.index[ df[\"time_remaining\"] == 0 ] ).reset_index(drop=True)\n",
    "\n",
    "# Remove rows where with trace length <= 2\n",
    "before_cases = len(df[case_id_name].unique())\n",
    "df = remove_two_step_traces(df)\n",
    "\n",
    "after_cases = len(df[case_id_name].unique())\n",
    "print(f\"Number of cases Before: {before_cases:,}\")\n",
    "print(f\"Number of cases with length less than 3: {(before_cases - after_cases):,}\")\n",
    "print(f\"Percentage of cases dropped: {( (before_cases - after_cases) / before_cases) * 100}%\")\n",
    "print(f\"Number of cases After: {after_cases:,}\")"
   ],
   "metadata": {
    "collapsed": false,
    "ExecuteTime": {
     "end_time": "2023-06-16T12:46:49.193682531Z",
     "start_time": "2023-06-16T12:46:48.810715099Z"
    }
   }
  },
  {
   "cell_type": "code",
   "execution_count": 21,
   "outputs": [],
   "source": [
    "# \"\"\"\n",
    "# Not sure why the target_column is created and later on merged anyway\n",
    "# \"\"\"\n",
    "# target_column = df[target_column_name].copy()\n",
    "# df = df.drop(columns=[target_column_name, \"time_remaining\"])"
   ],
   "metadata": {
    "collapsed": false,
    "ExecuteTime": {
     "end_time": "2023-06-16T12:46:52.244929195Z",
     "start_time": "2023-06-16T12:46:52.237302323Z"
    }
   }
  },
  {
   "cell_type": "code",
   "execution_count": 23,
   "outputs": [
    {
     "data": {
      "text/plain": "     SR_Number  Change_Date+Time    Status             ACTIVITY   \n0  1-364285768        1270047582  Accepted          In Progress  \\\n1  1-364285768        1270047656  Accepted          In Progress   \n2  1-364285768        1270050348    Queued  Awaiting Assignment   \n3  1-364285768        1270565047  Accepted          In Progress   \n4  1-364285768        1270565078    Queued  Awaiting Assignment   \n\n  Involved_ST_Function_Div Involved_Org_line_3 Involved_ST SR_Latest_Impact   \n0                     A2_4         Org line A2         V30           Medium  \\\n1                     A2_4         Org line A2         V30           Medium   \n2                     A2_5         Org line A2      V5 3rd           Medium   \n3                     A2_5         Org line A2      V5 3rd           Medium   \n4                     A2_4         Org line A2         V30           Medium   \n\n   Product Country Owner_Country  time_from_first  time_from_previous_et   \n0  PROD582      fr        France                0                      0  \\\n1  PROD582      fr        France               74                     74   \n2  PROD582      fr        France             2766                   2692   \n3  PROD582      fr        France           517465                 514699   \n4  PROD582      fr        France           517496                     31   \n\n   time_from_midnight    weekday  time_remaining  # ACTIVITY=In Progress   \n0               53982  Wednesday        66644793                       0  \\\n1               54056  Wednesday        66644719                       1   \n2               56748  Wednesday        66642027                       2   \n3               53047    Tuesday        66127328                       2   \n4               53078    Tuesday        66127297                       3   \n\n   # ACTIVITY=Awaiting Assignment  # ACTIVITY=Resolved  # ACTIVITY=Assigned   \n0                               0                    0                    0  \\\n1                               0                    0                    0   \n2                               0                    0                    0   \n3                               1                    0                    0   \n4                               1                    0                    0   \n\n   # ACTIVITY=Closed  # ACTIVITY=Wait - User   \n0                  0                       0  \\\n1                  0                       0   \n2                  0                       0   \n3                  0                       0   \n4                  0                       0   \n\n   # ACTIVITY=Wait - Implementation  # ACTIVITY=Wait   \n0                                 0                0  \\\n1                                 0                0   \n2                                 0                0   \n3                                 0                0   \n4                                 0                0   \n\n   # ACTIVITY=Wait - Vendor  # ACTIVITY=In Call  # ACTIVITY=Wait - Customer   \n0                         0                   0                           0  \\\n1                         0                   0                           0   \n2                         0                   0                           0   \n3                         0                   0                           0   \n4                         0                   0                           0   \n\n   # ACTIVITY=Unmatched  # ACTIVITY=Cancelled  lead_time  \n0                     0                     0   66644793  \n1                     0                     0   66644793  \n2                     0                     0   66644793  \n3                     0                     0   66644793  \n4                     0                     0   66644793  ",
      "text/html": "<div>\n<style scoped>\n    .dataframe tbody tr th:only-of-type {\n        vertical-align: middle;\n    }\n\n    .dataframe tbody tr th {\n        vertical-align: top;\n    }\n\n    .dataframe thead th {\n        text-align: right;\n    }\n</style>\n<table border=\"1\" class=\"dataframe\">\n  <thead>\n    <tr style=\"text-align: right;\">\n      <th></th>\n      <th>SR_Number</th>\n      <th>Change_Date+Time</th>\n      <th>Status</th>\n      <th>ACTIVITY</th>\n      <th>Involved_ST_Function_Div</th>\n      <th>Involved_Org_line_3</th>\n      <th>Involved_ST</th>\n      <th>SR_Latest_Impact</th>\n      <th>Product</th>\n      <th>Country</th>\n      <th>Owner_Country</th>\n      <th>time_from_first</th>\n      <th>time_from_previous_et</th>\n      <th>time_from_midnight</th>\n      <th>weekday</th>\n      <th>time_remaining</th>\n      <th># ACTIVITY=In Progress</th>\n      <th># ACTIVITY=Awaiting Assignment</th>\n      <th># ACTIVITY=Resolved</th>\n      <th># ACTIVITY=Assigned</th>\n      <th># ACTIVITY=Closed</th>\n      <th># ACTIVITY=Wait - User</th>\n      <th># ACTIVITY=Wait - Implementation</th>\n      <th># ACTIVITY=Wait</th>\n      <th># ACTIVITY=Wait - Vendor</th>\n      <th># ACTIVITY=In Call</th>\n      <th># ACTIVITY=Wait - Customer</th>\n      <th># ACTIVITY=Unmatched</th>\n      <th># ACTIVITY=Cancelled</th>\n      <th>lead_time</th>\n    </tr>\n  </thead>\n  <tbody>\n    <tr>\n      <th>0</th>\n      <td>1-364285768</td>\n      <td>1270047582</td>\n      <td>Accepted</td>\n      <td>In Progress</td>\n      <td>A2_4</td>\n      <td>Org line A2</td>\n      <td>V30</td>\n      <td>Medium</td>\n      <td>PROD582</td>\n      <td>fr</td>\n      <td>France</td>\n      <td>0</td>\n      <td>0</td>\n      <td>53982</td>\n      <td>Wednesday</td>\n      <td>66644793</td>\n      <td>0</td>\n      <td>0</td>\n      <td>0</td>\n      <td>0</td>\n      <td>0</td>\n      <td>0</td>\n      <td>0</td>\n      <td>0</td>\n      <td>0</td>\n      <td>0</td>\n      <td>0</td>\n      <td>0</td>\n      <td>0</td>\n      <td>66644793</td>\n    </tr>\n    <tr>\n      <th>1</th>\n      <td>1-364285768</td>\n      <td>1270047656</td>\n      <td>Accepted</td>\n      <td>In Progress</td>\n      <td>A2_4</td>\n      <td>Org line A2</td>\n      <td>V30</td>\n      <td>Medium</td>\n      <td>PROD582</td>\n      <td>fr</td>\n      <td>France</td>\n      <td>74</td>\n      <td>74</td>\n      <td>54056</td>\n      <td>Wednesday</td>\n      <td>66644719</td>\n      <td>1</td>\n      <td>0</td>\n      <td>0</td>\n      <td>0</td>\n      <td>0</td>\n      <td>0</td>\n      <td>0</td>\n      <td>0</td>\n      <td>0</td>\n      <td>0</td>\n      <td>0</td>\n      <td>0</td>\n      <td>0</td>\n      <td>66644793</td>\n    </tr>\n    <tr>\n      <th>2</th>\n      <td>1-364285768</td>\n      <td>1270050348</td>\n      <td>Queued</td>\n      <td>Awaiting Assignment</td>\n      <td>A2_5</td>\n      <td>Org line A2</td>\n      <td>V5 3rd</td>\n      <td>Medium</td>\n      <td>PROD582</td>\n      <td>fr</td>\n      <td>France</td>\n      <td>2766</td>\n      <td>2692</td>\n      <td>56748</td>\n      <td>Wednesday</td>\n      <td>66642027</td>\n      <td>2</td>\n      <td>0</td>\n      <td>0</td>\n      <td>0</td>\n      <td>0</td>\n      <td>0</td>\n      <td>0</td>\n      <td>0</td>\n      <td>0</td>\n      <td>0</td>\n      <td>0</td>\n      <td>0</td>\n      <td>0</td>\n      <td>66644793</td>\n    </tr>\n    <tr>\n      <th>3</th>\n      <td>1-364285768</td>\n      <td>1270565047</td>\n      <td>Accepted</td>\n      <td>In Progress</td>\n      <td>A2_5</td>\n      <td>Org line A2</td>\n      <td>V5 3rd</td>\n      <td>Medium</td>\n      <td>PROD582</td>\n      <td>fr</td>\n      <td>France</td>\n      <td>517465</td>\n      <td>514699</td>\n      <td>53047</td>\n      <td>Tuesday</td>\n      <td>66127328</td>\n      <td>2</td>\n      <td>1</td>\n      <td>0</td>\n      <td>0</td>\n      <td>0</td>\n      <td>0</td>\n      <td>0</td>\n      <td>0</td>\n      <td>0</td>\n      <td>0</td>\n      <td>0</td>\n      <td>0</td>\n      <td>0</td>\n      <td>66644793</td>\n    </tr>\n    <tr>\n      <th>4</th>\n      <td>1-364285768</td>\n      <td>1270565078</td>\n      <td>Queued</td>\n      <td>Awaiting Assignment</td>\n      <td>A2_4</td>\n      <td>Org line A2</td>\n      <td>V30</td>\n      <td>Medium</td>\n      <td>PROD582</td>\n      <td>fr</td>\n      <td>France</td>\n      <td>517496</td>\n      <td>31</td>\n      <td>53078</td>\n      <td>Tuesday</td>\n      <td>66127297</td>\n      <td>3</td>\n      <td>1</td>\n      <td>0</td>\n      <td>0</td>\n      <td>0</td>\n      <td>0</td>\n      <td>0</td>\n      <td>0</td>\n      <td>0</td>\n      <td>0</td>\n      <td>0</td>\n      <td>0</td>\n      <td>0</td>\n      <td>66644793</td>\n    </tr>\n  </tbody>\n</table>\n</div>"
     },
     "execution_count": 23,
     "metadata": {},
     "output_type": "execute_result"
    }
   ],
   "source": [
    "df.head()"
   ],
   "metadata": {
    "collapsed": false,
    "ExecuteTime": {
     "end_time": "2023-06-16T12:47:00.854499253Z",
     "start_time": "2023-06-16T12:47:00.827097766Z"
    }
   }
  },
  {
   "cell_type": "markdown",
   "source": [
    "# Split the Dataset for Machine Learning"
   ],
   "metadata": {
    "collapsed": false
   }
  },
  {
   "cell_type": "markdown",
   "source": [
    "We are going to train and test the model with the following split:\n",
    "### For KPI Total Time\n",
    "* Train: 2/3 or two-thirds of the cases\n",
    "* Test: 1/3 or one-third of the cases\n",
    "### For KPI Activity Occurrence\n",
    "- split the cases with `activity_to_avoid` in 2/3 for training and 1/3 for testing\n",
    "- Train: Mix the rest of the cases with 2/3 training mix\n",
    "- Test: Keep only the 1/3 testing mix"
   ],
   "metadata": {
    "collapsed": false
   }
  },
  {
   "cell_type": "code",
   "execution_count": 24,
   "outputs": [],
   "source": [
    "# if KPI == \"total_time\":\n",
    "#     cases = df[case_id_name].unique()\n",
    "#     train_n_valid_cases, test_cases = train_test_split(cases, train_size=0.67, test_size=0.33)\n",
    "#     train_cases, valid_cases = train_test_split(train_n_valid_cases, train_size=0.80)\n",
    "#\n",
    "#     df_train = df[df[case_id_name].isin(train_cases)].copy()\n",
    "#     df_train = df_train.reset_index(drop=True)\n",
    "#     df_valid = df[df[case_id_name].isin(valid_cases)].copy()\n",
    "#     df_valid = df_valid.reset_index(drop=True)\n",
    "#     df_test = df[df[case_id_name].isin(test_cases)].copy()\n",
    "#     df_test = df_test.reset_index(drop=True)\n",
    "#\n",
    "#     df_train.to_csv( os.path.join(preprocessed_data_dir, \"train-set-cfe.csv\"), index=False)\n",
    "#     df_test.to_csv( os.path.join(preprocessed_data_dir, \"test-set-cfe.csv\"), index=False)\n",
    "#\n",
    "# elif KPI == \"activity_occurrence\":\n",
    "#     # === How much traces have `activity_to_avoid`\n",
    "#     case_ids_with_activity_to_avoid = []\n",
    "#     case_ids_without_activity_to_avoid = []\n",
    "#     gdf = df.groupby(case_id_name)\n",
    "#     for case_id, group in gdf:\n",
    "#         if activity_to_avoid in group[activity_column_name].to_list():\n",
    "#             case_ids_with_activity_to_avoid.append(case_id)\n",
    "#         else:\n",
    "#             case_ids_without_activity_to_avoid.append(case_id)\n",
    "#     print(f\"Cases with activity_to_avoid: {len(case_ids_with_activity_to_avoid):,}\")\n",
    "#     print(f\"Cases without activity_to_avoid: {len(case_ids_without_activity_to_avoid):,}\")\n",
    "#\n",
    "#     # === Split\n",
    "#     train_cases, test_cases = train_test_split(case_ids_with_activity_to_avoid, train_size=0.67, test_size=0.33)\n",
    "#\n",
    "#     # === Combine training split with rest of the cases\n",
    "#     train_cases = train_cases + case_ids_without_activity_to_avoid\n",
    "#     random.shuffle( train_cases )\n",
    "#\n",
    "#     df_train = df[df[case_id_name].isin(train_cases)].copy()\n",
    "#     df_train = df_train.reset_index(drop=True)\n",
    "#     df_test = df[df[case_id_name].isin(test_cases)].copy()\n",
    "#     df_test = df_test.reset_index(drop=True)\n",
    "#\n",
    "#     df_train.to_csv( os.path.join(preprocessed_data_dir, \"bank_acc_train.csv\"), index=False)\n",
    "#     df_test.to_csv( os.path.join(preprocessed_data_dir, \"bank_acc_test.csv\"), index=False)"
   ],
   "metadata": {
    "collapsed": false,
    "ExecuteTime": {
     "end_time": "2023-06-16T12:47:02.732421422Z",
     "start_time": "2023-06-16T12:47:02.685321184Z"
    }
   }
  },
  {
   "cell_type": "markdown",
   "source": [
    "### Another type of Split"
   ],
   "metadata": {
    "collapsed": false
   }
  },
  {
   "cell_type": "code",
   "execution_count": 25,
   "outputs": [
    {
     "name": "stdout",
     "output_type": "stream",
     "text": [
      "Starting splitting procedure..\n",
      "The min max range is 1270047582, 1337353142\n",
      "With length 67305560\n"
     ]
    },
    {
     "name": "stderr",
     "output_type": "stream",
     "text": [
      "100%|██████████| 10001/10001 [00:53<00:00, 186.05it/s]\n",
      "100%|██████████| 10001/10001 [00:49<00:00, 203.25it/s]\n"
     ]
    },
    {
     "name": "stdout",
     "output_type": "stream",
     "text": [
      "Split done\n"
     ]
    },
    {
     "name": "stderr",
     "output_type": "stream",
     "text": [
      "/tmp/ipykernel_77186/3332236256.py:46: UserWarning: Boolean Series key will be reindexed to match DataFrame index.\n",
      "  test_idxs = start_end_couple[start_end_couple['end'] >= thrs][start_end_couple['start'] <= thrs]['idx'].values\n"
     ]
    },
    {
     "data": {
      "text/plain": "<Figure size 640x480 with 1 Axes>",
      "image/png": "[encoded data removed]"
     },
     "metadata": {},
     "output_type": "display_data"
    }
   ],
   "source": [
    "def get_split_indexes(df, case_id_name, start_date_name, train_size=float):\n",
    "    print('Starting splitting procedure..')\n",
    "    start_end_couple = list()\n",
    "    for idx in df[case_id_name].unique():\n",
    "        df_ = df[df[case_id_name] == idx].reset_index(drop=True)\n",
    "        start_end_couple.append([idx, df_[start_date_name].values[0], df_[start_date_name].values[len(df_) - 1]])\n",
    "    start_end_couple = pd.DataFrame(start_end_couple, columns=['idx', 'start', 'end'])\n",
    "    print(f'The min max range is {start_end_couple.start.min()}, {start_end_couple.end.max()}')\n",
    "    print(f'With length {start_end_couple.end.max() - start_end_couple.start.min()}')\n",
    "    # Initialize pdf of active cases and cdf of closed cases\n",
    "    times_dict_pdf = dict()\n",
    "    times_dict_cdf = dict()\n",
    "    split = int((start_end_couple.end.max() - start_end_couple.start.min()) / 10000)  # In order to get a 10000 dotted graph\n",
    "    for time in range(int(start_end_couple.start.min()), int(start_end_couple.end.max()), split):\n",
    "        times_dict_pdf[time] = 0\n",
    "        times_dict_cdf[time] = 0\n",
    "    for time in tqdm.tqdm(range(int(start_end_couple.start.min()), int(start_end_couple.end.max()), split)):\n",
    "        for line in np.array(start_end_couple[['start', 'end']]):\n",
    "            line = np.array(line)\n",
    "            if (line[0] <= time) and (line[1] >= time):\n",
    "                times_dict_pdf[time] += 1\n",
    "    for time in tqdm.tqdm(range(int(start_end_couple.start.min()), int(start_end_couple.end.max()), split)):\n",
    "        for line in np.array(start_end_couple[['start', 'end']]):\n",
    "            line = np.array(line)\n",
    "            if (line[1] <= time):  # Keep just k closes cases\n",
    "                times_dict_cdf[time] += 1\n",
    "    sns.set_style('darkgrid')\n",
    "    plt.title('Number of active operations')\n",
    "    plt.xlabel('Time')\n",
    "    plt.ylabel('Count')\n",
    "\n",
    "    times_pdf_df = pd.DataFrame( {\"time\": list(times_dict_pdf.keys()), \"count\": list(times_dict_pdf.values())} )\n",
    "    times_cdf_df = pd.DataFrame( {\"time\": list(times_dict_cdf.keys()), \"count\": list(times_dict_cdf.values())} )\n",
    "\n",
    "    sns.lineplot(data=times_pdf_df, x=\"time\", y=\"count\")\n",
    "    sns.lineplot(data=times_cdf_df, x=\"time\", y=\"count\")\n",
    "    plt.savefig('Active and completed cases distribution.png')\n",
    "    times_dist = pd.DataFrame(columns=['times', 'pdf_active', 'cdf_closed'])\n",
    "    times_dist['times'] = times_dict_pdf.keys()\n",
    "    times_dist['pdf_active'] = times_dict_pdf.values()\n",
    "    times_dist['cdf_closed'] = np.array(list(times_dict_cdf.values())) / (len(df[case_id_name].unique()))\n",
    "    # Set threshold after 60 of closed activities (it'll be the train set)\n",
    "    test_dim = times_dist[times_dist.cdf_closed > train_size].pdf_active.max()\n",
    "    thrs = times_dist[times_dist.pdf_active == test_dim].times.values[0]\n",
    "    train_idxs = start_end_couple[start_end_couple['end'] <= thrs]['idx'].values\n",
    "    test_idxs = start_end_couple[start_end_couple['end'] >= thrs][start_end_couple['start'] <= thrs]['idx'].values\n",
    "\n",
    "    with open(f'indexes/train_idx_{case_id_name}.pkl', 'wb') as file_handle:\n",
    "        pickle.dump(train_idxs, file_handle)\n",
    "    with open(f'indexes/test_idx_{case_id_name}.pkl', 'wb') as file_handle:\n",
    "        pickle.dump(test_idxs, file_handle)\n",
    "    print('Split done')\n",
    "if KPI == \"total_time\":\n",
    "    get_split_indexes(df, case_id_name, start_date_name, train_size=train_size)"
   ],
   "metadata": {
    "collapsed": false,
    "ExecuteTime": {
     "end_time": "2023-06-16T12:49:11.910686404Z",
     "start_time": "2023-06-16T12:47:04.589308647Z"
    }
   }
  },
  {
   "cell_type": "code",
   "execution_count": 29,
   "outputs": [
    {
     "name": "stdout",
     "output_type": "stream",
     "text": [
      "Percentage of train_idxs: 0.8085437564856451%, Number of train_idxs: 4,675\n",
      "Percentage of test_idxs: 0.1914562435143549%, Number of test_idxs: 1,107\n"
     ]
    }
   ],
   "source": [
    "if KPI == \"total_time\":\n",
    "    with open(f'indexes/train_idx_{case_id_name}.pkl', 'rb') as file_handle:\n",
    "        train_idxs = pickle.load(file_handle)\n",
    "    with open(f'indexes/test_idx_{case_id_name}.pkl', 'rb') as file_handle:\n",
    "        test_idxs = pickle.load(file_handle)\n",
    "\n",
    "    total = len(train_idxs) + len(test_idxs)\n",
    "    print(f\"Percentage of train_idxs: { (len(train_idxs) / total):,}%, Number of train_idxs: {len(train_idxs):,}\")\n",
    "    print(f\"Percentage of test_idxs: { len(test_idxs) / total:,}%, Number of test_idxs: {len(test_idxs):,}\")\n",
    "\n",
    "    df_train = df[df[case_id_name].isin(train_idxs)].copy()\n",
    "    df_train = df_train.reset_index(drop=True)\n",
    "    df_test = df[df[case_id_name].isin(test_idxs)].copy()\n",
    "    df_test = df_test.reset_index(drop=True)\n",
    "\n",
    "    df_train.to_csv( os.path.join(preprocessed_data_dir, \"vinst_train.csv\"), index=False)\n",
    "    df_test.to_csv( os.path.join(preprocessed_data_dir, \"vinst_test.csv\"), index=False)"
   ],
   "metadata": {
    "collapsed": false,
    "ExecuteTime": {
     "end_time": "2023-06-16T12:56:30.801115372Z",
     "start_time": "2023-06-16T12:56:30.458245247Z"
    }
   }
  },
  {
   "cell_type": "code",
   "execution_count": 58,
   "outputs": [
    {
     "data": {
      "text/plain": "array(['1-467153946', '1-543979253', '1-565045794', ..., '1-740847124',\n       '1-740847333', '1-740848036'], dtype=object)"
     },
     "execution_count": 58,
     "metadata": {},
     "output_type": "execute_result"
    }
   ],
   "source": [
    "test_idxs"
   ],
   "metadata": {
    "collapsed": false,
    "ExecuteTime": {
     "end_time": "2023-06-16T08:45:04.474498327Z",
     "start_time": "2023-06-16T08:45:04.464564996Z"
    }
   }
  },
  {
   "cell_type": "markdown",
   "source": [
    "### Save the Preprocessed dataset for later use"
   ],
   "metadata": {
    "collapsed": false
   }
  },
  {
   "cell_type": "markdown",
   "source": [
    "# Predict using CatBoost"
   ],
   "metadata": {
    "collapsed": false
   }
  },
  {
   "cell_type": "code",
   "execution_count": 113,
   "outputs": [],
   "source": [
    "# First we need to get all the categorical columns for the CatBoost Algorithm\n",
    "categorical_features = df.iloc[:, 1:-1].select_dtypes(exclude=np.number).columns\n",
    "df[categorical_features] = df[categorical_features].astype(str)\n",
    "categorical_features = categorical_features.tolist()"
   ],
   "metadata": {
    "collapsed": false,
    "ExecuteTime": {
     "end_time": "2023-05-23T16:40:10.228897578Z",
     "start_time": "2023-05-23T16:40:10.181538565Z"
    }
   }
  },
  {
   "cell_type": "code",
   "execution_count": 55,
   "outputs": [],
   "source": [
    "X_train = df_train.iloc[:, 1: -1]\n",
    "y_train = df_train.iloc[:, -1 ]"
   ],
   "metadata": {
    "collapsed": false
   }
  },
  {
   "cell_type": "code",
   "execution_count": 56,
   "outputs": [],
   "source": [
    "train_pool = Pool(X_train, y_train, cat_features=categorical_features)"
   ],
   "metadata": {
    "collapsed": false
   }
  },
  {
   "cell_type": "code",
   "execution_count": 24,
   "outputs": [],
   "source": [
    "params = {\n",
    "    'depth': 10,\n",
    "    'learning_rate': 0.01,\n",
    "    'iterations': 3000,\n",
    "    'early_stopping_rounds': 5,\n",
    "    'thread_count': 4,\n",
    "    'logging_level': 'Silent',\n",
    "    'task_type': \"CPU\"  # \"GPU\" if int(os.environ[\"USE_GPU\"]) else \"CPU\"\n",
    "}"
   ],
   "metadata": {
    "collapsed": false
   }
  },
  {
   "cell_type": "code",
   "execution_count": 32,
   "outputs": [],
   "source": [
    "model = CatBoostRegressor(**params)\n",
    "if use_saved_model:\n",
    "    model.load_model(fname=\"catboost_model.cbm\", format='cbm')\n",
    "else:\n",
    "    model.fit(train_pool)\n",
    "    model.save_model(fname=\"catboost_model.cbm\", format=\"cbm\")"
   ],
   "metadata": {
    "collapsed": false
   }
  },
  {
   "cell_type": "markdown",
   "source": [
    "### Predict"
   ],
   "metadata": {
    "collapsed": false
   }
  },
  {
   "cell_type": "code",
   "execution_count": 33,
   "outputs": [],
   "source": [
    "X_train_pool = Pool(X_train, cat_features=categorical_features)\n",
    "y_train_pred = model.predict(X_train_pool)\n"
   ],
   "metadata": {
    "collapsed": false
   }
  },
  {
   "cell_type": "markdown",
   "source": [
    "### Validate"
   ],
   "metadata": {
    "collapsed": false
   }
  },
  {
   "cell_type": "code",
   "execution_count": 34,
   "outputs": [
    {
     "data": {
      "text/plain": "24373.989614527192"
     },
     "execution_count": 34,
     "metadata": {},
     "output_type": "execute_result"
    }
   ],
   "source": [
    "# Mean Absolute Error\n",
    "print(f\"Mean Absolute Error: {mean_absolute_error(y_train, y_train_pred)}\")"
   ],
   "metadata": {
    "collapsed": false
   }
  },
  {
   "cell_type": "code",
   "execution_count": 80,
   "outputs": [
    {
     "name": "stdout",
     "output_type": "stream",
     "text": [
      "31219\n",
      "31219\n"
     ]
    }
   ],
   "source": [
    "y_train_pred_series = pd.DataFrame(y_train_pred, columns=[\"Y_predictions\"])\n",
    "print(len(y_train_pred_series))\n",
    "print(len(df_train))"
   ],
   "metadata": {
    "collapsed": false
   }
  },
  {
   "cell_type": "code",
   "execution_count": 81,
   "outputs": [],
   "source": [
    "# see the results\n",
    "# # Should be a function\n",
    "df_train_info = df_train[[case_id_name, \"Status\", activity_column_name, \"time_from_first\", \"time_from_previous_et\",\n",
    "                    \"time_remaining\", target_column_name]].copy()\n",
    "# Convert seconds to hours\n",
    "df_train_info.loc[:, \"time_remaining\"] = round( df_train_info.loc[:, \"time_remaining\"] / (60 * 60), 2)\n",
    "df_train_info[target_column_name] = df_train_info[target_column_name] / (60 * 60)\n",
    "y_train_pred_series = round( y_train_pred_series / (60 * 60), 2)\n",
    "\n",
    "df_results = pd.concat([df_train_info, y_train_pred_series], axis=\"columns\")"
   ],
   "metadata": {
    "collapsed": false
   }
  },
  {
   "cell_type": "code",
   "execution_count": 82,
   "outputs": [],
   "source": [
    "df_results.to_csv(\"temp.csv\", index=False)"
   ],
   "metadata": {
    "collapsed": false
   }
  },
  {
   "cell_type": "code",
   "execution_count": null,
   "outputs": [],
   "source": [],
   "metadata": {
    "collapsed": false
   }
  }
 ],
 "metadata": {
  "kernelspec": {
   "display_name": "Python 3",
   "language": "python",
   "name": "python3"
  },
  "language_info": {
   "codemirror_mode": {
    "name": "ipython",
    "version": 2
   },
   "file_extension": ".py",
   "mimetype": "text/x-python",
   "name": "python",
   "nbconvert_exporter": "python",
   "pygments_lexer": "ipython2",
   "version": "2.7.6"
  }
 },
 "nbformat": 4,
 "nbformat_minor": 0
}
