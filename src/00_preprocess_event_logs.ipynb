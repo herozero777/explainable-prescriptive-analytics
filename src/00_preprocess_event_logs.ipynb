{
 "cells": [
  {
   "cell_type": "markdown",
   "source": [
    "# Preprocess Event Logs for Process Prediction (Process Mining)"
   ],
   "metadata": {
    "collapsed": false
   }
  },
  {
   "cell_type": "code",
   "execution_count": 41,
   "outputs": [],
   "source": [
    "import pandas as pd\n",
    "import numpy as np\n",
    "import os\n",
    "from sklearn.model_selection import train_test_split\n",
    "from sklearn.metrics import mean_absolute_error\n",
    "from catboost import CatBoostRegressor, CatBoostClassifier, Pool\n",
    "pd.options.display.max_columns= None"
   ],
   "metadata": {
    "collapsed": false,
    "ExecuteTime": {
     "end_time": "2023-05-23T16:07:24.634419695Z",
     "start_time": "2023-05-23T16:07:24.593329538Z"
    }
   }
  },
  {
   "cell_type": "markdown",
   "source": [
    "## Configure"
   ],
   "metadata": {
    "collapsed": false
   }
  },
  {
   "cell_type": "code",
   "execution_count": 97,
   "outputs": [],
   "source": [
    "# Select the dataset to use\n",
    "# data_file_path = \"./data/VINST_cases_incidents_mini.csv\"\n",
    "# data_file_path = \"./data/VINST cases incidents.csv\"\n",
    "# dataset = \"VINST_cases_incidents.csv\"  # VINST case incident\n",
    "dataset = \"completed.csv\"              # bank_account_closure"
   ],
   "metadata": {
    "collapsed": false,
    "ExecuteTime": {
     "end_time": "2023-05-23T16:26:51.510049392Z",
     "start_time": "2023-05-23T16:26:51.463387273Z"
    }
   }
  },
  {
   "cell_type": "code",
   "execution_count": 98,
   "outputs": [],
   "source": [
    "data_dir = \"./data\"\n",
    "data_file_path = os.path.join(data_dir, dataset)\n",
    "if dataset == \"completed.csv\":\n",
    "    KPI = \"activity_occurrence\"\n",
    "    case_id_name = \"REQUEST_ID\"\n",
    "    start_date_name = \"START_DATE\"\n",
    "    activity_column_name = \"ACTIVITY\"\n",
    "    end_date_name = \"END_DATE\"\n",
    "    activity_to_avoid = \"Back-Office Adjustment Requested\"\n",
    "    df = pd.read_csv(data_file_path)  # concern: what is date col position is different?\n",
    "    df[start_date_name] = pd.to_numeric( df[start_date_name] ) // 1_000  # Convert Epochs from milliseconds to seconds\n",
    "    df[end_date_name] = pd.to_numeric( df[end_date_name] ) // 1_000  # Convert Epochs from milliseconds to seconds\n",
    "\n",
    "else:\n",
    "    KPI = \"total_time\"\n",
    "    case_id_name = 'SR_Number'  # The case identifier column name.\n",
    "    start_date_name = 'Change_Date+Time'  # Maybe change to start_et (start even time)\n",
    "    activity_column_name = \"ACTIVITY\"\n",
    "    end_date_name = None\n",
    "\n",
    "    df = pd.read_csv(data_file_path, parse_dates=[1])  # concern: what is date col position is different?\n",
    "    df[start_date_name] = df[start_date_name].view('int64') // 10**9  # 10**9 Converts nanoseconds to seconds\n",
    "\n",
    "preprocessed_data_dir = \"./preprocessed_datasets\"\n",
    "use_saved_model = False"
   ],
   "metadata": {
    "collapsed": false,
    "ExecuteTime": {
     "end_time": "2023-05-23T16:26:51.956100173Z",
     "start_time": "2023-05-23T16:26:51.763980939Z"
    }
   }
  },
  {
   "cell_type": "code",
   "execution_count": 99,
   "outputs": [
    {
     "data": {
      "text/plain": "    REQUEST_ID   CLOSURE_TYPE   CLOSURE_REASON   \n0  20175000168  Client Recess  1 - Client lost  \\\n1  20175000168  Client Recess  1 - Client lost   \n2  20175000168  Client Recess  1 - Client lost   \n3  20175000168  Client Recess  1 - Client lost   \n4  20175000168  Client Recess  1 - Client lost   \n\n                                            ACTIVITY    END_DATE  START_DATE   \n0  Service closure Request with network responsib...  1539175786  1539175692  \\\n1     Service closure Request with BO responsibility  1539602104  1539175786   \n2            Pending Request for Reservation Closure  1539602345  1539602104   \n3                        Pending Liquidation Request  1539745391  1539602345   \n4             Request completed with account closure  1539745391  1539745391   \n\n   CE_UO         ROLE  \n0  00044    APPLICANT  \n1    BOC  BACK-OFFICE  \n2    BOC  BACK-OFFICE  \n3    BOC  BACK-OFFICE  \n4    BOC  BACK-OFFICE  ",
      "text/html": "<div>\n<style scoped>\n    .dataframe tbody tr th:only-of-type {\n        vertical-align: middle;\n    }\n\n    .dataframe tbody tr th {\n        vertical-align: top;\n    }\n\n    .dataframe thead th {\n        text-align: right;\n    }\n</style>\n<table border=\"1\" class=\"dataframe\">\n  <thead>\n    <tr style=\"text-align: right;\">\n      <th></th>\n      <th>REQUEST_ID</th>\n      <th>CLOSURE_TYPE</th>\n      <th>CLOSURE_REASON</th>\n      <th>ACTIVITY</th>\n      <th>END_DATE</th>\n      <th>START_DATE</th>\n      <th>CE_UO</th>\n      <th>ROLE</th>\n    </tr>\n  </thead>\n  <tbody>\n    <tr>\n      <th>0</th>\n      <td>20175000168</td>\n      <td>Client Recess</td>\n      <td>1 - Client lost</td>\n      <td>Service closure Request with network responsib...</td>\n      <td>1539175786</td>\n      <td>1539175692</td>\n      <td>00044</td>\n      <td>APPLICANT</td>\n    </tr>\n    <tr>\n      <th>1</th>\n      <td>20175000168</td>\n      <td>Client Recess</td>\n      <td>1 - Client lost</td>\n      <td>Service closure Request with BO responsibility</td>\n      <td>1539602104</td>\n      <td>1539175786</td>\n      <td>BOC</td>\n      <td>BACK-OFFICE</td>\n    </tr>\n    <tr>\n      <th>2</th>\n      <td>20175000168</td>\n      <td>Client Recess</td>\n      <td>1 - Client lost</td>\n      <td>Pending Request for Reservation Closure</td>\n      <td>1539602345</td>\n      <td>1539602104</td>\n      <td>BOC</td>\n      <td>BACK-OFFICE</td>\n    </tr>\n    <tr>\n      <th>3</th>\n      <td>20175000168</td>\n      <td>Client Recess</td>\n      <td>1 - Client lost</td>\n      <td>Pending Liquidation Request</td>\n      <td>1539745391</td>\n      <td>1539602345</td>\n      <td>BOC</td>\n      <td>BACK-OFFICE</td>\n    </tr>\n    <tr>\n      <th>4</th>\n      <td>20175000168</td>\n      <td>Client Recess</td>\n      <td>1 - Client lost</td>\n      <td>Request completed with account closure</td>\n      <td>1539745391</td>\n      <td>1539745391</td>\n      <td>BOC</td>\n      <td>BACK-OFFICE</td>\n    </tr>\n  </tbody>\n</table>\n</div>"
     },
     "execution_count": 99,
     "metadata": {},
     "output_type": "execute_result"
    }
   ],
   "source": [
    "df.head()"
   ],
   "metadata": {
    "collapsed": false,
    "ExecuteTime": {
     "end_time": "2023-05-23T16:26:52.687769739Z",
     "start_time": "2023-05-23T16:26:52.676688071Z"
    }
   }
  },
  {
   "cell_type": "markdown",
   "source": [
    "## Clean the Dataset"
   ],
   "metadata": {
    "collapsed": false
   }
  },
  {
   "cell_type": "code",
   "execution_count": 100,
   "outputs": [],
   "source": [
    "def move_essential_columns(df, case_id_name: str, start_date_name: str) -> pd.DataFrame:\n",
    "    \"\"\"\n",
    "    Puts the column `case_id_name` and `start_date_name` in start and then the rest of the\n",
    "    columns\n",
    "    \"\"\"\n",
    "    columns = df.columns.to_list()\n",
    "    columns.remove(case_id_name)\n",
    "    columns.remove(start_date_name)\n",
    "    df = df[[case_id_name, start_date_name] + columns]\n",
    "    return df\n",
    "\n",
    "def sort_df_case_id_n_time(df, case_id_name: str, start_date_name: str) -> pd.DataFrame:\n",
    "    \"\"\" Sorts in ascending order according the case-ids and start-date time \"\"\"\n",
    "    df = df.sort_values([case_id_name, start_date_name], axis=0, ascending=True, kind='quicksort', na_position='last')\n",
    "    return df"
   ],
   "metadata": {
    "collapsed": false,
    "ExecuteTime": {
     "end_time": "2023-05-23T16:26:53.767445373Z",
     "start_time": "2023-05-23T16:26:53.762401222Z"
    }
   }
  },
  {
   "cell_type": "code",
   "execution_count": 101,
   "outputs": [],
   "source": [
    "df = df.fillna(\"missing\")  # Replace all NaN values with the keyword \"missing\n",
    "df = move_essential_columns(df, case_id_name, start_date_name)\n",
    "# Maybe use this or the function\n",
    "df = df.sort_values([case_id_name, start_date_name], axis=0, ascending=True, kind='quicksort', na_position='last')"
   ],
   "metadata": {
    "collapsed": false,
    "ExecuteTime": {
     "end_time": "2023-05-23T16:26:54.568002856Z",
     "start_time": "2023-05-23T16:26:54.437813466Z"
    }
   }
  },
  {
   "cell_type": "markdown",
   "source": [
    "## Preprocess the dataset"
   ],
   "metadata": {
    "collapsed": false
   }
  },
  {
   "cell_type": "code",
   "execution_count": 102,
   "outputs": [],
   "source": [
    "# # # Add this to the main flow of functions once it makes sense\n",
    "# case_level_attributes\n",
    "# for col in df.columns:\n",
    "#     print(f\"col: {col}\")\n",
    "#     print(df.groupby(case_id_name)[col].nunique().eq(1).all())"
   ],
   "metadata": {
    "collapsed": false,
    "ExecuteTime": {
     "end_time": "2023-05-23T16:26:56.705144758Z",
     "start_time": "2023-05-23T16:26:56.692623095Z"
    }
   }
  },
  {
   "cell_type": "code",
   "execution_count": 103,
   "outputs": [],
   "source": [
    "# ====== For developing attributes that are specific to an entire trace\n",
    "# gdf = df.groupby(case_id_name)\n",
    "# for case_id, group in gdf:\n",
    "#     print(group)\n",
    "#     if end_date_name is not None:\n",
    "#         print( group[end_date_name] - group[start_date_name] )\n",
    "#     break"
   ],
   "metadata": {
    "collapsed": false,
    "ExecuteTime": {
     "end_time": "2023-05-23T16:26:57.129034822Z",
     "start_time": "2023-05-23T16:26:57.124364742Z"
    }
   }
  },
  {
   "cell_type": "code",
   "execution_count": 104,
   "outputs": [],
   "source": [
    "def get_time_from_midnight(dt_obj: pd.Timestamp) -> int:\n",
    "    \"\"\"\n",
    "    :param dt_obj: Is a datetime object.\n",
    "    Return seconds elapsed from midnight (or day start 00:00:00)\n",
    "    \"\"\"\n",
    "    return dt_obj.hour * 3600 + dt_obj.minute * 60 + dt_obj.second\n",
    "\n",
    "def add_features(df, case_id_name: str, start_date_name: str) -> pd.DataFrame:\n",
    "    \"\"\"\n",
    "    Times that are integer are in seconds.\n",
    "    \"\"\"\n",
    "    df[\"time_from_first\"] = 0\n",
    "    df[\"time_from_previous_et\"] = 0\n",
    "    df[\"time_from_midnight\"] = 0\n",
    "    df[\"weekday\"] = 0\n",
    "    df[\"activity_duration\"] = 0\n",
    "    df[\"time_remaining\"] = 0\n",
    "\n",
    "    gdf = df.groupby(case_id_name)\n",
    "    i = 0\n",
    "    for case_id, group in gdf:\n",
    "\n",
    "        case_first_time = group[start_date_name].min()  # The timestamp at the first event of the 'case'\n",
    "        case_last_time = group[start_date_name].max()   # The timestamp of the last event of the 'case'.\n",
    "        # Note last event may not be the ending or final event e.g. a running case.\n",
    "\n",
    "        # Expression in brackets return a series, we apply the desired function on all elements using .apply(...)\n",
    "        time_from_first = group[start_date_name] - case_first_time\n",
    "\n",
    "        time_from_previous_et =  group[start_date_name].diff()\n",
    "        time_from_previous_et = time_from_previous_et.fillna(0)  # edge case where is first row has a zero\n",
    "\n",
    "        time_from_midnight = pd.to_datetime( group[start_date_name], unit='s' ).apply(lambda x: get_time_from_midnight(x))\n",
    "\n",
    "        # dt: Accessor object for datetimelike properties of the Series' values.\n",
    "        weekday_number = pd.to_datetime( group[start_date_name], unit='s' ).dt.dayofweek\n",
    "        weekday_str = weekday_number.replace({0: \"Monday\", 1: \"Tuesday\", 2: \"Wednesday\",\n",
    "                                              3: \"Thursday\", 4: \"Friday\", 5: \"Saturday\", 6: \"Sunday\"})\n",
    "        if end_date_name is not None:\n",
    "            activity_duration = group[end_date_name] - group[start_date_name]\n",
    "            df.loc[group.index, \"activity_duration\"] = activity_duration\n",
    "\n",
    "        time_remaining = case_last_time - group[start_date_name]\n",
    "\n",
    "        # # # Set values in the dataframe at the index corresponding to the group's case-id.\n",
    "        # Maybe possible to optimize.\n",
    "        # Possible way 1: Create a mini-df from group augment it with new features and at the end pd.concat all the mini-dfs\n",
    "        df.loc[group.index, \"time_from_first\"] = time_from_first\n",
    "        df.loc[group.index, \"time_from_previous_et\"] = time_from_previous_et\n",
    "        df.loc[group.index, \"time_from_midnight\"] = time_from_midnight\n",
    "        df.loc[group.index, \"weekday\"] = weekday_str\n",
    "        df.loc[group.index, \"time_remaining\"] = time_remaining\n",
    "\n",
    "    return df\n",
    "\"\"\"\n",
    "Given a trace we want to create all prefixes of it. E.g. trace: <a, b, c> then prefixes: {<a>, <a,b>, <a,b,c>}.\n",
    "Here the letters denote activities. Next, just like a trace has a KPI value, all its prefixes are associated\n",
    "with the same prefix value.\n",
    "\n",
    "This function implements the aggregated history version of creating prefixes from traces. The idea is that we\n",
    "create a different column for each activity, then within a trace (or case) the counter value keeps track of how many\n",
    "times an activity has occurred. View the before and after CSVs for a better understanding.\n",
    "\"\"\"\n",
    "\n",
    "def add_aggregated_history(df, case_id_name, activity_column_name) -> pd.DataFrame:\n",
    "\n",
    "    for activity in df[activity_column_name].unique():\n",
    "        df[f\"# {activity_column_name}={activity}\"] = 0\n",
    "        # first put 1 in correspondence to each activity\n",
    "        df.loc[df[activity_column_name] == activity, f\"# {activity_column_name}={activity}\"] = 1\n",
    "        # sum the count from the previous events\n",
    "        df[f\"# {activity_column_name}={activity}\"] = df.groupby(case_id_name)[f\"# {activity_column_name}={activity}\"].cumsum()\n",
    "    return df\n",
    "\n",
    "def change_history(df, activity_column_name=\"ACTIVITY\"):\n",
    "    for i, row in df.iterrows():\n",
    "        act = df.at[i, activity_column_name]\n",
    "        if df.at[i, '# ' + activity_column_name + '=' + act] != 0:\n",
    "            df.at[i, '# ' + activity_column_name + '=' + act] -= 1\n",
    "    return df"
   ],
   "metadata": {
    "collapsed": false,
    "ExecuteTime": {
     "end_time": "2023-05-23T16:26:57.736089302Z",
     "start_time": "2023-05-23T16:26:57.713907150Z"
    }
   }
  },
  {
   "cell_type": "code",
   "execution_count": 105,
   "outputs": [],
   "source": [
    "df = add_features(df, case_id_name, start_date_name)\n",
    "df = add_aggregated_history(df, case_id_name, activity_column_name)\n",
    "df = change_history(df, activity_column_name=activity_column_name)"
   ],
   "metadata": {
    "collapsed": false,
    "ExecuteTime": {
     "end_time": "2023-05-23T16:29:49.105507873Z",
     "start_time": "2023-05-23T16:26:58.948573400Z"
    }
   }
  },
  {
   "cell_type": "code",
   "execution_count": 51,
   "outputs": [
    {
     "data": {
      "text/plain": "     REQUEST_ID  START_DATE   CLOSURE_TYPE   CLOSURE_REASON   \n0   20175000168  1539175692  Client Recess  1 - Client lost  \\\n1   20175000168  1539175786  Client Recess  1 - Client lost   \n2   20175000168  1539602104  Client Recess  1 - Client lost   \n3   20175000168  1539602345  Client Recess  1 - Client lost   \n4   20175000168  1539745391  Client Recess  1 - Client lost   \n5   20175000642  1541672782    Bank Recess  1 - Client lost   \n6   20175000642  1541672852    Bank Recess  1 - Client lost   \n7   20175000642  1541672917    Bank Recess  1 - Client lost   \n8   20175000642  1541673010    Bank Recess  1 - Client lost   \n9   20175000642  1542125449    Bank Recess  1 - Client lost   \n10  20175000642  1542125459    Bank Recess  1 - Client lost   \n11  20175000642  1542251285    Bank Recess  1 - Client lost   \n12  20175001550  1496047666  Client Recess  1 - Client lost   \n13  20175001550  1496047765  Client Recess  1 - Client lost   \n14  20175001550  1496048164  Client Recess  1 - Client lost   \n15  20175001550  1496048559  Client Recess  1 - Client lost   \n16  20175001550  1496057013  Client Recess  1 - Client lost   \n17  20175001550  1496222768  Client Recess  1 - Client lost   \n18  20175001550  1497257101  Client Recess  1 - Client lost   \n19  20175001550  1497257226  Client Recess  1 - Client lost   \n20  20175001550  1497495862  Client Recess  1 - Client lost   \n21  20176000338  1496668594    Inheritance          missing   \n22  20176000338  1496669699    Inheritance          missing   \n23  20176000338  1496672448    Inheritance          missing   \n24  20176000338  1497256082    Inheritance          missing   \n25  20176000338  1497435074    Inheritance          missing   \n26  20176000338  1518181986    Inheritance          missing   \n27  20176000338  1519657505    Inheritance          missing   \n28  20176000338  1536576794    Inheritance          missing   \n29  20176000338  1536655395    Inheritance          missing   \n30  20176000338  1536655410    Inheritance          missing   \n31  20176000338  1536807842    Inheritance          missing   \n32  20176000338  1536829056    Inheritance          missing   \n33  20177000970  1499769748  Client Recess  1 - Client lost   \n34  20177000970  1544629497  Client Recess  1 - Client lost   \n35  20177000993  1499771133  Client Recess  1 - Client lost   \n36  20177000993  1544629471  Client Recess  1 - Client lost   \n37  20177001308  1499855605  Client Recess  1 - Client lost   \n38  20177001308  1499855670  Client Recess  1 - Client lost   \n39  20177001308  1536597675  Client Recess  1 - Client lost   \n40  20177001308  1536677273  Client Recess  1 - Client lost   \n41  20177001308  1536928135  Client Recess  1 - Client lost   \n42  20177001308  1536928326  Client Recess  1 - Client lost   \n43  20177001308  1537239796  Client Recess  1 - Client lost   \n44  20177001580  1499936540    Inheritance          missing   \n45  20177001580  1499936745    Inheritance          missing   \n46  20177001580  1518175446    Inheritance          missing   \n47  20177001580  1518175684    Inheritance          missing   \n48  20177001580  1519650187    Inheritance          missing   \n49  20177001580  1536586531    Inheritance          missing   \n\n                                             ACTIVITY    END_DATE    CE_UO   \n0   Service closure Request with network responsib...  1539175786    00044  \\\n1      Service closure Request with BO responsibility  1539602104      BOC   \n2             Pending Request for Reservation Closure  1539602345      BOC   \n3                         Pending Liquidation Request  1539745391      BOC   \n4              Request completed with account closure  1539745391      BOC   \n5                                     Request created  1541672852    00624   \n6   Service closure Request with network responsib...  1541672917  missing   \n7                             Authorization Requested  1541673010    00186   \n8      Service closure Request with BO responsibility  1542125449      BOC   \n9             Pending Request for Reservation Closure  1542125459      BOC   \n10                        Pending Liquidation Request  1542251285      BOC   \n11             Request completed with account closure  1542251285      BOC   \n12                                    Request created  1496047765    00336   \n13          Evaluating Request (NO registered letter)  1496047969    00356   \n14  Service closure Request with network responsib...  1496048559    00356   \n15     Service closure Request with BO responsibility  1496057013      BOC   \n16                       Network Adjustment Requested  1496222768    00356   \n17     Service closure Request with BO responsibility  1497257101      BOC   \n18            Pending Request for Reservation Closure  1497257226      BOC   \n19                        Pending Liquidation Request  1497495862      BOC   \n20             Request completed with account closure  1497495862      BOC   \n21                                    Request created  1496669699    00198   \n22  Service closure Request with network responsib...  1496672448  missing   \n23                            Authorization Requested  1497256082    00725   \n24     Service closure Request with BO responsibility  1497435074      BOC   \n25                       Network Adjustment Requested  1518181986    00725   \n26     Service closure Request with BO responsibility  1519657505      BOC   \n27                       Network Adjustment Requested  1536576794    00725   \n28     Service closure Request with BO responsibility  1536655395      BOC   \n29            Pending Request for Reservation Closure  1536655410      BOC   \n30                        Pending Liquidation Request  1536807842      BOC   \n31           Pending Request for acquittance of heirs  1536829056      BOC   \n32             Request completed with account closure  1536829056      BOC   \n33                                    Request created  1544629497    00586   \n34                                    Request deleted  1544629497  missing   \n35                                    Request created  1544629471    00381   \n36                                    Request deleted  1544629471  missing   \n37                                    Request created  1499855670    00341   \n38          Evaluating Request (NO registered letter)  1499855837    00345   \n39  Service closure Request with network responsib...  1536677273    00345   \n40     Service closure Request with BO responsibility  1536928135      BOC   \n41            Pending Request for Reservation Closure  1536928326      BOC   \n42                        Pending Liquidation Request  1537239796      BOC   \n43             Request completed with account closure  1537239796      BOC   \n44                                    Request created  1499936745    00569   \n45  Service closure Request with network responsib...  1518175446  missing   \n46                            Authorization Requested  1518175684    00307   \n47     Service closure Request with BO responsibility  1519650187      BOC   \n48                       Network Adjustment Requested  1536586531    00307   \n49     Service closure Request with BO responsibility  1537186887      BOC   \n\n           ROLE  time_from_first  time_from_previous_et  time_from_midnight   \n0     APPLICANT                0                      0               46092  \\\n1   BACK-OFFICE               94                     94               46186   \n2   BACK-OFFICE           426412                 426318               40504   \n3   BACK-OFFICE           426653                    241               40745   \n4   BACK-OFFICE           569699                 143046               10991   \n5     APPLICANT                0                      0               37582   \n6     APPLICANT               70                     70               37652   \n7      DIRECTOR              135                     65               37717   \n8   BACK-OFFICE              228                     93               37810   \n9   BACK-OFFICE           452667                 452439               58249   \n10  BACK-OFFICE           452677                     10               58259   \n11  BACK-OFFICE           578503                 125826               11285   \n12    APPLICANT                0                      0               31666   \n13     DIRECTOR               99                     99               31765   \n14    APPLICANT              498                    399               32164   \n15  BACK-OFFICE              893                    395               32559   \n16    APPLICANT             9347                   8454               41013   \n17  BACK-OFFICE           175102                 165755               33968   \n18  BACK-OFFICE          1209435                1034333               31501   \n19  BACK-OFFICE          1209560                    125               31626   \n20  BACK-OFFICE          1448196                 238636               11062   \n21    APPLICANT                0                      0               47794   \n22    APPLICANT             1105                   1105               48899   \n23     DIRECTOR             3854                   2749               51648   \n24  BACK-OFFICE           587488                 583634               30482   \n25    APPLICANT           766480                 178992               36674   \n26  BACK-OFFICE         21513392               20746912               47586   \n27    APPLICANT         22988911                1475519               54305   \n28  BACK-OFFICE         39908200               16919289               39194   \n29  BACK-OFFICE         39986801                  78601               31395   \n30  BACK-OFFICE         39986816                     15               31410   \n31  BACK-OFFICE         40139248                 152432               11042   \n32  BACK-OFFICE         40160462                  21214               32256   \n33    APPLICANT                0                      0               38548   \n34    APPLICANT         44859749               44859749               56697   \n35    APPLICANT                0                      0               39933   \n36    APPLICANT         44858338               44858338               56671   \n37    APPLICANT                0                      0               38005   \n38     DIRECTOR               65                     65               38070   \n39    APPLICANT         36742070               36742005               60075   \n40  BACK-OFFICE         36821668                  79598               53273   \n41  BACK-OFFICE         37072530                 250862               44935   \n42  BACK-OFFICE         37072721                    191               45126   \n43  BACK-OFFICE         37384191                 311470               10996   \n44    APPLICANT                0                      0               32540   \n45    APPLICANT              205                    205               32745   \n46     DIRECTOR         18238906               18238701               41046   \n47  BACK-OFFICE         18239144                    238               41284   \n48    APPLICANT         19713647                1474503               46987   \n49  BACK-OFFICE         36649991               16936344               48931   \n\n      weekday  activity_duration  time_remaining   \n0   Wednesday                 94          569699  \\\n1   Wednesday             426318          569605   \n2      Monday                241          143287   \n3      Monday             143046          143046   \n4   Wednesday                  0               0   \n5    Thursday                 70          578503   \n6    Thursday                 65          578433   \n7    Thursday                 93          578368   \n8    Thursday             452439          578275   \n9     Tuesday                 10          125836   \n10    Tuesday             125826          125826   \n11   Thursday                  0               0   \n12     Monday                 99         1448196   \n13     Monday                204         1448097   \n14     Monday                395         1447698   \n15     Monday               8454         1447303   \n16     Monday             165755         1438849   \n17  Wednesday            1034333         1273094   \n18     Monday                125          238761   \n19     Monday             238636          238636   \n20   Thursday                  0               0   \n21     Monday               1105        40160462   \n22     Monday               2749        40159357   \n23     Monday             583634        40156608   \n24     Monday             178992        39572974   \n25  Wednesday           20746912        39393982   \n26     Friday            1475519        18647070   \n27     Monday           16919289        17171551   \n28     Monday              78601          252262   \n29    Tuesday                 15          173661   \n30    Tuesday             152432          173646   \n31   Thursday              21214           21214   \n32   Thursday                  0               0   \n33    Tuesday           44859749        44859749   \n34  Wednesday                  0               0   \n35    Tuesday           44858338        44858338   \n36  Wednesday                  0               0   \n37  Wednesday                 65        37384191   \n38  Wednesday                167        37384126   \n39     Monday              79598          642121   \n40    Tuesday             250862          562523   \n41     Friday                191          311661   \n42     Friday             311470          311470   \n43    Tuesday                  0               0   \n44   Thursday                205        37389666   \n45   Thursday           18238701        37389461   \n46     Friday                238        19150760   \n47     Friday            1474503        19150522   \n48     Monday           16936344        17676019   \n49     Monday             600356          739675   \n\n    # ACTIVITY=Service closure Request with network responsibility   \n0                                                   0               \\\n1                                                   1                \n2                                                   1                \n3                                                   1                \n4                                                   1                \n5                                                   0                \n6                                                   0                \n7                                                   1                \n8                                                   1                \n9                                                   1                \n10                                                  1                \n11                                                  1                \n12                                                  0                \n13                                                  0                \n14                                                  0                \n15                                                  1                \n16                                                  1                \n17                                                  1                \n18                                                  1                \n19                                                  1                \n20                                                  1                \n21                                                  0                \n22                                                  0                \n23                                                  1                \n24                                                  1                \n25                                                  1                \n26                                                  1                \n27                                                  1                \n28                                                  1                \n29                                                  1                \n30                                                  1                \n31                                                  1                \n32                                                  1                \n33                                                  0                \n34                                                  0                \n35                                                  0                \n36                                                  0                \n37                                                  0                \n38                                                  0                \n39                                                  0                \n40                                                  1                \n41                                                  1                \n42                                                  1                \n43                                                  1                \n44                                                  0                \n45                                                  0                \n46                                                  1                \n47                                                  1                \n48                                                  1                \n49                                                  1                \n\n    # ACTIVITY=Service closure Request with BO responsibility   \n0                                                   0          \\\n1                                                   0           \n2                                                   1           \n3                                                   1           \n4                                                   1           \n5                                                   0           \n6                                                   0           \n7                                                   0           \n8                                                   0           \n9                                                   1           \n10                                                  1           \n11                                                  1           \n12                                                  0           \n13                                                  0           \n14                                                  0           \n15                                                  0           \n16                                                  1           \n17                                                  1           \n18                                                  2           \n19                                                  2           \n20                                                  2           \n21                                                  0           \n22                                                  0           \n23                                                  0           \n24                                                  0           \n25                                                  1           \n26                                                  1           \n27                                                  2           \n28                                                  2           \n29                                                  3           \n30                                                  3           \n31                                                  3           \n32                                                  3           \n33                                                  0           \n34                                                  0           \n35                                                  0           \n36                                                  0           \n37                                                  0           \n38                                                  0           \n39                                                  0           \n40                                                  0           \n41                                                  1           \n42                                                  1           \n43                                                  1           \n44                                                  0           \n45                                                  0           \n46                                                  0           \n47                                                  0           \n48                                                  1           \n49                                                  1           \n\n    # ACTIVITY=Pending Request for Reservation Closure   \n0                                                   0   \\\n1                                                   0    \n2                                                   0    \n3                                                   1    \n4                                                   1    \n5                                                   0    \n6                                                   0    \n7                                                   0    \n8                                                   0    \n9                                                   0    \n10                                                  1    \n11                                                  1    \n12                                                  0    \n13                                                  0    \n14                                                  0    \n15                                                  0    \n16                                                  0    \n17                                                  0    \n18                                                  0    \n19                                                  1    \n20                                                  1    \n21                                                  0    \n22                                                  0    \n23                                                  0    \n24                                                  0    \n25                                                  0    \n26                                                  0    \n27                                                  0    \n28                                                  0    \n29                                                  0    \n30                                                  1    \n31                                                  1    \n32                                                  1    \n33                                                  0    \n34                                                  0    \n35                                                  0    \n36                                                  0    \n37                                                  0    \n38                                                  0    \n39                                                  0    \n40                                                  0    \n41                                                  0    \n42                                                  1    \n43                                                  1    \n44                                                  0    \n45                                                  0    \n46                                                  0    \n47                                                  0    \n48                                                  0    \n49                                                  0    \n\n    # ACTIVITY=Pending Liquidation Request   \n0                                        0  \\\n1                                        0   \n2                                        0   \n3                                        0   \n4                                        1   \n5                                        0   \n6                                        0   \n7                                        0   \n8                                        0   \n9                                        0   \n10                                       0   \n11                                       1   \n12                                       0   \n13                                       0   \n14                                       0   \n15                                       0   \n16                                       0   \n17                                       0   \n18                                       0   \n19                                       0   \n20                                       1   \n21                                       0   \n22                                       0   \n23                                       0   \n24                                       0   \n25                                       0   \n26                                       0   \n27                                       0   \n28                                       0   \n29                                       0   \n30                                       0   \n31                                       1   \n32                                       1   \n33                                       0   \n34                                       0   \n35                                       0   \n36                                       0   \n37                                       0   \n38                                       0   \n39                                       0   \n40                                       0   \n41                                       0   \n42                                       0   \n43                                       1   \n44                                       0   \n45                                       0   \n46                                       0   \n47                                       0   \n48                                       0   \n49                                       0   \n\n    # ACTIVITY=Request completed with account closure   \n0                                                   0  \\\n1                                                   0   \n2                                                   0   \n3                                                   0   \n4                                                   0   \n5                                                   0   \n6                                                   0   \n7                                                   0   \n8                                                   0   \n9                                                   0   \n10                                                  0   \n11                                                  0   \n12                                                  0   \n13                                                  0   \n14                                                  0   \n15                                                  0   \n16                                                  0   \n17                                                  0   \n18                                                  0   \n19                                                  0   \n20                                                  0   \n21                                                  0   \n22                                                  0   \n23                                                  0   \n24                                                  0   \n25                                                  0   \n26                                                  0   \n27                                                  0   \n28                                                  0   \n29                                                  0   \n30                                                  0   \n31                                                  0   \n32                                                  0   \n33                                                  0   \n34                                                  0   \n35                                                  0   \n36                                                  0   \n37                                                  0   \n38                                                  0   \n39                                                  0   \n40                                                  0   \n41                                                  0   \n42                                                  0   \n43                                                  0   \n44                                                  0   \n45                                                  0   \n46                                                  0   \n47                                                  0   \n48                                                  0   \n49                                                  0   \n\n    # ACTIVITY=Request created  # ACTIVITY=Authorization Requested   \n0                            0                                   0  \\\n1                            0                                   0   \n2                            0                                   0   \n3                            0                                   0   \n4                            0                                   0   \n5                            0                                   0   \n6                            1                                   0   \n7                            1                                   0   \n8                            1                                   1   \n9                            1                                   1   \n10                           1                                   1   \n11                           1                                   1   \n12                           0                                   0   \n13                           1                                   0   \n14                           1                                   0   \n15                           1                                   0   \n16                           1                                   0   \n17                           1                                   0   \n18                           1                                   0   \n19                           1                                   0   \n20                           1                                   0   \n21                           0                                   0   \n22                           1                                   0   \n23                           1                                   0   \n24                           1                                   1   \n25                           1                                   1   \n26                           1                                   1   \n27                           1                                   1   \n28                           1                                   1   \n29                           1                                   1   \n30                           1                                   1   \n31                           1                                   1   \n32                           1                                   1   \n33                           0                                   0   \n34                           1                                   0   \n35                           0                                   0   \n36                           1                                   0   \n37                           0                                   0   \n38                           1                                   0   \n39                           1                                   0   \n40                           1                                   0   \n41                           1                                   0   \n42                           1                                   0   \n43                           1                                   0   \n44                           0                                   0   \n45                           1                                   0   \n46                           1                                   0   \n47                           1                                   1   \n48                           1                                   1   \n49                           1                                   1   \n\n    # ACTIVITY=Evaluating Request (NO registered letter)   \n0                                                   0     \\\n1                                                   0      \n2                                                   0      \n3                                                   0      \n4                                                   0      \n5                                                   0      \n6                                                   0      \n7                                                   0      \n8                                                   0      \n9                                                   0      \n10                                                  0      \n11                                                  0      \n12                                                  0      \n13                                                  0      \n14                                                  1      \n15                                                  1      \n16                                                  1      \n17                                                  1      \n18                                                  1      \n19                                                  1      \n20                                                  1      \n21                                                  0      \n22                                                  0      \n23                                                  0      \n24                                                  0      \n25                                                  0      \n26                                                  0      \n27                                                  0      \n28                                                  0      \n29                                                  0      \n30                                                  0      \n31                                                  0      \n32                                                  0      \n33                                                  0      \n34                                                  0      \n35                                                  0      \n36                                                  0      \n37                                                  0      \n38                                                  0      \n39                                                  1      \n40                                                  1      \n41                                                  1      \n42                                                  1      \n43                                                  1      \n44                                                  0      \n45                                                  0      \n46                                                  0      \n47                                                  0      \n48                                                  0      \n49                                                  0      \n\n    # ACTIVITY=Network Adjustment Requested   \n0                                         0  \\\n1                                         0   \n2                                         0   \n3                                         0   \n4                                         0   \n5                                         0   \n6                                         0   \n7                                         0   \n8                                         0   \n9                                         0   \n10                                        0   \n11                                        0   \n12                                        0   \n13                                        0   \n14                                        0   \n15                                        0   \n16                                        0   \n17                                        1   \n18                                        1   \n19                                        1   \n20                                        1   \n21                                        0   \n22                                        0   \n23                                        0   \n24                                        0   \n25                                        0   \n26                                        1   \n27                                        1   \n28                                        2   \n29                                        2   \n30                                        2   \n31                                        2   \n32                                        2   \n33                                        0   \n34                                        0   \n35                                        0   \n36                                        0   \n37                                        0   \n38                                        0   \n39                                        0   \n40                                        0   \n41                                        0   \n42                                        0   \n43                                        0   \n44                                        0   \n45                                        0   \n46                                        0   \n47                                        0   \n48                                        0   \n49                                        1   \n\n    # ACTIVITY=Pending Request for acquittance of heirs   \n0                                                   0    \\\n1                                                   0     \n2                                                   0     \n3                                                   0     \n4                                                   0     \n5                                                   0     \n6                                                   0     \n7                                                   0     \n8                                                   0     \n9                                                   0     \n10                                                  0     \n11                                                  0     \n12                                                  0     \n13                                                  0     \n14                                                  0     \n15                                                  0     \n16                                                  0     \n17                                                  0     \n18                                                  0     \n19                                                  0     \n20                                                  0     \n21                                                  0     \n22                                                  0     \n23                                                  0     \n24                                                  0     \n25                                                  0     \n26                                                  0     \n27                                                  0     \n28                                                  0     \n29                                                  0     \n30                                                  0     \n31                                                  0     \n32                                                  1     \n33                                                  0     \n34                                                  0     \n35                                                  0     \n36                                                  0     \n37                                                  0     \n38                                                  0     \n39                                                  0     \n40                                                  0     \n41                                                  0     \n42                                                  0     \n43                                                  0     \n44                                                  0     \n45                                                  0     \n46                                                  0     \n47                                                  0     \n48                                                  0     \n49                                                  0     \n\n    # ACTIVITY=Request deleted  # ACTIVITY=Back-Office Adjustment Requested   \n0                            0                                            0  \\\n1                            0                                            0   \n2                            0                                            0   \n3                            0                                            0   \n4                            0                                            0   \n5                            0                                            0   \n6                            0                                            0   \n7                            0                                            0   \n8                            0                                            0   \n9                            0                                            0   \n10                           0                                            0   \n11                           0                                            0   \n12                           0                                            0   \n13                           0                                            0   \n14                           0                                            0   \n15                           0                                            0   \n16                           0                                            0   \n17                           0                                            0   \n18                           0                                            0   \n19                           0                                            0   \n20                           0                                            0   \n21                           0                                            0   \n22                           0                                            0   \n23                           0                                            0   \n24                           0                                            0   \n25                           0                                            0   \n26                           0                                            0   \n27                           0                                            0   \n28                           0                                            0   \n29                           0                                            0   \n30                           0                                            0   \n31                           0                                            0   \n32                           0                                            0   \n33                           0                                            0   \n34                           0                                            0   \n35                           0                                            0   \n36                           0                                            0   \n37                           0                                            0   \n38                           0                                            0   \n39                           0                                            0   \n40                           0                                            0   \n41                           0                                            0   \n42                           0                                            0   \n43                           0                                            0   \n44                           0                                            0   \n45                           0                                            0   \n46                           0                                            0   \n47                           0                                            0   \n48                           0                                            0   \n49                           0                                            0   \n\n    # ACTIVITY=Evaluating Request (WITH registered letter)   \n0                                                   0       \\\n1                                                   0        \n2                                                   0        \n3                                                   0        \n4                                                   0        \n5                                                   0        \n6                                                   0        \n7                                                   0        \n8                                                   0        \n9                                                   0        \n10                                                  0        \n11                                                  0        \n12                                                  0        \n13                                                  0        \n14                                                  0        \n15                                                  0        \n16                                                  0        \n17                                                  0        \n18                                                  0        \n19                                                  0        \n20                                                  0        \n21                                                  0        \n22                                                  0        \n23                                                  0        \n24                                                  0        \n25                                                  0        \n26                                                  0        \n27                                                  0        \n28                                                  0        \n29                                                  0        \n30                                                  0        \n31                                                  0        \n32                                                  0        \n33                                                  0        \n34                                                  0        \n35                                                  0        \n36                                                  0        \n37                                                  0        \n38                                                  0        \n39                                                  0        \n40                                                  0        \n41                                                  0        \n42                                                  0        \n43                                                  0        \n44                                                  0        \n45                                                  0        \n46                                                  0        \n47                                                  0        \n48                                                  0        \n49                                                  0        \n\n    # ACTIVITY=Request completed with customer recovery   \n0                                                   0    \\\n1                                                   0     \n2                                                   0     \n3                                                   0     \n4                                                   0     \n5                                                   0     \n6                                                   0     \n7                                                   0     \n8                                                   0     \n9                                                   0     \n10                                                  0     \n11                                                  0     \n12                                                  0     \n13                                                  0     \n14                                                  0     \n15                                                  0     \n16                                                  0     \n17                                                  0     \n18                                                  0     \n19                                                  0     \n20                                                  0     \n21                                                  0     \n22                                                  0     \n23                                                  0     \n24                                                  0     \n25                                                  0     \n26                                                  0     \n27                                                  0     \n28                                                  0     \n29                                                  0     \n30                                                  0     \n31                                                  0     \n32                                                  0     \n33                                                  0     \n34                                                  0     \n35                                                  0     \n36                                                  0     \n37                                                  0     \n38                                                  0     \n39                                                  0     \n40                                                  0     \n41                                                  0     \n42                                                  0     \n43                                                  0     \n44                                                  0     \n45                                                  0     \n46                                                  0     \n47                                                  0     \n48                                                  0     \n49                                                  0     \n\n    # ACTIVITY=Pending Request for Network Information  \n0                                                   0   \n1                                                   0   \n2                                                   0   \n3                                                   0   \n4                                                   0   \n5                                                   0   \n6                                                   0   \n7                                                   0   \n8                                                   0   \n9                                                   0   \n10                                                  0   \n11                                                  0   \n12                                                  0   \n13                                                  0   \n14                                                  0   \n15                                                  0   \n16                                                  0   \n17                                                  0   \n18                                                  0   \n19                                                  0   \n20                                                  0   \n21                                                  0   \n22                                                  0   \n23                                                  0   \n24                                                  0   \n25                                                  0   \n26                                                  0   \n27                                                  0   \n28                                                  0   \n29                                                  0   \n30                                                  0   \n31                                                  0   \n32                                                  0   \n33                                                  0   \n34                                                  0   \n35                                                  0   \n36                                                  0   \n37                                                  0   \n38                                                  0   \n39                                                  0   \n40                                                  0   \n41                                                  0   \n42                                                  0   \n43                                                  0   \n44                                                  0   \n45                                                  0   \n46                                                  0   \n47                                                  0   \n48                                                  0   \n49                                                  0   ",
      "text/html": "<div>\n<style scoped>\n    .dataframe tbody tr th:only-of-type {\n        vertical-align: middle;\n    }\n\n    .dataframe tbody tr th {\n        vertical-align: top;\n    }\n\n    .dataframe thead th {\n        text-align: right;\n    }\n</style>\n<table border=\"1\" class=\"dataframe\">\n  <thead>\n    <tr style=\"text-align: right;\">\n      <th></th>\n      <th>REQUEST_ID</th>\n      <th>START_DATE</th>\n      <th>CLOSURE_TYPE</th>\n      <th>CLOSURE_REASON</th>\n      <th>ACTIVITY</th>\n      <th>END_DATE</th>\n      <th>CE_UO</th>\n      <th>ROLE</th>\n      <th>time_from_first</th>\n      <th>time_from_previous_et</th>\n      <th>time_from_midnight</th>\n      <th>weekday</th>\n      <th>activity_duration</th>\n      <th>time_remaining</th>\n      <th># ACTIVITY=Service closure Request with network responsibility</th>\n      <th># ACTIVITY=Service closure Request with BO responsibility</th>\n      <th># ACTIVITY=Pending Request for Reservation Closure</th>\n      <th># ACTIVITY=Pending Liquidation Request</th>\n      <th># ACTIVITY=Request completed with account closure</th>\n      <th># ACTIVITY=Request created</th>\n      <th># ACTIVITY=Authorization Requested</th>\n      <th># ACTIVITY=Evaluating Request (NO registered letter)</th>\n      <th># ACTIVITY=Network Adjustment Requested</th>\n      <th># ACTIVITY=Pending Request for acquittance of heirs</th>\n      <th># ACTIVITY=Request deleted</th>\n      <th># ACTIVITY=Back-Office Adjustment Requested</th>\n      <th># ACTIVITY=Evaluating Request (WITH registered letter)</th>\n      <th># ACTIVITY=Request completed with customer recovery</th>\n      <th># ACTIVITY=Pending Request for Network Information</th>\n    </tr>\n  </thead>\n  <tbody>\n    <tr>\n      <th>0</th>\n      <td>20175000168</td>\n      <td>1539175692</td>\n      <td>Client Recess</td>\n      <td>1 - Client lost</td>\n      <td>Service closure Request with network responsib...</td>\n      <td>1539175786</td>\n      <td>00044</td>\n      <td>APPLICANT</td>\n      <td>0</td>\n      <td>0</td>\n      <td>46092</td>\n      <td>Wednesday</td>\n      <td>94</td>\n      <td>569699</td>\n      <td>0</td>\n      <td>0</td>\n      <td>0</td>\n      <td>0</td>\n      <td>0</td>\n      <td>0</td>\n      <td>0</td>\n      <td>0</td>\n      <td>0</td>\n      <td>0</td>\n      <td>0</td>\n      <td>0</td>\n      <td>0</td>\n      <td>0</td>\n      <td>0</td>\n    </tr>\n    <tr>\n      <th>1</th>\n      <td>20175000168</td>\n      <td>1539175786</td>\n      <td>Client Recess</td>\n      <td>1 - Client lost</td>\n      <td>Service closure Request with BO responsibility</td>\n      <td>1539602104</td>\n      <td>BOC</td>\n      <td>BACK-OFFICE</td>\n      <td>94</td>\n      <td>94</td>\n      <td>46186</td>\n      <td>Wednesday</td>\n      <td>426318</td>\n      <td>569605</td>\n      <td>1</td>\n      <td>0</td>\n      <td>0</td>\n      <td>0</td>\n      <td>0</td>\n      <td>0</td>\n      <td>0</td>\n      <td>0</td>\n      <td>0</td>\n      <td>0</td>\n      <td>0</td>\n      <td>0</td>\n      <td>0</td>\n      <td>0</td>\n      <td>0</td>\n    </tr>\n    <tr>\n      <th>2</th>\n      <td>20175000168</td>\n      <td>1539602104</td>\n      <td>Client Recess</td>\n      <td>1 - Client lost</td>\n      <td>Pending Request for Reservation Closure</td>\n      <td>1539602345</td>\n      <td>BOC</td>\n      <td>BACK-OFFICE</td>\n      <td>426412</td>\n      <td>426318</td>\n      <td>40504</td>\n      <td>Monday</td>\n      <td>241</td>\n      <td>143287</td>\n      <td>1</td>\n      <td>1</td>\n      <td>0</td>\n      <td>0</td>\n      <td>0</td>\n      <td>0</td>\n      <td>0</td>\n      <td>0</td>\n      <td>0</td>\n      <td>0</td>\n      <td>0</td>\n      <td>0</td>\n      <td>0</td>\n      <td>0</td>\n      <td>0</td>\n    </tr>\n    <tr>\n      <th>3</th>\n      <td>20175000168</td>\n      <td>1539602345</td>\n      <td>Client Recess</td>\n      <td>1 - Client lost</td>\n      <td>Pending Liquidation Request</td>\n      <td>1539745391</td>\n      <td>BOC</td>\n      <td>BACK-OFFICE</td>\n      <td>426653</td>\n      <td>241</td>\n      <td>40745</td>\n      <td>Monday</td>\n      <td>143046</td>\n      <td>143046</td>\n      <td>1</td>\n      <td>1</td>\n      <td>1</td>\n      <td>0</td>\n      <td>0</td>\n      <td>0</td>\n      <td>0</td>\n      <td>0</td>\n      <td>0</td>\n      <td>0</td>\n      <td>0</td>\n      <td>0</td>\n      <td>0</td>\n      <td>0</td>\n      <td>0</td>\n    </tr>\n    <tr>\n      <th>4</th>\n      <td>20175000168</td>\n      <td>1539745391</td>\n      <td>Client Recess</td>\n      <td>1 - Client lost</td>\n      <td>Request completed with account closure</td>\n      <td>1539745391</td>\n      <td>BOC</td>\n      <td>BACK-OFFICE</td>\n      <td>569699</td>\n      <td>143046</td>\n      <td>10991</td>\n      <td>Wednesday</td>\n      <td>0</td>\n      <td>0</td>\n      <td>1</td>\n      <td>1</td>\n      <td>1</td>\n      <td>1</td>\n      <td>0</td>\n      <td>0</td>\n      <td>0</td>\n      <td>0</td>\n      <td>0</td>\n      <td>0</td>\n      <td>0</td>\n      <td>0</td>\n      <td>0</td>\n      <td>0</td>\n      <td>0</td>\n    </tr>\n    <tr>\n      <th>5</th>\n      <td>20175000642</td>\n      <td>1541672782</td>\n      <td>Bank Recess</td>\n      <td>1 - Client lost</td>\n      <td>Request created</td>\n      <td>1541672852</td>\n      <td>00624</td>\n      <td>APPLICANT</td>\n      <td>0</td>\n      <td>0</td>\n      <td>37582</td>\n      <td>Thursday</td>\n      <td>70</td>\n      <td>578503</td>\n      <td>0</td>\n      <td>0</td>\n      <td>0</td>\n      <td>0</td>\n      <td>0</td>\n      <td>0</td>\n      <td>0</td>\n      <td>0</td>\n      <td>0</td>\n      <td>0</td>\n      <td>0</td>\n      <td>0</td>\n      <td>0</td>\n      <td>0</td>\n      <td>0</td>\n    </tr>\n    <tr>\n      <th>6</th>\n      <td>20175000642</td>\n      <td>1541672852</td>\n      <td>Bank Recess</td>\n      <td>1 - Client lost</td>\n      <td>Service closure Request with network responsib...</td>\n      <td>1541672917</td>\n      <td>missing</td>\n      <td>APPLICANT</td>\n      <td>70</td>\n      <td>70</td>\n      <td>37652</td>\n      <td>Thursday</td>\n      <td>65</td>\n      <td>578433</td>\n      <td>0</td>\n      <td>0</td>\n      <td>0</td>\n      <td>0</td>\n      <td>0</td>\n      <td>1</td>\n      <td>0</td>\n      <td>0</td>\n      <td>0</td>\n      <td>0</td>\n      <td>0</td>\n      <td>0</td>\n      <td>0</td>\n      <td>0</td>\n      <td>0</td>\n    </tr>\n    <tr>\n      <th>7</th>\n      <td>20175000642</td>\n      <td>1541672917</td>\n      <td>Bank Recess</td>\n      <td>1 - Client lost</td>\n      <td>Authorization Requested</td>\n      <td>1541673010</td>\n      <td>00186</td>\n      <td>DIRECTOR</td>\n      <td>135</td>\n      <td>65</td>\n      <td>37717</td>\n      <td>Thursday</td>\n      <td>93</td>\n      <td>578368</td>\n      <td>1</td>\n      <td>0</td>\n      <td>0</td>\n      <td>0</td>\n      <td>0</td>\n      <td>1</td>\n      <td>0</td>\n      <td>0</td>\n      <td>0</td>\n      <td>0</td>\n      <td>0</td>\n      <td>0</td>\n      <td>0</td>\n      <td>0</td>\n      <td>0</td>\n    </tr>\n    <tr>\n      <th>8</th>\n      <td>20175000642</td>\n      <td>1541673010</td>\n      <td>Bank Recess</td>\n      <td>1 - Client lost</td>\n      <td>Service closure Request with BO responsibility</td>\n      <td>1542125449</td>\n      <td>BOC</td>\n      <td>BACK-OFFICE</td>\n      <td>228</td>\n      <td>93</td>\n      <td>37810</td>\n      <td>Thursday</td>\n      <td>452439</td>\n      <td>578275</td>\n      <td>1</td>\n      <td>0</td>\n      <td>0</td>\n      <td>0</td>\n      <td>0</td>\n      <td>1</td>\n      <td>1</td>\n      <td>0</td>\n      <td>0</td>\n      <td>0</td>\n      <td>0</td>\n      <td>0</td>\n      <td>0</td>\n      <td>0</td>\n      <td>0</td>\n    </tr>\n    <tr>\n      <th>9</th>\n      <td>20175000642</td>\n      <td>1542125449</td>\n      <td>Bank Recess</td>\n      <td>1 - Client lost</td>\n      <td>Pending Request for Reservation Closure</td>\n      <td>1542125459</td>\n      <td>BOC</td>\n      <td>BACK-OFFICE</td>\n      <td>452667</td>\n      <td>452439</td>\n      <td>58249</td>\n      <td>Tuesday</td>\n      <td>10</td>\n      <td>125836</td>\n      <td>1</td>\n      <td>1</td>\n      <td>0</td>\n      <td>0</td>\n      <td>0</td>\n      <td>1</td>\n      <td>1</td>\n      <td>0</td>\n      <td>0</td>\n      <td>0</td>\n      <td>0</td>\n      <td>0</td>\n      <td>0</td>\n      <td>0</td>\n      <td>0</td>\n    </tr>\n    <tr>\n      <th>10</th>\n      <td>20175000642</td>\n      <td>1542125459</td>\n      <td>Bank Recess</td>\n      <td>1 - Client lost</td>\n      <td>Pending Liquidation Request</td>\n      <td>1542251285</td>\n      <td>BOC</td>\n      <td>BACK-OFFICE</td>\n      <td>452677</td>\n      <td>10</td>\n      <td>58259</td>\n      <td>Tuesday</td>\n      <td>125826</td>\n      <td>125826</td>\n      <td>1</td>\n      <td>1</td>\n      <td>1</td>\n      <td>0</td>\n      <td>0</td>\n      <td>1</td>\n      <td>1</td>\n      <td>0</td>\n      <td>0</td>\n      <td>0</td>\n      <td>0</td>\n      <td>0</td>\n      <td>0</td>\n      <td>0</td>\n      <td>0</td>\n    </tr>\n    <tr>\n      <th>11</th>\n      <td>20175000642</td>\n      <td>1542251285</td>\n      <td>Bank Recess</td>\n      <td>1 - Client lost</td>\n      <td>Request completed with account closure</td>\n      <td>1542251285</td>\n      <td>BOC</td>\n      <td>BACK-OFFICE</td>\n      <td>578503</td>\n      <td>125826</td>\n      <td>11285</td>\n      <td>Thursday</td>\n      <td>0</td>\n      <td>0</td>\n      <td>1</td>\n      <td>1</td>\n      <td>1</td>\n      <td>1</td>\n      <td>0</td>\n      <td>1</td>\n      <td>1</td>\n      <td>0</td>\n      <td>0</td>\n      <td>0</td>\n      <td>0</td>\n      <td>0</td>\n      <td>0</td>\n      <td>0</td>\n      <td>0</td>\n    </tr>\n    <tr>\n      <th>12</th>\n      <td>20175001550</td>\n      <td>1496047666</td>\n      <td>Client Recess</td>\n      <td>1 - Client lost</td>\n      <td>Request created</td>\n      <td>1496047765</td>\n      <td>00336</td>\n      <td>APPLICANT</td>\n      <td>0</td>\n      <td>0</td>\n      <td>31666</td>\n      <td>Monday</td>\n      <td>99</td>\n      <td>1448196</td>\n      <td>0</td>\n      <td>0</td>\n      <td>0</td>\n      <td>0</td>\n      <td>0</td>\n      <td>0</td>\n      <td>0</td>\n      <td>0</td>\n      <td>0</td>\n      <td>0</td>\n      <td>0</td>\n      <td>0</td>\n      <td>0</td>\n      <td>0</td>\n      <td>0</td>\n    </tr>\n    <tr>\n      <th>13</th>\n      <td>20175001550</td>\n      <td>1496047765</td>\n      <td>Client Recess</td>\n      <td>1 - Client lost</td>\n      <td>Evaluating Request (NO registered letter)</td>\n      <td>1496047969</td>\n      <td>00356</td>\n      <td>DIRECTOR</td>\n      <td>99</td>\n      <td>99</td>\n      <td>31765</td>\n      <td>Monday</td>\n      <td>204</td>\n      <td>1448097</td>\n      <td>0</td>\n      <td>0</td>\n      <td>0</td>\n      <td>0</td>\n      <td>0</td>\n      <td>1</td>\n      <td>0</td>\n      <td>0</td>\n      <td>0</td>\n      <td>0</td>\n      <td>0</td>\n      <td>0</td>\n      <td>0</td>\n      <td>0</td>\n      <td>0</td>\n    </tr>\n    <tr>\n      <th>14</th>\n      <td>20175001550</td>\n      <td>1496048164</td>\n      <td>Client Recess</td>\n      <td>1 - Client lost</td>\n      <td>Service closure Request with network responsib...</td>\n      <td>1496048559</td>\n      <td>00356</td>\n      <td>APPLICANT</td>\n      <td>498</td>\n      <td>399</td>\n      <td>32164</td>\n      <td>Monday</td>\n      <td>395</td>\n      <td>1447698</td>\n      <td>0</td>\n      <td>0</td>\n      <td>0</td>\n      <td>0</td>\n      <td>0</td>\n      <td>1</td>\n      <td>0</td>\n      <td>1</td>\n      <td>0</td>\n      <td>0</td>\n      <td>0</td>\n      <td>0</td>\n      <td>0</td>\n      <td>0</td>\n      <td>0</td>\n    </tr>\n    <tr>\n      <th>15</th>\n      <td>20175001550</td>\n      <td>1496048559</td>\n      <td>Client Recess</td>\n      <td>1 - Client lost</td>\n      <td>Service closure Request with BO responsibility</td>\n      <td>1496057013</td>\n      <td>BOC</td>\n      <td>BACK-OFFICE</td>\n      <td>893</td>\n      <td>395</td>\n      <td>32559</td>\n      <td>Monday</td>\n      <td>8454</td>\n      <td>1447303</td>\n      <td>1</td>\n      <td>0</td>\n      <td>0</td>\n      <td>0</td>\n      <td>0</td>\n      <td>1</td>\n      <td>0</td>\n      <td>1</td>\n      <td>0</td>\n      <td>0</td>\n      <td>0</td>\n      <td>0</td>\n      <td>0</td>\n      <td>0</td>\n      <td>0</td>\n    </tr>\n    <tr>\n      <th>16</th>\n      <td>20175001550</td>\n      <td>1496057013</td>\n      <td>Client Recess</td>\n      <td>1 - Client lost</td>\n      <td>Network Adjustment Requested</td>\n      <td>1496222768</td>\n      <td>00356</td>\n      <td>APPLICANT</td>\n      <td>9347</td>\n      <td>8454</td>\n      <td>41013</td>\n      <td>Monday</td>\n      <td>165755</td>\n      <td>1438849</td>\n      <td>1</td>\n      <td>1</td>\n      <td>0</td>\n      <td>0</td>\n      <td>0</td>\n      <td>1</td>\n      <td>0</td>\n      <td>1</td>\n      <td>0</td>\n      <td>0</td>\n      <td>0</td>\n      <td>0</td>\n      <td>0</td>\n      <td>0</td>\n      <td>0</td>\n    </tr>\n    <tr>\n      <th>17</th>\n      <td>20175001550</td>\n      <td>1496222768</td>\n      <td>Client Recess</td>\n      <td>1 - Client lost</td>\n      <td>Service closure Request with BO responsibility</td>\n      <td>1497257101</td>\n      <td>BOC</td>\n      <td>BACK-OFFICE</td>\n      <td>175102</td>\n      <td>165755</td>\n      <td>33968</td>\n      <td>Wednesday</td>\n      <td>1034333</td>\n      <td>1273094</td>\n      <td>1</td>\n      <td>1</td>\n      <td>0</td>\n      <td>0</td>\n      <td>0</td>\n      <td>1</td>\n      <td>0</td>\n      <td>1</td>\n      <td>1</td>\n      <td>0</td>\n      <td>0</td>\n      <td>0</td>\n      <td>0</td>\n      <td>0</td>\n      <td>0</td>\n    </tr>\n    <tr>\n      <th>18</th>\n      <td>20175001550</td>\n      <td>1497257101</td>\n      <td>Client Recess</td>\n      <td>1 - Client lost</td>\n      <td>Pending Request for Reservation Closure</td>\n      <td>1497257226</td>\n      <td>BOC</td>\n      <td>BACK-OFFICE</td>\n      <td>1209435</td>\n      <td>1034333</td>\n      <td>31501</td>\n      <td>Monday</td>\n      <td>125</td>\n      <td>238761</td>\n      <td>1</td>\n      <td>2</td>\n      <td>0</td>\n      <td>0</td>\n      <td>0</td>\n      <td>1</td>\n      <td>0</td>\n      <td>1</td>\n      <td>1</td>\n      <td>0</td>\n      <td>0</td>\n      <td>0</td>\n      <td>0</td>\n      <td>0</td>\n      <td>0</td>\n    </tr>\n    <tr>\n      <th>19</th>\n      <td>20175001550</td>\n      <td>1497257226</td>\n      <td>Client Recess</td>\n      <td>1 - Client lost</td>\n      <td>Pending Liquidation Request</td>\n      <td>1497495862</td>\n      <td>BOC</td>\n      <td>BACK-OFFICE</td>\n      <td>1209560</td>\n      <td>125</td>\n      <td>31626</td>\n      <td>Monday</td>\n      <td>238636</td>\n      <td>238636</td>\n      <td>1</td>\n      <td>2</td>\n      <td>1</td>\n      <td>0</td>\n      <td>0</td>\n      <td>1</td>\n      <td>0</td>\n      <td>1</td>\n      <td>1</td>\n      <td>0</td>\n      <td>0</td>\n      <td>0</td>\n      <td>0</td>\n      <td>0</td>\n      <td>0</td>\n    </tr>\n    <tr>\n      <th>20</th>\n      <td>20175001550</td>\n      <td>1497495862</td>\n      <td>Client Recess</td>\n      <td>1 - Client lost</td>\n      <td>Request completed with account closure</td>\n      <td>1497495862</td>\n      <td>BOC</td>\n      <td>BACK-OFFICE</td>\n      <td>1448196</td>\n      <td>238636</td>\n      <td>11062</td>\n      <td>Thursday</td>\n      <td>0</td>\n      <td>0</td>\n      <td>1</td>\n      <td>2</td>\n      <td>1</td>\n      <td>1</td>\n      <td>0</td>\n      <td>1</td>\n      <td>0</td>\n      <td>1</td>\n      <td>1</td>\n      <td>0</td>\n      <td>0</td>\n      <td>0</td>\n      <td>0</td>\n      <td>0</td>\n      <td>0</td>\n    </tr>\n    <tr>\n      <th>21</th>\n      <td>20176000338</td>\n      <td>1496668594</td>\n      <td>Inheritance</td>\n      <td>missing</td>\n      <td>Request created</td>\n      <td>1496669699</td>\n      <td>00198</td>\n      <td>APPLICANT</td>\n      <td>0</td>\n      <td>0</td>\n      <td>47794</td>\n      <td>Monday</td>\n      <td>1105</td>\n      <td>40160462</td>\n      <td>0</td>\n      <td>0</td>\n      <td>0</td>\n      <td>0</td>\n      <td>0</td>\n      <td>0</td>\n      <td>0</td>\n      <td>0</td>\n      <td>0</td>\n      <td>0</td>\n      <td>0</td>\n      <td>0</td>\n      <td>0</td>\n      <td>0</td>\n      <td>0</td>\n    </tr>\n    <tr>\n      <th>22</th>\n      <td>20176000338</td>\n      <td>1496669699</td>\n      <td>Inheritance</td>\n      <td>missing</td>\n      <td>Service closure Request with network responsib...</td>\n      <td>1496672448</td>\n      <td>missing</td>\n      <td>APPLICANT</td>\n      <td>1105</td>\n      <td>1105</td>\n      <td>48899</td>\n      <td>Monday</td>\n      <td>2749</td>\n      <td>40159357</td>\n      <td>0</td>\n      <td>0</td>\n      <td>0</td>\n      <td>0</td>\n      <td>0</td>\n      <td>1</td>\n      <td>0</td>\n      <td>0</td>\n      <td>0</td>\n      <td>0</td>\n      <td>0</td>\n      <td>0</td>\n      <td>0</td>\n      <td>0</td>\n      <td>0</td>\n    </tr>\n    <tr>\n      <th>23</th>\n      <td>20176000338</td>\n      <td>1496672448</td>\n      <td>Inheritance</td>\n      <td>missing</td>\n      <td>Authorization Requested</td>\n      <td>1497256082</td>\n      <td>00725</td>\n      <td>DIRECTOR</td>\n      <td>3854</td>\n      <td>2749</td>\n      <td>51648</td>\n      <td>Monday</td>\n      <td>583634</td>\n      <td>40156608</td>\n      <td>1</td>\n      <td>0</td>\n      <td>0</td>\n      <td>0</td>\n      <td>0</td>\n      <td>1</td>\n      <td>0</td>\n      <td>0</td>\n      <td>0</td>\n      <td>0</td>\n      <td>0</td>\n      <td>0</td>\n      <td>0</td>\n      <td>0</td>\n      <td>0</td>\n    </tr>\n    <tr>\n      <th>24</th>\n      <td>20176000338</td>\n      <td>1497256082</td>\n      <td>Inheritance</td>\n      <td>missing</td>\n      <td>Service closure Request with BO responsibility</td>\n      <td>1497435074</td>\n      <td>BOC</td>\n      <td>BACK-OFFICE</td>\n      <td>587488</td>\n      <td>583634</td>\n      <td>30482</td>\n      <td>Monday</td>\n      <td>178992</td>\n      <td>39572974</td>\n      <td>1</td>\n      <td>0</td>\n      <td>0</td>\n      <td>0</td>\n      <td>0</td>\n      <td>1</td>\n      <td>1</td>\n      <td>0</td>\n      <td>0</td>\n      <td>0</td>\n      <td>0</td>\n      <td>0</td>\n      <td>0</td>\n      <td>0</td>\n      <td>0</td>\n    </tr>\n    <tr>\n      <th>25</th>\n      <td>20176000338</td>\n      <td>1497435074</td>\n      <td>Inheritance</td>\n      <td>missing</td>\n      <td>Network Adjustment Requested</td>\n      <td>1518181986</td>\n      <td>00725</td>\n      <td>APPLICANT</td>\n      <td>766480</td>\n      <td>178992</td>\n      <td>36674</td>\n      <td>Wednesday</td>\n      <td>20746912</td>\n      <td>39393982</td>\n      <td>1</td>\n      <td>1</td>\n      <td>0</td>\n      <td>0</td>\n      <td>0</td>\n      <td>1</td>\n      <td>1</td>\n      <td>0</td>\n      <td>0</td>\n      <td>0</td>\n      <td>0</td>\n      <td>0</td>\n      <td>0</td>\n      <td>0</td>\n      <td>0</td>\n    </tr>\n    <tr>\n      <th>26</th>\n      <td>20176000338</td>\n      <td>1518181986</td>\n      <td>Inheritance</td>\n      <td>missing</td>\n      <td>Service closure Request with BO responsibility</td>\n      <td>1519657505</td>\n      <td>BOC</td>\n      <td>BACK-OFFICE</td>\n      <td>21513392</td>\n      <td>20746912</td>\n      <td>47586</td>\n      <td>Friday</td>\n      <td>1475519</td>\n      <td>18647070</td>\n      <td>1</td>\n      <td>1</td>\n      <td>0</td>\n      <td>0</td>\n      <td>0</td>\n      <td>1</td>\n      <td>1</td>\n      <td>0</td>\n      <td>1</td>\n      <td>0</td>\n      <td>0</td>\n      <td>0</td>\n      <td>0</td>\n      <td>0</td>\n      <td>0</td>\n    </tr>\n    <tr>\n      <th>27</th>\n      <td>20176000338</td>\n      <td>1519657505</td>\n      <td>Inheritance</td>\n      <td>missing</td>\n      <td>Network Adjustment Requested</td>\n      <td>1536576794</td>\n      <td>00725</td>\n      <td>APPLICANT</td>\n      <td>22988911</td>\n      <td>1475519</td>\n      <td>54305</td>\n      <td>Monday</td>\n      <td>16919289</td>\n      <td>17171551</td>\n      <td>1</td>\n      <td>2</td>\n      <td>0</td>\n      <td>0</td>\n      <td>0</td>\n      <td>1</td>\n      <td>1</td>\n      <td>0</td>\n      <td>1</td>\n      <td>0</td>\n      <td>0</td>\n      <td>0</td>\n      <td>0</td>\n      <td>0</td>\n      <td>0</td>\n    </tr>\n    <tr>\n      <th>28</th>\n      <td>20176000338</td>\n      <td>1536576794</td>\n      <td>Inheritance</td>\n      <td>missing</td>\n      <td>Service closure Request with BO responsibility</td>\n      <td>1536655395</td>\n      <td>BOC</td>\n      <td>BACK-OFFICE</td>\n      <td>39908200</td>\n      <td>16919289</td>\n      <td>39194</td>\n      <td>Monday</td>\n      <td>78601</td>\n      <td>252262</td>\n      <td>1</td>\n      <td>2</td>\n      <td>0</td>\n      <td>0</td>\n      <td>0</td>\n      <td>1</td>\n      <td>1</td>\n      <td>0</td>\n      <td>2</td>\n      <td>0</td>\n      <td>0</td>\n      <td>0</td>\n      <td>0</td>\n      <td>0</td>\n      <td>0</td>\n    </tr>\n    <tr>\n      <th>29</th>\n      <td>20176000338</td>\n      <td>1536655395</td>\n      <td>Inheritance</td>\n      <td>missing</td>\n      <td>Pending Request for Reservation Closure</td>\n      <td>1536655410</td>\n      <td>BOC</td>\n      <td>BACK-OFFICE</td>\n      <td>39986801</td>\n      <td>78601</td>\n      <td>31395</td>\n      <td>Tuesday</td>\n      <td>15</td>\n      <td>173661</td>\n      <td>1</td>\n      <td>3</td>\n      <td>0</td>\n      <td>0</td>\n      <td>0</td>\n      <td>1</td>\n      <td>1</td>\n      <td>0</td>\n      <td>2</td>\n      <td>0</td>\n      <td>0</td>\n      <td>0</td>\n      <td>0</td>\n      <td>0</td>\n      <td>0</td>\n    </tr>\n    <tr>\n      <th>30</th>\n      <td>20176000338</td>\n      <td>1536655410</td>\n      <td>Inheritance</td>\n      <td>missing</td>\n      <td>Pending Liquidation Request</td>\n      <td>1536807842</td>\n      <td>BOC</td>\n      <td>BACK-OFFICE</td>\n      <td>39986816</td>\n      <td>15</td>\n      <td>31410</td>\n      <td>Tuesday</td>\n      <td>152432</td>\n      <td>173646</td>\n      <td>1</td>\n      <td>3</td>\n      <td>1</td>\n      <td>0</td>\n      <td>0</td>\n      <td>1</td>\n      <td>1</td>\n      <td>0</td>\n      <td>2</td>\n      <td>0</td>\n      <td>0</td>\n      <td>0</td>\n      <td>0</td>\n      <td>0</td>\n      <td>0</td>\n    </tr>\n    <tr>\n      <th>31</th>\n      <td>20176000338</td>\n      <td>1536807842</td>\n      <td>Inheritance</td>\n      <td>missing</td>\n      <td>Pending Request for acquittance of heirs</td>\n      <td>1536829056</td>\n      <td>BOC</td>\n      <td>BACK-OFFICE</td>\n      <td>40139248</td>\n      <td>152432</td>\n      <td>11042</td>\n      <td>Thursday</td>\n      <td>21214</td>\n      <td>21214</td>\n      <td>1</td>\n      <td>3</td>\n      <td>1</td>\n      <td>1</td>\n      <td>0</td>\n      <td>1</td>\n      <td>1</td>\n      <td>0</td>\n      <td>2</td>\n      <td>0</td>\n      <td>0</td>\n      <td>0</td>\n      <td>0</td>\n      <td>0</td>\n      <td>0</td>\n    </tr>\n    <tr>\n      <th>32</th>\n      <td>20176000338</td>\n      <td>1536829056</td>\n      <td>Inheritance</td>\n      <td>missing</td>\n      <td>Request completed with account closure</td>\n      <td>1536829056</td>\n      <td>BOC</td>\n      <td>BACK-OFFICE</td>\n      <td>40160462</td>\n      <td>21214</td>\n      <td>32256</td>\n      <td>Thursday</td>\n      <td>0</td>\n      <td>0</td>\n      <td>1</td>\n      <td>3</td>\n      <td>1</td>\n      <td>1</td>\n      <td>0</td>\n      <td>1</td>\n      <td>1</td>\n      <td>0</td>\n      <td>2</td>\n      <td>1</td>\n      <td>0</td>\n      <td>0</td>\n      <td>0</td>\n      <td>0</td>\n      <td>0</td>\n    </tr>\n    <tr>\n      <th>33</th>\n      <td>20177000970</td>\n      <td>1499769748</td>\n      <td>Client Recess</td>\n      <td>1 - Client lost</td>\n      <td>Request created</td>\n      <td>1544629497</td>\n      <td>00586</td>\n      <td>APPLICANT</td>\n      <td>0</td>\n      <td>0</td>\n      <td>38548</td>\n      <td>Tuesday</td>\n      <td>44859749</td>\n      <td>44859749</td>\n      <td>0</td>\n      <td>0</td>\n      <td>0</td>\n      <td>0</td>\n      <td>0</td>\n      <td>0</td>\n      <td>0</td>\n      <td>0</td>\n      <td>0</td>\n      <td>0</td>\n      <td>0</td>\n      <td>0</td>\n      <td>0</td>\n      <td>0</td>\n      <td>0</td>\n    </tr>\n    <tr>\n      <th>34</th>\n      <td>20177000970</td>\n      <td>1544629497</td>\n      <td>Client Recess</td>\n      <td>1 - Client lost</td>\n      <td>Request deleted</td>\n      <td>1544629497</td>\n      <td>missing</td>\n      <td>APPLICANT</td>\n      <td>44859749</td>\n      <td>44859749</td>\n      <td>56697</td>\n      <td>Wednesday</td>\n      <td>0</td>\n      <td>0</td>\n      <td>0</td>\n      <td>0</td>\n      <td>0</td>\n      <td>0</td>\n      <td>0</td>\n      <td>1</td>\n      <td>0</td>\n      <td>0</td>\n      <td>0</td>\n      <td>0</td>\n      <td>0</td>\n      <td>0</td>\n      <td>0</td>\n      <td>0</td>\n      <td>0</td>\n    </tr>\n    <tr>\n      <th>35</th>\n      <td>20177000993</td>\n      <td>1499771133</td>\n      <td>Client Recess</td>\n      <td>1 - Client lost</td>\n      <td>Request created</td>\n      <td>1544629471</td>\n      <td>00381</td>\n      <td>APPLICANT</td>\n      <td>0</td>\n      <td>0</td>\n      <td>39933</td>\n      <td>Tuesday</td>\n      <td>44858338</td>\n      <td>44858338</td>\n      <td>0</td>\n      <td>0</td>\n      <td>0</td>\n      <td>0</td>\n      <td>0</td>\n      <td>0</td>\n      <td>0</td>\n      <td>0</td>\n      <td>0</td>\n      <td>0</td>\n      <td>0</td>\n      <td>0</td>\n      <td>0</td>\n      <td>0</td>\n      <td>0</td>\n    </tr>\n    <tr>\n      <th>36</th>\n      <td>20177000993</td>\n      <td>1544629471</td>\n      <td>Client Recess</td>\n      <td>1 - Client lost</td>\n      <td>Request deleted</td>\n      <td>1544629471</td>\n      <td>missing</td>\n      <td>APPLICANT</td>\n      <td>44858338</td>\n      <td>44858338</td>\n      <td>56671</td>\n      <td>Wednesday</td>\n      <td>0</td>\n      <td>0</td>\n      <td>0</td>\n      <td>0</td>\n      <td>0</td>\n      <td>0</td>\n      <td>0</td>\n      <td>1</td>\n      <td>0</td>\n      <td>0</td>\n      <td>0</td>\n      <td>0</td>\n      <td>0</td>\n      <td>0</td>\n      <td>0</td>\n      <td>0</td>\n      <td>0</td>\n    </tr>\n    <tr>\n      <th>37</th>\n      <td>20177001308</td>\n      <td>1499855605</td>\n      <td>Client Recess</td>\n      <td>1 - Client lost</td>\n      <td>Request created</td>\n      <td>1499855670</td>\n      <td>00341</td>\n      <td>APPLICANT</td>\n      <td>0</td>\n      <td>0</td>\n      <td>38005</td>\n      <td>Wednesday</td>\n      <td>65</td>\n      <td>37384191</td>\n      <td>0</td>\n      <td>0</td>\n      <td>0</td>\n      <td>0</td>\n      <td>0</td>\n      <td>0</td>\n      <td>0</td>\n      <td>0</td>\n      <td>0</td>\n      <td>0</td>\n      <td>0</td>\n      <td>0</td>\n      <td>0</td>\n      <td>0</td>\n      <td>0</td>\n    </tr>\n    <tr>\n      <th>38</th>\n      <td>20177001308</td>\n      <td>1499855670</td>\n      <td>Client Recess</td>\n      <td>1 - Client lost</td>\n      <td>Evaluating Request (NO registered letter)</td>\n      <td>1499855837</td>\n      <td>00345</td>\n      <td>DIRECTOR</td>\n      <td>65</td>\n      <td>65</td>\n      <td>38070</td>\n      <td>Wednesday</td>\n      <td>167</td>\n      <td>37384126</td>\n      <td>0</td>\n      <td>0</td>\n      <td>0</td>\n      <td>0</td>\n      <td>0</td>\n      <td>1</td>\n      <td>0</td>\n      <td>0</td>\n      <td>0</td>\n      <td>0</td>\n      <td>0</td>\n      <td>0</td>\n      <td>0</td>\n      <td>0</td>\n      <td>0</td>\n    </tr>\n    <tr>\n      <th>39</th>\n      <td>20177001308</td>\n      <td>1536597675</td>\n      <td>Client Recess</td>\n      <td>1 - Client lost</td>\n      <td>Service closure Request with network responsib...</td>\n      <td>1536677273</td>\n      <td>00345</td>\n      <td>APPLICANT</td>\n      <td>36742070</td>\n      <td>36742005</td>\n      <td>60075</td>\n      <td>Monday</td>\n      <td>79598</td>\n      <td>642121</td>\n      <td>0</td>\n      <td>0</td>\n      <td>0</td>\n      <td>0</td>\n      <td>0</td>\n      <td>1</td>\n      <td>0</td>\n      <td>1</td>\n      <td>0</td>\n      <td>0</td>\n      <td>0</td>\n      <td>0</td>\n      <td>0</td>\n      <td>0</td>\n      <td>0</td>\n    </tr>\n    <tr>\n      <th>40</th>\n      <td>20177001308</td>\n      <td>1536677273</td>\n      <td>Client Recess</td>\n      <td>1 - Client lost</td>\n      <td>Service closure Request with BO responsibility</td>\n      <td>1536928135</td>\n      <td>BOC</td>\n      <td>BACK-OFFICE</td>\n      <td>36821668</td>\n      <td>79598</td>\n      <td>53273</td>\n      <td>Tuesday</td>\n      <td>250862</td>\n      <td>562523</td>\n      <td>1</td>\n      <td>0</td>\n      <td>0</td>\n      <td>0</td>\n      <td>0</td>\n      <td>1</td>\n      <td>0</td>\n      <td>1</td>\n      <td>0</td>\n      <td>0</td>\n      <td>0</td>\n      <td>0</td>\n      <td>0</td>\n      <td>0</td>\n      <td>0</td>\n    </tr>\n    <tr>\n      <th>41</th>\n      <td>20177001308</td>\n      <td>1536928135</td>\n      <td>Client Recess</td>\n      <td>1 - Client lost</td>\n      <td>Pending Request for Reservation Closure</td>\n      <td>1536928326</td>\n      <td>BOC</td>\n      <td>BACK-OFFICE</td>\n      <td>37072530</td>\n      <td>250862</td>\n      <td>44935</td>\n      <td>Friday</td>\n      <td>191</td>\n      <td>311661</td>\n      <td>1</td>\n      <td>1</td>\n      <td>0</td>\n      <td>0</td>\n      <td>0</td>\n      <td>1</td>\n      <td>0</td>\n      <td>1</td>\n      <td>0</td>\n      <td>0</td>\n      <td>0</td>\n      <td>0</td>\n      <td>0</td>\n      <td>0</td>\n      <td>0</td>\n    </tr>\n    <tr>\n      <th>42</th>\n      <td>20177001308</td>\n      <td>1536928326</td>\n      <td>Client Recess</td>\n      <td>1 - Client lost</td>\n      <td>Pending Liquidation Request</td>\n      <td>1537239796</td>\n      <td>BOC</td>\n      <td>BACK-OFFICE</td>\n      <td>37072721</td>\n      <td>191</td>\n      <td>45126</td>\n      <td>Friday</td>\n      <td>311470</td>\n      <td>311470</td>\n      <td>1</td>\n      <td>1</td>\n      <td>1</td>\n      <td>0</td>\n      <td>0</td>\n      <td>1</td>\n      <td>0</td>\n      <td>1</td>\n      <td>0</td>\n      <td>0</td>\n      <td>0</td>\n      <td>0</td>\n      <td>0</td>\n      <td>0</td>\n      <td>0</td>\n    </tr>\n    <tr>\n      <th>43</th>\n      <td>20177001308</td>\n      <td>1537239796</td>\n      <td>Client Recess</td>\n      <td>1 - Client lost</td>\n      <td>Request completed with account closure</td>\n      <td>1537239796</td>\n      <td>BOC</td>\n      <td>BACK-OFFICE</td>\n      <td>37384191</td>\n      <td>311470</td>\n      <td>10996</td>\n      <td>Tuesday</td>\n      <td>0</td>\n      <td>0</td>\n      <td>1</td>\n      <td>1</td>\n      <td>1</td>\n      <td>1</td>\n      <td>0</td>\n      <td>1</td>\n      <td>0</td>\n      <td>1</td>\n      <td>0</td>\n      <td>0</td>\n      <td>0</td>\n      <td>0</td>\n      <td>0</td>\n      <td>0</td>\n      <td>0</td>\n    </tr>\n    <tr>\n      <th>44</th>\n      <td>20177001580</td>\n      <td>1499936540</td>\n      <td>Inheritance</td>\n      <td>missing</td>\n      <td>Request created</td>\n      <td>1499936745</td>\n      <td>00569</td>\n      <td>APPLICANT</td>\n      <td>0</td>\n      <td>0</td>\n      <td>32540</td>\n      <td>Thursday</td>\n      <td>205</td>\n      <td>37389666</td>\n      <td>0</td>\n      <td>0</td>\n      <td>0</td>\n      <td>0</td>\n      <td>0</td>\n      <td>0</td>\n      <td>0</td>\n      <td>0</td>\n      <td>0</td>\n      <td>0</td>\n      <td>0</td>\n      <td>0</td>\n      <td>0</td>\n      <td>0</td>\n      <td>0</td>\n    </tr>\n    <tr>\n      <th>45</th>\n      <td>20177001580</td>\n      <td>1499936745</td>\n      <td>Inheritance</td>\n      <td>missing</td>\n      <td>Service closure Request with network responsib...</td>\n      <td>1518175446</td>\n      <td>missing</td>\n      <td>APPLICANT</td>\n      <td>205</td>\n      <td>205</td>\n      <td>32745</td>\n      <td>Thursday</td>\n      <td>18238701</td>\n      <td>37389461</td>\n      <td>0</td>\n      <td>0</td>\n      <td>0</td>\n      <td>0</td>\n      <td>0</td>\n      <td>1</td>\n      <td>0</td>\n      <td>0</td>\n      <td>0</td>\n      <td>0</td>\n      <td>0</td>\n      <td>0</td>\n      <td>0</td>\n      <td>0</td>\n      <td>0</td>\n    </tr>\n    <tr>\n      <th>46</th>\n      <td>20177001580</td>\n      <td>1518175446</td>\n      <td>Inheritance</td>\n      <td>missing</td>\n      <td>Authorization Requested</td>\n      <td>1518175684</td>\n      <td>00307</td>\n      <td>DIRECTOR</td>\n      <td>18238906</td>\n      <td>18238701</td>\n      <td>41046</td>\n      <td>Friday</td>\n      <td>238</td>\n      <td>19150760</td>\n      <td>1</td>\n      <td>0</td>\n      <td>0</td>\n      <td>0</td>\n      <td>0</td>\n      <td>1</td>\n      <td>0</td>\n      <td>0</td>\n      <td>0</td>\n      <td>0</td>\n      <td>0</td>\n      <td>0</td>\n      <td>0</td>\n      <td>0</td>\n      <td>0</td>\n    </tr>\n    <tr>\n      <th>47</th>\n      <td>20177001580</td>\n      <td>1518175684</td>\n      <td>Inheritance</td>\n      <td>missing</td>\n      <td>Service closure Request with BO responsibility</td>\n      <td>1519650187</td>\n      <td>BOC</td>\n      <td>BACK-OFFICE</td>\n      <td>18239144</td>\n      <td>238</td>\n      <td>41284</td>\n      <td>Friday</td>\n      <td>1474503</td>\n      <td>19150522</td>\n      <td>1</td>\n      <td>0</td>\n      <td>0</td>\n      <td>0</td>\n      <td>0</td>\n      <td>1</td>\n      <td>1</td>\n      <td>0</td>\n      <td>0</td>\n      <td>0</td>\n      <td>0</td>\n      <td>0</td>\n      <td>0</td>\n      <td>0</td>\n      <td>0</td>\n    </tr>\n    <tr>\n      <th>48</th>\n      <td>20177001580</td>\n      <td>1519650187</td>\n      <td>Inheritance</td>\n      <td>missing</td>\n      <td>Network Adjustment Requested</td>\n      <td>1536586531</td>\n      <td>00307</td>\n      <td>APPLICANT</td>\n      <td>19713647</td>\n      <td>1474503</td>\n      <td>46987</td>\n      <td>Monday</td>\n      <td>16936344</td>\n      <td>17676019</td>\n      <td>1</td>\n      <td>1</td>\n      <td>0</td>\n      <td>0</td>\n      <td>0</td>\n      <td>1</td>\n      <td>1</td>\n      <td>0</td>\n      <td>0</td>\n      <td>0</td>\n      <td>0</td>\n      <td>0</td>\n      <td>0</td>\n      <td>0</td>\n      <td>0</td>\n    </tr>\n    <tr>\n      <th>49</th>\n      <td>20177001580</td>\n      <td>1536586531</td>\n      <td>Inheritance</td>\n      <td>missing</td>\n      <td>Service closure Request with BO responsibility</td>\n      <td>1537186887</td>\n      <td>BOC</td>\n      <td>BACK-OFFICE</td>\n      <td>36649991</td>\n      <td>16936344</td>\n      <td>48931</td>\n      <td>Monday</td>\n      <td>600356</td>\n      <td>739675</td>\n      <td>1</td>\n      <td>1</td>\n      <td>0</td>\n      <td>0</td>\n      <td>0</td>\n      <td>1</td>\n      <td>1</td>\n      <td>0</td>\n      <td>1</td>\n      <td>0</td>\n      <td>0</td>\n      <td>0</td>\n      <td>0</td>\n      <td>0</td>\n      <td>0</td>\n    </tr>\n  </tbody>\n</table>\n</div>"
     },
     "execution_count": 51,
     "metadata": {},
     "output_type": "execute_result"
    }
   ],
   "source": [
    "df[:10]"
   ],
   "metadata": {
    "collapsed": false,
    "ExecuteTime": {
     "end_time": "2023-05-23T16:10:55.679890192Z",
     "start_time": "2023-05-23T16:10:55.661964390Z"
    }
   }
  },
  {
   "cell_type": "markdown",
   "source": [
    "## Base on the KPI create the label (or y) column.\n",
    "This column is maybe the KPI column for a given prefix? (? means not sure)\n",
    "### KPI Activity Occurrence\n",
    "TODO\n",
    "- check what happens if the activity occurs twice in the trace\n",
    "-"
   ],
   "metadata": {
    "collapsed": false
   }
  },
  {
   "cell_type": "code",
   "execution_count": 106,
   "outputs": [],
   "source": [
    "def add_act_to_stop(df, activity_column_name=activity_column_name, activity_to_avoid=activity_to_avoid):\n",
    "    \"\"\"\n",
    "    Args:\n",
    "        df (pd.DataFrame):\n",
    "        activity_to_avoid: A column of this activity name is added. Next, if an activity with this value is present\n",
    "                        in a trace, the trace rows, till the activity row, get a value of 1. This 1 is placed in\n",
    "                        the column labelled `activity_to_avoid`.\n",
    "    Returns:\n",
    "        df (pd.DataFrame):\n",
    "    \"\"\"\n",
    "    df[ activity_to_avoid ] = 0\n",
    "    gdf = df.groupby(case_id_name)\n",
    "    i = 0\n",
    "\n",
    "    for case_id, group in gdf:\n",
    "\n",
    "        # If activity_to_stop is in the trace\n",
    "        if activity_to_avoid in group[activity_column_name].to_list():\n",
    "            # print( activity_to_stop in group[activity_column_name].to_list() )\n",
    "            pass\n",
    "\n",
    "            # Get index of first occurrence of the activity_to_stop\n",
    "            # print( group.index[ group[activity_column_name] == activity_to_avoid ].values[0] )\n",
    "            index_of_first_occurrence = group.index[group[activity_column_name] == activity_to_avoid].values[0]\n",
    "\n",
    "            # Using group.loc makes sure the scope of assignment starts from the start of the trace only\n",
    "            # Rest of the dataframe is not affected.\n",
    "            # -1, cuz we don't want value of `1` in the row of activity_to_stop & with .loc the end is inclusive\n",
    "            group.loc[ :index_of_first_occurrence - 1, activity_to_avoid ] = 1\n",
    "            # print(\"==\", group.loc[ :index_of_first_occurrence - 1, : ] )\n",
    "\n",
    "            # using group.index is safer to access the main dataframe. This access the part of the main dataframe\n",
    "            # that corresponds to the group dataframe slice.\n",
    "            df.loc[ group.index, activity_to_avoid ] = group[activity_to_avoid]\n",
    "            # print( df.loc[ group.index, activity_to_stop ] )\n",
    "            # print( group.index )\n",
    "        i += 1\n",
    "        # if i == 30:\n",
    "        #     break\n",
    "\n",
    "    return df"
   ],
   "metadata": {
    "collapsed": false,
    "ExecuteTime": {
     "end_time": "2023-05-23T16:30:03.045879365Z",
     "start_time": "2023-05-23T16:30:03.043877661Z"
    }
   }
  },
  {
   "cell_type": "code",
   "execution_count": 107,
   "outputs": [],
   "source": [
    "if KPI == \"total_time\":\n",
    "    leadtime_per_case = df.groupby(case_id_name).agg(\"first\")[\"time_remaining\"]\n",
    "    df[\"lead_time\"] = df[case_id_name].map(leadtime_per_case)\n",
    "    target_column_name = 'lead_time'\n",
    "elif KPI == \"activity_occurrence\":\n",
    "    # In this case activity_to_avoid becomes the target (or y) column for the ML problem.\n",
    "    df = add_act_to_stop(df, activity_column_name=activity_column_name, activity_to_avoid=activity_to_avoid)\n"
   ],
   "metadata": {
    "collapsed": false,
    "ExecuteTime": {
     "end_time": "2023-05-23T16:30:09.368000987Z",
     "start_time": "2023-05-23T16:30:03.739362167Z"
    }
   }
  },
  {
   "cell_type": "code",
   "execution_count": 108,
   "outputs": [],
   "source": [
    "def remove_two_step_traces(df):\n",
    "    gdf = df.groupby(case_id_name)\n",
    "    indexes_to_drop = []\n",
    "    # i = 0\n",
    "    for case_id, group in gdf:\n",
    "\n",
    "        if len(group) < 3:\n",
    "            indexes_to_drop.extend(group.index)\n",
    "\n",
    "        # i += 1\n",
    "        # if i == 4:\n",
    "        #     break\n",
    "\n",
    "    df = df.drop( indexes_to_drop ).reset_index(drop=True)\n",
    "    return df"
   ],
   "metadata": {
    "collapsed": false,
    "ExecuteTime": {
     "end_time": "2023-05-23T16:30:09.371095873Z",
     "start_time": "2023-05-23T16:30:09.365097838Z"
    }
   }
  },
  {
   "cell_type": "code",
   "execution_count": 111,
   "outputs": [
    {
     "name": "stdout",
     "output_type": "stream",
     "text": [
      "Length of the dataframe: 176726\n",
      "Length of traces with length less than 3: 176726\n",
      "Percentage of rows dropped: 0.0%\n"
     ]
    }
   ],
   "source": [
    "# Remove rows where remaining_time=0\n",
    "df = df.drop( df.index[ df[\"time_remaining\"] == 0 ] ).reset_index(drop=True)\n",
    "\n",
    "# Remove rows where with trace length <= 2\n",
    "before_length_df = len(df)\n",
    "df = remove_two_step_traces(df)\n",
    "\n",
    "after_length_df = len(df)\n",
    "print(f\"Length of the dataframe: {before_length_df}\")\n",
    "print(f\"Length of traces with length less than 3: {after_length_df}\")\n",
    "print(f\"Percentage of rows dropped: {( (before_length_df - after_length_df) / before_length_df) * 100}%\")"
   ],
   "metadata": {
    "collapsed": false,
    "ExecuteTime": {
     "end_time": "2023-05-23T16:34:45.183366238Z",
     "start_time": "2023-05-23T16:34:44.625435275Z"
    }
   }
  },
  {
   "cell_type": "code",
   "execution_count": 112,
   "outputs": [
    {
     "data": {
      "text/plain": "'\\nNot sure why the target_column is created and later on merged anyway\\n'"
     },
     "execution_count": 112,
     "metadata": {},
     "output_type": "execute_result"
    }
   ],
   "source": [
    "\"\"\"\n",
    "Not sure why the target_column is created and later on merged anyway\n",
    "\"\"\"\n",
    "# target_column = df[target_column_name].copy()\n",
    "# df = df.drop(columns=[target_column_name, \"time_remaining\"])"
   ],
   "metadata": {
    "collapsed": false,
    "ExecuteTime": {
     "end_time": "2023-05-23T16:34:51.275798597Z",
     "start_time": "2023-05-23T16:34:51.259566474Z"
    }
   }
  },
  {
   "cell_type": "code",
   "execution_count": 24,
   "outputs": [
    {
     "data": {
      "text/plain": "     SR_Number  Change_Date+Time    Status             ACTIVITY  \\\n0  1-364285768        1270047582  Accepted          In Progress   \n1  1-364285768        1270047656  Accepted          In Progress   \n2  1-364285768        1270050348    Queued  Awaiting Assignment   \n3  1-364285768        1270565047  Accepted          In Progress   \n4  1-364285768        1270565078    Queued  Awaiting Assignment   \n\n  Involved_ST_Function_Div Involved_Org_line_3 Involved_ST SR_Latest_Impact  \\\n0                     A2_4         Org line A2         V30           Medium   \n1                     A2_4         Org line A2         V30           Medium   \n2                     A2_5         Org line A2      V5 3rd           Medium   \n3                     A2_5         Org line A2      V5 3rd           Medium   \n4                     A2_4         Org line A2         V30           Medium   \n\n   Product Country Owner_Country  time_from_first  time_from_previous_et  \\\n0  PROD582      fr        France              0.0                    0.0   \n1  PROD582      fr        France             74.0                   74.0   \n2  PROD582      fr        France           2766.0                 2692.0   \n3  PROD582      fr        France         517465.0               514699.0   \n4  PROD582      fr        France         517496.0                   31.0   \n\n   time_from_midnight    weekday  time_remaining  # ACTIVITY=In Progress  \\\n0             53982.0  Wednesday      66644793.0                       0   \n1             54056.0  Wednesday      66644719.0                       1   \n2             56748.0  Wednesday      66642027.0                       2   \n3             53047.0    Tuesday      66127328.0                       2   \n4             53078.0    Tuesday      66127297.0                       3   \n\n   # ACTIVITY=Awaiting Assignment  # ACTIVITY=Resolved  # ACTIVITY=Assigned  \\\n0                               0                    0                    0   \n1                               0                    0                    0   \n2                               0                    0                    0   \n3                               1                    0                    0   \n4                               1                    0                    0   \n\n   # ACTIVITY=Closed  # ACTIVITY=Wait - User  \\\n0                  0                       0   \n1                  0                       0   \n2                  0                       0   \n3                  0                       0   \n4                  0                       0   \n\n   # ACTIVITY=Wait - Implementation  # ACTIVITY=Wait  \\\n0                                 0                0   \n1                                 0                0   \n2                                 0                0   \n3                                 0                0   \n4                                 0                0   \n\n   # ACTIVITY=Wait - Vendor  # ACTIVITY=In Call  # ACTIVITY=Wait - Customer  \\\n0                         0                   0                           0   \n1                         0                   0                           0   \n2                         0                   0                           0   \n3                         0                   0                           0   \n4                         0                   0                           0   \n\n   # ACTIVITY=Unmatched  # ACTIVITY=Cancelled   lead_time  \n0                     0                     0  66644793.0  \n1                     0                     0  66644793.0  \n2                     0                     0  66644793.0  \n3                     0                     0  66644793.0  \n4                     0                     0  66644793.0  ",
      "text/html": "<div>\n<style scoped>\n    .dataframe tbody tr th:only-of-type {\n        vertical-align: middle;\n    }\n\n    .dataframe tbody tr th {\n        vertical-align: top;\n    }\n\n    .dataframe thead th {\n        text-align: right;\n    }\n</style>\n<table border=\"1\" class=\"dataframe\">\n  <thead>\n    <tr style=\"text-align: right;\">\n      <th></th>\n      <th>SR_Number</th>\n      <th>Change_Date+Time</th>\n      <th>Status</th>\n      <th>ACTIVITY</th>\n      <th>Involved_ST_Function_Div</th>\n      <th>Involved_Org_line_3</th>\n      <th>Involved_ST</th>\n      <th>SR_Latest_Impact</th>\n      <th>Product</th>\n      <th>Country</th>\n      <th>Owner_Country</th>\n      <th>time_from_first</th>\n      <th>time_from_previous_et</th>\n      <th>time_from_midnight</th>\n      <th>weekday</th>\n      <th>time_remaining</th>\n      <th># ACTIVITY=In Progress</th>\n      <th># ACTIVITY=Awaiting Assignment</th>\n      <th># ACTIVITY=Resolved</th>\n      <th># ACTIVITY=Assigned</th>\n      <th># ACTIVITY=Closed</th>\n      <th># ACTIVITY=Wait - User</th>\n      <th># ACTIVITY=Wait - Implementation</th>\n      <th># ACTIVITY=Wait</th>\n      <th># ACTIVITY=Wait - Vendor</th>\n      <th># ACTIVITY=In Call</th>\n      <th># ACTIVITY=Wait - Customer</th>\n      <th># ACTIVITY=Unmatched</th>\n      <th># ACTIVITY=Cancelled</th>\n      <th>lead_time</th>\n    </tr>\n  </thead>\n  <tbody>\n    <tr>\n      <th>0</th>\n      <td>1-364285768</td>\n      <td>1270047582</td>\n      <td>Accepted</td>\n      <td>In Progress</td>\n      <td>A2_4</td>\n      <td>Org line A2</td>\n      <td>V30</td>\n      <td>Medium</td>\n      <td>PROD582</td>\n      <td>fr</td>\n      <td>France</td>\n      <td>0.0</td>\n      <td>0.0</td>\n      <td>53982.0</td>\n      <td>Wednesday</td>\n      <td>66644793.0</td>\n      <td>0</td>\n      <td>0</td>\n      <td>0</td>\n      <td>0</td>\n      <td>0</td>\n      <td>0</td>\n      <td>0</td>\n      <td>0</td>\n      <td>0</td>\n      <td>0</td>\n      <td>0</td>\n      <td>0</td>\n      <td>0</td>\n      <td>66644793.0</td>\n    </tr>\n    <tr>\n      <th>1</th>\n      <td>1-364285768</td>\n      <td>1270047656</td>\n      <td>Accepted</td>\n      <td>In Progress</td>\n      <td>A2_4</td>\n      <td>Org line A2</td>\n      <td>V30</td>\n      <td>Medium</td>\n      <td>PROD582</td>\n      <td>fr</td>\n      <td>France</td>\n      <td>74.0</td>\n      <td>74.0</td>\n      <td>54056.0</td>\n      <td>Wednesday</td>\n      <td>66644719.0</td>\n      <td>1</td>\n      <td>0</td>\n      <td>0</td>\n      <td>0</td>\n      <td>0</td>\n      <td>0</td>\n      <td>0</td>\n      <td>0</td>\n      <td>0</td>\n      <td>0</td>\n      <td>0</td>\n      <td>0</td>\n      <td>0</td>\n      <td>66644793.0</td>\n    </tr>\n    <tr>\n      <th>2</th>\n      <td>1-364285768</td>\n      <td>1270050348</td>\n      <td>Queued</td>\n      <td>Awaiting Assignment</td>\n      <td>A2_5</td>\n      <td>Org line A2</td>\n      <td>V5 3rd</td>\n      <td>Medium</td>\n      <td>PROD582</td>\n      <td>fr</td>\n      <td>France</td>\n      <td>2766.0</td>\n      <td>2692.0</td>\n      <td>56748.0</td>\n      <td>Wednesday</td>\n      <td>66642027.0</td>\n      <td>2</td>\n      <td>0</td>\n      <td>0</td>\n      <td>0</td>\n      <td>0</td>\n      <td>0</td>\n      <td>0</td>\n      <td>0</td>\n      <td>0</td>\n      <td>0</td>\n      <td>0</td>\n      <td>0</td>\n      <td>0</td>\n      <td>66644793.0</td>\n    </tr>\n    <tr>\n      <th>3</th>\n      <td>1-364285768</td>\n      <td>1270565047</td>\n      <td>Accepted</td>\n      <td>In Progress</td>\n      <td>A2_5</td>\n      <td>Org line A2</td>\n      <td>V5 3rd</td>\n      <td>Medium</td>\n      <td>PROD582</td>\n      <td>fr</td>\n      <td>France</td>\n      <td>517465.0</td>\n      <td>514699.0</td>\n      <td>53047.0</td>\n      <td>Tuesday</td>\n      <td>66127328.0</td>\n      <td>2</td>\n      <td>1</td>\n      <td>0</td>\n      <td>0</td>\n      <td>0</td>\n      <td>0</td>\n      <td>0</td>\n      <td>0</td>\n      <td>0</td>\n      <td>0</td>\n      <td>0</td>\n      <td>0</td>\n      <td>0</td>\n      <td>66644793.0</td>\n    </tr>\n    <tr>\n      <th>4</th>\n      <td>1-364285768</td>\n      <td>1270565078</td>\n      <td>Queued</td>\n      <td>Awaiting Assignment</td>\n      <td>A2_4</td>\n      <td>Org line A2</td>\n      <td>V30</td>\n      <td>Medium</td>\n      <td>PROD582</td>\n      <td>fr</td>\n      <td>France</td>\n      <td>517496.0</td>\n      <td>31.0</td>\n      <td>53078.0</td>\n      <td>Tuesday</td>\n      <td>66127297.0</td>\n      <td>3</td>\n      <td>1</td>\n      <td>0</td>\n      <td>0</td>\n      <td>0</td>\n      <td>0</td>\n      <td>0</td>\n      <td>0</td>\n      <td>0</td>\n      <td>0</td>\n      <td>0</td>\n      <td>0</td>\n      <td>0</td>\n      <td>66644793.0</td>\n    </tr>\n  </tbody>\n</table>\n</div>"
     },
     "execution_count": 24,
     "metadata": {},
     "output_type": "execute_result"
    }
   ],
   "source": [
    "df.head()"
   ],
   "metadata": {
    "collapsed": false
   }
  },
  {
   "cell_type": "markdown",
   "source": [
    "# Prepare Dataset for Machine Learning"
   ],
   "metadata": {
    "collapsed": false
   }
  },
  {
   "cell_type": "markdown",
   "source": [
    "We are going to train and test the model with the following split:\n",
    "### For KPI Total Time\n",
    "* Train: 2/3 or two-thirds of the cases\n",
    "* Test: 1/3 or one-third of the cases\n",
    "### For KPI Activity Occurrence\n",
    "- split the cases with `activity_to_avoid` in 2/3 for training and 1/3 for testing\n",
    "- Train: Mix the rest of the cases with 2/3 training mix\n",
    "- Test: Keep only the 1/3 testing mix"
   ],
   "metadata": {
    "collapsed": false
   }
  },
  {
   "cell_type": "code",
   "execution_count": 25,
   "outputs": [],
   "source": [
    "cases = df[case_id_name].unique()\n",
    "train_n_valid_cases, test_cases = train_test_split(cases, train_size=0.67, test_size=0.33)\n",
    "train_cases, valid_cases = train_test_split(train_n_valid_cases, train_size=0.80)"
   ],
   "metadata": {
    "collapsed": false
   }
  },
  {
   "cell_type": "code",
   "execution_count": 26,
   "outputs": [],
   "source": [
    "df_train = df[df[case_id_name].isin(train_cases)].copy()\n",
    "df_train = df_train.reset_index(drop=True)\n",
    "df_valid = df[df[case_id_name].isin(valid_cases)].copy()\n",
    "df_valid = df_valid.reset_index(drop=True)\n",
    "df_test = df[df[case_id_name].isin(test_cases)].copy()\n",
    "df_test = df_test.reset_index(drop=True)"
   ],
   "metadata": {
    "collapsed": false
   }
  },
  {
   "cell_type": "markdown",
   "source": [
    "### Save the Preprocessed dataset for later use"
   ],
   "metadata": {
    "collapsed": false
   }
  },
  {
   "cell_type": "code",
   "execution_count": 27,
   "outputs": [],
   "source": [
    "df_train.to_csv( os.path.join(preprocessed_data_dir, \"train-set-cfe.csv\"), index=False)\n",
    "df_test.to_csv( os.path.join(preprocessed_data_dir, \"test-set-cfe.csv\"), index=False)"
   ],
   "metadata": {
    "collapsed": false
   }
  },
  {
   "cell_type": "markdown",
   "source": [
    "# Predict using CatBoost"
   ],
   "metadata": {
    "collapsed": false
   }
  },
  {
   "cell_type": "code",
   "execution_count": 113,
   "outputs": [],
   "source": [
    "# First we need to get all the categorical columns for the CatBoost Algorithm\n",
    "categorical_features = df.iloc[:, 1:-1].select_dtypes(exclude=np.number).columns\n",
    "df[categorical_features] = df[categorical_features].astype(str)\n",
    "categorical_features = categorical_features.tolist()"
   ],
   "metadata": {
    "collapsed": false,
    "ExecuteTime": {
     "end_time": "2023-05-23T16:40:10.228897578Z",
     "start_time": "2023-05-23T16:40:10.181538565Z"
    }
   }
  },
  {
   "cell_type": "code",
   "execution_count": 55,
   "outputs": [],
   "source": [
    "X_train = df_train.iloc[:, 1: -1]\n",
    "y_train = df_train.iloc[:, -1 ]"
   ],
   "metadata": {
    "collapsed": false
   }
  },
  {
   "cell_type": "code",
   "execution_count": 56,
   "outputs": [],
   "source": [
    "train_pool = Pool(X_train, y_train, cat_features=categorical_features)"
   ],
   "metadata": {
    "collapsed": false
   }
  },
  {
   "cell_type": "code",
   "execution_count": 24,
   "outputs": [],
   "source": [
    "params = {\n",
    "    'depth': 10,\n",
    "    'learning_rate': 0.01,\n",
    "    'iterations': 3000,\n",
    "    'early_stopping_rounds': 5,\n",
    "    'thread_count': 4,\n",
    "    'logging_level': 'Silent',\n",
    "    'task_type': \"CPU\"  # \"GPU\" if int(os.environ[\"USE_GPU\"]) else \"CPU\"\n",
    "}"
   ],
   "metadata": {
    "collapsed": false
   }
  },
  {
   "cell_type": "code",
   "execution_count": 32,
   "outputs": [],
   "source": [
    "model = CatBoostRegressor(**params)\n",
    "if use_saved_model:\n",
    "    model.load_model(fname=\"catboost_model.cbm\", format='cbm')\n",
    "else:\n",
    "    model.fit(train_pool)\n",
    "    model.save_model(fname=\"catboost_model.cbm\", format=\"cbm\")"
   ],
   "metadata": {
    "collapsed": false
   }
  },
  {
   "cell_type": "markdown",
   "source": [
    "### Predict"
   ],
   "metadata": {
    "collapsed": false
   }
  },
  {
   "cell_type": "code",
   "execution_count": 33,
   "outputs": [],
   "source": [
    "X_train_pool = Pool(X_train, cat_features=categorical_features)\n",
    "y_train_pred = model.predict(X_train_pool)\n"
   ],
   "metadata": {
    "collapsed": false
   }
  },
  {
   "cell_type": "markdown",
   "source": [
    "### Validate"
   ],
   "metadata": {
    "collapsed": false
   }
  },
  {
   "cell_type": "code",
   "execution_count": 34,
   "outputs": [
    {
     "data": {
      "text/plain": "24373.989614527192"
     },
     "execution_count": 34,
     "metadata": {},
     "output_type": "execute_result"
    }
   ],
   "source": [
    "# Mean Absolute Error\n",
    "print(f\"Mean Absolute Error: {mean_absolute_error(y_train, y_train_pred)}\")"
   ],
   "metadata": {
    "collapsed": false
   }
  },
  {
   "cell_type": "code",
   "execution_count": 80,
   "outputs": [
    {
     "name": "stdout",
     "output_type": "stream",
     "text": [
      "31219\n",
      "31219\n"
     ]
    }
   ],
   "source": [
    "y_train_pred_series = pd.DataFrame(y_train_pred, columns=[\"Y_predictions\"])\n",
    "print(len(y_train_pred_series))\n",
    "print(len(df_train))"
   ],
   "metadata": {
    "collapsed": false
   }
  },
  {
   "cell_type": "code",
   "execution_count": 81,
   "outputs": [],
   "source": [
    "# see the results\n",
    "# # Should be a function\n",
    "df_train_info = df_train[[case_id_name, \"Status\", activity_column_name, \"time_from_first\", \"time_from_previous_et\",\n",
    "                    \"time_remaining\", target_column_name]].copy()\n",
    "# Convert seconds to hours\n",
    "df_train_info.loc[:, \"time_remaining\"] = round( df_train_info.loc[:, \"time_remaining\"] / (60 * 60), 2)\n",
    "df_train_info[target_column_name] = df_train_info[target_column_name] / (60 * 60)\n",
    "y_train_pred_series = round( y_train_pred_series / (60 * 60), 2)\n",
    "\n",
    "df_results = pd.concat([df_train_info, y_train_pred_series], axis=\"columns\")"
   ],
   "metadata": {
    "collapsed": false
   }
  },
  {
   "cell_type": "code",
   "execution_count": 82,
   "outputs": [],
   "source": [
    "df_results.to_csv(\"temp.csv\", index=False)"
   ],
   "metadata": {
    "collapsed": false
   }
  },
  {
   "cell_type": "code",
   "execution_count": null,
   "outputs": [],
   "source": [],
   "metadata": {
    "collapsed": false
   }
  }
 ],
 "metadata": {
  "kernelspec": {
   "display_name": "Python 3",
   "language": "python",
   "name": "python3"
  },
  "language_info": {
   "codemirror_mode": {
    "name": "ipython",
    "version": 2
   },
   "file_extension": ".py",
   "mimetype": "text/x-python",
   "name": "python",
   "nbconvert_exporter": "python",
   "pygments_lexer": "ipython2",
   "version": "2.7.6"
  }
 },
 "nbformat": 4,
 "nbformat_minor": 0
}
