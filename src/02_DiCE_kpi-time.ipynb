{
 "cells": [
  {
   "cell_type": "code",
   "execution_count": 1,
   "metadata": {
    "collapsed": true,
    "ExecuteTime": {
     "end_time": "2023-06-06T21:37:15.433771052Z",
     "start_time": "2023-06-06T21:37:14.229191934Z"
    }
   },
   "outputs": [],
   "source": [
    "import dice_ml\n",
    "from dice_ml import Dice\n",
    "from dice_ml.utils.exception import UserConfigValidationException\n",
    "\n",
    "from sklearn.pipeline import Pipeline\n",
    "from sklearn.preprocessing import StandardScaler, OneHotEncoder\n",
    "from sklearn.compose import ColumnTransformer\n",
    "from sklearn.ensemble import RandomForestClassifier, RandomForestRegressor\n",
    "from sklearn.model_selection import train_test_split\n",
    "from sklearn.datasets import load_iris, fetch_california_housing\n",
    "\n",
    "from src.transition_system import transition_system, indexs_for_window, list_to_str\n",
    "from src.function_store import StoreTestRun, extract_algo_name, generate_cfe, get_case_id, prepare_df_for_ml, \\\n",
    "    activity_n_resources, get_test_cases, get_prefix_of_activities, validate_transition\n",
    "\n",
    "import pandas as pd\n",
    "import os\n",
    "import pickle\n",
    "import random\n",
    "import subprocess\n",
    "from IPython.display import display\n",
    "from math import ceil\n",
    "import warnings\n",
    "from wrapt_timeout_decorator import timeout\n",
    "\n",
    "# from multiprocessing import Process\n",
    "# from timeout_decorator import timeout, TimeoutError\n",
    "# import signal\n",
    "from typing import Tuple, Any\n",
    "from collections import Counter\n",
    "import utils\n",
    "from time import sleep\n",
    "if \"src\" in os.getcwd():\n",
    "    os.chdir(\"../\")\n",
    "\n",
    "# Suppress all warnings\n",
    "warnings.filterwarnings(\"ignore\")\n",
    "%load_ext autoreload\n",
    "%autoreload 2"
   ]
  },
  {
   "cell_type": "markdown",
   "source": [
    "# Dataset: VINST (Volvo Belgium)\n",
    "link: https://www.win.tue.nl/bpi/doku.php?id=2013:challenge"
   ],
   "metadata": {
    "collapsed": false
   }
  },
  {
   "cell_type": "markdown",
   "source": [
    "## Setup Variables"
   ],
   "metadata": {
    "collapsed": false
   }
  },
  {
   "cell_type": "code",
   "execution_count": 2,
   "outputs": [],
   "source": [
    "pd.options.display.max_columns= None\n",
    "KPI = \"total_time\"  # activity_occurrence, total_time, ...\n",
    "SECONDS_TO_HOURS = 60 * 60\n",
    "SECONDS_TO_DAYS = 60 * 60 * 24\n",
    "WINDOW_SIZE = 3\n",
    "REDUCED_KPI_TIME = 90\n",
    "TOTAL_CFS = 15                         # Number of CFs DiCE algorithm should produce\n",
    "TRAIN_DATA_SIZE = 10_066               # 31_066\n",
    "DICE_METHOD = \"random\"\n",
    "RESULTS_FILE_PATH_N_NAME = \"experiment_results/genetic-04-total_time.csv\"\n",
    "proximity_weight = 0.2\n",
    "sparsity_weight = 0.2\n",
    "diversity_weight = 5.0\n",
    "\n",
    "case_id_name = 'SR_Number'  # The case identifier column name.\n",
    "start_date_name = 'Change_Date+Time'  # Maybe change to start_et (start even time)\n",
    "activity_column_name = \"ACTIVITY\""
   ],
   "metadata": {
    "collapsed": false,
    "ExecuteTime": {
     "end_time": "2023-06-06T21:37:15.452935722Z",
     "start_time": "2023-06-06T21:37:15.438082182Z"
    }
   }
  },
  {
   "cell_type": "markdown",
   "source": [
    "## Load Data"
   ],
   "metadata": {
    "collapsed": false
   }
  },
  {
   "cell_type": "code",
   "execution_count": 3,
   "outputs": [],
   "source": [
    "data_dir = \"./preprocessed_datasets/\"\n",
    "train_dataset_file = \"train-set-cfe.csv\"\n",
    "test_dataset_file = \"test-set-cfe.csv\"\n",
    "test_pickle_dataset_file = \"test-set-cfe.pkl\"\n",
    "df = pd.read_csv(\"./data/VINST cases incidents.csv\")  # Use full dataset for transition systens\n",
    "df_train = pd.read_csv(os.path.join(data_dir, train_dataset_file))\n",
    "df_test = pd.read_csv(os.path.join(data_dir, test_dataset_file))"
   ],
   "metadata": {
    "collapsed": false,
    "ExecuteTime": {
     "end_time": "2023-06-06T21:37:17.860510966Z",
     "start_time": "2023-06-06T21:37:16.234954197Z"
    }
   }
  },
  {
   "cell_type": "markdown",
   "source": [
    "### Basic Preprocessing of the dataset"
   ],
   "metadata": {
    "collapsed": false
   }
  },
  {
   "cell_type": "code",
   "execution_count": 4,
   "outputs": [
    {
     "name": "stdout",
     "output_type": "stream",
     "text": [
      "Rows in df_train: 10,066\n",
      "Rows in df_train: 19,041\n"
     ]
    }
   ],
   "source": [
    "df = df.fillna(\"missing\")\n",
    "\n",
    "df_train = df_train[:TRAIN_DATA_SIZE]  # 31_066\n",
    "# df_test = df_test[: 19_041]\n",
    "print(f\"Rows in df_train: {len(df_train):,}\")\n",
    "print(f\"Rows in df_train: {len(df_test):,}\")\n",
    "# df_train.info()"
   ],
   "metadata": {
    "collapsed": false,
    "ExecuteTime": {
     "end_time": "2023-06-06T21:37:17.911080232Z",
     "start_time": "2023-06-06T21:37:17.862922760Z"
    }
   }
  },
  {
   "cell_type": "markdown",
   "source": [
    "### Helper functions"
   ],
   "metadata": {
    "collapsed": false
   }
  },
  {
   "cell_type": "code",
   "execution_count": 5,
   "outputs": [],
   "source": [
    "\n",
    "# valid_resources = activity_n_resources(df_train, [\"ACTIVITY\", \"Involved_ST_Function_Div\", \"Involved_Org_line_3\", \"Involved_ST\"])\n",
    "resource_columns_to_validate = [activity_column_name, 'Involved_ST_Function_Div', 'Involved_Org_line_3',\n",
    "                                'Involved_ST', 'Country', 'Owner_Country']\n",
    "valid_resources = activity_n_resources(df, resource_columns_to_validate)\n",
    "# len(valid_resources)"
   ],
   "metadata": {
    "collapsed": false,
    "ExecuteTime": {
     "end_time": "2023-06-06T21:26:47.773241386Z",
     "start_time": "2023-06-06T21:26:46.951468561Z"
    }
   }
  },
  {
   "cell_type": "markdown",
   "source": [
    "### Prepare the Test Dataset"
   ],
   "metadata": {
    "collapsed": false
   }
  },
  {
   "cell_type": "code",
   "execution_count": 5,
   "outputs": [
    {
     "name": "stdout",
     "output_type": "stream",
     "text": [
      "Number of cases in the test set: 2,493\n"
     ]
    }
   ],
   "source": [
    "# === Unpickle the Standard test-set. To standardize the test across different parameters.\n",
    "test_cases = get_test_cases(None, None, load_dataset=True, path_and_filename=os.path.join(data_dir, test_pickle_dataset_file))\n",
    "print(f\"Number of cases in the test set: {len(test_cases):,}\")\n",
    "\n",
    "# # === Pickle dataset for comparison of different methods\n",
    "# with open(os.path.join(data_dir, test_pickle_dataset_file), 'wb') as file:\n",
    "#     pickle.dump(test_cases, file)"
   ],
   "metadata": {
    "collapsed": false,
    "ExecuteTime": {
     "end_time": "2023-06-06T21:37:20.524034790Z",
     "start_time": "2023-06-06T21:37:20.220384364Z"
    }
   }
  },
  {
   "cell_type": "code",
   "execution_count": 9,
   "outputs": [],
   "source": [
    "# ### Features that can vary\n",
    "# option 1:\n",
    "# cols_to_vary = [col for col in df_train.columns if col[0] == '#']\n",
    "# cols_to_vary.extend([\"ACTIVITY\"])\n",
    "\n",
    "# option 2:\n",
    "cols_to_vary = [\"ACTIVITY\", \"Involved_ST_Function_Div\", \"Involved_Org_line_3\", \"Involved_ST\"]\n",
    "\n",
    "outcome_name = \"lead_time\"\n",
    "\n",
    "X_train, y_train = prepare_df_for_ml(df_train, case_id_name, outcome_name, columns_to_remove=[\"Change_Date+Time\", \"time_remaining\"])\n",
    "# X_test, y_test = prepare_df_for_ml(df_test, outcome_name)\n",
    "\n",
    "continuous_features = [\"time_from_first\", \"time_from_previous_et\", \"time_from_midnight\", \"# ACTIVITY=In Progress\", \"# ACTIVITY=Awaiting Assignment\",\n",
    "                       \"# ACTIVITY=Resolved\", \"# ACTIVITY=Assigned\", \"# ACTIVITY=Closed\", \"# ACTIVITY=Wait - User\", \"# ACTIVITY=Wait - Implementation\", \"# ACTIVITY=Wait\",\n",
    "                       \"# ACTIVITY=Wait - Vendor\", \"# ACTIVITY=In Call\", \"# ACTIVITY=Wait - Customer\", \"# ACTIVITY=Unmatched\", \"# ACTIVITY=Cancelled\"]\n",
    "categorical_features = [\"Status\", \"ACTIVITY\", \"Involved_ST_Function_Div\", \"Involved_Org_line_3\", \"Involved_ST\", \"SR_Latest_Impact\", \"Product\", \"Country\", \"Owner_Country\",\n",
    "                        \"weekday\"]\n",
    "\n",
    "# We create the preprocessing pipelines for both numeric and categorical data.\n",
    "numeric_transformer = Pipeline(steps=[\n",
    "    ('scaler', StandardScaler())])\n",
    "\n",
    "categorical_transformer = Pipeline(steps=[\n",
    "    ('onehot', OneHotEncoder(handle_unknown='ignore'))])\n",
    "\n",
    "transformations = ColumnTransformer(\n",
    "    transformers=[\n",
    "        ('num', numeric_transformer, continuous_features),\n",
    "        ('cat', categorical_transformer, categorical_features)])\n",
    "\n",
    "# Append classifier to preprocessing pipeline.\n",
    "# Now we have a full prediction pipeline.\n",
    "clf = Pipeline(steps=[('preprocessor', transformations),\n",
    "                           ('classifier', RandomForestRegressor(n_jobs=7))])\n",
    "model = clf.fit(X_train, y_train)\n",
    "\n",
    "# ## Create DiCE model\n",
    "data_model = dice_ml.Data(dataframe=pd.concat([X_train, y_train], axis=\"columns\"),\n",
    "                      continuous_features=continuous_features,\n",
    "                      outcome_name=outcome_name)\n",
    "\n",
    "# We provide the type of model as a parameter (model_type)\n",
    "ml_backend = dice_ml.Model(model=model, backend=\"sklearn\", model_type='regressor')\n",
    "method = DICE_METHOD  # genetic, kdtree, random\n",
    "explainer = Dice(data_model, ml_backend, method=method)  # Method random does not support features_weights argument in generate_counterfactuals()\n",
    "# exp_genetic_iris = Dice(d_iris, m_iris, method=\"kdtree\")"
   ],
   "metadata": {
    "collapsed": false,
    "ExecuteTime": {
     "end_time": "2023-06-06T21:29:27.293790094Z",
     "start_time": "2023-06-06T21:29:05.640475858Z"
    }
   }
  },
  {
   "cell_type": "markdown",
   "source": [
    "## Experiment with Single Queries"
   ],
   "metadata": {
    "collapsed": false
   }
  },
  {
   "cell_type": "code",
   "execution_count": 10,
   "outputs": [
    {
     "data": {
      "text/plain": "      SR_Number  Change_Date+Time    Status             ACTIVITY   \n87  1-506071646        1299572184  Accepted          In Progress  \\\n88  1-506071646        1299572298    Queued  Awaiting Assignment   \n89  1-506071646        1299572432  Accepted          In Progress   \n90  1-506071646        1299572566  Accepted          Wait - User   \n91  1-506071646        1299651374  Accepted          In Progress   \n92  1-506071646        1299651436    Queued  Awaiting Assignment   \n93  1-506071646        1299686621  Accepted          In Progress   \n94  1-506071646        1299686712    Queued  Awaiting Assignment   \n95  1-506071646        1299756545  Accepted          In Progress   \n96  1-506071646        1299757653  Accepted          Wait - User   \n\n   Involved_ST_Function_Div Involved_Org_line_3 Involved_ST SR_Latest_Impact   \n87                  missing        Org line V7n     V37 2nd           Medium  \\\n88                     A2_1         Org line A2          D8           Medium   \n89                     A2_1         Org line A2          D8           Medium   \n90                     A2_1         Org line A2          D8           Medium   \n91                     A2_1         Org line A2          D8           Medium   \n92                  missing        Org line V7n     V37 2nd           Medium   \n93                  missing        Org line V7n     V37 2nd           Medium   \n94                     A2_1         Org line A2          D8           Medium   \n95                     A2_1         Org line A2          D8           Medium   \n96                     A2_1         Org line A2          D8           Medium   \n\n    Product Country Owner_Country  time_from_first  time_from_previous_et   \n87  PROD542      nl   Netherlands          81256.0                 8430.0  \\\n88  PROD542      nl   Netherlands          81370.0                  114.0   \n89  PROD542      nl        POLAND          81504.0                  134.0   \n90  PROD542      nl        POLAND          81638.0                  134.0   \n91  PROD542      nl        POLAND         160446.0                78808.0   \n92  PROD542      nl        POLAND         160508.0                   62.0   \n93  PROD542      nl   Netherlands         195693.0                35185.0   \n94  PROD542      nl   Netherlands         195784.0                   91.0   \n95  PROD542      nl        POLAND         265617.0                69833.0   \n96  PROD542      nl        POLAND         266725.0                 1108.0   \n\n    time_from_midnight    weekday  time_remaining  # ACTIVITY=In Progress   \n87             29784.0    Tuesday      37206306.0                       8  \\\n88             29898.0    Tuesday      37206192.0                       9   \n89             30032.0    Tuesday      37206058.0                       9   \n90             30166.0    Tuesday      37205924.0                      10   \n91             22574.0  Wednesday      37127116.0                      10   \n92             22636.0  Wednesday      37127054.0                      11   \n93             57821.0  Wednesday      37091869.0                      11   \n94             57912.0  Wednesday      37091778.0                      12   \n95             41345.0   Thursday      37021945.0                      12   \n96             42453.0   Thursday      37020837.0                      13   \n\n    # ACTIVITY=Awaiting Assignment  # ACTIVITY=Resolved  # ACTIVITY=Assigned   \n87                               5                    0                    0  \\\n88                               5                    0                    0   \n89                               6                    0                    0   \n90                               6                    0                    0   \n91                               6                    0                    0   \n92                               6                    0                    0   \n93                               7                    0                    0   \n94                               7                    0                    0   \n95                               8                    0                    0   \n96                               8                    0                    0   \n\n    # ACTIVITY=Closed  # ACTIVITY=Wait - User   \n87                  0                       1  \\\n88                  0                       1   \n89                  0                       1   \n90                  0                       1   \n91                  0                       2   \n92                  0                       2   \n93                  0                       2   \n94                  0                       2   \n95                  0                       2   \n96                  0                       2   \n\n    # ACTIVITY=Wait - Implementation  # ACTIVITY=Wait   \n87                                 0                0  \\\n88                                 0                0   \n89                                 0                0   \n90                                 0                0   \n91                                 0                0   \n92                                 0                0   \n93                                 0                0   \n94                                 0                0   \n95                                 0                0   \n96                                 0                0   \n\n    # ACTIVITY=Wait - Vendor  # ACTIVITY=In Call  # ACTIVITY=Wait - Customer   \n87                         0                   0                           0  \\\n88                         0                   0                           0   \n89                         0                   0                           0   \n90                         0                   0                           0   \n91                         0                   0                           0   \n92                         0                   0                           0   \n93                         0                   0                           0   \n94                         0                   0                           0   \n95                         0                   0                           0   \n96                         0                   0                           0   \n\n    # ACTIVITY=Unmatched  # ACTIVITY=Cancelled   lead_time  \n87                     0                     0  37287562.0  \n88                     0                     0  37287562.0  \n89                     0                     0  37287562.0  \n90                     0                     0  37287562.0  \n91                     0                     0  37287562.0  \n92                     0                     0  37287562.0  \n93                     0                     0  37287562.0  \n94                     0                     0  37287562.0  \n95                     0                     0  37287562.0  \n96                     0                     0  37287562.0  ",
      "text/html": "<div>\n<style scoped>\n    .dataframe tbody tr th:only-of-type {\n        vertical-align: middle;\n    }\n\n    .dataframe tbody tr th {\n        vertical-align: top;\n    }\n\n    .dataframe thead th {\n        text-align: right;\n    }\n</style>\n<table border=\"1\" class=\"dataframe\">\n  <thead>\n    <tr style=\"text-align: right;\">\n      <th></th>\n      <th>SR_Number</th>\n      <th>Change_Date+Time</th>\n      <th>Status</th>\n      <th>ACTIVITY</th>\n      <th>Involved_ST_Function_Div</th>\n      <th>Involved_Org_line_3</th>\n      <th>Involved_ST</th>\n      <th>SR_Latest_Impact</th>\n      <th>Product</th>\n      <th>Country</th>\n      <th>Owner_Country</th>\n      <th>time_from_first</th>\n      <th>time_from_previous_et</th>\n      <th>time_from_midnight</th>\n      <th>weekday</th>\n      <th>time_remaining</th>\n      <th># ACTIVITY=In Progress</th>\n      <th># ACTIVITY=Awaiting Assignment</th>\n      <th># ACTIVITY=Resolved</th>\n      <th># ACTIVITY=Assigned</th>\n      <th># ACTIVITY=Closed</th>\n      <th># ACTIVITY=Wait - User</th>\n      <th># ACTIVITY=Wait - Implementation</th>\n      <th># ACTIVITY=Wait</th>\n      <th># ACTIVITY=Wait - Vendor</th>\n      <th># ACTIVITY=In Call</th>\n      <th># ACTIVITY=Wait - Customer</th>\n      <th># ACTIVITY=Unmatched</th>\n      <th># ACTIVITY=Cancelled</th>\n      <th>lead_time</th>\n    </tr>\n  </thead>\n  <tbody>\n    <tr>\n      <th>87</th>\n      <td>1-506071646</td>\n      <td>1299572184</td>\n      <td>Accepted</td>\n      <td>In Progress</td>\n      <td>missing</td>\n      <td>Org line V7n</td>\n      <td>V37 2nd</td>\n      <td>Medium</td>\n      <td>PROD542</td>\n      <td>nl</td>\n      <td>Netherlands</td>\n      <td>81256.0</td>\n      <td>8430.0</td>\n      <td>29784.0</td>\n      <td>Tuesday</td>\n      <td>37206306.0</td>\n      <td>8</td>\n      <td>5</td>\n      <td>0</td>\n      <td>0</td>\n      <td>0</td>\n      <td>1</td>\n      <td>0</td>\n      <td>0</td>\n      <td>0</td>\n      <td>0</td>\n      <td>0</td>\n      <td>0</td>\n      <td>0</td>\n      <td>37287562.0</td>\n    </tr>\n    <tr>\n      <th>88</th>\n      <td>1-506071646</td>\n      <td>1299572298</td>\n      <td>Queued</td>\n      <td>Awaiting Assignment</td>\n      <td>A2_1</td>\n      <td>Org line A2</td>\n      <td>D8</td>\n      <td>Medium</td>\n      <td>PROD542</td>\n      <td>nl</td>\n      <td>Netherlands</td>\n      <td>81370.0</td>\n      <td>114.0</td>\n      <td>29898.0</td>\n      <td>Tuesday</td>\n      <td>37206192.0</td>\n      <td>9</td>\n      <td>5</td>\n      <td>0</td>\n      <td>0</td>\n      <td>0</td>\n      <td>1</td>\n      <td>0</td>\n      <td>0</td>\n      <td>0</td>\n      <td>0</td>\n      <td>0</td>\n      <td>0</td>\n      <td>0</td>\n      <td>37287562.0</td>\n    </tr>\n    <tr>\n      <th>89</th>\n      <td>1-506071646</td>\n      <td>1299572432</td>\n      <td>Accepted</td>\n      <td>In Progress</td>\n      <td>A2_1</td>\n      <td>Org line A2</td>\n      <td>D8</td>\n      <td>Medium</td>\n      <td>PROD542</td>\n      <td>nl</td>\n      <td>POLAND</td>\n      <td>81504.0</td>\n      <td>134.0</td>\n      <td>30032.0</td>\n      <td>Tuesday</td>\n      <td>37206058.0</td>\n      <td>9</td>\n      <td>6</td>\n      <td>0</td>\n      <td>0</td>\n      <td>0</td>\n      <td>1</td>\n      <td>0</td>\n      <td>0</td>\n      <td>0</td>\n      <td>0</td>\n      <td>0</td>\n      <td>0</td>\n      <td>0</td>\n      <td>37287562.0</td>\n    </tr>\n    <tr>\n      <th>90</th>\n      <td>1-506071646</td>\n      <td>1299572566</td>\n      <td>Accepted</td>\n      <td>Wait - User</td>\n      <td>A2_1</td>\n      <td>Org line A2</td>\n      <td>D8</td>\n      <td>Medium</td>\n      <td>PROD542</td>\n      <td>nl</td>\n      <td>POLAND</td>\n      <td>81638.0</td>\n      <td>134.0</td>\n      <td>30166.0</td>\n      <td>Tuesday</td>\n      <td>37205924.0</td>\n      <td>10</td>\n      <td>6</td>\n      <td>0</td>\n      <td>0</td>\n      <td>0</td>\n      <td>1</td>\n      <td>0</td>\n      <td>0</td>\n      <td>0</td>\n      <td>0</td>\n      <td>0</td>\n      <td>0</td>\n      <td>0</td>\n      <td>37287562.0</td>\n    </tr>\n    <tr>\n      <th>91</th>\n      <td>1-506071646</td>\n      <td>1299651374</td>\n      <td>Accepted</td>\n      <td>In Progress</td>\n      <td>A2_1</td>\n      <td>Org line A2</td>\n      <td>D8</td>\n      <td>Medium</td>\n      <td>PROD542</td>\n      <td>nl</td>\n      <td>POLAND</td>\n      <td>160446.0</td>\n      <td>78808.0</td>\n      <td>22574.0</td>\n      <td>Wednesday</td>\n      <td>37127116.0</td>\n      <td>10</td>\n      <td>6</td>\n      <td>0</td>\n      <td>0</td>\n      <td>0</td>\n      <td>2</td>\n      <td>0</td>\n      <td>0</td>\n      <td>0</td>\n      <td>0</td>\n      <td>0</td>\n      <td>0</td>\n      <td>0</td>\n      <td>37287562.0</td>\n    </tr>\n    <tr>\n      <th>92</th>\n      <td>1-506071646</td>\n      <td>1299651436</td>\n      <td>Queued</td>\n      <td>Awaiting Assignment</td>\n      <td>missing</td>\n      <td>Org line V7n</td>\n      <td>V37 2nd</td>\n      <td>Medium</td>\n      <td>PROD542</td>\n      <td>nl</td>\n      <td>POLAND</td>\n      <td>160508.0</td>\n      <td>62.0</td>\n      <td>22636.0</td>\n      <td>Wednesday</td>\n      <td>37127054.0</td>\n      <td>11</td>\n      <td>6</td>\n      <td>0</td>\n      <td>0</td>\n      <td>0</td>\n      <td>2</td>\n      <td>0</td>\n      <td>0</td>\n      <td>0</td>\n      <td>0</td>\n      <td>0</td>\n      <td>0</td>\n      <td>0</td>\n      <td>37287562.0</td>\n    </tr>\n    <tr>\n      <th>93</th>\n      <td>1-506071646</td>\n      <td>1299686621</td>\n      <td>Accepted</td>\n      <td>In Progress</td>\n      <td>missing</td>\n      <td>Org line V7n</td>\n      <td>V37 2nd</td>\n      <td>Medium</td>\n      <td>PROD542</td>\n      <td>nl</td>\n      <td>Netherlands</td>\n      <td>195693.0</td>\n      <td>35185.0</td>\n      <td>57821.0</td>\n      <td>Wednesday</td>\n      <td>37091869.0</td>\n      <td>11</td>\n      <td>7</td>\n      <td>0</td>\n      <td>0</td>\n      <td>0</td>\n      <td>2</td>\n      <td>0</td>\n      <td>0</td>\n      <td>0</td>\n      <td>0</td>\n      <td>0</td>\n      <td>0</td>\n      <td>0</td>\n      <td>37287562.0</td>\n    </tr>\n    <tr>\n      <th>94</th>\n      <td>1-506071646</td>\n      <td>1299686712</td>\n      <td>Queued</td>\n      <td>Awaiting Assignment</td>\n      <td>A2_1</td>\n      <td>Org line A2</td>\n      <td>D8</td>\n      <td>Medium</td>\n      <td>PROD542</td>\n      <td>nl</td>\n      <td>Netherlands</td>\n      <td>195784.0</td>\n      <td>91.0</td>\n      <td>57912.0</td>\n      <td>Wednesday</td>\n      <td>37091778.0</td>\n      <td>12</td>\n      <td>7</td>\n      <td>0</td>\n      <td>0</td>\n      <td>0</td>\n      <td>2</td>\n      <td>0</td>\n      <td>0</td>\n      <td>0</td>\n      <td>0</td>\n      <td>0</td>\n      <td>0</td>\n      <td>0</td>\n      <td>37287562.0</td>\n    </tr>\n    <tr>\n      <th>95</th>\n      <td>1-506071646</td>\n      <td>1299756545</td>\n      <td>Accepted</td>\n      <td>In Progress</td>\n      <td>A2_1</td>\n      <td>Org line A2</td>\n      <td>D8</td>\n      <td>Medium</td>\n      <td>PROD542</td>\n      <td>nl</td>\n      <td>POLAND</td>\n      <td>265617.0</td>\n      <td>69833.0</td>\n      <td>41345.0</td>\n      <td>Thursday</td>\n      <td>37021945.0</td>\n      <td>12</td>\n      <td>8</td>\n      <td>0</td>\n      <td>0</td>\n      <td>0</td>\n      <td>2</td>\n      <td>0</td>\n      <td>0</td>\n      <td>0</td>\n      <td>0</td>\n      <td>0</td>\n      <td>0</td>\n      <td>0</td>\n      <td>37287562.0</td>\n    </tr>\n    <tr>\n      <th>96</th>\n      <td>1-506071646</td>\n      <td>1299757653</td>\n      <td>Accepted</td>\n      <td>Wait - User</td>\n      <td>A2_1</td>\n      <td>Org line A2</td>\n      <td>D8</td>\n      <td>Medium</td>\n      <td>PROD542</td>\n      <td>nl</td>\n      <td>POLAND</td>\n      <td>266725.0</td>\n      <td>1108.0</td>\n      <td>42453.0</td>\n      <td>Thursday</td>\n      <td>37020837.0</td>\n      <td>13</td>\n      <td>8</td>\n      <td>0</td>\n      <td>0</td>\n      <td>0</td>\n      <td>2</td>\n      <td>0</td>\n      <td>0</td>\n      <td>0</td>\n      <td>0</td>\n      <td>0</td>\n      <td>0</td>\n      <td>0</td>\n      <td>37287562.0</td>\n    </tr>\n  </tbody>\n</table>\n</div>"
     },
     "execution_count": 10,
     "metadata": {},
     "output_type": "execute_result"
    }
   ],
   "source": [
    "sidx = 87\n",
    "eidx = 97\n",
    "\n",
    "df_train[sidx: eidx]\n",
    "# df_train[sidx: eidx]"
   ],
   "metadata": {
    "collapsed": false,
    "ExecuteTime": {
     "end_time": "2023-06-06T21:29:27.366293010Z",
     "start_time": "2023-06-06T21:29:27.295721027Z"
    }
   }
  },
  {
   "cell_type": "code",
   "execution_count": 11,
   "outputs": [
    {
     "name": "stderr",
     "output_type": "stream",
     "text": [
      "100%|██████████| 1/1 [00:01<00:00,  1.32s/it]"
     ]
    },
    {
     "name": "stdout",
     "output_type": "stream",
     "text": [
      "Query instance (original outcome : 34397332)\n"
     ]
    },
    {
     "name": "stderr",
     "output_type": "stream",
     "text": [
      "\n"
     ]
    },
    {
     "data": {
      "text/plain": "   Status             ACTIVITY Involved_ST_Function_Div Involved_Org_line_3   \n0  Queued  Awaiting Assignment                     A2_1         Org line A2  \\\n\n  Involved_ST SR_Latest_Impact  Product Country Owner_Country   \n0          D8           Medium  PROD542      nl   Netherlands  \\\n\n   time_from_first  time_from_previous_et  time_from_midnight    weekday   \n0         195784.0                   91.0             57912.0  Wednesday  \\\n\n   # ACTIVITY=In Progress  # ACTIVITY=Awaiting Assignment   \n0                      12                               7  \\\n\n   # ACTIVITY=Resolved  # ACTIVITY=Assigned  # ACTIVITY=Closed   \n0                    0                    0                  0  \\\n\n   # ACTIVITY=Wait - User  # ACTIVITY=Wait - Implementation  # ACTIVITY=Wait   \n0                       2                                 0                0  \\\n\n   # ACTIVITY=Wait - Vendor  # ACTIVITY=In Call  # ACTIVITY=Wait - Customer   \n0                         0                   0                           0  \\\n\n   # ACTIVITY=Unmatched  # ACTIVITY=Cancelled   lead_time  \n0                     0                     0  34397332.0  ",
      "text/html": "<div>\n<style scoped>\n    .dataframe tbody tr th:only-of-type {\n        vertical-align: middle;\n    }\n\n    .dataframe tbody tr th {\n        vertical-align: top;\n    }\n\n    .dataframe thead th {\n        text-align: right;\n    }\n</style>\n<table border=\"1\" class=\"dataframe\">\n  <thead>\n    <tr style=\"text-align: right;\">\n      <th></th>\n      <th>Status</th>\n      <th>ACTIVITY</th>\n      <th>Involved_ST_Function_Div</th>\n      <th>Involved_Org_line_3</th>\n      <th>Involved_ST</th>\n      <th>SR_Latest_Impact</th>\n      <th>Product</th>\n      <th>Country</th>\n      <th>Owner_Country</th>\n      <th>time_from_first</th>\n      <th>time_from_previous_et</th>\n      <th>time_from_midnight</th>\n      <th>weekday</th>\n      <th># ACTIVITY=In Progress</th>\n      <th># ACTIVITY=Awaiting Assignment</th>\n      <th># ACTIVITY=Resolved</th>\n      <th># ACTIVITY=Assigned</th>\n      <th># ACTIVITY=Closed</th>\n      <th># ACTIVITY=Wait - User</th>\n      <th># ACTIVITY=Wait - Implementation</th>\n      <th># ACTIVITY=Wait</th>\n      <th># ACTIVITY=Wait - Vendor</th>\n      <th># ACTIVITY=In Call</th>\n      <th># ACTIVITY=Wait - Customer</th>\n      <th># ACTIVITY=Unmatched</th>\n      <th># ACTIVITY=Cancelled</th>\n      <th>lead_time</th>\n    </tr>\n  </thead>\n  <tbody>\n    <tr>\n      <th>0</th>\n      <td>Queued</td>\n      <td>Awaiting Assignment</td>\n      <td>A2_1</td>\n      <td>Org line A2</td>\n      <td>D8</td>\n      <td>Medium</td>\n      <td>PROD542</td>\n      <td>nl</td>\n      <td>Netherlands</td>\n      <td>195784.0</td>\n      <td>91.0</td>\n      <td>57912.0</td>\n      <td>Wednesday</td>\n      <td>12</td>\n      <td>7</td>\n      <td>0</td>\n      <td>0</td>\n      <td>0</td>\n      <td>2</td>\n      <td>0</td>\n      <td>0</td>\n      <td>0</td>\n      <td>0</td>\n      <td>0</td>\n      <td>0</td>\n      <td>0</td>\n      <td>34397332.0</td>\n    </tr>\n  </tbody>\n</table>\n</div>"
     },
     "metadata": {},
     "output_type": "display_data"
    },
    {
     "name": "stdout",
     "output_type": "stream",
     "text": [
      "\n",
      "Diverse Counterfactual set (new outcome: [0, 33558805])\n"
     ]
    },
    {
     "data": {
      "text/plain": "   Status               ACTIVITY Involved_ST_Function_Div Involved_Org_line_3   \n0       -                      -                      D_2         Org line G1  \\\n1       -                      -                        -                   -   \n2       -            Wait - User                        -          Org line F   \n3       -                   Wait                        -                   -   \n4       -                      -                     E_10                   -   \n5       -                      -                        -                   -   \n6       -  Wait - Implementation                        -                   -   \n7       -                      -                        -                   -   \n8       -                   Wait                        -          Org line I   \n9       -                      -                        -                   -   \n10      -            In Progress                        -                   -   \n11      -               Resolved                        -                   -   \n12      -                      -                  missing        Org line V10   \n13      -                      -                     A2_2         Org line V8   \n14      -                In Call                        -         Org line V2   \n15      -                      -                        -                   -   \n16      -                      -                        -                   -   \n17      -                   Wait                        -          Org line H   \n18      -                      -                      E_1                   -   \n19      -                      -                        -                   -   \n\n   Involved_ST SR_Latest_Impact Product Country Owner_Country time_from_first   \n0            -                -       -       -             -               -  \\\n1       N3 2nd                -       -       -             -               -   \n2            -                -       -       -             -               -   \n3       V4 2nd                -       -       -             -               -   \n4           M6                -       -       -             -               -   \n5       U6 2nd                -       -       -             -               -   \n6      G28 3rd                -       -       -             -               -   \n7      L50 3rd                -       -       -             -               -   \n8            -                -       -       -             -               -   \n9          N47                -       -       -             -               -   \n10      V5 3rd                -       -       -             -               -   \n11        G125                -       -       -             -               -   \n12           -                -       -       -             -               -   \n13           -                -       -       -             -               -   \n14           -                -       -       -             -               -   \n15          S5                -       -       -             -               -   \n16          M6                -       -       -             -               -   \n17           -                -       -       -             -               -   \n18    G143 2nd                -       -       -             -               -   \n19    G138 2nd                -       -       -             -               -   \n\n   time_from_previous_et time_from_midnight weekday # ACTIVITY=In Progress   \n0                      -                  -       -                      -  \\\n1                      -                  -       -                      -   \n2                      -                  -       -                      -   \n3                      -                  -       -                      -   \n4                      -                  -       -                      -   \n5                      -                  -       -                      -   \n6                      -                  -       -                      -   \n7                      -                  -       -                      -   \n8                      -                  -       -                      -   \n9                      -                  -       -                      -   \n10                     -                  -       -                      -   \n11                     -                  -       -                      -   \n12                     -                  -       -                      -   \n13                     -                  -       -                      -   \n14                     -                  -       -                      -   \n15                     -                  -       -                      -   \n16                     -                  -       -                      -   \n17                     -                  -       -                      -   \n18                     -                  -       -                      -   \n19                     -                  -       -                      -   \n\n   # ACTIVITY=Awaiting Assignment # ACTIVITY=Resolved # ACTIVITY=Assigned   \n0                               -                   -                   -  \\\n1                               -                   -                   -   \n2                               -                   -                   -   \n3                               -                   -                   -   \n4                               -                   -                   -   \n5                               -                   -                   -   \n6                               -                   -                   -   \n7                               -                   -                   -   \n8                               -                   -                   -   \n9                               -                   -                   -   \n10                              -                   -                   -   \n11                              -                   -                   -   \n12                              -                   -                   -   \n13                              -                   -                   -   \n14                              -                   -                   -   \n15                              -                   -                   -   \n16                              -                   -                   -   \n17                              -                   -                   -   \n18                              -                   -                   -   \n19                              -                   -                   -   \n\n   # ACTIVITY=Closed # ACTIVITY=Wait - User # ACTIVITY=Wait - Implementation   \n0                  -                      -                                -  \\\n1                  -                      -                                -   \n2                  -                      -                                -   \n3                  -                      -                                -   \n4                  -                      -                                -   \n5                  -                      -                                -   \n6                  -                      -                                -   \n7                  -                      -                                -   \n8                  -                      -                                -   \n9                  -                      -                                -   \n10                 -                      -                                -   \n11                 -                      -                                -   \n12                 -                      -                                -   \n13                 -                      -                                -   \n14                 -                      -                                -   \n15                 -                      -                                -   \n16                 -                      -                                -   \n17                 -                      -                                -   \n18                 -                      -                                -   \n19                 -                      -                                -   \n\n   # ACTIVITY=Wait # ACTIVITY=Wait - Vendor # ACTIVITY=In Call   \n0                -                        -                  -  \\\n1                -                        -                  -   \n2                -                        -                  -   \n3                -                        -                  -   \n4                -                        -                  -   \n5                -                        -                  -   \n6                -                        -                  -   \n7                -                        -                  -   \n8                -                        -                  -   \n9                -                        -                  -   \n10               -                        -                  -   \n11               -                        -                  -   \n12               -                        -                  -   \n13               -                        -                  -   \n14               -                        -                  -   \n15               -                        -                  -   \n16               -                        -                  -   \n17               -                        -                  -   \n18               -                        -                  -   \n19               -                        -                  -   \n\n   # ACTIVITY=Wait - Customer # ACTIVITY=Unmatched # ACTIVITY=Cancelled   \n0                           -                    -                    -  \\\n1                           -                    -                    -   \n2                           -                    -                    -   \n3                           -                    -                    -   \n4                           -                    -                    -   \n5                           -                    -                    -   \n6                           -                    -                    -   \n7                           -                    -                    -   \n8                           -                    -                    -   \n9                           -                    -                    -   \n10                          -                    -                    -   \n11                          -                    -                    -   \n12                          -                    -                    -   \n13                          -                    -                    -   \n14                          -                    -                    -   \n15                          -                    -                    -   \n16                          -                    -                    -   \n17                          -                    -                    -   \n18                          -                    -                    -   \n19                          -                    -                    -   \n\n     lead_time  \n0   32348424.0  \n1   27343876.0  \n2   32573954.0  \n3   26627440.0  \n4   27531300.0  \n5   27343876.0  \n6   27768832.0  \n7   27343876.0  \n8   31999992.0  \n9   27343876.0  \n10  27768832.0  \n11  27768832.0  \n12  32348424.0  \n13  32348424.0  \n14  32573954.0  \n15  27343876.0  \n16  27343876.0  \n17  31999992.0  \n18  27531300.0  \n19  27343876.0  ",
      "text/html": "<div>\n<style scoped>\n    .dataframe tbody tr th:only-of-type {\n        vertical-align: middle;\n    }\n\n    .dataframe tbody tr th {\n        vertical-align: top;\n    }\n\n    .dataframe thead th {\n        text-align: right;\n    }\n</style>\n<table border=\"1\" class=\"dataframe\">\n  <thead>\n    <tr style=\"text-align: right;\">\n      <th></th>\n      <th>Status</th>\n      <th>ACTIVITY</th>\n      <th>Involved_ST_Function_Div</th>\n      <th>Involved_Org_line_3</th>\n      <th>Involved_ST</th>\n      <th>SR_Latest_Impact</th>\n      <th>Product</th>\n      <th>Country</th>\n      <th>Owner_Country</th>\n      <th>time_from_first</th>\n      <th>time_from_previous_et</th>\n      <th>time_from_midnight</th>\n      <th>weekday</th>\n      <th># ACTIVITY=In Progress</th>\n      <th># ACTIVITY=Awaiting Assignment</th>\n      <th># ACTIVITY=Resolved</th>\n      <th># ACTIVITY=Assigned</th>\n      <th># ACTIVITY=Closed</th>\n      <th># ACTIVITY=Wait - User</th>\n      <th># ACTIVITY=Wait - Implementation</th>\n      <th># ACTIVITY=Wait</th>\n      <th># ACTIVITY=Wait - Vendor</th>\n      <th># ACTIVITY=In Call</th>\n      <th># ACTIVITY=Wait - Customer</th>\n      <th># ACTIVITY=Unmatched</th>\n      <th># ACTIVITY=Cancelled</th>\n      <th>lead_time</th>\n    </tr>\n  </thead>\n  <tbody>\n    <tr>\n      <th>0</th>\n      <td>-</td>\n      <td>-</td>\n      <td>D_2</td>\n      <td>Org line G1</td>\n      <td>-</td>\n      <td>-</td>\n      <td>-</td>\n      <td>-</td>\n      <td>-</td>\n      <td>-</td>\n      <td>-</td>\n      <td>-</td>\n      <td>-</td>\n      <td>-</td>\n      <td>-</td>\n      <td>-</td>\n      <td>-</td>\n      <td>-</td>\n      <td>-</td>\n      <td>-</td>\n      <td>-</td>\n      <td>-</td>\n      <td>-</td>\n      <td>-</td>\n      <td>-</td>\n      <td>-</td>\n      <td>32348424.0</td>\n    </tr>\n    <tr>\n      <th>1</th>\n      <td>-</td>\n      <td>-</td>\n      <td>-</td>\n      <td>-</td>\n      <td>N3 2nd</td>\n      <td>-</td>\n      <td>-</td>\n      <td>-</td>\n      <td>-</td>\n      <td>-</td>\n      <td>-</td>\n      <td>-</td>\n      <td>-</td>\n      <td>-</td>\n      <td>-</td>\n      <td>-</td>\n      <td>-</td>\n      <td>-</td>\n      <td>-</td>\n      <td>-</td>\n      <td>-</td>\n      <td>-</td>\n      <td>-</td>\n      <td>-</td>\n      <td>-</td>\n      <td>-</td>\n      <td>27343876.0</td>\n    </tr>\n    <tr>\n      <th>2</th>\n      <td>-</td>\n      <td>Wait - User</td>\n      <td>-</td>\n      <td>Org line F</td>\n      <td>-</td>\n      <td>-</td>\n      <td>-</td>\n      <td>-</td>\n      <td>-</td>\n      <td>-</td>\n      <td>-</td>\n      <td>-</td>\n      <td>-</td>\n      <td>-</td>\n      <td>-</td>\n      <td>-</td>\n      <td>-</td>\n      <td>-</td>\n      <td>-</td>\n      <td>-</td>\n      <td>-</td>\n      <td>-</td>\n      <td>-</td>\n      <td>-</td>\n      <td>-</td>\n      <td>-</td>\n      <td>32573954.0</td>\n    </tr>\n    <tr>\n      <th>3</th>\n      <td>-</td>\n      <td>Wait</td>\n      <td>-</td>\n      <td>-</td>\n      <td>V4 2nd</td>\n      <td>-</td>\n      <td>-</td>\n      <td>-</td>\n      <td>-</td>\n      <td>-</td>\n      <td>-</td>\n      <td>-</td>\n      <td>-</td>\n      <td>-</td>\n      <td>-</td>\n      <td>-</td>\n      <td>-</td>\n      <td>-</td>\n      <td>-</td>\n      <td>-</td>\n      <td>-</td>\n      <td>-</td>\n      <td>-</td>\n      <td>-</td>\n      <td>-</td>\n      <td>-</td>\n      <td>26627440.0</td>\n    </tr>\n    <tr>\n      <th>4</th>\n      <td>-</td>\n      <td>-</td>\n      <td>E_10</td>\n      <td>-</td>\n      <td>M6</td>\n      <td>-</td>\n      <td>-</td>\n      <td>-</td>\n      <td>-</td>\n      <td>-</td>\n      <td>-</td>\n      <td>-</td>\n      <td>-</td>\n      <td>-</td>\n      <td>-</td>\n      <td>-</td>\n      <td>-</td>\n      <td>-</td>\n      <td>-</td>\n      <td>-</td>\n      <td>-</td>\n      <td>-</td>\n      <td>-</td>\n      <td>-</td>\n      <td>-</td>\n      <td>-</td>\n      <td>27531300.0</td>\n    </tr>\n    <tr>\n      <th>5</th>\n      <td>-</td>\n      <td>-</td>\n      <td>-</td>\n      <td>-</td>\n      <td>U6 2nd</td>\n      <td>-</td>\n      <td>-</td>\n      <td>-</td>\n      <td>-</td>\n      <td>-</td>\n      <td>-</td>\n      <td>-</td>\n      <td>-</td>\n      <td>-</td>\n      <td>-</td>\n      <td>-</td>\n      <td>-</td>\n      <td>-</td>\n      <td>-</td>\n      <td>-</td>\n      <td>-</td>\n      <td>-</td>\n      <td>-</td>\n      <td>-</td>\n      <td>-</td>\n      <td>-</td>\n      <td>27343876.0</td>\n    </tr>\n    <tr>\n      <th>6</th>\n      <td>-</td>\n      <td>Wait - Implementation</td>\n      <td>-</td>\n      <td>-</td>\n      <td>G28 3rd</td>\n      <td>-</td>\n      <td>-</td>\n      <td>-</td>\n      <td>-</td>\n      <td>-</td>\n      <td>-</td>\n      <td>-</td>\n      <td>-</td>\n      <td>-</td>\n      <td>-</td>\n      <td>-</td>\n      <td>-</td>\n      <td>-</td>\n      <td>-</td>\n      <td>-</td>\n      <td>-</td>\n      <td>-</td>\n      <td>-</td>\n      <td>-</td>\n      <td>-</td>\n      <td>-</td>\n      <td>27768832.0</td>\n    </tr>\n    <tr>\n      <th>7</th>\n      <td>-</td>\n      <td>-</td>\n      <td>-</td>\n      <td>-</td>\n      <td>L50 3rd</td>\n      <td>-</td>\n      <td>-</td>\n      <td>-</td>\n      <td>-</td>\n      <td>-</td>\n      <td>-</td>\n      <td>-</td>\n      <td>-</td>\n      <td>-</td>\n      <td>-</td>\n      <td>-</td>\n      <td>-</td>\n      <td>-</td>\n      <td>-</td>\n      <td>-</td>\n      <td>-</td>\n      <td>-</td>\n      <td>-</td>\n      <td>-</td>\n      <td>-</td>\n      <td>-</td>\n      <td>27343876.0</td>\n    </tr>\n    <tr>\n      <th>8</th>\n      <td>-</td>\n      <td>Wait</td>\n      <td>-</td>\n      <td>Org line I</td>\n      <td>-</td>\n      <td>-</td>\n      <td>-</td>\n      <td>-</td>\n      <td>-</td>\n      <td>-</td>\n      <td>-</td>\n      <td>-</td>\n      <td>-</td>\n      <td>-</td>\n      <td>-</td>\n      <td>-</td>\n      <td>-</td>\n      <td>-</td>\n      <td>-</td>\n      <td>-</td>\n      <td>-</td>\n      <td>-</td>\n      <td>-</td>\n      <td>-</td>\n      <td>-</td>\n      <td>-</td>\n      <td>31999992.0</td>\n    </tr>\n    <tr>\n      <th>9</th>\n      <td>-</td>\n      <td>-</td>\n      <td>-</td>\n      <td>-</td>\n      <td>N47</td>\n      <td>-</td>\n      <td>-</td>\n      <td>-</td>\n      <td>-</td>\n      <td>-</td>\n      <td>-</td>\n      <td>-</td>\n      <td>-</td>\n      <td>-</td>\n      <td>-</td>\n      <td>-</td>\n      <td>-</td>\n      <td>-</td>\n      <td>-</td>\n      <td>-</td>\n      <td>-</td>\n      <td>-</td>\n      <td>-</td>\n      <td>-</td>\n      <td>-</td>\n      <td>-</td>\n      <td>27343876.0</td>\n    </tr>\n    <tr>\n      <th>10</th>\n      <td>-</td>\n      <td>In Progress</td>\n      <td>-</td>\n      <td>-</td>\n      <td>V5 3rd</td>\n      <td>-</td>\n      <td>-</td>\n      <td>-</td>\n      <td>-</td>\n      <td>-</td>\n      <td>-</td>\n      <td>-</td>\n      <td>-</td>\n      <td>-</td>\n      <td>-</td>\n      <td>-</td>\n      <td>-</td>\n      <td>-</td>\n      <td>-</td>\n      <td>-</td>\n      <td>-</td>\n      <td>-</td>\n      <td>-</td>\n      <td>-</td>\n      <td>-</td>\n      <td>-</td>\n      <td>27768832.0</td>\n    </tr>\n    <tr>\n      <th>11</th>\n      <td>-</td>\n      <td>Resolved</td>\n      <td>-</td>\n      <td>-</td>\n      <td>G125</td>\n      <td>-</td>\n      <td>-</td>\n      <td>-</td>\n      <td>-</td>\n      <td>-</td>\n      <td>-</td>\n      <td>-</td>\n      <td>-</td>\n      <td>-</td>\n      <td>-</td>\n      <td>-</td>\n      <td>-</td>\n      <td>-</td>\n      <td>-</td>\n      <td>-</td>\n      <td>-</td>\n      <td>-</td>\n      <td>-</td>\n      <td>-</td>\n      <td>-</td>\n      <td>-</td>\n      <td>27768832.0</td>\n    </tr>\n    <tr>\n      <th>12</th>\n      <td>-</td>\n      <td>-</td>\n      <td>missing</td>\n      <td>Org line V10</td>\n      <td>-</td>\n      <td>-</td>\n      <td>-</td>\n      <td>-</td>\n      <td>-</td>\n      <td>-</td>\n      <td>-</td>\n      <td>-</td>\n      <td>-</td>\n      <td>-</td>\n      <td>-</td>\n      <td>-</td>\n      <td>-</td>\n      <td>-</td>\n      <td>-</td>\n      <td>-</td>\n      <td>-</td>\n      <td>-</td>\n      <td>-</td>\n      <td>-</td>\n      <td>-</td>\n      <td>-</td>\n      <td>32348424.0</td>\n    </tr>\n    <tr>\n      <th>13</th>\n      <td>-</td>\n      <td>-</td>\n      <td>A2_2</td>\n      <td>Org line V8</td>\n      <td>-</td>\n      <td>-</td>\n      <td>-</td>\n      <td>-</td>\n      <td>-</td>\n      <td>-</td>\n      <td>-</td>\n      <td>-</td>\n      <td>-</td>\n      <td>-</td>\n      <td>-</td>\n      <td>-</td>\n      <td>-</td>\n      <td>-</td>\n      <td>-</td>\n      <td>-</td>\n      <td>-</td>\n      <td>-</td>\n      <td>-</td>\n      <td>-</td>\n      <td>-</td>\n      <td>-</td>\n      <td>32348424.0</td>\n    </tr>\n    <tr>\n      <th>14</th>\n      <td>-</td>\n      <td>In Call</td>\n      <td>-</td>\n      <td>Org line V2</td>\n      <td>-</td>\n      <td>-</td>\n      <td>-</td>\n      <td>-</td>\n      <td>-</td>\n      <td>-</td>\n      <td>-</td>\n      <td>-</td>\n      <td>-</td>\n      <td>-</td>\n      <td>-</td>\n      <td>-</td>\n      <td>-</td>\n      <td>-</td>\n      <td>-</td>\n      <td>-</td>\n      <td>-</td>\n      <td>-</td>\n      <td>-</td>\n      <td>-</td>\n      <td>-</td>\n      <td>-</td>\n      <td>32573954.0</td>\n    </tr>\n    <tr>\n      <th>15</th>\n      <td>-</td>\n      <td>-</td>\n      <td>-</td>\n      <td>-</td>\n      <td>S5</td>\n      <td>-</td>\n      <td>-</td>\n      <td>-</td>\n      <td>-</td>\n      <td>-</td>\n      <td>-</td>\n      <td>-</td>\n      <td>-</td>\n      <td>-</td>\n      <td>-</td>\n      <td>-</td>\n      <td>-</td>\n      <td>-</td>\n      <td>-</td>\n      <td>-</td>\n      <td>-</td>\n      <td>-</td>\n      <td>-</td>\n      <td>-</td>\n      <td>-</td>\n      <td>-</td>\n      <td>27343876.0</td>\n    </tr>\n    <tr>\n      <th>16</th>\n      <td>-</td>\n      <td>-</td>\n      <td>-</td>\n      <td>-</td>\n      <td>M6</td>\n      <td>-</td>\n      <td>-</td>\n      <td>-</td>\n      <td>-</td>\n      <td>-</td>\n      <td>-</td>\n      <td>-</td>\n      <td>-</td>\n      <td>-</td>\n      <td>-</td>\n      <td>-</td>\n      <td>-</td>\n      <td>-</td>\n      <td>-</td>\n      <td>-</td>\n      <td>-</td>\n      <td>-</td>\n      <td>-</td>\n      <td>-</td>\n      <td>-</td>\n      <td>-</td>\n      <td>27343876.0</td>\n    </tr>\n    <tr>\n      <th>17</th>\n      <td>-</td>\n      <td>Wait</td>\n      <td>-</td>\n      <td>Org line H</td>\n      <td>-</td>\n      <td>-</td>\n      <td>-</td>\n      <td>-</td>\n      <td>-</td>\n      <td>-</td>\n      <td>-</td>\n      <td>-</td>\n      <td>-</td>\n      <td>-</td>\n      <td>-</td>\n      <td>-</td>\n      <td>-</td>\n      <td>-</td>\n      <td>-</td>\n      <td>-</td>\n      <td>-</td>\n      <td>-</td>\n      <td>-</td>\n      <td>-</td>\n      <td>-</td>\n      <td>-</td>\n      <td>31999992.0</td>\n    </tr>\n    <tr>\n      <th>18</th>\n      <td>-</td>\n      <td>-</td>\n      <td>E_1</td>\n      <td>-</td>\n      <td>G143 2nd</td>\n      <td>-</td>\n      <td>-</td>\n      <td>-</td>\n      <td>-</td>\n      <td>-</td>\n      <td>-</td>\n      <td>-</td>\n      <td>-</td>\n      <td>-</td>\n      <td>-</td>\n      <td>-</td>\n      <td>-</td>\n      <td>-</td>\n      <td>-</td>\n      <td>-</td>\n      <td>-</td>\n      <td>-</td>\n      <td>-</td>\n      <td>-</td>\n      <td>-</td>\n      <td>-</td>\n      <td>27531300.0</td>\n    </tr>\n    <tr>\n      <th>19</th>\n      <td>-</td>\n      <td>-</td>\n      <td>-</td>\n      <td>-</td>\n      <td>G138 2nd</td>\n      <td>-</td>\n      <td>-</td>\n      <td>-</td>\n      <td>-</td>\n      <td>-</td>\n      <td>-</td>\n      <td>-</td>\n      <td>-</td>\n      <td>-</td>\n      <td>-</td>\n      <td>-</td>\n      <td>-</td>\n      <td>-</td>\n      <td>-</td>\n      <td>-</td>\n      <td>-</td>\n      <td>-</td>\n      <td>-</td>\n      <td>-</td>\n      <td>-</td>\n      <td>-</td>\n      <td>27343876.0</td>\n    </tr>\n  </tbody>\n</table>\n</div>"
     },
     "metadata": {},
     "output_type": "display_data"
    }
   ],
   "source": [
    "sidx = 94\n",
    "eidx = 95\n",
    "total_time_upper_bound = int( y_train[sidx] * (90 / 100) )  # A percentage of the original total time of the trace\n",
    "query_instances = X_train[sidx: eidx]\n",
    "\n",
    "cfe = explainer.generate_counterfactuals(query_instances, total_CFs=20, desired_range=[0, total_time_upper_bound], features_to_vary=cols_to_vary)\n",
    "\n",
    "cfe.visualize_as_dataframe(show_only_changes=True)"
   ],
   "metadata": {
    "collapsed": false,
    "ExecuteTime": {
     "end_time": "2023-06-06T21:29:57.525869601Z",
     "start_time": "2023-06-06T21:29:56.132574652Z"
    }
   }
  },
  {
   "cell_type": "code",
   "execution_count": 12,
   "outputs": [],
   "source": [
    "## Apply Transition System Validation to the above Single Query Results\n",
    "# === Load the Transition Graph\n",
    "_, transition_graph = transition_system(df, case_id_name=case_id_name, activity_column_name=activity_column_name, window_size=WINDOW_SIZE)"
   ],
   "metadata": {
    "collapsed": false,
    "ExecuteTime": {
     "end_time": "2023-06-06T21:30:35.690569672Z",
     "start_time": "2023-06-06T21:30:24.320655812Z"
    }
   }
  },
  {
   "cell_type": "code",
   "execution_count": 15,
   "outputs": [],
   "source": [
    "# # Case 1: For experimenting with single query\n",
    "# prefix_of_activities = get_prefix_of_activities(expected_activity_index=sidx, event_log=df_train, window_size=window_size, activity_column_name=activity_column_name)\n",
    "\n",
    "# # Case 2: When running in test mode\n",
    "# prefix_of_activities = get_prefix_of_activities(df_single_trace=df_test_trace, window_size=window_size, activity_column_name=activity_column_name)\n",
    "\n",
    "# # Test Validate Transitions Function\n",
    "# validate_transition(cfe, prefix_of_activities, transition_graph, valid_resources)\n",
    "# cfe.visualize_as_dataframe(show_only_changes=True)\n",
    "# print(f\"Valid Counterfactual Set\")"
   ],
   "metadata": {
    "collapsed": false,
    "ExecuteTime": {
     "end_time": "2023-06-06T21:30:53.049970907Z",
     "start_time": "2023-06-06T21:30:53.023875502Z"
    }
   }
  },
  {
   "cell_type": "markdown",
   "source": [
    "### Check Feature Importance score"
   ],
   "metadata": {
    "collapsed": false
   }
  },
  {
   "cell_type": "code",
   "execution_count": 16,
   "outputs": [],
   "source": [
    "# imp = exp_genetic_iris.local_feature_importance(query_instances, total_CFs=10, desired_range=[0, total_time_upper_bound], features_to_vary=cols_to_vary)\n",
    "# imp.local_importance"
   ],
   "metadata": {
    "collapsed": false,
    "ExecuteTime": {
     "end_time": "2023-06-06T21:31:02.367720068Z",
     "start_time": "2023-06-06T21:31:02.342541251Z"
    }
   }
  },
  {
   "cell_type": "markdown",
   "source": [
    "## Experiment with Multiple Queries"
   ],
   "metadata": {
    "collapsed": false
   }
  },
  {
   "cell_type": "code",
   "execution_count": 17,
   "outputs": [
    {
     "data": {
      "text/plain": "0"
     },
     "execution_count": 17,
     "metadata": {},
     "output_type": "execute_result"
    }
   ],
   "source": [
    "state_obj = StoreTestRun(save_load_path=RESULTS_FILE_PATH_N_NAME)\n",
    "save_load_path = state_obj.get_save_load_path()\n",
    "\n",
    "if os.path.exists(save_load_path):\n",
    "    state_obj.load_state()\n",
    "    cases_done = state_obj.run_state[\"cases_done\"]\n",
    "else:\n",
    "    cases_done = 0\n",
    "\n",
    "state_obj.run_state[\"cases_done\"]"
   ],
   "metadata": {
    "collapsed": false,
    "ExecuteTime": {
     "end_time": "2023-06-06T21:31:18.933477768Z",
     "start_time": "2023-06-06T21:31:18.890976083Z"
    }
   }
  },
  {
   "cell_type": "code",
   "execution_count": 28,
   "outputs": [
    {
     "name": "stdout",
     "output_type": "stream",
     "text": [
      "Case number: 22\n",
      "Case number is state_obj: 22\n"
     ]
    },
    {
     "name": "stderr",
     "output_type": "stream",
     "text": [
      "100%|██████████| 1/1 [00:00<00:00,  2.85it/s]"
     ]
    },
    {
     "name": "stdout",
     "output_type": "stream",
     "text": [
      "No Counterfactuals found for the given configuration, perhaps try with different parameters... ; total time taken: 00 min 00 sec\n",
      "====== Start Saving the result ======\n",
      "====== End Saving the result For case_id: 23 ======\n"
     ]
    },
    {
     "name": "stderr",
     "output_type": "stream",
     "text": [
      "\n"
     ]
    }
   ],
   "source": [
    "# %%capture\n",
    "for df_test_trace in test_cases[cases_done:]:\n",
    "    # print(\"Case number:\", cases_done)\n",
    "    # print(f\"Case number is state_obj: {state_obj.run_state['cases_done']}\")\n",
    "    query_case_id = get_case_id(df_test_trace, case_id_name)\n",
    "\n",
    "    if 0 < len(df_test_trace) <= 2:\n",
    "        print(\"too small\", cases_done, query_case_id)\n",
    "        result_value = query_case_id\n",
    "        state_obj.add_cfe_to_results( (\"cases_too_small\", result_value) )\n",
    "        cases_stored = state_obj.save_state()\n",
    "        cases_done += 1\n",
    "        continue\n",
    "\n",
    "    X_test, y_test = prepare_df_for_ml(df_test_trace, case_id_name, outcome_name, columns_to_remove=[\"Change_Date+Time\", \"time_remaining\"])\n",
    "    # Access the last row of the truncated trace to replicate the behavior of a running trace\n",
    "    query_instances = X_test.iloc[-1:]\n",
    "    total_time_upper_bound = int( y_test.iloc[-1] * (REDUCED_KPI_TIME / 100) )  # A percentage of the original total time of the trace\n",
    "\n",
    "    try:\n",
    "        cfe = generate_cfe(explainer, query_instances, total_time_upper_bound, features_to_vary=cols_to_vary,\n",
    "                           total_cfs=TOTAL_CFS, kpi=KPI, proximity_weight=proximity_weight, sparsity_weight=sparsity_weight,\n",
    "                           diversity_weight=diversity_weight)\n",
    "\n",
    "        result_value = (query_case_id, cfe)\n",
    "        state_obj.add_cfe_to_results((\"cfe_before_validation\", result_value))  # save after cfe validation\n",
    "\n",
    "        prefix_of_activities = get_prefix_of_activities(df_single_trace=df_test_trace, window_size=0, activity_column_name=activity_column_name)\n",
    "        cfe_df = validate_transition(cfe, prefix_of_activities=prefix_of_activities, transition_graph=transition_graph, valid_resources=valid_resources)\n",
    "\n",
    "        if len(cfe_df) > 0:\n",
    "            result_value = (query_case_id, cfe_df)\n",
    "            state_obj.add_cfe_to_results((\"cfe_after_validation\", result_value))\n",
    "\n",
    "        cases_stored = state_obj.save_state()\n",
    "\n",
    "    except UserConfigValidationException:\n",
    "        result_value = query_case_id\n",
    "        state_obj.add_cfe_to_results((\"cfe_not_found\", result_value))\n",
    "        cases_stored = state_obj.save_state()\n",
    "    except TimeoutError as err:  # When function takes too long\n",
    "        result_value = query_case_id\n",
    "        print(\"TimeoutError caught:\", err)\n",
    "        state_obj.add_cfe_to_results((\"cfe_not_found\", result_value))\n",
    "        cases_stored = state_obj.save_state()\n",
    "    except ValueError:\n",
    "        # print(f\"Includes feature not found in training data: {get_case_id(df_test_trace)}\")\n",
    "        result_value = query_case_id\n",
    "        state_obj.add_cfe_to_results((\"cases_includes_new_data\", result_value))\n",
    "        cases_stored = state_obj.save_state()\n",
    "    # This error is seen occurring on when running lots of loops on the server\n",
    "    except AttributeError as e:\n",
    "        print(\"AttributeError caught:\", e)\n",
    "        state_obj.add_cfe_to_results((\"exceptions\", query_case_id))\n",
    "        cases_stored = state_obj.save_state()\n",
    "    # except Exception as err:\n",
    "    #     print(f\"Broadest Exception handler invoked\", err)\n",
    "    #     state_obj.add_cfe_to_results((\"exceptions\", query_case_id))\n",
    "    #     cases_stored = state_obj.save_state()\n",
    "\n",
    "    cases_done += 1\n",
    "    # Just for a sanity check\n",
    "    assert cases_done == cases_stored\n",
    "    if cases_done >= 20:\n",
    "        break"
   ],
   "metadata": {
    "collapsed": false,
    "ExecuteTime": {
     "end_time": "2023-06-01T07:12:18.274044939Z",
     "start_time": "2023-06-01T07:12:17.846003646Z"
    }
   }
  },
  {
   "cell_type": "code",
   "execution_count": 18,
   "outputs": [
    {
     "data": {
      "text/plain": "   cfe_before_validation  cfe_after_validation  cfe_not_found   \n0                      0                     0              0  \\\n\n   cases_includes_new_data  cases_too_small  cases_zero_in_y  exceptions   \n0                        0                0                0           0  \\\n\n   cases_done  \n0           0  ",
      "text/html": "<div>\n<style scoped>\n    .dataframe tbody tr th:only-of-type {\n        vertical-align: middle;\n    }\n\n    .dataframe tbody tr th {\n        vertical-align: top;\n    }\n\n    .dataframe thead th {\n        text-align: right;\n    }\n</style>\n<table border=\"1\" class=\"dataframe\">\n  <thead>\n    <tr style=\"text-align: right;\">\n      <th></th>\n      <th>cfe_before_validation</th>\n      <th>cfe_after_validation</th>\n      <th>cfe_not_found</th>\n      <th>cases_includes_new_data</th>\n      <th>cases_too_small</th>\n      <th>cases_zero_in_y</th>\n      <th>exceptions</th>\n      <th>cases_done</th>\n    </tr>\n  </thead>\n  <tbody>\n    <tr>\n      <th>0</th>\n      <td>0</td>\n      <td>0</td>\n      <td>0</td>\n      <td>0</td>\n      <td>0</td>\n      <td>0</td>\n      <td>0</td>\n      <td>0</td>\n    </tr>\n  </tbody>\n</table>\n</div>"
     },
     "execution_count": 18,
     "metadata": {},
     "output_type": "execute_result"
    }
   ],
   "source": [
    "state_obj.get_run_state_df()"
   ],
   "metadata": {
    "collapsed": false,
    "ExecuteTime": {
     "end_time": "2023-06-06T21:34:29.469606034Z",
     "start_time": "2023-06-06T21:34:29.422151919Z"
    }
   }
  },
  {
   "cell_type": "markdown",
   "source": [
    "# Results:"
   ],
   "metadata": {
    "collapsed": false
   }
  },
  {
   "cell_type": "markdown",
   "source": [
    "### View Valid cases and their Counterfactual Examples (CFEs)\n",
    "You can load saved configs and run them independently of the above code"
   ],
   "metadata": {
    "collapsed": false
   }
  },
  {
   "cell_type": "code",
   "execution_count": 21,
   "outputs": [],
   "source": [
    "# Question: If we train the models using dataset with good traces?"
   ],
   "metadata": {
    "collapsed": false,
    "ExecuteTime": {
     "end_time": "2023-06-06T21:36:12.977403649Z",
     "start_time": "2023-06-06T21:36:12.934236530Z"
    }
   }
  },
  {
   "cell_type": "code",
   "execution_count": 10,
   "outputs": [
    {
     "name": "stdout",
     "output_type": "stream",
     "text": [
      "File already exists\n"
     ]
    }
   ],
   "source": [
    "pickle_file = \"random-t16.pkl\"\n",
    "if not os.path.exists( f\"./experiment_results/{pickle_file}\"):\n",
    "    result = subprocess.run(['scp', f'labnum08:git_repos/explainable-prescriptive-analytics/experiment_results/{pickle_file}', 'experiment_results/'], capture_output=True, text=True)\n",
    "\n",
    "    # return code of 0 means the command executed successfully\n",
    "    if result.returncode != 0:\n",
    "        print(\"There is an Error in the command\")\n",
    "    else:\n",
    "        print(\"successful\")\n",
    "else:\n",
    "    print(f\"File already exists\")"
   ],
   "metadata": {
    "collapsed": false,
    "ExecuteTime": {
     "end_time": "2023-06-06T21:38:43.634766476Z",
     "start_time": "2023-06-06T21:38:43.611123381Z"
    }
   }
  },
  {
   "cell_type": "code",
   "execution_count": 15,
   "outputs": [
    {
     "name": "stdout",
     "output_type": "stream",
     "text": [
      "Cases tested:  2493\n"
     ]
    }
   ],
   "source": [
    "RESULTS_FILE_PATH_N_NAME = f\"experiment_results/{pickle_file.split('.')[0]}.csv\"\n",
    "\n",
    "state_obj = StoreTestRun(save_load_path=RESULTS_FILE_PATH_N_NAME)\n",
    "save_load_path = state_obj.get_save_load_path()\n",
    "\n",
    "if os.path.exists(save_load_path):\n",
    "    state_obj.load_state()\n",
    "    cases_done = state_obj.run_state[\"cases_done\"]\n",
    "else:\n",
    "    cases_done = 0\n",
    "\n",
    "print(\"Cases tested: \", state_obj.run_state[\"cases_done\"])\n",
    "\n",
    "def print_results():\n",
    "    for case_id, cfe_df in state_obj.run_state[\"cfe_after_validation\"]:\n",
    "        yield case_id, cfe_df\n",
    "\n",
    "generator = print_results()"
   ],
   "metadata": {
    "collapsed": false,
    "ExecuteTime": {
     "end_time": "2023-06-06T21:41:41.624501232Z",
     "start_time": "2023-06-06T21:41:39.314119695Z"
    }
   }
  },
  {
   "cell_type": "code",
   "execution_count": 19,
   "outputs": [
    {
     "name": "stdout",
     "output_type": "stream",
     "text": [
      "Original Test Case:\n"
     ]
    },
    {
     "data": {
      "text/plain": "     SR_Number  Change_Date+Time    Status             ACTIVITY   \n0  1-540390551        1310368850  Accepted          In Progress  \\\n1  1-540390551        1310368855  Accepted          In Progress   \n2  1-540390551        1310369323    Queued  Awaiting Assignment   \n3  1-540390551        1310369325  Accepted          In Progress   \n4  1-540390551        1310369327  Accepted                 Wait   \n5  1-540390551        1310384058    Queued  Awaiting Assignment   \n6  1-540390551        1310390309  Accepted          In Progress   \n7  1-540390551        1310390882    Queued  Awaiting Assignment   \n8  1-540390551        1310391323  Accepted          In Progress   \n\n  Involved_ST_Function_Div Involved_Org_line_3 Involved_ST SR_Latest_Impact   \n0                     A2_1          Org line C          D2           Medium  \\\n1                     A2_1          Org line C          D2           Medium   \n2                  missing         Org line V7     V29 2nd           Medium   \n3                  missing         Org line V7     V29 2nd           Medium   \n4                  missing         Org line V7     V29 2nd           Medium   \n5                  missing        Org line V7n     V37 2nd           Medium   \n6                  missing        Org line V7n     V37 2nd           Medium   \n7                     A2_1          Org line C          D2           Medium   \n8                     A2_1          Org line C          D2           Medium   \n\n   Product Country Owner_Country  time_from_first  time_from_previous_et   \n0  PROD542      nl       Belgium              0.0                    0.0  \\\n1  PROD542      nl       Belgium              5.0                    5.0   \n2  PROD542      nl       Belgium            473.0                  468.0   \n3  PROD542      nl       Belgium            475.0                    2.0   \n4  PROD542      nl       Belgium            477.0                    2.0   \n5  PROD542      nl       Belgium          15208.0                14731.0   \n6  PROD542      nl   Netherlands          21459.0                 6251.0   \n7  PROD542      nl   Netherlands          22032.0                  573.0   \n8  PROD542      nl       Belgium          22473.0                  441.0   \n\n   time_from_midnight weekday  time_remaining  # ACTIVITY=In Progress   \n0             26450.0  Monday      26409637.0                       0  \\\n1             26455.0  Monday      26409632.0                       1   \n2             26923.0  Monday      26409164.0                       2   \n3             26925.0  Monday      26409162.0                       2   \n4             26927.0  Monday      26409160.0                       3   \n5             41658.0  Monday      26394429.0                       3   \n6             47909.0  Monday      26388178.0                       3   \n7             48482.0  Monday      26387605.0                       4   \n8             48923.0  Monday      26387164.0                       4   \n\n   # ACTIVITY=Awaiting Assignment  # ACTIVITY=Resolved  # ACTIVITY=Assigned   \n0                               0                    0                    0  \\\n1                               0                    0                    0   \n2                               0                    0                    0   \n3                               1                    0                    0   \n4                               1                    0                    0   \n5                               1                    0                    0   \n6                               2                    0                    0   \n7                               2                    0                    0   \n8                               3                    0                    0   \n\n   # ACTIVITY=Closed  # ACTIVITY=Wait - User   \n0                  0                       0  \\\n1                  0                       0   \n2                  0                       0   \n3                  0                       0   \n4                  0                       0   \n5                  0                       0   \n6                  0                       0   \n7                  0                       0   \n8                  0                       0   \n\n   # ACTIVITY=Wait - Implementation  # ACTIVITY=Wait   \n0                                 0                0  \\\n1                                 0                0   \n2                                 0                0   \n3                                 0                0   \n4                                 0                0   \n5                                 0                1   \n6                                 0                1   \n7                                 0                1   \n8                                 0                1   \n\n   # ACTIVITY=Wait - Vendor  # ACTIVITY=In Call  # ACTIVITY=Wait - Customer   \n0                         0                   0                           0  \\\n1                         0                   0                           0   \n2                         0                   0                           0   \n3                         0                   0                           0   \n4                         0                   0                           0   \n5                         0                   0                           0   \n6                         0                   0                           0   \n7                         0                   0                           0   \n8                         0                   0                           0   \n\n   # ACTIVITY=Unmatched  # ACTIVITY=Cancelled   lead_time  \n0                     0                     0  26409637.0  \n1                     0                     0  26409637.0  \n2                     0                     0  26409637.0  \n3                     0                     0  26409637.0  \n4                     0                     0  26409637.0  \n5                     0                     0  26409637.0  \n6                     0                     0  26409637.0  \n7                     0                     0  26409637.0  \n8                     0                     0  26409637.0  ",
      "text/html": "<div>\n<style scoped>\n    .dataframe tbody tr th:only-of-type {\n        vertical-align: middle;\n    }\n\n    .dataframe tbody tr th {\n        vertical-align: top;\n    }\n\n    .dataframe thead th {\n        text-align: right;\n    }\n</style>\n<table border=\"1\" class=\"dataframe\">\n  <thead>\n    <tr style=\"text-align: right;\">\n      <th></th>\n      <th>SR_Number</th>\n      <th>Change_Date+Time</th>\n      <th>Status</th>\n      <th>ACTIVITY</th>\n      <th>Involved_ST_Function_Div</th>\n      <th>Involved_Org_line_3</th>\n      <th>Involved_ST</th>\n      <th>SR_Latest_Impact</th>\n      <th>Product</th>\n      <th>Country</th>\n      <th>Owner_Country</th>\n      <th>time_from_first</th>\n      <th>time_from_previous_et</th>\n      <th>time_from_midnight</th>\n      <th>weekday</th>\n      <th>time_remaining</th>\n      <th># ACTIVITY=In Progress</th>\n      <th># ACTIVITY=Awaiting Assignment</th>\n      <th># ACTIVITY=Resolved</th>\n      <th># ACTIVITY=Assigned</th>\n      <th># ACTIVITY=Closed</th>\n      <th># ACTIVITY=Wait - User</th>\n      <th># ACTIVITY=Wait - Implementation</th>\n      <th># ACTIVITY=Wait</th>\n      <th># ACTIVITY=Wait - Vendor</th>\n      <th># ACTIVITY=In Call</th>\n      <th># ACTIVITY=Wait - Customer</th>\n      <th># ACTIVITY=Unmatched</th>\n      <th># ACTIVITY=Cancelled</th>\n      <th>lead_time</th>\n    </tr>\n  </thead>\n  <tbody>\n    <tr>\n      <th>0</th>\n      <td>1-540390551</td>\n      <td>1310368850</td>\n      <td>Accepted</td>\n      <td>In Progress</td>\n      <td>A2_1</td>\n      <td>Org line C</td>\n      <td>D2</td>\n      <td>Medium</td>\n      <td>PROD542</td>\n      <td>nl</td>\n      <td>Belgium</td>\n      <td>0.0</td>\n      <td>0.0</td>\n      <td>26450.0</td>\n      <td>Monday</td>\n      <td>26409637.0</td>\n      <td>0</td>\n      <td>0</td>\n      <td>0</td>\n      <td>0</td>\n      <td>0</td>\n      <td>0</td>\n      <td>0</td>\n      <td>0</td>\n      <td>0</td>\n      <td>0</td>\n      <td>0</td>\n      <td>0</td>\n      <td>0</td>\n      <td>26409637.0</td>\n    </tr>\n    <tr>\n      <th>1</th>\n      <td>1-540390551</td>\n      <td>1310368855</td>\n      <td>Accepted</td>\n      <td>In Progress</td>\n      <td>A2_1</td>\n      <td>Org line C</td>\n      <td>D2</td>\n      <td>Medium</td>\n      <td>PROD542</td>\n      <td>nl</td>\n      <td>Belgium</td>\n      <td>5.0</td>\n      <td>5.0</td>\n      <td>26455.0</td>\n      <td>Monday</td>\n      <td>26409632.0</td>\n      <td>1</td>\n      <td>0</td>\n      <td>0</td>\n      <td>0</td>\n      <td>0</td>\n      <td>0</td>\n      <td>0</td>\n      <td>0</td>\n      <td>0</td>\n      <td>0</td>\n      <td>0</td>\n      <td>0</td>\n      <td>0</td>\n      <td>26409637.0</td>\n    </tr>\n    <tr>\n      <th>2</th>\n      <td>1-540390551</td>\n      <td>1310369323</td>\n      <td>Queued</td>\n      <td>Awaiting Assignment</td>\n      <td>missing</td>\n      <td>Org line V7</td>\n      <td>V29 2nd</td>\n      <td>Medium</td>\n      <td>PROD542</td>\n      <td>nl</td>\n      <td>Belgium</td>\n      <td>473.0</td>\n      <td>468.0</td>\n      <td>26923.0</td>\n      <td>Monday</td>\n      <td>26409164.0</td>\n      <td>2</td>\n      <td>0</td>\n      <td>0</td>\n      <td>0</td>\n      <td>0</td>\n      <td>0</td>\n      <td>0</td>\n      <td>0</td>\n      <td>0</td>\n      <td>0</td>\n      <td>0</td>\n      <td>0</td>\n      <td>0</td>\n      <td>26409637.0</td>\n    </tr>\n    <tr>\n      <th>3</th>\n      <td>1-540390551</td>\n      <td>1310369325</td>\n      <td>Accepted</td>\n      <td>In Progress</td>\n      <td>missing</td>\n      <td>Org line V7</td>\n      <td>V29 2nd</td>\n      <td>Medium</td>\n      <td>PROD542</td>\n      <td>nl</td>\n      <td>Belgium</td>\n      <td>475.0</td>\n      <td>2.0</td>\n      <td>26925.0</td>\n      <td>Monday</td>\n      <td>26409162.0</td>\n      <td>2</td>\n      <td>1</td>\n      <td>0</td>\n      <td>0</td>\n      <td>0</td>\n      <td>0</td>\n      <td>0</td>\n      <td>0</td>\n      <td>0</td>\n      <td>0</td>\n      <td>0</td>\n      <td>0</td>\n      <td>0</td>\n      <td>26409637.0</td>\n    </tr>\n    <tr>\n      <th>4</th>\n      <td>1-540390551</td>\n      <td>1310369327</td>\n      <td>Accepted</td>\n      <td>Wait</td>\n      <td>missing</td>\n      <td>Org line V7</td>\n      <td>V29 2nd</td>\n      <td>Medium</td>\n      <td>PROD542</td>\n      <td>nl</td>\n      <td>Belgium</td>\n      <td>477.0</td>\n      <td>2.0</td>\n      <td>26927.0</td>\n      <td>Monday</td>\n      <td>26409160.0</td>\n      <td>3</td>\n      <td>1</td>\n      <td>0</td>\n      <td>0</td>\n      <td>0</td>\n      <td>0</td>\n      <td>0</td>\n      <td>0</td>\n      <td>0</td>\n      <td>0</td>\n      <td>0</td>\n      <td>0</td>\n      <td>0</td>\n      <td>26409637.0</td>\n    </tr>\n    <tr>\n      <th>5</th>\n      <td>1-540390551</td>\n      <td>1310384058</td>\n      <td>Queued</td>\n      <td>Awaiting Assignment</td>\n      <td>missing</td>\n      <td>Org line V7n</td>\n      <td>V37 2nd</td>\n      <td>Medium</td>\n      <td>PROD542</td>\n      <td>nl</td>\n      <td>Belgium</td>\n      <td>15208.0</td>\n      <td>14731.0</td>\n      <td>41658.0</td>\n      <td>Monday</td>\n      <td>26394429.0</td>\n      <td>3</td>\n      <td>1</td>\n      <td>0</td>\n      <td>0</td>\n      <td>0</td>\n      <td>0</td>\n      <td>0</td>\n      <td>1</td>\n      <td>0</td>\n      <td>0</td>\n      <td>0</td>\n      <td>0</td>\n      <td>0</td>\n      <td>26409637.0</td>\n    </tr>\n    <tr>\n      <th>6</th>\n      <td>1-540390551</td>\n      <td>1310390309</td>\n      <td>Accepted</td>\n      <td>In Progress</td>\n      <td>missing</td>\n      <td>Org line V7n</td>\n      <td>V37 2nd</td>\n      <td>Medium</td>\n      <td>PROD542</td>\n      <td>nl</td>\n      <td>Netherlands</td>\n      <td>21459.0</td>\n      <td>6251.0</td>\n      <td>47909.0</td>\n      <td>Monday</td>\n      <td>26388178.0</td>\n      <td>3</td>\n      <td>2</td>\n      <td>0</td>\n      <td>0</td>\n      <td>0</td>\n      <td>0</td>\n      <td>0</td>\n      <td>1</td>\n      <td>0</td>\n      <td>0</td>\n      <td>0</td>\n      <td>0</td>\n      <td>0</td>\n      <td>26409637.0</td>\n    </tr>\n    <tr>\n      <th>7</th>\n      <td>1-540390551</td>\n      <td>1310390882</td>\n      <td>Queued</td>\n      <td>Awaiting Assignment</td>\n      <td>A2_1</td>\n      <td>Org line C</td>\n      <td>D2</td>\n      <td>Medium</td>\n      <td>PROD542</td>\n      <td>nl</td>\n      <td>Netherlands</td>\n      <td>22032.0</td>\n      <td>573.0</td>\n      <td>48482.0</td>\n      <td>Monday</td>\n      <td>26387605.0</td>\n      <td>4</td>\n      <td>2</td>\n      <td>0</td>\n      <td>0</td>\n      <td>0</td>\n      <td>0</td>\n      <td>0</td>\n      <td>1</td>\n      <td>0</td>\n      <td>0</td>\n      <td>0</td>\n      <td>0</td>\n      <td>0</td>\n      <td>26409637.0</td>\n    </tr>\n    <tr>\n      <th>8</th>\n      <td>1-540390551</td>\n      <td>1310391323</td>\n      <td>Accepted</td>\n      <td>In Progress</td>\n      <td>A2_1</td>\n      <td>Org line C</td>\n      <td>D2</td>\n      <td>Medium</td>\n      <td>PROD542</td>\n      <td>nl</td>\n      <td>Belgium</td>\n      <td>22473.0</td>\n      <td>441.0</td>\n      <td>48923.0</td>\n      <td>Monday</td>\n      <td>26387164.0</td>\n      <td>4</td>\n      <td>3</td>\n      <td>0</td>\n      <td>0</td>\n      <td>0</td>\n      <td>0</td>\n      <td>0</td>\n      <td>1</td>\n      <td>0</td>\n      <td>0</td>\n      <td>0</td>\n      <td>0</td>\n      <td>0</td>\n      <td>26409637.0</td>\n    </tr>\n  </tbody>\n</table>\n</div>"
     },
     "metadata": {},
     "output_type": "display_data"
    },
    {
     "name": "stdout",
     "output_type": "stream",
     "text": [
      "Counterfactuals for the last row:\n"
     ]
    },
    {
     "data": {
      "text/plain": "     Status             ACTIVITY Involved_ST_Function_Div Involved_Org_line_3   \n0  Accepted                 Wait                     A2_1          Org line C  \\\n1  Accepted             Assigned                     A2_1          Org line C   \n2  Accepted        Wait - Vendor                     A2_1          Org line C   \n3  Accepted          In Progress                     A2_1          Org line C   \n4  Accepted  Awaiting Assignment                     A2_1          Org line C   \n5  Accepted             Resolved                     A2_1          Org line C   \n\n  Involved_ST SR_Latest_Impact  Product Country Owner_Country time_from_first   \n0          D2           Medium  PROD542      nl       Belgium         22473.0  \\\n1          D2           Medium  PROD542      nl       Belgium         22473.0   \n2          D2           Medium  PROD542      nl       Belgium         22473.0   \n3          D2           Medium  PROD542      nl       Belgium         22473.0   \n4          D2           Medium  PROD542      nl       Belgium         22473.0   \n5          D2           Medium  PROD542      nl       Belgium         22473.0   \n\n  time_from_previous_et time_from_midnight weekday # ACTIVITY=In Progress   \n0                 441.0            48923.0  Monday                      4  \\\n1                 441.0            48923.0  Monday                      4   \n2                 441.0            48923.0  Monday                      4   \n3                 441.0            48923.0  Monday                      4   \n4                 441.0            48923.0  Monday                      4   \n5                 441.0            48923.0  Monday                      4   \n\n  # ACTIVITY=Awaiting Assignment # ACTIVITY=Resolved # ACTIVITY=Assigned   \n0                              3                   0                   0  \\\n1                              3                   0                   0   \n2                              3                   0                   0   \n3                              3                   0                   0   \n4                              3                   0                   0   \n5                              3                   0                   0   \n\n  # ACTIVITY=Closed # ACTIVITY=Wait - User # ACTIVITY=Wait - Implementation   \n0                 0                      0                                0  \\\n1                 0                      0                                0   \n2                 0                      0                                0   \n3                 0                      0                                0   \n4                 0                      0                                0   \n5                 0                      0                                0   \n\n  # ACTIVITY=Wait # ACTIVITY=Wait - Vendor # ACTIVITY=In Call   \n0               1                        0                  0  \\\n1               1                        0                  0   \n2               1                        0                  0   \n3               1                        0                  0   \n4               1                        0                  0   \n5               1                        0                  0   \n\n  # ACTIVITY=Wait - Customer # ACTIVITY=Unmatched # ACTIVITY=Cancelled   \n0                          0                    0                    0  \\\n1                          0                    0                    0   \n2                          0                    0                    0   \n3                          0                    0                    0   \n4                          0                    0                    0   \n5                          0                    0                    0   \n\n    lead_time  \n0  13820730.0  \n1  13876632.0  \n2  14067300.0  \n3  13934988.0  \n4  14015351.0  \n5  14067300.0  ",
      "text/html": "<div>\n<style scoped>\n    .dataframe tbody tr th:only-of-type {\n        vertical-align: middle;\n    }\n\n    .dataframe tbody tr th {\n        vertical-align: top;\n    }\n\n    .dataframe thead th {\n        text-align: right;\n    }\n</style>\n<table border=\"1\" class=\"dataframe\">\n  <thead>\n    <tr style=\"text-align: right;\">\n      <th></th>\n      <th>Status</th>\n      <th>ACTIVITY</th>\n      <th>Involved_ST_Function_Div</th>\n      <th>Involved_Org_line_3</th>\n      <th>Involved_ST</th>\n      <th>SR_Latest_Impact</th>\n      <th>Product</th>\n      <th>Country</th>\n      <th>Owner_Country</th>\n      <th>time_from_first</th>\n      <th>time_from_previous_et</th>\n      <th>time_from_midnight</th>\n      <th>weekday</th>\n      <th># ACTIVITY=In Progress</th>\n      <th># ACTIVITY=Awaiting Assignment</th>\n      <th># ACTIVITY=Resolved</th>\n      <th># ACTIVITY=Assigned</th>\n      <th># ACTIVITY=Closed</th>\n      <th># ACTIVITY=Wait - User</th>\n      <th># ACTIVITY=Wait - Implementation</th>\n      <th># ACTIVITY=Wait</th>\n      <th># ACTIVITY=Wait - Vendor</th>\n      <th># ACTIVITY=In Call</th>\n      <th># ACTIVITY=Wait - Customer</th>\n      <th># ACTIVITY=Unmatched</th>\n      <th># ACTIVITY=Cancelled</th>\n      <th>lead_time</th>\n    </tr>\n  </thead>\n  <tbody>\n    <tr>\n      <th>0</th>\n      <td>Accepted</td>\n      <td>Wait</td>\n      <td>A2_1</td>\n      <td>Org line C</td>\n      <td>D2</td>\n      <td>Medium</td>\n      <td>PROD542</td>\n      <td>nl</td>\n      <td>Belgium</td>\n      <td>22473.0</td>\n      <td>441.0</td>\n      <td>48923.0</td>\n      <td>Monday</td>\n      <td>4</td>\n      <td>3</td>\n      <td>0</td>\n      <td>0</td>\n      <td>0</td>\n      <td>0</td>\n      <td>0</td>\n      <td>1</td>\n      <td>0</td>\n      <td>0</td>\n      <td>0</td>\n      <td>0</td>\n      <td>0</td>\n      <td>13820730.0</td>\n    </tr>\n    <tr>\n      <th>1</th>\n      <td>Accepted</td>\n      <td>Assigned</td>\n      <td>A2_1</td>\n      <td>Org line C</td>\n      <td>D2</td>\n      <td>Medium</td>\n      <td>PROD542</td>\n      <td>nl</td>\n      <td>Belgium</td>\n      <td>22473.0</td>\n      <td>441.0</td>\n      <td>48923.0</td>\n      <td>Monday</td>\n      <td>4</td>\n      <td>3</td>\n      <td>0</td>\n      <td>0</td>\n      <td>0</td>\n      <td>0</td>\n      <td>0</td>\n      <td>1</td>\n      <td>0</td>\n      <td>0</td>\n      <td>0</td>\n      <td>0</td>\n      <td>0</td>\n      <td>13876632.0</td>\n    </tr>\n    <tr>\n      <th>2</th>\n      <td>Accepted</td>\n      <td>Wait - Vendor</td>\n      <td>A2_1</td>\n      <td>Org line C</td>\n      <td>D2</td>\n      <td>Medium</td>\n      <td>PROD542</td>\n      <td>nl</td>\n      <td>Belgium</td>\n      <td>22473.0</td>\n      <td>441.0</td>\n      <td>48923.0</td>\n      <td>Monday</td>\n      <td>4</td>\n      <td>3</td>\n      <td>0</td>\n      <td>0</td>\n      <td>0</td>\n      <td>0</td>\n      <td>0</td>\n      <td>1</td>\n      <td>0</td>\n      <td>0</td>\n      <td>0</td>\n      <td>0</td>\n      <td>0</td>\n      <td>14067300.0</td>\n    </tr>\n    <tr>\n      <th>3</th>\n      <td>Accepted</td>\n      <td>In Progress</td>\n      <td>A2_1</td>\n      <td>Org line C</td>\n      <td>D2</td>\n      <td>Medium</td>\n      <td>PROD542</td>\n      <td>nl</td>\n      <td>Belgium</td>\n      <td>22473.0</td>\n      <td>441.0</td>\n      <td>48923.0</td>\n      <td>Monday</td>\n      <td>4</td>\n      <td>3</td>\n      <td>0</td>\n      <td>0</td>\n      <td>0</td>\n      <td>0</td>\n      <td>0</td>\n      <td>1</td>\n      <td>0</td>\n      <td>0</td>\n      <td>0</td>\n      <td>0</td>\n      <td>0</td>\n      <td>13934988.0</td>\n    </tr>\n    <tr>\n      <th>4</th>\n      <td>Accepted</td>\n      <td>Awaiting Assignment</td>\n      <td>A2_1</td>\n      <td>Org line C</td>\n      <td>D2</td>\n      <td>Medium</td>\n      <td>PROD542</td>\n      <td>nl</td>\n      <td>Belgium</td>\n      <td>22473.0</td>\n      <td>441.0</td>\n      <td>48923.0</td>\n      <td>Monday</td>\n      <td>4</td>\n      <td>3</td>\n      <td>0</td>\n      <td>0</td>\n      <td>0</td>\n      <td>0</td>\n      <td>0</td>\n      <td>1</td>\n      <td>0</td>\n      <td>0</td>\n      <td>0</td>\n      <td>0</td>\n      <td>0</td>\n      <td>14015351.0</td>\n    </tr>\n    <tr>\n      <th>5</th>\n      <td>Accepted</td>\n      <td>Resolved</td>\n      <td>A2_1</td>\n      <td>Org line C</td>\n      <td>D2</td>\n      <td>Medium</td>\n      <td>PROD542</td>\n      <td>nl</td>\n      <td>Belgium</td>\n      <td>22473.0</td>\n      <td>441.0</td>\n      <td>48923.0</td>\n      <td>Monday</td>\n      <td>4</td>\n      <td>3</td>\n      <td>0</td>\n      <td>0</td>\n      <td>0</td>\n      <td>0</td>\n      <td>0</td>\n      <td>1</td>\n      <td>0</td>\n      <td>0</td>\n      <td>0</td>\n      <td>0</td>\n      <td>0</td>\n      <td>14067300.0</td>\n    </tr>\n  </tbody>\n</table>\n</div>"
     },
     "execution_count": 19,
     "metadata": {},
     "output_type": "execute_result"
    }
   ],
   "source": [
    "case_id, cfe_df = next(generator)\n",
    "\n",
    "print(f\"Original Test Case:\")\n",
    "# === Find test_case with case_id\n",
    "for df_test_trace in test_cases:\n",
    "    if get_case_id(df_test_trace) == case_id:\n",
    "        display(df_test_trace)\n",
    "\n",
    "print(f\"Counterfactuals for the last row:\")\n",
    "cfe_df"
   ],
   "metadata": {
    "collapsed": false,
    "ExecuteTime": {
     "end_time": "2023-06-06T21:41:50.834136047Z",
     "start_time": "2023-06-06T21:41:50.679046623Z"
    }
   }
  },
  {
   "cell_type": "code",
   "execution_count": null,
   "outputs": [],
   "source": [
    "# for _, cfe in cfes_list:\n",
    "#     cfe.visualize_as_dataframe(show_only_changes=True)\n",
    "# cfes_list[9][1]"
   ],
   "metadata": {
    "collapsed": false
   }
  },
  {
   "cell_type": "markdown",
   "source": [
    "## Observation\n",
    "The output usually comes within 2 minutes"
   ],
   "metadata": {
    "collapsed": false
   }
  },
  {
   "cell_type": "markdown",
   "source": [
    "#### TODOS\n",
    "- Check how many queries (rows) have valid CFEs\n",
    "- How to make CFE not, ACTIVITY column not to take the value \"Pending Liquidation request\"\n",
    "- Discover how DiCE handle constraints ( For us do it in post-processing step )\n",
    "- CE_OU - resource column, you can modify it\n",
    "- Modify just the resource (col: CE_UO) & Activity (col: ACTIVITY)\n",
    "- build a transition system to validate activity and then resource\n",
    "- Do the above for total time case\n",
    "- I\n",
    "- Implement activity validation and resource validation to the above\n",
    "-   To do this effectively maybe figure out how the DiCE post process the constraints and implement this in that layer"
   ],
   "metadata": {
    "collapsed": false
   }
  },
  {
   "cell_type": "code",
   "execution_count": null,
   "outputs": [],
   "source": [
    "query_instances = X_train[sidx: eidx]\n",
    "cfe = exp_genetic_iris.generate_counterfactuals(query_instances, total_CFs=5, desired_class=\"opposite\", features_to_vary=cols_to_vary)\n",
    "cfe.visualize_as_dataframe(show_only_changes=True)\n",
    "\n",
    "genetic_cfes = []\n",
    "\n",
    "for idx, query_instances in X_train.iterrows():\n",
    "    query_instances = query_instances.to_frame().transpose()\n",
    "    # query_instances = X_train[0:1]  # an interesting query`\n",
    "\n",
    "    cfe = exp_genetic_iris.generate_counterfactuals(query_instances, total_CFs=5, desired_class=\"opposite\", features_to_vary=cols_to_vary)\n",
    "\n",
    "    genetic_cfes.append( (idx, cfe) )"
   ],
   "metadata": {
    "collapsed": false
   }
  },
  {
   "cell_type": "markdown",
   "source": [
    "-Implement post processing steps\n",
    "    - Transition transition_system with full traces\n",
    "    - 4 tuple comparison with country and owner country\n",
    "\n"
   ],
   "metadata": {
    "collapsed": false
   }
  },
  {
   "cell_type": "markdown",
   "source": [
    "## Deprecated Code"
   ],
   "metadata": {
    "collapsed": false
   }
  },
  {
   "cell_type": "code",
   "execution_count": 29,
   "outputs": [
    {
     "name": "stdout",
     "output_type": "stream",
     "text": [
      "Increment 50 seconds\n",
      "Counter at: 0\n",
      "Counter at: 1\n",
      "Counter at: 2\n",
      "Counter at: 3\n",
      "Counter at: 4\n",
      "-------------- Before long func ------------------\n",
      "Now sleeping for 10\n",
      "Counter at: 5\n",
      "Counter at: 6\n",
      "Counter at: 7\n",
      "Counter at: 8\n",
      "Counter at: 9\n",
      "Counter at: 10\n",
      "Counter at: 11\n",
      "Counter at: 12\n",
      "Counter at: 13\n",
      "Done sleeping!!!\n",
      "-------------- After long func ------------------\n",
      "Time is out\n"
     ]
    }
   ],
   "source": [
    "from multiprocessing import Process\n",
    "\n",
    "def long_process_function(xval):\n",
    "    print(f\"Now sleeping for {xval}\")\n",
    "    sleep(xval)\n",
    "    print(\"Done sleeping!!!\")\n",
    "\n",
    "def increment_50_seconds():\n",
    "    print(\"Increment 50 seconds\")\n",
    "    for i in range(50):\n",
    "        sleep(1)\n",
    "        print(f\"Counter at: {i}\")\n",
    "\n",
    "\n",
    "if __name__ == '__main__':\n",
    "    try:\n",
    "        p1 = Process(target=increment_50_seconds, name=\"Process_increment_50_seconds\")\n",
    "\n",
    "        p1.start()\n",
    "\n",
    "        p1.join(timeout=5)\n",
    "\n",
    "        print(\"-------------- Before long func ------------------\")\n",
    "        long_process_function(10)\n",
    "        print(\"-------------- After long func ------------------\")\n",
    "        p1.terminate()\n",
    "\n",
    "        if p1.exitcode is None:\n",
    "            print(\"Time is out\")\n",
    "\n",
    "    except:\n",
    "        print(\"Exception caught\")\n",
    "\n"
   ],
   "metadata": {
    "collapsed": false,
    "ExecuteTime": {
     "end_time": "2023-05-28T14:09:12.292830523Z",
     "start_time": "2023-05-28T14:08:57.152132920Z"
    }
   }
  },
  {
   "cell_type": "markdown",
   "source": [
    "#### Practice `wrapt_timeout_decorator` module"
   ],
   "metadata": {
    "collapsed": false
   }
  },
  {
   "cell_type": "code",
   "execution_count": 45,
   "outputs": [
    {
     "name": "stdout",
     "output_type": "stream",
     "text": [
      "starting\n",
      "1 seconds have passed\n",
      "2 seconds have passed\n",
      "3 seconds have passed\n",
      "4 seconds have passed\n",
      "TimeoutError caught: Function mytest timed out after 5.0 seconds\n"
     ]
    }
   ],
   "source": [
    "@timeout(5)\n",
    "def mytest(message):\n",
    "    # this example does NOT work on windows, please check the section\n",
    "    # \"use with Windows\" in the README.rst\n",
    "    print(message)\n",
    "    try:\n",
    "        for i in range(1,10):\n",
    "            time.sleep(1)\n",
    "            print('{} seconds have passed'.format(i))\n",
    "\n",
    "    except TimeoutError as e:\n",
    "        print(\"TimeoutError caught:\", e)\n",
    "    # This error is seen occurring on when running lots of loops on the server\n",
    "    except AttributeError as e:\n",
    "        print(\"AttributeError caught:\", e)\n",
    "\n",
    "if __name__ == '__main__':\n",
    "    mytest('starting')"
   ],
   "metadata": {
    "collapsed": false,
    "ExecuteTime": {
     "end_time": "2023-05-28T21:46:35.995608161Z",
     "start_time": "2023-05-28T21:46:30.723118876Z"
    }
   }
  },
  {
   "cell_type": "markdown",
   "source": [
    "================================================================"
   ],
   "metadata": {
    "collapsed": false
   }
  },
  {
   "cell_type": "markdown",
   "source": [
    "#### Pratice `timeout_decorator` module"
   ],
   "metadata": {
    "collapsed": false
   }
  },
  {
   "cell_type": "code",
   "execution_count": 18,
   "outputs": [],
   "source": [
    "\n",
    "class MyTimeOutError(AssertionError):\n",
    "     \"\"\"Thrown when a timeout occurs in `timeout_decorator`\"\"\"\n",
    "     pass\n",
    "\n",
    "def timeout_decorator(timeout_seconds):\n",
    "\n",
    "    def timeout_wrapper(original_function):\n",
    "\n",
    "        def _timeout_handler(signum, frame):\n",
    "            raise MyTimeOutError(\"Function execution timed out.\")\n",
    "\n",
    "        def wrapper(*args, **kwargs):\n",
    "            # Set the signal handler\n",
    "            signal.signal(signal.SIGALRM, _timeout_handler)\n",
    "            # Set the alarm for the specified timeout duration\n",
    "            signal.alarm(timeout_seconds)\n",
    "\n",
    "            result = original_function(*args, **kwargs)\n",
    "\n",
    "            return result\n",
    "        return wrapper\n",
    "    return timeout_wrapper"
   ],
   "metadata": {
    "collapsed": false,
    "ExecuteTime": {
     "end_time": "2023-05-28T05:18:13.478246162Z",
     "start_time": "2023-05-28T05:18:13.429743632Z"
    }
   }
  },
  {
   "cell_type": "code",
   "execution_count": 19,
   "outputs": [
    {
     "name": "stdout",
     "output_type": "stream",
     "text": [
      "Function execution timed out.\n"
     ]
    }
   ],
   "source": [
    "import signal\n",
    "from time import sleep\n",
    "\n",
    "@timeout_decorator(4)\n",
    "def long_running_function():\n",
    "    for i in range(10):\n",
    "        sleep(1)\n",
    "\n",
    "try:\n",
    "    # Call the long-running function\n",
    "    long_running_function()\n",
    "\n",
    "except MyTimeOutError as e:\n",
    "    # Handle the timeout error\n",
    "    print(str(e))\n",
    "finally:\n",
    "    # Cancel the alarm\n",
    "    signal.alarm(0)\n"
   ],
   "metadata": {
    "collapsed": false,
    "ExecuteTime": {
     "end_time": "2023-05-28T05:18:18.043610181Z",
     "start_time": "2023-05-28T05:18:14.036341607Z"
    }
   }
  },
  {
   "cell_type": "markdown",
   "source": [
    "=============================="
   ],
   "metadata": {
    "collapsed": false
   }
  },
  {
   "cell_type": "markdown",
   "source": [
    "### Practice Creating decorators"
   ],
   "metadata": {
    "collapsed": false
   }
  },
  {
   "cell_type": "code",
   "execution_count": 35,
   "outputs": [],
   "source": [
    "import signal\n",
    "def deco_bar2(my_arg1):\n",
    "    def deco_bar(original_function):\n",
    "        def wrapper(*args, **kwargs):\n",
    "            print(\"I'm deco bar() before\")\n",
    "            print(f\"argument passed to decorator:{my_arg1}\")\n",
    "            result = original_function(*args, **kwargs)\n",
    "\n",
    "            print(\"I'm deco bar() after\")\n",
    "\n",
    "            return result\n",
    "        return wrapper\n",
    "    return deco_bar\n",
    "\n",
    "@deco_bar2(\"arg_to_deco\")\n",
    "def foo(valx):\n",
    "    print(f\"I'm foo({valx})\")\n",
    "    return 1\n",
    "\n",
    "def baz(*args, **kwargs):\n",
    "    print(args, kwargs)\n"
   ],
   "metadata": {
    "collapsed": false,
    "ExecuteTime": {
     "end_time": "2023-05-27T19:46:35.581427353Z",
     "start_time": "2023-05-27T19:46:35.535485286Z"
    }
   }
  },
  {
   "cell_type": "code",
   "execution_count": 36,
   "outputs": [
    {
     "name": "stdout",
     "output_type": "stream",
     "text": [
      "I'm deco bar() before\n",
      "argument passed to decorator:arg_to_deco\n",
      "I'm foo(foo_arg2)\n",
      "I'm deco bar() after\n"
     ]
    },
    {
     "data": {
      "text/plain": "1"
     },
     "execution_count": 36,
     "metadata": {},
     "output_type": "execute_result"
    }
   ],
   "source": [
    "foo(valx=\"foo_arg2\")"
   ],
   "metadata": {
    "collapsed": false,
    "ExecuteTime": {
     "end_time": "2023-05-27T19:46:37.368282682Z",
     "start_time": "2023-05-27T19:46:37.362060846Z"
    }
   }
  },
  {
   "cell_type": "code",
   "execution_count": null,
   "outputs": [],
   "source": [
    "def validate_transition(cfe):\n",
    "    \"\"\" Deprecated function.\n",
    "    Works with transition graph which has single activity as key.\n",
    "    Args:\n",
    "        cfe: Dice counterfactual object.\n",
    "    \"\"\"\n",
    "    cf_examples_df = cfe.cf_examples_list[0].final_cfs_df.copy()\n",
    "\n",
    "    # expected_next_action = cfe.cf_examples_list[0].test_instance_df[activity_column_name].item()\n",
    "    # print(f\"Expected next action: {expected_next_action}\")\n",
    "\n",
    "    current_activity = current_step[activity_column_name].item()\n",
    "    # === Verify the next activity\n",
    "    indexes_to_drop = []\n",
    "    for idx, suggested_next_activity in cf_examples_df[activity_column_name].items():\n",
    "        # print(f\"index: {idx}, Suggest: {suggested_next_activity}\")\n",
    "        if suggested_next_activity not in transition_graph[current_activity]:\n",
    "            indexes_to_drop.append(idx)\n",
    "\n",
    "    cf_examples_df = cf_examples_df.drop(indexes_to_drop, axis='index').reset_index(drop=True)\n",
    "\n",
    "    # === Verify the associated resources\n",
    "    indexes_to_drop = []\n",
    "    for idx, row in cf_examples_df[ [\"ACTIVITY\", \"Involved_ST_Function_Div\"] ].iterrows():\n",
    "        row_tuple = tuple(row)\n",
    "        if row_tuple not in valid_resources:\n",
    "            # print(f\"removed row had: {row_tuple}\")\n",
    "            indexes_to_drop.append(idx)\n",
    "\n",
    "    cf_examples_df = cf_examples_df.drop(indexes_to_drop, axis='index').reset_index(drop=True)\n",
    "    return cf_examples_df"
   ],
   "metadata": {
    "collapsed": false
   }
  }
 ],
 "metadata": {
  "kernelspec": {
   "display_name": "Python 3",
   "language": "python",
   "name": "python3"
  },
  "language_info": {
   "codemirror_mode": {
    "name": "ipython",
    "version": 2
   },
   "file_extension": ".py",
   "mimetype": "text/x-python",
   "name": "python",
   "nbconvert_exporter": "python",
   "pygments_lexer": "ipython2",
   "version": "2.7.6"
  }
 },
 "nbformat": 4,
 "nbformat_minor": 0
}
