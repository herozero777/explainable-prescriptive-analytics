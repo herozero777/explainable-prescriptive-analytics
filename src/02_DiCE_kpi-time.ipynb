{
 "cells": [
  {
   "cell_type": "code",
   "execution_count": 1,
   "metadata": {
    "collapsed": true
   },
   "outputs": [],
   "source": [
    "from typing import Tuple, Any\n",
    "\n",
    "import dice_ml\n",
    "from dice_ml import Dice\n",
    "from dice_ml.utils.exception import UserConfigValidationException\n",
    "\n",
    "from sklearn.datasets import load_iris, fetch_california_housing\n",
    "from sklearn.pipeline import Pipeline\n",
    "from sklearn.preprocessing import StandardScaler, OneHotEncoder\n",
    "from sklearn.model_selection import train_test_split\n",
    "from sklearn.compose import ColumnTransformer\n",
    "from sklearn.ensemble import RandomForestClassifier, RandomForestRegressor\n",
    "\n",
    "from src.transition_system import transition_system, indexs_for_window, list_to_str\n",
    "\n",
    "import pandas as pd\n",
    "import os\n",
    "import random\n",
    "import utils\n",
    "from math import ceil\n",
    "from timeout_decorator import timeout, TimeoutError\n",
    "from collections import Counter\n",
    "%load_ext autoreload\n",
    "%autoreload 2"
   ]
  },
  {
   "cell_type": "markdown",
   "source": [
    "# Dataset: VINST (Volvo Belgium)\n",
    "link: https://www.win.tue.nl/bpi/doku.php?id=2013:challenge"
   ],
   "metadata": {
    "collapsed": false
   }
  },
  {
   "cell_type": "markdown",
   "source": [
    "## Setup Variables"
   ],
   "metadata": {
    "collapsed": false
   }
  },
  {
   "cell_type": "code",
   "execution_count": 2,
   "outputs": [],
   "source": [
    "pd.options.display.max_columns= None\n",
    "SECONDS_TO_HOURS = 60 * 60\n",
    "SECONDS_TO_DAYS = 60 * 60 * 24\n",
    "case_id_name = 'SR_Number'  # The case identifier column name.\n",
    "start_date_name = 'Change_Date+Time'  # Maybe change to start_et (start even time)\n",
    "activity_column_name = \"ACTIVITY\""
   ],
   "metadata": {
    "collapsed": false
   }
  },
  {
   "cell_type": "markdown",
   "source": [
    "## Load Data"
   ],
   "metadata": {
    "collapsed": false
   }
  },
  {
   "cell_type": "code",
   "execution_count": 3,
   "outputs": [],
   "source": [
    "data_dir = \"../preprocessed_datasets/\"\n",
    "train_dataset_file = \"train-set-cfe.csv\"\n",
    "test_dataset_file = \"test-set-cfe.csv\"\n",
    "df = pd.read_csv(\"../data/VINST cases incidents.csv\")  # Use full dataset for transition systens\n",
    "df_train = pd.read_csv(os.path.join(data_dir, train_dataset_file))\n",
    "df_test = pd.read_csv(os.path.join(data_dir, test_dataset_file))"
   ],
   "metadata": {
    "collapsed": false
   }
  },
  {
   "cell_type": "markdown",
   "source": [
    "### Basic Preprocessing of the dataset"
   ],
   "metadata": {
    "collapsed": false
   }
  },
  {
   "cell_type": "code",
   "execution_count": 4,
   "outputs": [
    {
     "name": "stdout",
     "output_type": "stream",
     "text": [
      "Rows in df_train: 20000\n"
     ]
    }
   ],
   "source": [
    "df = df.fillna(\"missing\")\n",
    "df_train = df_train[:20_000]  # 31_289\n",
    "# df_test = df_test[: 19_041]\n",
    "print(f\"Rows in df_train: {len(df_train)}\")\n",
    "# df_train.info()"
   ],
   "metadata": {
    "collapsed": false
   }
  },
  {
   "cell_type": "markdown",
   "source": [
    "### Helper functions"
   ],
   "metadata": {
    "collapsed": false
   }
  },
  {
   "cell_type": "code",
   "execution_count": 17,
   "outputs": [],
   "source": [
    "def get_case_id(df, case_id_name=case_id_name, multi=False):\n",
    "    return df[case_id_name].unique().item()\n",
    "\n",
    "def get_query_instance(sidx=14, eidx=16):\n",
    "    assert eidx - sidx == 2, \"One row represents the current action and the next one represents the suggested action\"\n",
    "    current_step = X_train[sidx: sidx+1]\n",
    "    expected_next_step = X_train[eidx-1: eidx]\n",
    "    return current_step, expected_next_step\n",
    "\n",
    "def activity_n_resources(df, resources_columns=None, threshold_percentage=100):\n",
    "    \"\"\"\n",
    "    Creates a set of tuples, each tuple has elements from the columns specified through `resource_columns`.\n",
    "    E.g. { ('action_1', 'rresource_1'), ... (activity_3, resource_5) }\n",
    "    Args:\n",
    "        df (pd.DataFrame):\n",
    "        resources_columns (list): columns that contains the activity and resources.\n",
    "    Returns:\n",
    "        Set of tuples. A single element contains the activity and resources of a single row from the\n",
    "        dataframe.\n",
    "    \"\"\"\n",
    "    if resources_columns is None:\n",
    "        # raise TypeError(\"Please specify the columns that have resources\")\n",
    "        resources_columns = [activity_column_name, 'Involved_ST_Function_Div', 'Involved_Org_line_3',\n",
    "                             'Involved_ST', 'Country', 'Owner_Country']\n",
    "\n",
    "    threshold = threshold_percentage / 100\n",
    "\n",
    "    valid_activity_n_resource = set( df[resources_columns].apply(tuple, axis='columns') )\n",
    "\n",
    "    # combo: combination\n",
    "    resource_combo_frequency = {}\n",
    "\n",
    "    valid_resource_combo = df[resources_columns].apply(tuple, axis='columns')\n",
    "\n",
    "    for elem in valid_resource_combo:\n",
    "        if resource_combo_frequency.get(elem):\n",
    "            resource_combo_frequency[elem] += 1\n",
    "        else:\n",
    "            resource_combo_frequency[elem] = 1\n",
    "    # Creates a list of (combo, counts)\n",
    "    resource_combo_counts = [ (k, v) for k, v in resource_combo_frequency.items() ]\n",
    "    sorted_resource_combo_counts = sorted( resource_combo_counts, key=lambda item: item[1], reverse=True )\n",
    "    sorted_combos = [combo for combo, _ in sorted_resource_combo_counts ]\n",
    "    amount_of_combos_to_select = int( len(sorted_combos) * threshold ) + 1\n",
    "    valid_activity_n_resources = sorted_combos[:amount_of_combos_to_select]\n",
    "    return valid_activity_n_resources\n",
    "\n",
    "# current_step, query_instances = get_query_instance(14, 16)\n",
    "\n",
    "# valid_resources = activity_n_resources(df_train, [\"ACTIVITY\", \"Involved_ST_Function_Div\", \"Involved_Org_line_3\", \"Involved_ST\"])\n",
    "resource_columns_to_validate = [activity_column_name, 'Involved_ST_Function_Div', 'Involved_Org_line_3',\n",
    "                                'Involved_ST', 'Country', 'Owner_Country']\n",
    "valid_resources = activity_n_resources(df, resource_columns_to_validate)\n",
    "# len(valid_resources)"
   ],
   "metadata": {
    "collapsed": false
   }
  },
  {
   "cell_type": "code",
   "execution_count": 6,
   "outputs": [],
   "source": [
    "# threshold = 0.8\n",
    "# resource_combo_frequency = {}\n",
    "# resource_column_names = [activity_column_name, 'Involved_ST_Function_Div', 'Involved_Org_line_3',\n",
    "#                          'Involved_ST', 'Country', 'Owner_Country']\n",
    "# valid_resource_combo = df[resource_column_names].apply(tuple, axis='columns')\n",
    "#\n",
    "# for elem in valid_resource_combo:\n",
    "#     if resource_combo_frequency.get(elem):\n",
    "#         resource_combo_frequency[elem] += 1\n",
    "#     else:\n",
    "#         resource_combo_frequency[elem] = 1\n",
    "# # Creates a list of (combo, counts)\n",
    "# resource_combo_counts = [ (k, v) for k, v in resource_combo_frequency.items() ]\n",
    "# sorted_resource_combo_counts = sorted( resource_combo_counts, key=lambda item: item[1], reverse=True )\n",
    "# sorted_combos = [combo for combo, _ in sorted_resource_combo_counts ]\n",
    "# amount_of_combos_to_select = int( len(sorted_combos) * threshold ) + 1\n",
    "# high_frequency_combos = sorted_combos[:amount_of_combos_to_select]"
   ],
   "metadata": {
    "collapsed": false
   }
  },
  {
   "cell_type": "markdown",
   "source": [
    "### Prepare the Test Dataset"
   ],
   "metadata": {
    "collapsed": false
   }
  },
  {
   "cell_type": "code",
   "execution_count": 7,
   "outputs": [],
   "source": [
    "def get_test(df, case_id_name):\n",
    "    # df_result = pd.DataFrame(columns=df.columns)\n",
    "    result_lst = []\n",
    "\n",
    "    for idx in df[case_id_name].unique():\n",
    "        df_trace = df[df[case_id_name] == idx]\n",
    "        # ceil enables cases with 1 row to pass through\n",
    "        cut = ceil(len(df_trace) * random.uniform(0.5, 0.7)) #+ 2  # 2 because one for the floor and one for the pred\n",
    "        df_trace = df_trace.iloc[:cut].reset_index(drop=True)\n",
    "\n",
    "        # df_result = pd.concat([df_result, df_trace])\n",
    "        result_lst.append(df_trace.reset_index(drop=True))\n",
    "        # break\n",
    "    # return df_result.reset_index(drop=True)\n",
    "    return result_lst\n",
    "\n",
    "test_cases = get_test(df_test, case_id_name)"
   ],
   "metadata": {
    "collapsed": false
   }
  },
  {
   "cell_type": "code",
   "execution_count": 8,
   "outputs": [],
   "source": [
    "# ### Features that can vary\n",
    "# option 1:\n",
    "# cols_to_vary = [col for col in df_train.columns if col[0] == '#']\n",
    "# cols_to_vary.extend([\"ACTIVITY\"])\n",
    "\n",
    "# option 2:\n",
    "cols_to_vary = [\"ACTIVITY\", \"Involved_ST_Function_Div\", \"Involved_Org_line_3\", \"Involved_ST\"]\n",
    "\n",
    "outcome_name = \"lead_time\"\n",
    "def prepare_df_for_ml(df, outcome_name, columns_to_remove=None) -> tuple[pd.DataFrame, pd.DataFrame]:\n",
    "    \"\"\"\n",
    "    :param str outcome_name: name of the target column.\n",
    "    \"\"\"\n",
    "    # Before training for ml we need to remove columns that can are not needed for ML model.\n",
    "    if columns_to_remove is None:\n",
    "        columns_to_remove = [\"Change_Date+Time\", \"time_remaining\"]\n",
    "    df = df.drop([case_id_name], axis=\"columns\")\n",
    "    df = df.drop(columns_to_remove, axis=\"columns\")\n",
    "    X = df.drop([outcome_name], axis=1)\n",
    "    y = df[outcome_name]\n",
    "    return X, y\n",
    "\n",
    "X_train, y_train = prepare_df_for_ml(df_train, outcome_name)\n",
    "# X_test, y_test = prepare_df_for_ml(df_test, outcome_name)\n",
    "\n",
    "continuous_features = [\"time_from_first\", \"time_from_previous_et\", \"time_from_midnight\", \"# ACTIVITY=In Progress\", \"# ACTIVITY=Awaiting Assignment\",\n",
    "                       \"# ACTIVITY=Resolved\", \"# ACTIVITY=Assigned\", \"# ACTIVITY=Closed\", \"# ACTIVITY=Wait - User\", \"# ACTIVITY=Wait - Implementation\", \"# ACTIVITY=Wait\",\n",
    "                       \"# ACTIVITY=Wait - Vendor\", \"# ACTIVITY=In Call\", \"# ACTIVITY=Wait - Customer\", \"# ACTIVITY=Unmatched\", \"# ACTIVITY=Cancelled\"]\n",
    "categorical_features = [\"Status\", \"ACTIVITY\", \"Involved_ST_Function_Div\", \"Involved_Org_line_3\", \"Involved_ST\", \"SR_Latest_Impact\", \"Product\", \"Country\", \"Owner_Country\",\n",
    "                        \"weekday\"]\n",
    "\n",
    "# We create the preprocessing pipelines for both numeric and categorical data.\n",
    "numeric_transformer = Pipeline(steps=[\n",
    "    ('scaler', StandardScaler())])\n",
    "\n",
    "categorical_transformer = Pipeline(steps=[\n",
    "    ('onehot', OneHotEncoder(handle_unknown='ignore'))])\n",
    "\n",
    "transformations = ColumnTransformer(\n",
    "    transformers=[\n",
    "        ('num', numeric_transformer, continuous_features),\n",
    "        ('cat', categorical_transformer, categorical_features)])\n",
    "\n",
    "# Append classifier to preprocessing pipeline.\n",
    "# Now we have a full prediction pipeline.\n",
    "clf = Pipeline(steps=[('preprocessor', transformations),\n",
    "                           ('classifier', RandomForestRegressor(n_jobs=7))])\n",
    "model = clf.fit(X_train, y_train)\n",
    "\n",
    "# ## Create DiCE model\n",
    "d_iris = dice_ml.Data(dataframe=pd.concat([X_train, y_train], axis=\"columns\"),\n",
    "                      continuous_features=continuous_features,\n",
    "                      outcome_name=outcome_name)\n",
    "\n",
    "# We provide the type of model as a parameter (model_type)\n",
    "m_iris = dice_ml.Model(model=model, backend=\"sklearn\", model_type='regressor')\n",
    "method = \"random\"  # genetic, kdtree, random\n",
    "exp_genetic_iris = Dice(d_iris, m_iris, method=method)  # Method random does not support features_weights argument in generate_counterfactuals()\n",
    "# exp_genetic_iris = Dice(d_iris, m_iris, method=\"kdtree\")"
   ],
   "metadata": {
    "collapsed": false
   }
  },
  {
   "cell_type": "markdown",
   "source": [
    "## Experiment with Single Queries"
   ],
   "metadata": {
    "collapsed": false
   }
  },
  {
   "cell_type": "code",
   "execution_count": 53,
   "outputs": [
    {
     "data": {
      "text/plain": "       SR_Number  Change_Date+Time     Status               ACTIVITY  \\\n60   1-504538555        1299000865   Accepted            In Progress   \n61   1-504538555        1299001560   Accepted               Assigned   \n62   1-504538555        1299048169   Accepted            In Progress   \n63   1-504538555        1299048251     Queued    Awaiting Assignment   \n64   1-504538555        1304525335   Accepted            In Progress   \n65   1-504538555        1331632423     Queued    Awaiting Assignment   \n66   1-504538555        1331633484   Accepted            In Progress   \n67   1-504538555        1331634440     Queued    Awaiting Assignment   \n68   1-504538555        1333461567   Accepted            In Progress   \n69   1-504538555        1333547611   Accepted  Wait - Implementation   \n70   1-504538555        1333547680   Accepted            In Progress   \n71   1-504538555        1336114503   Accepted            In Progress   \n72   1-504538555        1336114622  Completed               Resolved   \n73   1-506071646        1299490928   Accepted            In Progress   \n74   1-506071646        1299491083   Accepted            In Progress   \n75   1-506071646        1299491519   Accepted            In Progress   \n76   1-506071646        1299491571     Queued    Awaiting Assignment   \n77   1-506071646        1299494911   Accepted            In Progress   \n78   1-506071646        1299495320     Queued    Awaiting Assignment   \n79   1-506071646        1299495817   Accepted            In Progress   \n80   1-506071646        1299495875   Accepted            Wait - User   \n81   1-506071646        1299500576   Accepted            In Progress   \n82   1-506071646        1299500678     Queued    Awaiting Assignment   \n83   1-506071646        1299503595   Accepted            In Progress   \n84   1-506071646        1299503638     Queued    Awaiting Assignment   \n85   1-506071646        1299563586   Accepted            In Progress   \n86   1-506071646        1299563754     Queued    Awaiting Assignment   \n87   1-506071646        1299572184   Accepted            In Progress   \n88   1-506071646        1299572298     Queued    Awaiting Assignment   \n89   1-506071646        1299572432   Accepted            In Progress   \n90   1-506071646        1299572566   Accepted            Wait - User   \n91   1-506071646        1299651374   Accepted            In Progress   \n92   1-506071646        1299651436     Queued    Awaiting Assignment   \n93   1-506071646        1299686621   Accepted            In Progress   \n94   1-506071646        1299686712     Queued    Awaiting Assignment   \n95   1-506071646        1299756545   Accepted            In Progress   \n96   1-506071646        1299757653   Accepted            Wait - User   \n97   1-506071646        1300094393   Accepted            In Progress   \n98   1-506071646        1300094910   Accepted               Assigned   \n99   1-506071646        1300094915   Accepted            In Progress   \n100  1-506071646        1300094953     Queued    Awaiting Assignment   \n101  1-506071646        1300095027   Accepted            In Progress   \n102  1-506071646        1300095439     Queued    Awaiting Assignment   \n103  1-506071646        1300182077   Accepted            In Progress   \n104  1-506071646        1300182816     Queued    Awaiting Assignment   \n105  1-506071646        1300183218   Accepted            In Progress   \n106  1-506071646        1300183972     Queued    Awaiting Assignment   \n107  1-506071646        1300184509   Accepted            In Progress   \n108  1-506071646        1300184638     Queued    Awaiting Assignment   \n109  1-506071646        1300184848   Accepted            In Progress   \n\n    Involved_ST_Function_Div Involved_Org_line_3 Involved_ST SR_Latest_Impact  \\\n60                      A2_1          Org line C          D2           Medium   \n61                      A2_1          Org line C          D2           Medium   \n62                      A2_1          Org line C          D2           Medium   \n63                   missing        Org line V7n     V32 2nd           Medium   \n64                   missing        Org line V7n     V32 2nd           Medium   \n65                   missing        Org line V7n     V37 2nd           Medium   \n66                   missing        Org line V7n     V37 2nd           Medium   \n67                   missing        Org line V7n     V32 2nd           Medium   \n68                   missing        Org line V7n     V32 2nd           Medium   \n69                   missing        Org line V7n     V32 2nd           Medium   \n70                   missing        Org line V7n     V32 2nd           Medium   \n71                   missing        Org line V7n     V37 2nd           Medium   \n72                   missing        Org line V7n     V37 2nd           Medium   \n73                      A2_1         Org line A2          D8           Medium   \n74                      A2_1         Org line A2          D8           Medium   \n75                      A2_1         Org line A2          D8           Medium   \n76                   missing        Org line V7n     V37 2nd           Medium   \n77                   missing        Org line V7n     V37 2nd           Medium   \n78                      A2_1         Org line A2          D8           Medium   \n79                      A2_1         Org line A2          D8           Medium   \n80                      A2_1         Org line A2          D8           Medium   \n81                      A2_1         Org line A2          D8           Medium   \n82                   missing        Org line V7n     V37 2nd           Medium   \n83                   missing        Org line V7n     V37 2nd           Medium   \n84                      A2_1         Org line A2          D8           Medium   \n85                      A2_1         Org line A2          D8           Medium   \n86                   missing        Org line V7n     V37 2nd           Medium   \n87                   missing        Org line V7n     V37 2nd           Medium   \n88                      A2_1         Org line A2          D8           Medium   \n89                      A2_1         Org line A2          D8           Medium   \n90                      A2_1         Org line A2          D8           Medium   \n91                      A2_1         Org line A2          D8           Medium   \n92                   missing        Org line V7n     V37 2nd           Medium   \n93                   missing        Org line V7n     V37 2nd           Medium   \n94                      A2_1         Org line A2          D8           Medium   \n95                      A2_1         Org line A2          D8           Medium   \n96                      A2_1         Org line A2          D8           Medium   \n97                      A2_1         Org line A2          D8           Medium   \n98                      A2_1         Org line A2          D8           Medium   \n99                      A2_1         Org line A2          D8           Medium   \n100                  missing        Org line V7n     V37 2nd           Medium   \n101                     A2_1         Org line A2          D8           Medium   \n102                  missing        Org line V7n     V37 2nd           Medium   \n103                  missing        Org line V7n     V37 2nd           Medium   \n104                     A2_1         Org line A2          D8           Medium   \n105                     A2_1         Org line A2          D8           Medium   \n106                  missing        Org line V7n     V37 2nd           Medium   \n107                  missing        Org line V7n     V37 2nd           Medium   \n108                     A2_1         Org line A2          D8           Medium   \n109                     A2_1         Org line A2          D8           Medium   \n\n     Product Country Owner_Country  time_from_first  time_from_previous_et  \\\n60   PROD706      nl       Belgium         102052.0                 9249.0   \n61   PROD706      nl       Belgium         102747.0                  695.0   \n62   PROD706      nl       Belgium         149356.0                46609.0   \n63   PROD706      nl       Belgium         149438.0                   82.0   \n64   PROD706      nl   Netherlands        5626522.0              5477084.0   \n65   PROD706      nl   Netherlands       32733610.0             27107088.0   \n66   PROD706      nl   Netherlands       32734671.0                 1061.0   \n67   PROD706      nl   Netherlands       32735627.0                  956.0   \n68   PROD706      nl   Netherlands       34562754.0              1827127.0   \n69   PROD706      nl   Netherlands       34648798.0                86044.0   \n70   PROD706      nl   Netherlands       34648867.0                   69.0   \n71   PROD706      nl   Netherlands       37215690.0              2566823.0   \n72   PROD706      nl   Netherlands       37215809.0                  119.0   \n73   PROD542      nl        POLAND              0.0                    0.0   \n74   PROD542      nl        POLAND            155.0                  155.0   \n75   PROD542      nl        POLAND            591.0                  436.0   \n76   PROD542      nl        POLAND            643.0                   52.0   \n77   PROD542      nl   Netherlands           3983.0                 3340.0   \n78   PROD542      nl   Netherlands           4392.0                  409.0   \n79   PROD542      nl        POLAND           4889.0                  497.0   \n80   PROD542      nl        POLAND           4947.0                   58.0   \n81   PROD542      nl        POLAND           9648.0                 4701.0   \n82   PROD542      nl        POLAND           9750.0                  102.0   \n83   PROD542      nl   Netherlands          12667.0                 2917.0   \n84   PROD542      nl   Netherlands          12710.0                   43.0   \n85   PROD542      nl        POLAND          72658.0                59948.0   \n86   PROD542      nl        POLAND          72826.0                  168.0   \n87   PROD542      nl   Netherlands          81256.0                 8430.0   \n88   PROD542      nl   Netherlands          81370.0                  114.0   \n89   PROD542      nl        POLAND          81504.0                  134.0   \n90   PROD542      nl        POLAND          81638.0                  134.0   \n91   PROD542      nl        POLAND         160446.0                78808.0   \n92   PROD542      nl        POLAND         160508.0                   62.0   \n93   PROD542      nl   Netherlands         195693.0                35185.0   \n94   PROD542      nl   Netherlands         195784.0                   91.0   \n95   PROD542      nl        POLAND         265617.0                69833.0   \n96   PROD542      nl        POLAND         266725.0                 1108.0   \n97   PROD542      nl        POLAND         603465.0               336740.0   \n98   PROD542      nl        POLAND         603982.0                  517.0   \n99   PROD542      nl        POLAND         603987.0                    5.0   \n100  PROD542      nl        POLAND         604025.0                   38.0   \n101  PROD542      nl        POLAND         604099.0                   74.0   \n102  PROD542      nl        POLAND         604511.0                  412.0   \n103  PROD542      nl   Netherlands         691149.0                86638.0   \n104  PROD542      nl   Netherlands         691888.0                  739.0   \n105  PROD542      nl        POLAND         692290.0                  402.0   \n106  PROD542      nl        POLAND         693044.0                  754.0   \n107  PROD542      nl   Netherlands         693581.0                  537.0   \n108  PROD542      nl   Netherlands         693710.0                  129.0   \n109  PROD542      nl        POLAND         693920.0                  210.0   \n\n     time_from_midnight    weekday  time_remaining  # ACTIVITY=In Progress  \\\n60              63265.0    Tuesday      37777625.0                       3   \n61              63960.0    Tuesday      37776930.0                       4   \n62              24169.0  Wednesday      37730321.0                       4   \n63              24251.0  Wednesday      37730239.0                       5   \n64              58135.0  Wednesday      32253155.0                       5   \n65              35623.0    Tuesday       5146067.0                       6   \n66              36684.0    Tuesday       5145006.0                       6   \n67              37640.0    Tuesday       5144050.0                       7   \n68              50367.0    Tuesday       3316923.0                       7   \n69              50011.0  Wednesday       3230879.0                       8   \n70              50080.0  Wednesday       3230810.0                       8   \n71              24903.0     Friday        663987.0                       9   \n72              25022.0     Friday        663868.0                      10   \n73              34928.0     Monday      37287562.0                       0   \n74              35083.0     Monday      37287407.0                       1   \n75              35519.0     Monday      37286971.0                       2   \n76              35571.0     Monday      37286919.0                       3   \n77              38911.0     Monday      37283579.0                       3   \n78              39320.0     Monday      37283170.0                       4   \n79              39817.0     Monday      37282673.0                       4   \n80              39875.0     Monday      37282615.0                       5   \n81              44576.0     Monday      37277914.0                       5   \n82              44678.0     Monday      37277812.0                       6   \n83              47595.0     Monday      37274895.0                       6   \n84              47638.0     Monday      37274852.0                       7   \n85              21186.0    Tuesday      37214904.0                       7   \n86              21354.0    Tuesday      37214736.0                       8   \n87              29784.0    Tuesday      37206306.0                       8   \n88              29898.0    Tuesday      37206192.0                       9   \n89              30032.0    Tuesday      37206058.0                       9   \n90              30166.0    Tuesday      37205924.0                      10   \n91              22574.0  Wednesday      37127116.0                      10   \n92              22636.0  Wednesday      37127054.0                      11   \n93              57821.0  Wednesday      37091869.0                      11   \n94              57912.0  Wednesday      37091778.0                      12   \n95              41345.0   Thursday      37021945.0                      12   \n96              42453.0   Thursday      37020837.0                      13   \n97              33593.0     Monday      36684097.0                      13   \n98              34110.0     Monday      36683580.0                      14   \n99              34115.0     Monday      36683575.0                      14   \n100             34153.0     Monday      36683537.0                      15   \n101             34227.0     Monday      36683463.0                      15   \n102             34639.0     Monday      36683051.0                      16   \n103             34877.0    Tuesday      36596413.0                      16   \n104             35616.0    Tuesday      36595674.0                      17   \n105             36018.0    Tuesday      36595272.0                      17   \n106             36772.0    Tuesday      36594518.0                      18   \n107             37309.0    Tuesday      36593981.0                      18   \n108             37438.0    Tuesday      36593852.0                      19   \n109             37648.0    Tuesday      36593642.0                      19   \n\n     # ACTIVITY=Awaiting Assignment  # ACTIVITY=Resolved  # ACTIVITY=Assigned  \\\n60                                2                    0                    0   \n61                                2                    0                    0   \n62                                2                    0                    1   \n63                                2                    0                    1   \n64                                3                    0                    1   \n65                                3                    0                    1   \n66                                4                    0                    1   \n67                                4                    0                    1   \n68                                5                    0                    1   \n69                                5                    0                    1   \n70                                5                    0                    1   \n71                                5                    0                    1   \n72                                5                    0                    1   \n73                                0                    0                    0   \n74                                0                    0                    0   \n75                                0                    0                    0   \n76                                0                    0                    0   \n77                                1                    0                    0   \n78                                1                    0                    0   \n79                                2                    0                    0   \n80                                2                    0                    0   \n81                                2                    0                    0   \n82                                2                    0                    0   \n83                                3                    0                    0   \n84                                3                    0                    0   \n85                                4                    0                    0   \n86                                4                    0                    0   \n87                                5                    0                    0   \n88                                5                    0                    0   \n89                                6                    0                    0   \n90                                6                    0                    0   \n91                                6                    0                    0   \n92                                6                    0                    0   \n93                                7                    0                    0   \n94                                7                    0                    0   \n95                                8                    0                    0   \n96                                8                    0                    0   \n97                                8                    0                    0   \n98                                8                    0                    0   \n99                                8                    0                    1   \n100                               8                    0                    1   \n101                               9                    0                    1   \n102                               9                    0                    1   \n103                              10                    0                    1   \n104                              10                    0                    1   \n105                              11                    0                    1   \n106                              11                    0                    1   \n107                              12                    0                    1   \n108                              12                    0                    1   \n109                              13                    0                    1   \n\n     # ACTIVITY=Closed  # ACTIVITY=Wait - User  \\\n60                   0                       0   \n61                   0                       0   \n62                   0                       0   \n63                   0                       0   \n64                   0                       0   \n65                   0                       0   \n66                   0                       0   \n67                   0                       0   \n68                   0                       0   \n69                   0                       0   \n70                   0                       0   \n71                   0                       0   \n72                   0                       0   \n73                   0                       0   \n74                   0                       0   \n75                   0                       0   \n76                   0                       0   \n77                   0                       0   \n78                   0                       0   \n79                   0                       0   \n80                   0                       0   \n81                   0                       1   \n82                   0                       1   \n83                   0                       1   \n84                   0                       1   \n85                   0                       1   \n86                   0                       1   \n87                   0                       1   \n88                   0                       1   \n89                   0                       1   \n90                   0                       1   \n91                   0                       2   \n92                   0                       2   \n93                   0                       2   \n94                   0                       2   \n95                   0                       2   \n96                   0                       2   \n97                   0                       3   \n98                   0                       3   \n99                   0                       3   \n100                  0                       3   \n101                  0                       3   \n102                  0                       3   \n103                  0                       3   \n104                  0                       3   \n105                  0                       3   \n106                  0                       3   \n107                  0                       3   \n108                  0                       3   \n109                  0                       3   \n\n     # ACTIVITY=Wait - Implementation  # ACTIVITY=Wait  \\\n60                                  0                0   \n61                                  0                0   \n62                                  0                0   \n63                                  0                0   \n64                                  0                0   \n65                                  0                0   \n66                                  0                0   \n67                                  0                0   \n68                                  0                0   \n69                                  0                0   \n70                                  1                0   \n71                                  1                0   \n72                                  1                0   \n73                                  0                0   \n74                                  0                0   \n75                                  0                0   \n76                                  0                0   \n77                                  0                0   \n78                                  0                0   \n79                                  0                0   \n80                                  0                0   \n81                                  0                0   \n82                                  0                0   \n83                                  0                0   \n84                                  0                0   \n85                                  0                0   \n86                                  0                0   \n87                                  0                0   \n88                                  0                0   \n89                                  0                0   \n90                                  0                0   \n91                                  0                0   \n92                                  0                0   \n93                                  0                0   \n94                                  0                0   \n95                                  0                0   \n96                                  0                0   \n97                                  0                0   \n98                                  0                0   \n99                                  0                0   \n100                                 0                0   \n101                                 0                0   \n102                                 0                0   \n103                                 0                0   \n104                                 0                0   \n105                                 0                0   \n106                                 0                0   \n107                                 0                0   \n108                                 0                0   \n109                                 0                0   \n\n     # ACTIVITY=Wait - Vendor  # ACTIVITY=In Call  # ACTIVITY=Wait - Customer  \\\n60                          0                   0                           0   \n61                          0                   0                           0   \n62                          0                   0                           0   \n63                          0                   0                           0   \n64                          0                   0                           0   \n65                          0                   0                           0   \n66                          0                   0                           0   \n67                          0                   0                           0   \n68                          0                   0                           0   \n69                          0                   0                           0   \n70                          0                   0                           0   \n71                          0                   0                           0   \n72                          0                   0                           0   \n73                          0                   0                           0   \n74                          0                   0                           0   \n75                          0                   0                           0   \n76                          0                   0                           0   \n77                          0                   0                           0   \n78                          0                   0                           0   \n79                          0                   0                           0   \n80                          0                   0                           0   \n81                          0                   0                           0   \n82                          0                   0                           0   \n83                          0                   0                           0   \n84                          0                   0                           0   \n85                          0                   0                           0   \n86                          0                   0                           0   \n87                          0                   0                           0   \n88                          0                   0                           0   \n89                          0                   0                           0   \n90                          0                   0                           0   \n91                          0                   0                           0   \n92                          0                   0                           0   \n93                          0                   0                           0   \n94                          0                   0                           0   \n95                          0                   0                           0   \n96                          0                   0                           0   \n97                          0                   0                           0   \n98                          0                   0                           0   \n99                          0                   0                           0   \n100                         0                   0                           0   \n101                         0                   0                           0   \n102                         0                   0                           0   \n103                         0                   0                           0   \n104                         0                   0                           0   \n105                         0                   0                           0   \n106                         0                   0                           0   \n107                         0                   0                           0   \n108                         0                   0                           0   \n109                         0                   0                           0   \n\n     # ACTIVITY=Unmatched  # ACTIVITY=Cancelled   lead_time  \n60                      0                     0  37879677.0  \n61                      0                     0  37879677.0  \n62                      0                     0  37879677.0  \n63                      0                     0  37879677.0  \n64                      0                     0  37879677.0  \n65                      0                     0  37879677.0  \n66                      0                     0  37879677.0  \n67                      0                     0  37879677.0  \n68                      0                     0  37879677.0  \n69                      0                     0  37879677.0  \n70                      0                     0  37879677.0  \n71                      0                     0  37879677.0  \n72                      0                     0  37879677.0  \n73                      0                     0  37287562.0  \n74                      0                     0  37287562.0  \n75                      0                     0  37287562.0  \n76                      0                     0  37287562.0  \n77                      0                     0  37287562.0  \n78                      0                     0  37287562.0  \n79                      0                     0  37287562.0  \n80                      0                     0  37287562.0  \n81                      0                     0  37287562.0  \n82                      0                     0  37287562.0  \n83                      0                     0  37287562.0  \n84                      0                     0  37287562.0  \n85                      0                     0  37287562.0  \n86                      0                     0  37287562.0  \n87                      0                     0  37287562.0  \n88                      0                     0  37287562.0  \n89                      0                     0  37287562.0  \n90                      0                     0  37287562.0  \n91                      0                     0  37287562.0  \n92                      0                     0  37287562.0  \n93                      0                     0  37287562.0  \n94                      0                     0  37287562.0  \n95                      0                     0  37287562.0  \n96                      0                     0  37287562.0  \n97                      0                     0  37287562.0  \n98                      0                     0  37287562.0  \n99                      0                     0  37287562.0  \n100                     0                     0  37287562.0  \n101                     0                     0  37287562.0  \n102                     0                     0  37287562.0  \n103                     0                     0  37287562.0  \n104                     0                     0  37287562.0  \n105                     0                     0  37287562.0  \n106                     0                     0  37287562.0  \n107                     0                     0  37287562.0  \n108                     0                     0  37287562.0  \n109                     0                     0  37287562.0  ",
      "text/html": "<div>\n<style scoped>\n    .dataframe tbody tr th:only-of-type {\n        vertical-align: middle;\n    }\n\n    .dataframe tbody tr th {\n        vertical-align: top;\n    }\n\n    .dataframe thead th {\n        text-align: right;\n    }\n</style>\n<table border=\"1\" class=\"dataframe\">\n  <thead>\n    <tr style=\"text-align: right;\">\n      <th></th>\n      <th>SR_Number</th>\n      <th>Change_Date+Time</th>\n      <th>Status</th>\n      <th>ACTIVITY</th>\n      <th>Involved_ST_Function_Div</th>\n      <th>Involved_Org_line_3</th>\n      <th>Involved_ST</th>\n      <th>SR_Latest_Impact</th>\n      <th>Product</th>\n      <th>Country</th>\n      <th>Owner_Country</th>\n      <th>time_from_first</th>\n      <th>time_from_previous_et</th>\n      <th>time_from_midnight</th>\n      <th>weekday</th>\n      <th>time_remaining</th>\n      <th># ACTIVITY=In Progress</th>\n      <th># ACTIVITY=Awaiting Assignment</th>\n      <th># ACTIVITY=Resolved</th>\n      <th># ACTIVITY=Assigned</th>\n      <th># ACTIVITY=Closed</th>\n      <th># ACTIVITY=Wait - User</th>\n      <th># ACTIVITY=Wait - Implementation</th>\n      <th># ACTIVITY=Wait</th>\n      <th># ACTIVITY=Wait - Vendor</th>\n      <th># ACTIVITY=In Call</th>\n      <th># ACTIVITY=Wait - Customer</th>\n      <th># ACTIVITY=Unmatched</th>\n      <th># ACTIVITY=Cancelled</th>\n      <th>lead_time</th>\n    </tr>\n  </thead>\n  <tbody>\n    <tr>\n      <th>60</th>\n      <td>1-504538555</td>\n      <td>1299000865</td>\n      <td>Accepted</td>\n      <td>In Progress</td>\n      <td>A2_1</td>\n      <td>Org line C</td>\n      <td>D2</td>\n      <td>Medium</td>\n      <td>PROD706</td>\n      <td>nl</td>\n      <td>Belgium</td>\n      <td>102052.0</td>\n      <td>9249.0</td>\n      <td>63265.0</td>\n      <td>Tuesday</td>\n      <td>37777625.0</td>\n      <td>3</td>\n      <td>2</td>\n      <td>0</td>\n      <td>0</td>\n      <td>0</td>\n      <td>0</td>\n      <td>0</td>\n      <td>0</td>\n      <td>0</td>\n      <td>0</td>\n      <td>0</td>\n      <td>0</td>\n      <td>0</td>\n      <td>37879677.0</td>\n    </tr>\n    <tr>\n      <th>61</th>\n      <td>1-504538555</td>\n      <td>1299001560</td>\n      <td>Accepted</td>\n      <td>Assigned</td>\n      <td>A2_1</td>\n      <td>Org line C</td>\n      <td>D2</td>\n      <td>Medium</td>\n      <td>PROD706</td>\n      <td>nl</td>\n      <td>Belgium</td>\n      <td>102747.0</td>\n      <td>695.0</td>\n      <td>63960.0</td>\n      <td>Tuesday</td>\n      <td>37776930.0</td>\n      <td>4</td>\n      <td>2</td>\n      <td>0</td>\n      <td>0</td>\n      <td>0</td>\n      <td>0</td>\n      <td>0</td>\n      <td>0</td>\n      <td>0</td>\n      <td>0</td>\n      <td>0</td>\n      <td>0</td>\n      <td>0</td>\n      <td>37879677.0</td>\n    </tr>\n    <tr>\n      <th>62</th>\n      <td>1-504538555</td>\n      <td>1299048169</td>\n      <td>Accepted</td>\n      <td>In Progress</td>\n      <td>A2_1</td>\n      <td>Org line C</td>\n      <td>D2</td>\n      <td>Medium</td>\n      <td>PROD706</td>\n      <td>nl</td>\n      <td>Belgium</td>\n      <td>149356.0</td>\n      <td>46609.0</td>\n      <td>24169.0</td>\n      <td>Wednesday</td>\n      <td>37730321.0</td>\n      <td>4</td>\n      <td>2</td>\n      <td>0</td>\n      <td>1</td>\n      <td>0</td>\n      <td>0</td>\n      <td>0</td>\n      <td>0</td>\n      <td>0</td>\n      <td>0</td>\n      <td>0</td>\n      <td>0</td>\n      <td>0</td>\n      <td>37879677.0</td>\n    </tr>\n    <tr>\n      <th>63</th>\n      <td>1-504538555</td>\n      <td>1299048251</td>\n      <td>Queued</td>\n      <td>Awaiting Assignment</td>\n      <td>missing</td>\n      <td>Org line V7n</td>\n      <td>V32 2nd</td>\n      <td>Medium</td>\n      <td>PROD706</td>\n      <td>nl</td>\n      <td>Belgium</td>\n      <td>149438.0</td>\n      <td>82.0</td>\n      <td>24251.0</td>\n      <td>Wednesday</td>\n      <td>37730239.0</td>\n      <td>5</td>\n      <td>2</td>\n      <td>0</td>\n      <td>1</td>\n      <td>0</td>\n      <td>0</td>\n      <td>0</td>\n      <td>0</td>\n      <td>0</td>\n      <td>0</td>\n      <td>0</td>\n      <td>0</td>\n      <td>0</td>\n      <td>37879677.0</td>\n    </tr>\n    <tr>\n      <th>64</th>\n      <td>1-504538555</td>\n      <td>1304525335</td>\n      <td>Accepted</td>\n      <td>In Progress</td>\n      <td>missing</td>\n      <td>Org line V7n</td>\n      <td>V32 2nd</td>\n      <td>Medium</td>\n      <td>PROD706</td>\n      <td>nl</td>\n      <td>Netherlands</td>\n      <td>5626522.0</td>\n      <td>5477084.0</td>\n      <td>58135.0</td>\n      <td>Wednesday</td>\n      <td>32253155.0</td>\n      <td>5</td>\n      <td>3</td>\n      <td>0</td>\n      <td>1</td>\n      <td>0</td>\n      <td>0</td>\n      <td>0</td>\n      <td>0</td>\n      <td>0</td>\n      <td>0</td>\n      <td>0</td>\n      <td>0</td>\n      <td>0</td>\n      <td>37879677.0</td>\n    </tr>\n    <tr>\n      <th>65</th>\n      <td>1-504538555</td>\n      <td>1331632423</td>\n      <td>Queued</td>\n      <td>Awaiting Assignment</td>\n      <td>missing</td>\n      <td>Org line V7n</td>\n      <td>V37 2nd</td>\n      <td>Medium</td>\n      <td>PROD706</td>\n      <td>nl</td>\n      <td>Netherlands</td>\n      <td>32733610.0</td>\n      <td>27107088.0</td>\n      <td>35623.0</td>\n      <td>Tuesday</td>\n      <td>5146067.0</td>\n      <td>6</td>\n      <td>3</td>\n      <td>0</td>\n      <td>1</td>\n      <td>0</td>\n      <td>0</td>\n      <td>0</td>\n      <td>0</td>\n      <td>0</td>\n      <td>0</td>\n      <td>0</td>\n      <td>0</td>\n      <td>0</td>\n      <td>37879677.0</td>\n    </tr>\n    <tr>\n      <th>66</th>\n      <td>1-504538555</td>\n      <td>1331633484</td>\n      <td>Accepted</td>\n      <td>In Progress</td>\n      <td>missing</td>\n      <td>Org line V7n</td>\n      <td>V37 2nd</td>\n      <td>Medium</td>\n      <td>PROD706</td>\n      <td>nl</td>\n      <td>Netherlands</td>\n      <td>32734671.0</td>\n      <td>1061.0</td>\n      <td>36684.0</td>\n      <td>Tuesday</td>\n      <td>5145006.0</td>\n      <td>6</td>\n      <td>4</td>\n      <td>0</td>\n      <td>1</td>\n      <td>0</td>\n      <td>0</td>\n      <td>0</td>\n      <td>0</td>\n      <td>0</td>\n      <td>0</td>\n      <td>0</td>\n      <td>0</td>\n      <td>0</td>\n      <td>37879677.0</td>\n    </tr>\n    <tr>\n      <th>67</th>\n      <td>1-504538555</td>\n      <td>1331634440</td>\n      <td>Queued</td>\n      <td>Awaiting Assignment</td>\n      <td>missing</td>\n      <td>Org line V7n</td>\n      <td>V32 2nd</td>\n      <td>Medium</td>\n      <td>PROD706</td>\n      <td>nl</td>\n      <td>Netherlands</td>\n      <td>32735627.0</td>\n      <td>956.0</td>\n      <td>37640.0</td>\n      <td>Tuesday</td>\n      <td>5144050.0</td>\n      <td>7</td>\n      <td>4</td>\n      <td>0</td>\n      <td>1</td>\n      <td>0</td>\n      <td>0</td>\n      <td>0</td>\n      <td>0</td>\n      <td>0</td>\n      <td>0</td>\n      <td>0</td>\n      <td>0</td>\n      <td>0</td>\n      <td>37879677.0</td>\n    </tr>\n    <tr>\n      <th>68</th>\n      <td>1-504538555</td>\n      <td>1333461567</td>\n      <td>Accepted</td>\n      <td>In Progress</td>\n      <td>missing</td>\n      <td>Org line V7n</td>\n      <td>V32 2nd</td>\n      <td>Medium</td>\n      <td>PROD706</td>\n      <td>nl</td>\n      <td>Netherlands</td>\n      <td>34562754.0</td>\n      <td>1827127.0</td>\n      <td>50367.0</td>\n      <td>Tuesday</td>\n      <td>3316923.0</td>\n      <td>7</td>\n      <td>5</td>\n      <td>0</td>\n      <td>1</td>\n      <td>0</td>\n      <td>0</td>\n      <td>0</td>\n      <td>0</td>\n      <td>0</td>\n      <td>0</td>\n      <td>0</td>\n      <td>0</td>\n      <td>0</td>\n      <td>37879677.0</td>\n    </tr>\n    <tr>\n      <th>69</th>\n      <td>1-504538555</td>\n      <td>1333547611</td>\n      <td>Accepted</td>\n      <td>Wait - Implementation</td>\n      <td>missing</td>\n      <td>Org line V7n</td>\n      <td>V32 2nd</td>\n      <td>Medium</td>\n      <td>PROD706</td>\n      <td>nl</td>\n      <td>Netherlands</td>\n      <td>34648798.0</td>\n      <td>86044.0</td>\n      <td>50011.0</td>\n      <td>Wednesday</td>\n      <td>3230879.0</td>\n      <td>8</td>\n      <td>5</td>\n      <td>0</td>\n      <td>1</td>\n      <td>0</td>\n      <td>0</td>\n      <td>0</td>\n      <td>0</td>\n      <td>0</td>\n      <td>0</td>\n      <td>0</td>\n      <td>0</td>\n      <td>0</td>\n      <td>37879677.0</td>\n    </tr>\n    <tr>\n      <th>70</th>\n      <td>1-504538555</td>\n      <td>1333547680</td>\n      <td>Accepted</td>\n      <td>In Progress</td>\n      <td>missing</td>\n      <td>Org line V7n</td>\n      <td>V32 2nd</td>\n      <td>Medium</td>\n      <td>PROD706</td>\n      <td>nl</td>\n      <td>Netherlands</td>\n      <td>34648867.0</td>\n      <td>69.0</td>\n      <td>50080.0</td>\n      <td>Wednesday</td>\n      <td>3230810.0</td>\n      <td>8</td>\n      <td>5</td>\n      <td>0</td>\n      <td>1</td>\n      <td>0</td>\n      <td>0</td>\n      <td>1</td>\n      <td>0</td>\n      <td>0</td>\n      <td>0</td>\n      <td>0</td>\n      <td>0</td>\n      <td>0</td>\n      <td>37879677.0</td>\n    </tr>\n    <tr>\n      <th>71</th>\n      <td>1-504538555</td>\n      <td>1336114503</td>\n      <td>Accepted</td>\n      <td>In Progress</td>\n      <td>missing</td>\n      <td>Org line V7n</td>\n      <td>V37 2nd</td>\n      <td>Medium</td>\n      <td>PROD706</td>\n      <td>nl</td>\n      <td>Netherlands</td>\n      <td>37215690.0</td>\n      <td>2566823.0</td>\n      <td>24903.0</td>\n      <td>Friday</td>\n      <td>663987.0</td>\n      <td>9</td>\n      <td>5</td>\n      <td>0</td>\n      <td>1</td>\n      <td>0</td>\n      <td>0</td>\n      <td>1</td>\n      <td>0</td>\n      <td>0</td>\n      <td>0</td>\n      <td>0</td>\n      <td>0</td>\n      <td>0</td>\n      <td>37879677.0</td>\n    </tr>\n    <tr>\n      <th>72</th>\n      <td>1-504538555</td>\n      <td>1336114622</td>\n      <td>Completed</td>\n      <td>Resolved</td>\n      <td>missing</td>\n      <td>Org line V7n</td>\n      <td>V37 2nd</td>\n      <td>Medium</td>\n      <td>PROD706</td>\n      <td>nl</td>\n      <td>Netherlands</td>\n      <td>37215809.0</td>\n      <td>119.0</td>\n      <td>25022.0</td>\n      <td>Friday</td>\n      <td>663868.0</td>\n      <td>10</td>\n      <td>5</td>\n      <td>0</td>\n      <td>1</td>\n      <td>0</td>\n      <td>0</td>\n      <td>1</td>\n      <td>0</td>\n      <td>0</td>\n      <td>0</td>\n      <td>0</td>\n      <td>0</td>\n      <td>0</td>\n      <td>37879677.0</td>\n    </tr>\n    <tr>\n      <th>73</th>\n      <td>1-506071646</td>\n      <td>1299490928</td>\n      <td>Accepted</td>\n      <td>In Progress</td>\n      <td>A2_1</td>\n      <td>Org line A2</td>\n      <td>D8</td>\n      <td>Medium</td>\n      <td>PROD542</td>\n      <td>nl</td>\n      <td>POLAND</td>\n      <td>0.0</td>\n      <td>0.0</td>\n      <td>34928.0</td>\n      <td>Monday</td>\n      <td>37287562.0</td>\n      <td>0</td>\n      <td>0</td>\n      <td>0</td>\n      <td>0</td>\n      <td>0</td>\n      <td>0</td>\n      <td>0</td>\n      <td>0</td>\n      <td>0</td>\n      <td>0</td>\n      <td>0</td>\n      <td>0</td>\n      <td>0</td>\n      <td>37287562.0</td>\n    </tr>\n    <tr>\n      <th>74</th>\n      <td>1-506071646</td>\n      <td>1299491083</td>\n      <td>Accepted</td>\n      <td>In Progress</td>\n      <td>A2_1</td>\n      <td>Org line A2</td>\n      <td>D8</td>\n      <td>Medium</td>\n      <td>PROD542</td>\n      <td>nl</td>\n      <td>POLAND</td>\n      <td>155.0</td>\n      <td>155.0</td>\n      <td>35083.0</td>\n      <td>Monday</td>\n      <td>37287407.0</td>\n      <td>1</td>\n      <td>0</td>\n      <td>0</td>\n      <td>0</td>\n      <td>0</td>\n      <td>0</td>\n      <td>0</td>\n      <td>0</td>\n      <td>0</td>\n      <td>0</td>\n      <td>0</td>\n      <td>0</td>\n      <td>0</td>\n      <td>37287562.0</td>\n    </tr>\n    <tr>\n      <th>75</th>\n      <td>1-506071646</td>\n      <td>1299491519</td>\n      <td>Accepted</td>\n      <td>In Progress</td>\n      <td>A2_1</td>\n      <td>Org line A2</td>\n      <td>D8</td>\n      <td>Medium</td>\n      <td>PROD542</td>\n      <td>nl</td>\n      <td>POLAND</td>\n      <td>591.0</td>\n      <td>436.0</td>\n      <td>35519.0</td>\n      <td>Monday</td>\n      <td>37286971.0</td>\n      <td>2</td>\n      <td>0</td>\n      <td>0</td>\n      <td>0</td>\n      <td>0</td>\n      <td>0</td>\n      <td>0</td>\n      <td>0</td>\n      <td>0</td>\n      <td>0</td>\n      <td>0</td>\n      <td>0</td>\n      <td>0</td>\n      <td>37287562.0</td>\n    </tr>\n    <tr>\n      <th>76</th>\n      <td>1-506071646</td>\n      <td>1299491571</td>\n      <td>Queued</td>\n      <td>Awaiting Assignment</td>\n      <td>missing</td>\n      <td>Org line V7n</td>\n      <td>V37 2nd</td>\n      <td>Medium</td>\n      <td>PROD542</td>\n      <td>nl</td>\n      <td>POLAND</td>\n      <td>643.0</td>\n      <td>52.0</td>\n      <td>35571.0</td>\n      <td>Monday</td>\n      <td>37286919.0</td>\n      <td>3</td>\n      <td>0</td>\n      <td>0</td>\n      <td>0</td>\n      <td>0</td>\n      <td>0</td>\n      <td>0</td>\n      <td>0</td>\n      <td>0</td>\n      <td>0</td>\n      <td>0</td>\n      <td>0</td>\n      <td>0</td>\n      <td>37287562.0</td>\n    </tr>\n    <tr>\n      <th>77</th>\n      <td>1-506071646</td>\n      <td>1299494911</td>\n      <td>Accepted</td>\n      <td>In Progress</td>\n      <td>missing</td>\n      <td>Org line V7n</td>\n      <td>V37 2nd</td>\n      <td>Medium</td>\n      <td>PROD542</td>\n      <td>nl</td>\n      <td>Netherlands</td>\n      <td>3983.0</td>\n      <td>3340.0</td>\n      <td>38911.0</td>\n      <td>Monday</td>\n      <td>37283579.0</td>\n      <td>3</td>\n      <td>1</td>\n      <td>0</td>\n      <td>0</td>\n      <td>0</td>\n      <td>0</td>\n      <td>0</td>\n      <td>0</td>\n      <td>0</td>\n      <td>0</td>\n      <td>0</td>\n      <td>0</td>\n      <td>0</td>\n      <td>37287562.0</td>\n    </tr>\n    <tr>\n      <th>78</th>\n      <td>1-506071646</td>\n      <td>1299495320</td>\n      <td>Queued</td>\n      <td>Awaiting Assignment</td>\n      <td>A2_1</td>\n      <td>Org line A2</td>\n      <td>D8</td>\n      <td>Medium</td>\n      <td>PROD542</td>\n      <td>nl</td>\n      <td>Netherlands</td>\n      <td>4392.0</td>\n      <td>409.0</td>\n      <td>39320.0</td>\n      <td>Monday</td>\n      <td>37283170.0</td>\n      <td>4</td>\n      <td>1</td>\n      <td>0</td>\n      <td>0</td>\n      <td>0</td>\n      <td>0</td>\n      <td>0</td>\n      <td>0</td>\n      <td>0</td>\n      <td>0</td>\n      <td>0</td>\n      <td>0</td>\n      <td>0</td>\n      <td>37287562.0</td>\n    </tr>\n    <tr>\n      <th>79</th>\n      <td>1-506071646</td>\n      <td>1299495817</td>\n      <td>Accepted</td>\n      <td>In Progress</td>\n      <td>A2_1</td>\n      <td>Org line A2</td>\n      <td>D8</td>\n      <td>Medium</td>\n      <td>PROD542</td>\n      <td>nl</td>\n      <td>POLAND</td>\n      <td>4889.0</td>\n      <td>497.0</td>\n      <td>39817.0</td>\n      <td>Monday</td>\n      <td>37282673.0</td>\n      <td>4</td>\n      <td>2</td>\n      <td>0</td>\n      <td>0</td>\n      <td>0</td>\n      <td>0</td>\n      <td>0</td>\n      <td>0</td>\n      <td>0</td>\n      <td>0</td>\n      <td>0</td>\n      <td>0</td>\n      <td>0</td>\n      <td>37287562.0</td>\n    </tr>\n    <tr>\n      <th>80</th>\n      <td>1-506071646</td>\n      <td>1299495875</td>\n      <td>Accepted</td>\n      <td>Wait - User</td>\n      <td>A2_1</td>\n      <td>Org line A2</td>\n      <td>D8</td>\n      <td>Medium</td>\n      <td>PROD542</td>\n      <td>nl</td>\n      <td>POLAND</td>\n      <td>4947.0</td>\n      <td>58.0</td>\n      <td>39875.0</td>\n      <td>Monday</td>\n      <td>37282615.0</td>\n      <td>5</td>\n      <td>2</td>\n      <td>0</td>\n      <td>0</td>\n      <td>0</td>\n      <td>0</td>\n      <td>0</td>\n      <td>0</td>\n      <td>0</td>\n      <td>0</td>\n      <td>0</td>\n      <td>0</td>\n      <td>0</td>\n      <td>37287562.0</td>\n    </tr>\n    <tr>\n      <th>81</th>\n      <td>1-506071646</td>\n      <td>1299500576</td>\n      <td>Accepted</td>\n      <td>In Progress</td>\n      <td>A2_1</td>\n      <td>Org line A2</td>\n      <td>D8</td>\n      <td>Medium</td>\n      <td>PROD542</td>\n      <td>nl</td>\n      <td>POLAND</td>\n      <td>9648.0</td>\n      <td>4701.0</td>\n      <td>44576.0</td>\n      <td>Monday</td>\n      <td>37277914.0</td>\n      <td>5</td>\n      <td>2</td>\n      <td>0</td>\n      <td>0</td>\n      <td>0</td>\n      <td>1</td>\n      <td>0</td>\n      <td>0</td>\n      <td>0</td>\n      <td>0</td>\n      <td>0</td>\n      <td>0</td>\n      <td>0</td>\n      <td>37287562.0</td>\n    </tr>\n    <tr>\n      <th>82</th>\n      <td>1-506071646</td>\n      <td>1299500678</td>\n      <td>Queued</td>\n      <td>Awaiting Assignment</td>\n      <td>missing</td>\n      <td>Org line V7n</td>\n      <td>V37 2nd</td>\n      <td>Medium</td>\n      <td>PROD542</td>\n      <td>nl</td>\n      <td>POLAND</td>\n      <td>9750.0</td>\n      <td>102.0</td>\n      <td>44678.0</td>\n      <td>Monday</td>\n      <td>37277812.0</td>\n      <td>6</td>\n      <td>2</td>\n      <td>0</td>\n      <td>0</td>\n      <td>0</td>\n      <td>1</td>\n      <td>0</td>\n      <td>0</td>\n      <td>0</td>\n      <td>0</td>\n      <td>0</td>\n      <td>0</td>\n      <td>0</td>\n      <td>37287562.0</td>\n    </tr>\n    <tr>\n      <th>83</th>\n      <td>1-506071646</td>\n      <td>1299503595</td>\n      <td>Accepted</td>\n      <td>In Progress</td>\n      <td>missing</td>\n      <td>Org line V7n</td>\n      <td>V37 2nd</td>\n      <td>Medium</td>\n      <td>PROD542</td>\n      <td>nl</td>\n      <td>Netherlands</td>\n      <td>12667.0</td>\n      <td>2917.0</td>\n      <td>47595.0</td>\n      <td>Monday</td>\n      <td>37274895.0</td>\n      <td>6</td>\n      <td>3</td>\n      <td>0</td>\n      <td>0</td>\n      <td>0</td>\n      <td>1</td>\n      <td>0</td>\n      <td>0</td>\n      <td>0</td>\n      <td>0</td>\n      <td>0</td>\n      <td>0</td>\n      <td>0</td>\n      <td>37287562.0</td>\n    </tr>\n    <tr>\n      <th>84</th>\n      <td>1-506071646</td>\n      <td>1299503638</td>\n      <td>Queued</td>\n      <td>Awaiting Assignment</td>\n      <td>A2_1</td>\n      <td>Org line A2</td>\n      <td>D8</td>\n      <td>Medium</td>\n      <td>PROD542</td>\n      <td>nl</td>\n      <td>Netherlands</td>\n      <td>12710.0</td>\n      <td>43.0</td>\n      <td>47638.0</td>\n      <td>Monday</td>\n      <td>37274852.0</td>\n      <td>7</td>\n      <td>3</td>\n      <td>0</td>\n      <td>0</td>\n      <td>0</td>\n      <td>1</td>\n      <td>0</td>\n      <td>0</td>\n      <td>0</td>\n      <td>0</td>\n      <td>0</td>\n      <td>0</td>\n      <td>0</td>\n      <td>37287562.0</td>\n    </tr>\n    <tr>\n      <th>85</th>\n      <td>1-506071646</td>\n      <td>1299563586</td>\n      <td>Accepted</td>\n      <td>In Progress</td>\n      <td>A2_1</td>\n      <td>Org line A2</td>\n      <td>D8</td>\n      <td>Medium</td>\n      <td>PROD542</td>\n      <td>nl</td>\n      <td>POLAND</td>\n      <td>72658.0</td>\n      <td>59948.0</td>\n      <td>21186.0</td>\n      <td>Tuesday</td>\n      <td>37214904.0</td>\n      <td>7</td>\n      <td>4</td>\n      <td>0</td>\n      <td>0</td>\n      <td>0</td>\n      <td>1</td>\n      <td>0</td>\n      <td>0</td>\n      <td>0</td>\n      <td>0</td>\n      <td>0</td>\n      <td>0</td>\n      <td>0</td>\n      <td>37287562.0</td>\n    </tr>\n    <tr>\n      <th>86</th>\n      <td>1-506071646</td>\n      <td>1299563754</td>\n      <td>Queued</td>\n      <td>Awaiting Assignment</td>\n      <td>missing</td>\n      <td>Org line V7n</td>\n      <td>V37 2nd</td>\n      <td>Medium</td>\n      <td>PROD542</td>\n      <td>nl</td>\n      <td>POLAND</td>\n      <td>72826.0</td>\n      <td>168.0</td>\n      <td>21354.0</td>\n      <td>Tuesday</td>\n      <td>37214736.0</td>\n      <td>8</td>\n      <td>4</td>\n      <td>0</td>\n      <td>0</td>\n      <td>0</td>\n      <td>1</td>\n      <td>0</td>\n      <td>0</td>\n      <td>0</td>\n      <td>0</td>\n      <td>0</td>\n      <td>0</td>\n      <td>0</td>\n      <td>37287562.0</td>\n    </tr>\n    <tr>\n      <th>87</th>\n      <td>1-506071646</td>\n      <td>1299572184</td>\n      <td>Accepted</td>\n      <td>In Progress</td>\n      <td>missing</td>\n      <td>Org line V7n</td>\n      <td>V37 2nd</td>\n      <td>Medium</td>\n      <td>PROD542</td>\n      <td>nl</td>\n      <td>Netherlands</td>\n      <td>81256.0</td>\n      <td>8430.0</td>\n      <td>29784.0</td>\n      <td>Tuesday</td>\n      <td>37206306.0</td>\n      <td>8</td>\n      <td>5</td>\n      <td>0</td>\n      <td>0</td>\n      <td>0</td>\n      <td>1</td>\n      <td>0</td>\n      <td>0</td>\n      <td>0</td>\n      <td>0</td>\n      <td>0</td>\n      <td>0</td>\n      <td>0</td>\n      <td>37287562.0</td>\n    </tr>\n    <tr>\n      <th>88</th>\n      <td>1-506071646</td>\n      <td>1299572298</td>\n      <td>Queued</td>\n      <td>Awaiting Assignment</td>\n      <td>A2_1</td>\n      <td>Org line A2</td>\n      <td>D8</td>\n      <td>Medium</td>\n      <td>PROD542</td>\n      <td>nl</td>\n      <td>Netherlands</td>\n      <td>81370.0</td>\n      <td>114.0</td>\n      <td>29898.0</td>\n      <td>Tuesday</td>\n      <td>37206192.0</td>\n      <td>9</td>\n      <td>5</td>\n      <td>0</td>\n      <td>0</td>\n      <td>0</td>\n      <td>1</td>\n      <td>0</td>\n      <td>0</td>\n      <td>0</td>\n      <td>0</td>\n      <td>0</td>\n      <td>0</td>\n      <td>0</td>\n      <td>37287562.0</td>\n    </tr>\n    <tr>\n      <th>89</th>\n      <td>1-506071646</td>\n      <td>1299572432</td>\n      <td>Accepted</td>\n      <td>In Progress</td>\n      <td>A2_1</td>\n      <td>Org line A2</td>\n      <td>D8</td>\n      <td>Medium</td>\n      <td>PROD542</td>\n      <td>nl</td>\n      <td>POLAND</td>\n      <td>81504.0</td>\n      <td>134.0</td>\n      <td>30032.0</td>\n      <td>Tuesday</td>\n      <td>37206058.0</td>\n      <td>9</td>\n      <td>6</td>\n      <td>0</td>\n      <td>0</td>\n      <td>0</td>\n      <td>1</td>\n      <td>0</td>\n      <td>0</td>\n      <td>0</td>\n      <td>0</td>\n      <td>0</td>\n      <td>0</td>\n      <td>0</td>\n      <td>37287562.0</td>\n    </tr>\n    <tr>\n      <th>90</th>\n      <td>1-506071646</td>\n      <td>1299572566</td>\n      <td>Accepted</td>\n      <td>Wait - User</td>\n      <td>A2_1</td>\n      <td>Org line A2</td>\n      <td>D8</td>\n      <td>Medium</td>\n      <td>PROD542</td>\n      <td>nl</td>\n      <td>POLAND</td>\n      <td>81638.0</td>\n      <td>134.0</td>\n      <td>30166.0</td>\n      <td>Tuesday</td>\n      <td>37205924.0</td>\n      <td>10</td>\n      <td>6</td>\n      <td>0</td>\n      <td>0</td>\n      <td>0</td>\n      <td>1</td>\n      <td>0</td>\n      <td>0</td>\n      <td>0</td>\n      <td>0</td>\n      <td>0</td>\n      <td>0</td>\n      <td>0</td>\n      <td>37287562.0</td>\n    </tr>\n    <tr>\n      <th>91</th>\n      <td>1-506071646</td>\n      <td>1299651374</td>\n      <td>Accepted</td>\n      <td>In Progress</td>\n      <td>A2_1</td>\n      <td>Org line A2</td>\n      <td>D8</td>\n      <td>Medium</td>\n      <td>PROD542</td>\n      <td>nl</td>\n      <td>POLAND</td>\n      <td>160446.0</td>\n      <td>78808.0</td>\n      <td>22574.0</td>\n      <td>Wednesday</td>\n      <td>37127116.0</td>\n      <td>10</td>\n      <td>6</td>\n      <td>0</td>\n      <td>0</td>\n      <td>0</td>\n      <td>2</td>\n      <td>0</td>\n      <td>0</td>\n      <td>0</td>\n      <td>0</td>\n      <td>0</td>\n      <td>0</td>\n      <td>0</td>\n      <td>37287562.0</td>\n    </tr>\n    <tr>\n      <th>92</th>\n      <td>1-506071646</td>\n      <td>1299651436</td>\n      <td>Queued</td>\n      <td>Awaiting Assignment</td>\n      <td>missing</td>\n      <td>Org line V7n</td>\n      <td>V37 2nd</td>\n      <td>Medium</td>\n      <td>PROD542</td>\n      <td>nl</td>\n      <td>POLAND</td>\n      <td>160508.0</td>\n      <td>62.0</td>\n      <td>22636.0</td>\n      <td>Wednesday</td>\n      <td>37127054.0</td>\n      <td>11</td>\n      <td>6</td>\n      <td>0</td>\n      <td>0</td>\n      <td>0</td>\n      <td>2</td>\n      <td>0</td>\n      <td>0</td>\n      <td>0</td>\n      <td>0</td>\n      <td>0</td>\n      <td>0</td>\n      <td>0</td>\n      <td>37287562.0</td>\n    </tr>\n    <tr>\n      <th>93</th>\n      <td>1-506071646</td>\n      <td>1299686621</td>\n      <td>Accepted</td>\n      <td>In Progress</td>\n      <td>missing</td>\n      <td>Org line V7n</td>\n      <td>V37 2nd</td>\n      <td>Medium</td>\n      <td>PROD542</td>\n      <td>nl</td>\n      <td>Netherlands</td>\n      <td>195693.0</td>\n      <td>35185.0</td>\n      <td>57821.0</td>\n      <td>Wednesday</td>\n      <td>37091869.0</td>\n      <td>11</td>\n      <td>7</td>\n      <td>0</td>\n      <td>0</td>\n      <td>0</td>\n      <td>2</td>\n      <td>0</td>\n      <td>0</td>\n      <td>0</td>\n      <td>0</td>\n      <td>0</td>\n      <td>0</td>\n      <td>0</td>\n      <td>37287562.0</td>\n    </tr>\n    <tr>\n      <th>94</th>\n      <td>1-506071646</td>\n      <td>1299686712</td>\n      <td>Queued</td>\n      <td>Awaiting Assignment</td>\n      <td>A2_1</td>\n      <td>Org line A2</td>\n      <td>D8</td>\n      <td>Medium</td>\n      <td>PROD542</td>\n      <td>nl</td>\n      <td>Netherlands</td>\n      <td>195784.0</td>\n      <td>91.0</td>\n      <td>57912.0</td>\n      <td>Wednesday</td>\n      <td>37091778.0</td>\n      <td>12</td>\n      <td>7</td>\n      <td>0</td>\n      <td>0</td>\n      <td>0</td>\n      <td>2</td>\n      <td>0</td>\n      <td>0</td>\n      <td>0</td>\n      <td>0</td>\n      <td>0</td>\n      <td>0</td>\n      <td>0</td>\n      <td>37287562.0</td>\n    </tr>\n    <tr>\n      <th>95</th>\n      <td>1-506071646</td>\n      <td>1299756545</td>\n      <td>Accepted</td>\n      <td>In Progress</td>\n      <td>A2_1</td>\n      <td>Org line A2</td>\n      <td>D8</td>\n      <td>Medium</td>\n      <td>PROD542</td>\n      <td>nl</td>\n      <td>POLAND</td>\n      <td>265617.0</td>\n      <td>69833.0</td>\n      <td>41345.0</td>\n      <td>Thursday</td>\n      <td>37021945.0</td>\n      <td>12</td>\n      <td>8</td>\n      <td>0</td>\n      <td>0</td>\n      <td>0</td>\n      <td>2</td>\n      <td>0</td>\n      <td>0</td>\n      <td>0</td>\n      <td>0</td>\n      <td>0</td>\n      <td>0</td>\n      <td>0</td>\n      <td>37287562.0</td>\n    </tr>\n    <tr>\n      <th>96</th>\n      <td>1-506071646</td>\n      <td>1299757653</td>\n      <td>Accepted</td>\n      <td>Wait - User</td>\n      <td>A2_1</td>\n      <td>Org line A2</td>\n      <td>D8</td>\n      <td>Medium</td>\n      <td>PROD542</td>\n      <td>nl</td>\n      <td>POLAND</td>\n      <td>266725.0</td>\n      <td>1108.0</td>\n      <td>42453.0</td>\n      <td>Thursday</td>\n      <td>37020837.0</td>\n      <td>13</td>\n      <td>8</td>\n      <td>0</td>\n      <td>0</td>\n      <td>0</td>\n      <td>2</td>\n      <td>0</td>\n      <td>0</td>\n      <td>0</td>\n      <td>0</td>\n      <td>0</td>\n      <td>0</td>\n      <td>0</td>\n      <td>37287562.0</td>\n    </tr>\n    <tr>\n      <th>97</th>\n      <td>1-506071646</td>\n      <td>1300094393</td>\n      <td>Accepted</td>\n      <td>In Progress</td>\n      <td>A2_1</td>\n      <td>Org line A2</td>\n      <td>D8</td>\n      <td>Medium</td>\n      <td>PROD542</td>\n      <td>nl</td>\n      <td>POLAND</td>\n      <td>603465.0</td>\n      <td>336740.0</td>\n      <td>33593.0</td>\n      <td>Monday</td>\n      <td>36684097.0</td>\n      <td>13</td>\n      <td>8</td>\n      <td>0</td>\n      <td>0</td>\n      <td>0</td>\n      <td>3</td>\n      <td>0</td>\n      <td>0</td>\n      <td>0</td>\n      <td>0</td>\n      <td>0</td>\n      <td>0</td>\n      <td>0</td>\n      <td>37287562.0</td>\n    </tr>\n    <tr>\n      <th>98</th>\n      <td>1-506071646</td>\n      <td>1300094910</td>\n      <td>Accepted</td>\n      <td>Assigned</td>\n      <td>A2_1</td>\n      <td>Org line A2</td>\n      <td>D8</td>\n      <td>Medium</td>\n      <td>PROD542</td>\n      <td>nl</td>\n      <td>POLAND</td>\n      <td>603982.0</td>\n      <td>517.0</td>\n      <td>34110.0</td>\n      <td>Monday</td>\n      <td>36683580.0</td>\n      <td>14</td>\n      <td>8</td>\n      <td>0</td>\n      <td>0</td>\n      <td>0</td>\n      <td>3</td>\n      <td>0</td>\n      <td>0</td>\n      <td>0</td>\n      <td>0</td>\n      <td>0</td>\n      <td>0</td>\n      <td>0</td>\n      <td>37287562.0</td>\n    </tr>\n    <tr>\n      <th>99</th>\n      <td>1-506071646</td>\n      <td>1300094915</td>\n      <td>Accepted</td>\n      <td>In Progress</td>\n      <td>A2_1</td>\n      <td>Org line A2</td>\n      <td>D8</td>\n      <td>Medium</td>\n      <td>PROD542</td>\n      <td>nl</td>\n      <td>POLAND</td>\n      <td>603987.0</td>\n      <td>5.0</td>\n      <td>34115.0</td>\n      <td>Monday</td>\n      <td>36683575.0</td>\n      <td>14</td>\n      <td>8</td>\n      <td>0</td>\n      <td>1</td>\n      <td>0</td>\n      <td>3</td>\n      <td>0</td>\n      <td>0</td>\n      <td>0</td>\n      <td>0</td>\n      <td>0</td>\n      <td>0</td>\n      <td>0</td>\n      <td>37287562.0</td>\n    </tr>\n    <tr>\n      <th>100</th>\n      <td>1-506071646</td>\n      <td>1300094953</td>\n      <td>Queued</td>\n      <td>Awaiting Assignment</td>\n      <td>missing</td>\n      <td>Org line V7n</td>\n      <td>V37 2nd</td>\n      <td>Medium</td>\n      <td>PROD542</td>\n      <td>nl</td>\n      <td>POLAND</td>\n      <td>604025.0</td>\n      <td>38.0</td>\n      <td>34153.0</td>\n      <td>Monday</td>\n      <td>36683537.0</td>\n      <td>15</td>\n      <td>8</td>\n      <td>0</td>\n      <td>1</td>\n      <td>0</td>\n      <td>3</td>\n      <td>0</td>\n      <td>0</td>\n      <td>0</td>\n      <td>0</td>\n      <td>0</td>\n      <td>0</td>\n      <td>0</td>\n      <td>37287562.0</td>\n    </tr>\n    <tr>\n      <th>101</th>\n      <td>1-506071646</td>\n      <td>1300095027</td>\n      <td>Accepted</td>\n      <td>In Progress</td>\n      <td>A2_1</td>\n      <td>Org line A2</td>\n      <td>D8</td>\n      <td>Medium</td>\n      <td>PROD542</td>\n      <td>nl</td>\n      <td>POLAND</td>\n      <td>604099.0</td>\n      <td>74.0</td>\n      <td>34227.0</td>\n      <td>Monday</td>\n      <td>36683463.0</td>\n      <td>15</td>\n      <td>9</td>\n      <td>0</td>\n      <td>1</td>\n      <td>0</td>\n      <td>3</td>\n      <td>0</td>\n      <td>0</td>\n      <td>0</td>\n      <td>0</td>\n      <td>0</td>\n      <td>0</td>\n      <td>0</td>\n      <td>37287562.0</td>\n    </tr>\n    <tr>\n      <th>102</th>\n      <td>1-506071646</td>\n      <td>1300095439</td>\n      <td>Queued</td>\n      <td>Awaiting Assignment</td>\n      <td>missing</td>\n      <td>Org line V7n</td>\n      <td>V37 2nd</td>\n      <td>Medium</td>\n      <td>PROD542</td>\n      <td>nl</td>\n      <td>POLAND</td>\n      <td>604511.0</td>\n      <td>412.0</td>\n      <td>34639.0</td>\n      <td>Monday</td>\n      <td>36683051.0</td>\n      <td>16</td>\n      <td>9</td>\n      <td>0</td>\n      <td>1</td>\n      <td>0</td>\n      <td>3</td>\n      <td>0</td>\n      <td>0</td>\n      <td>0</td>\n      <td>0</td>\n      <td>0</td>\n      <td>0</td>\n      <td>0</td>\n      <td>37287562.0</td>\n    </tr>\n    <tr>\n      <th>103</th>\n      <td>1-506071646</td>\n      <td>1300182077</td>\n      <td>Accepted</td>\n      <td>In Progress</td>\n      <td>missing</td>\n      <td>Org line V7n</td>\n      <td>V37 2nd</td>\n      <td>Medium</td>\n      <td>PROD542</td>\n      <td>nl</td>\n      <td>Netherlands</td>\n      <td>691149.0</td>\n      <td>86638.0</td>\n      <td>34877.0</td>\n      <td>Tuesday</td>\n      <td>36596413.0</td>\n      <td>16</td>\n      <td>10</td>\n      <td>0</td>\n      <td>1</td>\n      <td>0</td>\n      <td>3</td>\n      <td>0</td>\n      <td>0</td>\n      <td>0</td>\n      <td>0</td>\n      <td>0</td>\n      <td>0</td>\n      <td>0</td>\n      <td>37287562.0</td>\n    </tr>\n    <tr>\n      <th>104</th>\n      <td>1-506071646</td>\n      <td>1300182816</td>\n      <td>Queued</td>\n      <td>Awaiting Assignment</td>\n      <td>A2_1</td>\n      <td>Org line A2</td>\n      <td>D8</td>\n      <td>Medium</td>\n      <td>PROD542</td>\n      <td>nl</td>\n      <td>Netherlands</td>\n      <td>691888.0</td>\n      <td>739.0</td>\n      <td>35616.0</td>\n      <td>Tuesday</td>\n      <td>36595674.0</td>\n      <td>17</td>\n      <td>10</td>\n      <td>0</td>\n      <td>1</td>\n      <td>0</td>\n      <td>3</td>\n      <td>0</td>\n      <td>0</td>\n      <td>0</td>\n      <td>0</td>\n      <td>0</td>\n      <td>0</td>\n      <td>0</td>\n      <td>37287562.0</td>\n    </tr>\n    <tr>\n      <th>105</th>\n      <td>1-506071646</td>\n      <td>1300183218</td>\n      <td>Accepted</td>\n      <td>In Progress</td>\n      <td>A2_1</td>\n      <td>Org line A2</td>\n      <td>D8</td>\n      <td>Medium</td>\n      <td>PROD542</td>\n      <td>nl</td>\n      <td>POLAND</td>\n      <td>692290.0</td>\n      <td>402.0</td>\n      <td>36018.0</td>\n      <td>Tuesday</td>\n      <td>36595272.0</td>\n      <td>17</td>\n      <td>11</td>\n      <td>0</td>\n      <td>1</td>\n      <td>0</td>\n      <td>3</td>\n      <td>0</td>\n      <td>0</td>\n      <td>0</td>\n      <td>0</td>\n      <td>0</td>\n      <td>0</td>\n      <td>0</td>\n      <td>37287562.0</td>\n    </tr>\n    <tr>\n      <th>106</th>\n      <td>1-506071646</td>\n      <td>1300183972</td>\n      <td>Queued</td>\n      <td>Awaiting Assignment</td>\n      <td>missing</td>\n      <td>Org line V7n</td>\n      <td>V37 2nd</td>\n      <td>Medium</td>\n      <td>PROD542</td>\n      <td>nl</td>\n      <td>POLAND</td>\n      <td>693044.0</td>\n      <td>754.0</td>\n      <td>36772.0</td>\n      <td>Tuesday</td>\n      <td>36594518.0</td>\n      <td>18</td>\n      <td>11</td>\n      <td>0</td>\n      <td>1</td>\n      <td>0</td>\n      <td>3</td>\n      <td>0</td>\n      <td>0</td>\n      <td>0</td>\n      <td>0</td>\n      <td>0</td>\n      <td>0</td>\n      <td>0</td>\n      <td>37287562.0</td>\n    </tr>\n    <tr>\n      <th>107</th>\n      <td>1-506071646</td>\n      <td>1300184509</td>\n      <td>Accepted</td>\n      <td>In Progress</td>\n      <td>missing</td>\n      <td>Org line V7n</td>\n      <td>V37 2nd</td>\n      <td>Medium</td>\n      <td>PROD542</td>\n      <td>nl</td>\n      <td>Netherlands</td>\n      <td>693581.0</td>\n      <td>537.0</td>\n      <td>37309.0</td>\n      <td>Tuesday</td>\n      <td>36593981.0</td>\n      <td>18</td>\n      <td>12</td>\n      <td>0</td>\n      <td>1</td>\n      <td>0</td>\n      <td>3</td>\n      <td>0</td>\n      <td>0</td>\n      <td>0</td>\n      <td>0</td>\n      <td>0</td>\n      <td>0</td>\n      <td>0</td>\n      <td>37287562.0</td>\n    </tr>\n    <tr>\n      <th>108</th>\n      <td>1-506071646</td>\n      <td>1300184638</td>\n      <td>Queued</td>\n      <td>Awaiting Assignment</td>\n      <td>A2_1</td>\n      <td>Org line A2</td>\n      <td>D8</td>\n      <td>Medium</td>\n      <td>PROD542</td>\n      <td>nl</td>\n      <td>Netherlands</td>\n      <td>693710.0</td>\n      <td>129.0</td>\n      <td>37438.0</td>\n      <td>Tuesday</td>\n      <td>36593852.0</td>\n      <td>19</td>\n      <td>12</td>\n      <td>0</td>\n      <td>1</td>\n      <td>0</td>\n      <td>3</td>\n      <td>0</td>\n      <td>0</td>\n      <td>0</td>\n      <td>0</td>\n      <td>0</td>\n      <td>0</td>\n      <td>0</td>\n      <td>37287562.0</td>\n    </tr>\n    <tr>\n      <th>109</th>\n      <td>1-506071646</td>\n      <td>1300184848</td>\n      <td>Accepted</td>\n      <td>In Progress</td>\n      <td>A2_1</td>\n      <td>Org line A2</td>\n      <td>D8</td>\n      <td>Medium</td>\n      <td>PROD542</td>\n      <td>nl</td>\n      <td>POLAND</td>\n      <td>693920.0</td>\n      <td>210.0</td>\n      <td>37648.0</td>\n      <td>Tuesday</td>\n      <td>36593642.0</td>\n      <td>19</td>\n      <td>13</td>\n      <td>0</td>\n      <td>1</td>\n      <td>0</td>\n      <td>3</td>\n      <td>0</td>\n      <td>0</td>\n      <td>0</td>\n      <td>0</td>\n      <td>0</td>\n      <td>0</td>\n      <td>0</td>\n      <td>37287562.0</td>\n    </tr>\n  </tbody>\n</table>\n</div>"
     },
     "execution_count": 53,
     "metadata": {},
     "output_type": "execute_result"
    }
   ],
   "source": [
    "sidx = 60\n",
    "eidx = 110\n",
    "\n",
    "df_train[sidx: eidx]\n",
    "# df_train[sidx: eidx]"
   ],
   "metadata": {
    "collapsed": false
   }
  },
  {
   "cell_type": "code",
   "execution_count": 58,
   "outputs": [
    {
     "name": "stderr",
     "output_type": "stream",
     "text": [
      "100%|██████████| 1/1 [00:07<00:00,  7.28s/it]"
     ]
    },
    {
     "name": "stdout",
     "output_type": "stream",
     "text": [
      "Query instance (original outcome : 32735702)\n"
     ]
    },
    {
     "name": "stderr",
     "output_type": "stream",
     "text": [
      "\n"
     ]
    },
    {
     "data": {
      "text/plain": "   Status             ACTIVITY Involved_ST_Function_Div Involved_Org_line_3  \\\n0  Queued  Awaiting Assignment                     A2_1         Org line A2   \n\n  Involved_ST SR_Latest_Impact  Product Country Owner_Country  \\\n0          D8           Medium  PROD542      nl   Netherlands   \n\n   time_from_first  time_from_previous_et  time_from_midnight    weekday  \\\n0         195784.0                   91.0             57912.0  Wednesday   \n\n   # ACTIVITY=In Progress  # ACTIVITY=Awaiting Assignment  \\\n0                      12                               7   \n\n   # ACTIVITY=Resolved  # ACTIVITY=Assigned  # ACTIVITY=Closed  \\\n0                    0                    0                  0   \n\n   # ACTIVITY=Wait - User  # ACTIVITY=Wait - Implementation  # ACTIVITY=Wait  \\\n0                       2                                 0                0   \n\n   # ACTIVITY=Wait - Vendor  # ACTIVITY=In Call  # ACTIVITY=Wait - Customer  \\\n0                         0                   0                           0   \n\n   # ACTIVITY=Unmatched  # ACTIVITY=Cancelled   lead_time  \n0                     0                     0  32735702.0  ",
      "text/html": "<div>\n<style scoped>\n    .dataframe tbody tr th:only-of-type {\n        vertical-align: middle;\n    }\n\n    .dataframe tbody tr th {\n        vertical-align: top;\n    }\n\n    .dataframe thead th {\n        text-align: right;\n    }\n</style>\n<table border=\"1\" class=\"dataframe\">\n  <thead>\n    <tr style=\"text-align: right;\">\n      <th></th>\n      <th>Status</th>\n      <th>ACTIVITY</th>\n      <th>Involved_ST_Function_Div</th>\n      <th>Involved_Org_line_3</th>\n      <th>Involved_ST</th>\n      <th>SR_Latest_Impact</th>\n      <th>Product</th>\n      <th>Country</th>\n      <th>Owner_Country</th>\n      <th>time_from_first</th>\n      <th>time_from_previous_et</th>\n      <th>time_from_midnight</th>\n      <th>weekday</th>\n      <th># ACTIVITY=In Progress</th>\n      <th># ACTIVITY=Awaiting Assignment</th>\n      <th># ACTIVITY=Resolved</th>\n      <th># ACTIVITY=Assigned</th>\n      <th># ACTIVITY=Closed</th>\n      <th># ACTIVITY=Wait - User</th>\n      <th># ACTIVITY=Wait - Implementation</th>\n      <th># ACTIVITY=Wait</th>\n      <th># ACTIVITY=Wait - Vendor</th>\n      <th># ACTIVITY=In Call</th>\n      <th># ACTIVITY=Wait - Customer</th>\n      <th># ACTIVITY=Unmatched</th>\n      <th># ACTIVITY=Cancelled</th>\n      <th>lead_time</th>\n    </tr>\n  </thead>\n  <tbody>\n    <tr>\n      <th>0</th>\n      <td>Queued</td>\n      <td>Awaiting Assignment</td>\n      <td>A2_1</td>\n      <td>Org line A2</td>\n      <td>D8</td>\n      <td>Medium</td>\n      <td>PROD542</td>\n      <td>nl</td>\n      <td>Netherlands</td>\n      <td>195784.0</td>\n      <td>91.0</td>\n      <td>57912.0</td>\n      <td>Wednesday</td>\n      <td>12</td>\n      <td>7</td>\n      <td>0</td>\n      <td>0</td>\n      <td>0</td>\n      <td>2</td>\n      <td>0</td>\n      <td>0</td>\n      <td>0</td>\n      <td>0</td>\n      <td>0</td>\n      <td>0</td>\n      <td>0</td>\n      <td>32735702.0</td>\n    </tr>\n  </tbody>\n</table>\n</div>"
     },
     "metadata": {},
     "output_type": "display_data"
    },
    {
     "name": "stdout",
     "output_type": "stream",
     "text": [
      "\n",
      "Diverse Counterfactual set (new outcome: [0, 33558805])\n"
     ]
    },
    {
     "data": {
      "text/plain": "    Status         ACTIVITY Involved_ST_Function_Div Involved_Org_line_3  \\\n0        -                -                        -                   -   \n1        -        Unmatched                      E_6                   -   \n2        -  Wait - Customer                        -                   -   \n3        -                -                        -                   -   \n4        -        Unmatched                        -         Org line V7   \n..     ...              ...                      ...                 ...   \n195      -          In Call                      E_4                   -   \n196      -           Closed                        -         Org line G1   \n197      -                -                        -                   -   \n198      -                -                        -                   -   \n199      -                -                        -                   -   \n\n    Involved_ST SR_Latest_Impact Product Country Owner_Country  \\\n0       V12 3rd                -       -       -             -   \n1             -                -       -       -             -   \n2          G179                -       -       -             -   \n3            D9                -       -       -             -   \n4             -                -       -       -             -   \n..          ...              ...     ...     ...           ...   \n195           -                -       -       -             -   \n196           -                -       -       -             -   \n197          U2                -       -       -             -   \n198    G142 2nd                -       -       -             -   \n199         V33                -       -       -             -   \n\n    time_from_first time_from_previous_et time_from_midnight weekday  \\\n0                 -                     -                  -       -   \n1                 -                     -                  -       -   \n2                 -                     -                  -       -   \n3                 -                     -                  -       -   \n4                 -                     -                  -       -   \n..              ...                   ...                ...     ...   \n195               -                     -                  -       -   \n196               -                     -                  -       -   \n197               -                     -                  -       -   \n198               -                     -                  -       -   \n199               -                     -                  -       -   \n\n    # ACTIVITY=In Progress # ACTIVITY=Awaiting Assignment # ACTIVITY=Resolved  \\\n0                        -                              -                   -   \n1                        -                              -                   -   \n2                        -                              -                   -   \n3                        -                              -                   -   \n4                        -                              -                   -   \n..                     ...                            ...                 ...   \n195                      -                              -                   -   \n196                      -                              -                   -   \n197                      -                              -                   -   \n198                      -                              -                   -   \n199                      -                              -                   -   \n\n    # ACTIVITY=Assigned # ACTIVITY=Closed # ACTIVITY=Wait - User  \\\n0                     -                 -                      -   \n1                     -                 -                      -   \n2                     -                 -                      -   \n3                     -                 -                      -   \n4                     -                 -                      -   \n..                  ...               ...                    ...   \n195                   -                 -                      -   \n196                   -                 -                      -   \n197                   -                 -                      -   \n198                   -                 -                      -   \n199                   -                 -                      -   \n\n    # ACTIVITY=Wait - Implementation # ACTIVITY=Wait # ACTIVITY=Wait - Vendor  \\\n0                                  -               -                        -   \n1                                  -               -                        -   \n2                                  -               -                        -   \n3                                  -               -                        -   \n4                                  -               -                        -   \n..                               ...             ...                      ...   \n195                                -               -                        -   \n196                                -               -                        -   \n197                                -               -                        -   \n198                                -               -                        -   \n199                                -               -                        -   \n\n    # ACTIVITY=In Call # ACTIVITY=Wait - Customer # ACTIVITY=Unmatched  \\\n0                    -                          -                    -   \n1                    -                          -                    -   \n2                    -                          -                    -   \n3                    -                          -                    -   \n4                    -                          -                    -   \n..                 ...                        ...                  ...   \n195                  -                          -                    -   \n196                  -                          -                    -   \n197                  -                          -                    -   \n198                  -                          -                    -   \n199                  -                          -                    -   \n\n    # ACTIVITY=Cancelled   lead_time  \n0                      -  23627424.0  \n1                      -           -  \n2                      -  23814848.0  \n3                      -  23627424.0  \n4                      -  31255762.0  \n..                   ...         ...  \n195                    -           -  \n196                    -  31255762.0  \n197                    -  23627424.0  \n198                    -  23627424.0  \n199                    -  23627424.0  \n\n[200 rows x 27 columns]",
      "text/html": "<div>\n<style scoped>\n    .dataframe tbody tr th:only-of-type {\n        vertical-align: middle;\n    }\n\n    .dataframe tbody tr th {\n        vertical-align: top;\n    }\n\n    .dataframe thead th {\n        text-align: right;\n    }\n</style>\n<table border=\"1\" class=\"dataframe\">\n  <thead>\n    <tr style=\"text-align: right;\">\n      <th></th>\n      <th>Status</th>\n      <th>ACTIVITY</th>\n      <th>Involved_ST_Function_Div</th>\n      <th>Involved_Org_line_3</th>\n      <th>Involved_ST</th>\n      <th>SR_Latest_Impact</th>\n      <th>Product</th>\n      <th>Country</th>\n      <th>Owner_Country</th>\n      <th>time_from_first</th>\n      <th>time_from_previous_et</th>\n      <th>time_from_midnight</th>\n      <th>weekday</th>\n      <th># ACTIVITY=In Progress</th>\n      <th># ACTIVITY=Awaiting Assignment</th>\n      <th># ACTIVITY=Resolved</th>\n      <th># ACTIVITY=Assigned</th>\n      <th># ACTIVITY=Closed</th>\n      <th># ACTIVITY=Wait - User</th>\n      <th># ACTIVITY=Wait - Implementation</th>\n      <th># ACTIVITY=Wait</th>\n      <th># ACTIVITY=Wait - Vendor</th>\n      <th># ACTIVITY=In Call</th>\n      <th># ACTIVITY=Wait - Customer</th>\n      <th># ACTIVITY=Unmatched</th>\n      <th># ACTIVITY=Cancelled</th>\n      <th>lead_time</th>\n    </tr>\n  </thead>\n  <tbody>\n    <tr>\n      <th>0</th>\n      <td>-</td>\n      <td>-</td>\n      <td>-</td>\n      <td>-</td>\n      <td>V12 3rd</td>\n      <td>-</td>\n      <td>-</td>\n      <td>-</td>\n      <td>-</td>\n      <td>-</td>\n      <td>-</td>\n      <td>-</td>\n      <td>-</td>\n      <td>-</td>\n      <td>-</td>\n      <td>-</td>\n      <td>-</td>\n      <td>-</td>\n      <td>-</td>\n      <td>-</td>\n      <td>-</td>\n      <td>-</td>\n      <td>-</td>\n      <td>-</td>\n      <td>-</td>\n      <td>-</td>\n      <td>23627424.0</td>\n    </tr>\n    <tr>\n      <th>1</th>\n      <td>-</td>\n      <td>Unmatched</td>\n      <td>E_6</td>\n      <td>-</td>\n      <td>-</td>\n      <td>-</td>\n      <td>-</td>\n      <td>-</td>\n      <td>-</td>\n      <td>-</td>\n      <td>-</td>\n      <td>-</td>\n      <td>-</td>\n      <td>-</td>\n      <td>-</td>\n      <td>-</td>\n      <td>-</td>\n      <td>-</td>\n      <td>-</td>\n      <td>-</td>\n      <td>-</td>\n      <td>-</td>\n      <td>-</td>\n      <td>-</td>\n      <td>-</td>\n      <td>-</td>\n      <td>-</td>\n    </tr>\n    <tr>\n      <th>2</th>\n      <td>-</td>\n      <td>Wait - Customer</td>\n      <td>-</td>\n      <td>-</td>\n      <td>G179</td>\n      <td>-</td>\n      <td>-</td>\n      <td>-</td>\n      <td>-</td>\n      <td>-</td>\n      <td>-</td>\n      <td>-</td>\n      <td>-</td>\n      <td>-</td>\n      <td>-</td>\n      <td>-</td>\n      <td>-</td>\n      <td>-</td>\n      <td>-</td>\n      <td>-</td>\n      <td>-</td>\n      <td>-</td>\n      <td>-</td>\n      <td>-</td>\n      <td>-</td>\n      <td>-</td>\n      <td>23814848.0</td>\n    </tr>\n    <tr>\n      <th>3</th>\n      <td>-</td>\n      <td>-</td>\n      <td>-</td>\n      <td>-</td>\n      <td>D9</td>\n      <td>-</td>\n      <td>-</td>\n      <td>-</td>\n      <td>-</td>\n      <td>-</td>\n      <td>-</td>\n      <td>-</td>\n      <td>-</td>\n      <td>-</td>\n      <td>-</td>\n      <td>-</td>\n      <td>-</td>\n      <td>-</td>\n      <td>-</td>\n      <td>-</td>\n      <td>-</td>\n      <td>-</td>\n      <td>-</td>\n      <td>-</td>\n      <td>-</td>\n      <td>-</td>\n      <td>23627424.0</td>\n    </tr>\n    <tr>\n      <th>4</th>\n      <td>-</td>\n      <td>Unmatched</td>\n      <td>-</td>\n      <td>Org line V7</td>\n      <td>-</td>\n      <td>-</td>\n      <td>-</td>\n      <td>-</td>\n      <td>-</td>\n      <td>-</td>\n      <td>-</td>\n      <td>-</td>\n      <td>-</td>\n      <td>-</td>\n      <td>-</td>\n      <td>-</td>\n      <td>-</td>\n      <td>-</td>\n      <td>-</td>\n      <td>-</td>\n      <td>-</td>\n      <td>-</td>\n      <td>-</td>\n      <td>-</td>\n      <td>-</td>\n      <td>-</td>\n      <td>31255762.0</td>\n    </tr>\n    <tr>\n      <th>...</th>\n      <td>...</td>\n      <td>...</td>\n      <td>...</td>\n      <td>...</td>\n      <td>...</td>\n      <td>...</td>\n      <td>...</td>\n      <td>...</td>\n      <td>...</td>\n      <td>...</td>\n      <td>...</td>\n      <td>...</td>\n      <td>...</td>\n      <td>...</td>\n      <td>...</td>\n      <td>...</td>\n      <td>...</td>\n      <td>...</td>\n      <td>...</td>\n      <td>...</td>\n      <td>...</td>\n      <td>...</td>\n      <td>...</td>\n      <td>...</td>\n      <td>...</td>\n      <td>...</td>\n      <td>...</td>\n    </tr>\n    <tr>\n      <th>195</th>\n      <td>-</td>\n      <td>In Call</td>\n      <td>E_4</td>\n      <td>-</td>\n      <td>-</td>\n      <td>-</td>\n      <td>-</td>\n      <td>-</td>\n      <td>-</td>\n      <td>-</td>\n      <td>-</td>\n      <td>-</td>\n      <td>-</td>\n      <td>-</td>\n      <td>-</td>\n      <td>-</td>\n      <td>-</td>\n      <td>-</td>\n      <td>-</td>\n      <td>-</td>\n      <td>-</td>\n      <td>-</td>\n      <td>-</td>\n      <td>-</td>\n      <td>-</td>\n      <td>-</td>\n      <td>-</td>\n    </tr>\n    <tr>\n      <th>196</th>\n      <td>-</td>\n      <td>Closed</td>\n      <td>-</td>\n      <td>Org line G1</td>\n      <td>-</td>\n      <td>-</td>\n      <td>-</td>\n      <td>-</td>\n      <td>-</td>\n      <td>-</td>\n      <td>-</td>\n      <td>-</td>\n      <td>-</td>\n      <td>-</td>\n      <td>-</td>\n      <td>-</td>\n      <td>-</td>\n      <td>-</td>\n      <td>-</td>\n      <td>-</td>\n      <td>-</td>\n      <td>-</td>\n      <td>-</td>\n      <td>-</td>\n      <td>-</td>\n      <td>-</td>\n      <td>31255762.0</td>\n    </tr>\n    <tr>\n      <th>197</th>\n      <td>-</td>\n      <td>-</td>\n      <td>-</td>\n      <td>-</td>\n      <td>U2</td>\n      <td>-</td>\n      <td>-</td>\n      <td>-</td>\n      <td>-</td>\n      <td>-</td>\n      <td>-</td>\n      <td>-</td>\n      <td>-</td>\n      <td>-</td>\n      <td>-</td>\n      <td>-</td>\n      <td>-</td>\n      <td>-</td>\n      <td>-</td>\n      <td>-</td>\n      <td>-</td>\n      <td>-</td>\n      <td>-</td>\n      <td>-</td>\n      <td>-</td>\n      <td>-</td>\n      <td>23627424.0</td>\n    </tr>\n    <tr>\n      <th>198</th>\n      <td>-</td>\n      <td>-</td>\n      <td>-</td>\n      <td>-</td>\n      <td>G142 2nd</td>\n      <td>-</td>\n      <td>-</td>\n      <td>-</td>\n      <td>-</td>\n      <td>-</td>\n      <td>-</td>\n      <td>-</td>\n      <td>-</td>\n      <td>-</td>\n      <td>-</td>\n      <td>-</td>\n      <td>-</td>\n      <td>-</td>\n      <td>-</td>\n      <td>-</td>\n      <td>-</td>\n      <td>-</td>\n      <td>-</td>\n      <td>-</td>\n      <td>-</td>\n      <td>-</td>\n      <td>23627424.0</td>\n    </tr>\n    <tr>\n      <th>199</th>\n      <td>-</td>\n      <td>-</td>\n      <td>-</td>\n      <td>-</td>\n      <td>V33</td>\n      <td>-</td>\n      <td>-</td>\n      <td>-</td>\n      <td>-</td>\n      <td>-</td>\n      <td>-</td>\n      <td>-</td>\n      <td>-</td>\n      <td>-</td>\n      <td>-</td>\n      <td>-</td>\n      <td>-</td>\n      <td>-</td>\n      <td>-</td>\n      <td>-</td>\n      <td>-</td>\n      <td>-</td>\n      <td>-</td>\n      <td>-</td>\n      <td>-</td>\n      <td>-</td>\n      <td>23627424.0</td>\n    </tr>\n  </tbody>\n</table>\n<p>200 rows × 27 columns</p>\n</div>"
     },
     "metadata": {},
     "output_type": "display_data"
    }
   ],
   "source": [
    "sidx = 94\n",
    "eidx = 95\n",
    "total_time_upper_bound = int( y_train[sidx] * (90 / 100) )  # A percentage of the original total time of the trace\n",
    "query_instances = X_train[sidx: eidx]\n",
    "if method == \"genetic\":  # or method == \"kdtree\":\n",
    "    feature_weights = {\"ACTIVITY\": 1.0, \"Involved_ST_Function_Div\": 1.0, \"Involved_Org_line_3\": 1.0, \"Involved_ST\": 1.0}\n",
    "    # feature_weights = {\"ACTIVITY\": 1, \"Involved_ST_Function_Div\": 1}\n",
    "    cfe = exp_genetic_iris.generate_counterfactuals(query_instances, total_CFs=15, desired_range=[0, total_time_upper_bound], features_to_vary=cols_to_vary,\n",
    "                                                    feature_weights=feature_weights)\n",
    "else:\n",
    "    cfe = exp_genetic_iris.generate_counterfactuals(query_instances, total_CFs=200, desired_range=[0, total_time_upper_bound], features_to_vary=cols_to_vary)\n",
    "\n",
    "cfe.visualize_as_dataframe(show_only_changes=True)"
   ],
   "metadata": {
    "collapsed": false
   }
  },
  {
   "cell_type": "markdown",
   "source": [
    "## Apply Transition System Validation to the above Single Query Results"
   ],
   "metadata": {
    "collapsed": false
   }
  },
  {
   "cell_type": "code",
   "execution_count": 25,
   "outputs": [],
   "source": [
    "window_size = 3\n",
    "activity_n_resources_columns = [\"ACTIVITY\", \"Involved_ST_Function_Div\"]\n",
    "\n",
    "# === Load the Transition Graph\n",
    "_, transition_graph = transition_system(df, case_id_name=case_id_name, activity_column_name=activity_column_name, window_size=window_size)"
   ],
   "metadata": {
    "collapsed": false
   }
  },
  {
   "cell_type": "code",
   "execution_count": 60,
   "outputs": [],
   "source": [
    "def validate_transition(cfe, transition_graph=transition_graph, window_size=window_size):\n",
    "    \"\"\"  resource_columns_to_validate=None possible future parameter\n",
    "    Args:\n",
    "        cfe (dice_ml.counterfactual_explanations.CounterfactualExplanations): Dice counterfactual explanations object.\n",
    "    \"\"\"\n",
    "    # if resource_columns_to_validate is None:\n",
    "    #     activity_n_resources_columns = [\"ACTIVITY\", \"Involved_ST_Function_Div\"]\n",
    "    cf_examples_df = cfe.cf_examples_list[0].final_cfs_df.copy()  # Get the counterfactual explanations dataframe from the object\n",
    "\n",
    "    # === Get the prefix of trace for which to validate the next activity\n",
    "    query_case_id = get_case_id( df_train[sidx: eidx] )\n",
    "    df_query = df_train[ df_train[case_id_name] == query_case_id ]\n",
    "\n",
    "    index_to_previous_activity = sidx - 1\n",
    "\n",
    "    start_index, end_index = indexs_for_window(index_to_previous_activity, window_size=window_size, end_exclusive=False)\n",
    "    prefix_of_activities = df_query.loc[start_index: end_index, activity_column_name].to_list()  # loc is used to access the index values inside the dataframe\n",
    "    prefix_of_activities = list_to_str(prefix_of_activities)\n",
    "\n",
    "    # === Verify the next activity\n",
    "    indexes_to_drop = []\n",
    "    for i, suggested_next_activity in cf_examples_df[activity_column_name].items():\n",
    "        if suggested_next_activity not in transition_graph[prefix_of_activities]:\n",
    "            indexes_to_drop.append(i)\n",
    "            print(i, suggested_next_activity)\n",
    "\n",
    "    cf_examples_df = cf_examples_df.drop(indexes_to_drop, axis='index').reset_index(drop=True)\n",
    "\n",
    "    # === Verify the associated resources\n",
    "    indexes_to_drop = []\n",
    "    for i, row in cf_examples_df[ resource_columns_to_validate ].iterrows():\n",
    "        row_tuple = tuple(row)\n",
    "        if row_tuple not in valid_resources:\n",
    "            # print(f\"removed row had: {row_tuple}\")\n",
    "            indexes_to_drop.append(i)\n",
    "\n",
    "    cf_examples_df = cf_examples_df.drop(indexes_to_drop, axis='index').reset_index(drop=True)\n",
    "    return cf_examples_df\n",
    "\n",
    "# cf_examples_df = cfe.cf_examples_list[0].final_cfs_df.copy()\n",
    "# # === Get the prefix of trace for which to validate the next activity\n",
    "# query_case_id = get_case_id( df_train[sidx: eidx] )\n",
    "# df_query = df_train[ df_train[case_id_name] == query_case_id ]\n",
    "#\n",
    "# index_to_previous_activity = sidx - 1\n",
    "#\n",
    "# start_index, end_index = indexs_for_window(index_to_previous_activity, window_size=window_size, end_exclusive=False)\n",
    "# prefix_of_activities = df_query.loc[start_index: end_index, activity_column_name].to_list()  # loc is used to access the index values inside the dataframe\n",
    "# prefix_of_activities = list_to_str(prefix_of_activities)\n",
    "#\n",
    "# # === Verify the next activity\n",
    "# indexes_to_drop = []\n",
    "# for i, suggested_next_activity in cf_examples_df[activity_column_name].items():\n",
    "#     if suggested_next_activity not in transition_graph[prefix_of_activities]:\n",
    "#         indexes_to_drop.append(i)\n",
    "#         # print(i, suggested_next_activity)\n",
    "#\n",
    "# cf_examples_df = cf_examples_df.drop(indexes_to_drop, axis='index').reset_index(drop=True)\n",
    "# print(\"Length of cf_examples_df\", len(cf_examples_df))\n",
    "#\n",
    "# # === Verify the associated resources\n",
    "# indexes_to_drop = []\n",
    "# for idx, row in cf_examples_df[ resource_columns_to_validate ].iterrows():\n",
    "#     row_tuple = tuple(row)\n",
    "#     print(\"row tip\",row_tuple)\n",
    "#     if row_tuple not in valid_resources:\n",
    "#         # print(f\"removed row had: {row_tuple}\")\n",
    "#         indexes_to_drop.append(idx)\n",
    "#\n",
    "# cf_examples_df = cf_examples_df.drop(indexes_to_drop, axis='index').reset_index(drop=True)\n",
    "# cf_examples_df\n",
    "# # cf_examples_df = validate_transition(cfe, resource_columns_to_validate)"
   ],
   "metadata": {
    "collapsed": false
   }
  },
  {
   "cell_type": "code",
   "execution_count": 61,
   "outputs": [],
   "source": [
    "# list( filter(lambda x: x[4] == \"nl\" and x[5] == \"Netherlands\", valid_resources) )"
   ],
   "metadata": {
    "collapsed": false
   }
  },
  {
   "cell_type": "code",
   "execution_count": 230,
   "outputs": [
    {
     "name": "stdout",
     "output_type": "stream",
     "text": [
      "Query instance (original outcome : 41260204)\n"
     ]
    },
    {
     "data": {
      "text/plain": "     Status  ACTIVITY Involved_ST_Function_Div Involved_Org_line_3  \\\n0  Accepted  Assigned                     E_10          Org line C   \n\n  Involved_ST SR_Latest_Impact  Product Country Owner_Country  \\\n0    G140 2nd           Medium  PROD453      se        Sweden   \n\n   time_from_first  time_from_previous_et  time_from_midnight weekday  \\\n0        3617038.0               321053.0             24980.0  Monday   \n\n   # ACTIVITY=In Progress  # ACTIVITY=Awaiting Assignment  \\\n0                       7                               2   \n\n   # ACTIVITY=Resolved  # ACTIVITY=Assigned  # ACTIVITY=Closed  \\\n0                    0                    1                  0   \n\n   # ACTIVITY=Wait - User  # ACTIVITY=Wait - Implementation  # ACTIVITY=Wait  \\\n0                       2                                 2                1   \n\n   # ACTIVITY=Wait - Vendor  # ACTIVITY=In Call  # ACTIVITY=Wait - Customer  \\\n0                         0                   0                           0   \n\n   # ACTIVITY=Unmatched  # ACTIVITY=Cancelled   lead_time  \n0                     0                     0  41260204.0  ",
      "text/html": "<div>\n<style scoped>\n    .dataframe tbody tr th:only-of-type {\n        vertical-align: middle;\n    }\n\n    .dataframe tbody tr th {\n        vertical-align: top;\n    }\n\n    .dataframe thead th {\n        text-align: right;\n    }\n</style>\n<table border=\"1\" class=\"dataframe\">\n  <thead>\n    <tr style=\"text-align: right;\">\n      <th></th>\n      <th>Status</th>\n      <th>ACTIVITY</th>\n      <th>Involved_ST_Function_Div</th>\n      <th>Involved_Org_line_3</th>\n      <th>Involved_ST</th>\n      <th>SR_Latest_Impact</th>\n      <th>Product</th>\n      <th>Country</th>\n      <th>Owner_Country</th>\n      <th>time_from_first</th>\n      <th>time_from_previous_et</th>\n      <th>time_from_midnight</th>\n      <th>weekday</th>\n      <th># ACTIVITY=In Progress</th>\n      <th># ACTIVITY=Awaiting Assignment</th>\n      <th># ACTIVITY=Resolved</th>\n      <th># ACTIVITY=Assigned</th>\n      <th># ACTIVITY=Closed</th>\n      <th># ACTIVITY=Wait - User</th>\n      <th># ACTIVITY=Wait - Implementation</th>\n      <th># ACTIVITY=Wait</th>\n      <th># ACTIVITY=Wait - Vendor</th>\n      <th># ACTIVITY=In Call</th>\n      <th># ACTIVITY=Wait - Customer</th>\n      <th># ACTIVITY=Unmatched</th>\n      <th># ACTIVITY=Cancelled</th>\n      <th>lead_time</th>\n    </tr>\n  </thead>\n  <tbody>\n    <tr>\n      <th>0</th>\n      <td>Accepted</td>\n      <td>Assigned</td>\n      <td>E_10</td>\n      <td>Org line C</td>\n      <td>G140 2nd</td>\n      <td>Medium</td>\n      <td>PROD453</td>\n      <td>se</td>\n      <td>Sweden</td>\n      <td>3617038.0</td>\n      <td>321053.0</td>\n      <td>24980.0</td>\n      <td>Monday</td>\n      <td>7</td>\n      <td>2</td>\n      <td>0</td>\n      <td>1</td>\n      <td>0</td>\n      <td>2</td>\n      <td>2</td>\n      <td>1</td>\n      <td>0</td>\n      <td>0</td>\n      <td>0</td>\n      <td>0</td>\n      <td>0</td>\n      <td>41260204.0</td>\n    </tr>\n  </tbody>\n</table>\n</div>"
     },
     "metadata": {},
     "output_type": "display_data"
    },
    {
     "name": "stdout",
     "output_type": "stream",
     "text": [
      "\n",
      "Diverse Counterfactual set (new outcome: [0, 37134182])\n"
     ]
    },
    {
     "data": {
      "text/plain": "  Status ACTIVITY Involved_ST_Function_Div Involved_Org_line_3 Involved_ST  \\\n0      -        -                     V3_3         Org line G1           -   \n1      -        -                      E_6         Org line G1           -   \n2      -        -                      E_7        Org line V10           -   \n3      -        -                        -          Org line H     V50 2nd   \n4      -        -                     A2_4        Org line V11           -   \n5      -     Wait                        -         Org line V2           -   \n6      -        -                     A2_1         Org line V9           -   \n\n  SR_Latest_Impact Product Country Owner_Country time_from_first  \\\n0                -       -       -             -               -   \n1                -       -       -             -               -   \n2                -       -       -             -               -   \n3                -       -       -             -               -   \n4                -       -       -             -               -   \n5                -       -       -             -               -   \n6                -       -       -             -               -   \n\n  time_from_previous_et time_from_midnight weekday # ACTIVITY=In Progress  \\\n0                     -                  -       -                      -   \n1                     -                  -       -                      -   \n2                     -                  -       -                      -   \n3                     -                  -       -                      -   \n4                     -                  -       -                      -   \n5                     -                  -       -                      -   \n6                     -                  -       -                      -   \n\n  # ACTIVITY=Awaiting Assignment # ACTIVITY=Resolved # ACTIVITY=Assigned  \\\n0                              -                   -                   -   \n1                              -                   -                   -   \n2                              -                   -                   -   \n3                              -                   -                   -   \n4                              -                   -                   -   \n5                              -                   -                   -   \n6                              -                   -                   -   \n\n  # ACTIVITY=Closed # ACTIVITY=Wait - User # ACTIVITY=Wait - Implementation  \\\n0                 -                      -                                -   \n1                 -                      -                                -   \n2                 -                      -                                -   \n3                 -                      -                                -   \n4                 -                      -                                -   \n5                 -                      -                                -   \n6                 -                      -                                -   \n\n  # ACTIVITY=Wait # ACTIVITY=Wait - Vendor # ACTIVITY=In Call  \\\n0               -                        -                  -   \n1               -                        -                  -   \n2               -                        -                  -   \n3               -                        -                  -   \n4               -                        -                  -   \n5               -                        -                  -   \n6               -                        -                  -   \n\n  # ACTIVITY=Wait - Customer # ACTIVITY=Unmatched # ACTIVITY=Cancelled  \\\n0                          -                    -                    -   \n1                          -                    -                    -   \n2                          -                    -                    -   \n3                          -                    -                    -   \n4                          -                    -                    -   \n5                          -                    -                    -   \n6                          -                    -                    -   \n\n    lead_time  \n0  32859970.0  \n1  32859970.0  \n2  32859970.0  \n3  32859970.0  \n4  32859970.0  \n5  32859970.0  \n6  32859970.0  ",
      "text/html": "<div>\n<style scoped>\n    .dataframe tbody tr th:only-of-type {\n        vertical-align: middle;\n    }\n\n    .dataframe tbody tr th {\n        vertical-align: top;\n    }\n\n    .dataframe thead th {\n        text-align: right;\n    }\n</style>\n<table border=\"1\" class=\"dataframe\">\n  <thead>\n    <tr style=\"text-align: right;\">\n      <th></th>\n      <th>Status</th>\n      <th>ACTIVITY</th>\n      <th>Involved_ST_Function_Div</th>\n      <th>Involved_Org_line_3</th>\n      <th>Involved_ST</th>\n      <th>SR_Latest_Impact</th>\n      <th>Product</th>\n      <th>Country</th>\n      <th>Owner_Country</th>\n      <th>time_from_first</th>\n      <th>time_from_previous_et</th>\n      <th>time_from_midnight</th>\n      <th>weekday</th>\n      <th># ACTIVITY=In Progress</th>\n      <th># ACTIVITY=Awaiting Assignment</th>\n      <th># ACTIVITY=Resolved</th>\n      <th># ACTIVITY=Assigned</th>\n      <th># ACTIVITY=Closed</th>\n      <th># ACTIVITY=Wait - User</th>\n      <th># ACTIVITY=Wait - Implementation</th>\n      <th># ACTIVITY=Wait</th>\n      <th># ACTIVITY=Wait - Vendor</th>\n      <th># ACTIVITY=In Call</th>\n      <th># ACTIVITY=Wait - Customer</th>\n      <th># ACTIVITY=Unmatched</th>\n      <th># ACTIVITY=Cancelled</th>\n      <th>lead_time</th>\n    </tr>\n  </thead>\n  <tbody>\n    <tr>\n      <th>0</th>\n      <td>-</td>\n      <td>-</td>\n      <td>V3_3</td>\n      <td>Org line G1</td>\n      <td>-</td>\n      <td>-</td>\n      <td>-</td>\n      <td>-</td>\n      <td>-</td>\n      <td>-</td>\n      <td>-</td>\n      <td>-</td>\n      <td>-</td>\n      <td>-</td>\n      <td>-</td>\n      <td>-</td>\n      <td>-</td>\n      <td>-</td>\n      <td>-</td>\n      <td>-</td>\n      <td>-</td>\n      <td>-</td>\n      <td>-</td>\n      <td>-</td>\n      <td>-</td>\n      <td>-</td>\n      <td>32859970.0</td>\n    </tr>\n    <tr>\n      <th>1</th>\n      <td>-</td>\n      <td>-</td>\n      <td>E_6</td>\n      <td>Org line G1</td>\n      <td>-</td>\n      <td>-</td>\n      <td>-</td>\n      <td>-</td>\n      <td>-</td>\n      <td>-</td>\n      <td>-</td>\n      <td>-</td>\n      <td>-</td>\n      <td>-</td>\n      <td>-</td>\n      <td>-</td>\n      <td>-</td>\n      <td>-</td>\n      <td>-</td>\n      <td>-</td>\n      <td>-</td>\n      <td>-</td>\n      <td>-</td>\n      <td>-</td>\n      <td>-</td>\n      <td>-</td>\n      <td>32859970.0</td>\n    </tr>\n    <tr>\n      <th>2</th>\n      <td>-</td>\n      <td>-</td>\n      <td>E_7</td>\n      <td>Org line V10</td>\n      <td>-</td>\n      <td>-</td>\n      <td>-</td>\n      <td>-</td>\n      <td>-</td>\n      <td>-</td>\n      <td>-</td>\n      <td>-</td>\n      <td>-</td>\n      <td>-</td>\n      <td>-</td>\n      <td>-</td>\n      <td>-</td>\n      <td>-</td>\n      <td>-</td>\n      <td>-</td>\n      <td>-</td>\n      <td>-</td>\n      <td>-</td>\n      <td>-</td>\n      <td>-</td>\n      <td>-</td>\n      <td>32859970.0</td>\n    </tr>\n    <tr>\n      <th>3</th>\n      <td>-</td>\n      <td>-</td>\n      <td>-</td>\n      <td>Org line H</td>\n      <td>V50 2nd</td>\n      <td>-</td>\n      <td>-</td>\n      <td>-</td>\n      <td>-</td>\n      <td>-</td>\n      <td>-</td>\n      <td>-</td>\n      <td>-</td>\n      <td>-</td>\n      <td>-</td>\n      <td>-</td>\n      <td>-</td>\n      <td>-</td>\n      <td>-</td>\n      <td>-</td>\n      <td>-</td>\n      <td>-</td>\n      <td>-</td>\n      <td>-</td>\n      <td>-</td>\n      <td>-</td>\n      <td>32859970.0</td>\n    </tr>\n    <tr>\n      <th>4</th>\n      <td>-</td>\n      <td>-</td>\n      <td>A2_4</td>\n      <td>Org line V11</td>\n      <td>-</td>\n      <td>-</td>\n      <td>-</td>\n      <td>-</td>\n      <td>-</td>\n      <td>-</td>\n      <td>-</td>\n      <td>-</td>\n      <td>-</td>\n      <td>-</td>\n      <td>-</td>\n      <td>-</td>\n      <td>-</td>\n      <td>-</td>\n      <td>-</td>\n      <td>-</td>\n      <td>-</td>\n      <td>-</td>\n      <td>-</td>\n      <td>-</td>\n      <td>-</td>\n      <td>-</td>\n      <td>32859970.0</td>\n    </tr>\n    <tr>\n      <th>5</th>\n      <td>-</td>\n      <td>Wait</td>\n      <td>-</td>\n      <td>Org line V2</td>\n      <td>-</td>\n      <td>-</td>\n      <td>-</td>\n      <td>-</td>\n      <td>-</td>\n      <td>-</td>\n      <td>-</td>\n      <td>-</td>\n      <td>-</td>\n      <td>-</td>\n      <td>-</td>\n      <td>-</td>\n      <td>-</td>\n      <td>-</td>\n      <td>-</td>\n      <td>-</td>\n      <td>-</td>\n      <td>-</td>\n      <td>-</td>\n      <td>-</td>\n      <td>-</td>\n      <td>-</td>\n      <td>32859970.0</td>\n    </tr>\n    <tr>\n      <th>6</th>\n      <td>-</td>\n      <td>-</td>\n      <td>A2_1</td>\n      <td>Org line V9</td>\n      <td>-</td>\n      <td>-</td>\n      <td>-</td>\n      <td>-</td>\n      <td>-</td>\n      <td>-</td>\n      <td>-</td>\n      <td>-</td>\n      <td>-</td>\n      <td>-</td>\n      <td>-</td>\n      <td>-</td>\n      <td>-</td>\n      <td>-</td>\n      <td>-</td>\n      <td>-</td>\n      <td>-</td>\n      <td>-</td>\n      <td>-</td>\n      <td>-</td>\n      <td>-</td>\n      <td>-</td>\n      <td>32859970.0</td>\n    </tr>\n  </tbody>\n</table>\n</div>"
     },
     "metadata": {},
     "output_type": "display_data"
    },
    {
     "data": {
      "text/plain": "     Status  ACTIVITY Involved_ST_Function_Div Involved_Org_line_3  \\\n0  Accepted  Assigned                      E_7        Org line V10   \n1  Accepted  Assigned                     E_10          Org line H   \n2  Accepted  Assigned                     A2_4        Org line V11   \n3  Accepted      Wait                     E_10         Org line V2   \n4  Accepted  Assigned                     A2_1         Org line V9   \n\n  Involved_ST SR_Latest_Impact  Product Country Owner_Country time_from_first  \\\n0    G140 2nd           Medium  PROD453      se        Sweden       3617038.0   \n1     V50 2nd           Medium  PROD453      se        Sweden       3617038.0   \n2    G140 2nd           Medium  PROD453      se        Sweden       3617038.0   \n3    G140 2nd           Medium  PROD453      se        Sweden       3617038.0   \n4    G140 2nd           Medium  PROD453      se        Sweden       3617038.0   \n\n  time_from_previous_et time_from_midnight weekday # ACTIVITY=In Progress  \\\n0              321053.0            24980.0  Monday                      7   \n1              321053.0            24980.0  Monday                      7   \n2              321053.0            24980.0  Monday                      7   \n3              321053.0            24980.0  Monday                      7   \n4              321053.0            24980.0  Monday                      7   \n\n  # ACTIVITY=Awaiting Assignment # ACTIVITY=Resolved # ACTIVITY=Assigned  \\\n0                              2                   0                   1   \n1                              2                   0                   1   \n2                              2                   0                   1   \n3                              2                   0                   1   \n4                              2                   0                   1   \n\n  # ACTIVITY=Closed # ACTIVITY=Wait - User # ACTIVITY=Wait - Implementation  \\\n0                 0                      2                                2   \n1                 0                      2                                2   \n2                 0                      2                                2   \n3                 0                      2                                2   \n4                 0                      2                                2   \n\n  # ACTIVITY=Wait # ACTIVITY=Wait - Vendor # ACTIVITY=In Call  \\\n0               1                        0                  0   \n1               1                        0                  0   \n2               1                        0                  0   \n3               1                        0                  0   \n4               1                        0                  0   \n\n  # ACTIVITY=Wait - Customer # ACTIVITY=Unmatched # ACTIVITY=Cancelled  \\\n0                          0                    0                    0   \n1                          0                    0                    0   \n2                          0                    0                    0   \n3                          0                    0                    0   \n4                          0                    0                    0   \n\n    lead_time  \n0  32859970.0  \n1  32859970.0  \n2  32859970.0  \n3  32859970.0  \n4  32859970.0  ",
      "text/html": "<div>\n<style scoped>\n    .dataframe tbody tr th:only-of-type {\n        vertical-align: middle;\n    }\n\n    .dataframe tbody tr th {\n        vertical-align: top;\n    }\n\n    .dataframe thead th {\n        text-align: right;\n    }\n</style>\n<table border=\"1\" class=\"dataframe\">\n  <thead>\n    <tr style=\"text-align: right;\">\n      <th></th>\n      <th>Status</th>\n      <th>ACTIVITY</th>\n      <th>Involved_ST_Function_Div</th>\n      <th>Involved_Org_line_3</th>\n      <th>Involved_ST</th>\n      <th>SR_Latest_Impact</th>\n      <th>Product</th>\n      <th>Country</th>\n      <th>Owner_Country</th>\n      <th>time_from_first</th>\n      <th>time_from_previous_et</th>\n      <th>time_from_midnight</th>\n      <th>weekday</th>\n      <th># ACTIVITY=In Progress</th>\n      <th># ACTIVITY=Awaiting Assignment</th>\n      <th># ACTIVITY=Resolved</th>\n      <th># ACTIVITY=Assigned</th>\n      <th># ACTIVITY=Closed</th>\n      <th># ACTIVITY=Wait - User</th>\n      <th># ACTIVITY=Wait - Implementation</th>\n      <th># ACTIVITY=Wait</th>\n      <th># ACTIVITY=Wait - Vendor</th>\n      <th># ACTIVITY=In Call</th>\n      <th># ACTIVITY=Wait - Customer</th>\n      <th># ACTIVITY=Unmatched</th>\n      <th># ACTIVITY=Cancelled</th>\n      <th>lead_time</th>\n    </tr>\n  </thead>\n  <tbody>\n    <tr>\n      <th>0</th>\n      <td>Accepted</td>\n      <td>Assigned</td>\n      <td>E_7</td>\n      <td>Org line V10</td>\n      <td>G140 2nd</td>\n      <td>Medium</td>\n      <td>PROD453</td>\n      <td>se</td>\n      <td>Sweden</td>\n      <td>3617038.0</td>\n      <td>321053.0</td>\n      <td>24980.0</td>\n      <td>Monday</td>\n      <td>7</td>\n      <td>2</td>\n      <td>0</td>\n      <td>1</td>\n      <td>0</td>\n      <td>2</td>\n      <td>2</td>\n      <td>1</td>\n      <td>0</td>\n      <td>0</td>\n      <td>0</td>\n      <td>0</td>\n      <td>0</td>\n      <td>32859970.0</td>\n    </tr>\n    <tr>\n      <th>1</th>\n      <td>Accepted</td>\n      <td>Assigned</td>\n      <td>E_10</td>\n      <td>Org line H</td>\n      <td>V50 2nd</td>\n      <td>Medium</td>\n      <td>PROD453</td>\n      <td>se</td>\n      <td>Sweden</td>\n      <td>3617038.0</td>\n      <td>321053.0</td>\n      <td>24980.0</td>\n      <td>Monday</td>\n      <td>7</td>\n      <td>2</td>\n      <td>0</td>\n      <td>1</td>\n      <td>0</td>\n      <td>2</td>\n      <td>2</td>\n      <td>1</td>\n      <td>0</td>\n      <td>0</td>\n      <td>0</td>\n      <td>0</td>\n      <td>0</td>\n      <td>32859970.0</td>\n    </tr>\n    <tr>\n      <th>2</th>\n      <td>Accepted</td>\n      <td>Assigned</td>\n      <td>A2_4</td>\n      <td>Org line V11</td>\n      <td>G140 2nd</td>\n      <td>Medium</td>\n      <td>PROD453</td>\n      <td>se</td>\n      <td>Sweden</td>\n      <td>3617038.0</td>\n      <td>321053.0</td>\n      <td>24980.0</td>\n      <td>Monday</td>\n      <td>7</td>\n      <td>2</td>\n      <td>0</td>\n      <td>1</td>\n      <td>0</td>\n      <td>2</td>\n      <td>2</td>\n      <td>1</td>\n      <td>0</td>\n      <td>0</td>\n      <td>0</td>\n      <td>0</td>\n      <td>0</td>\n      <td>32859970.0</td>\n    </tr>\n    <tr>\n      <th>3</th>\n      <td>Accepted</td>\n      <td>Wait</td>\n      <td>E_10</td>\n      <td>Org line V2</td>\n      <td>G140 2nd</td>\n      <td>Medium</td>\n      <td>PROD453</td>\n      <td>se</td>\n      <td>Sweden</td>\n      <td>3617038.0</td>\n      <td>321053.0</td>\n      <td>24980.0</td>\n      <td>Monday</td>\n      <td>7</td>\n      <td>2</td>\n      <td>0</td>\n      <td>1</td>\n      <td>0</td>\n      <td>2</td>\n      <td>2</td>\n      <td>1</td>\n      <td>0</td>\n      <td>0</td>\n      <td>0</td>\n      <td>0</td>\n      <td>0</td>\n      <td>32859970.0</td>\n    </tr>\n    <tr>\n      <th>4</th>\n      <td>Accepted</td>\n      <td>Assigned</td>\n      <td>A2_1</td>\n      <td>Org line V9</td>\n      <td>G140 2nd</td>\n      <td>Medium</td>\n      <td>PROD453</td>\n      <td>se</td>\n      <td>Sweden</td>\n      <td>3617038.0</td>\n      <td>321053.0</td>\n      <td>24980.0</td>\n      <td>Monday</td>\n      <td>7</td>\n      <td>2</td>\n      <td>0</td>\n      <td>1</td>\n      <td>0</td>\n      <td>2</td>\n      <td>2</td>\n      <td>1</td>\n      <td>0</td>\n      <td>0</td>\n      <td>0</td>\n      <td>0</td>\n      <td>0</td>\n      <td>32859970.0</td>\n    </tr>\n  </tbody>\n</table>\n</div>"
     },
     "execution_count": 230,
     "metadata": {},
     "output_type": "execute_result"
    }
   ],
   "source": [
    "cfe.visualize_as_dataframe(show_only_changes=True)\n",
    "print(f\"Valid Counterfactual Set\")\n",
    "cf_examples_df"
   ],
   "metadata": {
    "collapsed": false
   }
  },
  {
   "cell_type": "markdown",
   "source": [
    "### Check Feature Importance score"
   ],
   "metadata": {
    "collapsed": false
   }
  },
  {
   "cell_type": "code",
   "execution_count": 47,
   "outputs": [
    {
     "name": "stderr",
     "output_type": "stream",
     "text": [
      "100%|██████████| 1/1 [00:00<00:00,  1.63it/s]\n"
     ]
    },
    {
     "data": {
      "text/plain": "[{'Involved_ST': 1.0,\n  'ACTIVITY': 0.3,\n  'Involved_ST_Function_Div': 0.3,\n  'Involved_Org_line_3': 0.1,\n  'Status': 0.0,\n  'SR_Latest_Impact': 0.0,\n  'Product': 0.0,\n  'Country': 0.0,\n  'Owner_Country': 0.0,\n  'weekday': 0.0,\n  'time_from_first': 0.0,\n  'time_from_previous_et': 0.0,\n  'time_from_midnight': 0.0,\n  '# ACTIVITY=In Progress': 0.0,\n  '# ACTIVITY=Awaiting Assignment': 0.0,\n  '# ACTIVITY=Resolved': 0.0,\n  '# ACTIVITY=Assigned': 0.0,\n  '# ACTIVITY=Closed': 0.0,\n  '# ACTIVITY=Wait - User': 0.0,\n  '# ACTIVITY=Wait - Implementation': 0.0,\n  '# ACTIVITY=Wait': 0.0,\n  '# ACTIVITY=Wait - Vendor': 0.0,\n  '# ACTIVITY=In Call': 0.0,\n  '# ACTIVITY=Wait - Customer': 0.0,\n  '# ACTIVITY=Unmatched': 0.0,\n  '# ACTIVITY=Cancelled': 0.0}]"
     },
     "execution_count": 47,
     "metadata": {},
     "output_type": "execute_result"
    }
   ],
   "source": [
    "imp = exp_genetic_iris.local_feature_importance(query_instances, total_CFs=10, desired_range=[0, total_time_upper_bound], features_to_vary=cols_to_vary)\n",
    "imp.local_importance"
   ],
   "metadata": {
    "collapsed": false
   }
  },
  {
   "cell_type": "markdown",
   "source": [
    "## Experiment with Multiple Queries"
   ],
   "metadata": {
    "collapsed": false
   }
  },
  {
   "cell_type": "code",
   "execution_count": 17,
   "outputs": [
    {
     "data": {
      "text/plain": "     SR_Number  Change_Date+Time    Status             ACTIVITY  \\\n0  1-643733486        1326813444  Accepted          In Progress   \n1  1-643733486        1326813477  Accepted          In Progress   \n2  1-643733486        1326813558    Queued  Awaiting Assignment   \n3  1-643733486        1326977851  Accepted          In Progress   \n4  1-643733486        1326977939    Queued  Awaiting Assignment   \n5  1-643733486        1326982060  Accepted          In Progress   \n6  1-643733486        1326982072  Accepted             Assigned   \n7  1-643733486        1326983196  Accepted          In Progress   \n\n  Involved_ST_Function_Div Involved_Org_line_3 Involved_ST SR_Latest_Impact  \\\n0                     A2_1          Org line C          D6           Medium   \n1                     A2_1          Org line C          D6           Medium   \n2                  missing        Org line V7n     V37 2nd           Medium   \n3                  missing        Org line V7n     V37 2nd           Medium   \n4                     A2_1          Org line C          D6           Medium   \n5                     A2_1          Org line C          D6           Medium   \n6                     A2_1          Org line C          D6           Medium   \n7                     A2_1          Org line C          D6           Medium   \n\n   Product Country Owner_Country  time_from_first  time_from_previous_et  \\\n0  PROD542      nl       Belgium              0.0                    0.0   \n1  PROD542      nl       Belgium             33.0                   33.0   \n2  PROD542      nl       Belgium            114.0                   81.0   \n3  PROD542      nl   Netherlands         164407.0               164293.0   \n4  PROD542      nl   Netherlands         164495.0                   88.0   \n5  PROD542      nl       Belgium         168616.0                 4121.0   \n6  PROD542      nl       Belgium         168628.0                   12.0   \n7  PROD542      nl       Belgium         169752.0                 1124.0   \n\n   time_from_midnight   weekday  time_remaining  # ACTIVITY=In Progress  \\\n0             55044.0   Tuesday       9965027.0                       0   \n1             55077.0   Tuesday       9964994.0                       1   \n2             55158.0   Tuesday       9964913.0                       2   \n3             46651.0  Thursday       9800620.0                       2   \n4             46739.0  Thursday       9800532.0                       3   \n5             50860.0  Thursday       9796411.0                       3   \n6             50872.0  Thursday       9796399.0                       4   \n7             51996.0  Thursday       9795275.0                       4   \n\n   # ACTIVITY=Awaiting Assignment  # ACTIVITY=Resolved  # ACTIVITY=Assigned  \\\n0                               0                    0                    0   \n1                               0                    0                    0   \n2                               0                    0                    0   \n3                               1                    0                    0   \n4                               1                    0                    0   \n5                               2                    0                    0   \n6                               2                    0                    0   \n7                               2                    0                    1   \n\n   # ACTIVITY=Closed  # ACTIVITY=Wait - User  \\\n0                  0                       0   \n1                  0                       0   \n2                  0                       0   \n3                  0                       0   \n4                  0                       0   \n5                  0                       0   \n6                  0                       0   \n7                  0                       0   \n\n   # ACTIVITY=Wait - Implementation  # ACTIVITY=Wait  \\\n0                                 0                0   \n1                                 0                0   \n2                                 0                0   \n3                                 0                0   \n4                                 0                0   \n5                                 0                0   \n6                                 0                0   \n7                                 0                0   \n\n   # ACTIVITY=Wait - Vendor  # ACTIVITY=In Call  # ACTIVITY=Wait - Customer  \\\n0                         0                   0                           0   \n1                         0                   0                           0   \n2                         0                   0                           0   \n3                         0                   0                           0   \n4                         0                   0                           0   \n5                         0                   0                           0   \n6                         0                   0                           0   \n7                         0                   0                           0   \n\n   # ACTIVITY=Unmatched  # ACTIVITY=Cancelled  lead_time  \n0                     0                     0  9965027.0  \n1                     0                     0  9965027.0  \n2                     0                     0  9965027.0  \n3                     0                     0  9965027.0  \n4                     0                     0  9965027.0  \n5                     0                     0  9965027.0  \n6                     0                     0  9965027.0  \n7                     0                     0  9965027.0  ",
      "text/html": "<div>\n<style scoped>\n    .dataframe tbody tr th:only-of-type {\n        vertical-align: middle;\n    }\n\n    .dataframe tbody tr th {\n        vertical-align: top;\n    }\n\n    .dataframe thead th {\n        text-align: right;\n    }\n</style>\n<table border=\"1\" class=\"dataframe\">\n  <thead>\n    <tr style=\"text-align: right;\">\n      <th></th>\n      <th>SR_Number</th>\n      <th>Change_Date+Time</th>\n      <th>Status</th>\n      <th>ACTIVITY</th>\n      <th>Involved_ST_Function_Div</th>\n      <th>Involved_Org_line_3</th>\n      <th>Involved_ST</th>\n      <th>SR_Latest_Impact</th>\n      <th>Product</th>\n      <th>Country</th>\n      <th>Owner_Country</th>\n      <th>time_from_first</th>\n      <th>time_from_previous_et</th>\n      <th>time_from_midnight</th>\n      <th>weekday</th>\n      <th>time_remaining</th>\n      <th># ACTIVITY=In Progress</th>\n      <th># ACTIVITY=Awaiting Assignment</th>\n      <th># ACTIVITY=Resolved</th>\n      <th># ACTIVITY=Assigned</th>\n      <th># ACTIVITY=Closed</th>\n      <th># ACTIVITY=Wait - User</th>\n      <th># ACTIVITY=Wait - Implementation</th>\n      <th># ACTIVITY=Wait</th>\n      <th># ACTIVITY=Wait - Vendor</th>\n      <th># ACTIVITY=In Call</th>\n      <th># ACTIVITY=Wait - Customer</th>\n      <th># ACTIVITY=Unmatched</th>\n      <th># ACTIVITY=Cancelled</th>\n      <th>lead_time</th>\n    </tr>\n  </thead>\n  <tbody>\n    <tr>\n      <th>0</th>\n      <td>1-643733486</td>\n      <td>1326813444</td>\n      <td>Accepted</td>\n      <td>In Progress</td>\n      <td>A2_1</td>\n      <td>Org line C</td>\n      <td>D6</td>\n      <td>Medium</td>\n      <td>PROD542</td>\n      <td>nl</td>\n      <td>Belgium</td>\n      <td>0.0</td>\n      <td>0.0</td>\n      <td>55044.0</td>\n      <td>Tuesday</td>\n      <td>9965027.0</td>\n      <td>0</td>\n      <td>0</td>\n      <td>0</td>\n      <td>0</td>\n      <td>0</td>\n      <td>0</td>\n      <td>0</td>\n      <td>0</td>\n      <td>0</td>\n      <td>0</td>\n      <td>0</td>\n      <td>0</td>\n      <td>0</td>\n      <td>9965027.0</td>\n    </tr>\n    <tr>\n      <th>1</th>\n      <td>1-643733486</td>\n      <td>1326813477</td>\n      <td>Accepted</td>\n      <td>In Progress</td>\n      <td>A2_1</td>\n      <td>Org line C</td>\n      <td>D6</td>\n      <td>Medium</td>\n      <td>PROD542</td>\n      <td>nl</td>\n      <td>Belgium</td>\n      <td>33.0</td>\n      <td>33.0</td>\n      <td>55077.0</td>\n      <td>Tuesday</td>\n      <td>9964994.0</td>\n      <td>1</td>\n      <td>0</td>\n      <td>0</td>\n      <td>0</td>\n      <td>0</td>\n      <td>0</td>\n      <td>0</td>\n      <td>0</td>\n      <td>0</td>\n      <td>0</td>\n      <td>0</td>\n      <td>0</td>\n      <td>0</td>\n      <td>9965027.0</td>\n    </tr>\n    <tr>\n      <th>2</th>\n      <td>1-643733486</td>\n      <td>1326813558</td>\n      <td>Queued</td>\n      <td>Awaiting Assignment</td>\n      <td>missing</td>\n      <td>Org line V7n</td>\n      <td>V37 2nd</td>\n      <td>Medium</td>\n      <td>PROD542</td>\n      <td>nl</td>\n      <td>Belgium</td>\n      <td>114.0</td>\n      <td>81.0</td>\n      <td>55158.0</td>\n      <td>Tuesday</td>\n      <td>9964913.0</td>\n      <td>2</td>\n      <td>0</td>\n      <td>0</td>\n      <td>0</td>\n      <td>0</td>\n      <td>0</td>\n      <td>0</td>\n      <td>0</td>\n      <td>0</td>\n      <td>0</td>\n      <td>0</td>\n      <td>0</td>\n      <td>0</td>\n      <td>9965027.0</td>\n    </tr>\n    <tr>\n      <th>3</th>\n      <td>1-643733486</td>\n      <td>1326977851</td>\n      <td>Accepted</td>\n      <td>In Progress</td>\n      <td>missing</td>\n      <td>Org line V7n</td>\n      <td>V37 2nd</td>\n      <td>Medium</td>\n      <td>PROD542</td>\n      <td>nl</td>\n      <td>Netherlands</td>\n      <td>164407.0</td>\n      <td>164293.0</td>\n      <td>46651.0</td>\n      <td>Thursday</td>\n      <td>9800620.0</td>\n      <td>2</td>\n      <td>1</td>\n      <td>0</td>\n      <td>0</td>\n      <td>0</td>\n      <td>0</td>\n      <td>0</td>\n      <td>0</td>\n      <td>0</td>\n      <td>0</td>\n      <td>0</td>\n      <td>0</td>\n      <td>0</td>\n      <td>9965027.0</td>\n    </tr>\n    <tr>\n      <th>4</th>\n      <td>1-643733486</td>\n      <td>1326977939</td>\n      <td>Queued</td>\n      <td>Awaiting Assignment</td>\n      <td>A2_1</td>\n      <td>Org line C</td>\n      <td>D6</td>\n      <td>Medium</td>\n      <td>PROD542</td>\n      <td>nl</td>\n      <td>Netherlands</td>\n      <td>164495.0</td>\n      <td>88.0</td>\n      <td>46739.0</td>\n      <td>Thursday</td>\n      <td>9800532.0</td>\n      <td>3</td>\n      <td>1</td>\n      <td>0</td>\n      <td>0</td>\n      <td>0</td>\n      <td>0</td>\n      <td>0</td>\n      <td>0</td>\n      <td>0</td>\n      <td>0</td>\n      <td>0</td>\n      <td>0</td>\n      <td>0</td>\n      <td>9965027.0</td>\n    </tr>\n    <tr>\n      <th>5</th>\n      <td>1-643733486</td>\n      <td>1326982060</td>\n      <td>Accepted</td>\n      <td>In Progress</td>\n      <td>A2_1</td>\n      <td>Org line C</td>\n      <td>D6</td>\n      <td>Medium</td>\n      <td>PROD542</td>\n      <td>nl</td>\n      <td>Belgium</td>\n      <td>168616.0</td>\n      <td>4121.0</td>\n      <td>50860.0</td>\n      <td>Thursday</td>\n      <td>9796411.0</td>\n      <td>3</td>\n      <td>2</td>\n      <td>0</td>\n      <td>0</td>\n      <td>0</td>\n      <td>0</td>\n      <td>0</td>\n      <td>0</td>\n      <td>0</td>\n      <td>0</td>\n      <td>0</td>\n      <td>0</td>\n      <td>0</td>\n      <td>9965027.0</td>\n    </tr>\n    <tr>\n      <th>6</th>\n      <td>1-643733486</td>\n      <td>1326982072</td>\n      <td>Accepted</td>\n      <td>Assigned</td>\n      <td>A2_1</td>\n      <td>Org line C</td>\n      <td>D6</td>\n      <td>Medium</td>\n      <td>PROD542</td>\n      <td>nl</td>\n      <td>Belgium</td>\n      <td>168628.0</td>\n      <td>12.0</td>\n      <td>50872.0</td>\n      <td>Thursday</td>\n      <td>9796399.0</td>\n      <td>4</td>\n      <td>2</td>\n      <td>0</td>\n      <td>0</td>\n      <td>0</td>\n      <td>0</td>\n      <td>0</td>\n      <td>0</td>\n      <td>0</td>\n      <td>0</td>\n      <td>0</td>\n      <td>0</td>\n      <td>0</td>\n      <td>9965027.0</td>\n    </tr>\n    <tr>\n      <th>7</th>\n      <td>1-643733486</td>\n      <td>1326983196</td>\n      <td>Accepted</td>\n      <td>In Progress</td>\n      <td>A2_1</td>\n      <td>Org line C</td>\n      <td>D6</td>\n      <td>Medium</td>\n      <td>PROD542</td>\n      <td>nl</td>\n      <td>Belgium</td>\n      <td>169752.0</td>\n      <td>1124.0</td>\n      <td>51996.0</td>\n      <td>Thursday</td>\n      <td>9795275.0</td>\n      <td>4</td>\n      <td>2</td>\n      <td>0</td>\n      <td>1</td>\n      <td>0</td>\n      <td>0</td>\n      <td>0</td>\n      <td>0</td>\n      <td>0</td>\n      <td>0</td>\n      <td>0</td>\n      <td>0</td>\n      <td>0</td>\n      <td>9965027.0</td>\n    </tr>\n  </tbody>\n</table>\n</div>"
     },
     "execution_count": 17,
     "metadata": {},
     "output_type": "execute_result"
    }
   ],
   "source": [
    "test_cases[i+1]"
   ],
   "metadata": {
    "collapsed": false
   }
  },
  {
   "cell_type": "code",
   "execution_count": 73,
   "outputs": [],
   "source": [
    "@timeout(120)  # Set a timeout of 5 seconds\n",
    "def generate_cfe(query_instances, total_time_upper_bound):\n",
    "    if method == \"genetic\":\n",
    "        cfe = exp_genetic_iris.generate_counterfactuals(query_instances, total_CFs=10, desired_range=[0, total_time_upper_bound], features_to_vary=cols_to_vary,\n",
    "                                                        feature_weights = {\"ACTIVITY\": 1, \"Involved_ST_Function_Div\": 1, \"Involved_Org_line_3\": 1, \"Involved_ST\": 1},\n",
    "                                                        proximity_weight=proximity_weight, sparsity_weight=sparsity_weight, diversity_weight=diversity_weight)\n",
    "    else:\n",
    "        cfe = exp_genetic_iris.generate_counterfactuals(query_instances, total_CFs=200, desired_range=[0, total_time_upper_bound], features_to_vary=cols_to_vary,\n",
    "                                                        proximity_weight=proximity_weight, sparsity_weight=sparsity_weight, diversity_weight=diversity_weight)\n",
    "    return cfe"
   ],
   "metadata": {
    "collapsed": false
   }
  },
  {
   "cell_type": "code",
   "execution_count": 74,
   "outputs": [],
   "source": [
    "%%capture\n",
    "i = 0\n",
    "cfe_before_validation = []\n",
    "cfe_after_validation = []\n",
    "cfe_not_found = []\n",
    "cases_includes_new_data = []\n",
    "cases_too_small = []\n",
    "for df_test_trace in test_cases:\n",
    "    i+= 1\n",
    "    if i == 20:\n",
    "        break\n",
    "\n",
    "    if 0 < len(df_test_trace) <= 2:\n",
    "        print(\"too small\", i, df_test_trace[case_id_name].unique().item())\n",
    "        cases_too_small.append( get_case_id(df_test_trace, multi=True) )\n",
    "        continue\n",
    "\n",
    "    X_test, y_test = prepare_df_for_ml(df_test_trace, outcome_name)\n",
    "    # Access the last row of the truncated trace to replicate the behavior of a running trace\n",
    "    total_time_upper_bound = int( y_test.iloc[-1] * (90 / 100) )  # A percentage of the original total time of the trace\n",
    "    query_instances = X_test.iloc[-1:]\n",
    "    proximity_weight = 0.2\n",
    "    sparsity_weight = 0.2\n",
    "    diversity_weight = 5.0\n",
    "    try:\n",
    "        cfe = generate_cfe(query_instances, total_time_upper_bound)\n",
    "        cfe_before_validation.append( (get_case_id(df_test_trace), cfe) )\n",
    "        cfe = validate_transition(cfe)\n",
    "        if len(cfe) > 0:\n",
    "            cfe_after_validation.append( (get_case_id(df_test_trace), cfe) )\n",
    "\n",
    "    except UserConfigValidationException:\n",
    "        cfe_not_found.append(get_case_id(df_test_trace))\n",
    "    except TimeoutError:  # When function takes too long\n",
    "        cfe_not_found.append(get_case_id(df_test_trace))\n",
    "    except ValueError:\n",
    "        # print(f\"Includes feature not found in training data: {get_case_id(df_test_trace)}\")\n",
    "        cases_includes_new_data.append(get_case_id(df_test_trace))\n",
    "\n"
   ],
   "metadata": {
    "collapsed": false
   }
  },
  {
   "cell_type": "code",
   "execution_count": 75,
   "outputs": [
    {
     "data": {
      "text/plain": "   cfe_before_validation  cfe_after_validation  cfe_not_found  \\\n0                     16                    12              1   \n\n   cases_includes_new_data  cases_too_small  \n0                        2                0  ",
      "text/html": "<div>\n<style scoped>\n    .dataframe tbody tr th:only-of-type {\n        vertical-align: middle;\n    }\n\n    .dataframe tbody tr th {\n        vertical-align: top;\n    }\n\n    .dataframe thead th {\n        text-align: right;\n    }\n</style>\n<table border=\"1\" class=\"dataframe\">\n  <thead>\n    <tr style=\"text-align: right;\">\n      <th></th>\n      <th>cfe_before_validation</th>\n      <th>cfe_after_validation</th>\n      <th>cfe_not_found</th>\n      <th>cases_includes_new_data</th>\n      <th>cases_too_small</th>\n    </tr>\n  </thead>\n  <tbody>\n    <tr>\n      <th>0</th>\n      <td>16</td>\n      <td>12</td>\n      <td>1</td>\n      <td>2</td>\n      <td>0</td>\n    </tr>\n  </tbody>\n</table>\n</div>"
     },
     "execution_count": 75,
     "metadata": {},
     "output_type": "execute_result"
    }
   ],
   "source": [
    "data = { \"cfe_before_validation\": [ len(cfe_before_validation) ],\n",
    "         \"cfe_after_validation\": [ len(cfe_after_validation) ],\n",
    "         \"cfe_not_found\": [ len(cfe_not_found) ],\n",
    "         \"cases_includes_new_data\": [ len(cases_includes_new_data)],\n",
    "         \"cases_too_small\": [ len(cases_too_small) ]}\n",
    "df_result = pd.DataFrame(data)\n",
    "df_result"
   ],
   "metadata": {
    "collapsed": false
   }
  },
  {
   "cell_type": "code",
   "execution_count": 387,
   "outputs": [
    {
     "data": {
      "text/plain": "     Status     ACTIVITY Involved_ST_Function_Div Involved_Org_line_3  \\\n0  Accepted     Resolved                     V3_2          Org line C   \n1  Accepted  In Progress                     V3_2          Org line H   \n2  Accepted         Wait                     V3_2          Org line C   \n3  Accepted  In Progress                     V3_2        Org line V11   \n4  Accepted  In Progress                     V3_2          Org line C   \n5  Accepted  In Progress                  missing          Org line C   \n6  Accepted  Wait - User                     V3_2         Org line V8   \n\n  Involved_ST SR_Latest_Impact  Product Country Owner_Country time_from_first  \\\n0      G7 3rd           Medium  PROD562      se        Sweden        600134.0   \n1     S45 2nd           Medium  PROD562      se        Sweden        600134.0   \n2         V33           Medium  PROD562      se        Sweden        600134.0   \n3         G49           Medium  PROD562      se        Sweden        600134.0   \n4      L4 2nd           Medium  PROD562      se        Sweden        600134.0   \n5         G49           Medium  PROD562      se        Sweden        600134.0   \n6         G49           Medium  PROD562      se        Sweden        600134.0   \n\n  time_from_previous_et time_from_midnight weekday # ACTIVITY=In Progress  \\\n0                 401.0            45412.0  Monday                      6   \n1                 401.0            45412.0  Monday                      6   \n2                 401.0            45412.0  Monday                      6   \n3                 401.0            45412.0  Monday                      6   \n4                 401.0            45412.0  Monday                      6   \n5                 401.0            45412.0  Monday                      6   \n6                 401.0            45412.0  Monday                      6   \n\n  # ACTIVITY=Awaiting Assignment # ACTIVITY=Resolved # ACTIVITY=Assigned  \\\n0                              7                   0                   0   \n1                              7                   0                   0   \n2                              7                   0                   0   \n3                              7                   0                   0   \n4                              7                   0                   0   \n5                              7                   0                   0   \n6                              7                   0                   0   \n\n  # ACTIVITY=Closed # ACTIVITY=Wait - User # ACTIVITY=Wait - Implementation  \\\n0                 0                      1                                0   \n1                 0                      1                                0   \n2                 0                      1                                0   \n3                 0                      1                                0   \n4                 0                      1                                0   \n5                 0                      1                                0   \n6                 0                      1                                0   \n\n  # ACTIVITY=Wait # ACTIVITY=Wait - Vendor # ACTIVITY=In Call  \\\n0               0                        0                  0   \n1               0                        0                  0   \n2               0                        0                  0   \n3               0                        0                  0   \n4               0                        0                  0   \n5               0                        0                  0   \n6               0                        0                  0   \n\n  # ACTIVITY=Wait - Customer # ACTIVITY=Unmatched # ACTIVITY=Cancelled  \\\n0                          0                    0                    0   \n1                          0                    0                    0   \n2                          0                    0                    0   \n3                          0                    0                    0   \n4                          0                    0                    0   \n5                          0                    0                    0   \n6                          0                    0                    0   \n\n   lead_time  \n0  1188408.0  \n1  1810092.0  \n2  1833501.0  \n3  2512714.0  \n4  1681719.0  \n5  1667908.0  \n6  1819502.0  ",
      "text/html": "<div>\n<style scoped>\n    .dataframe tbody tr th:only-of-type {\n        vertical-align: middle;\n    }\n\n    .dataframe tbody tr th {\n        vertical-align: top;\n    }\n\n    .dataframe thead th {\n        text-align: right;\n    }\n</style>\n<table border=\"1\" class=\"dataframe\">\n  <thead>\n    <tr style=\"text-align: right;\">\n      <th></th>\n      <th>Status</th>\n      <th>ACTIVITY</th>\n      <th>Involved_ST_Function_Div</th>\n      <th>Involved_Org_line_3</th>\n      <th>Involved_ST</th>\n      <th>SR_Latest_Impact</th>\n      <th>Product</th>\n      <th>Country</th>\n      <th>Owner_Country</th>\n      <th>time_from_first</th>\n      <th>time_from_previous_et</th>\n      <th>time_from_midnight</th>\n      <th>weekday</th>\n      <th># ACTIVITY=In Progress</th>\n      <th># ACTIVITY=Awaiting Assignment</th>\n      <th># ACTIVITY=Resolved</th>\n      <th># ACTIVITY=Assigned</th>\n      <th># ACTIVITY=Closed</th>\n      <th># ACTIVITY=Wait - User</th>\n      <th># ACTIVITY=Wait - Implementation</th>\n      <th># ACTIVITY=Wait</th>\n      <th># ACTIVITY=Wait - Vendor</th>\n      <th># ACTIVITY=In Call</th>\n      <th># ACTIVITY=Wait - Customer</th>\n      <th># ACTIVITY=Unmatched</th>\n      <th># ACTIVITY=Cancelled</th>\n      <th>lead_time</th>\n    </tr>\n  </thead>\n  <tbody>\n    <tr>\n      <th>0</th>\n      <td>Accepted</td>\n      <td>Resolved</td>\n      <td>V3_2</td>\n      <td>Org line C</td>\n      <td>G7 3rd</td>\n      <td>Medium</td>\n      <td>PROD562</td>\n      <td>se</td>\n      <td>Sweden</td>\n      <td>600134.0</td>\n      <td>401.0</td>\n      <td>45412.0</td>\n      <td>Monday</td>\n      <td>6</td>\n      <td>7</td>\n      <td>0</td>\n      <td>0</td>\n      <td>0</td>\n      <td>1</td>\n      <td>0</td>\n      <td>0</td>\n      <td>0</td>\n      <td>0</td>\n      <td>0</td>\n      <td>0</td>\n      <td>0</td>\n      <td>1188408.0</td>\n    </tr>\n    <tr>\n      <th>1</th>\n      <td>Accepted</td>\n      <td>In Progress</td>\n      <td>V3_2</td>\n      <td>Org line H</td>\n      <td>S45 2nd</td>\n      <td>Medium</td>\n      <td>PROD562</td>\n      <td>se</td>\n      <td>Sweden</td>\n      <td>600134.0</td>\n      <td>401.0</td>\n      <td>45412.0</td>\n      <td>Monday</td>\n      <td>6</td>\n      <td>7</td>\n      <td>0</td>\n      <td>0</td>\n      <td>0</td>\n      <td>1</td>\n      <td>0</td>\n      <td>0</td>\n      <td>0</td>\n      <td>0</td>\n      <td>0</td>\n      <td>0</td>\n      <td>0</td>\n      <td>1810092.0</td>\n    </tr>\n    <tr>\n      <th>2</th>\n      <td>Accepted</td>\n      <td>Wait</td>\n      <td>V3_2</td>\n      <td>Org line C</td>\n      <td>V33</td>\n      <td>Medium</td>\n      <td>PROD562</td>\n      <td>se</td>\n      <td>Sweden</td>\n      <td>600134.0</td>\n      <td>401.0</td>\n      <td>45412.0</td>\n      <td>Monday</td>\n      <td>6</td>\n      <td>7</td>\n      <td>0</td>\n      <td>0</td>\n      <td>0</td>\n      <td>1</td>\n      <td>0</td>\n      <td>0</td>\n      <td>0</td>\n      <td>0</td>\n      <td>0</td>\n      <td>0</td>\n      <td>0</td>\n      <td>1833501.0</td>\n    </tr>\n    <tr>\n      <th>3</th>\n      <td>Accepted</td>\n      <td>In Progress</td>\n      <td>V3_2</td>\n      <td>Org line V11</td>\n      <td>G49</td>\n      <td>Medium</td>\n      <td>PROD562</td>\n      <td>se</td>\n      <td>Sweden</td>\n      <td>600134.0</td>\n      <td>401.0</td>\n      <td>45412.0</td>\n      <td>Monday</td>\n      <td>6</td>\n      <td>7</td>\n      <td>0</td>\n      <td>0</td>\n      <td>0</td>\n      <td>1</td>\n      <td>0</td>\n      <td>0</td>\n      <td>0</td>\n      <td>0</td>\n      <td>0</td>\n      <td>0</td>\n      <td>0</td>\n      <td>2512714.0</td>\n    </tr>\n    <tr>\n      <th>4</th>\n      <td>Accepted</td>\n      <td>In Progress</td>\n      <td>V3_2</td>\n      <td>Org line C</td>\n      <td>L4 2nd</td>\n      <td>Medium</td>\n      <td>PROD562</td>\n      <td>se</td>\n      <td>Sweden</td>\n      <td>600134.0</td>\n      <td>401.0</td>\n      <td>45412.0</td>\n      <td>Monday</td>\n      <td>6</td>\n      <td>7</td>\n      <td>0</td>\n      <td>0</td>\n      <td>0</td>\n      <td>1</td>\n      <td>0</td>\n      <td>0</td>\n      <td>0</td>\n      <td>0</td>\n      <td>0</td>\n      <td>0</td>\n      <td>0</td>\n      <td>1681719.0</td>\n    </tr>\n    <tr>\n      <th>5</th>\n      <td>Accepted</td>\n      <td>In Progress</td>\n      <td>missing</td>\n      <td>Org line C</td>\n      <td>G49</td>\n      <td>Medium</td>\n      <td>PROD562</td>\n      <td>se</td>\n      <td>Sweden</td>\n      <td>600134.0</td>\n      <td>401.0</td>\n      <td>45412.0</td>\n      <td>Monday</td>\n      <td>6</td>\n      <td>7</td>\n      <td>0</td>\n      <td>0</td>\n      <td>0</td>\n      <td>1</td>\n      <td>0</td>\n      <td>0</td>\n      <td>0</td>\n      <td>0</td>\n      <td>0</td>\n      <td>0</td>\n      <td>0</td>\n      <td>1667908.0</td>\n    </tr>\n    <tr>\n      <th>6</th>\n      <td>Accepted</td>\n      <td>Wait - User</td>\n      <td>V3_2</td>\n      <td>Org line V8</td>\n      <td>G49</td>\n      <td>Medium</td>\n      <td>PROD562</td>\n      <td>se</td>\n      <td>Sweden</td>\n      <td>600134.0</td>\n      <td>401.0</td>\n      <td>45412.0</td>\n      <td>Monday</td>\n      <td>6</td>\n      <td>7</td>\n      <td>0</td>\n      <td>0</td>\n      <td>0</td>\n      <td>1</td>\n      <td>0</td>\n      <td>0</td>\n      <td>0</td>\n      <td>0</td>\n      <td>0</td>\n      <td>0</td>\n      <td>0</td>\n      <td>1819502.0</td>\n    </tr>\n  </tbody>\n</table>\n</div>"
     },
     "execution_count": 387,
     "metadata": {},
     "output_type": "execute_result"
    }
   ],
   "source": [
    "# for _, cfe in cfes_list:\n",
    "#     cfe.visualize_as_dataframe(show_only_changes=True)\n",
    "cfes_list[9][1]"
   ],
   "metadata": {
    "collapsed": false
   }
  },
  {
   "cell_type": "markdown",
   "source": [
    "## Observation\n",
    "The output usually comes within 2 minutes"
   ],
   "metadata": {
    "collapsed": false
   }
  },
  {
   "cell_type": "markdown",
   "source": [
    "#### TODOS\n",
    "- Check how many queries (rows) have valid CFEs\n",
    "- How to make CFE not, ACTIVITY column not to take the value \"Pending Liquidation request\"\n",
    "- Discover how DiCE handle constraints ( For us do it in post-processing step )\n",
    "- CE_OU - resource column, you can modify it\n",
    "- Modify just the resource (col: CE_UO) & Activity (col: ACTIVITY)\n",
    "- build a transition system to validate activity and then resource\n",
    "- Do the above for total time case\n",
    "- I\n",
    "- Implement activity validation and resource validation to the above\n",
    "-   To do this effectively maybe figure out how the DiCE post process the constraints and implement this in that layer"
   ],
   "metadata": {
    "collapsed": false
   }
  },
  {
   "cell_type": "code",
   "execution_count": null,
   "outputs": [],
   "source": [
    "query_instances = X_train[sidx: eidx]\n",
    "cfe = exp_genetic_iris.generate_counterfactuals(query_instances, total_CFs=5, desired_class=\"opposite\", features_to_vary=cols_to_vary)\n",
    "cfe.visualize_as_dataframe(show_only_changes=True)\n",
    "\n",
    "genetic_cfes = []\n",
    "\n",
    "for idx, query_instances in X_train.iterrows():\n",
    "    query_instances = query_instances.to_frame().transpose()\n",
    "    # query_instances = X_train[0:1]  # an interesting query`\n",
    "\n",
    "    cfe = exp_genetic_iris.generate_counterfactuals(query_instances, total_CFs=5, desired_class=\"opposite\", features_to_vary=cols_to_vary)\n",
    "\n",
    "    genetic_cfes.append( (idx, cfe) )"
   ],
   "metadata": {
    "collapsed": false
   }
  },
  {
   "cell_type": "markdown",
   "source": [
    "-Implement post processing steps\n",
    "    - Transition transition_system with full traces\n",
    "    - 4 tuple comparison with country and owner country\n",
    "\n"
   ],
   "metadata": {
    "collapsed": false
   }
  },
  {
   "cell_type": "markdown",
   "source": [
    "## Deprecated Code"
   ],
   "metadata": {
    "collapsed": false
   }
  },
  {
   "cell_type": "code",
   "execution_count": null,
   "outputs": [],
   "source": [
    "def validate_transition(cfe):\n",
    "    \"\"\" Deprecated function.\n",
    "    Works with transition graph which has single activity as key.\n",
    "    Args:\n",
    "        cfe: Dice counterfactual object.\n",
    "    \"\"\"\n",
    "    cf_examples_df = cfe.cf_examples_list[0].final_cfs_df.copy()\n",
    "\n",
    "    # expected_next_action = cfe.cf_examples_list[0].test_instance_df[activity_column_name].item()\n",
    "    # print(f\"Expected next action: {expected_next_action}\")\n",
    "\n",
    "    current_activity = current_step[activity_column_name].item()\n",
    "    # === Verify the next activity\n",
    "    indexes_to_drop = []\n",
    "    for idx, suggested_next_activity in cf_examples_df[activity_column_name].items():\n",
    "        # print(f\"index: {idx}, Suggest: {suggested_next_activity}\")\n",
    "        if suggested_next_activity not in transition_graph[current_activity]:\n",
    "            indexes_to_drop.append(idx)\n",
    "\n",
    "    cf_examples_df = cf_examples_df.drop(indexes_to_drop, axis='index').reset_index(drop=True)\n",
    "\n",
    "    # === Verify the associated resources\n",
    "    indexes_to_drop = []\n",
    "    for idx, row in cf_examples_df[ [\"ACTIVITY\", \"Involved_ST_Function_Div\"] ].iterrows():\n",
    "        row_tuple = tuple(row)\n",
    "        if row_tuple not in valid_resources:\n",
    "            # print(f\"removed row had: {row_tuple}\")\n",
    "            indexes_to_drop.append(idx)\n",
    "\n",
    "    cf_examples_df = cf_examples_df.drop(indexes_to_drop, axis='index').reset_index(drop=True)\n",
    "    return cf_examples_df"
   ],
   "metadata": {
    "collapsed": false
   }
  }
 ],
 "metadata": {
  "kernelspec": {
   "display_name": "Python 3",
   "language": "python",
   "name": "python3"
  },
  "language_info": {
   "codemirror_mode": {
    "name": "ipython",
    "version": 2
   },
   "file_extension": ".py",
   "mimetype": "text/x-python",
   "name": "python",
   "nbconvert_exporter": "python",
   "pygments_lexer": "ipython2",
   "version": "2.7.6"
  }
 },
 "nbformat": 4,
 "nbformat_minor": 0
}
