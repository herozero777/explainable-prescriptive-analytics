{
 "cells": [
  {
   "cell_type": "code",
   "execution_count": 1,
   "metadata": {
    "collapsed": true
   },
   "outputs": [],
   "source": [
    "from typing import Tuple, Any\n",
    "\n",
    "import dice_ml\n",
    "from dice_ml import Dice\n",
    "from dice_ml.utils.exception import UserConfigValidationException\n",
    "\n",
    "from sklearn.datasets import load_iris, fetch_california_housing\n",
    "from sklearn.pipeline import Pipeline\n",
    "from sklearn.preprocessing import StandardScaler, OneHotEncoder\n",
    "from sklearn.model_selection import train_test_split\n",
    "from sklearn.compose import ColumnTransformer\n",
    "from sklearn.ensemble import RandomForestClassifier, RandomForestRegressor\n",
    "\n",
    "from src.transition_system import transition_system, indexs_for_window, list_to_str\n",
    "\n",
    "import pandas as pd\n",
    "import os\n",
    "import random\n",
    "import utils\n",
    "from math import ceil\n",
    "from timeout_decorator import timeout, TimeoutError\n",
    "%load_ext autoreload\n",
    "%autoreload 2"
   ]
  },
  {
   "cell_type": "markdown",
   "source": [
    "# Dataset: Bank Account Closure"
   ],
   "metadata": {
    "collapsed": false
   }
  },
  {
   "cell_type": "markdown",
   "source": [
    "## Setup Variables"
   ],
   "metadata": {
    "collapsed": false
   }
  },
  {
   "cell_type": "code",
   "execution_count": 2,
   "outputs": [],
   "source": [
    "pd.options.display.max_columns= None\n",
    "SECONDS_TO_HOURS = 60 * 60\n",
    "SECONDS_TO_DAYS = 60 * 60 * 24\n",
    "case_id_name = 'SR_Number'  # The case identifier column name.\n",
    "start_date_name = 'Change_Date+Time'  # Maybe change to start_et (start even time)\n",
    "activity_column_name = \"ACTIVITY\""
   ],
   "metadata": {
    "collapsed": false
   }
  },
  {
   "cell_type": "markdown",
   "source": [
    "## Load Data"
   ],
   "metadata": {
    "collapsed": false
   }
  },
  {
   "cell_type": "code",
   "execution_count": 3,
   "outputs": [],
   "source": [
    "data_dir = \"../preprocessed_datasets/\"\n",
    "train_dataset_file = \"train-set-cfe.csv\"\n",
    "test_dataset_file = \"test-set-cfe.csv\"\n",
    "df_train = pd.read_csv(os.path.join(data_dir, train_dataset_file))\n",
    "df_test = pd.read_csv(os.path.join(data_dir, test_dataset_file))"
   ],
   "metadata": {
    "collapsed": false
   }
  },
  {
   "cell_type": "markdown",
   "source": [
    "### Helper functions"
   ],
   "metadata": {
    "collapsed": false
   }
  },
  {
   "cell_type": "code",
   "execution_count": 10,
   "outputs": [],
   "source": [
    "def get_case_id(df, case_id_name=case_id_name, multi=False):\n",
    "    return df[case_id_name].unique().item()\n",
    "\n",
    "def get_query_instance(sidx=14, eidx=16):\n",
    "    assert eidx - sidx == 2, \"One row represents the current action and the next one represents the suggested action\"\n",
    "    current_step = X_train[sidx: sidx+1]\n",
    "    expected_next_step = X_train[eidx-1: eidx]\n",
    "    return current_step, expected_next_step\n",
    "\n",
    "def activity_n_resources(df, resources_columns=None):\n",
    "    \"\"\"\n",
    "    Creates a set of tuples, each tuple has elements from the columns specified through `resource_columns`.\n",
    "    E.g. { ('action_1', 'rresource_1'), ... (activity_3, resource_5) }\n",
    "    Args:\n",
    "        df (pd.DataFrame):\n",
    "        resources_columns (list): columns that contains the activity and resources.\n",
    "    Returns:\n",
    "        Set of tuples. A single element contains the activity and resources of a single row from the\n",
    "        dataframe.\n",
    "    \"\"\"\n",
    "    if resources_columns is None:\n",
    "        raise TypeError(\"Please specify the columns that have resources\")\n",
    "\n",
    "    valid_activity_n_resource = set( df[resources_columns].apply(tuple, axis='columns') )\n",
    "    return valid_activity_n_resource\n",
    "\n",
    "# current_step, query_instances = get_query_instance(14, 16)\n",
    "\n",
    "# valid_resources = activity_n_resources(df_train, [\"ACTIVITY\", \"Involved_ST_Function_Div\", \"Involved_Org_line_3\", \"Involved_ST\"])\n",
    "valid_resources = activity_n_resources(df_train, [\"ACTIVITY\", \"Involved_ST_Function_Div\"])\n",
    "# len(valid_resources)"
   ],
   "metadata": {
    "collapsed": false
   }
  },
  {
   "cell_type": "markdown",
   "source": [
    "### Basic Preprocessing of the dataset"
   ],
   "metadata": {
    "collapsed": false
   }
  },
  {
   "cell_type": "code",
   "execution_count": 5,
   "outputs": [
    {
     "name": "stdout",
     "output_type": "stream",
     "text": [
      "Rows in df_train: 20000\n",
      "<class 'pandas.core.frame.DataFrame'>\n",
      "RangeIndex: 20000 entries, 0 to 19999\n",
      "Data columns (total 30 columns):\n",
      " #   Column                            Non-Null Count  Dtype  \n",
      "---  ------                            --------------  -----  \n",
      " 0   SR_Number                         20000 non-null  object \n",
      " 1   Change_Date+Time                  20000 non-null  int64  \n",
      " 2   Status                            20000 non-null  object \n",
      " 3   ACTIVITY                          20000 non-null  object \n",
      " 4   Involved_ST_Function_Div          20000 non-null  object \n",
      " 5   Involved_Org_line_3               20000 non-null  object \n",
      " 6   Involved_ST                       20000 non-null  object \n",
      " 7   SR_Latest_Impact                  20000 non-null  object \n",
      " 8   Product                           20000 non-null  object \n",
      " 9   Country                           20000 non-null  object \n",
      " 10  Owner_Country                     20000 non-null  object \n",
      " 11  time_from_first                   20000 non-null  float64\n",
      " 12  time_from_previous_et             20000 non-null  float64\n",
      " 13  time_from_midnight                20000 non-null  float64\n",
      " 14  weekday                           20000 non-null  object \n",
      " 15  time_remaining                    20000 non-null  float64\n",
      " 16  # ACTIVITY=In Progress            20000 non-null  int64  \n",
      " 17  # ACTIVITY=Awaiting Assignment    20000 non-null  int64  \n",
      " 18  # ACTIVITY=Resolved               20000 non-null  int64  \n",
      " 19  # ACTIVITY=Assigned               20000 non-null  int64  \n",
      " 20  # ACTIVITY=Closed                 20000 non-null  int64  \n",
      " 21  # ACTIVITY=Wait - User            20000 non-null  int64  \n",
      " 22  # ACTIVITY=Wait - Implementation  20000 non-null  int64  \n",
      " 23  # ACTIVITY=Wait                   20000 non-null  int64  \n",
      " 24  # ACTIVITY=Wait - Vendor          20000 non-null  int64  \n",
      " 25  # ACTIVITY=In Call                20000 non-null  int64  \n",
      " 26  # ACTIVITY=Wait - Customer        20000 non-null  int64  \n",
      " 27  # ACTIVITY=Unmatched              20000 non-null  int64  \n",
      " 28  # ACTIVITY=Cancelled              20000 non-null  int64  \n",
      " 29  lead_time                         20000 non-null  float64\n",
      "dtypes: float64(5), int64(14), object(11)\n",
      "memory usage: 4.6+ MB\n"
     ]
    }
   ],
   "source": [
    "df_train = df_train[:20_000]  # 31_289\n",
    "# df_test = df_test[: 19_041]\n",
    "print(f\"Rows in df_train: {len(df_train)}\")\n",
    "df_train.info()"
   ],
   "metadata": {
    "collapsed": false
   }
  },
  {
   "cell_type": "markdown",
   "source": [
    "### Prepare the Test Dataset"
   ],
   "metadata": {
    "collapsed": false
   }
  },
  {
   "cell_type": "code",
   "execution_count": 6,
   "outputs": [],
   "source": [
    "def get_test(df, case_id_name):\n",
    "    # df_result = pd.DataFrame(columns=df.columns)\n",
    "    result_lst = []\n",
    "\n",
    "    for idx in df[case_id_name].unique():\n",
    "        df_trace = df[df[case_id_name] == idx]\n",
    "        # ceil enables cases with 1 row to pass through\n",
    "        cut = ceil(len(df_trace) * random.uniform(0.5, 0.7)) #+ 2  # 2 because one for the floor and one for the pred\n",
    "        df_trace = df_trace.iloc[:cut].reset_index(drop=True)\n",
    "\n",
    "        # df_result = pd.concat([df_result, df_trace])\n",
    "        result_lst.append(df_trace.reset_index(drop=True))\n",
    "        # break\n",
    "    # return df_result.reset_index(drop=True)\n",
    "    return result_lst\n",
    "\n",
    "test_cases = get_test(df_test, case_id_name)"
   ],
   "metadata": {
    "collapsed": false
   }
  },
  {
   "cell_type": "code",
   "execution_count": 7,
   "outputs": [],
   "source": [
    "# ### Features that can vary\n",
    "# option 1:\n",
    "# cols_to_vary = [col for col in df_train.columns if col[0] == '#']\n",
    "# cols_to_vary.extend([\"ACTIVITY\"])\n",
    "\n",
    "# option 2:\n",
    "cols_to_vary = [\"ACTIVITY\", \"Involved_ST_Function_Div\", \"Involved_Org_line_3\", \"Involved_ST\"]\n",
    "\n",
    "outcome_name = \"lead_time\"\n",
    "def prepare_df_for_ml(df, outcome_name, columns_to_remove=None) -> tuple[pd.DataFrame, pd.DataFrame]:\n",
    "    \"\"\"\n",
    "    :param str outcome_name: name of the target column.\n",
    "    \"\"\"\n",
    "    # Before training for ml we need to remove columns that can are not needed for ML model.\n",
    "    if columns_to_remove is None:\n",
    "        columns_to_remove = [\"Change_Date+Time\", \"time_remaining\"]\n",
    "    df = df.drop([case_id_name], axis=\"columns\")\n",
    "    df = df.drop(columns_to_remove, axis=\"columns\")\n",
    "    X = df.drop([outcome_name], axis=1)\n",
    "    y = df[outcome_name]\n",
    "    return X, y\n",
    "\n",
    "X_train, y_train = prepare_df_for_ml(df_train, outcome_name)\n",
    "# X_test, y_test = prepare_df_for_ml(df_test, outcome_name)\n",
    "\n",
    "continuous_features = [\"time_from_first\", \"time_from_previous_et\", \"time_from_midnight\", \"# ACTIVITY=In Progress\", \"# ACTIVITY=Awaiting Assignment\",\n",
    "                       \"# ACTIVITY=Resolved\", \"# ACTIVITY=Assigned\", \"# ACTIVITY=Closed\", \"# ACTIVITY=Wait - User\", \"# ACTIVITY=Wait - Implementation\", \"# ACTIVITY=Wait\",\n",
    "                       \"# ACTIVITY=Wait - Vendor\", \"# ACTIVITY=In Call\", \"# ACTIVITY=Wait - Customer\", \"# ACTIVITY=Unmatched\", \"# ACTIVITY=Cancelled\"]\n",
    "categorical_features = [\"Status\", \"ACTIVITY\", \"Involved_ST_Function_Div\", \"Involved_Org_line_3\", \"Involved_ST\", \"SR_Latest_Impact\", \"Product\", \"Country\", \"Owner_Country\",\n",
    "                        \"weekday\"]\n",
    "\n",
    "# We create the preprocessing pipelines for both numeric and categorical data.\n",
    "numeric_transformer = Pipeline(steps=[\n",
    "    ('scaler', StandardScaler())])\n",
    "\n",
    "categorical_transformer = Pipeline(steps=[\n",
    "    ('onehot', OneHotEncoder(handle_unknown='ignore'))])\n",
    "\n",
    "transformations = ColumnTransformer(\n",
    "    transformers=[\n",
    "        ('num', numeric_transformer, continuous_features),\n",
    "        ('cat', categorical_transformer, categorical_features)])\n",
    "\n",
    "# Append classifier to preprocessing pipeline.\n",
    "# Now we have a full prediction pipeline.\n",
    "clf = Pipeline(steps=[('preprocessor', transformations),\n",
    "                           ('classifier', RandomForestRegressor(n_jobs=7))])\n",
    "model = clf.fit(X_train, y_train)\n",
    "\n",
    "# ## Create DiCE model\n",
    "d_iris = dice_ml.Data(dataframe=pd.concat([X_train, y_train], axis=\"columns\"),\n",
    "                      continuous_features=continuous_features,\n",
    "                      outcome_name=outcome_name)\n",
    "\n",
    "# We provide the type of model as a parameter (model_type)\n",
    "m_iris = dice_ml.Model(model=model, backend=\"sklearn\", model_type='regressor')\n",
    "method = \"random\"  # genetic, kdtree, random\n",
    "exp_genetic_iris = Dice(d_iris, m_iris, method=method)  # Method random does not support features_weights argument in generate_counterfactuals()\n",
    "# exp_genetic_iris = Dice(d_iris, m_iris, method=\"kdtree\")"
   ],
   "metadata": {
    "collapsed": false
   }
  },
  {
   "cell_type": "markdown",
   "source": [
    "## Experiment with Single Queries"
   ],
   "metadata": {
    "collapsed": false
   }
  },
  {
   "cell_type": "code",
   "execution_count": 58,
   "outputs": [
    {
     "data": {
      "text/plain": "      SR_Number  Change_Date+Time     Status             ACTIVITY  \\\n70  1-504538555        1333547680   Accepted          In Progress   \n71  1-504538555        1336114503   Accepted          In Progress   \n72  1-504538555        1336114622  Completed             Resolved   \n73  1-506071646        1299490928   Accepted          In Progress   \n74  1-506071646        1299491083   Accepted          In Progress   \n75  1-506071646        1299491519   Accepted          In Progress   \n76  1-506071646        1299491571     Queued  Awaiting Assignment   \n77  1-506071646        1299494911   Accepted          In Progress   \n78  1-506071646        1299495320     Queued  Awaiting Assignment   \n79  1-506071646        1299495817   Accepted          In Progress   \n\n   Involved_ST_Function_Div Involved_Org_line_3 Involved_ST SR_Latest_Impact  \\\n70                  missing        Org line V7n     V32 2nd           Medium   \n71                  missing        Org line V7n     V37 2nd           Medium   \n72                  missing        Org line V7n     V37 2nd           Medium   \n73                     A2_1         Org line A2          D8           Medium   \n74                     A2_1         Org line A2          D8           Medium   \n75                     A2_1         Org line A2          D8           Medium   \n76                  missing        Org line V7n     V37 2nd           Medium   \n77                  missing        Org line V7n     V37 2nd           Medium   \n78                     A2_1         Org line A2          D8           Medium   \n79                     A2_1         Org line A2          D8           Medium   \n\n    Product Country Owner_Country  time_from_first  time_from_previous_et  \\\n70  PROD706      nl   Netherlands       34648867.0                   69.0   \n71  PROD706      nl   Netherlands       37215690.0              2566823.0   \n72  PROD706      nl   Netherlands       37215809.0                  119.0   \n73  PROD542      nl        POLAND              0.0                    0.0   \n74  PROD542      nl        POLAND            155.0                  155.0   \n75  PROD542      nl        POLAND            591.0                  436.0   \n76  PROD542      nl        POLAND            643.0                   52.0   \n77  PROD542      nl   Netherlands           3983.0                 3340.0   \n78  PROD542      nl   Netherlands           4392.0                  409.0   \n79  PROD542      nl        POLAND           4889.0                  497.0   \n\n    time_from_midnight    weekday  time_remaining  # ACTIVITY=In Progress  \\\n70             50080.0  Wednesday       3230810.0                       8   \n71             24903.0     Friday        663987.0                       9   \n72             25022.0     Friday        663868.0                      10   \n73             34928.0     Monday      37287562.0                       0   \n74             35083.0     Monday      37287407.0                       1   \n75             35519.0     Monday      37286971.0                       2   \n76             35571.0     Monday      37286919.0                       3   \n77             38911.0     Monday      37283579.0                       3   \n78             39320.0     Monday      37283170.0                       4   \n79             39817.0     Monday      37282673.0                       4   \n\n    # ACTIVITY=Awaiting Assignment  # ACTIVITY=Resolved  # ACTIVITY=Assigned  \\\n70                               5                    0                    1   \n71                               5                    0                    1   \n72                               5                    0                    1   \n73                               0                    0                    0   \n74                               0                    0                    0   \n75                               0                    0                    0   \n76                               0                    0                    0   \n77                               1                    0                    0   \n78                               1                    0                    0   \n79                               2                    0                    0   \n\n    # ACTIVITY=Closed  # ACTIVITY=Wait - User  \\\n70                  0                       0   \n71                  0                       0   \n72                  0                       0   \n73                  0                       0   \n74                  0                       0   \n75                  0                       0   \n76                  0                       0   \n77                  0                       0   \n78                  0                       0   \n79                  0                       0   \n\n    # ACTIVITY=Wait - Implementation  # ACTIVITY=Wait  \\\n70                                 1                0   \n71                                 1                0   \n72                                 1                0   \n73                                 0                0   \n74                                 0                0   \n75                                 0                0   \n76                                 0                0   \n77                                 0                0   \n78                                 0                0   \n79                                 0                0   \n\n    # ACTIVITY=Wait - Vendor  # ACTIVITY=In Call  # ACTIVITY=Wait - Customer  \\\n70                         0                   0                           0   \n71                         0                   0                           0   \n72                         0                   0                           0   \n73                         0                   0                           0   \n74                         0                   0                           0   \n75                         0                   0                           0   \n76                         0                   0                           0   \n77                         0                   0                           0   \n78                         0                   0                           0   \n79                         0                   0                           0   \n\n    # ACTIVITY=Unmatched  # ACTIVITY=Cancelled   lead_time  \n70                     0                     0  37879677.0  \n71                     0                     0  37879677.0  \n72                     0                     0  37879677.0  \n73                     0                     0  37287562.0  \n74                     0                     0  37287562.0  \n75                     0                     0  37287562.0  \n76                     0                     0  37287562.0  \n77                     0                     0  37287562.0  \n78                     0                     0  37287562.0  \n79                     0                     0  37287562.0  ",
      "text/html": "<div>\n<style scoped>\n    .dataframe tbody tr th:only-of-type {\n        vertical-align: middle;\n    }\n\n    .dataframe tbody tr th {\n        vertical-align: top;\n    }\n\n    .dataframe thead th {\n        text-align: right;\n    }\n</style>\n<table border=\"1\" class=\"dataframe\">\n  <thead>\n    <tr style=\"text-align: right;\">\n      <th></th>\n      <th>SR_Number</th>\n      <th>Change_Date+Time</th>\n      <th>Status</th>\n      <th>ACTIVITY</th>\n      <th>Involved_ST_Function_Div</th>\n      <th>Involved_Org_line_3</th>\n      <th>Involved_ST</th>\n      <th>SR_Latest_Impact</th>\n      <th>Product</th>\n      <th>Country</th>\n      <th>Owner_Country</th>\n      <th>time_from_first</th>\n      <th>time_from_previous_et</th>\n      <th>time_from_midnight</th>\n      <th>weekday</th>\n      <th>time_remaining</th>\n      <th># ACTIVITY=In Progress</th>\n      <th># ACTIVITY=Awaiting Assignment</th>\n      <th># ACTIVITY=Resolved</th>\n      <th># ACTIVITY=Assigned</th>\n      <th># ACTIVITY=Closed</th>\n      <th># ACTIVITY=Wait - User</th>\n      <th># ACTIVITY=Wait - Implementation</th>\n      <th># ACTIVITY=Wait</th>\n      <th># ACTIVITY=Wait - Vendor</th>\n      <th># ACTIVITY=In Call</th>\n      <th># ACTIVITY=Wait - Customer</th>\n      <th># ACTIVITY=Unmatched</th>\n      <th># ACTIVITY=Cancelled</th>\n      <th>lead_time</th>\n    </tr>\n  </thead>\n  <tbody>\n    <tr>\n      <th>70</th>\n      <td>1-504538555</td>\n      <td>1333547680</td>\n      <td>Accepted</td>\n      <td>In Progress</td>\n      <td>missing</td>\n      <td>Org line V7n</td>\n      <td>V32 2nd</td>\n      <td>Medium</td>\n      <td>PROD706</td>\n      <td>nl</td>\n      <td>Netherlands</td>\n      <td>34648867.0</td>\n      <td>69.0</td>\n      <td>50080.0</td>\n      <td>Wednesday</td>\n      <td>3230810.0</td>\n      <td>8</td>\n      <td>5</td>\n      <td>0</td>\n      <td>1</td>\n      <td>0</td>\n      <td>0</td>\n      <td>1</td>\n      <td>0</td>\n      <td>0</td>\n      <td>0</td>\n      <td>0</td>\n      <td>0</td>\n      <td>0</td>\n      <td>37879677.0</td>\n    </tr>\n    <tr>\n      <th>71</th>\n      <td>1-504538555</td>\n      <td>1336114503</td>\n      <td>Accepted</td>\n      <td>In Progress</td>\n      <td>missing</td>\n      <td>Org line V7n</td>\n      <td>V37 2nd</td>\n      <td>Medium</td>\n      <td>PROD706</td>\n      <td>nl</td>\n      <td>Netherlands</td>\n      <td>37215690.0</td>\n      <td>2566823.0</td>\n      <td>24903.0</td>\n      <td>Friday</td>\n      <td>663987.0</td>\n      <td>9</td>\n      <td>5</td>\n      <td>0</td>\n      <td>1</td>\n      <td>0</td>\n      <td>0</td>\n      <td>1</td>\n      <td>0</td>\n      <td>0</td>\n      <td>0</td>\n      <td>0</td>\n      <td>0</td>\n      <td>0</td>\n      <td>37879677.0</td>\n    </tr>\n    <tr>\n      <th>72</th>\n      <td>1-504538555</td>\n      <td>1336114622</td>\n      <td>Completed</td>\n      <td>Resolved</td>\n      <td>missing</td>\n      <td>Org line V7n</td>\n      <td>V37 2nd</td>\n      <td>Medium</td>\n      <td>PROD706</td>\n      <td>nl</td>\n      <td>Netherlands</td>\n      <td>37215809.0</td>\n      <td>119.0</td>\n      <td>25022.0</td>\n      <td>Friday</td>\n      <td>663868.0</td>\n      <td>10</td>\n      <td>5</td>\n      <td>0</td>\n      <td>1</td>\n      <td>0</td>\n      <td>0</td>\n      <td>1</td>\n      <td>0</td>\n      <td>0</td>\n      <td>0</td>\n      <td>0</td>\n      <td>0</td>\n      <td>0</td>\n      <td>37879677.0</td>\n    </tr>\n    <tr>\n      <th>73</th>\n      <td>1-506071646</td>\n      <td>1299490928</td>\n      <td>Accepted</td>\n      <td>In Progress</td>\n      <td>A2_1</td>\n      <td>Org line A2</td>\n      <td>D8</td>\n      <td>Medium</td>\n      <td>PROD542</td>\n      <td>nl</td>\n      <td>POLAND</td>\n      <td>0.0</td>\n      <td>0.0</td>\n      <td>34928.0</td>\n      <td>Monday</td>\n      <td>37287562.0</td>\n      <td>0</td>\n      <td>0</td>\n      <td>0</td>\n      <td>0</td>\n      <td>0</td>\n      <td>0</td>\n      <td>0</td>\n      <td>0</td>\n      <td>0</td>\n      <td>0</td>\n      <td>0</td>\n      <td>0</td>\n      <td>0</td>\n      <td>37287562.0</td>\n    </tr>\n    <tr>\n      <th>74</th>\n      <td>1-506071646</td>\n      <td>1299491083</td>\n      <td>Accepted</td>\n      <td>In Progress</td>\n      <td>A2_1</td>\n      <td>Org line A2</td>\n      <td>D8</td>\n      <td>Medium</td>\n      <td>PROD542</td>\n      <td>nl</td>\n      <td>POLAND</td>\n      <td>155.0</td>\n      <td>155.0</td>\n      <td>35083.0</td>\n      <td>Monday</td>\n      <td>37287407.0</td>\n      <td>1</td>\n      <td>0</td>\n      <td>0</td>\n      <td>0</td>\n      <td>0</td>\n      <td>0</td>\n      <td>0</td>\n      <td>0</td>\n      <td>0</td>\n      <td>0</td>\n      <td>0</td>\n      <td>0</td>\n      <td>0</td>\n      <td>37287562.0</td>\n    </tr>\n    <tr>\n      <th>75</th>\n      <td>1-506071646</td>\n      <td>1299491519</td>\n      <td>Accepted</td>\n      <td>In Progress</td>\n      <td>A2_1</td>\n      <td>Org line A2</td>\n      <td>D8</td>\n      <td>Medium</td>\n      <td>PROD542</td>\n      <td>nl</td>\n      <td>POLAND</td>\n      <td>591.0</td>\n      <td>436.0</td>\n      <td>35519.0</td>\n      <td>Monday</td>\n      <td>37286971.0</td>\n      <td>2</td>\n      <td>0</td>\n      <td>0</td>\n      <td>0</td>\n      <td>0</td>\n      <td>0</td>\n      <td>0</td>\n      <td>0</td>\n      <td>0</td>\n      <td>0</td>\n      <td>0</td>\n      <td>0</td>\n      <td>0</td>\n      <td>37287562.0</td>\n    </tr>\n    <tr>\n      <th>76</th>\n      <td>1-506071646</td>\n      <td>1299491571</td>\n      <td>Queued</td>\n      <td>Awaiting Assignment</td>\n      <td>missing</td>\n      <td>Org line V7n</td>\n      <td>V37 2nd</td>\n      <td>Medium</td>\n      <td>PROD542</td>\n      <td>nl</td>\n      <td>POLAND</td>\n      <td>643.0</td>\n      <td>52.0</td>\n      <td>35571.0</td>\n      <td>Monday</td>\n      <td>37286919.0</td>\n      <td>3</td>\n      <td>0</td>\n      <td>0</td>\n      <td>0</td>\n      <td>0</td>\n      <td>0</td>\n      <td>0</td>\n      <td>0</td>\n      <td>0</td>\n      <td>0</td>\n      <td>0</td>\n      <td>0</td>\n      <td>0</td>\n      <td>37287562.0</td>\n    </tr>\n    <tr>\n      <th>77</th>\n      <td>1-506071646</td>\n      <td>1299494911</td>\n      <td>Accepted</td>\n      <td>In Progress</td>\n      <td>missing</td>\n      <td>Org line V7n</td>\n      <td>V37 2nd</td>\n      <td>Medium</td>\n      <td>PROD542</td>\n      <td>nl</td>\n      <td>Netherlands</td>\n      <td>3983.0</td>\n      <td>3340.0</td>\n      <td>38911.0</td>\n      <td>Monday</td>\n      <td>37283579.0</td>\n      <td>3</td>\n      <td>1</td>\n      <td>0</td>\n      <td>0</td>\n      <td>0</td>\n      <td>0</td>\n      <td>0</td>\n      <td>0</td>\n      <td>0</td>\n      <td>0</td>\n      <td>0</td>\n      <td>0</td>\n      <td>0</td>\n      <td>37287562.0</td>\n    </tr>\n    <tr>\n      <th>78</th>\n      <td>1-506071646</td>\n      <td>1299495320</td>\n      <td>Queued</td>\n      <td>Awaiting Assignment</td>\n      <td>A2_1</td>\n      <td>Org line A2</td>\n      <td>D8</td>\n      <td>Medium</td>\n      <td>PROD542</td>\n      <td>nl</td>\n      <td>Netherlands</td>\n      <td>4392.0</td>\n      <td>409.0</td>\n      <td>39320.0</td>\n      <td>Monday</td>\n      <td>37283170.0</td>\n      <td>4</td>\n      <td>1</td>\n      <td>0</td>\n      <td>0</td>\n      <td>0</td>\n      <td>0</td>\n      <td>0</td>\n      <td>0</td>\n      <td>0</td>\n      <td>0</td>\n      <td>0</td>\n      <td>0</td>\n      <td>0</td>\n      <td>37287562.0</td>\n    </tr>\n    <tr>\n      <th>79</th>\n      <td>1-506071646</td>\n      <td>1299495817</td>\n      <td>Accepted</td>\n      <td>In Progress</td>\n      <td>A2_1</td>\n      <td>Org line A2</td>\n      <td>D8</td>\n      <td>Medium</td>\n      <td>PROD542</td>\n      <td>nl</td>\n      <td>POLAND</td>\n      <td>4889.0</td>\n      <td>497.0</td>\n      <td>39817.0</td>\n      <td>Monday</td>\n      <td>37282673.0</td>\n      <td>4</td>\n      <td>2</td>\n      <td>0</td>\n      <td>0</td>\n      <td>0</td>\n      <td>0</td>\n      <td>0</td>\n      <td>0</td>\n      <td>0</td>\n      <td>0</td>\n      <td>0</td>\n      <td>0</td>\n      <td>0</td>\n      <td>37287562.0</td>\n    </tr>\n  </tbody>\n</table>\n</div>"
     },
     "execution_count": 58,
     "metadata": {},
     "output_type": "execute_result"
    }
   ],
   "source": [
    "sidx = 70\n",
    "eidx = 80\n",
    "\n",
    "df_train[sidx: eidx]\n",
    "# df_train[sidx: eidx]"
   ],
   "metadata": {
    "collapsed": false
   }
  },
  {
   "cell_type": "code",
   "execution_count": 9,
   "outputs": [
    {
     "name": "stderr",
     "output_type": "stream",
     "text": [
      "100%|██████████| 1/1 [00:02<00:00,  2.03s/it]"
     ]
    },
    {
     "name": "stdout",
     "output_type": "stream",
     "text": [
      "Query instance (original outcome : 31919102)\n"
     ]
    },
    {
     "name": "stderr",
     "output_type": "stream",
     "text": [
      "\n"
     ]
    },
    {
     "data": {
      "text/plain": "     Status     ACTIVITY Involved_ST_Function_Div Involved_Org_line_3  \\\n0  Accepted  In Progress                     A2_1         Org line A2   \n\n  Involved_ST SR_Latest_Impact  Product Country Owner_Country  \\\n0          D8           Medium  PROD542      nl        POLAND   \n\n   time_from_first  time_from_previous_et  time_from_midnight weekday  \\\n0              0.0                    0.0             34928.0  Monday   \n\n   # ACTIVITY=In Progress  # ACTIVITY=Awaiting Assignment  \\\n0                       0                               0   \n\n   # ACTIVITY=Resolved  # ACTIVITY=Assigned  # ACTIVITY=Closed  \\\n0                    0                    0                  0   \n\n   # ACTIVITY=Wait - User  # ACTIVITY=Wait - Implementation  # ACTIVITY=Wait  \\\n0                       0                                 0                0   \n\n   # ACTIVITY=Wait - Vendor  # ACTIVITY=In Call  # ACTIVITY=Wait - Customer  \\\n0                         0                   0                           0   \n\n   # ACTIVITY=Unmatched  # ACTIVITY=Cancelled   lead_time  \n0                     0                     0  31919102.0  ",
      "text/html": "<div>\n<style scoped>\n    .dataframe tbody tr th:only-of-type {\n        vertical-align: middle;\n    }\n\n    .dataframe tbody tr th {\n        vertical-align: top;\n    }\n\n    .dataframe thead th {\n        text-align: right;\n    }\n</style>\n<table border=\"1\" class=\"dataframe\">\n  <thead>\n    <tr style=\"text-align: right;\">\n      <th></th>\n      <th>Status</th>\n      <th>ACTIVITY</th>\n      <th>Involved_ST_Function_Div</th>\n      <th>Involved_Org_line_3</th>\n      <th>Involved_ST</th>\n      <th>SR_Latest_Impact</th>\n      <th>Product</th>\n      <th>Country</th>\n      <th>Owner_Country</th>\n      <th>time_from_first</th>\n      <th>time_from_previous_et</th>\n      <th>time_from_midnight</th>\n      <th>weekday</th>\n      <th># ACTIVITY=In Progress</th>\n      <th># ACTIVITY=Awaiting Assignment</th>\n      <th># ACTIVITY=Resolved</th>\n      <th># ACTIVITY=Assigned</th>\n      <th># ACTIVITY=Closed</th>\n      <th># ACTIVITY=Wait - User</th>\n      <th># ACTIVITY=Wait - Implementation</th>\n      <th># ACTIVITY=Wait</th>\n      <th># ACTIVITY=Wait - Vendor</th>\n      <th># ACTIVITY=In Call</th>\n      <th># ACTIVITY=Wait - Customer</th>\n      <th># ACTIVITY=Unmatched</th>\n      <th># ACTIVITY=Cancelled</th>\n      <th>lead_time</th>\n    </tr>\n  </thead>\n  <tbody>\n    <tr>\n      <th>0</th>\n      <td>Accepted</td>\n      <td>In Progress</td>\n      <td>A2_1</td>\n      <td>Org line A2</td>\n      <td>D8</td>\n      <td>Medium</td>\n      <td>PROD542</td>\n      <td>nl</td>\n      <td>POLAND</td>\n      <td>0.0</td>\n      <td>0.0</td>\n      <td>34928.0</td>\n      <td>Monday</td>\n      <td>0</td>\n      <td>0</td>\n      <td>0</td>\n      <td>0</td>\n      <td>0</td>\n      <td>0</td>\n      <td>0</td>\n      <td>0</td>\n      <td>0</td>\n      <td>0</td>\n      <td>0</td>\n      <td>0</td>\n      <td>0</td>\n      <td>31919102.0</td>\n    </tr>\n  </tbody>\n</table>\n</div>"
     },
     "metadata": {},
     "output_type": "display_data"
    },
    {
     "name": "stdout",
     "output_type": "stream",
     "text": [
      "\n",
      "Diverse Counterfactual set (new outcome: [0, 33558805])\n"
     ]
    },
    {
     "data": {
      "text/plain": "   Status         ACTIVITY Involved_ST_Function_Div Involved_Org_line_3  \\\n0       -    Wait - Vendor                      E_8                   -   \n1       -                -                      E_2                   -   \n2       -                -                      C_1                   -   \n3       -                -                     V3_3                   -   \n4       -      Wait - User                     A2_5                   -   \n5       -                -                        -                   -   \n6       -                -                      E_1         Org line V7   \n7       -           Closed                        -         Org line V7   \n8       -                -                      C_6                   -   \n9       -                -                      E_6                   -   \n10      -                -                        -          Org line H   \n11      -                -                        -          Org line H   \n12      -         Assigned                        -          Org line C   \n13      -      Wait - User                      E_7                   -   \n14      -                -                        -         Org line V1   \n15      -                -                      C_3          Org line C   \n16      -                -                        -                   -   \n17      -  Wait - Customer                        -                   -   \n18      -                -                        -          Org line H   \n19      -                -                        -                   -   \n20      -           Closed                      E_3                   -   \n21      -                -                        -                   -   \n22      -                -                      E_4                   -   \n23      -                -                      C_1                   -   \n24      -         Assigned                        -                   -   \n25      -                -                      C_6        Org line V10   \n26      -          In Call                        -                   -   \n27      -                -                        -                   -   \n28      -                -                     A2_5         Org line V5   \n29      -                -                     A2_2        Org line V11   \n30      -                -                        -          Org line C   \n31      -                -                     A2_3                   -   \n32      -                -                        -                   -   \n33      -                -                        -                   -   \n34      -                -                     E_10         Org line G4   \n\n   Involved_ST SR_Latest_Impact Product Country Owner_Country time_from_first  \\\n0            -                -       -       -             -               -   \n1           G1                -       -       -             -               -   \n2       T4 2nd                -       -       -             -               -   \n3          M23                -       -       -             -               -   \n4            -                -       -       -             -               -   \n5      G88 2nd                -       -       -             -               -   \n6            -                -       -       -             -               -   \n7            -                -       -       -             -               -   \n8           U1                -       -       -             -               -   \n9         G299                -       -       -             -               -   \n10           -                -       -       -             -               -   \n11     V46 2nd                -       -       -             -               -   \n12           -                -       -       -             -               -   \n13           -                -       -       -             -               -   \n14    G207 2nd                -       -       -             -               -   \n15           -                -       -       -             -               -   \n16          U1                -       -       -             -               -   \n17      G9 2nd                -       -       -             -               -   \n18      K4 2nd                -       -       -             -               -   \n19     T14 2nd                -       -       -             -               -   \n20           -                -       -       -             -               -   \n21      N3 2nd                -       -       -             -               -   \n22        G323                -       -       -             -               -   \n23     G22 2nd                -       -       -             -               -   \n24           -                -       -       -             -               -   \n25           -                -       -       -             -               -   \n26          S6                -       -       -             -               -   \n27         N56                -       -       -             -               -   \n28           -                -       -       -             -               -   \n29           -                -       -       -             -               -   \n30         G96                -       -       -             -               -   \n31      G2 3rd                -       -       -             -               -   \n32     V10 3rd                -       -       -             -               -   \n33          P1                -       -       -             -               -   \n34           -                -       -       -             -               -   \n\n   time_from_previous_et time_from_midnight weekday # ACTIVITY=In Progress  \\\n0                      -                  -       -                      -   \n1                      -                  -       -                      -   \n2                      -                  -       -                      -   \n3                      -                  -       -                      -   \n4                      -                  -       -                      -   \n5                      -                  -       -                      -   \n6                      -                  -       -                      -   \n7                      -                  -       -                      -   \n8                      -                  -       -                      -   \n9                      -                  -       -                      -   \n10                     -                  -       -                      -   \n11                     -                  -       -                      -   \n12                     -                  -       -                      -   \n13                     -                  -       -                      -   \n14                     -                  -       -                      -   \n15                     -                  -       -                      -   \n16                     -                  -       -                      -   \n17                     -                  -       -                      -   \n18                     -                  -       -                      -   \n19                     -                  -       -                      -   \n20                     -                  -       -                      -   \n21                     -                  -       -                      -   \n22                     -                  -       -                      -   \n23                     -                  -       -                      -   \n24                     -                  -       -                      -   \n25                     -                  -       -                      -   \n26                     -                  -       -                      -   \n27                     -                  -       -                      -   \n28                     -                  -       -                      -   \n29                     -                  -       -                      -   \n30                     -                  -       -                      -   \n31                     -                  -       -                      -   \n32                     -                  -       -                      -   \n33                     -                  -       -                      -   \n34                     -                  -       -                      -   \n\n   # ACTIVITY=Awaiting Assignment # ACTIVITY=Resolved # ACTIVITY=Assigned  \\\n0                               -                   -                   -   \n1                               -                   -                   -   \n2                               -                   -                   -   \n3                               -                   -                   -   \n4                               -                   -                   -   \n5                               -                   -                   -   \n6                               -                   -                   -   \n7                               -                   -                   -   \n8                               -                   -                   -   \n9                               -                   -                   -   \n10                              -                   -                   -   \n11                              -                   -                   -   \n12                              -                   -                   -   \n13                              -                   -                   -   \n14                              -                   -                   -   \n15                              -                   -                   -   \n16                              -                   -                   -   \n17                              -                   -                   -   \n18                              -                   -                   -   \n19                              -                   -                   -   \n20                              -                   -                   -   \n21                              -                   -                   -   \n22                              -                   -                   -   \n23                              -                   -                   -   \n24                              -                   -                   -   \n25                              -                   -                   -   \n26                              -                   -                   -   \n27                              -                   -                   -   \n28                              -                   -                   -   \n29                              -                   -                   -   \n30                              -                   -                   -   \n31                              -                   -                   -   \n32                              -                   -                   -   \n33                              -                   -                   -   \n34                              -                   -                   -   \n\n   # ACTIVITY=Closed # ACTIVITY=Wait - User # ACTIVITY=Wait - Implementation  \\\n0                  -                      -                                -   \n1                  -                      -                                -   \n2                  -                      -                                -   \n3                  -                      -                                -   \n4                  -                      -                                -   \n5                  -                      -                                -   \n6                  -                      -                                -   \n7                  -                      -                                -   \n8                  -                      -                                -   \n9                  -                      -                                -   \n10                 -                      -                                -   \n11                 -                      -                                -   \n12                 -                      -                                -   \n13                 -                      -                                -   \n14                 -                      -                                -   \n15                 -                      -                                -   \n16                 -                      -                                -   \n17                 -                      -                                -   \n18                 -                      -                                -   \n19                 -                      -                                -   \n20                 -                      -                                -   \n21                 -                      -                                -   \n22                 -                      -                                -   \n23                 -                      -                                -   \n24                 -                      -                                -   \n25                 -                      -                                -   \n26                 -                      -                                -   \n27                 -                      -                                -   \n28                 -                      -                                -   \n29                 -                      -                                -   \n30                 -                      -                                -   \n31                 -                      -                                -   \n32                 -                      -                                -   \n33                 -                      -                                -   \n34                 -                      -                                -   \n\n   # ACTIVITY=Wait # ACTIVITY=Wait - Vendor # ACTIVITY=In Call  \\\n0                -                        -                  -   \n1                -                        -                  -   \n2                -                        -                  -   \n3                -                        -                  -   \n4                -                        -                  -   \n5                -                        -                  -   \n6                -                        -                  -   \n7                -                        -                  -   \n8                -                        -                  -   \n9                -                        -                  -   \n10               -                        -                  -   \n11               -                        -                  -   \n12               -                        -                  -   \n13               -                        -                  -   \n14               -                        -                  -   \n15               -                        -                  -   \n16               -                        -                  -   \n17               -                        -                  -   \n18               -                        -                  -   \n19               -                        -                  -   \n20               -                        -                  -   \n21               -                        -                  -   \n22               -                        -                  -   \n23               -                        -                  -   \n24               -                        -                  -   \n25               -                        -                  -   \n26               -                        -                  -   \n27               -                        -                  -   \n28               -                        -                  -   \n29               -                        -                  -   \n30               -                        -                  -   \n31               -                        -                  -   \n32               -                        -                  -   \n33               -                        -                  -   \n34               -                        -                  -   \n\n   # ACTIVITY=Wait - Customer # ACTIVITY=Unmatched # ACTIVITY=Cancelled  \\\n0                           -                    -                    -   \n1                           -                    -                    -   \n2                           -                    -                    -   \n3                           -                    -                    -   \n4                           -                    -                    -   \n5                           -                    -                    -   \n6                           -                    -                    -   \n7                           -                    -                    -   \n8                           -                    -                    -   \n9                           -                    -                    -   \n10                          -                    -                    -   \n11                          -                    -                    -   \n12                          -                    -                    -   \n13                          -                    -                    -   \n14                          -                    -                    -   \n15                          -                    -                    -   \n16                          -                    -                    -   \n17                          -                    -                    -   \n18                          -                    -                    -   \n19                          -                    -                    -   \n20                          -                    -                    -   \n21                          -                    -                    -   \n22                          -                    -                    -   \n23                          -                    -                    -   \n24                          -                    -                    -   \n25                          -                    -                    -   \n26                          -                    -                    -   \n27                          -                    -                    -   \n28                          -                    -                    -   \n29                          -                    -                    -   \n30                          -                    -                    -   \n31                          -                    -                    -   \n32                          -                    -                    -   \n33                          -                    -                    -   \n34                          -                    -                    -   \n\n     lead_time  \n0   31885596.0  \n1   30550454.0  \n2   30550454.0  \n3   30550454.0  \n4   31664552.0  \n5   30786604.0  \n6   31611562.0  \n7   31645070.0  \n8   30550454.0  \n9   30550454.0  \n10  31645070.0  \n11  30512570.0  \n12  31645070.0  \n13  31664552.0  \n14  30512570.0  \n15  31611562.0  \n16  30786604.0  \n17  30786604.0  \n18  30512570.0  \n19  30786604.0  \n20  31885596.0  \n21  30786604.0  \n22  30550454.0  \n23  30550454.0  \n24           -  \n25  31611562.0  \n26  30786604.0  \n27  30786604.0  \n28  31611562.0  \n29  31611562.0  \n30  30512570.0  \n31  30550454.0  \n32  30786604.0  \n33  30786604.0  \n34  31611562.0  ",
      "text/html": "<div>\n<style scoped>\n    .dataframe tbody tr th:only-of-type {\n        vertical-align: middle;\n    }\n\n    .dataframe tbody tr th {\n        vertical-align: top;\n    }\n\n    .dataframe thead th {\n        text-align: right;\n    }\n</style>\n<table border=\"1\" class=\"dataframe\">\n  <thead>\n    <tr style=\"text-align: right;\">\n      <th></th>\n      <th>Status</th>\n      <th>ACTIVITY</th>\n      <th>Involved_ST_Function_Div</th>\n      <th>Involved_Org_line_3</th>\n      <th>Involved_ST</th>\n      <th>SR_Latest_Impact</th>\n      <th>Product</th>\n      <th>Country</th>\n      <th>Owner_Country</th>\n      <th>time_from_first</th>\n      <th>time_from_previous_et</th>\n      <th>time_from_midnight</th>\n      <th>weekday</th>\n      <th># ACTIVITY=In Progress</th>\n      <th># ACTIVITY=Awaiting Assignment</th>\n      <th># ACTIVITY=Resolved</th>\n      <th># ACTIVITY=Assigned</th>\n      <th># ACTIVITY=Closed</th>\n      <th># ACTIVITY=Wait - User</th>\n      <th># ACTIVITY=Wait - Implementation</th>\n      <th># ACTIVITY=Wait</th>\n      <th># ACTIVITY=Wait - Vendor</th>\n      <th># ACTIVITY=In Call</th>\n      <th># ACTIVITY=Wait - Customer</th>\n      <th># ACTIVITY=Unmatched</th>\n      <th># ACTIVITY=Cancelled</th>\n      <th>lead_time</th>\n    </tr>\n  </thead>\n  <tbody>\n    <tr>\n      <th>0</th>\n      <td>-</td>\n      <td>Wait - Vendor</td>\n      <td>E_8</td>\n      <td>-</td>\n      <td>-</td>\n      <td>-</td>\n      <td>-</td>\n      <td>-</td>\n      <td>-</td>\n      <td>-</td>\n      <td>-</td>\n      <td>-</td>\n      <td>-</td>\n      <td>-</td>\n      <td>-</td>\n      <td>-</td>\n      <td>-</td>\n      <td>-</td>\n      <td>-</td>\n      <td>-</td>\n      <td>-</td>\n      <td>-</td>\n      <td>-</td>\n      <td>-</td>\n      <td>-</td>\n      <td>-</td>\n      <td>31885596.0</td>\n    </tr>\n    <tr>\n      <th>1</th>\n      <td>-</td>\n      <td>-</td>\n      <td>E_2</td>\n      <td>-</td>\n      <td>G1</td>\n      <td>-</td>\n      <td>-</td>\n      <td>-</td>\n      <td>-</td>\n      <td>-</td>\n      <td>-</td>\n      <td>-</td>\n      <td>-</td>\n      <td>-</td>\n      <td>-</td>\n      <td>-</td>\n      <td>-</td>\n      <td>-</td>\n      <td>-</td>\n      <td>-</td>\n      <td>-</td>\n      <td>-</td>\n      <td>-</td>\n      <td>-</td>\n      <td>-</td>\n      <td>-</td>\n      <td>30550454.0</td>\n    </tr>\n    <tr>\n      <th>2</th>\n      <td>-</td>\n      <td>-</td>\n      <td>C_1</td>\n      <td>-</td>\n      <td>T4 2nd</td>\n      <td>-</td>\n      <td>-</td>\n      <td>-</td>\n      <td>-</td>\n      <td>-</td>\n      <td>-</td>\n      <td>-</td>\n      <td>-</td>\n      <td>-</td>\n      <td>-</td>\n      <td>-</td>\n      <td>-</td>\n      <td>-</td>\n      <td>-</td>\n      <td>-</td>\n      <td>-</td>\n      <td>-</td>\n      <td>-</td>\n      <td>-</td>\n      <td>-</td>\n      <td>-</td>\n      <td>30550454.0</td>\n    </tr>\n    <tr>\n      <th>3</th>\n      <td>-</td>\n      <td>-</td>\n      <td>V3_3</td>\n      <td>-</td>\n      <td>M23</td>\n      <td>-</td>\n      <td>-</td>\n      <td>-</td>\n      <td>-</td>\n      <td>-</td>\n      <td>-</td>\n      <td>-</td>\n      <td>-</td>\n      <td>-</td>\n      <td>-</td>\n      <td>-</td>\n      <td>-</td>\n      <td>-</td>\n      <td>-</td>\n      <td>-</td>\n      <td>-</td>\n      <td>-</td>\n      <td>-</td>\n      <td>-</td>\n      <td>-</td>\n      <td>-</td>\n      <td>30550454.0</td>\n    </tr>\n    <tr>\n      <th>4</th>\n      <td>-</td>\n      <td>Wait - User</td>\n      <td>A2_5</td>\n      <td>-</td>\n      <td>-</td>\n      <td>-</td>\n      <td>-</td>\n      <td>-</td>\n      <td>-</td>\n      <td>-</td>\n      <td>-</td>\n      <td>-</td>\n      <td>-</td>\n      <td>-</td>\n      <td>-</td>\n      <td>-</td>\n      <td>-</td>\n      <td>-</td>\n      <td>-</td>\n      <td>-</td>\n      <td>-</td>\n      <td>-</td>\n      <td>-</td>\n      <td>-</td>\n      <td>-</td>\n      <td>-</td>\n      <td>31664552.0</td>\n    </tr>\n    <tr>\n      <th>5</th>\n      <td>-</td>\n      <td>-</td>\n      <td>-</td>\n      <td>-</td>\n      <td>G88 2nd</td>\n      <td>-</td>\n      <td>-</td>\n      <td>-</td>\n      <td>-</td>\n      <td>-</td>\n      <td>-</td>\n      <td>-</td>\n      <td>-</td>\n      <td>-</td>\n      <td>-</td>\n      <td>-</td>\n      <td>-</td>\n      <td>-</td>\n      <td>-</td>\n      <td>-</td>\n      <td>-</td>\n      <td>-</td>\n      <td>-</td>\n      <td>-</td>\n      <td>-</td>\n      <td>-</td>\n      <td>30786604.0</td>\n    </tr>\n    <tr>\n      <th>6</th>\n      <td>-</td>\n      <td>-</td>\n      <td>E_1</td>\n      <td>Org line V7</td>\n      <td>-</td>\n      <td>-</td>\n      <td>-</td>\n      <td>-</td>\n      <td>-</td>\n      <td>-</td>\n      <td>-</td>\n      <td>-</td>\n      <td>-</td>\n      <td>-</td>\n      <td>-</td>\n      <td>-</td>\n      <td>-</td>\n      <td>-</td>\n      <td>-</td>\n      <td>-</td>\n      <td>-</td>\n      <td>-</td>\n      <td>-</td>\n      <td>-</td>\n      <td>-</td>\n      <td>-</td>\n      <td>31611562.0</td>\n    </tr>\n    <tr>\n      <th>7</th>\n      <td>-</td>\n      <td>Closed</td>\n      <td>-</td>\n      <td>Org line V7</td>\n      <td>-</td>\n      <td>-</td>\n      <td>-</td>\n      <td>-</td>\n      <td>-</td>\n      <td>-</td>\n      <td>-</td>\n      <td>-</td>\n      <td>-</td>\n      <td>-</td>\n      <td>-</td>\n      <td>-</td>\n      <td>-</td>\n      <td>-</td>\n      <td>-</td>\n      <td>-</td>\n      <td>-</td>\n      <td>-</td>\n      <td>-</td>\n      <td>-</td>\n      <td>-</td>\n      <td>-</td>\n      <td>31645070.0</td>\n    </tr>\n    <tr>\n      <th>8</th>\n      <td>-</td>\n      <td>-</td>\n      <td>C_6</td>\n      <td>-</td>\n      <td>U1</td>\n      <td>-</td>\n      <td>-</td>\n      <td>-</td>\n      <td>-</td>\n      <td>-</td>\n      <td>-</td>\n      <td>-</td>\n      <td>-</td>\n      <td>-</td>\n      <td>-</td>\n      <td>-</td>\n      <td>-</td>\n      <td>-</td>\n      <td>-</td>\n      <td>-</td>\n      <td>-</td>\n      <td>-</td>\n      <td>-</td>\n      <td>-</td>\n      <td>-</td>\n      <td>-</td>\n      <td>30550454.0</td>\n    </tr>\n    <tr>\n      <th>9</th>\n      <td>-</td>\n      <td>-</td>\n      <td>E_6</td>\n      <td>-</td>\n      <td>G299</td>\n      <td>-</td>\n      <td>-</td>\n      <td>-</td>\n      <td>-</td>\n      <td>-</td>\n      <td>-</td>\n      <td>-</td>\n      <td>-</td>\n      <td>-</td>\n      <td>-</td>\n      <td>-</td>\n      <td>-</td>\n      <td>-</td>\n      <td>-</td>\n      <td>-</td>\n      <td>-</td>\n      <td>-</td>\n      <td>-</td>\n      <td>-</td>\n      <td>-</td>\n      <td>-</td>\n      <td>30550454.0</td>\n    </tr>\n    <tr>\n      <th>10</th>\n      <td>-</td>\n      <td>-</td>\n      <td>-</td>\n      <td>Org line H</td>\n      <td>-</td>\n      <td>-</td>\n      <td>-</td>\n      <td>-</td>\n      <td>-</td>\n      <td>-</td>\n      <td>-</td>\n      <td>-</td>\n      <td>-</td>\n      <td>-</td>\n      <td>-</td>\n      <td>-</td>\n      <td>-</td>\n      <td>-</td>\n      <td>-</td>\n      <td>-</td>\n      <td>-</td>\n      <td>-</td>\n      <td>-</td>\n      <td>-</td>\n      <td>-</td>\n      <td>-</td>\n      <td>31645070.0</td>\n    </tr>\n    <tr>\n      <th>11</th>\n      <td>-</td>\n      <td>-</td>\n      <td>-</td>\n      <td>Org line H</td>\n      <td>V46 2nd</td>\n      <td>-</td>\n      <td>-</td>\n      <td>-</td>\n      <td>-</td>\n      <td>-</td>\n      <td>-</td>\n      <td>-</td>\n      <td>-</td>\n      <td>-</td>\n      <td>-</td>\n      <td>-</td>\n      <td>-</td>\n      <td>-</td>\n      <td>-</td>\n      <td>-</td>\n      <td>-</td>\n      <td>-</td>\n      <td>-</td>\n      <td>-</td>\n      <td>-</td>\n      <td>-</td>\n      <td>30512570.0</td>\n    </tr>\n    <tr>\n      <th>12</th>\n      <td>-</td>\n      <td>Assigned</td>\n      <td>-</td>\n      <td>Org line C</td>\n      <td>-</td>\n      <td>-</td>\n      <td>-</td>\n      <td>-</td>\n      <td>-</td>\n      <td>-</td>\n      <td>-</td>\n      <td>-</td>\n      <td>-</td>\n      <td>-</td>\n      <td>-</td>\n      <td>-</td>\n      <td>-</td>\n      <td>-</td>\n      <td>-</td>\n      <td>-</td>\n      <td>-</td>\n      <td>-</td>\n      <td>-</td>\n      <td>-</td>\n      <td>-</td>\n      <td>-</td>\n      <td>31645070.0</td>\n    </tr>\n    <tr>\n      <th>13</th>\n      <td>-</td>\n      <td>Wait - User</td>\n      <td>E_7</td>\n      <td>-</td>\n      <td>-</td>\n      <td>-</td>\n      <td>-</td>\n      <td>-</td>\n      <td>-</td>\n      <td>-</td>\n      <td>-</td>\n      <td>-</td>\n      <td>-</td>\n      <td>-</td>\n      <td>-</td>\n      <td>-</td>\n      <td>-</td>\n      <td>-</td>\n      <td>-</td>\n      <td>-</td>\n      <td>-</td>\n      <td>-</td>\n      <td>-</td>\n      <td>-</td>\n      <td>-</td>\n      <td>-</td>\n      <td>31664552.0</td>\n    </tr>\n    <tr>\n      <th>14</th>\n      <td>-</td>\n      <td>-</td>\n      <td>-</td>\n      <td>Org line V1</td>\n      <td>G207 2nd</td>\n      <td>-</td>\n      <td>-</td>\n      <td>-</td>\n      <td>-</td>\n      <td>-</td>\n      <td>-</td>\n      <td>-</td>\n      <td>-</td>\n      <td>-</td>\n      <td>-</td>\n      <td>-</td>\n      <td>-</td>\n      <td>-</td>\n      <td>-</td>\n      <td>-</td>\n      <td>-</td>\n      <td>-</td>\n      <td>-</td>\n      <td>-</td>\n      <td>-</td>\n      <td>-</td>\n      <td>30512570.0</td>\n    </tr>\n    <tr>\n      <th>15</th>\n      <td>-</td>\n      <td>-</td>\n      <td>C_3</td>\n      <td>Org line C</td>\n      <td>-</td>\n      <td>-</td>\n      <td>-</td>\n      <td>-</td>\n      <td>-</td>\n      <td>-</td>\n      <td>-</td>\n      <td>-</td>\n      <td>-</td>\n      <td>-</td>\n      <td>-</td>\n      <td>-</td>\n      <td>-</td>\n      <td>-</td>\n      <td>-</td>\n      <td>-</td>\n      <td>-</td>\n      <td>-</td>\n      <td>-</td>\n      <td>-</td>\n      <td>-</td>\n      <td>-</td>\n      <td>31611562.0</td>\n    </tr>\n    <tr>\n      <th>16</th>\n      <td>-</td>\n      <td>-</td>\n      <td>-</td>\n      <td>-</td>\n      <td>U1</td>\n      <td>-</td>\n      <td>-</td>\n      <td>-</td>\n      <td>-</td>\n      <td>-</td>\n      <td>-</td>\n      <td>-</td>\n      <td>-</td>\n      <td>-</td>\n      <td>-</td>\n      <td>-</td>\n      <td>-</td>\n      <td>-</td>\n      <td>-</td>\n      <td>-</td>\n      <td>-</td>\n      <td>-</td>\n      <td>-</td>\n      <td>-</td>\n      <td>-</td>\n      <td>-</td>\n      <td>30786604.0</td>\n    </tr>\n    <tr>\n      <th>17</th>\n      <td>-</td>\n      <td>Wait - Customer</td>\n      <td>-</td>\n      <td>-</td>\n      <td>G9 2nd</td>\n      <td>-</td>\n      <td>-</td>\n      <td>-</td>\n      <td>-</td>\n      <td>-</td>\n      <td>-</td>\n      <td>-</td>\n      <td>-</td>\n      <td>-</td>\n      <td>-</td>\n      <td>-</td>\n      <td>-</td>\n      <td>-</td>\n      <td>-</td>\n      <td>-</td>\n      <td>-</td>\n      <td>-</td>\n      <td>-</td>\n      <td>-</td>\n      <td>-</td>\n      <td>-</td>\n      <td>30786604.0</td>\n    </tr>\n    <tr>\n      <th>18</th>\n      <td>-</td>\n      <td>-</td>\n      <td>-</td>\n      <td>Org line H</td>\n      <td>K4 2nd</td>\n      <td>-</td>\n      <td>-</td>\n      <td>-</td>\n      <td>-</td>\n      <td>-</td>\n      <td>-</td>\n      <td>-</td>\n      <td>-</td>\n      <td>-</td>\n      <td>-</td>\n      <td>-</td>\n      <td>-</td>\n      <td>-</td>\n      <td>-</td>\n      <td>-</td>\n      <td>-</td>\n      <td>-</td>\n      <td>-</td>\n      <td>-</td>\n      <td>-</td>\n      <td>-</td>\n      <td>30512570.0</td>\n    </tr>\n    <tr>\n      <th>19</th>\n      <td>-</td>\n      <td>-</td>\n      <td>-</td>\n      <td>-</td>\n      <td>T14 2nd</td>\n      <td>-</td>\n      <td>-</td>\n      <td>-</td>\n      <td>-</td>\n      <td>-</td>\n      <td>-</td>\n      <td>-</td>\n      <td>-</td>\n      <td>-</td>\n      <td>-</td>\n      <td>-</td>\n      <td>-</td>\n      <td>-</td>\n      <td>-</td>\n      <td>-</td>\n      <td>-</td>\n      <td>-</td>\n      <td>-</td>\n      <td>-</td>\n      <td>-</td>\n      <td>-</td>\n      <td>30786604.0</td>\n    </tr>\n    <tr>\n      <th>20</th>\n      <td>-</td>\n      <td>Closed</td>\n      <td>E_3</td>\n      <td>-</td>\n      <td>-</td>\n      <td>-</td>\n      <td>-</td>\n      <td>-</td>\n      <td>-</td>\n      <td>-</td>\n      <td>-</td>\n      <td>-</td>\n      <td>-</td>\n      <td>-</td>\n      <td>-</td>\n      <td>-</td>\n      <td>-</td>\n      <td>-</td>\n      <td>-</td>\n      <td>-</td>\n      <td>-</td>\n      <td>-</td>\n      <td>-</td>\n      <td>-</td>\n      <td>-</td>\n      <td>-</td>\n      <td>31885596.0</td>\n    </tr>\n    <tr>\n      <th>21</th>\n      <td>-</td>\n      <td>-</td>\n      <td>-</td>\n      <td>-</td>\n      <td>N3 2nd</td>\n      <td>-</td>\n      <td>-</td>\n      <td>-</td>\n      <td>-</td>\n      <td>-</td>\n      <td>-</td>\n      <td>-</td>\n      <td>-</td>\n      <td>-</td>\n      <td>-</td>\n      <td>-</td>\n      <td>-</td>\n      <td>-</td>\n      <td>-</td>\n      <td>-</td>\n      <td>-</td>\n      <td>-</td>\n      <td>-</td>\n      <td>-</td>\n      <td>-</td>\n      <td>-</td>\n      <td>30786604.0</td>\n    </tr>\n    <tr>\n      <th>22</th>\n      <td>-</td>\n      <td>-</td>\n      <td>E_4</td>\n      <td>-</td>\n      <td>G323</td>\n      <td>-</td>\n      <td>-</td>\n      <td>-</td>\n      <td>-</td>\n      <td>-</td>\n      <td>-</td>\n      <td>-</td>\n      <td>-</td>\n      <td>-</td>\n      <td>-</td>\n      <td>-</td>\n      <td>-</td>\n      <td>-</td>\n      <td>-</td>\n      <td>-</td>\n      <td>-</td>\n      <td>-</td>\n      <td>-</td>\n      <td>-</td>\n      <td>-</td>\n      <td>-</td>\n      <td>30550454.0</td>\n    </tr>\n    <tr>\n      <th>23</th>\n      <td>-</td>\n      <td>-</td>\n      <td>C_1</td>\n      <td>-</td>\n      <td>G22 2nd</td>\n      <td>-</td>\n      <td>-</td>\n      <td>-</td>\n      <td>-</td>\n      <td>-</td>\n      <td>-</td>\n      <td>-</td>\n      <td>-</td>\n      <td>-</td>\n      <td>-</td>\n      <td>-</td>\n      <td>-</td>\n      <td>-</td>\n      <td>-</td>\n      <td>-</td>\n      <td>-</td>\n      <td>-</td>\n      <td>-</td>\n      <td>-</td>\n      <td>-</td>\n      <td>-</td>\n      <td>30550454.0</td>\n    </tr>\n    <tr>\n      <th>24</th>\n      <td>-</td>\n      <td>Assigned</td>\n      <td>-</td>\n      <td>-</td>\n      <td>-</td>\n      <td>-</td>\n      <td>-</td>\n      <td>-</td>\n      <td>-</td>\n      <td>-</td>\n      <td>-</td>\n      <td>-</td>\n      <td>-</td>\n      <td>-</td>\n      <td>-</td>\n      <td>-</td>\n      <td>-</td>\n      <td>-</td>\n      <td>-</td>\n      <td>-</td>\n      <td>-</td>\n      <td>-</td>\n      <td>-</td>\n      <td>-</td>\n      <td>-</td>\n      <td>-</td>\n      <td>-</td>\n    </tr>\n    <tr>\n      <th>25</th>\n      <td>-</td>\n      <td>-</td>\n      <td>C_6</td>\n      <td>Org line V10</td>\n      <td>-</td>\n      <td>-</td>\n      <td>-</td>\n      <td>-</td>\n      <td>-</td>\n      <td>-</td>\n      <td>-</td>\n      <td>-</td>\n      <td>-</td>\n      <td>-</td>\n      <td>-</td>\n      <td>-</td>\n      <td>-</td>\n      <td>-</td>\n      <td>-</td>\n      <td>-</td>\n      <td>-</td>\n      <td>-</td>\n      <td>-</td>\n      <td>-</td>\n      <td>-</td>\n      <td>-</td>\n      <td>31611562.0</td>\n    </tr>\n    <tr>\n      <th>26</th>\n      <td>-</td>\n      <td>In Call</td>\n      <td>-</td>\n      <td>-</td>\n      <td>S6</td>\n      <td>-</td>\n      <td>-</td>\n      <td>-</td>\n      <td>-</td>\n      <td>-</td>\n      <td>-</td>\n      <td>-</td>\n      <td>-</td>\n      <td>-</td>\n      <td>-</td>\n      <td>-</td>\n      <td>-</td>\n      <td>-</td>\n      <td>-</td>\n      <td>-</td>\n      <td>-</td>\n      <td>-</td>\n      <td>-</td>\n      <td>-</td>\n      <td>-</td>\n      <td>-</td>\n      <td>30786604.0</td>\n    </tr>\n    <tr>\n      <th>27</th>\n      <td>-</td>\n      <td>-</td>\n      <td>-</td>\n      <td>-</td>\n      <td>N56</td>\n      <td>-</td>\n      <td>-</td>\n      <td>-</td>\n      <td>-</td>\n      <td>-</td>\n      <td>-</td>\n      <td>-</td>\n      <td>-</td>\n      <td>-</td>\n      <td>-</td>\n      <td>-</td>\n      <td>-</td>\n      <td>-</td>\n      <td>-</td>\n      <td>-</td>\n      <td>-</td>\n      <td>-</td>\n      <td>-</td>\n      <td>-</td>\n      <td>-</td>\n      <td>-</td>\n      <td>30786604.0</td>\n    </tr>\n    <tr>\n      <th>28</th>\n      <td>-</td>\n      <td>-</td>\n      <td>A2_5</td>\n      <td>Org line V5</td>\n      <td>-</td>\n      <td>-</td>\n      <td>-</td>\n      <td>-</td>\n      <td>-</td>\n      <td>-</td>\n      <td>-</td>\n      <td>-</td>\n      <td>-</td>\n      <td>-</td>\n      <td>-</td>\n      <td>-</td>\n      <td>-</td>\n      <td>-</td>\n      <td>-</td>\n      <td>-</td>\n      <td>-</td>\n      <td>-</td>\n      <td>-</td>\n      <td>-</td>\n      <td>-</td>\n      <td>-</td>\n      <td>31611562.0</td>\n    </tr>\n    <tr>\n      <th>29</th>\n      <td>-</td>\n      <td>-</td>\n      <td>A2_2</td>\n      <td>Org line V11</td>\n      <td>-</td>\n      <td>-</td>\n      <td>-</td>\n      <td>-</td>\n      <td>-</td>\n      <td>-</td>\n      <td>-</td>\n      <td>-</td>\n      <td>-</td>\n      <td>-</td>\n      <td>-</td>\n      <td>-</td>\n      <td>-</td>\n      <td>-</td>\n      <td>-</td>\n      <td>-</td>\n      <td>-</td>\n      <td>-</td>\n      <td>-</td>\n      <td>-</td>\n      <td>-</td>\n      <td>-</td>\n      <td>31611562.0</td>\n    </tr>\n    <tr>\n      <th>30</th>\n      <td>-</td>\n      <td>-</td>\n      <td>-</td>\n      <td>Org line C</td>\n      <td>G96</td>\n      <td>-</td>\n      <td>-</td>\n      <td>-</td>\n      <td>-</td>\n      <td>-</td>\n      <td>-</td>\n      <td>-</td>\n      <td>-</td>\n      <td>-</td>\n      <td>-</td>\n      <td>-</td>\n      <td>-</td>\n      <td>-</td>\n      <td>-</td>\n      <td>-</td>\n      <td>-</td>\n      <td>-</td>\n      <td>-</td>\n      <td>-</td>\n      <td>-</td>\n      <td>-</td>\n      <td>30512570.0</td>\n    </tr>\n    <tr>\n      <th>31</th>\n      <td>-</td>\n      <td>-</td>\n      <td>A2_3</td>\n      <td>-</td>\n      <td>G2 3rd</td>\n      <td>-</td>\n      <td>-</td>\n      <td>-</td>\n      <td>-</td>\n      <td>-</td>\n      <td>-</td>\n      <td>-</td>\n      <td>-</td>\n      <td>-</td>\n      <td>-</td>\n      <td>-</td>\n      <td>-</td>\n      <td>-</td>\n      <td>-</td>\n      <td>-</td>\n      <td>-</td>\n      <td>-</td>\n      <td>-</td>\n      <td>-</td>\n      <td>-</td>\n      <td>-</td>\n      <td>30550454.0</td>\n    </tr>\n    <tr>\n      <th>32</th>\n      <td>-</td>\n      <td>-</td>\n      <td>-</td>\n      <td>-</td>\n      <td>V10 3rd</td>\n      <td>-</td>\n      <td>-</td>\n      <td>-</td>\n      <td>-</td>\n      <td>-</td>\n      <td>-</td>\n      <td>-</td>\n      <td>-</td>\n      <td>-</td>\n      <td>-</td>\n      <td>-</td>\n      <td>-</td>\n      <td>-</td>\n      <td>-</td>\n      <td>-</td>\n      <td>-</td>\n      <td>-</td>\n      <td>-</td>\n      <td>-</td>\n      <td>-</td>\n      <td>-</td>\n      <td>30786604.0</td>\n    </tr>\n    <tr>\n      <th>33</th>\n      <td>-</td>\n      <td>-</td>\n      <td>-</td>\n      <td>-</td>\n      <td>P1</td>\n      <td>-</td>\n      <td>-</td>\n      <td>-</td>\n      <td>-</td>\n      <td>-</td>\n      <td>-</td>\n      <td>-</td>\n      <td>-</td>\n      <td>-</td>\n      <td>-</td>\n      <td>-</td>\n      <td>-</td>\n      <td>-</td>\n      <td>-</td>\n      <td>-</td>\n      <td>-</td>\n      <td>-</td>\n      <td>-</td>\n      <td>-</td>\n      <td>-</td>\n      <td>-</td>\n      <td>30786604.0</td>\n    </tr>\n    <tr>\n      <th>34</th>\n      <td>-</td>\n      <td>-</td>\n      <td>E_10</td>\n      <td>Org line G4</td>\n      <td>-</td>\n      <td>-</td>\n      <td>-</td>\n      <td>-</td>\n      <td>-</td>\n      <td>-</td>\n      <td>-</td>\n      <td>-</td>\n      <td>-</td>\n      <td>-</td>\n      <td>-</td>\n      <td>-</td>\n      <td>-</td>\n      <td>-</td>\n      <td>-</td>\n      <td>-</td>\n      <td>-</td>\n      <td>-</td>\n      <td>-</td>\n      <td>-</td>\n      <td>-</td>\n      <td>-</td>\n      <td>31611562.0</td>\n    </tr>\n  </tbody>\n</table>\n</div>"
     },
     "metadata": {},
     "output_type": "display_data"
    }
   ],
   "source": [
    "sidx = 73\n",
    "eidx = 74\n",
    "total_time_upper_bound = int( y_train[sidx] * (90 / 100) )  # A percentage of the original total time of the trace\n",
    "query_instances = X_train[sidx: eidx]\n",
    "if method == \"genetic\":  # or method == \"kdtree\":\n",
    "    feature_weights = {\"ACTIVITY\": 1.0, \"Involved_ST_Function_Div\": 1.0, \"Involved_Org_line_3\": 1.0, \"Involved_ST\": 1.0}\n",
    "    # feature_weights = {\"ACTIVITY\": 1, \"Involved_ST_Function_Div\": 1}\n",
    "    cfe = exp_genetic_iris.generate_counterfactuals(query_instances, total_CFs=15, desired_range=[0, total_time_upper_bound], features_to_vary=cols_to_vary,\n",
    "                                                    feature_weights=feature_weights)\n",
    "else:\n",
    "    cfe = exp_genetic_iris.generate_counterfactuals(query_instances, total_CFs=35, desired_range=[0, total_time_upper_bound], features_to_vary=cols_to_vary)\n",
    "\n",
    "cfe.visualize_as_dataframe(show_only_changes=True)"
   ],
   "metadata": {
    "collapsed": false
   }
  },
  {
   "cell_type": "markdown",
   "source": [
    "## Apply Transition System Validation to Single Query Results"
   ],
   "metadata": {
    "collapsed": false
   }
  },
  {
   "cell_type": "code",
   "execution_count": 12,
   "outputs": [],
   "source": [
    "window_size = 3\n",
    "activity_n_resources_columns = [\"ACTIVITY\", \"Involved_ST_Function_Div\"]\n",
    "\n",
    "cf_examples_df = cfe.cf_examples_list[0].final_cfs_df.copy()\n",
    "\n",
    "# === Load the Transition Graph\n",
    "_, transition_graph = transition_system(df_train, case_id_name=case_id_name, activity_column_name=activity_column_name, window_size=window_size)"
   ],
   "metadata": {
    "collapsed": false
   }
  },
  {
   "cell_type": "code",
   "execution_count": 16,
   "outputs": [
    {
     "data": {
      "text/plain": "      Status     ACTIVITY Involved_ST_Function_Div Involved_Org_line_3  \\\n0   Accepted  In Progress                      E_2         Org line A2   \n1   Accepted  In Progress                      C_1         Org line A2   \n2   Accepted  In Progress                     V3_3         Org line A2   \n3   Accepted  Wait - User                     A2_5         Org line A2   \n4   Accepted  In Progress                     A2_1         Org line A2   \n5   Accepted  In Progress                      E_1         Org line V7   \n6   Accepted  In Progress                      C_6         Org line A2   \n7   Accepted  In Progress                      E_6         Org line A2   \n8   Accepted  In Progress                     A2_1          Org line H   \n9   Accepted  In Progress                     A2_1          Org line H   \n10  Accepted  Wait - User                      E_7         Org line A2   \n11  Accepted  In Progress                     A2_1         Org line V1   \n12  Accepted  In Progress                      C_3          Org line C   \n13  Accepted  In Progress                     A2_1         Org line A2   \n14  Accepted  In Progress                     A2_1          Org line H   \n15  Accepted  In Progress                     A2_1         Org line A2   \n16  Accepted  In Progress                     A2_1         Org line A2   \n17  Accepted  In Progress                      E_4         Org line A2   \n18  Accepted  In Progress                      C_1         Org line A2   \n19  Accepted  In Progress                      C_6        Org line V10   \n20  Accepted  In Progress                     A2_1         Org line A2   \n21  Accepted  In Progress                     A2_5         Org line V5   \n22  Accepted  In Progress                     A2_2        Org line V11   \n23  Accepted  In Progress                     A2_1          Org line C   \n24  Accepted  In Progress                     A2_3         Org line A2   \n25  Accepted  In Progress                     A2_1         Org line A2   \n26  Accepted  In Progress                     A2_1         Org line A2   \n27  Accepted  In Progress                     E_10         Org line G4   \n\n   Involved_ST SR_Latest_Impact  Product Country Owner_Country  \\\n0           G1           Medium  PROD542      nl        POLAND   \n1       T4 2nd           Medium  PROD542      nl        POLAND   \n2          M23           Medium  PROD542      nl        POLAND   \n3           D8           Medium  PROD542      nl        POLAND   \n4      G88 2nd           Medium  PROD542      nl        POLAND   \n5           D8           Medium  PROD542      nl        POLAND   \n6           U1           Medium  PROD542      nl        POLAND   \n7         G299           Medium  PROD542      nl        POLAND   \n8           D8           Medium  PROD542      nl        POLAND   \n9      V46 2nd           Medium  PROD542      nl        POLAND   \n10          D8           Medium  PROD542      nl        POLAND   \n11    G207 2nd           Medium  PROD542      nl        POLAND   \n12          D8           Medium  PROD542      nl        POLAND   \n13          U1           Medium  PROD542      nl        POLAND   \n14      K4 2nd           Medium  PROD542      nl        POLAND   \n15     T14 2nd           Medium  PROD542      nl        POLAND   \n16      N3 2nd           Medium  PROD542      nl        POLAND   \n17        G323           Medium  PROD542      nl        POLAND   \n18     G22 2nd           Medium  PROD542      nl        POLAND   \n19          D8           Medium  PROD542      nl        POLAND   \n20         N56           Medium  PROD542      nl        POLAND   \n21          D8           Medium  PROD542      nl        POLAND   \n22          D8           Medium  PROD542      nl        POLAND   \n23         G96           Medium  PROD542      nl        POLAND   \n24      G2 3rd           Medium  PROD542      nl        POLAND   \n25     V10 3rd           Medium  PROD542      nl        POLAND   \n26          P1           Medium  PROD542      nl        POLAND   \n27          D8           Medium  PROD542      nl        POLAND   \n\n   time_from_first time_from_previous_et time_from_midnight weekday  \\\n0              0.0                   0.0            34928.0  Monday   \n1              0.0                   0.0            34928.0  Monday   \n2              0.0                   0.0            34928.0  Monday   \n3              0.0                   0.0            34928.0  Monday   \n4              0.0                   0.0            34928.0  Monday   \n5              0.0                   0.0            34928.0  Monday   \n6              0.0                   0.0            34928.0  Monday   \n7              0.0                   0.0            34928.0  Monday   \n8              0.0                   0.0            34928.0  Monday   \n9              0.0                   0.0            34928.0  Monday   \n10             0.0                   0.0            34928.0  Monday   \n11             0.0                   0.0            34928.0  Monday   \n12             0.0                   0.0            34928.0  Monday   \n13             0.0                   0.0            34928.0  Monday   \n14             0.0                   0.0            34928.0  Monday   \n15             0.0                   0.0            34928.0  Monday   \n16             0.0                   0.0            34928.0  Monday   \n17             0.0                   0.0            34928.0  Monday   \n18             0.0                   0.0            34928.0  Monday   \n19             0.0                   0.0            34928.0  Monday   \n20             0.0                   0.0            34928.0  Monday   \n21             0.0                   0.0            34928.0  Monday   \n22             0.0                   0.0            34928.0  Monday   \n23             0.0                   0.0            34928.0  Monday   \n24             0.0                   0.0            34928.0  Monday   \n25             0.0                   0.0            34928.0  Monday   \n26             0.0                   0.0            34928.0  Monday   \n27             0.0                   0.0            34928.0  Monday   \n\n   # ACTIVITY=In Progress # ACTIVITY=Awaiting Assignment # ACTIVITY=Resolved  \\\n0                       0                              0                   0   \n1                       0                              0                   0   \n2                       0                              0                   0   \n3                       0                              0                   0   \n4                       0                              0                   0   \n5                       0                              0                   0   \n6                       0                              0                   0   \n7                       0                              0                   0   \n8                       0                              0                   0   \n9                       0                              0                   0   \n10                      0                              0                   0   \n11                      0                              0                   0   \n12                      0                              0                   0   \n13                      0                              0                   0   \n14                      0                              0                   0   \n15                      0                              0                   0   \n16                      0                              0                   0   \n17                      0                              0                   0   \n18                      0                              0                   0   \n19                      0                              0                   0   \n20                      0                              0                   0   \n21                      0                              0                   0   \n22                      0                              0                   0   \n23                      0                              0                   0   \n24                      0                              0                   0   \n25                      0                              0                   0   \n26                      0                              0                   0   \n27                      0                              0                   0   \n\n   # ACTIVITY=Assigned # ACTIVITY=Closed # ACTIVITY=Wait - User  \\\n0                    0                 0                      0   \n1                    0                 0                      0   \n2                    0                 0                      0   \n3                    0                 0                      0   \n4                    0                 0                      0   \n5                    0                 0                      0   \n6                    0                 0                      0   \n7                    0                 0                      0   \n8                    0                 0                      0   \n9                    0                 0                      0   \n10                   0                 0                      0   \n11                   0                 0                      0   \n12                   0                 0                      0   \n13                   0                 0                      0   \n14                   0                 0                      0   \n15                   0                 0                      0   \n16                   0                 0                      0   \n17                   0                 0                      0   \n18                   0                 0                      0   \n19                   0                 0                      0   \n20                   0                 0                      0   \n21                   0                 0                      0   \n22                   0                 0                      0   \n23                   0                 0                      0   \n24                   0                 0                      0   \n25                   0                 0                      0   \n26                   0                 0                      0   \n27                   0                 0                      0   \n\n   # ACTIVITY=Wait - Implementation # ACTIVITY=Wait # ACTIVITY=Wait - Vendor  \\\n0                                 0               0                        0   \n1                                 0               0                        0   \n2                                 0               0                        0   \n3                                 0               0                        0   \n4                                 0               0                        0   \n5                                 0               0                        0   \n6                                 0               0                        0   \n7                                 0               0                        0   \n8                                 0               0                        0   \n9                                 0               0                        0   \n10                                0               0                        0   \n11                                0               0                        0   \n12                                0               0                        0   \n13                                0               0                        0   \n14                                0               0                        0   \n15                                0               0                        0   \n16                                0               0                        0   \n17                                0               0                        0   \n18                                0               0                        0   \n19                                0               0                        0   \n20                                0               0                        0   \n21                                0               0                        0   \n22                                0               0                        0   \n23                                0               0                        0   \n24                                0               0                        0   \n25                                0               0                        0   \n26                                0               0                        0   \n27                                0               0                        0   \n\n   # ACTIVITY=In Call # ACTIVITY=Wait - Customer # ACTIVITY=Unmatched  \\\n0                   0                          0                    0   \n1                   0                          0                    0   \n2                   0                          0                    0   \n3                   0                          0                    0   \n4                   0                          0                    0   \n5                   0                          0                    0   \n6                   0                          0                    0   \n7                   0                          0                    0   \n8                   0                          0                    0   \n9                   0                          0                    0   \n10                  0                          0                    0   \n11                  0                          0                    0   \n12                  0                          0                    0   \n13                  0                          0                    0   \n14                  0                          0                    0   \n15                  0                          0                    0   \n16                  0                          0                    0   \n17                  0                          0                    0   \n18                  0                          0                    0   \n19                  0                          0                    0   \n20                  0                          0                    0   \n21                  0                          0                    0   \n22                  0                          0                    0   \n23                  0                          0                    0   \n24                  0                          0                    0   \n25                  0                          0                    0   \n26                  0                          0                    0   \n27                  0                          0                    0   \n\n   # ACTIVITY=Cancelled   lead_time  \n0                     0  30550454.0  \n1                     0  30550454.0  \n2                     0  30550454.0  \n3                     0  31664552.0  \n4                     0  30786604.0  \n5                     0  31611562.0  \n6                     0  30550454.0  \n7                     0  30550454.0  \n8                     0  31645070.0  \n9                     0  30512570.0  \n10                    0  31664552.0  \n11                    0  30512570.0  \n12                    0  31611562.0  \n13                    0  30786604.0  \n14                    0  30512570.0  \n15                    0  30786604.0  \n16                    0  30786604.0  \n17                    0  30550454.0  \n18                    0  30550454.0  \n19                    0  31611562.0  \n20                    0  30786604.0  \n21                    0  31611562.0  \n22                    0  31611562.0  \n23                    0  30512570.0  \n24                    0  30550454.0  \n25                    0  30786604.0  \n26                    0  30786604.0  \n27                    0  31611562.0  ",
      "text/html": "<div>\n<style scoped>\n    .dataframe tbody tr th:only-of-type {\n        vertical-align: middle;\n    }\n\n    .dataframe tbody tr th {\n        vertical-align: top;\n    }\n\n    .dataframe thead th {\n        text-align: right;\n    }\n</style>\n<table border=\"1\" class=\"dataframe\">\n  <thead>\n    <tr style=\"text-align: right;\">\n      <th></th>\n      <th>Status</th>\n      <th>ACTIVITY</th>\n      <th>Involved_ST_Function_Div</th>\n      <th>Involved_Org_line_3</th>\n      <th>Involved_ST</th>\n      <th>SR_Latest_Impact</th>\n      <th>Product</th>\n      <th>Country</th>\n      <th>Owner_Country</th>\n      <th>time_from_first</th>\n      <th>time_from_previous_et</th>\n      <th>time_from_midnight</th>\n      <th>weekday</th>\n      <th># ACTIVITY=In Progress</th>\n      <th># ACTIVITY=Awaiting Assignment</th>\n      <th># ACTIVITY=Resolved</th>\n      <th># ACTIVITY=Assigned</th>\n      <th># ACTIVITY=Closed</th>\n      <th># ACTIVITY=Wait - User</th>\n      <th># ACTIVITY=Wait - Implementation</th>\n      <th># ACTIVITY=Wait</th>\n      <th># ACTIVITY=Wait - Vendor</th>\n      <th># ACTIVITY=In Call</th>\n      <th># ACTIVITY=Wait - Customer</th>\n      <th># ACTIVITY=Unmatched</th>\n      <th># ACTIVITY=Cancelled</th>\n      <th>lead_time</th>\n    </tr>\n  </thead>\n  <tbody>\n    <tr>\n      <th>0</th>\n      <td>Accepted</td>\n      <td>In Progress</td>\n      <td>E_2</td>\n      <td>Org line A2</td>\n      <td>G1</td>\n      <td>Medium</td>\n      <td>PROD542</td>\n      <td>nl</td>\n      <td>POLAND</td>\n      <td>0.0</td>\n      <td>0.0</td>\n      <td>34928.0</td>\n      <td>Monday</td>\n      <td>0</td>\n      <td>0</td>\n      <td>0</td>\n      <td>0</td>\n      <td>0</td>\n      <td>0</td>\n      <td>0</td>\n      <td>0</td>\n      <td>0</td>\n      <td>0</td>\n      <td>0</td>\n      <td>0</td>\n      <td>0</td>\n      <td>30550454.0</td>\n    </tr>\n    <tr>\n      <th>1</th>\n      <td>Accepted</td>\n      <td>In Progress</td>\n      <td>C_1</td>\n      <td>Org line A2</td>\n      <td>T4 2nd</td>\n      <td>Medium</td>\n      <td>PROD542</td>\n      <td>nl</td>\n      <td>POLAND</td>\n      <td>0.0</td>\n      <td>0.0</td>\n      <td>34928.0</td>\n      <td>Monday</td>\n      <td>0</td>\n      <td>0</td>\n      <td>0</td>\n      <td>0</td>\n      <td>0</td>\n      <td>0</td>\n      <td>0</td>\n      <td>0</td>\n      <td>0</td>\n      <td>0</td>\n      <td>0</td>\n      <td>0</td>\n      <td>0</td>\n      <td>30550454.0</td>\n    </tr>\n    <tr>\n      <th>2</th>\n      <td>Accepted</td>\n      <td>In Progress</td>\n      <td>V3_3</td>\n      <td>Org line A2</td>\n      <td>M23</td>\n      <td>Medium</td>\n      <td>PROD542</td>\n      <td>nl</td>\n      <td>POLAND</td>\n      <td>0.0</td>\n      <td>0.0</td>\n      <td>34928.0</td>\n      <td>Monday</td>\n      <td>0</td>\n      <td>0</td>\n      <td>0</td>\n      <td>0</td>\n      <td>0</td>\n      <td>0</td>\n      <td>0</td>\n      <td>0</td>\n      <td>0</td>\n      <td>0</td>\n      <td>0</td>\n      <td>0</td>\n      <td>0</td>\n      <td>30550454.0</td>\n    </tr>\n    <tr>\n      <th>3</th>\n      <td>Accepted</td>\n      <td>Wait - User</td>\n      <td>A2_5</td>\n      <td>Org line A2</td>\n      <td>D8</td>\n      <td>Medium</td>\n      <td>PROD542</td>\n      <td>nl</td>\n      <td>POLAND</td>\n      <td>0.0</td>\n      <td>0.0</td>\n      <td>34928.0</td>\n      <td>Monday</td>\n      <td>0</td>\n      <td>0</td>\n      <td>0</td>\n      <td>0</td>\n      <td>0</td>\n      <td>0</td>\n      <td>0</td>\n      <td>0</td>\n      <td>0</td>\n      <td>0</td>\n      <td>0</td>\n      <td>0</td>\n      <td>0</td>\n      <td>31664552.0</td>\n    </tr>\n    <tr>\n      <th>4</th>\n      <td>Accepted</td>\n      <td>In Progress</td>\n      <td>A2_1</td>\n      <td>Org line A2</td>\n      <td>G88 2nd</td>\n      <td>Medium</td>\n      <td>PROD542</td>\n      <td>nl</td>\n      <td>POLAND</td>\n      <td>0.0</td>\n      <td>0.0</td>\n      <td>34928.0</td>\n      <td>Monday</td>\n      <td>0</td>\n      <td>0</td>\n      <td>0</td>\n      <td>0</td>\n      <td>0</td>\n      <td>0</td>\n      <td>0</td>\n      <td>0</td>\n      <td>0</td>\n      <td>0</td>\n      <td>0</td>\n      <td>0</td>\n      <td>0</td>\n      <td>30786604.0</td>\n    </tr>\n    <tr>\n      <th>5</th>\n      <td>Accepted</td>\n      <td>In Progress</td>\n      <td>E_1</td>\n      <td>Org line V7</td>\n      <td>D8</td>\n      <td>Medium</td>\n      <td>PROD542</td>\n      <td>nl</td>\n      <td>POLAND</td>\n      <td>0.0</td>\n      <td>0.0</td>\n      <td>34928.0</td>\n      <td>Monday</td>\n      <td>0</td>\n      <td>0</td>\n      <td>0</td>\n      <td>0</td>\n      <td>0</td>\n      <td>0</td>\n      <td>0</td>\n      <td>0</td>\n      <td>0</td>\n      <td>0</td>\n      <td>0</td>\n      <td>0</td>\n      <td>0</td>\n      <td>31611562.0</td>\n    </tr>\n    <tr>\n      <th>6</th>\n      <td>Accepted</td>\n      <td>In Progress</td>\n      <td>C_6</td>\n      <td>Org line A2</td>\n      <td>U1</td>\n      <td>Medium</td>\n      <td>PROD542</td>\n      <td>nl</td>\n      <td>POLAND</td>\n      <td>0.0</td>\n      <td>0.0</td>\n      <td>34928.0</td>\n      <td>Monday</td>\n      <td>0</td>\n      <td>0</td>\n      <td>0</td>\n      <td>0</td>\n      <td>0</td>\n      <td>0</td>\n      <td>0</td>\n      <td>0</td>\n      <td>0</td>\n      <td>0</td>\n      <td>0</td>\n      <td>0</td>\n      <td>0</td>\n      <td>30550454.0</td>\n    </tr>\n    <tr>\n      <th>7</th>\n      <td>Accepted</td>\n      <td>In Progress</td>\n      <td>E_6</td>\n      <td>Org line A2</td>\n      <td>G299</td>\n      <td>Medium</td>\n      <td>PROD542</td>\n      <td>nl</td>\n      <td>POLAND</td>\n      <td>0.0</td>\n      <td>0.0</td>\n      <td>34928.0</td>\n      <td>Monday</td>\n      <td>0</td>\n      <td>0</td>\n      <td>0</td>\n      <td>0</td>\n      <td>0</td>\n      <td>0</td>\n      <td>0</td>\n      <td>0</td>\n      <td>0</td>\n      <td>0</td>\n      <td>0</td>\n      <td>0</td>\n      <td>0</td>\n      <td>30550454.0</td>\n    </tr>\n    <tr>\n      <th>8</th>\n      <td>Accepted</td>\n      <td>In Progress</td>\n      <td>A2_1</td>\n      <td>Org line H</td>\n      <td>D8</td>\n      <td>Medium</td>\n      <td>PROD542</td>\n      <td>nl</td>\n      <td>POLAND</td>\n      <td>0.0</td>\n      <td>0.0</td>\n      <td>34928.0</td>\n      <td>Monday</td>\n      <td>0</td>\n      <td>0</td>\n      <td>0</td>\n      <td>0</td>\n      <td>0</td>\n      <td>0</td>\n      <td>0</td>\n      <td>0</td>\n      <td>0</td>\n      <td>0</td>\n      <td>0</td>\n      <td>0</td>\n      <td>0</td>\n      <td>31645070.0</td>\n    </tr>\n    <tr>\n      <th>9</th>\n      <td>Accepted</td>\n      <td>In Progress</td>\n      <td>A2_1</td>\n      <td>Org line H</td>\n      <td>V46 2nd</td>\n      <td>Medium</td>\n      <td>PROD542</td>\n      <td>nl</td>\n      <td>POLAND</td>\n      <td>0.0</td>\n      <td>0.0</td>\n      <td>34928.0</td>\n      <td>Monday</td>\n      <td>0</td>\n      <td>0</td>\n      <td>0</td>\n      <td>0</td>\n      <td>0</td>\n      <td>0</td>\n      <td>0</td>\n      <td>0</td>\n      <td>0</td>\n      <td>0</td>\n      <td>0</td>\n      <td>0</td>\n      <td>0</td>\n      <td>30512570.0</td>\n    </tr>\n    <tr>\n      <th>10</th>\n      <td>Accepted</td>\n      <td>Wait - User</td>\n      <td>E_7</td>\n      <td>Org line A2</td>\n      <td>D8</td>\n      <td>Medium</td>\n      <td>PROD542</td>\n      <td>nl</td>\n      <td>POLAND</td>\n      <td>0.0</td>\n      <td>0.0</td>\n      <td>34928.0</td>\n      <td>Monday</td>\n      <td>0</td>\n      <td>0</td>\n      <td>0</td>\n      <td>0</td>\n      <td>0</td>\n      <td>0</td>\n      <td>0</td>\n      <td>0</td>\n      <td>0</td>\n      <td>0</td>\n      <td>0</td>\n      <td>0</td>\n      <td>0</td>\n      <td>31664552.0</td>\n    </tr>\n    <tr>\n      <th>11</th>\n      <td>Accepted</td>\n      <td>In Progress</td>\n      <td>A2_1</td>\n      <td>Org line V1</td>\n      <td>G207 2nd</td>\n      <td>Medium</td>\n      <td>PROD542</td>\n      <td>nl</td>\n      <td>POLAND</td>\n      <td>0.0</td>\n      <td>0.0</td>\n      <td>34928.0</td>\n      <td>Monday</td>\n      <td>0</td>\n      <td>0</td>\n      <td>0</td>\n      <td>0</td>\n      <td>0</td>\n      <td>0</td>\n      <td>0</td>\n      <td>0</td>\n      <td>0</td>\n      <td>0</td>\n      <td>0</td>\n      <td>0</td>\n      <td>0</td>\n      <td>30512570.0</td>\n    </tr>\n    <tr>\n      <th>12</th>\n      <td>Accepted</td>\n      <td>In Progress</td>\n      <td>C_3</td>\n      <td>Org line C</td>\n      <td>D8</td>\n      <td>Medium</td>\n      <td>PROD542</td>\n      <td>nl</td>\n      <td>POLAND</td>\n      <td>0.0</td>\n      <td>0.0</td>\n      <td>34928.0</td>\n      <td>Monday</td>\n      <td>0</td>\n      <td>0</td>\n      <td>0</td>\n      <td>0</td>\n      <td>0</td>\n      <td>0</td>\n      <td>0</td>\n      <td>0</td>\n      <td>0</td>\n      <td>0</td>\n      <td>0</td>\n      <td>0</td>\n      <td>0</td>\n      <td>31611562.0</td>\n    </tr>\n    <tr>\n      <th>13</th>\n      <td>Accepted</td>\n      <td>In Progress</td>\n      <td>A2_1</td>\n      <td>Org line A2</td>\n      <td>U1</td>\n      <td>Medium</td>\n      <td>PROD542</td>\n      <td>nl</td>\n      <td>POLAND</td>\n      <td>0.0</td>\n      <td>0.0</td>\n      <td>34928.0</td>\n      <td>Monday</td>\n      <td>0</td>\n      <td>0</td>\n      <td>0</td>\n      <td>0</td>\n      <td>0</td>\n      <td>0</td>\n      <td>0</td>\n      <td>0</td>\n      <td>0</td>\n      <td>0</td>\n      <td>0</td>\n      <td>0</td>\n      <td>0</td>\n      <td>30786604.0</td>\n    </tr>\n    <tr>\n      <th>14</th>\n      <td>Accepted</td>\n      <td>In Progress</td>\n      <td>A2_1</td>\n      <td>Org line H</td>\n      <td>K4 2nd</td>\n      <td>Medium</td>\n      <td>PROD542</td>\n      <td>nl</td>\n      <td>POLAND</td>\n      <td>0.0</td>\n      <td>0.0</td>\n      <td>34928.0</td>\n      <td>Monday</td>\n      <td>0</td>\n      <td>0</td>\n      <td>0</td>\n      <td>0</td>\n      <td>0</td>\n      <td>0</td>\n      <td>0</td>\n      <td>0</td>\n      <td>0</td>\n      <td>0</td>\n      <td>0</td>\n      <td>0</td>\n      <td>0</td>\n      <td>30512570.0</td>\n    </tr>\n    <tr>\n      <th>15</th>\n      <td>Accepted</td>\n      <td>In Progress</td>\n      <td>A2_1</td>\n      <td>Org line A2</td>\n      <td>T14 2nd</td>\n      <td>Medium</td>\n      <td>PROD542</td>\n      <td>nl</td>\n      <td>POLAND</td>\n      <td>0.0</td>\n      <td>0.0</td>\n      <td>34928.0</td>\n      <td>Monday</td>\n      <td>0</td>\n      <td>0</td>\n      <td>0</td>\n      <td>0</td>\n      <td>0</td>\n      <td>0</td>\n      <td>0</td>\n      <td>0</td>\n      <td>0</td>\n      <td>0</td>\n      <td>0</td>\n      <td>0</td>\n      <td>0</td>\n      <td>30786604.0</td>\n    </tr>\n    <tr>\n      <th>16</th>\n      <td>Accepted</td>\n      <td>In Progress</td>\n      <td>A2_1</td>\n      <td>Org line A2</td>\n      <td>N3 2nd</td>\n      <td>Medium</td>\n      <td>PROD542</td>\n      <td>nl</td>\n      <td>POLAND</td>\n      <td>0.0</td>\n      <td>0.0</td>\n      <td>34928.0</td>\n      <td>Monday</td>\n      <td>0</td>\n      <td>0</td>\n      <td>0</td>\n      <td>0</td>\n      <td>0</td>\n      <td>0</td>\n      <td>0</td>\n      <td>0</td>\n      <td>0</td>\n      <td>0</td>\n      <td>0</td>\n      <td>0</td>\n      <td>0</td>\n      <td>30786604.0</td>\n    </tr>\n    <tr>\n      <th>17</th>\n      <td>Accepted</td>\n      <td>In Progress</td>\n      <td>E_4</td>\n      <td>Org line A2</td>\n      <td>G323</td>\n      <td>Medium</td>\n      <td>PROD542</td>\n      <td>nl</td>\n      <td>POLAND</td>\n      <td>0.0</td>\n      <td>0.0</td>\n      <td>34928.0</td>\n      <td>Monday</td>\n      <td>0</td>\n      <td>0</td>\n      <td>0</td>\n      <td>0</td>\n      <td>0</td>\n      <td>0</td>\n      <td>0</td>\n      <td>0</td>\n      <td>0</td>\n      <td>0</td>\n      <td>0</td>\n      <td>0</td>\n      <td>0</td>\n      <td>30550454.0</td>\n    </tr>\n    <tr>\n      <th>18</th>\n      <td>Accepted</td>\n      <td>In Progress</td>\n      <td>C_1</td>\n      <td>Org line A2</td>\n      <td>G22 2nd</td>\n      <td>Medium</td>\n      <td>PROD542</td>\n      <td>nl</td>\n      <td>POLAND</td>\n      <td>0.0</td>\n      <td>0.0</td>\n      <td>34928.0</td>\n      <td>Monday</td>\n      <td>0</td>\n      <td>0</td>\n      <td>0</td>\n      <td>0</td>\n      <td>0</td>\n      <td>0</td>\n      <td>0</td>\n      <td>0</td>\n      <td>0</td>\n      <td>0</td>\n      <td>0</td>\n      <td>0</td>\n      <td>0</td>\n      <td>30550454.0</td>\n    </tr>\n    <tr>\n      <th>19</th>\n      <td>Accepted</td>\n      <td>In Progress</td>\n      <td>C_6</td>\n      <td>Org line V10</td>\n      <td>D8</td>\n      <td>Medium</td>\n      <td>PROD542</td>\n      <td>nl</td>\n      <td>POLAND</td>\n      <td>0.0</td>\n      <td>0.0</td>\n      <td>34928.0</td>\n      <td>Monday</td>\n      <td>0</td>\n      <td>0</td>\n      <td>0</td>\n      <td>0</td>\n      <td>0</td>\n      <td>0</td>\n      <td>0</td>\n      <td>0</td>\n      <td>0</td>\n      <td>0</td>\n      <td>0</td>\n      <td>0</td>\n      <td>0</td>\n      <td>31611562.0</td>\n    </tr>\n    <tr>\n      <th>20</th>\n      <td>Accepted</td>\n      <td>In Progress</td>\n      <td>A2_1</td>\n      <td>Org line A2</td>\n      <td>N56</td>\n      <td>Medium</td>\n      <td>PROD542</td>\n      <td>nl</td>\n      <td>POLAND</td>\n      <td>0.0</td>\n      <td>0.0</td>\n      <td>34928.0</td>\n      <td>Monday</td>\n      <td>0</td>\n      <td>0</td>\n      <td>0</td>\n      <td>0</td>\n      <td>0</td>\n      <td>0</td>\n      <td>0</td>\n      <td>0</td>\n      <td>0</td>\n      <td>0</td>\n      <td>0</td>\n      <td>0</td>\n      <td>0</td>\n      <td>30786604.0</td>\n    </tr>\n    <tr>\n      <th>21</th>\n      <td>Accepted</td>\n      <td>In Progress</td>\n      <td>A2_5</td>\n      <td>Org line V5</td>\n      <td>D8</td>\n      <td>Medium</td>\n      <td>PROD542</td>\n      <td>nl</td>\n      <td>POLAND</td>\n      <td>0.0</td>\n      <td>0.0</td>\n      <td>34928.0</td>\n      <td>Monday</td>\n      <td>0</td>\n      <td>0</td>\n      <td>0</td>\n      <td>0</td>\n      <td>0</td>\n      <td>0</td>\n      <td>0</td>\n      <td>0</td>\n      <td>0</td>\n      <td>0</td>\n      <td>0</td>\n      <td>0</td>\n      <td>0</td>\n      <td>31611562.0</td>\n    </tr>\n    <tr>\n      <th>22</th>\n      <td>Accepted</td>\n      <td>In Progress</td>\n      <td>A2_2</td>\n      <td>Org line V11</td>\n      <td>D8</td>\n      <td>Medium</td>\n      <td>PROD542</td>\n      <td>nl</td>\n      <td>POLAND</td>\n      <td>0.0</td>\n      <td>0.0</td>\n      <td>34928.0</td>\n      <td>Monday</td>\n      <td>0</td>\n      <td>0</td>\n      <td>0</td>\n      <td>0</td>\n      <td>0</td>\n      <td>0</td>\n      <td>0</td>\n      <td>0</td>\n      <td>0</td>\n      <td>0</td>\n      <td>0</td>\n      <td>0</td>\n      <td>0</td>\n      <td>31611562.0</td>\n    </tr>\n    <tr>\n      <th>23</th>\n      <td>Accepted</td>\n      <td>In Progress</td>\n      <td>A2_1</td>\n      <td>Org line C</td>\n      <td>G96</td>\n      <td>Medium</td>\n      <td>PROD542</td>\n      <td>nl</td>\n      <td>POLAND</td>\n      <td>0.0</td>\n      <td>0.0</td>\n      <td>34928.0</td>\n      <td>Monday</td>\n      <td>0</td>\n      <td>0</td>\n      <td>0</td>\n      <td>0</td>\n      <td>0</td>\n      <td>0</td>\n      <td>0</td>\n      <td>0</td>\n      <td>0</td>\n      <td>0</td>\n      <td>0</td>\n      <td>0</td>\n      <td>0</td>\n      <td>30512570.0</td>\n    </tr>\n    <tr>\n      <th>24</th>\n      <td>Accepted</td>\n      <td>In Progress</td>\n      <td>A2_3</td>\n      <td>Org line A2</td>\n      <td>G2 3rd</td>\n      <td>Medium</td>\n      <td>PROD542</td>\n      <td>nl</td>\n      <td>POLAND</td>\n      <td>0.0</td>\n      <td>0.0</td>\n      <td>34928.0</td>\n      <td>Monday</td>\n      <td>0</td>\n      <td>0</td>\n      <td>0</td>\n      <td>0</td>\n      <td>0</td>\n      <td>0</td>\n      <td>0</td>\n      <td>0</td>\n      <td>0</td>\n      <td>0</td>\n      <td>0</td>\n      <td>0</td>\n      <td>0</td>\n      <td>30550454.0</td>\n    </tr>\n    <tr>\n      <th>25</th>\n      <td>Accepted</td>\n      <td>In Progress</td>\n      <td>A2_1</td>\n      <td>Org line A2</td>\n      <td>V10 3rd</td>\n      <td>Medium</td>\n      <td>PROD542</td>\n      <td>nl</td>\n      <td>POLAND</td>\n      <td>0.0</td>\n      <td>0.0</td>\n      <td>34928.0</td>\n      <td>Monday</td>\n      <td>0</td>\n      <td>0</td>\n      <td>0</td>\n      <td>0</td>\n      <td>0</td>\n      <td>0</td>\n      <td>0</td>\n      <td>0</td>\n      <td>0</td>\n      <td>0</td>\n      <td>0</td>\n      <td>0</td>\n      <td>0</td>\n      <td>30786604.0</td>\n    </tr>\n    <tr>\n      <th>26</th>\n      <td>Accepted</td>\n      <td>In Progress</td>\n      <td>A2_1</td>\n      <td>Org line A2</td>\n      <td>P1</td>\n      <td>Medium</td>\n      <td>PROD542</td>\n      <td>nl</td>\n      <td>POLAND</td>\n      <td>0.0</td>\n      <td>0.0</td>\n      <td>34928.0</td>\n      <td>Monday</td>\n      <td>0</td>\n      <td>0</td>\n      <td>0</td>\n      <td>0</td>\n      <td>0</td>\n      <td>0</td>\n      <td>0</td>\n      <td>0</td>\n      <td>0</td>\n      <td>0</td>\n      <td>0</td>\n      <td>0</td>\n      <td>0</td>\n      <td>30786604.0</td>\n    </tr>\n    <tr>\n      <th>27</th>\n      <td>Accepted</td>\n      <td>In Progress</td>\n      <td>E_10</td>\n      <td>Org line G4</td>\n      <td>D8</td>\n      <td>Medium</td>\n      <td>PROD542</td>\n      <td>nl</td>\n      <td>POLAND</td>\n      <td>0.0</td>\n      <td>0.0</td>\n      <td>34928.0</td>\n      <td>Monday</td>\n      <td>0</td>\n      <td>0</td>\n      <td>0</td>\n      <td>0</td>\n      <td>0</td>\n      <td>0</td>\n      <td>0</td>\n      <td>0</td>\n      <td>0</td>\n      <td>0</td>\n      <td>0</td>\n      <td>0</td>\n      <td>0</td>\n      <td>31611562.0</td>\n    </tr>\n  </tbody>\n</table>\n</div>"
     },
     "execution_count": 16,
     "metadata": {},
     "output_type": "execute_result"
    }
   ],
   "source": [
    "def validate_transition(cfe, transition_graph=transition_graph, window_size=window_size, activity_n_resources_columns=None):\n",
    "    \"\"\" Deprecated function.\n",
    "    Works with transition graph which has single activity as key.\n",
    "    Args:\n",
    "        cfe (dice_ml.counterfactual_explanations.CounterfactualExplanations): Dice counterfactual explanations object.\n",
    "    \"\"\"\n",
    "\n",
    "    if activity_n_resources_columns is None:\n",
    "        activity_n_resources_columns = [\"ACTIVITY\", \"Involved_ST_Function_Div\"]\n",
    "    cf_examples_df = cfe.cf_examples_list[0].final_cfs_df.copy()  # Get the counterfactual explanations dataframe from the object\n",
    "\n",
    "    # === Get the prefix of trace for which to validate the next activity\n",
    "    query_case_id = get_case_id( df_train[sidx: eidx] )\n",
    "    df_query = df_train[ df_train[case_id_name] == query_case_id ]\n",
    "\n",
    "    index_to_previous_activity = sidx - 1\n",
    "\n",
    "    start_index, end_index = indexs_for_window(index_to_previous_activity, window_size=window_size, end_exclusive=False)\n",
    "    prefix_of_activities = df_query.loc[start_index: end_index, activity_column_name].to_list()  # loc is used to access the index values inside the dataframe\n",
    "    prefix_of_activities = list_to_str(prefix_of_activities)\n",
    "\n",
    "    # === Verify the next activity\n",
    "    indexes_to_drop = []\n",
    "    for i, suggested_next_activity in cf_examples_df[activity_column_name].items():\n",
    "        if suggested_next_activity not in transition_graph[prefix_of_activities]:\n",
    "            indexes_to_drop.append(i)\n",
    "            print(i, suggested_next_activity)\n",
    "\n",
    "    cf_examples_df = cf_examples_df.drop(indexes_to_drop, axis='index').reset_index(drop=True)\n",
    "\n",
    "    # === Verify the associated resources\n",
    "    indexes_to_drop = []\n",
    "    for idx, row in cf_examples_df[ activity_n_resources_columns ].iterrows():\n",
    "        row_tuple = tuple(row)\n",
    "        if row_tuple not in valid_resources:\n",
    "            # print(f\"removed row had: {row_tuple}\")\n",
    "            indexes_to_drop.append(idx)\n",
    "\n",
    "    cf_examples_df = cf_examples_df.drop(indexes_to_drop, axis='index').reset_index(drop=True)\n",
    "    return cf_examples_df\n",
    "\n",
    "# === Get the prefix of trace for which to validate the next activity\n",
    "query_case_id = get_case_id( df_train[sidx: eidx] )\n",
    "df_query = df_train[ df_train[case_id_name] == query_case_id ]\n",
    "\n",
    "index_to_previous_activity = sidx - 1\n",
    "\n",
    "start_index, end_index = indexs_for_window(index_to_previous_activity, window_size=window_size, end_exclusive=False)\n",
    "prefix_of_activities = df_query.loc[start_index: end_index, activity_column_name].to_list()  # loc is used to access the index values inside the dataframe\n",
    "prefix_of_activities = list_to_str(prefix_of_activities)\n",
    "\n",
    "# === Verify the next activity\n",
    "indexes_to_drop = []\n",
    "for i, suggested_next_activity in cf_examples_df[activity_column_name].items():\n",
    "    if suggested_next_activity not in transition_graph[prefix_of_activities]:\n",
    "        indexes_to_drop.append(i)\n",
    "        print(i, suggested_next_activity)\n",
    "\n",
    "cf_examples_df = cf_examples_df.drop(indexes_to_drop, axis='index').reset_index(drop=True)\n",
    "\n",
    "# === Verify the associated resources\n",
    "indexes_to_drop = []\n",
    "for idx, row in cf_examples_df[ activity_n_resources_columns ].iterrows():\n",
    "    row_tuple = tuple(row)\n",
    "    if row_tuple not in valid_resources:\n",
    "        # print(f\"removed row had: {row_tuple}\")\n",
    "        indexes_to_drop.append(idx)\n",
    "\n",
    "cf_examples_df = cf_examples_df.drop(indexes_to_drop, axis='index').reset_index(drop=True)\n",
    "cf_examples_df"
   ],
   "metadata": {
    "collapsed": false
   }
  },
  {
   "cell_type": "code",
   "execution_count": 230,
   "outputs": [
    {
     "name": "stdout",
     "output_type": "stream",
     "text": [
      "Query instance (original outcome : 41260204)\n"
     ]
    },
    {
     "data": {
      "text/plain": "     Status  ACTIVITY Involved_ST_Function_Div Involved_Org_line_3  \\\n0  Accepted  Assigned                     E_10          Org line C   \n\n  Involved_ST SR_Latest_Impact  Product Country Owner_Country  \\\n0    G140 2nd           Medium  PROD453      se        Sweden   \n\n   time_from_first  time_from_previous_et  time_from_midnight weekday  \\\n0        3617038.0               321053.0             24980.0  Monday   \n\n   # ACTIVITY=In Progress  # ACTIVITY=Awaiting Assignment  \\\n0                       7                               2   \n\n   # ACTIVITY=Resolved  # ACTIVITY=Assigned  # ACTIVITY=Closed  \\\n0                    0                    1                  0   \n\n   # ACTIVITY=Wait - User  # ACTIVITY=Wait - Implementation  # ACTIVITY=Wait  \\\n0                       2                                 2                1   \n\n   # ACTIVITY=Wait - Vendor  # ACTIVITY=In Call  # ACTIVITY=Wait - Customer  \\\n0                         0                   0                           0   \n\n   # ACTIVITY=Unmatched  # ACTIVITY=Cancelled   lead_time  \n0                     0                     0  41260204.0  ",
      "text/html": "<div>\n<style scoped>\n    .dataframe tbody tr th:only-of-type {\n        vertical-align: middle;\n    }\n\n    .dataframe tbody tr th {\n        vertical-align: top;\n    }\n\n    .dataframe thead th {\n        text-align: right;\n    }\n</style>\n<table border=\"1\" class=\"dataframe\">\n  <thead>\n    <tr style=\"text-align: right;\">\n      <th></th>\n      <th>Status</th>\n      <th>ACTIVITY</th>\n      <th>Involved_ST_Function_Div</th>\n      <th>Involved_Org_line_3</th>\n      <th>Involved_ST</th>\n      <th>SR_Latest_Impact</th>\n      <th>Product</th>\n      <th>Country</th>\n      <th>Owner_Country</th>\n      <th>time_from_first</th>\n      <th>time_from_previous_et</th>\n      <th>time_from_midnight</th>\n      <th>weekday</th>\n      <th># ACTIVITY=In Progress</th>\n      <th># ACTIVITY=Awaiting Assignment</th>\n      <th># ACTIVITY=Resolved</th>\n      <th># ACTIVITY=Assigned</th>\n      <th># ACTIVITY=Closed</th>\n      <th># ACTIVITY=Wait - User</th>\n      <th># ACTIVITY=Wait - Implementation</th>\n      <th># ACTIVITY=Wait</th>\n      <th># ACTIVITY=Wait - Vendor</th>\n      <th># ACTIVITY=In Call</th>\n      <th># ACTIVITY=Wait - Customer</th>\n      <th># ACTIVITY=Unmatched</th>\n      <th># ACTIVITY=Cancelled</th>\n      <th>lead_time</th>\n    </tr>\n  </thead>\n  <tbody>\n    <tr>\n      <th>0</th>\n      <td>Accepted</td>\n      <td>Assigned</td>\n      <td>E_10</td>\n      <td>Org line C</td>\n      <td>G140 2nd</td>\n      <td>Medium</td>\n      <td>PROD453</td>\n      <td>se</td>\n      <td>Sweden</td>\n      <td>3617038.0</td>\n      <td>321053.0</td>\n      <td>24980.0</td>\n      <td>Monday</td>\n      <td>7</td>\n      <td>2</td>\n      <td>0</td>\n      <td>1</td>\n      <td>0</td>\n      <td>2</td>\n      <td>2</td>\n      <td>1</td>\n      <td>0</td>\n      <td>0</td>\n      <td>0</td>\n      <td>0</td>\n      <td>0</td>\n      <td>41260204.0</td>\n    </tr>\n  </tbody>\n</table>\n</div>"
     },
     "metadata": {},
     "output_type": "display_data"
    },
    {
     "name": "stdout",
     "output_type": "stream",
     "text": [
      "\n",
      "Diverse Counterfactual set (new outcome: [0, 37134182])\n"
     ]
    },
    {
     "data": {
      "text/plain": "  Status ACTIVITY Involved_ST_Function_Div Involved_Org_line_3 Involved_ST  \\\n0      -        -                     V3_3         Org line G1           -   \n1      -        -                      E_6         Org line G1           -   \n2      -        -                      E_7        Org line V10           -   \n3      -        -                        -          Org line H     V50 2nd   \n4      -        -                     A2_4        Org line V11           -   \n5      -     Wait                        -         Org line V2           -   \n6      -        -                     A2_1         Org line V9           -   \n\n  SR_Latest_Impact Product Country Owner_Country time_from_first  \\\n0                -       -       -             -               -   \n1                -       -       -             -               -   \n2                -       -       -             -               -   \n3                -       -       -             -               -   \n4                -       -       -             -               -   \n5                -       -       -             -               -   \n6                -       -       -             -               -   \n\n  time_from_previous_et time_from_midnight weekday # ACTIVITY=In Progress  \\\n0                     -                  -       -                      -   \n1                     -                  -       -                      -   \n2                     -                  -       -                      -   \n3                     -                  -       -                      -   \n4                     -                  -       -                      -   \n5                     -                  -       -                      -   \n6                     -                  -       -                      -   \n\n  # ACTIVITY=Awaiting Assignment # ACTIVITY=Resolved # ACTIVITY=Assigned  \\\n0                              -                   -                   -   \n1                              -                   -                   -   \n2                              -                   -                   -   \n3                              -                   -                   -   \n4                              -                   -                   -   \n5                              -                   -                   -   \n6                              -                   -                   -   \n\n  # ACTIVITY=Closed # ACTIVITY=Wait - User # ACTIVITY=Wait - Implementation  \\\n0                 -                      -                                -   \n1                 -                      -                                -   \n2                 -                      -                                -   \n3                 -                      -                                -   \n4                 -                      -                                -   \n5                 -                      -                                -   \n6                 -                      -                                -   \n\n  # ACTIVITY=Wait # ACTIVITY=Wait - Vendor # ACTIVITY=In Call  \\\n0               -                        -                  -   \n1               -                        -                  -   \n2               -                        -                  -   \n3               -                        -                  -   \n4               -                        -                  -   \n5               -                        -                  -   \n6               -                        -                  -   \n\n  # ACTIVITY=Wait - Customer # ACTIVITY=Unmatched # ACTIVITY=Cancelled  \\\n0                          -                    -                    -   \n1                          -                    -                    -   \n2                          -                    -                    -   \n3                          -                    -                    -   \n4                          -                    -                    -   \n5                          -                    -                    -   \n6                          -                    -                    -   \n\n    lead_time  \n0  32859970.0  \n1  32859970.0  \n2  32859970.0  \n3  32859970.0  \n4  32859970.0  \n5  32859970.0  \n6  32859970.0  ",
      "text/html": "<div>\n<style scoped>\n    .dataframe tbody tr th:only-of-type {\n        vertical-align: middle;\n    }\n\n    .dataframe tbody tr th {\n        vertical-align: top;\n    }\n\n    .dataframe thead th {\n        text-align: right;\n    }\n</style>\n<table border=\"1\" class=\"dataframe\">\n  <thead>\n    <tr style=\"text-align: right;\">\n      <th></th>\n      <th>Status</th>\n      <th>ACTIVITY</th>\n      <th>Involved_ST_Function_Div</th>\n      <th>Involved_Org_line_3</th>\n      <th>Involved_ST</th>\n      <th>SR_Latest_Impact</th>\n      <th>Product</th>\n      <th>Country</th>\n      <th>Owner_Country</th>\n      <th>time_from_first</th>\n      <th>time_from_previous_et</th>\n      <th>time_from_midnight</th>\n      <th>weekday</th>\n      <th># ACTIVITY=In Progress</th>\n      <th># ACTIVITY=Awaiting Assignment</th>\n      <th># ACTIVITY=Resolved</th>\n      <th># ACTIVITY=Assigned</th>\n      <th># ACTIVITY=Closed</th>\n      <th># ACTIVITY=Wait - User</th>\n      <th># ACTIVITY=Wait - Implementation</th>\n      <th># ACTIVITY=Wait</th>\n      <th># ACTIVITY=Wait - Vendor</th>\n      <th># ACTIVITY=In Call</th>\n      <th># ACTIVITY=Wait - Customer</th>\n      <th># ACTIVITY=Unmatched</th>\n      <th># ACTIVITY=Cancelled</th>\n      <th>lead_time</th>\n    </tr>\n  </thead>\n  <tbody>\n    <tr>\n      <th>0</th>\n      <td>-</td>\n      <td>-</td>\n      <td>V3_3</td>\n      <td>Org line G1</td>\n      <td>-</td>\n      <td>-</td>\n      <td>-</td>\n      <td>-</td>\n      <td>-</td>\n      <td>-</td>\n      <td>-</td>\n      <td>-</td>\n      <td>-</td>\n      <td>-</td>\n      <td>-</td>\n      <td>-</td>\n      <td>-</td>\n      <td>-</td>\n      <td>-</td>\n      <td>-</td>\n      <td>-</td>\n      <td>-</td>\n      <td>-</td>\n      <td>-</td>\n      <td>-</td>\n      <td>-</td>\n      <td>32859970.0</td>\n    </tr>\n    <tr>\n      <th>1</th>\n      <td>-</td>\n      <td>-</td>\n      <td>E_6</td>\n      <td>Org line G1</td>\n      <td>-</td>\n      <td>-</td>\n      <td>-</td>\n      <td>-</td>\n      <td>-</td>\n      <td>-</td>\n      <td>-</td>\n      <td>-</td>\n      <td>-</td>\n      <td>-</td>\n      <td>-</td>\n      <td>-</td>\n      <td>-</td>\n      <td>-</td>\n      <td>-</td>\n      <td>-</td>\n      <td>-</td>\n      <td>-</td>\n      <td>-</td>\n      <td>-</td>\n      <td>-</td>\n      <td>-</td>\n      <td>32859970.0</td>\n    </tr>\n    <tr>\n      <th>2</th>\n      <td>-</td>\n      <td>-</td>\n      <td>E_7</td>\n      <td>Org line V10</td>\n      <td>-</td>\n      <td>-</td>\n      <td>-</td>\n      <td>-</td>\n      <td>-</td>\n      <td>-</td>\n      <td>-</td>\n      <td>-</td>\n      <td>-</td>\n      <td>-</td>\n      <td>-</td>\n      <td>-</td>\n      <td>-</td>\n      <td>-</td>\n      <td>-</td>\n      <td>-</td>\n      <td>-</td>\n      <td>-</td>\n      <td>-</td>\n      <td>-</td>\n      <td>-</td>\n      <td>-</td>\n      <td>32859970.0</td>\n    </tr>\n    <tr>\n      <th>3</th>\n      <td>-</td>\n      <td>-</td>\n      <td>-</td>\n      <td>Org line H</td>\n      <td>V50 2nd</td>\n      <td>-</td>\n      <td>-</td>\n      <td>-</td>\n      <td>-</td>\n      <td>-</td>\n      <td>-</td>\n      <td>-</td>\n      <td>-</td>\n      <td>-</td>\n      <td>-</td>\n      <td>-</td>\n      <td>-</td>\n      <td>-</td>\n      <td>-</td>\n      <td>-</td>\n      <td>-</td>\n      <td>-</td>\n      <td>-</td>\n      <td>-</td>\n      <td>-</td>\n      <td>-</td>\n      <td>32859970.0</td>\n    </tr>\n    <tr>\n      <th>4</th>\n      <td>-</td>\n      <td>-</td>\n      <td>A2_4</td>\n      <td>Org line V11</td>\n      <td>-</td>\n      <td>-</td>\n      <td>-</td>\n      <td>-</td>\n      <td>-</td>\n      <td>-</td>\n      <td>-</td>\n      <td>-</td>\n      <td>-</td>\n      <td>-</td>\n      <td>-</td>\n      <td>-</td>\n      <td>-</td>\n      <td>-</td>\n      <td>-</td>\n      <td>-</td>\n      <td>-</td>\n      <td>-</td>\n      <td>-</td>\n      <td>-</td>\n      <td>-</td>\n      <td>-</td>\n      <td>32859970.0</td>\n    </tr>\n    <tr>\n      <th>5</th>\n      <td>-</td>\n      <td>Wait</td>\n      <td>-</td>\n      <td>Org line V2</td>\n      <td>-</td>\n      <td>-</td>\n      <td>-</td>\n      <td>-</td>\n      <td>-</td>\n      <td>-</td>\n      <td>-</td>\n      <td>-</td>\n      <td>-</td>\n      <td>-</td>\n      <td>-</td>\n      <td>-</td>\n      <td>-</td>\n      <td>-</td>\n      <td>-</td>\n      <td>-</td>\n      <td>-</td>\n      <td>-</td>\n      <td>-</td>\n      <td>-</td>\n      <td>-</td>\n      <td>-</td>\n      <td>32859970.0</td>\n    </tr>\n    <tr>\n      <th>6</th>\n      <td>-</td>\n      <td>-</td>\n      <td>A2_1</td>\n      <td>Org line V9</td>\n      <td>-</td>\n      <td>-</td>\n      <td>-</td>\n      <td>-</td>\n      <td>-</td>\n      <td>-</td>\n      <td>-</td>\n      <td>-</td>\n      <td>-</td>\n      <td>-</td>\n      <td>-</td>\n      <td>-</td>\n      <td>-</td>\n      <td>-</td>\n      <td>-</td>\n      <td>-</td>\n      <td>-</td>\n      <td>-</td>\n      <td>-</td>\n      <td>-</td>\n      <td>-</td>\n      <td>-</td>\n      <td>32859970.0</td>\n    </tr>\n  </tbody>\n</table>\n</div>"
     },
     "metadata": {},
     "output_type": "display_data"
    },
    {
     "data": {
      "text/plain": "     Status  ACTIVITY Involved_ST_Function_Div Involved_Org_line_3  \\\n0  Accepted  Assigned                      E_7        Org line V10   \n1  Accepted  Assigned                     E_10          Org line H   \n2  Accepted  Assigned                     A2_4        Org line V11   \n3  Accepted      Wait                     E_10         Org line V2   \n4  Accepted  Assigned                     A2_1         Org line V9   \n\n  Involved_ST SR_Latest_Impact  Product Country Owner_Country time_from_first  \\\n0    G140 2nd           Medium  PROD453      se        Sweden       3617038.0   \n1     V50 2nd           Medium  PROD453      se        Sweden       3617038.0   \n2    G140 2nd           Medium  PROD453      se        Sweden       3617038.0   \n3    G140 2nd           Medium  PROD453      se        Sweden       3617038.0   \n4    G140 2nd           Medium  PROD453      se        Sweden       3617038.0   \n\n  time_from_previous_et time_from_midnight weekday # ACTIVITY=In Progress  \\\n0              321053.0            24980.0  Monday                      7   \n1              321053.0            24980.0  Monday                      7   \n2              321053.0            24980.0  Monday                      7   \n3              321053.0            24980.0  Monday                      7   \n4              321053.0            24980.0  Monday                      7   \n\n  # ACTIVITY=Awaiting Assignment # ACTIVITY=Resolved # ACTIVITY=Assigned  \\\n0                              2                   0                   1   \n1                              2                   0                   1   \n2                              2                   0                   1   \n3                              2                   0                   1   \n4                              2                   0                   1   \n\n  # ACTIVITY=Closed # ACTIVITY=Wait - User # ACTIVITY=Wait - Implementation  \\\n0                 0                      2                                2   \n1                 0                      2                                2   \n2                 0                      2                                2   \n3                 0                      2                                2   \n4                 0                      2                                2   \n\n  # ACTIVITY=Wait # ACTIVITY=Wait - Vendor # ACTIVITY=In Call  \\\n0               1                        0                  0   \n1               1                        0                  0   \n2               1                        0                  0   \n3               1                        0                  0   \n4               1                        0                  0   \n\n  # ACTIVITY=Wait - Customer # ACTIVITY=Unmatched # ACTIVITY=Cancelled  \\\n0                          0                    0                    0   \n1                          0                    0                    0   \n2                          0                    0                    0   \n3                          0                    0                    0   \n4                          0                    0                    0   \n\n    lead_time  \n0  32859970.0  \n1  32859970.0  \n2  32859970.0  \n3  32859970.0  \n4  32859970.0  ",
      "text/html": "<div>\n<style scoped>\n    .dataframe tbody tr th:only-of-type {\n        vertical-align: middle;\n    }\n\n    .dataframe tbody tr th {\n        vertical-align: top;\n    }\n\n    .dataframe thead th {\n        text-align: right;\n    }\n</style>\n<table border=\"1\" class=\"dataframe\">\n  <thead>\n    <tr style=\"text-align: right;\">\n      <th></th>\n      <th>Status</th>\n      <th>ACTIVITY</th>\n      <th>Involved_ST_Function_Div</th>\n      <th>Involved_Org_line_3</th>\n      <th>Involved_ST</th>\n      <th>SR_Latest_Impact</th>\n      <th>Product</th>\n      <th>Country</th>\n      <th>Owner_Country</th>\n      <th>time_from_first</th>\n      <th>time_from_previous_et</th>\n      <th>time_from_midnight</th>\n      <th>weekday</th>\n      <th># ACTIVITY=In Progress</th>\n      <th># ACTIVITY=Awaiting Assignment</th>\n      <th># ACTIVITY=Resolved</th>\n      <th># ACTIVITY=Assigned</th>\n      <th># ACTIVITY=Closed</th>\n      <th># ACTIVITY=Wait - User</th>\n      <th># ACTIVITY=Wait - Implementation</th>\n      <th># ACTIVITY=Wait</th>\n      <th># ACTIVITY=Wait - Vendor</th>\n      <th># ACTIVITY=In Call</th>\n      <th># ACTIVITY=Wait - Customer</th>\n      <th># ACTIVITY=Unmatched</th>\n      <th># ACTIVITY=Cancelled</th>\n      <th>lead_time</th>\n    </tr>\n  </thead>\n  <tbody>\n    <tr>\n      <th>0</th>\n      <td>Accepted</td>\n      <td>Assigned</td>\n      <td>E_7</td>\n      <td>Org line V10</td>\n      <td>G140 2nd</td>\n      <td>Medium</td>\n      <td>PROD453</td>\n      <td>se</td>\n      <td>Sweden</td>\n      <td>3617038.0</td>\n      <td>321053.0</td>\n      <td>24980.0</td>\n      <td>Monday</td>\n      <td>7</td>\n      <td>2</td>\n      <td>0</td>\n      <td>1</td>\n      <td>0</td>\n      <td>2</td>\n      <td>2</td>\n      <td>1</td>\n      <td>0</td>\n      <td>0</td>\n      <td>0</td>\n      <td>0</td>\n      <td>0</td>\n      <td>32859970.0</td>\n    </tr>\n    <tr>\n      <th>1</th>\n      <td>Accepted</td>\n      <td>Assigned</td>\n      <td>E_10</td>\n      <td>Org line H</td>\n      <td>V50 2nd</td>\n      <td>Medium</td>\n      <td>PROD453</td>\n      <td>se</td>\n      <td>Sweden</td>\n      <td>3617038.0</td>\n      <td>321053.0</td>\n      <td>24980.0</td>\n      <td>Monday</td>\n      <td>7</td>\n      <td>2</td>\n      <td>0</td>\n      <td>1</td>\n      <td>0</td>\n      <td>2</td>\n      <td>2</td>\n      <td>1</td>\n      <td>0</td>\n      <td>0</td>\n      <td>0</td>\n      <td>0</td>\n      <td>0</td>\n      <td>32859970.0</td>\n    </tr>\n    <tr>\n      <th>2</th>\n      <td>Accepted</td>\n      <td>Assigned</td>\n      <td>A2_4</td>\n      <td>Org line V11</td>\n      <td>G140 2nd</td>\n      <td>Medium</td>\n      <td>PROD453</td>\n      <td>se</td>\n      <td>Sweden</td>\n      <td>3617038.0</td>\n      <td>321053.0</td>\n      <td>24980.0</td>\n      <td>Monday</td>\n      <td>7</td>\n      <td>2</td>\n      <td>0</td>\n      <td>1</td>\n      <td>0</td>\n      <td>2</td>\n      <td>2</td>\n      <td>1</td>\n      <td>0</td>\n      <td>0</td>\n      <td>0</td>\n      <td>0</td>\n      <td>0</td>\n      <td>32859970.0</td>\n    </tr>\n    <tr>\n      <th>3</th>\n      <td>Accepted</td>\n      <td>Wait</td>\n      <td>E_10</td>\n      <td>Org line V2</td>\n      <td>G140 2nd</td>\n      <td>Medium</td>\n      <td>PROD453</td>\n      <td>se</td>\n      <td>Sweden</td>\n      <td>3617038.0</td>\n      <td>321053.0</td>\n      <td>24980.0</td>\n      <td>Monday</td>\n      <td>7</td>\n      <td>2</td>\n      <td>0</td>\n      <td>1</td>\n      <td>0</td>\n      <td>2</td>\n      <td>2</td>\n      <td>1</td>\n      <td>0</td>\n      <td>0</td>\n      <td>0</td>\n      <td>0</td>\n      <td>0</td>\n      <td>32859970.0</td>\n    </tr>\n    <tr>\n      <th>4</th>\n      <td>Accepted</td>\n      <td>Assigned</td>\n      <td>A2_1</td>\n      <td>Org line V9</td>\n      <td>G140 2nd</td>\n      <td>Medium</td>\n      <td>PROD453</td>\n      <td>se</td>\n      <td>Sweden</td>\n      <td>3617038.0</td>\n      <td>321053.0</td>\n      <td>24980.0</td>\n      <td>Monday</td>\n      <td>7</td>\n      <td>2</td>\n      <td>0</td>\n      <td>1</td>\n      <td>0</td>\n      <td>2</td>\n      <td>2</td>\n      <td>1</td>\n      <td>0</td>\n      <td>0</td>\n      <td>0</td>\n      <td>0</td>\n      <td>0</td>\n      <td>32859970.0</td>\n    </tr>\n  </tbody>\n</table>\n</div>"
     },
     "execution_count": 230,
     "metadata": {},
     "output_type": "execute_result"
    }
   ],
   "source": [
    "cfe.visualize_as_dataframe(show_only_changes=True)\n",
    "print(f\"Valid Counterfactual Set\")\n",
    "cf_examples_df"
   ],
   "metadata": {
    "collapsed": false
   }
  },
  {
   "cell_type": "markdown",
   "source": [
    "### Check Feature Importance score"
   ],
   "metadata": {
    "collapsed": false
   }
  },
  {
   "cell_type": "code",
   "execution_count": 47,
   "outputs": [
    {
     "name": "stderr",
     "output_type": "stream",
     "text": [
      "100%|██████████| 1/1 [00:00<00:00,  1.63it/s]\n"
     ]
    },
    {
     "data": {
      "text/plain": "[{'Involved_ST': 1.0,\n  'ACTIVITY': 0.3,\n  'Involved_ST_Function_Div': 0.3,\n  'Involved_Org_line_3': 0.1,\n  'Status': 0.0,\n  'SR_Latest_Impact': 0.0,\n  'Product': 0.0,\n  'Country': 0.0,\n  'Owner_Country': 0.0,\n  'weekday': 0.0,\n  'time_from_first': 0.0,\n  'time_from_previous_et': 0.0,\n  'time_from_midnight': 0.0,\n  '# ACTIVITY=In Progress': 0.0,\n  '# ACTIVITY=Awaiting Assignment': 0.0,\n  '# ACTIVITY=Resolved': 0.0,\n  '# ACTIVITY=Assigned': 0.0,\n  '# ACTIVITY=Closed': 0.0,\n  '# ACTIVITY=Wait - User': 0.0,\n  '# ACTIVITY=Wait - Implementation': 0.0,\n  '# ACTIVITY=Wait': 0.0,\n  '# ACTIVITY=Wait - Vendor': 0.0,\n  '# ACTIVITY=In Call': 0.0,\n  '# ACTIVITY=Wait - Customer': 0.0,\n  '# ACTIVITY=Unmatched': 0.0,\n  '# ACTIVITY=Cancelled': 0.0}]"
     },
     "execution_count": 47,
     "metadata": {},
     "output_type": "execute_result"
    }
   ],
   "source": [
    "imp = exp_genetic_iris.local_feature_importance(query_instances, total_CFs=10, desired_range=[0, total_time_upper_bound], features_to_vary=cols_to_vary)\n",
    "imp.local_importance"
   ],
   "metadata": {
    "collapsed": false
   }
  },
  {
   "cell_type": "markdown",
   "source": [
    "## Experiment with Multiple Queries"
   ],
   "metadata": {
    "collapsed": false
   }
  },
  {
   "cell_type": "code",
   "execution_count": 17,
   "outputs": [
    {
     "data": {
      "text/plain": "     SR_Number  Change_Date+Time    Status             ACTIVITY  \\\n0  1-643733486        1326813444  Accepted          In Progress   \n1  1-643733486        1326813477  Accepted          In Progress   \n2  1-643733486        1326813558    Queued  Awaiting Assignment   \n3  1-643733486        1326977851  Accepted          In Progress   \n4  1-643733486        1326977939    Queued  Awaiting Assignment   \n5  1-643733486        1326982060  Accepted          In Progress   \n6  1-643733486        1326982072  Accepted             Assigned   \n7  1-643733486        1326983196  Accepted          In Progress   \n\n  Involved_ST_Function_Div Involved_Org_line_3 Involved_ST SR_Latest_Impact  \\\n0                     A2_1          Org line C          D6           Medium   \n1                     A2_1          Org line C          D6           Medium   \n2                  missing        Org line V7n     V37 2nd           Medium   \n3                  missing        Org line V7n     V37 2nd           Medium   \n4                     A2_1          Org line C          D6           Medium   \n5                     A2_1          Org line C          D6           Medium   \n6                     A2_1          Org line C          D6           Medium   \n7                     A2_1          Org line C          D6           Medium   \n\n   Product Country Owner_Country  time_from_first  time_from_previous_et  \\\n0  PROD542      nl       Belgium              0.0                    0.0   \n1  PROD542      nl       Belgium             33.0                   33.0   \n2  PROD542      nl       Belgium            114.0                   81.0   \n3  PROD542      nl   Netherlands         164407.0               164293.0   \n4  PROD542      nl   Netherlands         164495.0                   88.0   \n5  PROD542      nl       Belgium         168616.0                 4121.0   \n6  PROD542      nl       Belgium         168628.0                   12.0   \n7  PROD542      nl       Belgium         169752.0                 1124.0   \n\n   time_from_midnight   weekday  time_remaining  # ACTIVITY=In Progress  \\\n0             55044.0   Tuesday       9965027.0                       0   \n1             55077.0   Tuesday       9964994.0                       1   \n2             55158.0   Tuesday       9964913.0                       2   \n3             46651.0  Thursday       9800620.0                       2   \n4             46739.0  Thursday       9800532.0                       3   \n5             50860.0  Thursday       9796411.0                       3   \n6             50872.0  Thursday       9796399.0                       4   \n7             51996.0  Thursday       9795275.0                       4   \n\n   # ACTIVITY=Awaiting Assignment  # ACTIVITY=Resolved  # ACTIVITY=Assigned  \\\n0                               0                    0                    0   \n1                               0                    0                    0   \n2                               0                    0                    0   \n3                               1                    0                    0   \n4                               1                    0                    0   \n5                               2                    0                    0   \n6                               2                    0                    0   \n7                               2                    0                    1   \n\n   # ACTIVITY=Closed  # ACTIVITY=Wait - User  \\\n0                  0                       0   \n1                  0                       0   \n2                  0                       0   \n3                  0                       0   \n4                  0                       0   \n5                  0                       0   \n6                  0                       0   \n7                  0                       0   \n\n   # ACTIVITY=Wait - Implementation  # ACTIVITY=Wait  \\\n0                                 0                0   \n1                                 0                0   \n2                                 0                0   \n3                                 0                0   \n4                                 0                0   \n5                                 0                0   \n6                                 0                0   \n7                                 0                0   \n\n   # ACTIVITY=Wait - Vendor  # ACTIVITY=In Call  # ACTIVITY=Wait - Customer  \\\n0                         0                   0                           0   \n1                         0                   0                           0   \n2                         0                   0                           0   \n3                         0                   0                           0   \n4                         0                   0                           0   \n5                         0                   0                           0   \n6                         0                   0                           0   \n7                         0                   0                           0   \n\n   # ACTIVITY=Unmatched  # ACTIVITY=Cancelled  lead_time  \n0                     0                     0  9965027.0  \n1                     0                     0  9965027.0  \n2                     0                     0  9965027.0  \n3                     0                     0  9965027.0  \n4                     0                     0  9965027.0  \n5                     0                     0  9965027.0  \n6                     0                     0  9965027.0  \n7                     0                     0  9965027.0  ",
      "text/html": "<div>\n<style scoped>\n    .dataframe tbody tr th:only-of-type {\n        vertical-align: middle;\n    }\n\n    .dataframe tbody tr th {\n        vertical-align: top;\n    }\n\n    .dataframe thead th {\n        text-align: right;\n    }\n</style>\n<table border=\"1\" class=\"dataframe\">\n  <thead>\n    <tr style=\"text-align: right;\">\n      <th></th>\n      <th>SR_Number</th>\n      <th>Change_Date+Time</th>\n      <th>Status</th>\n      <th>ACTIVITY</th>\n      <th>Involved_ST_Function_Div</th>\n      <th>Involved_Org_line_3</th>\n      <th>Involved_ST</th>\n      <th>SR_Latest_Impact</th>\n      <th>Product</th>\n      <th>Country</th>\n      <th>Owner_Country</th>\n      <th>time_from_first</th>\n      <th>time_from_previous_et</th>\n      <th>time_from_midnight</th>\n      <th>weekday</th>\n      <th>time_remaining</th>\n      <th># ACTIVITY=In Progress</th>\n      <th># ACTIVITY=Awaiting Assignment</th>\n      <th># ACTIVITY=Resolved</th>\n      <th># ACTIVITY=Assigned</th>\n      <th># ACTIVITY=Closed</th>\n      <th># ACTIVITY=Wait - User</th>\n      <th># ACTIVITY=Wait - Implementation</th>\n      <th># ACTIVITY=Wait</th>\n      <th># ACTIVITY=Wait - Vendor</th>\n      <th># ACTIVITY=In Call</th>\n      <th># ACTIVITY=Wait - Customer</th>\n      <th># ACTIVITY=Unmatched</th>\n      <th># ACTIVITY=Cancelled</th>\n      <th>lead_time</th>\n    </tr>\n  </thead>\n  <tbody>\n    <tr>\n      <th>0</th>\n      <td>1-643733486</td>\n      <td>1326813444</td>\n      <td>Accepted</td>\n      <td>In Progress</td>\n      <td>A2_1</td>\n      <td>Org line C</td>\n      <td>D6</td>\n      <td>Medium</td>\n      <td>PROD542</td>\n      <td>nl</td>\n      <td>Belgium</td>\n      <td>0.0</td>\n      <td>0.0</td>\n      <td>55044.0</td>\n      <td>Tuesday</td>\n      <td>9965027.0</td>\n      <td>0</td>\n      <td>0</td>\n      <td>0</td>\n      <td>0</td>\n      <td>0</td>\n      <td>0</td>\n      <td>0</td>\n      <td>0</td>\n      <td>0</td>\n      <td>0</td>\n      <td>0</td>\n      <td>0</td>\n      <td>0</td>\n      <td>9965027.0</td>\n    </tr>\n    <tr>\n      <th>1</th>\n      <td>1-643733486</td>\n      <td>1326813477</td>\n      <td>Accepted</td>\n      <td>In Progress</td>\n      <td>A2_1</td>\n      <td>Org line C</td>\n      <td>D6</td>\n      <td>Medium</td>\n      <td>PROD542</td>\n      <td>nl</td>\n      <td>Belgium</td>\n      <td>33.0</td>\n      <td>33.0</td>\n      <td>55077.0</td>\n      <td>Tuesday</td>\n      <td>9964994.0</td>\n      <td>1</td>\n      <td>0</td>\n      <td>0</td>\n      <td>0</td>\n      <td>0</td>\n      <td>0</td>\n      <td>0</td>\n      <td>0</td>\n      <td>0</td>\n      <td>0</td>\n      <td>0</td>\n      <td>0</td>\n      <td>0</td>\n      <td>9965027.0</td>\n    </tr>\n    <tr>\n      <th>2</th>\n      <td>1-643733486</td>\n      <td>1326813558</td>\n      <td>Queued</td>\n      <td>Awaiting Assignment</td>\n      <td>missing</td>\n      <td>Org line V7n</td>\n      <td>V37 2nd</td>\n      <td>Medium</td>\n      <td>PROD542</td>\n      <td>nl</td>\n      <td>Belgium</td>\n      <td>114.0</td>\n      <td>81.0</td>\n      <td>55158.0</td>\n      <td>Tuesday</td>\n      <td>9964913.0</td>\n      <td>2</td>\n      <td>0</td>\n      <td>0</td>\n      <td>0</td>\n      <td>0</td>\n      <td>0</td>\n      <td>0</td>\n      <td>0</td>\n      <td>0</td>\n      <td>0</td>\n      <td>0</td>\n      <td>0</td>\n      <td>0</td>\n      <td>9965027.0</td>\n    </tr>\n    <tr>\n      <th>3</th>\n      <td>1-643733486</td>\n      <td>1326977851</td>\n      <td>Accepted</td>\n      <td>In Progress</td>\n      <td>missing</td>\n      <td>Org line V7n</td>\n      <td>V37 2nd</td>\n      <td>Medium</td>\n      <td>PROD542</td>\n      <td>nl</td>\n      <td>Netherlands</td>\n      <td>164407.0</td>\n      <td>164293.0</td>\n      <td>46651.0</td>\n      <td>Thursday</td>\n      <td>9800620.0</td>\n      <td>2</td>\n      <td>1</td>\n      <td>0</td>\n      <td>0</td>\n      <td>0</td>\n      <td>0</td>\n      <td>0</td>\n      <td>0</td>\n      <td>0</td>\n      <td>0</td>\n      <td>0</td>\n      <td>0</td>\n      <td>0</td>\n      <td>9965027.0</td>\n    </tr>\n    <tr>\n      <th>4</th>\n      <td>1-643733486</td>\n      <td>1326977939</td>\n      <td>Queued</td>\n      <td>Awaiting Assignment</td>\n      <td>A2_1</td>\n      <td>Org line C</td>\n      <td>D6</td>\n      <td>Medium</td>\n      <td>PROD542</td>\n      <td>nl</td>\n      <td>Netherlands</td>\n      <td>164495.0</td>\n      <td>88.0</td>\n      <td>46739.0</td>\n      <td>Thursday</td>\n      <td>9800532.0</td>\n      <td>3</td>\n      <td>1</td>\n      <td>0</td>\n      <td>0</td>\n      <td>0</td>\n      <td>0</td>\n      <td>0</td>\n      <td>0</td>\n      <td>0</td>\n      <td>0</td>\n      <td>0</td>\n      <td>0</td>\n      <td>0</td>\n      <td>9965027.0</td>\n    </tr>\n    <tr>\n      <th>5</th>\n      <td>1-643733486</td>\n      <td>1326982060</td>\n      <td>Accepted</td>\n      <td>In Progress</td>\n      <td>A2_1</td>\n      <td>Org line C</td>\n      <td>D6</td>\n      <td>Medium</td>\n      <td>PROD542</td>\n      <td>nl</td>\n      <td>Belgium</td>\n      <td>168616.0</td>\n      <td>4121.0</td>\n      <td>50860.0</td>\n      <td>Thursday</td>\n      <td>9796411.0</td>\n      <td>3</td>\n      <td>2</td>\n      <td>0</td>\n      <td>0</td>\n      <td>0</td>\n      <td>0</td>\n      <td>0</td>\n      <td>0</td>\n      <td>0</td>\n      <td>0</td>\n      <td>0</td>\n      <td>0</td>\n      <td>0</td>\n      <td>9965027.0</td>\n    </tr>\n    <tr>\n      <th>6</th>\n      <td>1-643733486</td>\n      <td>1326982072</td>\n      <td>Accepted</td>\n      <td>Assigned</td>\n      <td>A2_1</td>\n      <td>Org line C</td>\n      <td>D6</td>\n      <td>Medium</td>\n      <td>PROD542</td>\n      <td>nl</td>\n      <td>Belgium</td>\n      <td>168628.0</td>\n      <td>12.0</td>\n      <td>50872.0</td>\n      <td>Thursday</td>\n      <td>9796399.0</td>\n      <td>4</td>\n      <td>2</td>\n      <td>0</td>\n      <td>0</td>\n      <td>0</td>\n      <td>0</td>\n      <td>0</td>\n      <td>0</td>\n      <td>0</td>\n      <td>0</td>\n      <td>0</td>\n      <td>0</td>\n      <td>0</td>\n      <td>9965027.0</td>\n    </tr>\n    <tr>\n      <th>7</th>\n      <td>1-643733486</td>\n      <td>1326983196</td>\n      <td>Accepted</td>\n      <td>In Progress</td>\n      <td>A2_1</td>\n      <td>Org line C</td>\n      <td>D6</td>\n      <td>Medium</td>\n      <td>PROD542</td>\n      <td>nl</td>\n      <td>Belgium</td>\n      <td>169752.0</td>\n      <td>1124.0</td>\n      <td>51996.0</td>\n      <td>Thursday</td>\n      <td>9795275.0</td>\n      <td>4</td>\n      <td>2</td>\n      <td>0</td>\n      <td>1</td>\n      <td>0</td>\n      <td>0</td>\n      <td>0</td>\n      <td>0</td>\n      <td>0</td>\n      <td>0</td>\n      <td>0</td>\n      <td>0</td>\n      <td>0</td>\n      <td>9965027.0</td>\n    </tr>\n  </tbody>\n</table>\n</div>"
     },
     "execution_count": 17,
     "metadata": {},
     "output_type": "execute_result"
    }
   ],
   "source": [
    "test_cases[i+1]"
   ],
   "metadata": {
    "collapsed": false
   }
  },
  {
   "cell_type": "code",
   "execution_count": 18,
   "outputs": [],
   "source": [
    "@timeout(120)  # Set a timeout of 5 seconds\n",
    "def generate_cfe(query_instances, total_time_upper_bound):\n",
    "    if method == \"genetic\":\n",
    "        cfe = exp_genetic_iris.generate_counterfactuals(query_instances, total_CFs=10, desired_range=[0, total_time_upper_bound], features_to_vary=cols_to_vary,\n",
    "                                                        feature_weights = {\"ACTIVITY\": 1, \"Involved_ST_Function_Div\": 1, \"Involved_Org_line_3\": 1, \"Involved_ST\": 1},\n",
    "                                                        proximity_weight=proximity_weight, sparsity_weight=sparsity_weight, diversity_weight=diversity_weight)\n",
    "    else:\n",
    "        cfe = exp_genetic_iris.generate_counterfactuals(query_instances, total_CFs=7, desired_range=[0, total_time_upper_bound], features_to_vary=cols_to_vary,\n",
    "                                                        proximity_weight=proximity_weight, sparsity_weight=sparsity_weight, diversity_weight=diversity_weight)\n",
    "    return cfe"
   ],
   "metadata": {
    "collapsed": false
   }
  },
  {
   "cell_type": "code",
   "execution_count": 19,
   "outputs": [],
   "source": [
    "%%capture\n",
    "i = 0\n",
    "cfes_list = []\n",
    "cases_cfe_not_found = []\n",
    "cases_includes_new_data = []\n",
    "cases_too_small = []\n",
    "for df_test_trace in test_cases:\n",
    "    i+= 1\n",
    "    if i == 20:\n",
    "        break\n",
    "\n",
    "    if 0 < len(df_test_trace) <= 2:\n",
    "        print(\"too small\", i, df_test_trace[case_id_name].unique().item())\n",
    "        cases_too_small.append( get_case_id(df_test_trace, multi=True) )\n",
    "        continue\n",
    "\n",
    "    X_test, y_test = prepare_df_for_ml(df_test_trace, outcome_name)\n",
    "    # Access the last row of the truncated trace to replicate the behavior of a running trace\n",
    "    total_time_upper_bound = int( y_test.iloc[-1] * (90 / 100) )  # A percentage of the original total time of the trace\n",
    "    query_instances = X_test.iloc[-1:]\n",
    "    proximity_weight = 0.2\n",
    "    sparsity_weight = 0.2\n",
    "    diversity_weight = 5.0\n",
    "    try:\n",
    "        cfe = generate_cfe(query_instances, total_time_upper_bound)\n",
    "\n",
    "        cfe = validate_transition(cfe)\n",
    "\n",
    "        if len(cfe) > 0:\n",
    "            cfes_list.append( (get_case_id(df_test_trace), cfe) )\n",
    "\n",
    "    except UserConfigValidationException:\n",
    "        cases_cfe_not_found.append(get_case_id(df_test_trace))\n",
    "    except TimeoutError:  # When function takes too long\n",
    "        cases_cfe_not_found.append(get_case_id(df_test_trace))\n",
    "    except ValueError:\n",
    "        # print(f\"Includes feature not found in training data: {get_case_id(df_test_trace)}\")\n",
    "        cases_includes_new_data.append(get_case_id(df_test_trace))\n",
    "\n"
   ],
   "metadata": {
    "collapsed": false
   }
  },
  {
   "cell_type": "code",
   "execution_count": 20,
   "outputs": [
    {
     "data": {
      "text/plain": "15"
     },
     "execution_count": 20,
     "metadata": {},
     "output_type": "execute_result"
    }
   ],
   "source": [
    "len(cfes_list)"
   ],
   "metadata": {
    "collapsed": false
   }
  },
  {
   "cell_type": "code",
   "execution_count": 387,
   "outputs": [
    {
     "data": {
      "text/plain": "     Status     ACTIVITY Involved_ST_Function_Div Involved_Org_line_3  \\\n0  Accepted     Resolved                     V3_2          Org line C   \n1  Accepted  In Progress                     V3_2          Org line H   \n2  Accepted         Wait                     V3_2          Org line C   \n3  Accepted  In Progress                     V3_2        Org line V11   \n4  Accepted  In Progress                     V3_2          Org line C   \n5  Accepted  In Progress                  missing          Org line C   \n6  Accepted  Wait - User                     V3_2         Org line V8   \n\n  Involved_ST SR_Latest_Impact  Product Country Owner_Country time_from_first  \\\n0      G7 3rd           Medium  PROD562      se        Sweden        600134.0   \n1     S45 2nd           Medium  PROD562      se        Sweden        600134.0   \n2         V33           Medium  PROD562      se        Sweden        600134.0   \n3         G49           Medium  PROD562      se        Sweden        600134.0   \n4      L4 2nd           Medium  PROD562      se        Sweden        600134.0   \n5         G49           Medium  PROD562      se        Sweden        600134.0   \n6         G49           Medium  PROD562      se        Sweden        600134.0   \n\n  time_from_previous_et time_from_midnight weekday # ACTIVITY=In Progress  \\\n0                 401.0            45412.0  Monday                      6   \n1                 401.0            45412.0  Monday                      6   \n2                 401.0            45412.0  Monday                      6   \n3                 401.0            45412.0  Monday                      6   \n4                 401.0            45412.0  Monday                      6   \n5                 401.0            45412.0  Monday                      6   \n6                 401.0            45412.0  Monday                      6   \n\n  # ACTIVITY=Awaiting Assignment # ACTIVITY=Resolved # ACTIVITY=Assigned  \\\n0                              7                   0                   0   \n1                              7                   0                   0   \n2                              7                   0                   0   \n3                              7                   0                   0   \n4                              7                   0                   0   \n5                              7                   0                   0   \n6                              7                   0                   0   \n\n  # ACTIVITY=Closed # ACTIVITY=Wait - User # ACTIVITY=Wait - Implementation  \\\n0                 0                      1                                0   \n1                 0                      1                                0   \n2                 0                      1                                0   \n3                 0                      1                                0   \n4                 0                      1                                0   \n5                 0                      1                                0   \n6                 0                      1                                0   \n\n  # ACTIVITY=Wait # ACTIVITY=Wait - Vendor # ACTIVITY=In Call  \\\n0               0                        0                  0   \n1               0                        0                  0   \n2               0                        0                  0   \n3               0                        0                  0   \n4               0                        0                  0   \n5               0                        0                  0   \n6               0                        0                  0   \n\n  # ACTIVITY=Wait - Customer # ACTIVITY=Unmatched # ACTIVITY=Cancelled  \\\n0                          0                    0                    0   \n1                          0                    0                    0   \n2                          0                    0                    0   \n3                          0                    0                    0   \n4                          0                    0                    0   \n5                          0                    0                    0   \n6                          0                    0                    0   \n\n   lead_time  \n0  1188408.0  \n1  1810092.0  \n2  1833501.0  \n3  2512714.0  \n4  1681719.0  \n5  1667908.0  \n6  1819502.0  ",
      "text/html": "<div>\n<style scoped>\n    .dataframe tbody tr th:only-of-type {\n        vertical-align: middle;\n    }\n\n    .dataframe tbody tr th {\n        vertical-align: top;\n    }\n\n    .dataframe thead th {\n        text-align: right;\n    }\n</style>\n<table border=\"1\" class=\"dataframe\">\n  <thead>\n    <tr style=\"text-align: right;\">\n      <th></th>\n      <th>Status</th>\n      <th>ACTIVITY</th>\n      <th>Involved_ST_Function_Div</th>\n      <th>Involved_Org_line_3</th>\n      <th>Involved_ST</th>\n      <th>SR_Latest_Impact</th>\n      <th>Product</th>\n      <th>Country</th>\n      <th>Owner_Country</th>\n      <th>time_from_first</th>\n      <th>time_from_previous_et</th>\n      <th>time_from_midnight</th>\n      <th>weekday</th>\n      <th># ACTIVITY=In Progress</th>\n      <th># ACTIVITY=Awaiting Assignment</th>\n      <th># ACTIVITY=Resolved</th>\n      <th># ACTIVITY=Assigned</th>\n      <th># ACTIVITY=Closed</th>\n      <th># ACTIVITY=Wait - User</th>\n      <th># ACTIVITY=Wait - Implementation</th>\n      <th># ACTIVITY=Wait</th>\n      <th># ACTIVITY=Wait - Vendor</th>\n      <th># ACTIVITY=In Call</th>\n      <th># ACTIVITY=Wait - Customer</th>\n      <th># ACTIVITY=Unmatched</th>\n      <th># ACTIVITY=Cancelled</th>\n      <th>lead_time</th>\n    </tr>\n  </thead>\n  <tbody>\n    <tr>\n      <th>0</th>\n      <td>Accepted</td>\n      <td>Resolved</td>\n      <td>V3_2</td>\n      <td>Org line C</td>\n      <td>G7 3rd</td>\n      <td>Medium</td>\n      <td>PROD562</td>\n      <td>se</td>\n      <td>Sweden</td>\n      <td>600134.0</td>\n      <td>401.0</td>\n      <td>45412.0</td>\n      <td>Monday</td>\n      <td>6</td>\n      <td>7</td>\n      <td>0</td>\n      <td>0</td>\n      <td>0</td>\n      <td>1</td>\n      <td>0</td>\n      <td>0</td>\n      <td>0</td>\n      <td>0</td>\n      <td>0</td>\n      <td>0</td>\n      <td>0</td>\n      <td>1188408.0</td>\n    </tr>\n    <tr>\n      <th>1</th>\n      <td>Accepted</td>\n      <td>In Progress</td>\n      <td>V3_2</td>\n      <td>Org line H</td>\n      <td>S45 2nd</td>\n      <td>Medium</td>\n      <td>PROD562</td>\n      <td>se</td>\n      <td>Sweden</td>\n      <td>600134.0</td>\n      <td>401.0</td>\n      <td>45412.0</td>\n      <td>Monday</td>\n      <td>6</td>\n      <td>7</td>\n      <td>0</td>\n      <td>0</td>\n      <td>0</td>\n      <td>1</td>\n      <td>0</td>\n      <td>0</td>\n      <td>0</td>\n      <td>0</td>\n      <td>0</td>\n      <td>0</td>\n      <td>0</td>\n      <td>1810092.0</td>\n    </tr>\n    <tr>\n      <th>2</th>\n      <td>Accepted</td>\n      <td>Wait</td>\n      <td>V3_2</td>\n      <td>Org line C</td>\n      <td>V33</td>\n      <td>Medium</td>\n      <td>PROD562</td>\n      <td>se</td>\n      <td>Sweden</td>\n      <td>600134.0</td>\n      <td>401.0</td>\n      <td>45412.0</td>\n      <td>Monday</td>\n      <td>6</td>\n      <td>7</td>\n      <td>0</td>\n      <td>0</td>\n      <td>0</td>\n      <td>1</td>\n      <td>0</td>\n      <td>0</td>\n      <td>0</td>\n      <td>0</td>\n      <td>0</td>\n      <td>0</td>\n      <td>0</td>\n      <td>1833501.0</td>\n    </tr>\n    <tr>\n      <th>3</th>\n      <td>Accepted</td>\n      <td>In Progress</td>\n      <td>V3_2</td>\n      <td>Org line V11</td>\n      <td>G49</td>\n      <td>Medium</td>\n      <td>PROD562</td>\n      <td>se</td>\n      <td>Sweden</td>\n      <td>600134.0</td>\n      <td>401.0</td>\n      <td>45412.0</td>\n      <td>Monday</td>\n      <td>6</td>\n      <td>7</td>\n      <td>0</td>\n      <td>0</td>\n      <td>0</td>\n      <td>1</td>\n      <td>0</td>\n      <td>0</td>\n      <td>0</td>\n      <td>0</td>\n      <td>0</td>\n      <td>0</td>\n      <td>0</td>\n      <td>2512714.0</td>\n    </tr>\n    <tr>\n      <th>4</th>\n      <td>Accepted</td>\n      <td>In Progress</td>\n      <td>V3_2</td>\n      <td>Org line C</td>\n      <td>L4 2nd</td>\n      <td>Medium</td>\n      <td>PROD562</td>\n      <td>se</td>\n      <td>Sweden</td>\n      <td>600134.0</td>\n      <td>401.0</td>\n      <td>45412.0</td>\n      <td>Monday</td>\n      <td>6</td>\n      <td>7</td>\n      <td>0</td>\n      <td>0</td>\n      <td>0</td>\n      <td>1</td>\n      <td>0</td>\n      <td>0</td>\n      <td>0</td>\n      <td>0</td>\n      <td>0</td>\n      <td>0</td>\n      <td>0</td>\n      <td>1681719.0</td>\n    </tr>\n    <tr>\n      <th>5</th>\n      <td>Accepted</td>\n      <td>In Progress</td>\n      <td>missing</td>\n      <td>Org line C</td>\n      <td>G49</td>\n      <td>Medium</td>\n      <td>PROD562</td>\n      <td>se</td>\n      <td>Sweden</td>\n      <td>600134.0</td>\n      <td>401.0</td>\n      <td>45412.0</td>\n      <td>Monday</td>\n      <td>6</td>\n      <td>7</td>\n      <td>0</td>\n      <td>0</td>\n      <td>0</td>\n      <td>1</td>\n      <td>0</td>\n      <td>0</td>\n      <td>0</td>\n      <td>0</td>\n      <td>0</td>\n      <td>0</td>\n      <td>0</td>\n      <td>1667908.0</td>\n    </tr>\n    <tr>\n      <th>6</th>\n      <td>Accepted</td>\n      <td>Wait - User</td>\n      <td>V3_2</td>\n      <td>Org line V8</td>\n      <td>G49</td>\n      <td>Medium</td>\n      <td>PROD562</td>\n      <td>se</td>\n      <td>Sweden</td>\n      <td>600134.0</td>\n      <td>401.0</td>\n      <td>45412.0</td>\n      <td>Monday</td>\n      <td>6</td>\n      <td>7</td>\n      <td>0</td>\n      <td>0</td>\n      <td>0</td>\n      <td>1</td>\n      <td>0</td>\n      <td>0</td>\n      <td>0</td>\n      <td>0</td>\n      <td>0</td>\n      <td>0</td>\n      <td>0</td>\n      <td>1819502.0</td>\n    </tr>\n  </tbody>\n</table>\n</div>"
     },
     "execution_count": 387,
     "metadata": {},
     "output_type": "execute_result"
    }
   ],
   "source": [
    "# for _, cfe in cfes_list:\n",
    "#     cfe.visualize_as_dataframe(show_only_changes=True)\n",
    "cfes_list[9][1]"
   ],
   "metadata": {
    "collapsed": false
   }
  },
  {
   "cell_type": "markdown",
   "source": [
    "## Observation\n",
    "The output usually comes within 2 minutes"
   ],
   "metadata": {
    "collapsed": false
   }
  },
  {
   "cell_type": "markdown",
   "source": [
    "#### TODOS\n",
    "- Check how many queries (rows) have valid CFEs\n",
    "- How to make CFE not, ACTIVITY column not to take the value \"Pending Liquidation request\"\n",
    "- Discover how DiCE handle constraints ( For us do it in post-processing step )\n",
    "- CE_OU - resource column, you can modify it\n",
    "- Modify just the resource (col: CE_UO) & Activity (col: ACTIVITY)\n",
    "- build a transition system to validate activity and then resource\n",
    "- Do the above for total time case\n",
    "- I\n",
    "- Implement activity validation and resource validation to the above\n",
    "-   To do this effectively maybe figure out how the DiCE post process the constraints and implement this in that layer"
   ],
   "metadata": {
    "collapsed": false
   }
  },
  {
   "cell_type": "code",
   "execution_count": null,
   "outputs": [],
   "source": [
    "query_instances = X_train[sidx: eidx]\n",
    "cfe = exp_genetic_iris.generate_counterfactuals(query_instances, total_CFs=5, desired_class=\"opposite\", features_to_vary=cols_to_vary)\n",
    "cfe.visualize_as_dataframe(show_only_changes=True)\n",
    "\n",
    "genetic_cfes = []\n",
    "\n",
    "for idx, query_instances in X_train.iterrows():\n",
    "    query_instances = query_instances.to_frame().transpose()\n",
    "    # query_instances = X_train[0:1]  # an interesting query`\n",
    "\n",
    "    cfe = exp_genetic_iris.generate_counterfactuals(query_instances, total_CFs=5, desired_class=\"opposite\", features_to_vary=cols_to_vary)\n",
    "\n",
    "    genetic_cfes.append( (idx, cfe) )"
   ],
   "metadata": {
    "collapsed": false
   }
  },
  {
   "cell_type": "markdown",
   "source": [
    "-Implement post processing steps\n",
    "    - Transition transition_system with full traces\n",
    "    - 4 tuple comparison with country and owner country\n",
    "\n"
   ],
   "metadata": {
    "collapsed": false
   }
  },
  {
   "cell_type": "markdown",
   "source": [
    "## Deprecated Code"
   ],
   "metadata": {
    "collapsed": false
   }
  },
  {
   "cell_type": "code",
   "execution_count": null,
   "outputs": [],
   "source": [
    "def validate_transition(cfe):\n",
    "    \"\"\" Deprecated function.\n",
    "    Works with transition graph which has single activity as key.\n",
    "    Args:\n",
    "        cfe: Dice counterfactual object.\n",
    "    \"\"\"\n",
    "    cf_examples_df = cfe.cf_examples_list[0].final_cfs_df.copy()\n",
    "\n",
    "    # expected_next_action = cfe.cf_examples_list[0].test_instance_df[activity_column_name].item()\n",
    "    # print(f\"Expected next action: {expected_next_action}\")\n",
    "\n",
    "    current_activity = current_step[activity_column_name].item()\n",
    "    # === Verify the next activity\n",
    "    indexes_to_drop = []\n",
    "    for idx, suggested_next_activity in cf_examples_df[activity_column_name].items():\n",
    "        # print(f\"index: {idx}, Suggest: {suggested_next_activity}\")\n",
    "        if suggested_next_activity not in transition_graph[current_activity]:\n",
    "            indexes_to_drop.append(idx)\n",
    "\n",
    "    cf_examples_df = cf_examples_df.drop(indexes_to_drop, axis='index').reset_index(drop=True)\n",
    "\n",
    "    # === Verify the associated resources\n",
    "    indexes_to_drop = []\n",
    "    for idx, row in cf_examples_df[ [\"ACTIVITY\", \"Involved_ST_Function_Div\"] ].iterrows():\n",
    "        row_tuple = tuple(row)\n",
    "        if row_tuple not in valid_resources:\n",
    "            # print(f\"removed row had: {row_tuple}\")\n",
    "            indexes_to_drop.append(idx)\n",
    "\n",
    "    cf_examples_df = cf_examples_df.drop(indexes_to_drop, axis='index').reset_index(drop=True)\n",
    "    return cf_examples_df"
   ],
   "metadata": {
    "collapsed": false
   }
  }
 ],
 "metadata": {
  "kernelspec": {
   "display_name": "Python 3",
   "language": "python",
   "name": "python3"
  },
  "language_info": {
   "codemirror_mode": {
    "name": "ipython",
    "version": 2
   },
   "file_extension": ".py",
   "mimetype": "text/x-python",
   "name": "python",
   "nbconvert_exporter": "python",
   "pygments_lexer": "ipython2",
   "version": "2.7.6"
  }
 },
 "nbformat": 4,
 "nbformat_minor": 0
}
