{
 "cells": [
  {
   "cell_type": "code",
   "execution_count": 1,
   "metadata": {
    "collapsed": true,
    "ExecuteTime": {
     "end_time": "2023-06-06T20:50:17.966690134Z",
     "start_time": "2023-06-06T20:50:15.997232847Z"
    }
   },
   "outputs": [],
   "source": [
    "import dice_ml\n",
    "from dice_ml import Dice\n",
    "from dice_ml.utils.exception import UserConfigValidationException\n",
    "\n",
    "from sklearn.pipeline import Pipeline\n",
    "from sklearn.preprocessing import StandardScaler, OneHotEncoder\n",
    "from sklearn.compose import ColumnTransformer\n",
    "from sklearn.ensemble import RandomForestClassifier, RandomForestRegressor\n",
    "from sklearn.model_selection import train_test_split\n",
    "from sklearn.datasets import load_iris, fetch_california_housing\n",
    "\n",
    "from src.transition_system import transition_system, indexs_for_window, list_to_str\n",
    "from src.function_store import StoreTestRun, extract_algo_name, generate_cfe, get_case_id, prepare_df_for_ml, \\\n",
    "    activity_n_resources, get_test_cases, get_prefix_of_activities, validate_transition\n",
    "\n",
    "import pandas as pd\n",
    "import os\n",
    "import pickle\n",
    "import random\n",
    "import subprocess\n",
    "from IPython.display import display\n",
    "from math import ceil\n",
    "import warnings\n",
    "from wrapt_timeout_decorator import timeout\n",
    "\n",
    "# from multiprocessing import Process\n",
    "# from timeout_decorator import timeout, TimeoutError\n",
    "# import signal\n",
    "from typing import Tuple, Any, List, Union\n",
    "from collections import Counter\n",
    "import utils\n",
    "from time import sleep\n",
    "if \"src\" in os.getcwd():\n",
    "    os.chdir(\"../\")\n",
    "\n",
    "# Suppress all warnings\n",
    "warnings.filterwarnings(\"ignore\")\n",
    "%load_ext autoreload\n",
    "%autoreload 2"
   ]
  },
  {
   "cell_type": "markdown",
   "source": [
    "# Dataset: Bank Account Closure"
   ],
   "metadata": {
    "collapsed": false
   }
  },
  {
   "cell_type": "markdown",
   "source": [
    "## Setup Variables"
   ],
   "metadata": {
    "collapsed": false
   }
  },
  {
   "cell_type": "code",
   "execution_count": 8,
   "outputs": [],
   "source": [
    "pd.options.display.max_columns= None\n",
    "KPI = \"activity_occurrence\"  # activity_occurrence, ...\n",
    "SECONDS_TO_HOURS = 60 * 60\n",
    "SECONDS_TO_DAYS = 60 * 60 * 24\n",
    "WINDOW_SIZE = 3\n",
    "REDUCED_KPI_TIME = 90\n",
    "TOTAL_CFS = 15                        # Number of CFs DiCE algorithm should produce\n",
    "TRAIN_DATA_SIZE = 17_335             # 170_335\n",
    "DICE_METHOD = \"random\"\n",
    "RESULTS_FILE_PATH_N_NAME = \"experiment_results/random-a01.csv\"\n",
    "# ToDo store the model configurations in the pkl file as well and retrieve them from here\n",
    "proximity_weight = 0.2\n",
    "sparsity_weight = 0.2\n",
    "diversity_weight = 5.0\n",
    "\n",
    "case_id_name = 'REQUEST_ID'  # The case identifier column name.\n",
    "# start_date_name = 'Change_Date+Time'  # Maybe change to start_et (start even time)\n",
    "activity_column_name = \"ACTIVITY\""
   ],
   "metadata": {
    "collapsed": false,
    "ExecuteTime": {
     "end_time": "2023-06-06T20:50:39.471810793Z",
     "start_time": "2023-06-06T20:50:39.418844161Z"
    }
   }
  },
  {
   "cell_type": "markdown",
   "source": [
    "## Load Data"
   ],
   "metadata": {
    "collapsed": false
   }
  },
  {
   "cell_type": "code",
   "execution_count": 9,
   "outputs": [],
   "source": [
    "data_dir = \"./preprocessed_datasets/\"\n",
    "train_dataset_file = \"bank_acc_train.csv\"\n",
    "test_dataset_file = \"bank_acc_test.csv\"\n",
    "test_pickle_dataset_file = \"bank_acc-test.pkl\"\n",
    "df = pd.read_csv(\"./data/completed.csv\")  # Use full dataset for transition systens\n",
    "df_train = pd.read_csv(os.path.join(data_dir, train_dataset_file))\n",
    "df_test = pd.read_csv(os.path.join(data_dir, test_dataset_file))"
   ],
   "metadata": {
    "collapsed": false,
    "ExecuteTime": {
     "end_time": "2023-06-06T20:50:40.474530703Z",
     "start_time": "2023-06-06T20:50:39.789083603Z"
    }
   }
  },
  {
   "cell_type": "markdown",
   "source": [
    "### Basic Preprocessing of the dataset"
   ],
   "metadata": {
    "collapsed": false
   }
  },
  {
   "cell_type": "code",
   "execution_count": 10,
   "outputs": [
    {
     "name": "stdout",
     "output_type": "stream",
     "text": [
      "Rows in df_train: 17,335\n",
      "Rows in df_test: 6,391\n"
     ]
    }
   ],
   "source": [
    "df = df.fillna(\"missing\")\n",
    "df_train = df_train[:TRAIN_DATA_SIZE]  # 31_066\n",
    "# df_test = df_test[: 19_041]\n",
    "print(f\"Rows in df_train: {len(df_train):,}\")\n",
    "print(f\"Rows in df_test: {len(df_test):,}\")\n",
    "# df_train.info()"
   ],
   "metadata": {
    "collapsed": false,
    "ExecuteTime": {
     "end_time": "2023-06-06T20:50:40.552590365Z",
     "start_time": "2023-06-06T20:50:40.479058612Z"
    }
   }
  },
  {
   "cell_type": "markdown",
   "source": [
    "### Helper functions"
   ],
   "metadata": {
    "collapsed": false
   }
  },
  {
   "cell_type": "code",
   "execution_count": 11,
   "outputs": [],
   "source": [
    "# valid_resources = activity_n_resources(df_train, [\"ACTIVITY\", \"Involved_ST_Function_Div\", \"Involved_Org_line_3\", \"Involved_ST\"])\n",
    "resource_columns_to_validate = [activity_column_name, 'CE_UO', 'ROLE']\n",
    "valid_resources = activity_n_resources(df, resource_columns_to_validate, threshold_percentage=90)\n",
    "# len(valid_resources)"
   ],
   "metadata": {
    "collapsed": false,
    "ExecuteTime": {
     "end_time": "2023-06-06T20:50:43.271059523Z",
     "start_time": "2023-06-06T20:50:40.754682947Z"
    }
   }
  },
  {
   "cell_type": "code",
   "execution_count": 12,
   "outputs": [],
   "source": [
    "# # === Analysis of all the columns in the dataset\n",
    "# variable_type_analysis(df, case_id_name=case_id_name, activity_name=activity_column_name)"
   ],
   "metadata": {
    "collapsed": false,
    "ExecuteTime": {
     "end_time": "2023-06-06T20:50:43.299120130Z",
     "start_time": "2023-06-06T20:50:43.272035323Z"
    }
   }
  },
  {
   "cell_type": "markdown",
   "source": [
    "### Prepare the Test Dataset"
   ],
   "metadata": {
    "collapsed": false
   }
  },
  {
   "cell_type": "code",
   "execution_count": 13,
   "outputs": [
    {
     "name": "stdout",
     "output_type": "stream",
     "text": [
      "Number of cases in the test set: 1096\n"
     ]
    }
   ],
   "source": [
    "# === Unpickle the Standard test-set. To standardize the test across different parameters.\n",
    "test_cases = get_test_cases(None, None, load_dataset=True, path_and_filename=os.path.join(data_dir, test_pickle_dataset_file))\n",
    "print(f\"Number of cases in the test set: {len(test_cases):,}\")\n",
    "\n",
    "# # === Pickle dataset for comparison of different methods\n",
    "# with open(os.path.join(data_dir, test_pickle_dataset_file), 'wb') as file:\n",
    "#     pickle.dump(test_cases, file)"
   ],
   "metadata": {
    "collapsed": false,
    "ExecuteTime": {
     "end_time": "2023-06-06T20:50:44.155473568Z",
     "start_time": "2023-06-06T20:50:44.051439323Z"
    }
   }
  },
  {
   "cell_type": "code",
   "execution_count": 14,
   "outputs": [],
   "source": [
    "# ### Features that can vary\n",
    "# option 1:\n",
    "# cols_to_vary = [col for col in df_train.columns if col[0] == '#']\n",
    "\n",
    "cols_to_vary = [\"ACTIVITY\", \"CE_UO\", \"ROLE\"]\n",
    "\n",
    "outcome_name = \"Back-Office Adjustment Requested\"\n",
    "\n",
    "X_train, y_train = prepare_df_for_ml(df_train, case_id_name, outcome_name, columns_to_remove=[\"START_DATE\", \"END_DATE\", \"time_remaining\"])\n",
    "\n",
    "# X_test, y_test = prepare_df_for_ml(df_test, outcome_name)\n",
    "\n",
    "continuous_features = [\"time_from_first\", \"time_from_previous_et\", \"time_from_midnight\", \"activity_duration\", '# ACTIVITY=Service closure Request with network responsibility',\n",
    "                    '# ACTIVITY=Service closure Request with BO responsibility', '# ACTIVITY=Pending Request for Reservation Closure', '# ACTIVITY=Pending Liquidation Request',\n",
    "                    '# ACTIVITY=Request completed with account closure', '# ACTIVITY=Request created', '# ACTIVITY=Authorization Requested',\n",
    "                    '# ACTIVITY=Evaluating Request (NO registered letter)', '# ACTIVITY=Network Adjustment Requested', '# ACTIVITY=Pending Request for acquittance of heirs',\n",
    "                    '# ACTIVITY=Request deleted', '# ACTIVITY=Back-Office Adjustment Requested', '# ACTIVITY=Evaluating Request (WITH registered letter)',\n",
    "                    '# ACTIVITY=Request completed with customer recovery', '# ACTIVITY=Pending Request for Network Information',]\n",
    "categorical_features = [\"CLOSURE_TYPE\", \"CLOSURE_REASON\", \"ACTIVITY\", \"CE_UO\", \"ROLE\", \"weekday\"]\n",
    "\n",
    "# We create the preprocessing pipelines for both numeric and categorical data.\n",
    "numeric_transformer = Pipeline(steps=[\n",
    "    ('scaler', StandardScaler())])\n",
    "\n",
    "categorical_transformer = Pipeline(steps=[\n",
    "    ('onehot', OneHotEncoder(handle_unknown='ignore'))])\n",
    "\n",
    "transformations = ColumnTransformer(\n",
    "    transformers=[\n",
    "        ('num', numeric_transformer, continuous_features),\n",
    "        ('cat', categorical_transformer, categorical_features)])\n",
    "\n",
    "# Append classifier to preprocessing pipeline.\n",
    "# Now we have a full prediction pipeline.\n",
    "clf = Pipeline(steps=[('preprocessor', transformations),\n",
    "                           ('classifier', RandomForestClassifier(n_jobs=7))])\n",
    "model = clf.fit(X_train, y_train)\n",
    "\n",
    "# ## Create DiCE model\n",
    "data_model = dice_ml.Data(dataframe=pd.concat([X_train, y_train], axis=\"columns\"),\n",
    "                      continuous_features=continuous_features,\n",
    "                      outcome_name=outcome_name)\n",
    "\n",
    "# We provide the type of model as a parameter (model_type)\n",
    "ml_backend = dice_ml.Model(model=model, backend=\"sklearn\", model_type='classifier')\n",
    "method = DICE_METHOD  # genetic, kdtree, random\n",
    "explainer = Dice(data_model, ml_backend, method=method)  # Categorical features do not support features_weights argument in generate_counterfactuals()\n",
    "# exp_genetic_iris = Dice(d_iris, m_iris, method=\"kdtree\")"
   ],
   "metadata": {
    "collapsed": false,
    "ExecuteTime": {
     "end_time": "2023-06-06T20:50:47.309467001Z",
     "start_time": "2023-06-06T20:50:44.627198048Z"
    }
   }
  },
  {
   "cell_type": "markdown",
   "source": [
    "## Experiment with Single Queries"
   ],
   "metadata": {
    "collapsed": false
   }
  },
  {
   "cell_type": "code",
   "execution_count": 9,
   "outputs": [
    {
     "data": {
      "text/plain": "      REQUEST_ID   CLOSURE_TYPE   CLOSURE_REASON   \n612  20182001337    Bank Recess  1 - Client lost  \\\n613  20182001337    Bank Recess  1 - Client lost   \n614  20182001337    Bank Recess  1 - Client lost   \n615  20182001491  Client Recess  1 - Client lost   \n616  20182001491  Client Recess  1 - Client lost   \n617  20182001491  Client Recess  1 - Client lost   \n618  20182001491  Client Recess  1 - Client lost   \n619  20182001491  Client Recess  1 - Client lost   \n620  20182001491  Client Recess  1 - Client lost   \n621  20182001491  Client Recess  1 - Client lost   \n\n                                              ACTIVITY  CE_UO         ROLE   \n612     Service closure Request with BO responsibility    BOC  BACK-OFFICE  \\\n613            Pending Request for Reservation Closure    BOC  BACK-OFFICE   \n614                        Pending Liquidation Request    BOC  BACK-OFFICE   \n615                                    Request created  00877    APPLICANT   \n616          Evaluating Request (NO registered letter)  00037     DIRECTOR   \n617  Service closure Request with network responsib...  00037    APPLICANT   \n618     Service closure Request with BO responsibility    BOC  BACK-OFFICE   \n619            Pending Request for Reservation Closure    BOC  BACK-OFFICE   \n620                   Back-Office Adjustment Requested    BOC  BACK-OFFICE   \n621            Pending Request for Reservation Closure    BOC  BACK-OFFICE   \n\n     Back-Office Adjustment Requested  \n612                                 0  \n613                                 0  \n614                                 0  \n615                                 1  \n616                                 1  \n617                                 1  \n618                                 1  \n619                                 1  \n620                                 0  \n621                                 0  ",
      "text/html": "<div>\n<style scoped>\n    .dataframe tbody tr th:only-of-type {\n        vertical-align: middle;\n    }\n\n    .dataframe tbody tr th {\n        vertical-align: top;\n    }\n\n    .dataframe thead th {\n        text-align: right;\n    }\n</style>\n<table border=\"1\" class=\"dataframe\">\n  <thead>\n    <tr style=\"text-align: right;\">\n      <th></th>\n      <th>REQUEST_ID</th>\n      <th>CLOSURE_TYPE</th>\n      <th>CLOSURE_REASON</th>\n      <th>ACTIVITY</th>\n      <th>CE_UO</th>\n      <th>ROLE</th>\n      <th>Back-Office Adjustment Requested</th>\n    </tr>\n  </thead>\n  <tbody>\n    <tr>\n      <th>612</th>\n      <td>20182001337</td>\n      <td>Bank Recess</td>\n      <td>1 - Client lost</td>\n      <td>Service closure Request with BO responsibility</td>\n      <td>BOC</td>\n      <td>BACK-OFFICE</td>\n      <td>0</td>\n    </tr>\n    <tr>\n      <th>613</th>\n      <td>20182001337</td>\n      <td>Bank Recess</td>\n      <td>1 - Client lost</td>\n      <td>Pending Request for Reservation Closure</td>\n      <td>BOC</td>\n      <td>BACK-OFFICE</td>\n      <td>0</td>\n    </tr>\n    <tr>\n      <th>614</th>\n      <td>20182001337</td>\n      <td>Bank Recess</td>\n      <td>1 - Client lost</td>\n      <td>Pending Liquidation Request</td>\n      <td>BOC</td>\n      <td>BACK-OFFICE</td>\n      <td>0</td>\n    </tr>\n    <tr>\n      <th>615</th>\n      <td>20182001491</td>\n      <td>Client Recess</td>\n      <td>1 - Client lost</td>\n      <td>Request created</td>\n      <td>00877</td>\n      <td>APPLICANT</td>\n      <td>1</td>\n    </tr>\n    <tr>\n      <th>616</th>\n      <td>20182001491</td>\n      <td>Client Recess</td>\n      <td>1 - Client lost</td>\n      <td>Evaluating Request (NO registered letter)</td>\n      <td>00037</td>\n      <td>DIRECTOR</td>\n      <td>1</td>\n    </tr>\n    <tr>\n      <th>617</th>\n      <td>20182001491</td>\n      <td>Client Recess</td>\n      <td>1 - Client lost</td>\n      <td>Service closure Request with network responsib...</td>\n      <td>00037</td>\n      <td>APPLICANT</td>\n      <td>1</td>\n    </tr>\n    <tr>\n      <th>618</th>\n      <td>20182001491</td>\n      <td>Client Recess</td>\n      <td>1 - Client lost</td>\n      <td>Service closure Request with BO responsibility</td>\n      <td>BOC</td>\n      <td>BACK-OFFICE</td>\n      <td>1</td>\n    </tr>\n    <tr>\n      <th>619</th>\n      <td>20182001491</td>\n      <td>Client Recess</td>\n      <td>1 - Client lost</td>\n      <td>Pending Request for Reservation Closure</td>\n      <td>BOC</td>\n      <td>BACK-OFFICE</td>\n      <td>1</td>\n    </tr>\n    <tr>\n      <th>620</th>\n      <td>20182001491</td>\n      <td>Client Recess</td>\n      <td>1 - Client lost</td>\n      <td>Back-Office Adjustment Requested</td>\n      <td>BOC</td>\n      <td>BACK-OFFICE</td>\n      <td>0</td>\n    </tr>\n    <tr>\n      <th>621</th>\n      <td>20182001491</td>\n      <td>Client Recess</td>\n      <td>1 - Client lost</td>\n      <td>Pending Request for Reservation Closure</td>\n      <td>BOC</td>\n      <td>BACK-OFFICE</td>\n      <td>0</td>\n    </tr>\n  </tbody>\n</table>\n</div>"
     },
     "execution_count": 9,
     "metadata": {},
     "output_type": "execute_result"
    }
   ],
   "source": [
    "sidx = 612\n",
    "eidx = 622\n",
    "\n",
    "df_train[sidx: eidx][[ \"REQUEST_ID\", \"CLOSURE_TYPE\", \"CLOSURE_REASON\", \"ACTIVITY\", \"CE_UO\", \"ROLE\", \"Back-Office Adjustment Requested\"] ]\n",
    "# df_train[sidx: eidx]"
   ],
   "metadata": {
    "collapsed": false,
    "ExecuteTime": {
     "end_time": "2023-06-05T14:42:53.696045423Z",
     "start_time": "2023-06-05T14:42:53.695247965Z"
    }
   }
  },
  {
   "cell_type": "code",
   "execution_count": 15,
   "outputs": [
    {
     "name": "stderr",
     "output_type": "stream",
     "text": [
      "100%|██████████| 1/1 [00:00<00:00,  1.60it/s]"
     ]
    },
    {
     "name": "stdout",
     "output_type": "stream",
     "text": [
      "Query instance (original outcome : 1)\n"
     ]
    },
    {
     "name": "stderr",
     "output_type": "stream",
     "text": [
      "\n"
     ]
    },
    {
     "data": {
      "text/plain": "    CLOSURE_TYPE   CLOSURE_REASON                                 ACTIVITY   \n0  Client Recess  1 - Client lost  Pending Request for Reservation Closure  \\\n\n  CE_UO         ROLE  time_from_first  time_from_previous_et   \n0   BOC  BACK-OFFICE         26354849                    810  \\\n\n   time_from_midnight weekday  activity_duration   \n0               45978  Friday                 64  \\\n\n   # ACTIVITY=Service closure Request with network responsibility   \n0                                                  1               \\\n\n   # ACTIVITY=Service closure Request with BO responsibility   \n0                                                  1          \\\n\n   # ACTIVITY=Pending Request for Reservation Closure   \n0                                                  0   \\\n\n   # ACTIVITY=Pending Liquidation Request   \n0                                       0  \\\n\n   # ACTIVITY=Request completed with account closure   \n0                                                  0  \\\n\n   # ACTIVITY=Request created  # ACTIVITY=Authorization Requested   \n0                           1                                   0  \\\n\n   # ACTIVITY=Evaluating Request (NO registered letter)   \n0                                                  1     \\\n\n   # ACTIVITY=Network Adjustment Requested   \n0                                        0  \\\n\n   # ACTIVITY=Pending Request for acquittance of heirs   \n0                                                  0    \\\n\n   # ACTIVITY=Request deleted  # ACTIVITY=Back-Office Adjustment Requested   \n0                           0                                            0  \\\n\n   # ACTIVITY=Evaluating Request (WITH registered letter)   \n0                                                  0       \\\n\n   # ACTIVITY=Request completed with customer recovery   \n0                                                  0    \\\n\n   # ACTIVITY=Pending Request for Network Information   \n0                                                  0   \\\n\n   Back-Office Adjustment Requested  \n0                                 1  ",
      "text/html": "<div>\n<style scoped>\n    .dataframe tbody tr th:only-of-type {\n        vertical-align: middle;\n    }\n\n    .dataframe tbody tr th {\n        vertical-align: top;\n    }\n\n    .dataframe thead th {\n        text-align: right;\n    }\n</style>\n<table border=\"1\" class=\"dataframe\">\n  <thead>\n    <tr style=\"text-align: right;\">\n      <th></th>\n      <th>CLOSURE_TYPE</th>\n      <th>CLOSURE_REASON</th>\n      <th>ACTIVITY</th>\n      <th>CE_UO</th>\n      <th>ROLE</th>\n      <th>time_from_first</th>\n      <th>time_from_previous_et</th>\n      <th>time_from_midnight</th>\n      <th>weekday</th>\n      <th>activity_duration</th>\n      <th># ACTIVITY=Service closure Request with network responsibility</th>\n      <th># ACTIVITY=Service closure Request with BO responsibility</th>\n      <th># ACTIVITY=Pending Request for Reservation Closure</th>\n      <th># ACTIVITY=Pending Liquidation Request</th>\n      <th># ACTIVITY=Request completed with account closure</th>\n      <th># ACTIVITY=Request created</th>\n      <th># ACTIVITY=Authorization Requested</th>\n      <th># ACTIVITY=Evaluating Request (NO registered letter)</th>\n      <th># ACTIVITY=Network Adjustment Requested</th>\n      <th># ACTIVITY=Pending Request for acquittance of heirs</th>\n      <th># ACTIVITY=Request deleted</th>\n      <th># ACTIVITY=Back-Office Adjustment Requested</th>\n      <th># ACTIVITY=Evaluating Request (WITH registered letter)</th>\n      <th># ACTIVITY=Request completed with customer recovery</th>\n      <th># ACTIVITY=Pending Request for Network Information</th>\n      <th>Back-Office Adjustment Requested</th>\n    </tr>\n  </thead>\n  <tbody>\n    <tr>\n      <th>0</th>\n      <td>Client Recess</td>\n      <td>1 - Client lost</td>\n      <td>Pending Request for Reservation Closure</td>\n      <td>BOC</td>\n      <td>BACK-OFFICE</td>\n      <td>26354849</td>\n      <td>810</td>\n      <td>45978</td>\n      <td>Friday</td>\n      <td>64</td>\n      <td>1</td>\n      <td>1</td>\n      <td>0</td>\n      <td>0</td>\n      <td>0</td>\n      <td>1</td>\n      <td>0</td>\n      <td>1</td>\n      <td>0</td>\n      <td>0</td>\n      <td>0</td>\n      <td>0</td>\n      <td>0</td>\n      <td>0</td>\n      <td>0</td>\n      <td>1</td>\n    </tr>\n  </tbody>\n</table>\n</div>"
     },
     "metadata": {},
     "output_type": "display_data"
    },
    {
     "name": "stdout",
     "output_type": "stream",
     "text": [
      "\n",
      "Diverse Counterfactual set (new outcome: 0.0)\n"
     ]
    },
    {
     "data": {
      "text/plain": "   CLOSURE_TYPE CLOSURE_REASON   \n0             -              -  \\\n1             -              -   \n2             -              -   \n3             -              -   \n4             -              -   \n5             -              -   \n6             -              -   \n7             -              -   \n8             -              -   \n9             -              -   \n10            -              -   \n11            -              -   \n12            -              -   \n13            -              -   \n14            -              -   \n\n                                             ACTIVITY  CE_UO       ROLE   \n0         Evaluating Request (WITH registered letter)      -   DIRECTOR  \\\n1                        Network Adjustment Requested  00345          -   \n2                                                   -  00191   DIRECTOR   \n3                                                   -  00640   DIRECTOR   \n4      Service closure Request with BO responsibility  00009          -   \n5                                     Request created  00040          -   \n6                                                   -  00255  APPLICANT   \n7                             Authorization Requested  00277          -   \n8                                                   -  00217   DIRECTOR   \n9                                     Request created  00837          -   \n10                                    Request created  00194          -   \n11                        Pending Liquidation Request   SB40          -   \n12  Service closure Request with network responsib...  00210          -   \n13            Pending Request for Network Information  00069          -   \n14                                                  -  00545   DIRECTOR   \n\n   time_from_first time_from_previous_et time_from_midnight weekday   \n0                -                     -                  -       -  \\\n1                -                     -                  -       -   \n2                -                     -                  -       -   \n3                -                     -                  -       -   \n4                -                     -                  -       -   \n5                -                     -                  -       -   \n6                -                     -                  -       -   \n7                -                     -                  -       -   \n8                -                     -                  -       -   \n9                -                     -                  -       -   \n10               -                     -                  -       -   \n11               -                     -                  -       -   \n12               -                     -                  -       -   \n13               -                     -                  -       -   \n14               -                     -                  -       -   \n\n   activity_duration   \n0                  -  \\\n1                  -   \n2                  -   \n3                  -   \n4                  -   \n5                  -   \n6                  -   \n7                  -   \n8                  -   \n9                  -   \n10                 -   \n11                 -   \n12                 -   \n13                 -   \n14                 -   \n\n   # ACTIVITY=Service closure Request with network responsibility   \n0                                                   -              \\\n1                                                   -               \n2                                                   -               \n3                                                   -               \n4                                                   -               \n5                                                   -               \n6                                                   -               \n7                                                   -               \n8                                                   -               \n9                                                   -               \n10                                                  -               \n11                                                  -               \n12                                                  -               \n13                                                  -               \n14                                                  -               \n\n   # ACTIVITY=Service closure Request with BO responsibility   \n0                                                   -         \\\n1                                                   -          \n2                                                   -          \n3                                                   -          \n4                                                   -          \n5                                                   -          \n6                                                   -          \n7                                                   -          \n8                                                   -          \n9                                                   -          \n10                                                  -          \n11                                                  -          \n12                                                  -          \n13                                                  -          \n14                                                  -          \n\n   # ACTIVITY=Pending Request for Reservation Closure   \n0                                                   -  \\\n1                                                   -   \n2                                                   -   \n3                                                   -   \n4                                                   -   \n5                                                   -   \n6                                                   -   \n7                                                   -   \n8                                                   -   \n9                                                   -   \n10                                                  -   \n11                                                  -   \n12                                                  -   \n13                                                  -   \n14                                                  -   \n\n   # ACTIVITY=Pending Liquidation Request   \n0                                       -  \\\n1                                       -   \n2                                       -   \n3                                       -   \n4                                       -   \n5                                       -   \n6                                       -   \n7                                       -   \n8                                       -   \n9                                       -   \n10                                      -   \n11                                      -   \n12                                      -   \n13                                      -   \n14                                      -   \n\n   # ACTIVITY=Request completed with account closure   \n0                                                  -  \\\n1                                                  -   \n2                                                  -   \n3                                                  -   \n4                                                  -   \n5                                                  -   \n6                                                  -   \n7                                                  -   \n8                                                  -   \n9                                                  -   \n10                                                 -   \n11                                                 -   \n12                                                 -   \n13                                                 -   \n14                                                 -   \n\n   # ACTIVITY=Request created # ACTIVITY=Authorization Requested   \n0                           -                                  -  \\\n1                           -                                  -   \n2                           -                                  -   \n3                           -                                  -   \n4                           -                                  -   \n5                           -                                  -   \n6                           -                                  -   \n7                           -                                  -   \n8                           -                                  -   \n9                           -                                  -   \n10                          -                                  -   \n11                          -                                  -   \n12                          -                                  -   \n13                          -                                  -   \n14                          -                                  -   \n\n   # ACTIVITY=Evaluating Request (NO registered letter)   \n0                                                   -    \\\n1                                                   -     \n2                                                   -     \n3                                                   -     \n4                                                   -     \n5                                                   -     \n6                                                   -     \n7                                                   -     \n8                                                   -     \n9                                                   -     \n10                                                  -     \n11                                                  -     \n12                                                  -     \n13                                                  -     \n14                                                  -     \n\n   # ACTIVITY=Network Adjustment Requested   \n0                                        -  \\\n1                                        -   \n2                                        -   \n3                                        -   \n4                                        -   \n5                                        -   \n6                                        -   \n7                                        -   \n8                                        -   \n9                                        -   \n10                                       -   \n11                                       -   \n12                                       -   \n13                                       -   \n14                                       -   \n\n   # ACTIVITY=Pending Request for acquittance of heirs   \n0                                                   -   \\\n1                                                   -    \n2                                                   -    \n3                                                   -    \n4                                                   -    \n5                                                   -    \n6                                                   -    \n7                                                   -    \n8                                                   -    \n9                                                   -    \n10                                                  -    \n11                                                  -    \n12                                                  -    \n13                                                  -    \n14                                                  -    \n\n   # ACTIVITY=Request deleted # ACTIVITY=Back-Office Adjustment Requested   \n0                           -                                           -  \\\n1                           -                                           -   \n2                           -                                           -   \n3                           -                                           -   \n4                           -                                           -   \n5                           -                                           -   \n6                           -                                           -   \n7                           -                                           -   \n8                           -                                           -   \n9                           -                                           -   \n10                          -                                           -   \n11                          -                                           -   \n12                          -                                           -   \n13                          -                                           -   \n14                          -                                           -   \n\n   # ACTIVITY=Evaluating Request (WITH registered letter)   \n0                                                   -      \\\n1                                                   -       \n2                                                   -       \n3                                                   -       \n4                                                   -       \n5                                                   -       \n6                                                   -       \n7                                                   -       \n8                                                   -       \n9                                                   -       \n10                                                  -       \n11                                                  -       \n12                                                  -       \n13                                                  -       \n14                                                  -       \n\n   # ACTIVITY=Request completed with customer recovery   \n0                                                   -   \\\n1                                                   -    \n2                                                   -    \n3                                                   -    \n4                                                   -    \n5                                                   -    \n6                                                   -    \n7                                                   -    \n8                                                   -    \n9                                                   -    \n10                                                  -    \n11                                                  -    \n12                                                  -    \n13                                                  -    \n14                                                  -    \n\n   # ACTIVITY=Pending Request for Network Information   \n0                                                   -  \\\n1                                                   -   \n2                                                   -   \n3                                                   -   \n4                                                   -   \n5                                                   -   \n6                                                   -   \n7                                                   -   \n8                                                   -   \n9                                                   -   \n10                                                  -   \n11                                                  -   \n12                                                  -   \n13                                                  -   \n14                                                  -   \n\n   Back-Office Adjustment Requested  \n0                                 0  \n1                                 0  \n2                                 0  \n3                                 0  \n4                                 0  \n5                                 0  \n6                                 0  \n7                                 0  \n8                                 0  \n9                                 0  \n10                                0  \n11                                0  \n12                                0  \n13                                0  \n14                                0  ",
      "text/html": "<div>\n<style scoped>\n    .dataframe tbody tr th:only-of-type {\n        vertical-align: middle;\n    }\n\n    .dataframe tbody tr th {\n        vertical-align: top;\n    }\n\n    .dataframe thead th {\n        text-align: right;\n    }\n</style>\n<table border=\"1\" class=\"dataframe\">\n  <thead>\n    <tr style=\"text-align: right;\">\n      <th></th>\n      <th>CLOSURE_TYPE</th>\n      <th>CLOSURE_REASON</th>\n      <th>ACTIVITY</th>\n      <th>CE_UO</th>\n      <th>ROLE</th>\n      <th>time_from_first</th>\n      <th>time_from_previous_et</th>\n      <th>time_from_midnight</th>\n      <th>weekday</th>\n      <th>activity_duration</th>\n      <th># ACTIVITY=Service closure Request with network responsibility</th>\n      <th># ACTIVITY=Service closure Request with BO responsibility</th>\n      <th># ACTIVITY=Pending Request for Reservation Closure</th>\n      <th># ACTIVITY=Pending Liquidation Request</th>\n      <th># ACTIVITY=Request completed with account closure</th>\n      <th># ACTIVITY=Request created</th>\n      <th># ACTIVITY=Authorization Requested</th>\n      <th># ACTIVITY=Evaluating Request (NO registered letter)</th>\n      <th># ACTIVITY=Network Adjustment Requested</th>\n      <th># ACTIVITY=Pending Request for acquittance of heirs</th>\n      <th># ACTIVITY=Request deleted</th>\n      <th># ACTIVITY=Back-Office Adjustment Requested</th>\n      <th># ACTIVITY=Evaluating Request (WITH registered letter)</th>\n      <th># ACTIVITY=Request completed with customer recovery</th>\n      <th># ACTIVITY=Pending Request for Network Information</th>\n      <th>Back-Office Adjustment Requested</th>\n    </tr>\n  </thead>\n  <tbody>\n    <tr>\n      <th>0</th>\n      <td>-</td>\n      <td>-</td>\n      <td>Evaluating Request (WITH registered letter)</td>\n      <td>-</td>\n      <td>DIRECTOR</td>\n      <td>-</td>\n      <td>-</td>\n      <td>-</td>\n      <td>-</td>\n      <td>-</td>\n      <td>-</td>\n      <td>-</td>\n      <td>-</td>\n      <td>-</td>\n      <td>-</td>\n      <td>-</td>\n      <td>-</td>\n      <td>-</td>\n      <td>-</td>\n      <td>-</td>\n      <td>-</td>\n      <td>-</td>\n      <td>-</td>\n      <td>-</td>\n      <td>-</td>\n      <td>0</td>\n    </tr>\n    <tr>\n      <th>1</th>\n      <td>-</td>\n      <td>-</td>\n      <td>Network Adjustment Requested</td>\n      <td>00345</td>\n      <td>-</td>\n      <td>-</td>\n      <td>-</td>\n      <td>-</td>\n      <td>-</td>\n      <td>-</td>\n      <td>-</td>\n      <td>-</td>\n      <td>-</td>\n      <td>-</td>\n      <td>-</td>\n      <td>-</td>\n      <td>-</td>\n      <td>-</td>\n      <td>-</td>\n      <td>-</td>\n      <td>-</td>\n      <td>-</td>\n      <td>-</td>\n      <td>-</td>\n      <td>-</td>\n      <td>0</td>\n    </tr>\n    <tr>\n      <th>2</th>\n      <td>-</td>\n      <td>-</td>\n      <td>-</td>\n      <td>00191</td>\n      <td>DIRECTOR</td>\n      <td>-</td>\n      <td>-</td>\n      <td>-</td>\n      <td>-</td>\n      <td>-</td>\n      <td>-</td>\n      <td>-</td>\n      <td>-</td>\n      <td>-</td>\n      <td>-</td>\n      <td>-</td>\n      <td>-</td>\n      <td>-</td>\n      <td>-</td>\n      <td>-</td>\n      <td>-</td>\n      <td>-</td>\n      <td>-</td>\n      <td>-</td>\n      <td>-</td>\n      <td>0</td>\n    </tr>\n    <tr>\n      <th>3</th>\n      <td>-</td>\n      <td>-</td>\n      <td>-</td>\n      <td>00640</td>\n      <td>DIRECTOR</td>\n      <td>-</td>\n      <td>-</td>\n      <td>-</td>\n      <td>-</td>\n      <td>-</td>\n      <td>-</td>\n      <td>-</td>\n      <td>-</td>\n      <td>-</td>\n      <td>-</td>\n      <td>-</td>\n      <td>-</td>\n      <td>-</td>\n      <td>-</td>\n      <td>-</td>\n      <td>-</td>\n      <td>-</td>\n      <td>-</td>\n      <td>-</td>\n      <td>-</td>\n      <td>0</td>\n    </tr>\n    <tr>\n      <th>4</th>\n      <td>-</td>\n      <td>-</td>\n      <td>Service closure Request with BO responsibility</td>\n      <td>00009</td>\n      <td>-</td>\n      <td>-</td>\n      <td>-</td>\n      <td>-</td>\n      <td>-</td>\n      <td>-</td>\n      <td>-</td>\n      <td>-</td>\n      <td>-</td>\n      <td>-</td>\n      <td>-</td>\n      <td>-</td>\n      <td>-</td>\n      <td>-</td>\n      <td>-</td>\n      <td>-</td>\n      <td>-</td>\n      <td>-</td>\n      <td>-</td>\n      <td>-</td>\n      <td>-</td>\n      <td>0</td>\n    </tr>\n    <tr>\n      <th>5</th>\n      <td>-</td>\n      <td>-</td>\n      <td>Request created</td>\n      <td>00040</td>\n      <td>-</td>\n      <td>-</td>\n      <td>-</td>\n      <td>-</td>\n      <td>-</td>\n      <td>-</td>\n      <td>-</td>\n      <td>-</td>\n      <td>-</td>\n      <td>-</td>\n      <td>-</td>\n      <td>-</td>\n      <td>-</td>\n      <td>-</td>\n      <td>-</td>\n      <td>-</td>\n      <td>-</td>\n      <td>-</td>\n      <td>-</td>\n      <td>-</td>\n      <td>-</td>\n      <td>0</td>\n    </tr>\n    <tr>\n      <th>6</th>\n      <td>-</td>\n      <td>-</td>\n      <td>-</td>\n      <td>00255</td>\n      <td>APPLICANT</td>\n      <td>-</td>\n      <td>-</td>\n      <td>-</td>\n      <td>-</td>\n      <td>-</td>\n      <td>-</td>\n      <td>-</td>\n      <td>-</td>\n      <td>-</td>\n      <td>-</td>\n      <td>-</td>\n      <td>-</td>\n      <td>-</td>\n      <td>-</td>\n      <td>-</td>\n      <td>-</td>\n      <td>-</td>\n      <td>-</td>\n      <td>-</td>\n      <td>-</td>\n      <td>0</td>\n    </tr>\n    <tr>\n      <th>7</th>\n      <td>-</td>\n      <td>-</td>\n      <td>Authorization Requested</td>\n      <td>00277</td>\n      <td>-</td>\n      <td>-</td>\n      <td>-</td>\n      <td>-</td>\n      <td>-</td>\n      <td>-</td>\n      <td>-</td>\n      <td>-</td>\n      <td>-</td>\n      <td>-</td>\n      <td>-</td>\n      <td>-</td>\n      <td>-</td>\n      <td>-</td>\n      <td>-</td>\n      <td>-</td>\n      <td>-</td>\n      <td>-</td>\n      <td>-</td>\n      <td>-</td>\n      <td>-</td>\n      <td>0</td>\n    </tr>\n    <tr>\n      <th>8</th>\n      <td>-</td>\n      <td>-</td>\n      <td>-</td>\n      <td>00217</td>\n      <td>DIRECTOR</td>\n      <td>-</td>\n      <td>-</td>\n      <td>-</td>\n      <td>-</td>\n      <td>-</td>\n      <td>-</td>\n      <td>-</td>\n      <td>-</td>\n      <td>-</td>\n      <td>-</td>\n      <td>-</td>\n      <td>-</td>\n      <td>-</td>\n      <td>-</td>\n      <td>-</td>\n      <td>-</td>\n      <td>-</td>\n      <td>-</td>\n      <td>-</td>\n      <td>-</td>\n      <td>0</td>\n    </tr>\n    <tr>\n      <th>9</th>\n      <td>-</td>\n      <td>-</td>\n      <td>Request created</td>\n      <td>00837</td>\n      <td>-</td>\n      <td>-</td>\n      <td>-</td>\n      <td>-</td>\n      <td>-</td>\n      <td>-</td>\n      <td>-</td>\n      <td>-</td>\n      <td>-</td>\n      <td>-</td>\n      <td>-</td>\n      <td>-</td>\n      <td>-</td>\n      <td>-</td>\n      <td>-</td>\n      <td>-</td>\n      <td>-</td>\n      <td>-</td>\n      <td>-</td>\n      <td>-</td>\n      <td>-</td>\n      <td>0</td>\n    </tr>\n    <tr>\n      <th>10</th>\n      <td>-</td>\n      <td>-</td>\n      <td>Request created</td>\n      <td>00194</td>\n      <td>-</td>\n      <td>-</td>\n      <td>-</td>\n      <td>-</td>\n      <td>-</td>\n      <td>-</td>\n      <td>-</td>\n      <td>-</td>\n      <td>-</td>\n      <td>-</td>\n      <td>-</td>\n      <td>-</td>\n      <td>-</td>\n      <td>-</td>\n      <td>-</td>\n      <td>-</td>\n      <td>-</td>\n      <td>-</td>\n      <td>-</td>\n      <td>-</td>\n      <td>-</td>\n      <td>0</td>\n    </tr>\n    <tr>\n      <th>11</th>\n      <td>-</td>\n      <td>-</td>\n      <td>Pending Liquidation Request</td>\n      <td>SB40</td>\n      <td>-</td>\n      <td>-</td>\n      <td>-</td>\n      <td>-</td>\n      <td>-</td>\n      <td>-</td>\n      <td>-</td>\n      <td>-</td>\n      <td>-</td>\n      <td>-</td>\n      <td>-</td>\n      <td>-</td>\n      <td>-</td>\n      <td>-</td>\n      <td>-</td>\n      <td>-</td>\n      <td>-</td>\n      <td>-</td>\n      <td>-</td>\n      <td>-</td>\n      <td>-</td>\n      <td>0</td>\n    </tr>\n    <tr>\n      <th>12</th>\n      <td>-</td>\n      <td>-</td>\n      <td>Service closure Request with network responsib...</td>\n      <td>00210</td>\n      <td>-</td>\n      <td>-</td>\n      <td>-</td>\n      <td>-</td>\n      <td>-</td>\n      <td>-</td>\n      <td>-</td>\n      <td>-</td>\n      <td>-</td>\n      <td>-</td>\n      <td>-</td>\n      <td>-</td>\n      <td>-</td>\n      <td>-</td>\n      <td>-</td>\n      <td>-</td>\n      <td>-</td>\n      <td>-</td>\n      <td>-</td>\n      <td>-</td>\n      <td>-</td>\n      <td>0</td>\n    </tr>\n    <tr>\n      <th>13</th>\n      <td>-</td>\n      <td>-</td>\n      <td>Pending Request for Network Information</td>\n      <td>00069</td>\n      <td>-</td>\n      <td>-</td>\n      <td>-</td>\n      <td>-</td>\n      <td>-</td>\n      <td>-</td>\n      <td>-</td>\n      <td>-</td>\n      <td>-</td>\n      <td>-</td>\n      <td>-</td>\n      <td>-</td>\n      <td>-</td>\n      <td>-</td>\n      <td>-</td>\n      <td>-</td>\n      <td>-</td>\n      <td>-</td>\n      <td>-</td>\n      <td>-</td>\n      <td>-</td>\n      <td>0</td>\n    </tr>\n    <tr>\n      <th>14</th>\n      <td>-</td>\n      <td>-</td>\n      <td>-</td>\n      <td>00545</td>\n      <td>DIRECTOR</td>\n      <td>-</td>\n      <td>-</td>\n      <td>-</td>\n      <td>-</td>\n      <td>-</td>\n      <td>-</td>\n      <td>-</td>\n      <td>-</td>\n      <td>-</td>\n      <td>-</td>\n      <td>-</td>\n      <td>-</td>\n      <td>-</td>\n      <td>-</td>\n      <td>-</td>\n      <td>-</td>\n      <td>-</td>\n      <td>-</td>\n      <td>-</td>\n      <td>-</td>\n      <td>0</td>\n    </tr>\n  </tbody>\n</table>\n</div>"
     },
     "metadata": {},
     "output_type": "display_data"
    }
   ],
   "source": [
    "sidx = 619\n",
    "eidx = 620\n",
    "\n",
    "query_instances = X_train[sidx: eidx]\n",
    "cfe = explainer.generate_counterfactuals(query_instances, total_CFs=15, desired_class=\"opposite\", features_to_vary=cols_to_vary,\n",
    "                                                permitted_range = {\"ACTIVITY\": ['Service closure Request with network responsibility',\n",
    "                                                                            'Service closure Request with BO responsibility',\n",
    "                                                                            'Pending Request for Reservation Closure', 'Pending Liquidation Request',\n",
    "                                                                            'Request created','Authorization Requested', 'Evaluating Request (NO registered letter)',\n",
    "                                                                            'Network Adjustment Requested', 'Evaluating Request (WITH registered letter)',\n",
    "                                                                            'Pending Request for Network Information']})  # 'Back-Office Adjustment Requested'\n",
    "\n",
    "cfe.visualize_as_dataframe(show_only_changes=True)"
   ],
   "metadata": {
    "collapsed": false,
    "ExecuteTime": {
     "end_time": "2023-06-06T20:52:14.845970940Z",
     "start_time": "2023-06-06T20:52:14.070881937Z"
    }
   }
  },
  {
   "cell_type": "markdown",
   "source": [
    "## Apply Transition System Validation to the above Single Query Results"
   ],
   "metadata": {
    "collapsed": false
   }
  },
  {
   "cell_type": "code",
   "execution_count": 16,
   "outputs": [],
   "source": [
    "## Apply Transition System Validation to the above Single Query Results\n",
    "# === Load the Transition Graph\n",
    "_, transition_graph = transition_system(df, case_id_name=case_id_name, activity_column_name=activity_column_name, window_size=WINDOW_SIZE)"
   ],
   "metadata": {
    "collapsed": false,
    "ExecuteTime": {
     "end_time": "2023-06-06T20:52:50.300225481Z",
     "start_time": "2023-06-06T20:52:16.580576313Z"
    }
   }
  },
  {
   "cell_type": "markdown",
   "source": [
    "### Check Feature Importance score"
   ],
   "metadata": {
    "collapsed": false
   }
  },
  {
   "cell_type": "code",
   "execution_count": null,
   "outputs": [],
   "source": [
    "# imp = explainer.local_feature_importance(query_instances, total_CFs=10, desired_range=[0, total_time_upper_bound], features_to_vary=cols_to_vary)\n",
    "# imp.local_importance"
   ],
   "metadata": {
    "collapsed": false
   }
  },
  {
   "cell_type": "markdown",
   "source": [
    "## Experiment with Multiple Queries"
   ],
   "metadata": {
    "collapsed": false
   }
  },
  {
   "cell_type": "code",
   "execution_count": 17,
   "outputs": [
    {
     "data": {
      "text/plain": "1096"
     },
     "execution_count": 17,
     "metadata": {},
     "output_type": "execute_result"
    }
   ],
   "source": [
    "state_obj = StoreTestRun(save_load_path=RESULTS_FILE_PATH_N_NAME)\n",
    "save_load_path = state_obj.get_save_load_path()\n",
    "\n",
    "if os.path.exists(save_load_path):\n",
    "    state_obj.load_state()\n",
    "    cases_done = state_obj.run_state[\"cases_done\"]\n",
    "else:\n",
    "    cases_done = 0\n",
    "\n",
    "state_obj.run_state[\"cases_done\"]"
   ],
   "metadata": {
    "collapsed": false,
    "ExecuteTime": {
     "end_time": "2023-06-06T20:53:57.839241012Z",
     "start_time": "2023-06-06T20:53:56.814468322Z"
    }
   }
  },
  {
   "cell_type": "code",
   "execution_count": 18,
   "outputs": [],
   "source": [
    "# %%capture\n",
    "for df_test_trace in test_cases[cases_done:]:\n",
    "    # print(\"Case number:\", cases_done)\n",
    "    # print(f\"Case number is state_obj: {state_obj.run_state['cases_done']}\")\n",
    "    query_case_id = get_case_id(df_test_trace, case_id_name)\n",
    "\n",
    "    if 0 < len(df_test_trace) <= 2:\n",
    "        print(\"too small\", cases_done, query_case_id)\n",
    "        result_value = query_case_id\n",
    "        state_obj.add_cfe_to_results( (\"cases_too_small\", result_value) )\n",
    "        cases_stored = state_obj.save_state()\n",
    "        cases_done += 1\n",
    "        continue\n",
    "\n",
    "    X_test, y_test = prepare_df_for_ml(df_test_trace, outcome_name, columns_to_remove=[\"START_DATE\", \"END_DATE\", \"time_remaining\"])\n",
    "\n",
    "    # Check if y_test is 0 then don't generate CFE\n",
    "    if y_test.iloc[-1] == 0:\n",
    "        result_value = query_case_id\n",
    "        state_obj.add_cfe_to_results((\"cases_zero_in_y\", result_value))\n",
    "        cases_stored = state_obj.save_state()\n",
    "        cases_done += 1\n",
    "        continue\n",
    "\n",
    "    # Access the last row of the truncated trace to replicate the behavior of a running trace\n",
    "    query_instances = X_test.iloc[-1:]\n",
    "\n",
    "    try:\n",
    "        cfe = generate_cfe(explainer, query_instances, None, total_cfs=TOTAL_CFS, features_to_vary=cols_to_vary, kpi=KPI,\n",
    "                           proximity_weight=proximity_weight, sparsity_weight=sparsity_weight, diversity_weight=diversity_weight )\n",
    "\n",
    "        result_value = (query_case_id, cfe)\n",
    "        state_obj.add_cfe_to_results((\"cfe_before_validation\", result_value))  # save after cfe validation\n",
    "\n",
    "        prefix_of_activities = get_prefix_of_activities(df_single_trace=df_test_trace, window_size=WINDOW_SIZE, activity_column_name=activity_column_name,)\n",
    "        cfe_df = validate_transition(cfe, prefix_of_activities=prefix_of_activities, transition_graph=transition_graph, valid_resources=valid_resources,\n",
    "                                         activity_column_name=activity_column_name, resource_columns_to_validate=resource_columns_to_validate)\n",
    "        if len(cfe_df) > 0:\n",
    "            result_value = (query_case_id, cfe_df)\n",
    "            state_obj.add_cfe_to_results((\"cfe_after_validation\", result_value))\n",
    "\n",
    "        cases_stored = state_obj.save_state()\n",
    "\n",
    "    except UserConfigValidationException:\n",
    "        result_value = query_case_id\n",
    "        state_obj.add_cfe_to_results((\"cfe_not_found\", result_value))\n",
    "        cases_stored = state_obj.save_state()\n",
    "    except TimeoutError as err:  # When function takes too long\n",
    "        result_value = query_case_id\n",
    "        print(\"TimeoutError caught:\", err)\n",
    "        state_obj.add_cfe_to_results((\"cfe_not_found\", result_value))\n",
    "        cases_stored = state_obj.save_state()\n",
    "    except ValueError:\n",
    "        # print(f\"Includes feature not found in training data: {get_case_id(df_test_trace)}\")\n",
    "        result_value = query_case_id\n",
    "        state_obj.add_cfe_to_results((\"cases_includes_new_data\", result_value))\n",
    "        cases_stored = state_obj.save_state()\n",
    "    # This error is seen occurring on when running lots of loops on the server\n",
    "    except AttributeError as e:\n",
    "        print(\"AttributeError caught:\", e)\n",
    "        state_obj.add_cfe_to_results((\"exceptions\", query_case_id))\n",
    "        cases_stored = state_obj.save_state()\n",
    "    # except Exception as err:\n",
    "    #     print(f\"Broadest Exception handler invoked\", err)\n",
    "    #     state_obj.add_cfe_to_results((\"exceptions\", query_case_id))\n",
    "    #     cases_stored = state_obj.save_state()\n",
    "\n",
    "    cases_done += 1\n",
    "    # Just for a sanity check\n",
    "    assert cases_done == cases_stored\n",
    "    if cases_done >= 20:\n",
    "        break\n"
   ],
   "metadata": {
    "collapsed": false,
    "ExecuteTime": {
     "end_time": "2023-06-06T20:53:58.906480347Z",
     "start_time": "2023-06-06T20:53:58.876684581Z"
    }
   }
  },
  {
   "cell_type": "code",
   "execution_count": 19,
   "outputs": [
    {
     "data": {
      "text/plain": "   cfe_before_validation  cfe_after_validation  cfe_not_found   \n0                    647                   296            423  \\\n\n   cases_includes_new_data  cases_too_small  cases_zero_in_y  exceptions   \n0                        0                2               24           0  \\\n\n   cases_done  \n0        1096  ",
      "text/html": "<div>\n<style scoped>\n    .dataframe tbody tr th:only-of-type {\n        vertical-align: middle;\n    }\n\n    .dataframe tbody tr th {\n        vertical-align: top;\n    }\n\n    .dataframe thead th {\n        text-align: right;\n    }\n</style>\n<table border=\"1\" class=\"dataframe\">\n  <thead>\n    <tr style=\"text-align: right;\">\n      <th></th>\n      <th>cfe_before_validation</th>\n      <th>cfe_after_validation</th>\n      <th>cfe_not_found</th>\n      <th>cases_includes_new_data</th>\n      <th>cases_too_small</th>\n      <th>cases_zero_in_y</th>\n      <th>exceptions</th>\n      <th>cases_done</th>\n    </tr>\n  </thead>\n  <tbody>\n    <tr>\n      <th>0</th>\n      <td>647</td>\n      <td>296</td>\n      <td>423</td>\n      <td>0</td>\n      <td>2</td>\n      <td>24</td>\n      <td>0</td>\n      <td>1096</td>\n    </tr>\n  </tbody>\n</table>\n</div>"
     },
     "execution_count": 19,
     "metadata": {},
     "output_type": "execute_result"
    }
   ],
   "source": [
    "state_obj.get_run_state_df()"
   ],
   "metadata": {
    "collapsed": false,
    "ExecuteTime": {
     "end_time": "2023-06-06T20:54:04.261117538Z",
     "start_time": "2023-06-06T20:54:04.229755806Z"
    }
   }
  },
  {
   "cell_type": "markdown",
   "source": [
    "# Results:"
   ],
   "metadata": {
    "collapsed": false
   }
  },
  {
   "cell_type": "markdown",
   "source": [
    "### View Valid cases and their Counterfactual Examples (CFEs)\n",
    "You can load saved configs and run them independently of the above code"
   ],
   "metadata": {
    "collapsed": false
   }
  },
  {
   "cell_type": "code",
   "execution_count": 20,
   "outputs": [
    {
     "name": "stdout",
     "output_type": "stream",
     "text": [
      "successful\n"
     ]
    }
   ],
   "source": [
    "pickle_file = \"random-a03.pkl\"\n",
    "result = subprocess.run(['scp', f'labnum08:git_repos/explainable-prescriptive-analytics/experiment_results/{pickle_file}', 'experiment_results/'], capture_output=True, text=True)\n",
    "\n",
    "# return code of 0 means the command executed successfully\n",
    "if result.returncode != 0:\n",
    "    print(\"There is an Error in the command\")\n",
    "else:\n",
    "    print(\"successful\")"
   ],
   "metadata": {
    "collapsed": false,
    "ExecuteTime": {
     "end_time": "2023-06-06T20:54:16.888132582Z",
     "start_time": "2023-06-06T20:54:10.899041248Z"
    }
   }
  },
  {
   "cell_type": "code",
   "execution_count": 21,
   "outputs": [
    {
     "data": {
      "text/plain": "1096"
     },
     "execution_count": 21,
     "metadata": {},
     "output_type": "execute_result"
    }
   ],
   "source": [
    "RESULTS_FILE_PATH_N_NAME = f\"experiment_results/{pickle_file.split('.')[0]}.csv\"\n",
    "\n",
    "state_obj = StoreTestRun(save_load_path=RESULTS_FILE_PATH_N_NAME)\n",
    "save_load_path = state_obj.get_save_load_path()\n",
    "\n",
    "if os.path.exists(save_load_path):\n",
    "    state_obj.load_state()\n",
    "    cases_done = state_obj.run_state[\"cases_done\"]\n",
    "else:\n",
    "    cases_done = 0\n",
    "\n",
    "state_obj.run_state[\"cases_done\"]"
   ],
   "metadata": {
    "collapsed": false,
    "ExecuteTime": {
     "end_time": "2023-06-06T20:54:18.088244690Z",
     "start_time": "2023-06-06T20:54:16.853277197Z"
    }
   }
  },
  {
   "cell_type": "code",
   "execution_count": 22,
   "outputs": [],
   "source": [
    "def print_results():\n",
    "    for case_id, cfe_df in state_obj.run_state[\"cfe_after_validation\"]:\n",
    "        yield case_id, cfe_df\n",
    "\n",
    "generator = print_results()"
   ],
   "metadata": {
    "collapsed": false,
    "ExecuteTime": {
     "end_time": "2023-06-06T20:54:18.125814018Z",
     "start_time": "2023-06-06T20:54:18.087860002Z"
    }
   }
  },
  {
   "cell_type": "code",
   "execution_count": 24,
   "outputs": [
    {
     "name": "stdout",
     "output_type": "stream",
     "text": [
      "Original Test Case:\n"
     ]
    },
    {
     "data": {
      "text/plain": "    REQUEST_ID  START_DATE   CLOSURE_TYPE   CLOSURE_REASON   \n0  20186007419  1530549548  Client Recess  1 - Client lost  \\\n1  20186007419  1530549580  Client Recess  1 - Client lost   \n2  20186007419  1531737088  Client Recess  1 - Client lost   \n3  20186007419  1531760961  Client Recess  1 - Client lost   \n4  20186007419  1535131054  Client Recess  1 - Client lost   \n\n                                            ACTIVITY    END_DATE CE_UO   \n0                                    Request created  1530549580  SB83  \\\n1          Evaluating Request (NO registered letter)  1531732845  SB77   \n2  Service closure Request with network responsib...  1531760961  SB77   \n3     Service closure Request with BO responsibility  1535131054   BOC   \n4            Pending Request for Reservation Closure  1535131191   BOC   \n\n          ROLE  time_from_first  time_from_previous_et  time_from_midnight   \n0    APPLICANT                0                      0               59948  \\\n1     DIRECTOR               32                     32               59980   \n2    APPLICANT          1187540                1187508               37888   \n3  BACK-OFFICE          1211413                  23873               61761   \n4  BACK-OFFICE          4581506                3370093               62254   \n\n  weekday  activity_duration  time_remaining   \n0  Monday                 32         8617209  \\\n1  Monday            1183265         8617177   \n2  Monday              23873         7429669   \n3  Monday            3370093         7405796   \n4  Friday                137         4035703   \n\n   # ACTIVITY=Service closure Request with network responsibility   \n0                                                  0               \\\n1                                                  0                \n2                                                  0                \n3                                                  1                \n4                                                  1                \n\n   # ACTIVITY=Service closure Request with BO responsibility   \n0                                                  0          \\\n1                                                  0           \n2                                                  0           \n3                                                  0           \n4                                                  1           \n\n   # ACTIVITY=Pending Request for Reservation Closure   \n0                                                  0   \\\n1                                                  0    \n2                                                  0    \n3                                                  0    \n4                                                  0    \n\n   # ACTIVITY=Pending Liquidation Request   \n0                                       0  \\\n1                                       0   \n2                                       0   \n3                                       0   \n4                                       0   \n\n   # ACTIVITY=Request completed with account closure   \n0                                                  0  \\\n1                                                  0   \n2                                                  0   \n3                                                  0   \n4                                                  0   \n\n   # ACTIVITY=Request created  # ACTIVITY=Authorization Requested   \n0                           0                                   0  \\\n1                           1                                   0   \n2                           1                                   0   \n3                           1                                   0   \n4                           1                                   0   \n\n   # ACTIVITY=Evaluating Request (NO registered letter)   \n0                                                  0     \\\n1                                                  0      \n2                                                  1      \n3                                                  1      \n4                                                  1      \n\n   # ACTIVITY=Network Adjustment Requested   \n0                                        0  \\\n1                                        0   \n2                                        0   \n3                                        0   \n4                                        0   \n\n   # ACTIVITY=Pending Request for acquittance of heirs   \n0                                                  0    \\\n1                                                  0     \n2                                                  0     \n3                                                  0     \n4                                                  0     \n\n   # ACTIVITY=Request deleted  # ACTIVITY=Back-Office Adjustment Requested   \n0                           0                                            0  \\\n1                           0                                            0   \n2                           0                                            0   \n3                           0                                            0   \n4                           0                                            0   \n\n   # ACTIVITY=Evaluating Request (WITH registered letter)   \n0                                                  0       \\\n1                                                  0        \n2                                                  0        \n3                                                  0        \n4                                                  0        \n\n   # ACTIVITY=Request completed with customer recovery   \n0                                                  0    \\\n1                                                  0     \n2                                                  0     \n3                                                  0     \n4                                                  0     \n\n   # ACTIVITY=Pending Request for Network Information   \n0                                                  0   \\\n1                                                  0    \n2                                                  0    \n3                                                  0    \n4                                                  0    \n\n   Back-Office Adjustment Requested  \n0                                 1  \n1                                 1  \n2                                 1  \n3                                 1  \n4                                 1  ",
      "text/html": "<div>\n<style scoped>\n    .dataframe tbody tr th:only-of-type {\n        vertical-align: middle;\n    }\n\n    .dataframe tbody tr th {\n        vertical-align: top;\n    }\n\n    .dataframe thead th {\n        text-align: right;\n    }\n</style>\n<table border=\"1\" class=\"dataframe\">\n  <thead>\n    <tr style=\"text-align: right;\">\n      <th></th>\n      <th>REQUEST_ID</th>\n      <th>START_DATE</th>\n      <th>CLOSURE_TYPE</th>\n      <th>CLOSURE_REASON</th>\n      <th>ACTIVITY</th>\n      <th>END_DATE</th>\n      <th>CE_UO</th>\n      <th>ROLE</th>\n      <th>time_from_first</th>\n      <th>time_from_previous_et</th>\n      <th>time_from_midnight</th>\n      <th>weekday</th>\n      <th>activity_duration</th>\n      <th>time_remaining</th>\n      <th># ACTIVITY=Service closure Request with network responsibility</th>\n      <th># ACTIVITY=Service closure Request with BO responsibility</th>\n      <th># ACTIVITY=Pending Request for Reservation Closure</th>\n      <th># ACTIVITY=Pending Liquidation Request</th>\n      <th># ACTIVITY=Request completed with account closure</th>\n      <th># ACTIVITY=Request created</th>\n      <th># ACTIVITY=Authorization Requested</th>\n      <th># ACTIVITY=Evaluating Request (NO registered letter)</th>\n      <th># ACTIVITY=Network Adjustment Requested</th>\n      <th># ACTIVITY=Pending Request for acquittance of heirs</th>\n      <th># ACTIVITY=Request deleted</th>\n      <th># ACTIVITY=Back-Office Adjustment Requested</th>\n      <th># ACTIVITY=Evaluating Request (WITH registered letter)</th>\n      <th># ACTIVITY=Request completed with customer recovery</th>\n      <th># ACTIVITY=Pending Request for Network Information</th>\n      <th>Back-Office Adjustment Requested</th>\n    </tr>\n  </thead>\n  <tbody>\n    <tr>\n      <th>0</th>\n      <td>20186007419</td>\n      <td>1530549548</td>\n      <td>Client Recess</td>\n      <td>1 - Client lost</td>\n      <td>Request created</td>\n      <td>1530549580</td>\n      <td>SB83</td>\n      <td>APPLICANT</td>\n      <td>0</td>\n      <td>0</td>\n      <td>59948</td>\n      <td>Monday</td>\n      <td>32</td>\n      <td>8617209</td>\n      <td>0</td>\n      <td>0</td>\n      <td>0</td>\n      <td>0</td>\n      <td>0</td>\n      <td>0</td>\n      <td>0</td>\n      <td>0</td>\n      <td>0</td>\n      <td>0</td>\n      <td>0</td>\n      <td>0</td>\n      <td>0</td>\n      <td>0</td>\n      <td>0</td>\n      <td>1</td>\n    </tr>\n    <tr>\n      <th>1</th>\n      <td>20186007419</td>\n      <td>1530549580</td>\n      <td>Client Recess</td>\n      <td>1 - Client lost</td>\n      <td>Evaluating Request (NO registered letter)</td>\n      <td>1531732845</td>\n      <td>SB77</td>\n      <td>DIRECTOR</td>\n      <td>32</td>\n      <td>32</td>\n      <td>59980</td>\n      <td>Monday</td>\n      <td>1183265</td>\n      <td>8617177</td>\n      <td>0</td>\n      <td>0</td>\n      <td>0</td>\n      <td>0</td>\n      <td>0</td>\n      <td>1</td>\n      <td>0</td>\n      <td>0</td>\n      <td>0</td>\n      <td>0</td>\n      <td>0</td>\n      <td>0</td>\n      <td>0</td>\n      <td>0</td>\n      <td>0</td>\n      <td>1</td>\n    </tr>\n    <tr>\n      <th>2</th>\n      <td>20186007419</td>\n      <td>1531737088</td>\n      <td>Client Recess</td>\n      <td>1 - Client lost</td>\n      <td>Service closure Request with network responsib...</td>\n      <td>1531760961</td>\n      <td>SB77</td>\n      <td>APPLICANT</td>\n      <td>1187540</td>\n      <td>1187508</td>\n      <td>37888</td>\n      <td>Monday</td>\n      <td>23873</td>\n      <td>7429669</td>\n      <td>0</td>\n      <td>0</td>\n      <td>0</td>\n      <td>0</td>\n      <td>0</td>\n      <td>1</td>\n      <td>0</td>\n      <td>1</td>\n      <td>0</td>\n      <td>0</td>\n      <td>0</td>\n      <td>0</td>\n      <td>0</td>\n      <td>0</td>\n      <td>0</td>\n      <td>1</td>\n    </tr>\n    <tr>\n      <th>3</th>\n      <td>20186007419</td>\n      <td>1531760961</td>\n      <td>Client Recess</td>\n      <td>1 - Client lost</td>\n      <td>Service closure Request with BO responsibility</td>\n      <td>1535131054</td>\n      <td>BOC</td>\n      <td>BACK-OFFICE</td>\n      <td>1211413</td>\n      <td>23873</td>\n      <td>61761</td>\n      <td>Monday</td>\n      <td>3370093</td>\n      <td>7405796</td>\n      <td>1</td>\n      <td>0</td>\n      <td>0</td>\n      <td>0</td>\n      <td>0</td>\n      <td>1</td>\n      <td>0</td>\n      <td>1</td>\n      <td>0</td>\n      <td>0</td>\n      <td>0</td>\n      <td>0</td>\n      <td>0</td>\n      <td>0</td>\n      <td>0</td>\n      <td>1</td>\n    </tr>\n    <tr>\n      <th>4</th>\n      <td>20186007419</td>\n      <td>1535131054</td>\n      <td>Client Recess</td>\n      <td>1 - Client lost</td>\n      <td>Pending Request for Reservation Closure</td>\n      <td>1535131191</td>\n      <td>BOC</td>\n      <td>BACK-OFFICE</td>\n      <td>4581506</td>\n      <td>3370093</td>\n      <td>62254</td>\n      <td>Friday</td>\n      <td>137</td>\n      <td>4035703</td>\n      <td>1</td>\n      <td>1</td>\n      <td>0</td>\n      <td>0</td>\n      <td>0</td>\n      <td>1</td>\n      <td>0</td>\n      <td>1</td>\n      <td>0</td>\n      <td>0</td>\n      <td>0</td>\n      <td>0</td>\n      <td>0</td>\n      <td>0</td>\n      <td>0</td>\n      <td>1</td>\n    </tr>\n  </tbody>\n</table>\n</div>"
     },
     "metadata": {},
     "output_type": "display_data"
    },
    {
     "name": "stdout",
     "output_type": "stream",
     "text": [
      "Counterfactuals for the last row:\n"
     ]
    },
    {
     "data": {
      "text/plain": "    CLOSURE_TYPE   CLOSURE_REASON                                 ACTIVITY   \n0  Client Recess  1 - Client lost  Pending Request for Reservation Closure  \\\n1  Client Recess  1 - Client lost  Pending Request for Reservation Closure   \n\n    CE_UO         ROLE time_from_first time_from_previous_et   \n0  SDCRAP  BACK-OFFICE         4581506               3370093  \\\n1  BOCCRF  BACK-OFFICE         4581506               3370093   \n\n  time_from_midnight weekday activity_duration   \n0              62254  Friday               137  \\\n1              62254  Friday               137   \n\n  # ACTIVITY=Service closure Request with network responsibility   \n0                                                  1              \\\n1                                                  1               \n\n  # ACTIVITY=Service closure Request with BO responsibility   \n0                                                  1         \\\n1                                                  1          \n\n  # ACTIVITY=Pending Request for Reservation Closure   \n0                                                  0  \\\n1                                                  0   \n\n  # ACTIVITY=Pending Liquidation Request   \n0                                      0  \\\n1                                      0   \n\n  # ACTIVITY=Request completed with account closure   \n0                                                 0  \\\n1                                                 0   \n\n  # ACTIVITY=Request created # ACTIVITY=Authorization Requested   \n0                          1                                  0  \\\n1                          1                                  0   \n\n  # ACTIVITY=Evaluating Request (NO registered letter)   \n0                                                  1    \\\n1                                                  1     \n\n  # ACTIVITY=Network Adjustment Requested   \n0                                       0  \\\n1                                       0   \n\n  # ACTIVITY=Pending Request for acquittance of heirs   \n0                                                  0   \\\n1                                                  0    \n\n  # ACTIVITY=Request deleted # ACTIVITY=Back-Office Adjustment Requested   \n0                          0                                           0  \\\n1                          0                                           0   \n\n  # ACTIVITY=Evaluating Request (WITH registered letter)   \n0                                                  0      \\\n1                                                  0       \n\n  # ACTIVITY=Request completed with customer recovery   \n0                                                  0   \\\n1                                                  0    \n\n  # ACTIVITY=Pending Request for Network Information   \n0                                                  0  \\\n1                                                  0   \n\n   Back-Office Adjustment Requested  \n0                                 0  \n1                                 0  ",
      "text/html": "<div>\n<style scoped>\n    .dataframe tbody tr th:only-of-type {\n        vertical-align: middle;\n    }\n\n    .dataframe tbody tr th {\n        vertical-align: top;\n    }\n\n    .dataframe thead th {\n        text-align: right;\n    }\n</style>\n<table border=\"1\" class=\"dataframe\">\n  <thead>\n    <tr style=\"text-align: right;\">\n      <th></th>\n      <th>CLOSURE_TYPE</th>\n      <th>CLOSURE_REASON</th>\n      <th>ACTIVITY</th>\n      <th>CE_UO</th>\n      <th>ROLE</th>\n      <th>time_from_first</th>\n      <th>time_from_previous_et</th>\n      <th>time_from_midnight</th>\n      <th>weekday</th>\n      <th>activity_duration</th>\n      <th># ACTIVITY=Service closure Request with network responsibility</th>\n      <th># ACTIVITY=Service closure Request with BO responsibility</th>\n      <th># ACTIVITY=Pending Request for Reservation Closure</th>\n      <th># ACTIVITY=Pending Liquidation Request</th>\n      <th># ACTIVITY=Request completed with account closure</th>\n      <th># ACTIVITY=Request created</th>\n      <th># ACTIVITY=Authorization Requested</th>\n      <th># ACTIVITY=Evaluating Request (NO registered letter)</th>\n      <th># ACTIVITY=Network Adjustment Requested</th>\n      <th># ACTIVITY=Pending Request for acquittance of heirs</th>\n      <th># ACTIVITY=Request deleted</th>\n      <th># ACTIVITY=Back-Office Adjustment Requested</th>\n      <th># ACTIVITY=Evaluating Request (WITH registered letter)</th>\n      <th># ACTIVITY=Request completed with customer recovery</th>\n      <th># ACTIVITY=Pending Request for Network Information</th>\n      <th>Back-Office Adjustment Requested</th>\n    </tr>\n  </thead>\n  <tbody>\n    <tr>\n      <th>0</th>\n      <td>Client Recess</td>\n      <td>1 - Client lost</td>\n      <td>Pending Request for Reservation Closure</td>\n      <td>SDCRAP</td>\n      <td>BACK-OFFICE</td>\n      <td>4581506</td>\n      <td>3370093</td>\n      <td>62254</td>\n      <td>Friday</td>\n      <td>137</td>\n      <td>1</td>\n      <td>1</td>\n      <td>0</td>\n      <td>0</td>\n      <td>0</td>\n      <td>1</td>\n      <td>0</td>\n      <td>1</td>\n      <td>0</td>\n      <td>0</td>\n      <td>0</td>\n      <td>0</td>\n      <td>0</td>\n      <td>0</td>\n      <td>0</td>\n      <td>0</td>\n    </tr>\n    <tr>\n      <th>1</th>\n      <td>Client Recess</td>\n      <td>1 - Client lost</td>\n      <td>Pending Request for Reservation Closure</td>\n      <td>BOCCRF</td>\n      <td>BACK-OFFICE</td>\n      <td>4581506</td>\n      <td>3370093</td>\n      <td>62254</td>\n      <td>Friday</td>\n      <td>137</td>\n      <td>1</td>\n      <td>1</td>\n      <td>0</td>\n      <td>0</td>\n      <td>0</td>\n      <td>1</td>\n      <td>0</td>\n      <td>1</td>\n      <td>0</td>\n      <td>0</td>\n      <td>0</td>\n      <td>0</td>\n      <td>0</td>\n      <td>0</td>\n      <td>0</td>\n      <td>0</td>\n    </tr>\n  </tbody>\n</table>\n</div>"
     },
     "execution_count": 24,
     "metadata": {},
     "output_type": "execute_result"
    }
   ],
   "source": [
    "case_id, cfe_df = next(generator)\n",
    "\n",
    "print(f\"Original Test Case:\")\n",
    "# === Find test_case with case_id\n",
    "for df_test_trace in test_cases:\n",
    "    if get_case_id(df_test_trace, case_id_name) == case_id:\n",
    "        display(df_test_trace)\n",
    "\n",
    "print(f\"Counterfactuals for the last row:\")\n",
    "cfe_df"
   ],
   "metadata": {
    "collapsed": false,
    "ExecuteTime": {
     "end_time": "2023-06-06T20:55:57.436328143Z",
     "start_time": "2023-06-06T20:55:57.131531034Z"
    }
   }
  },
  {
   "cell_type": "markdown",
   "source": [
    "## Deprecated Code"
   ],
   "metadata": {
    "collapsed": false
   }
  },
  {
   "cell_type": "markdown",
   "source": [
    "### Pratice subprocess module"
   ],
   "metadata": {
    "collapsed": false
   }
  },
  {
   "cell_type": "code",
   "execution_count": 20,
   "outputs": [
    {
     "data": {
      "text/plain": "''"
     },
     "execution_count": 20,
     "metadata": {},
     "output_type": "execute_result"
    }
   ],
   "source": [
    "pickle_file = \"random-a01.pkl\"\n",
    "result = subprocess.run(['scp', f'labnum08:git_repos/explainable-prescriptive-analytics/experiment_results/{pickle_file}', 'experiment_results/'], capture_output=True, text=True)\n",
    "\n",
    "# return code of 0 means the command executed successfully\n",
    "if result.returncode != 0:\n",
    "    print(\"There is an Error in the command\")\n",
    "else:\n",
    "    print(\"successful\")"
   ],
   "metadata": {
    "collapsed": false,
    "ExecuteTime": {
     "end_time": "2023-06-05T13:39:41.549466838Z",
     "start_time": "2023-06-05T13:39:37.217658109Z"
    }
   }
  },
  {
   "cell_type": "code",
   "execution_count": null,
   "outputs": [],
   "source": [
    "def get_query_instance(sidx=14, eidx=16):\n",
    "    assert eidx - sidx == 2, \"One row represents the current action and the next one represents the suggested action\"\n",
    "    current_step = X_train[sidx: sidx+1]\n",
    "    expected_next_step = X_train[eidx-1: eidx]\n",
    "    return current_step, expected_next_step\n",
    "# current_step, query_instances = get_query_instance(14, 16)"
   ],
   "metadata": {
    "collapsed": false
   }
  },
  {
   "cell_type": "code",
   "execution_count": null,
   "outputs": [],
   "source": [
    "def validate_transition(cfe):\n",
    "    \"\"\" Deprecated function.\n",
    "    Works with transition graph which has single activity as key.\n",
    "    Args:\n",
    "        cfe: Dice counterfactual object.\n",
    "    \"\"\"\n",
    "    cf_examples_df = cfe.cf_examples_list[0].final_cfs_df.copy()\n",
    "\n",
    "    # expected_next_action = cfe.cf_examples_list[0].test_instance_df[activity_column_name].item()\n",
    "    # print(f\"Expected next action: {expected_next_action}\")\n",
    "\n",
    "    current_activity = current_step[activity_column_name].item()\n",
    "    # === Verify the next activity\n",
    "    indexes_to_drop = []\n",
    "    for idx, suggested_next_activity in cf_examples_df[activity_column_name].items():\n",
    "        # print(f\"index: {idx}, Suggest: {suggested_next_activity}\")\n",
    "        if suggested_next_activity not in transition_graph[current_activity]:\n",
    "            indexes_to_drop.append(idx)\n",
    "\n",
    "    cf_examples_df = cf_examples_df.drop(indexes_to_drop, axis='index').reset_index(drop=True)\n",
    "\n",
    "    # === Verify the associated resources\n",
    "    indexes_to_drop = []\n",
    "    for idx, row in cf_examples_df[ [\"ACTIVITY\", \"Involved_ST_Function_Div\"] ].iterrows():\n",
    "        row_tuple = tuple(row)\n",
    "        if row_tuple not in valid_resources:\n",
    "            # print(f\"removed row had: {row_tuple}\")\n",
    "            indexes_to_drop.append(idx)\n",
    "\n",
    "    cf_examples_df = cf_examples_df.drop(indexes_to_drop, axis='index').reset_index(drop=True)\n",
    "    return cf_examples_df"
   ],
   "metadata": {
    "collapsed": false
   }
  }
 ],
 "metadata": {
  "kernelspec": {
   "display_name": "Python 3",
   "language": "python",
   "name": "python3"
  },
  "language_info": {
   "codemirror_mode": {
    "name": "ipython",
    "version": 2
   },
   "file_extension": ".py",
   "mimetype": "text/x-python",
   "name": "python",
   "nbconvert_exporter": "python",
   "pygments_lexer": "ipython2",
   "version": "2.7.6"
  }
 },
 "nbformat": 4,
 "nbformat_minor": 0
}
