{
 "cells": [
  {
   "cell_type": "code",
   "execution_count": 25,
   "metadata": {
    "collapsed": true,
    "ExecuteTime": {
     "end_time": "2023-05-31T20:28:18.635064018Z",
     "start_time": "2023-05-31T20:28:18.592890045Z"
    }
   },
   "outputs": [
    {
     "name": "stdout",
     "output_type": "stream",
     "text": [
      "The autoreload extension is already loaded. To reload it, use:\n",
      "  %reload_ext autoreload\n"
     ]
    }
   ],
   "source": [
    "import dice_ml\n",
    "from dice_ml import Dice\n",
    "from dice_ml.utils.exception import UserConfigValidationException\n",
    "\n",
    "from sklearn.pipeline import Pipeline\n",
    "from sklearn.preprocessing import StandardScaler, OneHotEncoder\n",
    "from sklearn.compose import ColumnTransformer\n",
    "from sklearn.ensemble import RandomForestClassifier, RandomForestRegressor\n",
    "from sklearn.model_selection import train_test_split\n",
    "from sklearn.datasets import load_iris, fetch_california_housing\n",
    "\n",
    "from src.transition_system import transition_system, indexs_for_window, list_to_str\n",
    "\n",
    "import pandas as pd\n",
    "import pickle\n",
    "import os\n",
    "import random\n",
    "from math import ceil\n",
    "from wrapt_timeout_decorator import timeout\n",
    "\n",
    "# from multiprocessing import Process\n",
    "# from timeout_decorator import timeout, TimeoutError\n",
    "# import signal\n",
    "from typing import Tuple, Any, List, Union\n",
    "from collections import Counter\n",
    "import utils\n",
    "from time import sleep\n",
    "\n",
    "%load_ext autoreload\n",
    "%autoreload 2"
   ]
  },
  {
   "cell_type": "markdown",
   "source": [
    "# Dataset: Bank Account Closure"
   ],
   "metadata": {
    "collapsed": false
   }
  },
  {
   "cell_type": "markdown",
   "source": [
    "## Setup Variables"
   ],
   "metadata": {
    "collapsed": false
   }
  },
  {
   "cell_type": "code",
   "execution_count": 27,
   "outputs": [],
   "source": [
    "pd.options.display.max_columns= None\n",
    "KPI = \"activity_occurrence\"  # activity_occurrence, ...\n",
    "SECONDS_TO_HOURS = 60 * 60\n",
    "SECONDS_TO_DAYS = 60 * 60 * 24\n",
    "WINDOW_SIZE = 3\n",
    "REDUCED_KPI_TIME = 90\n",
    "TOTAL_CFS = 15                        # Number of CFs DiCE algorithm should produce\n",
    "TRAIN_DATA_SIZE = 50_335             # 170_335\n",
    "DICE_METHOD = \"random\"\n",
    "RESULTS_FILE_PATH_N_NAME = \"experiment_results/random-full-activity_occu.csv\"\n",
    "proximity_weight = 0.2\n",
    "sparsity_weight = 0.2\n",
    "diversity_weight = 5.0\n",
    "\n",
    "case_id_name = 'REQUEST_ID'  # The case identifier column name.\n",
    "# start_date_name = 'Change_Date+Time'  # Maybe change to start_et (start even time)\n",
    "activity_column_name = \"ACTIVITY\""
   ],
   "metadata": {
    "collapsed": false,
    "ExecuteTime": {
     "end_time": "2023-05-31T20:28:51.239102763Z",
     "start_time": "2023-05-31T20:28:51.193330267Z"
    }
   }
  },
  {
   "cell_type": "markdown",
   "source": [
    "## Load Data"
   ],
   "metadata": {
    "collapsed": false
   }
  },
  {
   "cell_type": "code",
   "execution_count": 28,
   "outputs": [],
   "source": [
    "data_dir = \"../preprocessed_datasets/\"\n",
    "train_dataset_file = \"bank_acc_train.csv\"\n",
    "test_dataset_file = \"bank_acc_test.csv\"\n",
    "test_pickle_dataset_file = \"bank_acc-test.pkl\"\n",
    "df = pd.read_csv(\"../data/completed.csv\")  # Use full dataset for transition systens\n",
    "df_train = pd.read_csv(os.path.join(data_dir, train_dataset_file))\n",
    "df_test = pd.read_csv(os.path.join(data_dir, test_dataset_file))"
   ],
   "metadata": {
    "collapsed": false,
    "ExecuteTime": {
     "end_time": "2023-05-31T20:28:53.068409675Z",
     "start_time": "2023-05-31T20:28:52.012026993Z"
    }
   }
  },
  {
   "cell_type": "markdown",
   "source": [
    "### Basic Preprocessing of the dataset"
   ],
   "metadata": {
    "collapsed": false
   }
  },
  {
   "cell_type": "code",
   "execution_count": 29,
   "outputs": [
    {
     "name": "stdout",
     "output_type": "stream",
     "text": [
      "Rows in df_train: 50,335\n",
      "Rows in df_test: 6,391\n"
     ]
    }
   ],
   "source": [
    "df = df.fillna(\"missing\")\n",
    "df_train = df_train[:TRAIN_DATA_SIZE]  # 31_066\n",
    "# df_test = df_test[: 19_041]\n",
    "print(f\"Rows in df_train: {len(df_train):,}\")\n",
    "print(f\"Rows in df_test: {len(df_test):,}\")\n",
    "# df_train.info()"
   ],
   "metadata": {
    "collapsed": false,
    "ExecuteTime": {
     "end_time": "2023-05-31T20:28:54.861577841Z",
     "start_time": "2023-05-31T20:28:54.804328321Z"
    }
   }
  },
  {
   "cell_type": "markdown",
   "source": [
    "### Helper functions"
   ],
   "metadata": {
    "collapsed": false
   }
  },
  {
   "cell_type": "code",
   "execution_count": 30,
   "outputs": [],
   "source": [
    "def variable_type_analysis(X_train, case_id_name, activity_name):\n",
    "    \"\"\"\n",
    "    Args:\n",
    "        X_train:\n",
    "        case_id_name:\n",
    "        activity_name:\n",
    "\n",
    "    Returns:\n",
    "            Tuple[List[int], List[str], List[float]]: The explanation of the lists is as:\n",
    "            1st list: quantitative_attributes. Names of columns with numeric values.\n",
    "            2nd List: case_attributes. Names of columns whose\n",
    "                      value remains same for a single trace. Basically 1 value per trace.\n",
    "            3rd List: event_attributes. Names of columns with string type.\n",
    "    \"\"\"\n",
    "    quantitative_attributes = list()\n",
    "    case_attributes = list()\n",
    "    event_attributes = list()\n",
    "\n",
    "    for col in X_train.columns:  # for col in tqdm.tqdm(X_train.columns):\n",
    "\n",
    "        if (col not in [case_id_name, activity_name]) and (col[0] != '#'):\n",
    "            if type(X_train[col][0]) != str:\n",
    "                quantitative_attributes.append(col)\n",
    "            else:\n",
    "                trace = True\n",
    "                for idx in X_train[case_id_name].unique():  # 150 has been set to be big enough\n",
    "                    df = X_train[X_train[case_id_name] == idx]\n",
    "                    if len(set(df[col].unique())) != 1:\n",
    "                        trace = False\n",
    "                if trace == True:\n",
    "                    case_attributes.append(col)\n",
    "                else:\n",
    "                    event_attributes.append(col)\n",
    "\n",
    "    return quantitative_attributes, case_attributes, event_attributes\n",
    "\n",
    "def get_case_id(df, case_id_name=case_id_name) -> Union[str, int]:  # multi=False\n",
    "    return df[case_id_name].unique().item()\n",
    "\n",
    "def get_query_instance(sidx=14, eidx=16):\n",
    "    assert eidx - sidx == 2, \"One row represents the current action and the next one represents the suggested action\"\n",
    "    current_step = X_train[sidx: sidx+1]\n",
    "    expected_next_step = X_train[eidx-1: eidx]\n",
    "    return current_step, expected_next_step\n",
    "\n",
    "def activity_n_resources(df, resources_columns=None, threshold_percentage=100):\n",
    "    \"\"\"\n",
    "    Creates a set of tuples, each tuple has elements from the columns specified through `resource_columns`.\n",
    "    E.g. { ('action_1', 'rresource_1'), ... (activity_3, resource_5) }\n",
    "    Args:\n",
    "        df (pd.DataFrame):\n",
    "        resources_columns (list): columns that contains the activity and resources.\n",
    "    Returns:\n",
    "        Set of tuples. A single element contains the activity and resources of a single row from the\n",
    "        dataframe.\n",
    "    \"\"\"\n",
    "    if resources_columns is None:\n",
    "        # raise TypeError(\"Please specify the columns that have resources\")\n",
    "        resources_columns = [activity_column_name, 'Involved_ST_Function_Div', 'Involved_Org_line_3',\n",
    "                             'Involved_ST', 'Country', 'Owner_Country']\n",
    "\n",
    "    threshold = threshold_percentage / 100\n",
    "\n",
    "    valid_activity_n_resource = set( df[resources_columns].apply(tuple, axis='columns') )\n",
    "\n",
    "    # combo: combination\n",
    "    resource_combo_frequency = {}\n",
    "\n",
    "    valid_resource_combo = df[resources_columns].apply(tuple, axis='columns')\n",
    "\n",
    "    for elem in valid_resource_combo:\n",
    "        if resource_combo_frequency.get(elem):\n",
    "            resource_combo_frequency[elem] += 1\n",
    "        else:\n",
    "            resource_combo_frequency[elem] = 1\n",
    "    # Creates a list of (combo, counts)\n",
    "    resource_combo_counts = [ (k, v) for k, v in resource_combo_frequency.items() ]\n",
    "    sorted_resource_combo_counts = sorted( resource_combo_counts, key=lambda item: item[1], reverse=True )\n",
    "    sorted_combos = [combo for combo, _ in sorted_resource_combo_counts ]\n",
    "    amount_of_combos_to_select = int( len(sorted_combos) * threshold ) + 1\n",
    "    valid_activity_n_resources = sorted_combos[:amount_of_combos_to_select]\n",
    "    return valid_activity_n_resources\n",
    "\n",
    "# current_step, query_instances = get_query_instance(14, 16)\n",
    "\n",
    "# valid_resources = activity_n_resources(df_train, [\"ACTIVITY\", \"Involved_ST_Function_Div\", \"Involved_Org_line_3\", \"Involved_ST\"])\n",
    "resource_columns_to_validate = [activity_column_name, 'CE_UO', 'ROLE']\n",
    "valid_resources = activity_n_resources(df, resource_columns_to_validate)\n",
    "# len(valid_resources)"
   ],
   "metadata": {
    "collapsed": false,
    "ExecuteTime": {
     "end_time": "2023-05-31T20:28:58.369359740Z",
     "start_time": "2023-05-31T20:28:56.266352414Z"
    }
   }
  },
  {
   "cell_type": "code",
   "execution_count": 31,
   "outputs": [],
   "source": [
    "# # === Analysis of all the columns in the dataset\n",
    "# variable_type_analysis(df, case_id_name=case_id_name, activity_name=activity_column_name)"
   ],
   "metadata": {
    "collapsed": false,
    "ExecuteTime": {
     "end_time": "2023-05-31T20:28:59.598386824Z",
     "start_time": "2023-05-31T20:28:59.571320938Z"
    }
   }
  },
  {
   "cell_type": "markdown",
   "source": [
    "### Prepare the Test Dataset"
   ],
   "metadata": {
    "collapsed": false
   }
  },
  {
   "cell_type": "code",
   "execution_count": 32,
   "outputs": [],
   "source": [
    "def get_test(df, case_id_name):\n",
    "    \"\"\"\n",
    "    Returns:\n",
    "        list of DataFrames\n",
    "    \"\"\"\n",
    "    # df_result = pd.DataFrame(columns=df.columns)\n",
    "    result_lst = []\n",
    "\n",
    "    for idx in df[case_id_name].unique():\n",
    "        df_trace = df.loc[df[case_id_name] == idx]  # Passing index labels in df.loc[]\n",
    "        # ceil enables cases with 1 row to pass through\n",
    "        cut = ceil(len(df_trace) * random.uniform(0.5, 0.7)) #+ 2  # 2 because one for the floor and one for the pred\n",
    "        df_trace = df_trace.iloc[:cut].reset_index(drop=True)\n",
    "\n",
    "        # df_result = pd.concat([df_result, df_trace])\n",
    "        result_lst.append(df_trace.reset_index(drop=True))\n",
    "        # break\n",
    "    # return df_result.reset_index(drop=True)\n",
    "    return result_lst\n",
    "\n",
    "# test_cases = get_test(df_test, case_id_name)\n",
    "\n",
    "# # === Pickle this dataset for comparison of different methods\n",
    "# with open(os.path.join(data_dir, test_pickle_dataset_file), 'wb') as file:\n",
    "#     pickle.dump(test_cases, file)\n",
    "\n",
    "# === Unpickle the Standard test-set. To standardize the test across different parameters.\n",
    "with open(os.path.join(data_dir, test_pickle_dataset_file), 'rb') as file:\n",
    "    test_cases = pickle.load(file)"
   ],
   "metadata": {
    "collapsed": false,
    "ExecuteTime": {
     "end_time": "2023-05-31T20:29:01.095123623Z",
     "start_time": "2023-05-31T20:29:00.542978047Z"
    }
   }
  },
  {
   "cell_type": "code",
   "execution_count": 34,
   "outputs": [],
   "source": [
    "# ### Features that can vary\n",
    "# option 1:\n",
    "# cols_to_vary = [col for col in df_train.columns if col[0] == '#']\n",
    "\n",
    "cols_to_vary = [\"ACTIVITY\", \"CE_UO\", \"ROLE\"]\n",
    "\n",
    "outcome_name = \"Back-Office Adjustment Requested\"\n",
    "\n",
    "def prepare_df_for_ml(df, outcome_name, columns_to_remove=None) -> tuple[pd.DataFrame, pd.DataFrame]:\n",
    "    \"\"\"\n",
    "    :param str outcome_name: name of the target column.\n",
    "    \"\"\"\n",
    "    # Before training for ml we need to remove columns that can are not needed for ML model.\n",
    "    if columns_to_remove is None:\n",
    "        columns_to_remove = [\"Change_Date+Time\", \"time_remaining\"]\n",
    "    df = df.drop([case_id_name], axis=\"columns\")\n",
    "    df = df.drop(columns_to_remove, axis=\"columns\")\n",
    "    X = df.drop([outcome_name], axis=1)\n",
    "    y = df[outcome_name]\n",
    "    return X, y\n",
    "\n",
    "X_train, y_train = prepare_df_for_ml(df_train, outcome_name, columns_to_remove=[\"START_DATE\", \"END_DATE\", \"time_remaining\"])\n",
    "# X_test, y_test = prepare_df_for_ml(df_test, outcome_name)\n",
    "\n",
    "continuous_features = [\"time_from_first\", \"time_from_previous_et\", \"time_from_midnight\", \"activity_duration\", '# ACTIVITY=Service closure Request with network responsibility',\n",
    "                    '# ACTIVITY=Service closure Request with BO responsibility', '# ACTIVITY=Pending Request for Reservation Closure', '# ACTIVITY=Pending Liquidation Request',\n",
    "                    '# ACTIVITY=Request completed with account closure', '# ACTIVITY=Request created', '# ACTIVITY=Authorization Requested',\n",
    "                    '# ACTIVITY=Evaluating Request (NO registered letter)', '# ACTIVITY=Network Adjustment Requested', '# ACTIVITY=Pending Request for acquittance of heirs',\n",
    "                    '# ACTIVITY=Request deleted', '# ACTIVITY=Back-Office Adjustment Requested', '# ACTIVITY=Evaluating Request (WITH registered letter)',\n",
    "                    '# ACTIVITY=Request completed with customer recovery', '# ACTIVITY=Pending Request for Network Information',]\n",
    "categorical_features = [\"CLOSURE_TYPE\", \"CLOSURE_REASON\", \"ACTIVITY\", \"CE_UO\", \"ROLE\", \"weekday\"]\n",
    "\n",
    "# We create the preprocessing pipelines for both numeric and categorical data.\n",
    "numeric_transformer = Pipeline(steps=[\n",
    "    ('scaler', StandardScaler())])\n",
    "\n",
    "categorical_transformer = Pipeline(steps=[\n",
    "    ('onehot', OneHotEncoder(handle_unknown='ignore'))])\n",
    "\n",
    "transformations = ColumnTransformer(\n",
    "    transformers=[\n",
    "        ('num', numeric_transformer, continuous_features),\n",
    "        ('cat', categorical_transformer, categorical_features)])\n",
    "\n",
    "# Append classifier to preprocessing pipeline.\n",
    "# Now we have a full prediction pipeline.\n",
    "clf = Pipeline(steps=[('preprocessor', transformations),\n",
    "                           ('classifier', RandomForestClassifier(n_jobs=7))])\n",
    "model = clf.fit(X_train, y_train)\n",
    "\n",
    "# ## Create DiCE model\n",
    "d_iris = dice_ml.Data(dataframe=pd.concat([X_train, y_train], axis=\"columns\"),\n",
    "                      continuous_features=continuous_features,\n",
    "                      outcome_name=outcome_name)\n",
    "\n",
    "# We provide the type of model as a parameter (model_type)\n",
    "m_iris = dice_ml.Model(model=model, backend=\"sklearn\", model_type='classifier')\n",
    "method = DICE_METHOD  # genetic, kdtree, random\n",
    "exp_genetic_iris = Dice(d_iris, m_iris, method=method)  # Categorical features do not support features_weights argument in generate_counterfactuals()\n",
    "# exp_genetic_iris = Dice(d_iris, m_iris, method=\"kdtree\")"
   ],
   "metadata": {
    "collapsed": false,
    "ExecuteTime": {
     "end_time": "2023-05-31T20:29:38.277551247Z",
     "start_time": "2023-05-31T20:29:25.933138562Z"
    }
   }
  },
  {
   "cell_type": "markdown",
   "source": [
    "## Experiment with Single Queries"
   ],
   "metadata": {
    "collapsed": false
   }
  },
  {
   "cell_type": "code",
   "execution_count": 35,
   "outputs": [
    {
     "data": {
      "text/plain": "      REQUEST_ID   CLOSURE_TYPE   CLOSURE_REASON   \n612  20182001337    Bank Recess  1 - Client lost  \\\n613  20182001337    Bank Recess  1 - Client lost   \n614  20182001337    Bank Recess  1 - Client lost   \n615  20182001491  Client Recess  1 - Client lost   \n616  20182001491  Client Recess  1 - Client lost   \n617  20182001491  Client Recess  1 - Client lost   \n618  20182001491  Client Recess  1 - Client lost   \n619  20182001491  Client Recess  1 - Client lost   \n620  20182001491  Client Recess  1 - Client lost   \n621  20182001491  Client Recess  1 - Client lost   \n\n                                              ACTIVITY  CE_UO         ROLE   \n612     Service closure Request with BO responsibility    BOC  BACK-OFFICE  \\\n613            Pending Request for Reservation Closure    BOC  BACK-OFFICE   \n614                        Pending Liquidation Request    BOC  BACK-OFFICE   \n615                                    Request created  00877    APPLICANT   \n616          Evaluating Request (NO registered letter)  00037     DIRECTOR   \n617  Service closure Request with network responsib...  00037    APPLICANT   \n618     Service closure Request with BO responsibility    BOC  BACK-OFFICE   \n619            Pending Request for Reservation Closure    BOC  BACK-OFFICE   \n620                   Back-Office Adjustment Requested    BOC  BACK-OFFICE   \n621            Pending Request for Reservation Closure    BOC  BACK-OFFICE   \n\n     Back-Office Adjustment Requested  \n612                                 0  \n613                                 0  \n614                                 0  \n615                                 1  \n616                                 1  \n617                                 1  \n618                                 1  \n619                                 1  \n620                                 0  \n621                                 0  ",
      "text/html": "<div>\n<style scoped>\n    .dataframe tbody tr th:only-of-type {\n        vertical-align: middle;\n    }\n\n    .dataframe tbody tr th {\n        vertical-align: top;\n    }\n\n    .dataframe thead th {\n        text-align: right;\n    }\n</style>\n<table border=\"1\" class=\"dataframe\">\n  <thead>\n    <tr style=\"text-align: right;\">\n      <th></th>\n      <th>REQUEST_ID</th>\n      <th>CLOSURE_TYPE</th>\n      <th>CLOSURE_REASON</th>\n      <th>ACTIVITY</th>\n      <th>CE_UO</th>\n      <th>ROLE</th>\n      <th>Back-Office Adjustment Requested</th>\n    </tr>\n  </thead>\n  <tbody>\n    <tr>\n      <th>612</th>\n      <td>20182001337</td>\n      <td>Bank Recess</td>\n      <td>1 - Client lost</td>\n      <td>Service closure Request with BO responsibility</td>\n      <td>BOC</td>\n      <td>BACK-OFFICE</td>\n      <td>0</td>\n    </tr>\n    <tr>\n      <th>613</th>\n      <td>20182001337</td>\n      <td>Bank Recess</td>\n      <td>1 - Client lost</td>\n      <td>Pending Request for Reservation Closure</td>\n      <td>BOC</td>\n      <td>BACK-OFFICE</td>\n      <td>0</td>\n    </tr>\n    <tr>\n      <th>614</th>\n      <td>20182001337</td>\n      <td>Bank Recess</td>\n      <td>1 - Client lost</td>\n      <td>Pending Liquidation Request</td>\n      <td>BOC</td>\n      <td>BACK-OFFICE</td>\n      <td>0</td>\n    </tr>\n    <tr>\n      <th>615</th>\n      <td>20182001491</td>\n      <td>Client Recess</td>\n      <td>1 - Client lost</td>\n      <td>Request created</td>\n      <td>00877</td>\n      <td>APPLICANT</td>\n      <td>1</td>\n    </tr>\n    <tr>\n      <th>616</th>\n      <td>20182001491</td>\n      <td>Client Recess</td>\n      <td>1 - Client lost</td>\n      <td>Evaluating Request (NO registered letter)</td>\n      <td>00037</td>\n      <td>DIRECTOR</td>\n      <td>1</td>\n    </tr>\n    <tr>\n      <th>617</th>\n      <td>20182001491</td>\n      <td>Client Recess</td>\n      <td>1 - Client lost</td>\n      <td>Service closure Request with network responsib...</td>\n      <td>00037</td>\n      <td>APPLICANT</td>\n      <td>1</td>\n    </tr>\n    <tr>\n      <th>618</th>\n      <td>20182001491</td>\n      <td>Client Recess</td>\n      <td>1 - Client lost</td>\n      <td>Service closure Request with BO responsibility</td>\n      <td>BOC</td>\n      <td>BACK-OFFICE</td>\n      <td>1</td>\n    </tr>\n    <tr>\n      <th>619</th>\n      <td>20182001491</td>\n      <td>Client Recess</td>\n      <td>1 - Client lost</td>\n      <td>Pending Request for Reservation Closure</td>\n      <td>BOC</td>\n      <td>BACK-OFFICE</td>\n      <td>1</td>\n    </tr>\n    <tr>\n      <th>620</th>\n      <td>20182001491</td>\n      <td>Client Recess</td>\n      <td>1 - Client lost</td>\n      <td>Back-Office Adjustment Requested</td>\n      <td>BOC</td>\n      <td>BACK-OFFICE</td>\n      <td>0</td>\n    </tr>\n    <tr>\n      <th>621</th>\n      <td>20182001491</td>\n      <td>Client Recess</td>\n      <td>1 - Client lost</td>\n      <td>Pending Request for Reservation Closure</td>\n      <td>BOC</td>\n      <td>BACK-OFFICE</td>\n      <td>0</td>\n    </tr>\n  </tbody>\n</table>\n</div>"
     },
     "execution_count": 35,
     "metadata": {},
     "output_type": "execute_result"
    }
   ],
   "source": [
    "sidx = 612\n",
    "eidx = 622\n",
    "\n",
    "df_train[sidx: eidx][[ \"REQUEST_ID\", \"CLOSURE_TYPE\", \"CLOSURE_REASON\", \"ACTIVITY\", \"CE_UO\", \"ROLE\", \"Back-Office Adjustment Requested\"] ]\n",
    "# df_train[sidx: eidx]"
   ],
   "metadata": {
    "collapsed": false,
    "ExecuteTime": {
     "end_time": "2023-05-31T20:29:38.326507872Z",
     "start_time": "2023-05-31T20:29:38.279730760Z"
    }
   }
  },
  {
   "cell_type": "code",
   "execution_count": 36,
   "outputs": [
    {
     "name": "stderr",
     "output_type": "stream",
     "text": [
      "100%|██████████| 1/1 [00:01<00:00,  1.39s/it]"
     ]
    },
    {
     "name": "stdout",
     "output_type": "stream",
     "text": [
      "Query instance (original outcome : 1)\n"
     ]
    },
    {
     "name": "stderr",
     "output_type": "stream",
     "text": [
      "\n"
     ]
    },
    {
     "data": {
      "text/plain": "    CLOSURE_TYPE   CLOSURE_REASON                                 ACTIVITY   \n0  Client Recess  1 - Client lost  Pending Request for Reservation Closure  \\\n\n  CE_UO         ROLE  time_from_first  time_from_previous_et   \n0   BOC  BACK-OFFICE         26354849                    810  \\\n\n   time_from_midnight weekday  activity_duration   \n0               45978  Friday                 64  \\\n\n   # ACTIVITY=Service closure Request with network responsibility   \n0                                                  1               \\\n\n   # ACTIVITY=Service closure Request with BO responsibility   \n0                                                  1          \\\n\n   # ACTIVITY=Pending Request for Reservation Closure   \n0                                                  0   \\\n\n   # ACTIVITY=Pending Liquidation Request   \n0                                       0  \\\n\n   # ACTIVITY=Request completed with account closure   \n0                                                  0  \\\n\n   # ACTIVITY=Request created  # ACTIVITY=Authorization Requested   \n0                           1                                   0  \\\n\n   # ACTIVITY=Evaluating Request (NO registered letter)   \n0                                                  1     \\\n\n   # ACTIVITY=Network Adjustment Requested   \n0                                        0  \\\n\n   # ACTIVITY=Pending Request for acquittance of heirs   \n0                                                  0    \\\n\n   # ACTIVITY=Request deleted  # ACTIVITY=Back-Office Adjustment Requested   \n0                           0                                            0  \\\n\n   # ACTIVITY=Evaluating Request (WITH registered letter)   \n0                                                  0       \\\n\n   # ACTIVITY=Request completed with customer recovery   \n0                                                  0    \\\n\n   # ACTIVITY=Pending Request for Network Information   \n0                                                  0   \\\n\n   Back-Office Adjustment Requested  \n0                                 1  ",
      "text/html": "<div>\n<style scoped>\n    .dataframe tbody tr th:only-of-type {\n        vertical-align: middle;\n    }\n\n    .dataframe tbody tr th {\n        vertical-align: top;\n    }\n\n    .dataframe thead th {\n        text-align: right;\n    }\n</style>\n<table border=\"1\" class=\"dataframe\">\n  <thead>\n    <tr style=\"text-align: right;\">\n      <th></th>\n      <th>CLOSURE_TYPE</th>\n      <th>CLOSURE_REASON</th>\n      <th>ACTIVITY</th>\n      <th>CE_UO</th>\n      <th>ROLE</th>\n      <th>time_from_first</th>\n      <th>time_from_previous_et</th>\n      <th>time_from_midnight</th>\n      <th>weekday</th>\n      <th>activity_duration</th>\n      <th># ACTIVITY=Service closure Request with network responsibility</th>\n      <th># ACTIVITY=Service closure Request with BO responsibility</th>\n      <th># ACTIVITY=Pending Request for Reservation Closure</th>\n      <th># ACTIVITY=Pending Liquidation Request</th>\n      <th># ACTIVITY=Request completed with account closure</th>\n      <th># ACTIVITY=Request created</th>\n      <th># ACTIVITY=Authorization Requested</th>\n      <th># ACTIVITY=Evaluating Request (NO registered letter)</th>\n      <th># ACTIVITY=Network Adjustment Requested</th>\n      <th># ACTIVITY=Pending Request for acquittance of heirs</th>\n      <th># ACTIVITY=Request deleted</th>\n      <th># ACTIVITY=Back-Office Adjustment Requested</th>\n      <th># ACTIVITY=Evaluating Request (WITH registered letter)</th>\n      <th># ACTIVITY=Request completed with customer recovery</th>\n      <th># ACTIVITY=Pending Request for Network Information</th>\n      <th>Back-Office Adjustment Requested</th>\n    </tr>\n  </thead>\n  <tbody>\n    <tr>\n      <th>0</th>\n      <td>Client Recess</td>\n      <td>1 - Client lost</td>\n      <td>Pending Request for Reservation Closure</td>\n      <td>BOC</td>\n      <td>BACK-OFFICE</td>\n      <td>26354849</td>\n      <td>810</td>\n      <td>45978</td>\n      <td>Friday</td>\n      <td>64</td>\n      <td>1</td>\n      <td>1</td>\n      <td>0</td>\n      <td>0</td>\n      <td>0</td>\n      <td>1</td>\n      <td>0</td>\n      <td>1</td>\n      <td>0</td>\n      <td>0</td>\n      <td>0</td>\n      <td>0</td>\n      <td>0</td>\n      <td>0</td>\n      <td>0</td>\n      <td>1</td>\n    </tr>\n  </tbody>\n</table>\n</div>"
     },
     "metadata": {},
     "output_type": "display_data"
    },
    {
     "name": "stdout",
     "output_type": "stream",
     "text": [
      "\n",
      "Diverse Counterfactual set (new outcome: 0.0)\n"
     ]
    },
    {
     "data": {
      "text/plain": "   CLOSURE_TYPE CLOSURE_REASON   \n0             -              -  \\\n1             -              -   \n2             -              -   \n3             -              -   \n4             -              -   \n5             -              -   \n6             -              -   \n7             -              -   \n8             -              -   \n9             -              -   \n10            -              -   \n11            -              -   \n12            -              -   \n13            -              -   \n14            -              -   \n\n                                             ACTIVITY  CE_UO       ROLE   \n0                                                   -      -  APPLICANT  \\\n1      Service closure Request with BO responsibility  00096          -   \n2         Evaluating Request (WITH registered letter)  00208          -   \n3                                                   -  00207   DIRECTOR   \n4                                                   -  00396          -   \n5                                                   -  00594          -   \n6   Service closure Request with network responsib...  00533          -   \n7                                                   -  00204          -   \n8                                                   -  00535          -   \n9                                                   -  00652          -   \n10                                                  -  00555          -   \n11                                                  -  00512   DIRECTOR   \n12                                                  -  00041  APPLICANT   \n13                                                  -   LUCA          -   \n14                            Authorization Requested  00305          -   \n\n   time_from_first time_from_previous_et time_from_midnight weekday   \n0                -                     -                  -       -  \\\n1                -                     -                  -       -   \n2                -                     -                  -       -   \n3                -                     -                  -       -   \n4                -                     -                  -       -   \n5                -                     -                  -       -   \n6                -                     -                  -       -   \n7                -                     -                  -       -   \n8                -                     -                  -       -   \n9                -                     -                  -       -   \n10               -                     -                  -       -   \n11               -                     -                  -       -   \n12               -                     -                  -       -   \n13               -                     -                  -       -   \n14               -                     -                  -       -   \n\n   activity_duration   \n0                  -  \\\n1                  -   \n2                  -   \n3                  -   \n4                  -   \n5                  -   \n6                  -   \n7                  -   \n8                  -   \n9                  -   \n10                 -   \n11                 -   \n12                 -   \n13                 -   \n14                 -   \n\n   # ACTIVITY=Service closure Request with network responsibility   \n0                                                   -              \\\n1                                                   -               \n2                                                   -               \n3                                                   -               \n4                                                   -               \n5                                                   -               \n6                                                   -               \n7                                                   -               \n8                                                   -               \n9                                                   -               \n10                                                  -               \n11                                                  -               \n12                                                  -               \n13                                                  -               \n14                                                  -               \n\n   # ACTIVITY=Service closure Request with BO responsibility   \n0                                                   -         \\\n1                                                   -          \n2                                                   -          \n3                                                   -          \n4                                                   -          \n5                                                   -          \n6                                                   -          \n7                                                   -          \n8                                                   -          \n9                                                   -          \n10                                                  -          \n11                                                  -          \n12                                                  -          \n13                                                  -          \n14                                                  -          \n\n   # ACTIVITY=Pending Request for Reservation Closure   \n0                                                   -  \\\n1                                                   -   \n2                                                   -   \n3                                                   -   \n4                                                   -   \n5                                                   -   \n6                                                   -   \n7                                                   -   \n8                                                   -   \n9                                                   -   \n10                                                  -   \n11                                                  -   \n12                                                  -   \n13                                                  -   \n14                                                  -   \n\n   # ACTIVITY=Pending Liquidation Request   \n0                                       -  \\\n1                                       -   \n2                                       -   \n3                                       -   \n4                                       -   \n5                                       -   \n6                                       -   \n7                                       -   \n8                                       -   \n9                                       -   \n10                                      -   \n11                                      -   \n12                                      -   \n13                                      -   \n14                                      -   \n\n   # ACTIVITY=Request completed with account closure   \n0                                                  -  \\\n1                                                  -   \n2                                                  -   \n3                                                  -   \n4                                                  -   \n5                                                  -   \n6                                                  -   \n7                                                  -   \n8                                                  -   \n9                                                  -   \n10                                                 -   \n11                                                 -   \n12                                                 -   \n13                                                 -   \n14                                                 -   \n\n   # ACTIVITY=Request created # ACTIVITY=Authorization Requested   \n0                           -                                  -  \\\n1                           -                                  -   \n2                           -                                  -   \n3                           -                                  -   \n4                           -                                  -   \n5                           -                                  -   \n6                           -                                  -   \n7                           -                                  -   \n8                           -                                  -   \n9                           -                                  -   \n10                          -                                  -   \n11                          -                                  -   \n12                          -                                  -   \n13                          -                                  -   \n14                          -                                  -   \n\n   # ACTIVITY=Evaluating Request (NO registered letter)   \n0                                                   -    \\\n1                                                   -     \n2                                                   -     \n3                                                   -     \n4                                                   -     \n5                                                   -     \n6                                                   -     \n7                                                   -     \n8                                                   -     \n9                                                   -     \n10                                                  -     \n11                                                  -     \n12                                                  -     \n13                                                  -     \n14                                                  -     \n\n   # ACTIVITY=Network Adjustment Requested   \n0                                        -  \\\n1                                        -   \n2                                        -   \n3                                        -   \n4                                        -   \n5                                        -   \n6                                        -   \n7                                        -   \n8                                        -   \n9                                        -   \n10                                       -   \n11                                       -   \n12                                       -   \n13                                       -   \n14                                       -   \n\n   # ACTIVITY=Pending Request for acquittance of heirs   \n0                                                   -   \\\n1                                                   -    \n2                                                   -    \n3                                                   -    \n4                                                   -    \n5                                                   -    \n6                                                   -    \n7                                                   -    \n8                                                   -    \n9                                                   -    \n10                                                  -    \n11                                                  -    \n12                                                  -    \n13                                                  -    \n14                                                  -    \n\n   # ACTIVITY=Request deleted # ACTIVITY=Back-Office Adjustment Requested   \n0                           -                                           -  \\\n1                           -                                           -   \n2                           -                                           -   \n3                           -                                           -   \n4                           -                                           -   \n5                           -                                           -   \n6                           -                                           -   \n7                           -                                           -   \n8                           -                                           -   \n9                           -                                           -   \n10                          -                                           -   \n11                          -                                           -   \n12                          -                                           -   \n13                          -                                           -   \n14                          -                                           -   \n\n   # ACTIVITY=Evaluating Request (WITH registered letter)   \n0                                                   -      \\\n1                                                   -       \n2                                                   -       \n3                                                   -       \n4                                                   -       \n5                                                   -       \n6                                                   -       \n7                                                   -       \n8                                                   -       \n9                                                   -       \n10                                                  -       \n11                                                  -       \n12                                                  -       \n13                                                  -       \n14                                                  -       \n\n   # ACTIVITY=Request completed with customer recovery   \n0                                                   -   \\\n1                                                   -    \n2                                                   -    \n3                                                   -    \n4                                                   -    \n5                                                   -    \n6                                                   -    \n7                                                   -    \n8                                                   -    \n9                                                   -    \n10                                                  -    \n11                                                  -    \n12                                                  -    \n13                                                  -    \n14                                                  -    \n\n   # ACTIVITY=Pending Request for Network Information   \n0                                                   -  \\\n1                                                   -   \n2                                                   -   \n3                                                   -   \n4                                                   -   \n5                                                   -   \n6                                                   -   \n7                                                   -   \n8                                                   -   \n9                                                   -   \n10                                                  -   \n11                                                  -   \n12                                                  -   \n13                                                  -   \n14                                                  -   \n\n   Back-Office Adjustment Requested  \n0                                 0  \n1                                 0  \n2                                 0  \n3                                 0  \n4                                 0  \n5                                 0  \n6                                 0  \n7                                 0  \n8                                 0  \n9                                 0  \n10                                0  \n11                                0  \n12                                0  \n13                                0  \n14                                0  ",
      "text/html": "<div>\n<style scoped>\n    .dataframe tbody tr th:only-of-type {\n        vertical-align: middle;\n    }\n\n    .dataframe tbody tr th {\n        vertical-align: top;\n    }\n\n    .dataframe thead th {\n        text-align: right;\n    }\n</style>\n<table border=\"1\" class=\"dataframe\">\n  <thead>\n    <tr style=\"text-align: right;\">\n      <th></th>\n      <th>CLOSURE_TYPE</th>\n      <th>CLOSURE_REASON</th>\n      <th>ACTIVITY</th>\n      <th>CE_UO</th>\n      <th>ROLE</th>\n      <th>time_from_first</th>\n      <th>time_from_previous_et</th>\n      <th>time_from_midnight</th>\n      <th>weekday</th>\n      <th>activity_duration</th>\n      <th># ACTIVITY=Service closure Request with network responsibility</th>\n      <th># ACTIVITY=Service closure Request with BO responsibility</th>\n      <th># ACTIVITY=Pending Request for Reservation Closure</th>\n      <th># ACTIVITY=Pending Liquidation Request</th>\n      <th># ACTIVITY=Request completed with account closure</th>\n      <th># ACTIVITY=Request created</th>\n      <th># ACTIVITY=Authorization Requested</th>\n      <th># ACTIVITY=Evaluating Request (NO registered letter)</th>\n      <th># ACTIVITY=Network Adjustment Requested</th>\n      <th># ACTIVITY=Pending Request for acquittance of heirs</th>\n      <th># ACTIVITY=Request deleted</th>\n      <th># ACTIVITY=Back-Office Adjustment Requested</th>\n      <th># ACTIVITY=Evaluating Request (WITH registered letter)</th>\n      <th># ACTIVITY=Request completed with customer recovery</th>\n      <th># ACTIVITY=Pending Request for Network Information</th>\n      <th>Back-Office Adjustment Requested</th>\n    </tr>\n  </thead>\n  <tbody>\n    <tr>\n      <th>0</th>\n      <td>-</td>\n      <td>-</td>\n      <td>-</td>\n      <td>-</td>\n      <td>APPLICANT</td>\n      <td>-</td>\n      <td>-</td>\n      <td>-</td>\n      <td>-</td>\n      <td>-</td>\n      <td>-</td>\n      <td>-</td>\n      <td>-</td>\n      <td>-</td>\n      <td>-</td>\n      <td>-</td>\n      <td>-</td>\n      <td>-</td>\n      <td>-</td>\n      <td>-</td>\n      <td>-</td>\n      <td>-</td>\n      <td>-</td>\n      <td>-</td>\n      <td>-</td>\n      <td>0</td>\n    </tr>\n    <tr>\n      <th>1</th>\n      <td>-</td>\n      <td>-</td>\n      <td>Service closure Request with BO responsibility</td>\n      <td>00096</td>\n      <td>-</td>\n      <td>-</td>\n      <td>-</td>\n      <td>-</td>\n      <td>-</td>\n      <td>-</td>\n      <td>-</td>\n      <td>-</td>\n      <td>-</td>\n      <td>-</td>\n      <td>-</td>\n      <td>-</td>\n      <td>-</td>\n      <td>-</td>\n      <td>-</td>\n      <td>-</td>\n      <td>-</td>\n      <td>-</td>\n      <td>-</td>\n      <td>-</td>\n      <td>-</td>\n      <td>0</td>\n    </tr>\n    <tr>\n      <th>2</th>\n      <td>-</td>\n      <td>-</td>\n      <td>Evaluating Request (WITH registered letter)</td>\n      <td>00208</td>\n      <td>-</td>\n      <td>-</td>\n      <td>-</td>\n      <td>-</td>\n      <td>-</td>\n      <td>-</td>\n      <td>-</td>\n      <td>-</td>\n      <td>-</td>\n      <td>-</td>\n      <td>-</td>\n      <td>-</td>\n      <td>-</td>\n      <td>-</td>\n      <td>-</td>\n      <td>-</td>\n      <td>-</td>\n      <td>-</td>\n      <td>-</td>\n      <td>-</td>\n      <td>-</td>\n      <td>0</td>\n    </tr>\n    <tr>\n      <th>3</th>\n      <td>-</td>\n      <td>-</td>\n      <td>-</td>\n      <td>00207</td>\n      <td>DIRECTOR</td>\n      <td>-</td>\n      <td>-</td>\n      <td>-</td>\n      <td>-</td>\n      <td>-</td>\n      <td>-</td>\n      <td>-</td>\n      <td>-</td>\n      <td>-</td>\n      <td>-</td>\n      <td>-</td>\n      <td>-</td>\n      <td>-</td>\n      <td>-</td>\n      <td>-</td>\n      <td>-</td>\n      <td>-</td>\n      <td>-</td>\n      <td>-</td>\n      <td>-</td>\n      <td>0</td>\n    </tr>\n    <tr>\n      <th>4</th>\n      <td>-</td>\n      <td>-</td>\n      <td>-</td>\n      <td>00396</td>\n      <td>-</td>\n      <td>-</td>\n      <td>-</td>\n      <td>-</td>\n      <td>-</td>\n      <td>-</td>\n      <td>-</td>\n      <td>-</td>\n      <td>-</td>\n      <td>-</td>\n      <td>-</td>\n      <td>-</td>\n      <td>-</td>\n      <td>-</td>\n      <td>-</td>\n      <td>-</td>\n      <td>-</td>\n      <td>-</td>\n      <td>-</td>\n      <td>-</td>\n      <td>-</td>\n      <td>0</td>\n    </tr>\n    <tr>\n      <th>5</th>\n      <td>-</td>\n      <td>-</td>\n      <td>-</td>\n      <td>00594</td>\n      <td>-</td>\n      <td>-</td>\n      <td>-</td>\n      <td>-</td>\n      <td>-</td>\n      <td>-</td>\n      <td>-</td>\n      <td>-</td>\n      <td>-</td>\n      <td>-</td>\n      <td>-</td>\n      <td>-</td>\n      <td>-</td>\n      <td>-</td>\n      <td>-</td>\n      <td>-</td>\n      <td>-</td>\n      <td>-</td>\n      <td>-</td>\n      <td>-</td>\n      <td>-</td>\n      <td>0</td>\n    </tr>\n    <tr>\n      <th>6</th>\n      <td>-</td>\n      <td>-</td>\n      <td>Service closure Request with network responsib...</td>\n      <td>00533</td>\n      <td>-</td>\n      <td>-</td>\n      <td>-</td>\n      <td>-</td>\n      <td>-</td>\n      <td>-</td>\n      <td>-</td>\n      <td>-</td>\n      <td>-</td>\n      <td>-</td>\n      <td>-</td>\n      <td>-</td>\n      <td>-</td>\n      <td>-</td>\n      <td>-</td>\n      <td>-</td>\n      <td>-</td>\n      <td>-</td>\n      <td>-</td>\n      <td>-</td>\n      <td>-</td>\n      <td>0</td>\n    </tr>\n    <tr>\n      <th>7</th>\n      <td>-</td>\n      <td>-</td>\n      <td>-</td>\n      <td>00204</td>\n      <td>-</td>\n      <td>-</td>\n      <td>-</td>\n      <td>-</td>\n      <td>-</td>\n      <td>-</td>\n      <td>-</td>\n      <td>-</td>\n      <td>-</td>\n      <td>-</td>\n      <td>-</td>\n      <td>-</td>\n      <td>-</td>\n      <td>-</td>\n      <td>-</td>\n      <td>-</td>\n      <td>-</td>\n      <td>-</td>\n      <td>-</td>\n      <td>-</td>\n      <td>-</td>\n      <td>0</td>\n    </tr>\n    <tr>\n      <th>8</th>\n      <td>-</td>\n      <td>-</td>\n      <td>-</td>\n      <td>00535</td>\n      <td>-</td>\n      <td>-</td>\n      <td>-</td>\n      <td>-</td>\n      <td>-</td>\n      <td>-</td>\n      <td>-</td>\n      <td>-</td>\n      <td>-</td>\n      <td>-</td>\n      <td>-</td>\n      <td>-</td>\n      <td>-</td>\n      <td>-</td>\n      <td>-</td>\n      <td>-</td>\n      <td>-</td>\n      <td>-</td>\n      <td>-</td>\n      <td>-</td>\n      <td>-</td>\n      <td>0</td>\n    </tr>\n    <tr>\n      <th>9</th>\n      <td>-</td>\n      <td>-</td>\n      <td>-</td>\n      <td>00652</td>\n      <td>-</td>\n      <td>-</td>\n      <td>-</td>\n      <td>-</td>\n      <td>-</td>\n      <td>-</td>\n      <td>-</td>\n      <td>-</td>\n      <td>-</td>\n      <td>-</td>\n      <td>-</td>\n      <td>-</td>\n      <td>-</td>\n      <td>-</td>\n      <td>-</td>\n      <td>-</td>\n      <td>-</td>\n      <td>-</td>\n      <td>-</td>\n      <td>-</td>\n      <td>-</td>\n      <td>0</td>\n    </tr>\n    <tr>\n      <th>10</th>\n      <td>-</td>\n      <td>-</td>\n      <td>-</td>\n      <td>00555</td>\n      <td>-</td>\n      <td>-</td>\n      <td>-</td>\n      <td>-</td>\n      <td>-</td>\n      <td>-</td>\n      <td>-</td>\n      <td>-</td>\n      <td>-</td>\n      <td>-</td>\n      <td>-</td>\n      <td>-</td>\n      <td>-</td>\n      <td>-</td>\n      <td>-</td>\n      <td>-</td>\n      <td>-</td>\n      <td>-</td>\n      <td>-</td>\n      <td>-</td>\n      <td>-</td>\n      <td>0</td>\n    </tr>\n    <tr>\n      <th>11</th>\n      <td>-</td>\n      <td>-</td>\n      <td>-</td>\n      <td>00512</td>\n      <td>DIRECTOR</td>\n      <td>-</td>\n      <td>-</td>\n      <td>-</td>\n      <td>-</td>\n      <td>-</td>\n      <td>-</td>\n      <td>-</td>\n      <td>-</td>\n      <td>-</td>\n      <td>-</td>\n      <td>-</td>\n      <td>-</td>\n      <td>-</td>\n      <td>-</td>\n      <td>-</td>\n      <td>-</td>\n      <td>-</td>\n      <td>-</td>\n      <td>-</td>\n      <td>-</td>\n      <td>0</td>\n    </tr>\n    <tr>\n      <th>12</th>\n      <td>-</td>\n      <td>-</td>\n      <td>-</td>\n      <td>00041</td>\n      <td>APPLICANT</td>\n      <td>-</td>\n      <td>-</td>\n      <td>-</td>\n      <td>-</td>\n      <td>-</td>\n      <td>-</td>\n      <td>-</td>\n      <td>-</td>\n      <td>-</td>\n      <td>-</td>\n      <td>-</td>\n      <td>-</td>\n      <td>-</td>\n      <td>-</td>\n      <td>-</td>\n      <td>-</td>\n      <td>-</td>\n      <td>-</td>\n      <td>-</td>\n      <td>-</td>\n      <td>0</td>\n    </tr>\n    <tr>\n      <th>13</th>\n      <td>-</td>\n      <td>-</td>\n      <td>-</td>\n      <td>LUCA</td>\n      <td>-</td>\n      <td>-</td>\n      <td>-</td>\n      <td>-</td>\n      <td>-</td>\n      <td>-</td>\n      <td>-</td>\n      <td>-</td>\n      <td>-</td>\n      <td>-</td>\n      <td>-</td>\n      <td>-</td>\n      <td>-</td>\n      <td>-</td>\n      <td>-</td>\n      <td>-</td>\n      <td>-</td>\n      <td>-</td>\n      <td>-</td>\n      <td>-</td>\n      <td>-</td>\n      <td>0</td>\n    </tr>\n    <tr>\n      <th>14</th>\n      <td>-</td>\n      <td>-</td>\n      <td>Authorization Requested</td>\n      <td>00305</td>\n      <td>-</td>\n      <td>-</td>\n      <td>-</td>\n      <td>-</td>\n      <td>-</td>\n      <td>-</td>\n      <td>-</td>\n      <td>-</td>\n      <td>-</td>\n      <td>-</td>\n      <td>-</td>\n      <td>-</td>\n      <td>-</td>\n      <td>-</td>\n      <td>-</td>\n      <td>-</td>\n      <td>-</td>\n      <td>-</td>\n      <td>-</td>\n      <td>-</td>\n      <td>-</td>\n      <td>0</td>\n    </tr>\n  </tbody>\n</table>\n</div>"
     },
     "metadata": {},
     "output_type": "display_data"
    }
   ],
   "source": [
    "sidx = 619\n",
    "eidx = 620\n",
    "\n",
    "query_instances = X_train[sidx: eidx]\n",
    "cfe = exp_genetic_iris.generate_counterfactuals(query_instances, total_CFs=15, desired_class=\"opposite\", features_to_vary=cols_to_vary,\n",
    "                                                permitted_range = {\"ACTIVITY\": ['Service closure Request with network responsibility',\n",
    "                                                                            'Service closure Request with BO responsibility',\n",
    "                                                                            'Pending Request for Reservation Closure', 'Pending Liquidation Request',\n",
    "                                                                            'Request created','Authorization Requested', 'Evaluating Request (NO registered letter)',\n",
    "                                                                            'Network Adjustment Requested', 'Evaluating Request (WITH registered letter)',\n",
    "                                                                            'Pending Request for Network Information']})  # 'Back-Office Adjustment Requested'\n",
    "\n",
    "cfe.visualize_as_dataframe(show_only_changes=True)"
   ],
   "metadata": {
    "collapsed": false,
    "ExecuteTime": {
     "end_time": "2023-05-31T20:29:39.776160897Z",
     "start_time": "2023-05-31T20:29:38.322845777Z"
    }
   }
  },
  {
   "cell_type": "markdown",
   "source": [
    "## Apply Transition System Validation to the above Single Query Results"
   ],
   "metadata": {
    "collapsed": false
   }
  },
  {
   "cell_type": "code",
   "execution_count": 37,
   "outputs": [],
   "source": [
    "## Apply Transition System Validation to the above Single Query Results\n",
    "# === Load the Transition Graph\n",
    "_, transition_graph = transition_system(df, case_id_name=case_id_name, activity_column_name=activity_column_name, window_size=WINDOW_SIZE)\n",
    "\n",
    "def get_prefix_of_activities(expected_activity_index=None, event_log=None, df_single_trace=None, window_size=3, activity_column_name=None):\n",
    "    \"\"\" Retrieves the prefix of activities from the event log. So that later the next activity can be validated using the prefix.\n",
    "    This function can be used for 2 different cases. 1st, passing different arguments allowing is to single out trace prefix\n",
    "    from the entire event log (df_train). 2nd, passing it df_single_trace and prefix is extracted from it.\n",
    "    Args:\n",
    "        expected_activity_index (int)\n",
    "        event_log (pd.DataFrame): Dataframe containing many traces. E.g. df_train\n",
    "        df_single_trace (pd.DataFrame): A dataframe that contains a single trace. E.g. a running trace or a test trace. It is expected\n",
    "            that the index of this dataframe starts from 0. An assumption is that last activity/ row represents the expected activity,\n",
    "            so the prefix of activities ends at the 2nd last activity. when using this parameter, query_case_id and related parameters\n",
    "            are ignored.\n",
    "    \"\"\"\n",
    "\n",
    "    # Error checking\n",
    "    if activity_column_name is None:\n",
    "        raise \"Please specify activity_column_name\"\n",
    "\n",
    "    if df_single_trace is not None:\n",
    "        # Check if indexes start from 0\n",
    "        assert df_single_trace.loc[0] is not None\n",
    "\n",
    "        # Due to assumption that last activity is the expected activity so the prefix ends at the 2nd last activity\n",
    "        index_to_previous_activity = df_single_trace.index[-2]\n",
    "\n",
    "        start_index, end_index = indexs_for_window(index_to_previous_activity, window_size=window_size, end_exclusive=False)\n",
    "        prefix_of_activities = df_single_trace.loc[start_index: end_index, activity_column_name].to_list()  # loc is used to access the index values inside the dataframe\n",
    "        prefix_of_activities = list_to_str(prefix_of_activities)\n",
    "\n",
    "        return prefix_of_activities\n",
    "    else:\n",
    "        # if query_case_id is None:\n",
    "        #     raise \"Please specify query_case_id!\"\n",
    "        if event_log is None:\n",
    "            raise \"Please specify event_log!\"\n",
    "        if expected_activity_index is None:\n",
    "            raise \"Please specify expected_activity_index!\"\n",
    "\n",
    "        query_case_id = get_case_id( event_log[expected_activity_index: expected_activity_index+1] )\n",
    "\n",
    "        # Isolate the query_case_id trace\n",
    "        df_query = event_log[ event_log[case_id_name] == query_case_id ]\n",
    "\n",
    "        # Prefix ends before the expected activity timestamp\n",
    "        index_to_previous_activity = expected_activity_index - 1\n",
    "\n",
    "        start_index, end_index = indexs_for_window(index_to_previous_activity, window_size=window_size, end_exclusive=False)\n",
    "        prefix_of_activities = df_query.loc[start_index: end_index, activity_column_name].to_list()  # loc is used to access the index values inside the dataframe\n",
    "        prefix_of_activities = list_to_str(prefix_of_activities)\n",
    "\n",
    "        return prefix_of_activities\n",
    "\n",
    "\n",
    "def validate_transition(cfe, prefix_of_activities=None, transition_graph=None, valid_resources=None):\n",
    "    \"\"\"  resource_columns_to_validate=None possible future parameter\n",
    "    Args:\n",
    "        cfe (dice_ml.counterfactual_explanations.CounterfactualExplanations): Dice counterfactual explanations object.\n",
    "        window_size (int): Size of the prefix of trace for which next activity is checked. See `index_for_window` function\n",
    "                            documentation.\n",
    "        expected_activity_index (int):\n",
    "    \"\"\"\n",
    "    if cfe is None:\n",
    "        raise \"Please specify cfe!\"\n",
    "    if valid_resources is None:\n",
    "        raise \"Please specify valid_resources!\"\n",
    "    if transition_graph is None:\n",
    "        raise \"Please specify transition_graph\"\n",
    "    if prefix_of_activities is None:\n",
    "        raise \"Please specify prefix_of_activities\"\n",
    "\n",
    "    cf_examples_df = cfe.cf_examples_list[0].final_cfs_df.copy()  # Get the counterfactual explanations dataframe from the object\n",
    "\n",
    "    # === Verify the next activity\n",
    "    indexes_to_drop = []\n",
    "    for i, suggested_next_activity in cf_examples_df[activity_column_name].items():\n",
    "        if suggested_next_activity not in transition_graph[prefix_of_activities]:\n",
    "            indexes_to_drop.append(i)\n",
    "            # print(i, suggested_next_activity)\n",
    "\n",
    "    cf_examples_df = cf_examples_df.drop(indexes_to_drop, axis='index').reset_index(drop=True)\n",
    "\n",
    "    # === Verify the associated resources\n",
    "    indexes_to_drop = []\n",
    "    for i, row in cf_examples_df[ resource_columns_to_validate ].iterrows():\n",
    "        row_tuple = tuple(row)\n",
    "        if row_tuple not in valid_resources:\n",
    "            # print(f\"removed row had: {row_tuple}\")\n",
    "            indexes_to_drop.append(i)\n",
    "\n",
    "    cf_examples_df = cf_examples_df.drop(indexes_to_drop, axis='index').reset_index(drop=True)\n",
    "    return cf_examples_df"
   ],
   "metadata": {
    "collapsed": false,
    "ExecuteTime": {
     "end_time": "2023-05-31T20:30:15.834921384Z",
     "start_time": "2023-05-31T20:29:39.755742836Z"
    }
   }
  },
  {
   "cell_type": "code",
   "execution_count": 38,
   "outputs": [],
   "source": [
    "# list( filter(lambda x: x[4] == \"nl\" and x[5] == \"Netherlands\", valid_resources) )"
   ],
   "metadata": {
    "collapsed": false,
    "ExecuteTime": {
     "end_time": "2023-05-31T20:30:36.849458656Z",
     "start_time": "2023-05-31T20:30:36.817604627Z"
    }
   }
  },
  {
   "cell_type": "code",
   "execution_count": 230,
   "outputs": [
    {
     "name": "stdout",
     "output_type": "stream",
     "text": [
      "Query instance (original outcome : 41260204)\n"
     ]
    },
    {
     "data": {
      "text/plain": "     Status  ACTIVITY Involved_ST_Function_Div Involved_Org_line_3  \\\n0  Accepted  Assigned                     E_10          Org line C   \n\n  Involved_ST SR_Latest_Impact  Product Country Owner_Country  \\\n0    G140 2nd           Medium  PROD453      se        Sweden   \n\n   time_from_first  time_from_previous_et  time_from_midnight weekday  \\\n0        3617038.0               321053.0             24980.0  Monday   \n\n   # ACTIVITY=In Progress  # ACTIVITY=Awaiting Assignment  \\\n0                       7                               2   \n\n   # ACTIVITY=Resolved  # ACTIVITY=Assigned  # ACTIVITY=Closed  \\\n0                    0                    1                  0   \n\n   # ACTIVITY=Wait - User  # ACTIVITY=Wait - Implementation  # ACTIVITY=Wait  \\\n0                       2                                 2                1   \n\n   # ACTIVITY=Wait - Vendor  # ACTIVITY=In Call  # ACTIVITY=Wait - Customer  \\\n0                         0                   0                           0   \n\n   # ACTIVITY=Unmatched  # ACTIVITY=Cancelled   lead_time  \n0                     0                     0  41260204.0  ",
      "text/html": "<div>\n<style scoped>\n    .dataframe tbody tr th:only-of-type {\n        vertical-align: middle;\n    }\n\n    .dataframe tbody tr th {\n        vertical-align: top;\n    }\n\n    .dataframe thead th {\n        text-align: right;\n    }\n</style>\n<table border=\"1\" class=\"dataframe\">\n  <thead>\n    <tr style=\"text-align: right;\">\n      <th></th>\n      <th>Status</th>\n      <th>ACTIVITY</th>\n      <th>Involved_ST_Function_Div</th>\n      <th>Involved_Org_line_3</th>\n      <th>Involved_ST</th>\n      <th>SR_Latest_Impact</th>\n      <th>Product</th>\n      <th>Country</th>\n      <th>Owner_Country</th>\n      <th>time_from_first</th>\n      <th>time_from_previous_et</th>\n      <th>time_from_midnight</th>\n      <th>weekday</th>\n      <th># ACTIVITY=In Progress</th>\n      <th># ACTIVITY=Awaiting Assignment</th>\n      <th># ACTIVITY=Resolved</th>\n      <th># ACTIVITY=Assigned</th>\n      <th># ACTIVITY=Closed</th>\n      <th># ACTIVITY=Wait - User</th>\n      <th># ACTIVITY=Wait - Implementation</th>\n      <th># ACTIVITY=Wait</th>\n      <th># ACTIVITY=Wait - Vendor</th>\n      <th># ACTIVITY=In Call</th>\n      <th># ACTIVITY=Wait - Customer</th>\n      <th># ACTIVITY=Unmatched</th>\n      <th># ACTIVITY=Cancelled</th>\n      <th>lead_time</th>\n    </tr>\n  </thead>\n  <tbody>\n    <tr>\n      <th>0</th>\n      <td>Accepted</td>\n      <td>Assigned</td>\n      <td>E_10</td>\n      <td>Org line C</td>\n      <td>G140 2nd</td>\n      <td>Medium</td>\n      <td>PROD453</td>\n      <td>se</td>\n      <td>Sweden</td>\n      <td>3617038.0</td>\n      <td>321053.0</td>\n      <td>24980.0</td>\n      <td>Monday</td>\n      <td>7</td>\n      <td>2</td>\n      <td>0</td>\n      <td>1</td>\n      <td>0</td>\n      <td>2</td>\n      <td>2</td>\n      <td>1</td>\n      <td>0</td>\n      <td>0</td>\n      <td>0</td>\n      <td>0</td>\n      <td>0</td>\n      <td>41260204.0</td>\n    </tr>\n  </tbody>\n</table>\n</div>"
     },
     "metadata": {},
     "output_type": "display_data"
    },
    {
     "name": "stdout",
     "output_type": "stream",
     "text": [
      "\n",
      "Diverse Counterfactual set (new outcome: [0, 37134182])\n"
     ]
    },
    {
     "data": {
      "text/plain": "  Status ACTIVITY Involved_ST_Function_Div Involved_Org_line_3 Involved_ST  \\\n0      -        -                     V3_3         Org line G1           -   \n1      -        -                      E_6         Org line G1           -   \n2      -        -                      E_7        Org line V10           -   \n3      -        -                        -          Org line H     V50 2nd   \n4      -        -                     A2_4        Org line V11           -   \n5      -     Wait                        -         Org line V2           -   \n6      -        -                     A2_1         Org line V9           -   \n\n  SR_Latest_Impact Product Country Owner_Country time_from_first  \\\n0                -       -       -             -               -   \n1                -       -       -             -               -   \n2                -       -       -             -               -   \n3                -       -       -             -               -   \n4                -       -       -             -               -   \n5                -       -       -             -               -   \n6                -       -       -             -               -   \n\n  time_from_previous_et time_from_midnight weekday # ACTIVITY=In Progress  \\\n0                     -                  -       -                      -   \n1                     -                  -       -                      -   \n2                     -                  -       -                      -   \n3                     -                  -       -                      -   \n4                     -                  -       -                      -   \n5                     -                  -       -                      -   \n6                     -                  -       -                      -   \n\n  # ACTIVITY=Awaiting Assignment # ACTIVITY=Resolved # ACTIVITY=Assigned  \\\n0                              -                   -                   -   \n1                              -                   -                   -   \n2                              -                   -                   -   \n3                              -                   -                   -   \n4                              -                   -                   -   \n5                              -                   -                   -   \n6                              -                   -                   -   \n\n  # ACTIVITY=Closed # ACTIVITY=Wait - User # ACTIVITY=Wait - Implementation  \\\n0                 -                      -                                -   \n1                 -                      -                                -   \n2                 -                      -                                -   \n3                 -                      -                                -   \n4                 -                      -                                -   \n5                 -                      -                                -   \n6                 -                      -                                -   \n\n  # ACTIVITY=Wait # ACTIVITY=Wait - Vendor # ACTIVITY=In Call  \\\n0               -                        -                  -   \n1               -                        -                  -   \n2               -                        -                  -   \n3               -                        -                  -   \n4               -                        -                  -   \n5               -                        -                  -   \n6               -                        -                  -   \n\n  # ACTIVITY=Wait - Customer # ACTIVITY=Unmatched # ACTIVITY=Cancelled  \\\n0                          -                    -                    -   \n1                          -                    -                    -   \n2                          -                    -                    -   \n3                          -                    -                    -   \n4                          -                    -                    -   \n5                          -                    -                    -   \n6                          -                    -                    -   \n\n    lead_time  \n0  32859970.0  \n1  32859970.0  \n2  32859970.0  \n3  32859970.0  \n4  32859970.0  \n5  32859970.0  \n6  32859970.0  ",
      "text/html": "<div>\n<style scoped>\n    .dataframe tbody tr th:only-of-type {\n        vertical-align: middle;\n    }\n\n    .dataframe tbody tr th {\n        vertical-align: top;\n    }\n\n    .dataframe thead th {\n        text-align: right;\n    }\n</style>\n<table border=\"1\" class=\"dataframe\">\n  <thead>\n    <tr style=\"text-align: right;\">\n      <th></th>\n      <th>Status</th>\n      <th>ACTIVITY</th>\n      <th>Involved_ST_Function_Div</th>\n      <th>Involved_Org_line_3</th>\n      <th>Involved_ST</th>\n      <th>SR_Latest_Impact</th>\n      <th>Product</th>\n      <th>Country</th>\n      <th>Owner_Country</th>\n      <th>time_from_first</th>\n      <th>time_from_previous_et</th>\n      <th>time_from_midnight</th>\n      <th>weekday</th>\n      <th># ACTIVITY=In Progress</th>\n      <th># ACTIVITY=Awaiting Assignment</th>\n      <th># ACTIVITY=Resolved</th>\n      <th># ACTIVITY=Assigned</th>\n      <th># ACTIVITY=Closed</th>\n      <th># ACTIVITY=Wait - User</th>\n      <th># ACTIVITY=Wait - Implementation</th>\n      <th># ACTIVITY=Wait</th>\n      <th># ACTIVITY=Wait - Vendor</th>\n      <th># ACTIVITY=In Call</th>\n      <th># ACTIVITY=Wait - Customer</th>\n      <th># ACTIVITY=Unmatched</th>\n      <th># ACTIVITY=Cancelled</th>\n      <th>lead_time</th>\n    </tr>\n  </thead>\n  <tbody>\n    <tr>\n      <th>0</th>\n      <td>-</td>\n      <td>-</td>\n      <td>V3_3</td>\n      <td>Org line G1</td>\n      <td>-</td>\n      <td>-</td>\n      <td>-</td>\n      <td>-</td>\n      <td>-</td>\n      <td>-</td>\n      <td>-</td>\n      <td>-</td>\n      <td>-</td>\n      <td>-</td>\n      <td>-</td>\n      <td>-</td>\n      <td>-</td>\n      <td>-</td>\n      <td>-</td>\n      <td>-</td>\n      <td>-</td>\n      <td>-</td>\n      <td>-</td>\n      <td>-</td>\n      <td>-</td>\n      <td>-</td>\n      <td>32859970.0</td>\n    </tr>\n    <tr>\n      <th>1</th>\n      <td>-</td>\n      <td>-</td>\n      <td>E_6</td>\n      <td>Org line G1</td>\n      <td>-</td>\n      <td>-</td>\n      <td>-</td>\n      <td>-</td>\n      <td>-</td>\n      <td>-</td>\n      <td>-</td>\n      <td>-</td>\n      <td>-</td>\n      <td>-</td>\n      <td>-</td>\n      <td>-</td>\n      <td>-</td>\n      <td>-</td>\n      <td>-</td>\n      <td>-</td>\n      <td>-</td>\n      <td>-</td>\n      <td>-</td>\n      <td>-</td>\n      <td>-</td>\n      <td>-</td>\n      <td>32859970.0</td>\n    </tr>\n    <tr>\n      <th>2</th>\n      <td>-</td>\n      <td>-</td>\n      <td>E_7</td>\n      <td>Org line V10</td>\n      <td>-</td>\n      <td>-</td>\n      <td>-</td>\n      <td>-</td>\n      <td>-</td>\n      <td>-</td>\n      <td>-</td>\n      <td>-</td>\n      <td>-</td>\n      <td>-</td>\n      <td>-</td>\n      <td>-</td>\n      <td>-</td>\n      <td>-</td>\n      <td>-</td>\n      <td>-</td>\n      <td>-</td>\n      <td>-</td>\n      <td>-</td>\n      <td>-</td>\n      <td>-</td>\n      <td>-</td>\n      <td>32859970.0</td>\n    </tr>\n    <tr>\n      <th>3</th>\n      <td>-</td>\n      <td>-</td>\n      <td>-</td>\n      <td>Org line H</td>\n      <td>V50 2nd</td>\n      <td>-</td>\n      <td>-</td>\n      <td>-</td>\n      <td>-</td>\n      <td>-</td>\n      <td>-</td>\n      <td>-</td>\n      <td>-</td>\n      <td>-</td>\n      <td>-</td>\n      <td>-</td>\n      <td>-</td>\n      <td>-</td>\n      <td>-</td>\n      <td>-</td>\n      <td>-</td>\n      <td>-</td>\n      <td>-</td>\n      <td>-</td>\n      <td>-</td>\n      <td>-</td>\n      <td>32859970.0</td>\n    </tr>\n    <tr>\n      <th>4</th>\n      <td>-</td>\n      <td>-</td>\n      <td>A2_4</td>\n      <td>Org line V11</td>\n      <td>-</td>\n      <td>-</td>\n      <td>-</td>\n      <td>-</td>\n      <td>-</td>\n      <td>-</td>\n      <td>-</td>\n      <td>-</td>\n      <td>-</td>\n      <td>-</td>\n      <td>-</td>\n      <td>-</td>\n      <td>-</td>\n      <td>-</td>\n      <td>-</td>\n      <td>-</td>\n      <td>-</td>\n      <td>-</td>\n      <td>-</td>\n      <td>-</td>\n      <td>-</td>\n      <td>-</td>\n      <td>32859970.0</td>\n    </tr>\n    <tr>\n      <th>5</th>\n      <td>-</td>\n      <td>Wait</td>\n      <td>-</td>\n      <td>Org line V2</td>\n      <td>-</td>\n      <td>-</td>\n      <td>-</td>\n      <td>-</td>\n      <td>-</td>\n      <td>-</td>\n      <td>-</td>\n      <td>-</td>\n      <td>-</td>\n      <td>-</td>\n      <td>-</td>\n      <td>-</td>\n      <td>-</td>\n      <td>-</td>\n      <td>-</td>\n      <td>-</td>\n      <td>-</td>\n      <td>-</td>\n      <td>-</td>\n      <td>-</td>\n      <td>-</td>\n      <td>-</td>\n      <td>32859970.0</td>\n    </tr>\n    <tr>\n      <th>6</th>\n      <td>-</td>\n      <td>-</td>\n      <td>A2_1</td>\n      <td>Org line V9</td>\n      <td>-</td>\n      <td>-</td>\n      <td>-</td>\n      <td>-</td>\n      <td>-</td>\n      <td>-</td>\n      <td>-</td>\n      <td>-</td>\n      <td>-</td>\n      <td>-</td>\n      <td>-</td>\n      <td>-</td>\n      <td>-</td>\n      <td>-</td>\n      <td>-</td>\n      <td>-</td>\n      <td>-</td>\n      <td>-</td>\n      <td>-</td>\n      <td>-</td>\n      <td>-</td>\n      <td>-</td>\n      <td>32859970.0</td>\n    </tr>\n  </tbody>\n</table>\n</div>"
     },
     "metadata": {},
     "output_type": "display_data"
    },
    {
     "data": {
      "text/plain": "     Status  ACTIVITY Involved_ST_Function_Div Involved_Org_line_3  \\\n0  Accepted  Assigned                      E_7        Org line V10   \n1  Accepted  Assigned                     E_10          Org line H   \n2  Accepted  Assigned                     A2_4        Org line V11   \n3  Accepted      Wait                     E_10         Org line V2   \n4  Accepted  Assigned                     A2_1         Org line V9   \n\n  Involved_ST SR_Latest_Impact  Product Country Owner_Country time_from_first  \\\n0    G140 2nd           Medium  PROD453      se        Sweden       3617038.0   \n1     V50 2nd           Medium  PROD453      se        Sweden       3617038.0   \n2    G140 2nd           Medium  PROD453      se        Sweden       3617038.0   \n3    G140 2nd           Medium  PROD453      se        Sweden       3617038.0   \n4    G140 2nd           Medium  PROD453      se        Sweden       3617038.0   \n\n  time_from_previous_et time_from_midnight weekday # ACTIVITY=In Progress  \\\n0              321053.0            24980.0  Monday                      7   \n1              321053.0            24980.0  Monday                      7   \n2              321053.0            24980.0  Monday                      7   \n3              321053.0            24980.0  Monday                      7   \n4              321053.0            24980.0  Monday                      7   \n\n  # ACTIVITY=Awaiting Assignment # ACTIVITY=Resolved # ACTIVITY=Assigned  \\\n0                              2                   0                   1   \n1                              2                   0                   1   \n2                              2                   0                   1   \n3                              2                   0                   1   \n4                              2                   0                   1   \n\n  # ACTIVITY=Closed # ACTIVITY=Wait - User # ACTIVITY=Wait - Implementation  \\\n0                 0                      2                                2   \n1                 0                      2                                2   \n2                 0                      2                                2   \n3                 0                      2                                2   \n4                 0                      2                                2   \n\n  # ACTIVITY=Wait # ACTIVITY=Wait - Vendor # ACTIVITY=In Call  \\\n0               1                        0                  0   \n1               1                        0                  0   \n2               1                        0                  0   \n3               1                        0                  0   \n4               1                        0                  0   \n\n  # ACTIVITY=Wait - Customer # ACTIVITY=Unmatched # ACTIVITY=Cancelled  \\\n0                          0                    0                    0   \n1                          0                    0                    0   \n2                          0                    0                    0   \n3                          0                    0                    0   \n4                          0                    0                    0   \n\n    lead_time  \n0  32859970.0  \n1  32859970.0  \n2  32859970.0  \n3  32859970.0  \n4  32859970.0  ",
      "text/html": "<div>\n<style scoped>\n    .dataframe tbody tr th:only-of-type {\n        vertical-align: middle;\n    }\n\n    .dataframe tbody tr th {\n        vertical-align: top;\n    }\n\n    .dataframe thead th {\n        text-align: right;\n    }\n</style>\n<table border=\"1\" class=\"dataframe\">\n  <thead>\n    <tr style=\"text-align: right;\">\n      <th></th>\n      <th>Status</th>\n      <th>ACTIVITY</th>\n      <th>Involved_ST_Function_Div</th>\n      <th>Involved_Org_line_3</th>\n      <th>Involved_ST</th>\n      <th>SR_Latest_Impact</th>\n      <th>Product</th>\n      <th>Country</th>\n      <th>Owner_Country</th>\n      <th>time_from_first</th>\n      <th>time_from_previous_et</th>\n      <th>time_from_midnight</th>\n      <th>weekday</th>\n      <th># ACTIVITY=In Progress</th>\n      <th># ACTIVITY=Awaiting Assignment</th>\n      <th># ACTIVITY=Resolved</th>\n      <th># ACTIVITY=Assigned</th>\n      <th># ACTIVITY=Closed</th>\n      <th># ACTIVITY=Wait - User</th>\n      <th># ACTIVITY=Wait - Implementation</th>\n      <th># ACTIVITY=Wait</th>\n      <th># ACTIVITY=Wait - Vendor</th>\n      <th># ACTIVITY=In Call</th>\n      <th># ACTIVITY=Wait - Customer</th>\n      <th># ACTIVITY=Unmatched</th>\n      <th># ACTIVITY=Cancelled</th>\n      <th>lead_time</th>\n    </tr>\n  </thead>\n  <tbody>\n    <tr>\n      <th>0</th>\n      <td>Accepted</td>\n      <td>Assigned</td>\n      <td>E_7</td>\n      <td>Org line V10</td>\n      <td>G140 2nd</td>\n      <td>Medium</td>\n      <td>PROD453</td>\n      <td>se</td>\n      <td>Sweden</td>\n      <td>3617038.0</td>\n      <td>321053.0</td>\n      <td>24980.0</td>\n      <td>Monday</td>\n      <td>7</td>\n      <td>2</td>\n      <td>0</td>\n      <td>1</td>\n      <td>0</td>\n      <td>2</td>\n      <td>2</td>\n      <td>1</td>\n      <td>0</td>\n      <td>0</td>\n      <td>0</td>\n      <td>0</td>\n      <td>0</td>\n      <td>32859970.0</td>\n    </tr>\n    <tr>\n      <th>1</th>\n      <td>Accepted</td>\n      <td>Assigned</td>\n      <td>E_10</td>\n      <td>Org line H</td>\n      <td>V50 2nd</td>\n      <td>Medium</td>\n      <td>PROD453</td>\n      <td>se</td>\n      <td>Sweden</td>\n      <td>3617038.0</td>\n      <td>321053.0</td>\n      <td>24980.0</td>\n      <td>Monday</td>\n      <td>7</td>\n      <td>2</td>\n      <td>0</td>\n      <td>1</td>\n      <td>0</td>\n      <td>2</td>\n      <td>2</td>\n      <td>1</td>\n      <td>0</td>\n      <td>0</td>\n      <td>0</td>\n      <td>0</td>\n      <td>0</td>\n      <td>32859970.0</td>\n    </tr>\n    <tr>\n      <th>2</th>\n      <td>Accepted</td>\n      <td>Assigned</td>\n      <td>A2_4</td>\n      <td>Org line V11</td>\n      <td>G140 2nd</td>\n      <td>Medium</td>\n      <td>PROD453</td>\n      <td>se</td>\n      <td>Sweden</td>\n      <td>3617038.0</td>\n      <td>321053.0</td>\n      <td>24980.0</td>\n      <td>Monday</td>\n      <td>7</td>\n      <td>2</td>\n      <td>0</td>\n      <td>1</td>\n      <td>0</td>\n      <td>2</td>\n      <td>2</td>\n      <td>1</td>\n      <td>0</td>\n      <td>0</td>\n      <td>0</td>\n      <td>0</td>\n      <td>0</td>\n      <td>32859970.0</td>\n    </tr>\n    <tr>\n      <th>3</th>\n      <td>Accepted</td>\n      <td>Wait</td>\n      <td>E_10</td>\n      <td>Org line V2</td>\n      <td>G140 2nd</td>\n      <td>Medium</td>\n      <td>PROD453</td>\n      <td>se</td>\n      <td>Sweden</td>\n      <td>3617038.0</td>\n      <td>321053.0</td>\n      <td>24980.0</td>\n      <td>Monday</td>\n      <td>7</td>\n      <td>2</td>\n      <td>0</td>\n      <td>1</td>\n      <td>0</td>\n      <td>2</td>\n      <td>2</td>\n      <td>1</td>\n      <td>0</td>\n      <td>0</td>\n      <td>0</td>\n      <td>0</td>\n      <td>0</td>\n      <td>32859970.0</td>\n    </tr>\n    <tr>\n      <th>4</th>\n      <td>Accepted</td>\n      <td>Assigned</td>\n      <td>A2_1</td>\n      <td>Org line V9</td>\n      <td>G140 2nd</td>\n      <td>Medium</td>\n      <td>PROD453</td>\n      <td>se</td>\n      <td>Sweden</td>\n      <td>3617038.0</td>\n      <td>321053.0</td>\n      <td>24980.0</td>\n      <td>Monday</td>\n      <td>7</td>\n      <td>2</td>\n      <td>0</td>\n      <td>1</td>\n      <td>0</td>\n      <td>2</td>\n      <td>2</td>\n      <td>1</td>\n      <td>0</td>\n      <td>0</td>\n      <td>0</td>\n      <td>0</td>\n      <td>0</td>\n      <td>32859970.0</td>\n    </tr>\n  </tbody>\n</table>\n</div>"
     },
     "execution_count": 230,
     "metadata": {},
     "output_type": "execute_result"
    }
   ],
   "source": [
    "cfe.visualize_as_dataframe(show_only_changes=True)\n",
    "print(f\"Valid Counterfactual Set\")\n",
    "cf_examples_df"
   ],
   "metadata": {
    "collapsed": false
   }
  },
  {
   "cell_type": "markdown",
   "source": [
    "### Check Feature Importance score"
   ],
   "metadata": {
    "collapsed": false
   }
  },
  {
   "cell_type": "code",
   "execution_count": null,
   "outputs": [],
   "source": [
    "imp = exp_genetic_iris.local_feature_importance(query_instances, total_CFs=10, desired_range=[0, total_time_upper_bound], features_to_vary=cols_to_vary)\n",
    "imp.local_importance"
   ],
   "metadata": {
    "collapsed": false
   }
  },
  {
   "cell_type": "markdown",
   "source": [
    "## Experiment with Multiple Queries"
   ],
   "metadata": {
    "collapsed": false
   }
  },
  {
   "cell_type": "code",
   "execution_count": 17,
   "outputs": [
    {
     "data": {
      "text/plain": "     SR_Number  Change_Date+Time    Status             ACTIVITY  \\\n0  1-643733486        1326813444  Accepted          In Progress   \n1  1-643733486        1326813477  Accepted          In Progress   \n2  1-643733486        1326813558    Queued  Awaiting Assignment   \n3  1-643733486        1326977851  Accepted          In Progress   \n4  1-643733486        1326977939    Queued  Awaiting Assignment   \n5  1-643733486        1326982060  Accepted          In Progress   \n6  1-643733486        1326982072  Accepted             Assigned   \n7  1-643733486        1326983196  Accepted          In Progress   \n\n  Involved_ST_Function_Div Involved_Org_line_3 Involved_ST SR_Latest_Impact  \\\n0                     A2_1          Org line C          D6           Medium   \n1                     A2_1          Org line C          D6           Medium   \n2                  missing        Org line V7n     V37 2nd           Medium   \n3                  missing        Org line V7n     V37 2nd           Medium   \n4                     A2_1          Org line C          D6           Medium   \n5                     A2_1          Org line C          D6           Medium   \n6                     A2_1          Org line C          D6           Medium   \n7                     A2_1          Org line C          D6           Medium   \n\n   Product Country Owner_Country  time_from_first  time_from_previous_et  \\\n0  PROD542      nl       Belgium              0.0                    0.0   \n1  PROD542      nl       Belgium             33.0                   33.0   \n2  PROD542      nl       Belgium            114.0                   81.0   \n3  PROD542      nl   Netherlands         164407.0               164293.0   \n4  PROD542      nl   Netherlands         164495.0                   88.0   \n5  PROD542      nl       Belgium         168616.0                 4121.0   \n6  PROD542      nl       Belgium         168628.0                   12.0   \n7  PROD542      nl       Belgium         169752.0                 1124.0   \n\n   time_from_midnight   weekday  time_remaining  # ACTIVITY=In Progress  \\\n0             55044.0   Tuesday       9965027.0                       0   \n1             55077.0   Tuesday       9964994.0                       1   \n2             55158.0   Tuesday       9964913.0                       2   \n3             46651.0  Thursday       9800620.0                       2   \n4             46739.0  Thursday       9800532.0                       3   \n5             50860.0  Thursday       9796411.0                       3   \n6             50872.0  Thursday       9796399.0                       4   \n7             51996.0  Thursday       9795275.0                       4   \n\n   # ACTIVITY=Awaiting Assignment  # ACTIVITY=Resolved  # ACTIVITY=Assigned  \\\n0                               0                    0                    0   \n1                               0                    0                    0   \n2                               0                    0                    0   \n3                               1                    0                    0   \n4                               1                    0                    0   \n5                               2                    0                    0   \n6                               2                    0                    0   \n7                               2                    0                    1   \n\n   # ACTIVITY=Closed  # ACTIVITY=Wait - User  \\\n0                  0                       0   \n1                  0                       0   \n2                  0                       0   \n3                  0                       0   \n4                  0                       0   \n5                  0                       0   \n6                  0                       0   \n7                  0                       0   \n\n   # ACTIVITY=Wait - Implementation  # ACTIVITY=Wait  \\\n0                                 0                0   \n1                                 0                0   \n2                                 0                0   \n3                                 0                0   \n4                                 0                0   \n5                                 0                0   \n6                                 0                0   \n7                                 0                0   \n\n   # ACTIVITY=Wait - Vendor  # ACTIVITY=In Call  # ACTIVITY=Wait - Customer  \\\n0                         0                   0                           0   \n1                         0                   0                           0   \n2                         0                   0                           0   \n3                         0                   0                           0   \n4                         0                   0                           0   \n5                         0                   0                           0   \n6                         0                   0                           0   \n7                         0                   0                           0   \n\n   # ACTIVITY=Unmatched  # ACTIVITY=Cancelled  lead_time  \n0                     0                     0  9965027.0  \n1                     0                     0  9965027.0  \n2                     0                     0  9965027.0  \n3                     0                     0  9965027.0  \n4                     0                     0  9965027.0  \n5                     0                     0  9965027.0  \n6                     0                     0  9965027.0  \n7                     0                     0  9965027.0  ",
      "text/html": "<div>\n<style scoped>\n    .dataframe tbody tr th:only-of-type {\n        vertical-align: middle;\n    }\n\n    .dataframe tbody tr th {\n        vertical-align: top;\n    }\n\n    .dataframe thead th {\n        text-align: right;\n    }\n</style>\n<table border=\"1\" class=\"dataframe\">\n  <thead>\n    <tr style=\"text-align: right;\">\n      <th></th>\n      <th>SR_Number</th>\n      <th>Change_Date+Time</th>\n      <th>Status</th>\n      <th>ACTIVITY</th>\n      <th>Involved_ST_Function_Div</th>\n      <th>Involved_Org_line_3</th>\n      <th>Involved_ST</th>\n      <th>SR_Latest_Impact</th>\n      <th>Product</th>\n      <th>Country</th>\n      <th>Owner_Country</th>\n      <th>time_from_first</th>\n      <th>time_from_previous_et</th>\n      <th>time_from_midnight</th>\n      <th>weekday</th>\n      <th>time_remaining</th>\n      <th># ACTIVITY=In Progress</th>\n      <th># ACTIVITY=Awaiting Assignment</th>\n      <th># ACTIVITY=Resolved</th>\n      <th># ACTIVITY=Assigned</th>\n      <th># ACTIVITY=Closed</th>\n      <th># ACTIVITY=Wait - User</th>\n      <th># ACTIVITY=Wait - Implementation</th>\n      <th># ACTIVITY=Wait</th>\n      <th># ACTIVITY=Wait - Vendor</th>\n      <th># ACTIVITY=In Call</th>\n      <th># ACTIVITY=Wait - Customer</th>\n      <th># ACTIVITY=Unmatched</th>\n      <th># ACTIVITY=Cancelled</th>\n      <th>lead_time</th>\n    </tr>\n  </thead>\n  <tbody>\n    <tr>\n      <th>0</th>\n      <td>1-643733486</td>\n      <td>1326813444</td>\n      <td>Accepted</td>\n      <td>In Progress</td>\n      <td>A2_1</td>\n      <td>Org line C</td>\n      <td>D6</td>\n      <td>Medium</td>\n      <td>PROD542</td>\n      <td>nl</td>\n      <td>Belgium</td>\n      <td>0.0</td>\n      <td>0.0</td>\n      <td>55044.0</td>\n      <td>Tuesday</td>\n      <td>9965027.0</td>\n      <td>0</td>\n      <td>0</td>\n      <td>0</td>\n      <td>0</td>\n      <td>0</td>\n      <td>0</td>\n      <td>0</td>\n      <td>0</td>\n      <td>0</td>\n      <td>0</td>\n      <td>0</td>\n      <td>0</td>\n      <td>0</td>\n      <td>9965027.0</td>\n    </tr>\n    <tr>\n      <th>1</th>\n      <td>1-643733486</td>\n      <td>1326813477</td>\n      <td>Accepted</td>\n      <td>In Progress</td>\n      <td>A2_1</td>\n      <td>Org line C</td>\n      <td>D6</td>\n      <td>Medium</td>\n      <td>PROD542</td>\n      <td>nl</td>\n      <td>Belgium</td>\n      <td>33.0</td>\n      <td>33.0</td>\n      <td>55077.0</td>\n      <td>Tuesday</td>\n      <td>9964994.0</td>\n      <td>1</td>\n      <td>0</td>\n      <td>0</td>\n      <td>0</td>\n      <td>0</td>\n      <td>0</td>\n      <td>0</td>\n      <td>0</td>\n      <td>0</td>\n      <td>0</td>\n      <td>0</td>\n      <td>0</td>\n      <td>0</td>\n      <td>9965027.0</td>\n    </tr>\n    <tr>\n      <th>2</th>\n      <td>1-643733486</td>\n      <td>1326813558</td>\n      <td>Queued</td>\n      <td>Awaiting Assignment</td>\n      <td>missing</td>\n      <td>Org line V7n</td>\n      <td>V37 2nd</td>\n      <td>Medium</td>\n      <td>PROD542</td>\n      <td>nl</td>\n      <td>Belgium</td>\n      <td>114.0</td>\n      <td>81.0</td>\n      <td>55158.0</td>\n      <td>Tuesday</td>\n      <td>9964913.0</td>\n      <td>2</td>\n      <td>0</td>\n      <td>0</td>\n      <td>0</td>\n      <td>0</td>\n      <td>0</td>\n      <td>0</td>\n      <td>0</td>\n      <td>0</td>\n      <td>0</td>\n      <td>0</td>\n      <td>0</td>\n      <td>0</td>\n      <td>9965027.0</td>\n    </tr>\n    <tr>\n      <th>3</th>\n      <td>1-643733486</td>\n      <td>1326977851</td>\n      <td>Accepted</td>\n      <td>In Progress</td>\n      <td>missing</td>\n      <td>Org line V7n</td>\n      <td>V37 2nd</td>\n      <td>Medium</td>\n      <td>PROD542</td>\n      <td>nl</td>\n      <td>Netherlands</td>\n      <td>164407.0</td>\n      <td>164293.0</td>\n      <td>46651.0</td>\n      <td>Thursday</td>\n      <td>9800620.0</td>\n      <td>2</td>\n      <td>1</td>\n      <td>0</td>\n      <td>0</td>\n      <td>0</td>\n      <td>0</td>\n      <td>0</td>\n      <td>0</td>\n      <td>0</td>\n      <td>0</td>\n      <td>0</td>\n      <td>0</td>\n      <td>0</td>\n      <td>9965027.0</td>\n    </tr>\n    <tr>\n      <th>4</th>\n      <td>1-643733486</td>\n      <td>1326977939</td>\n      <td>Queued</td>\n      <td>Awaiting Assignment</td>\n      <td>A2_1</td>\n      <td>Org line C</td>\n      <td>D6</td>\n      <td>Medium</td>\n      <td>PROD542</td>\n      <td>nl</td>\n      <td>Netherlands</td>\n      <td>164495.0</td>\n      <td>88.0</td>\n      <td>46739.0</td>\n      <td>Thursday</td>\n      <td>9800532.0</td>\n      <td>3</td>\n      <td>1</td>\n      <td>0</td>\n      <td>0</td>\n      <td>0</td>\n      <td>0</td>\n      <td>0</td>\n      <td>0</td>\n      <td>0</td>\n      <td>0</td>\n      <td>0</td>\n      <td>0</td>\n      <td>0</td>\n      <td>9965027.0</td>\n    </tr>\n    <tr>\n      <th>5</th>\n      <td>1-643733486</td>\n      <td>1326982060</td>\n      <td>Accepted</td>\n      <td>In Progress</td>\n      <td>A2_1</td>\n      <td>Org line C</td>\n      <td>D6</td>\n      <td>Medium</td>\n      <td>PROD542</td>\n      <td>nl</td>\n      <td>Belgium</td>\n      <td>168616.0</td>\n      <td>4121.0</td>\n      <td>50860.0</td>\n      <td>Thursday</td>\n      <td>9796411.0</td>\n      <td>3</td>\n      <td>2</td>\n      <td>0</td>\n      <td>0</td>\n      <td>0</td>\n      <td>0</td>\n      <td>0</td>\n      <td>0</td>\n      <td>0</td>\n      <td>0</td>\n      <td>0</td>\n      <td>0</td>\n      <td>0</td>\n      <td>9965027.0</td>\n    </tr>\n    <tr>\n      <th>6</th>\n      <td>1-643733486</td>\n      <td>1326982072</td>\n      <td>Accepted</td>\n      <td>Assigned</td>\n      <td>A2_1</td>\n      <td>Org line C</td>\n      <td>D6</td>\n      <td>Medium</td>\n      <td>PROD542</td>\n      <td>nl</td>\n      <td>Belgium</td>\n      <td>168628.0</td>\n      <td>12.0</td>\n      <td>50872.0</td>\n      <td>Thursday</td>\n      <td>9796399.0</td>\n      <td>4</td>\n      <td>2</td>\n      <td>0</td>\n      <td>0</td>\n      <td>0</td>\n      <td>0</td>\n      <td>0</td>\n      <td>0</td>\n      <td>0</td>\n      <td>0</td>\n      <td>0</td>\n      <td>0</td>\n      <td>0</td>\n      <td>9965027.0</td>\n    </tr>\n    <tr>\n      <th>7</th>\n      <td>1-643733486</td>\n      <td>1326983196</td>\n      <td>Accepted</td>\n      <td>In Progress</td>\n      <td>A2_1</td>\n      <td>Org line C</td>\n      <td>D6</td>\n      <td>Medium</td>\n      <td>PROD542</td>\n      <td>nl</td>\n      <td>Belgium</td>\n      <td>169752.0</td>\n      <td>1124.0</td>\n      <td>51996.0</td>\n      <td>Thursday</td>\n      <td>9795275.0</td>\n      <td>4</td>\n      <td>2</td>\n      <td>0</td>\n      <td>1</td>\n      <td>0</td>\n      <td>0</td>\n      <td>0</td>\n      <td>0</td>\n      <td>0</td>\n      <td>0</td>\n      <td>0</td>\n      <td>0</td>\n      <td>0</td>\n      <td>9965027.0</td>\n    </tr>\n  </tbody>\n</table>\n</div>"
     },
     "execution_count": 17,
     "metadata": {},
     "output_type": "execute_result"
    }
   ],
   "source": [
    "test_cases[i+1]"
   ],
   "metadata": {
    "collapsed": false
   }
  },
  {
   "cell_type": "code",
   "execution_count": 45,
   "outputs": [],
   "source": [
    "@timeout(120)  # Timeout unit seconds\n",
    "def generate_cfe(query_instances, total_cfs=50):\n",
    "    \"\"\"\n",
    "    Args:\n",
    "        query_instances (pd.DataFrame):\n",
    "        total_time_upper_bound (int): The upper value of the target (y) label.\n",
    "        total_cfs (int): Number of Counterfactual examples (CFEs) to produce via `generate_counterfactuals()`\n",
    "\n",
    "    Returns:\n",
    "        cfe (dice_ml.counterfactual_explanations.CounterfactualExplanations): Dice counterfactual explanations object.\n",
    "    \"\"\"\n",
    "    if KPI == \"activity_occurrence\":\n",
    "        cfe = exp_genetic_iris.generate_counterfactuals(query_instances, total_CFs=15, desired_class=\"opposite\", features_to_vary=cols_to_vary,\n",
    "                                                        permitted_range = {\"ACTIVITY\": ['Service closure Request with network responsibility',\n",
    "                                                                                'Service closure Request with BO responsibility',\n",
    "                                                                                'Pending Request for Reservation Closure', 'Pending Liquidation Request',\n",
    "                                                                                'Request created','Authorization Requested', 'Evaluating Request (NO registered letter)',\n",
    "                                                                                'Network Adjustment Requested', 'Evaluating Request (WITH registered letter)',\n",
    "                                                                                'Pending Request for Network Information']})  # 'Back-Office Adjustment Requested'\n",
    "    return cfe"
   ],
   "metadata": {
    "collapsed": false,
    "ExecuteTime": {
     "end_time": "2023-05-31T20:35:17.966864438Z",
     "start_time": "2023-05-31T20:35:17.924360486Z"
    }
   }
  },
  {
   "cell_type": "code",
   "execution_count": null,
   "outputs": [],
   "source": [
    "# %%capture\n",
    "cfe_before_validation = []\n",
    "cfe_after_validation = []\n",
    "cfe_not_found = []\n",
    "cases_includes_new_data = []\n",
    "cases_too_small = []\n",
    "cases_zero_in_y = []\n",
    "i = 0\n",
    "for df_test_trace in test_cases:\n",
    "\n",
    "    query_case_id = get_case_id(df_test_trace)\n",
    "\n",
    "    if 0 < len(df_test_trace) <= 2:\n",
    "        print(\"too small\", i, df_test_trace[case_id_name].unique().item())\n",
    "        cases_too_small.append( query_case_id )  # , multi=True\n",
    "        continue\n",
    "\n",
    "    X_test, y_test = prepare_df_for_ml(df_test_trace, outcome_name, columns_to_remove=[\"START_DATE\", \"END_DATE\", \"time_remaining\"])\n",
    "\n",
    "    # Check if y_test is 0 then don't generate CFE\n",
    "    if y_test.iloc[-1] == 0:\n",
    "        cases_zero_in_y.append( query_case_id )\n",
    "        continue\n",
    "\n",
    "    # Access the last row of the truncated trace to replicate the behavior of a running trace\n",
    "    query_instances = X_test.iloc[-1:]\n",
    "\n",
    "    try:\n",
    "        cfe = generate_cfe( query_instances, total_cfs=TOTAL_CFS )\n",
    "        cfe_before_validation.append( (query_case_id, cfe) )\n",
    "\n",
    "        prefix_of_activities = get_prefix_of_activities(df_single_trace=df_test_trace, window_size=0, activity_column_name=activity_column_name)\n",
    "        cfe_df = validate_transition(cfe, prefix_of_activities=prefix_of_activities, transition_graph=transition_graph, valid_resources=valid_resources)\n",
    "\n",
    "        if len(cfe_df) > 0:\n",
    "            cfe_after_validation.append( (query_case_id, cfe_df) )\n",
    "\n",
    "    except UserConfigValidationException:\n",
    "        cfe_not_found.append( query_case_id )\n",
    "    except TimeoutError as err:  # When function takes too long\n",
    "        cfe_not_found.append( query_case_id )\n",
    "        print(\"TimeoutError caught:\", err)\n",
    "    except ValueError:\n",
    "        # print(f\"Includes feature not found in training data: {get_case_id(df_test_trace)}\")\n",
    "        cases_includes_new_data.append( query_case_id )\n",
    "    # This error is seen occurring on when running lots of loops on the server\n",
    "    except AttributeError as e:\n",
    "        print(\"AttributeError caught:\", e)\n",
    "    # except Exception as err:\n",
    "    #     print(f\"Broadest Exception handler invoked\", err)\n",
    "\n",
    "    print(f\"====== Start Saving the result ======\")\n",
    "    print(f\"====== End Saving the result ======\")\n",
    "\n",
    "    i+= 1\n",
    "    if i == 20:\n",
    "        break\n"
   ],
   "metadata": {
    "collapsed": false
   }
  },
  {
   "cell_type": "code",
   "execution_count": 47,
   "outputs": [
    {
     "data": {
      "text/plain": "   cfe_before_validation  cfe_after_validation  cfe_not_found   \n0                      2                     0             18  \\\n\n   cases_includes_new_data  cases_too_small  cases_zero_in_y  \n0                        0                0                2  ",
      "text/html": "<div>\n<style scoped>\n    .dataframe tbody tr th:only-of-type {\n        vertical-align: middle;\n    }\n\n    .dataframe tbody tr th {\n        vertical-align: top;\n    }\n\n    .dataframe thead th {\n        text-align: right;\n    }\n</style>\n<table border=\"1\" class=\"dataframe\">\n  <thead>\n    <tr style=\"text-align: right;\">\n      <th></th>\n      <th>cfe_before_validation</th>\n      <th>cfe_after_validation</th>\n      <th>cfe_not_found</th>\n      <th>cases_includes_new_data</th>\n      <th>cases_too_small</th>\n      <th>cases_zero_in_y</th>\n    </tr>\n  </thead>\n  <tbody>\n    <tr>\n      <th>0</th>\n      <td>2</td>\n      <td>0</td>\n      <td>18</td>\n      <td>0</td>\n      <td>0</td>\n      <td>2</td>\n    </tr>\n  </tbody>\n</table>\n</div>"
     },
     "execution_count": 47,
     "metadata": {},
     "output_type": "execute_result"
    }
   ],
   "source": [
    "data = { \"cfe_before_validation\": [ len(cfe_before_validation) ],\n",
    "         \"cfe_after_validation\": [ len(cfe_after_validation) ],\n",
    "         \"cfe_not_found\": [ len(cfe_not_found) ],\n",
    "         \"cases_includes_new_data\": [ len(cases_includes_new_data)],\n",
    "         \"cases_too_small\": [ len(cases_too_small) ],\n",
    "         \"cases_zero_in_y\": [ len(cases_zero_in_y)]}\n",
    "df_result = pd.DataFrame(data)\n",
    "df_result"
   ],
   "metadata": {
    "collapsed": false,
    "ExecuteTime": {
     "end_time": "2023-05-31T20:35:43.719094168Z",
     "start_time": "2023-05-31T20:35:43.675501702Z"
    }
   }
  },
  {
   "cell_type": "code",
   "execution_count": 387,
   "outputs": [
    {
     "data": {
      "text/plain": "     Status     ACTIVITY Involved_ST_Function_Div Involved_Org_line_3  \\\n0  Accepted     Resolved                     V3_2          Org line C   \n1  Accepted  In Progress                     V3_2          Org line H   \n2  Accepted         Wait                     V3_2          Org line C   \n3  Accepted  In Progress                     V3_2        Org line V11   \n4  Accepted  In Progress                     V3_2          Org line C   \n5  Accepted  In Progress                  missing          Org line C   \n6  Accepted  Wait - User                     V3_2         Org line V8   \n\n  Involved_ST SR_Latest_Impact  Product Country Owner_Country time_from_first  \\\n0      G7 3rd           Medium  PROD562      se        Sweden        600134.0   \n1     S45 2nd           Medium  PROD562      se        Sweden        600134.0   \n2         V33           Medium  PROD562      se        Sweden        600134.0   \n3         G49           Medium  PROD562      se        Sweden        600134.0   \n4      L4 2nd           Medium  PROD562      se        Sweden        600134.0   \n5         G49           Medium  PROD562      se        Sweden        600134.0   \n6         G49           Medium  PROD562      se        Sweden        600134.0   \n\n  time_from_previous_et time_from_midnight weekday # ACTIVITY=In Progress  \\\n0                 401.0            45412.0  Monday                      6   \n1                 401.0            45412.0  Monday                      6   \n2                 401.0            45412.0  Monday                      6   \n3                 401.0            45412.0  Monday                      6   \n4                 401.0            45412.0  Monday                      6   \n5                 401.0            45412.0  Monday                      6   \n6                 401.0            45412.0  Monday                      6   \n\n  # ACTIVITY=Awaiting Assignment # ACTIVITY=Resolved # ACTIVITY=Assigned  \\\n0                              7                   0                   0   \n1                              7                   0                   0   \n2                              7                   0                   0   \n3                              7                   0                   0   \n4                              7                   0                   0   \n5                              7                   0                   0   \n6                              7                   0                   0   \n\n  # ACTIVITY=Closed # ACTIVITY=Wait - User # ACTIVITY=Wait - Implementation  \\\n0                 0                      1                                0   \n1                 0                      1                                0   \n2                 0                      1                                0   \n3                 0                      1                                0   \n4                 0                      1                                0   \n5                 0                      1                                0   \n6                 0                      1                                0   \n\n  # ACTIVITY=Wait # ACTIVITY=Wait - Vendor # ACTIVITY=In Call  \\\n0               0                        0                  0   \n1               0                        0                  0   \n2               0                        0                  0   \n3               0                        0                  0   \n4               0                        0                  0   \n5               0                        0                  0   \n6               0                        0                  0   \n\n  # ACTIVITY=Wait - Customer # ACTIVITY=Unmatched # ACTIVITY=Cancelled  \\\n0                          0                    0                    0   \n1                          0                    0                    0   \n2                          0                    0                    0   \n3                          0                    0                    0   \n4                          0                    0                    0   \n5                          0                    0                    0   \n6                          0                    0                    0   \n\n   lead_time  \n0  1188408.0  \n1  1810092.0  \n2  1833501.0  \n3  2512714.0  \n4  1681719.0  \n5  1667908.0  \n6  1819502.0  ",
      "text/html": "<div>\n<style scoped>\n    .dataframe tbody tr th:only-of-type {\n        vertical-align: middle;\n    }\n\n    .dataframe tbody tr th {\n        vertical-align: top;\n    }\n\n    .dataframe thead th {\n        text-align: right;\n    }\n</style>\n<table border=\"1\" class=\"dataframe\">\n  <thead>\n    <tr style=\"text-align: right;\">\n      <th></th>\n      <th>Status</th>\n      <th>ACTIVITY</th>\n      <th>Involved_ST_Function_Div</th>\n      <th>Involved_Org_line_3</th>\n      <th>Involved_ST</th>\n      <th>SR_Latest_Impact</th>\n      <th>Product</th>\n      <th>Country</th>\n      <th>Owner_Country</th>\n      <th>time_from_first</th>\n      <th>time_from_previous_et</th>\n      <th>time_from_midnight</th>\n      <th>weekday</th>\n      <th># ACTIVITY=In Progress</th>\n      <th># ACTIVITY=Awaiting Assignment</th>\n      <th># ACTIVITY=Resolved</th>\n      <th># ACTIVITY=Assigned</th>\n      <th># ACTIVITY=Closed</th>\n      <th># ACTIVITY=Wait - User</th>\n      <th># ACTIVITY=Wait - Implementation</th>\n      <th># ACTIVITY=Wait</th>\n      <th># ACTIVITY=Wait - Vendor</th>\n      <th># ACTIVITY=In Call</th>\n      <th># ACTIVITY=Wait - Customer</th>\n      <th># ACTIVITY=Unmatched</th>\n      <th># ACTIVITY=Cancelled</th>\n      <th>lead_time</th>\n    </tr>\n  </thead>\n  <tbody>\n    <tr>\n      <th>0</th>\n      <td>Accepted</td>\n      <td>Resolved</td>\n      <td>V3_2</td>\n      <td>Org line C</td>\n      <td>G7 3rd</td>\n      <td>Medium</td>\n      <td>PROD562</td>\n      <td>se</td>\n      <td>Sweden</td>\n      <td>600134.0</td>\n      <td>401.0</td>\n      <td>45412.0</td>\n      <td>Monday</td>\n      <td>6</td>\n      <td>7</td>\n      <td>0</td>\n      <td>0</td>\n      <td>0</td>\n      <td>1</td>\n      <td>0</td>\n      <td>0</td>\n      <td>0</td>\n      <td>0</td>\n      <td>0</td>\n      <td>0</td>\n      <td>0</td>\n      <td>1188408.0</td>\n    </tr>\n    <tr>\n      <th>1</th>\n      <td>Accepted</td>\n      <td>In Progress</td>\n      <td>V3_2</td>\n      <td>Org line H</td>\n      <td>S45 2nd</td>\n      <td>Medium</td>\n      <td>PROD562</td>\n      <td>se</td>\n      <td>Sweden</td>\n      <td>600134.0</td>\n      <td>401.0</td>\n      <td>45412.0</td>\n      <td>Monday</td>\n      <td>6</td>\n      <td>7</td>\n      <td>0</td>\n      <td>0</td>\n      <td>0</td>\n      <td>1</td>\n      <td>0</td>\n      <td>0</td>\n      <td>0</td>\n      <td>0</td>\n      <td>0</td>\n      <td>0</td>\n      <td>0</td>\n      <td>1810092.0</td>\n    </tr>\n    <tr>\n      <th>2</th>\n      <td>Accepted</td>\n      <td>Wait</td>\n      <td>V3_2</td>\n      <td>Org line C</td>\n      <td>V33</td>\n      <td>Medium</td>\n      <td>PROD562</td>\n      <td>se</td>\n      <td>Sweden</td>\n      <td>600134.0</td>\n      <td>401.0</td>\n      <td>45412.0</td>\n      <td>Monday</td>\n      <td>6</td>\n      <td>7</td>\n      <td>0</td>\n      <td>0</td>\n      <td>0</td>\n      <td>1</td>\n      <td>0</td>\n      <td>0</td>\n      <td>0</td>\n      <td>0</td>\n      <td>0</td>\n      <td>0</td>\n      <td>0</td>\n      <td>1833501.0</td>\n    </tr>\n    <tr>\n      <th>3</th>\n      <td>Accepted</td>\n      <td>In Progress</td>\n      <td>V3_2</td>\n      <td>Org line V11</td>\n      <td>G49</td>\n      <td>Medium</td>\n      <td>PROD562</td>\n      <td>se</td>\n      <td>Sweden</td>\n      <td>600134.0</td>\n      <td>401.0</td>\n      <td>45412.0</td>\n      <td>Monday</td>\n      <td>6</td>\n      <td>7</td>\n      <td>0</td>\n      <td>0</td>\n      <td>0</td>\n      <td>1</td>\n      <td>0</td>\n      <td>0</td>\n      <td>0</td>\n      <td>0</td>\n      <td>0</td>\n      <td>0</td>\n      <td>0</td>\n      <td>2512714.0</td>\n    </tr>\n    <tr>\n      <th>4</th>\n      <td>Accepted</td>\n      <td>In Progress</td>\n      <td>V3_2</td>\n      <td>Org line C</td>\n      <td>L4 2nd</td>\n      <td>Medium</td>\n      <td>PROD562</td>\n      <td>se</td>\n      <td>Sweden</td>\n      <td>600134.0</td>\n      <td>401.0</td>\n      <td>45412.0</td>\n      <td>Monday</td>\n      <td>6</td>\n      <td>7</td>\n      <td>0</td>\n      <td>0</td>\n      <td>0</td>\n      <td>1</td>\n      <td>0</td>\n      <td>0</td>\n      <td>0</td>\n      <td>0</td>\n      <td>0</td>\n      <td>0</td>\n      <td>0</td>\n      <td>1681719.0</td>\n    </tr>\n    <tr>\n      <th>5</th>\n      <td>Accepted</td>\n      <td>In Progress</td>\n      <td>missing</td>\n      <td>Org line C</td>\n      <td>G49</td>\n      <td>Medium</td>\n      <td>PROD562</td>\n      <td>se</td>\n      <td>Sweden</td>\n      <td>600134.0</td>\n      <td>401.0</td>\n      <td>45412.0</td>\n      <td>Monday</td>\n      <td>6</td>\n      <td>7</td>\n      <td>0</td>\n      <td>0</td>\n      <td>0</td>\n      <td>1</td>\n      <td>0</td>\n      <td>0</td>\n      <td>0</td>\n      <td>0</td>\n      <td>0</td>\n      <td>0</td>\n      <td>0</td>\n      <td>1667908.0</td>\n    </tr>\n    <tr>\n      <th>6</th>\n      <td>Accepted</td>\n      <td>Wait - User</td>\n      <td>V3_2</td>\n      <td>Org line V8</td>\n      <td>G49</td>\n      <td>Medium</td>\n      <td>PROD562</td>\n      <td>se</td>\n      <td>Sweden</td>\n      <td>600134.0</td>\n      <td>401.0</td>\n      <td>45412.0</td>\n      <td>Monday</td>\n      <td>6</td>\n      <td>7</td>\n      <td>0</td>\n      <td>0</td>\n      <td>0</td>\n      <td>1</td>\n      <td>0</td>\n      <td>0</td>\n      <td>0</td>\n      <td>0</td>\n      <td>0</td>\n      <td>0</td>\n      <td>0</td>\n      <td>1819502.0</td>\n    </tr>\n  </tbody>\n</table>\n</div>"
     },
     "execution_count": 387,
     "metadata": {},
     "output_type": "execute_result"
    }
   ],
   "source": [
    "# for _, cfe in cfes_list:\n",
    "#     cfe.visualize_as_dataframe(show_only_changes=True)\n",
    "cfes_list[9][1]"
   ],
   "metadata": {
    "collapsed": false
   }
  },
  {
   "cell_type": "markdown",
   "source": [
    "## Observation\n",
    "The output usually comes within 2 minutes"
   ],
   "metadata": {
    "collapsed": false
   }
  },
  {
   "cell_type": "code",
   "execution_count": null,
   "outputs": [],
   "source": [
    "query_instances = X_train[sidx: eidx]\n",
    "cfe = exp_genetic_iris.generate_counterfactuals(query_instances, total_CFs=5, desired_class=\"opposite\", features_to_vary=cols_to_vary)\n",
    "cfe.visualize_as_dataframe(show_only_changes=True)\n",
    "\n",
    "genetic_cfes = []\n",
    "\n",
    "for idx, query_instances in X_train.iterrows():\n",
    "    query_instances = query_instances.to_frame().transpose()\n",
    "    # query_instances = X_train[0:1]  # an interesting query`\n",
    "\n",
    "    cfe = exp_genetic_iris.generate_counterfactuals(query_instances, total_CFs=5, desired_class=\"opposite\", features_to_vary=cols_to_vary)\n",
    "\n",
    "    genetic_cfes.append( (idx, cfe) )"
   ],
   "metadata": {
    "collapsed": false
   }
  },
  {
   "cell_type": "markdown",
   "source": [
    "## Deprecated Code"
   ],
   "metadata": {
    "collapsed": false
   }
  },
  {
   "cell_type": "markdown",
   "source": [
    "### Implement Test-Code progress \"save & load\""
   ],
   "metadata": {
    "collapsed": false
   }
  },
  {
   "cell_type": "code",
   "execution_count": 19,
   "outputs": [
    {
     "name": "stdout",
     "output_type": "stream",
     "text": [
      "Progress Bar: 200\n"
     ]
    }
   ],
   "source": [
    "save_load_dir = \"../\" + RESULTS_FILE_PATH_N_NAME.split(\".\")[0]\n",
    "save_load_path = save_load_dir + \".pkl\"\n",
    "i = 2\n",
    "\n",
    "# # === Pickle this dataset for comparison of different methods\n",
    "# with open( save_load_path, 'wb' ) as file:\n",
    "#     pickle.dump(i, file)\n",
    "# print(f\"Progress Bar: {i}\")\n",
    "\n",
    "# # === Unpickle the Standard test-set. To standardize the test across different parameters.\n",
    "# with open( save_load_path, 'rb' ) as file:\n",
    "#     i = pickle.load(file)\n",
    "# print(f\"Progress Bar: {i}\")"
   ],
   "metadata": {
    "collapsed": false,
    "ExecuteTime": {
     "end_time": "2023-05-31T17:38:17.109712982Z",
     "start_time": "2023-05-31T17:38:17.059099397Z"
    }
   }
  },
  {
   "cell_type": "code",
   "execution_count": 22,
   "outputs": [
    {
     "data": {
      "text/plain": "[(1, 4, 7), (2, 5, 8), (3, 6, 9)]"
     },
     "execution_count": 22,
     "metadata": {},
     "output_type": "execute_result"
    }
   ],
   "source": [
    "a = [(1, 2, 3), (4, 5, 6), (7, 8, 9)]\n",
    "list( zip(*a) )"
   ],
   "metadata": {
    "collapsed": false,
    "ExecuteTime": {
     "end_time": "2023-05-31T19:56:01.406057184Z",
     "start_time": "2023-05-31T19:56:01.357585914Z"
    }
   }
  },
  {
   "cell_type": "code",
   "execution_count": null,
   "outputs": [],
   "source": [
    "def validate_transition(cfe):\n",
    "    \"\"\" Deprecated function.\n",
    "    Works with transition graph which has single activity as key.\n",
    "    Args:\n",
    "        cfe: Dice counterfactual object.\n",
    "    \"\"\"\n",
    "    cf_examples_df = cfe.cf_examples_list[0].final_cfs_df.copy()\n",
    "\n",
    "    # expected_next_action = cfe.cf_examples_list[0].test_instance_df[activity_column_name].item()\n",
    "    # print(f\"Expected next action: {expected_next_action}\")\n",
    "\n",
    "    current_activity = current_step[activity_column_name].item()\n",
    "    # === Verify the next activity\n",
    "    indexes_to_drop = []\n",
    "    for idx, suggested_next_activity in cf_examples_df[activity_column_name].items():\n",
    "        # print(f\"index: {idx}, Suggest: {suggested_next_activity}\")\n",
    "        if suggested_next_activity not in transition_graph[current_activity]:\n",
    "            indexes_to_drop.append(idx)\n",
    "\n",
    "    cf_examples_df = cf_examples_df.drop(indexes_to_drop, axis='index').reset_index(drop=True)\n",
    "\n",
    "    # === Verify the associated resources\n",
    "    indexes_to_drop = []\n",
    "    for idx, row in cf_examples_df[ [\"ACTIVITY\", \"Involved_ST_Function_Div\"] ].iterrows():\n",
    "        row_tuple = tuple(row)\n",
    "        if row_tuple not in valid_resources:\n",
    "            # print(f\"removed row had: {row_tuple}\")\n",
    "            indexes_to_drop.append(idx)\n",
    "\n",
    "    cf_examples_df = cf_examples_df.drop(indexes_to_drop, axis='index').reset_index(drop=True)\n",
    "    return cf_examples_df"
   ],
   "metadata": {
    "collapsed": false
   }
  }
 ],
 "metadata": {
  "kernelspec": {
   "display_name": "Python 3",
   "language": "python",
   "name": "python3"
  },
  "language_info": {
   "codemirror_mode": {
    "name": "ipython",
    "version": 2
   },
   "file_extension": ".py",
   "mimetype": "text/x-python",
   "name": "python",
   "nbconvert_exporter": "python",
   "pygments_lexer": "ipython2",
   "version": "2.7.6"
  }
 },
 "nbformat": 4,
 "nbformat_minor": 0
}
